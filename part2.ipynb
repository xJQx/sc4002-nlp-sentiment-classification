{
 "cells": [
  {
   "cell_type": "markdown",
   "metadata": {},
   "source": [
    "# Part 2. Model Training & Evaluation - RNN"
   ]
  },
  {
   "cell_type": "markdown",
   "metadata": {},
   "source": [
    "## Prepare embedding matrix and metadata"
   ]
  },
  {
   "cell_type": "code",
   "execution_count": 19,
   "metadata": {},
   "outputs": [],
   "source": [
    "import json\n",
    "from pathlib import Path\n",
    "\n",
    "import numpy as np\n",
    "\n",
    "embedding_path = Path(\"models/embedding_matrix.npy\")\n",
    "index_from_word_path = Path(\"models/index_from_word.json\")\n",
    "\n",
    "embedding_matrix = np.load(embedding_path)\n",
    "with index_from_word_path.open() as f:\n",
    "    index_from_word = json.load(f)"
   ]
  },
  {
   "cell_type": "markdown",
   "metadata": {},
   "source": [
    "## Prepare dataset"
   ]
  },
  {
   "cell_type": "code",
   "execution_count": null,
   "metadata": {},
   "outputs": [],
   "source": [
    "from utils.text import tokenize\n",
    "from datasets import load_dataset\n",
    "\n",
    "dataset = load_dataset(\"rotten_tomatoes\")\n",
    "train_dataset = tokenize(dataset[\"train\"])\n",
    "val_dataset = tokenize(dataset[\"validation\"])\n",
    "test_dataset = tokenize(dataset[\"test\"])"
   ]
  },
  {
   "cell_type": "code",
   "execution_count": null,
   "metadata": {},
   "outputs": [],
   "source": [
    "from utils.text import token_to_index\n",
    "\n",
    "train_dataset = token_to_index(dataset=train_dataset, index_from_word=index_from_word)\n",
    "val_dataset = token_to_index(dataset=val_dataset, index_from_word=index_from_word)\n",
    "test_dataset = token_to_index(dataset=test_dataset, index_from_word=index_from_word)"
   ]
  },
  {
   "cell_type": "code",
   "execution_count": 22,
   "metadata": {},
   "outputs": [],
   "source": [
    "train_dataset = train_dataset.select_columns([\"label\", \"original_len\", \"indexes\"])\n",
    "val_dataset = val_dataset.select_columns([\"label\", \"original_len\", \"indexes\"])\n",
    "test_dataset = test_dataset.select_columns([\"label\", \"original_len\", \"indexes\"])"
   ]
  },
  {
   "cell_type": "code",
   "execution_count": 23,
   "metadata": {},
   "outputs": [],
   "source": [
    "train_dataset.set_format(type=\"torch\")\n",
    "val_dataset.set_format(type=\"torch\")\n",
    "test_dataset.set_format(type=\"torch\")"
   ]
  },
  {
   "cell_type": "code",
   "execution_count": 24,
   "metadata": {},
   "outputs": [
    {
     "data": {
      "text/plain": [
       "Dataset({\n",
       "    features: ['label', 'original_len', 'indexes'],\n",
       "    num_rows: 8530\n",
       "})"
      ]
     },
     "execution_count": 24,
     "metadata": {},
     "output_type": "execute_result"
    }
   ],
   "source": [
    "train_dataset"
   ]
  },
  {
   "cell_type": "markdown",
   "metadata": {},
   "source": [
    "## Train RNN Model"
   ]
  },
  {
   "cell_type": "code",
   "execution_count": 164,
   "metadata": {},
   "outputs": [],
   "source": [
    "SEARCH_SPACE = {\n",
    "    \"batch_size\": [32, 64, 128, 256, 512, 1024, 2048],\n",
    "    \"learning_rate\": [1e-5, 1e-4, 1e-3, 1e-2, 1e-1],\n",
    "    \"optimizer_name\": [\"SGD\", \"Adagrad\", \"RMSprop\", \"Adam\"],\n",
    "    # RNN Model Parameters\n",
    "    \"hidden_dim\": [256, 128, 64, 32],\n",
    "    \"num_layers\": [1, 2, 4],\n",
    "    \"sentence_representation_type\": [\"last\", \"average\", \"max\"],\n",
    "}"
   ]
  },
  {
   "cell_type": "code",
   "execution_count": null,
   "metadata": {},
   "outputs": [],
   "source": [
    "from utils.train import train_rnn_model_with_parameters\n",
    "\n",
    "for hidden_dim in SEARCH_SPACE[\"hidden_dim\"]:\n",
    "    for num_layers in SEARCH_SPACE[\"num_layers\"]:\n",
    "        for optimizer_name in SEARCH_SPACE[\"optimizer_name\"]:\n",
    "            for batch_size in SEARCH_SPACE[\"batch_size\"]:\n",
    "                for learning_rate in SEARCH_SPACE[\"learning_rate\"]:\n",
    "                    for sentence_representation_type in SEARCH_SPACE[\"sentence_representation_type\"]:\n",
    "                        log_message = f\"---------- batch_size_{batch_size}; lr_{learning_rate}; optimizer_{optimizer_name}; hidden_dim_{hidden_dim}; num_layers_{num_layers}; sentence_representation_{sentence_representation_type}  ----------\"\n",
    "                        print(log_message)\n",
    "                        train_rnn_model_with_parameters(\n",
    "                            embedding_matrix=embedding_matrix,\n",
    "                            train_dataset=train_dataset,\n",
    "                            val_dataset=val_dataset,\n",
    "                            batch_size=batch_size,\n",
    "                            learning_rate=learning_rate,\n",
    "                            optimizer_name=optimizer_name,\n",
    "                            hidden_dim=hidden_dim,\n",
    "                            num_layers=num_layers,\n",
    "                            sentence_representation_type=sentence_representation_type,\n",
    "                            show_progress=True,\n",
    "                        )"
   ]
  },
  {
   "cell_type": "markdown",
   "metadata": {},
   "source": [
    "## Model Configurations Comparison"
   ]
  },
  {
   "cell_type": "code",
   "execution_count": 137,
   "metadata": {},
   "outputs": [
    {
     "data": {
      "text/html": [
       "<div>\n",
       "<style scoped>\n",
       "    .dataframe tbody tr th:only-of-type {\n",
       "        vertical-align: middle;\n",
       "    }\n",
       "\n",
       "    .dataframe tbody tr th {\n",
       "        vertical-align: top;\n",
       "    }\n",
       "\n",
       "    .dataframe thead th {\n",
       "        text-align: right;\n",
       "    }\n",
       "</style>\n",
       "<table border=\"1\" class=\"dataframe\">\n",
       "  <thead>\n",
       "    <tr style=\"text-align: right;\">\n",
       "      <th></th>\n",
       "      <th>val_acc</th>\n",
       "      <th>train_acc</th>\n",
       "      <th>batch_size</th>\n",
       "      <th>hidden_dim</th>\n",
       "      <th>learning_rate</th>\n",
       "      <th>optimizer_name</th>\n",
       "      <th>num_layers</th>\n",
       "      <th>sentence_representation_type</th>\n",
       "      <th>steps</th>\n",
       "      <th>train_loss</th>\n",
       "      <th>val_loss</th>\n",
       "      <th>filename</th>\n",
       "    </tr>\n",
       "  </thead>\n",
       "  <tbody>\n",
       "    <tr>\n",
       "      <th>0</th>\n",
       "      <td>0.757974</td>\n",
       "      <td>0.807068</td>\n",
       "      <td>2048</td>\n",
       "      <td>256</td>\n",
       "      <td>0.00001</td>\n",
       "      <td>Adam</td>\n",
       "      <td>1</td>\n",
       "      <td>last</td>\n",
       "      <td>1449.0</td>\n",
       "      <td>0.454111</td>\n",
       "      <td>0.491301</td>\n",
       "      <td>events.out.tfevents.1729879439.yuriarch.4562.53</td>\n",
       "    </tr>\n",
       "    <tr>\n",
       "      <th>1</th>\n",
       "      <td>0.757172</td>\n",
       "      <td>0.802853</td>\n",
       "      <td>1024</td>\n",
       "      <td>256</td>\n",
       "      <td>0.00010</td>\n",
       "      <td>Adam</td>\n",
       "      <td>1</td>\n",
       "      <td>last</td>\n",
       "      <td>349.0</td>\n",
       "      <td>0.427634</td>\n",
       "      <td>0.488983</td>\n",
       "      <td>events.out.tfevents.1729880467.yuriarch.4562.55</td>\n",
       "    </tr>\n",
       "    <tr>\n",
       "      <th>2</th>\n",
       "      <td>0.754683</td>\n",
       "      <td>0.778416</td>\n",
       "      <td>1024</td>\n",
       "      <td>128</td>\n",
       "      <td>0.00010</td>\n",
       "      <td>Adam</td>\n",
       "      <td>1</td>\n",
       "      <td>last</td>\n",
       "      <td>549.0</td>\n",
       "      <td>0.464212</td>\n",
       "      <td>0.483763</td>\n",
       "      <td>events.out.tfevents.1729882559.yuriarch.4562.61</td>\n",
       "    </tr>\n",
       "    <tr>\n",
       "      <th>3</th>\n",
       "      <td>0.749685</td>\n",
       "      <td>0.783276</td>\n",
       "      <td>1024</td>\n",
       "      <td>128</td>\n",
       "      <td>0.00010</td>\n",
       "      <td>Adam</td>\n",
       "      <td>2</td>\n",
       "      <td>average</td>\n",
       "      <td>1099.0</td>\n",
       "      <td>0.458963</td>\n",
       "      <td>0.499223</td>\n",
       "      <td>events.out.tfevents.1729883053.yuriarch.4562.64</td>\n",
       "    </tr>\n",
       "    <tr>\n",
       "      <th>4</th>\n",
       "      <td>0.747005</td>\n",
       "      <td>0.819788</td>\n",
       "      <td>1024</td>\n",
       "      <td>128</td>\n",
       "      <td>0.00010</td>\n",
       "      <td>Adam</td>\n",
       "      <td>4</td>\n",
       "      <td>last</td>\n",
       "      <td>449.0</td>\n",
       "      <td>0.398053</td>\n",
       "      <td>0.492108</td>\n",
       "      <td>events.out.tfevents.1729883387.yuriarch.4562.65</td>\n",
       "    </tr>\n",
       "    <tr>\n",
       "      <th>5</th>\n",
       "      <td>0.746843</td>\n",
       "      <td>0.819348</td>\n",
       "      <td>1024</td>\n",
       "      <td>256</td>\n",
       "      <td>0.00010</td>\n",
       "      <td>Adam</td>\n",
       "      <td>1</td>\n",
       "      <td>last</td>\n",
       "      <td>299.0</td>\n",
       "      <td>0.412483</td>\n",
       "      <td>0.490003</td>\n",
       "      <td>events.out.tfevents.1729878898.yuriarch.4562.49</td>\n",
       "    </tr>\n",
       "    <tr>\n",
       "      <th>6</th>\n",
       "      <td>0.746612</td>\n",
       "      <td>0.814443</td>\n",
       "      <td>1024</td>\n",
       "      <td>256</td>\n",
       "      <td>0.00001</td>\n",
       "      <td>Adam</td>\n",
       "      <td>1</td>\n",
       "      <td>last</td>\n",
       "      <td>1349.0</td>\n",
       "      <td>0.431975</td>\n",
       "      <td>0.492996</td>\n",
       "      <td>events.out.tfevents.1729878529.yuriarch.4562.48</td>\n",
       "    </tr>\n",
       "    <tr>\n",
       "      <th>7</th>\n",
       "      <td>0.742492</td>\n",
       "      <td>0.796431</td>\n",
       "      <td>1024</td>\n",
       "      <td>256</td>\n",
       "      <td>0.00010</td>\n",
       "      <td>Adam</td>\n",
       "      <td>2</td>\n",
       "      <td>last</td>\n",
       "      <td>249.0</td>\n",
       "      <td>0.460812</td>\n",
       "      <td>0.496632</td>\n",
       "      <td>events.out.tfevents.1729881152.yuriarch.4562.57</td>\n",
       "    </tr>\n",
       "    <tr>\n",
       "      <th>8</th>\n",
       "      <td>0.739449</td>\n",
       "      <td>0.791667</td>\n",
       "      <td>1024</td>\n",
       "      <td>128</td>\n",
       "      <td>0.00010</td>\n",
       "      <td>Adam</td>\n",
       "      <td>2</td>\n",
       "      <td>last</td>\n",
       "      <td>449.0</td>\n",
       "      <td>0.467429</td>\n",
       "      <td>0.507560</td>\n",
       "      <td>events.out.tfevents.1729882970.yuriarch.4562.63</td>\n",
       "    </tr>\n",
       "    <tr>\n",
       "      <th>9</th>\n",
       "      <td>0.739327</td>\n",
       "      <td>0.815672</td>\n",
       "      <td>1024</td>\n",
       "      <td>128</td>\n",
       "      <td>0.00010</td>\n",
       "      <td>Adam</td>\n",
       "      <td>1</td>\n",
       "      <td>average</td>\n",
       "      <td>1199.0</td>\n",
       "      <td>0.454116</td>\n",
       "      <td>0.509695</td>\n",
       "      <td>events.out.tfevents.1729882639.yuriarch.4562.62</td>\n",
       "    </tr>\n",
       "  </tbody>\n",
       "</table>\n",
       "</div>"
      ],
      "text/plain": [
       "    val_acc  train_acc  batch_size  hidden_dim  learning_rate optimizer_name  \\\n",
       "0  0.757974   0.807068        2048         256        0.00001           Adam   \n",
       "1  0.757172   0.802853        1024         256        0.00010           Adam   \n",
       "2  0.754683   0.778416        1024         128        0.00010           Adam   \n",
       "3  0.749685   0.783276        1024         128        0.00010           Adam   \n",
       "4  0.747005   0.819788        1024         128        0.00010           Adam   \n",
       "5  0.746843   0.819348        1024         256        0.00010           Adam   \n",
       "6  0.746612   0.814443        1024         256        0.00001           Adam   \n",
       "7  0.742492   0.796431        1024         256        0.00010           Adam   \n",
       "8  0.739449   0.791667        1024         128        0.00010           Adam   \n",
       "9  0.739327   0.815672        1024         128        0.00010           Adam   \n",
       "\n",
       "   num_layers sentence_representation_type   steps  train_loss  val_loss  \\\n",
       "0           1                         last  1449.0    0.454111  0.491301   \n",
       "1           1                         last   349.0    0.427634  0.488983   \n",
       "2           1                         last   549.0    0.464212  0.483763   \n",
       "3           2                      average  1099.0    0.458963  0.499223   \n",
       "4           4                         last   449.0    0.398053  0.492108   \n",
       "5           1                         last   299.0    0.412483  0.490003   \n",
       "6           1                         last  1349.0    0.431975  0.492996   \n",
       "7           2                         last   249.0    0.460812  0.496632   \n",
       "8           2                         last   449.0    0.467429  0.507560   \n",
       "9           1                      average  1199.0    0.454116  0.509695   \n",
       "\n",
       "                                          filename  \n",
       "0  events.out.tfevents.1729879439.yuriarch.4562.53  \n",
       "1  events.out.tfevents.1729880467.yuriarch.4562.55  \n",
       "2  events.out.tfevents.1729882559.yuriarch.4562.61  \n",
       "3  events.out.tfevents.1729883053.yuriarch.4562.64  \n",
       "4  events.out.tfevents.1729883387.yuriarch.4562.65  \n",
       "5  events.out.tfevents.1729878898.yuriarch.4562.49  \n",
       "6  events.out.tfevents.1729878529.yuriarch.4562.48  \n",
       "7  events.out.tfevents.1729881152.yuriarch.4562.57  \n",
       "8  events.out.tfevents.1729882970.yuriarch.4562.63  \n",
       "9  events.out.tfevents.1729882639.yuriarch.4562.62  "
      ]
     },
     "execution_count": 137,
     "metadata": {},
     "output_type": "execute_result"
    }
   ],
   "source": [
    "from utils.analytics import load_tensorboard_logs\n",
    "\n",
    "train_results_df = load_tensorboard_logs(log_dir=\"tb_logs\")\n",
    "train_results_df = train_results_df.sort_values(\n",
    "    by=[\"val_acc\"], ascending=False\n",
    ").reset_index(drop=True)\n",
    "train_results_df.head(10)"
   ]
  },
  {
   "cell_type": "markdown",
   "metadata": {},
   "source": [
    "# (a) Final Configuration of best model"
   ]
  },
  {
   "cell_type": "code",
   "execution_count": 138,
   "metadata": {},
   "outputs": [
    {
     "data": {
      "text/html": [
       "<div>\n",
       "<style scoped>\n",
       "    .dataframe tbody tr th:only-of-type {\n",
       "        vertical-align: middle;\n",
       "    }\n",
       "\n",
       "    .dataframe tbody tr th {\n",
       "        vertical-align: top;\n",
       "    }\n",
       "\n",
       "    .dataframe thead th {\n",
       "        text-align: right;\n",
       "    }\n",
       "</style>\n",
       "<table border=\"1\" class=\"dataframe\">\n",
       "  <thead>\n",
       "    <tr style=\"text-align: right;\">\n",
       "      <th></th>\n",
       "      <th>val_acc</th>\n",
       "      <th>train_acc</th>\n",
       "      <th>batch_size</th>\n",
       "      <th>hidden_dim</th>\n",
       "      <th>learning_rate</th>\n",
       "      <th>optimizer_name</th>\n",
       "      <th>num_layers</th>\n",
       "      <th>sentence_representation_type</th>\n",
       "      <th>steps</th>\n",
       "      <th>train_loss</th>\n",
       "      <th>val_loss</th>\n",
       "      <th>filename</th>\n",
       "    </tr>\n",
       "  </thead>\n",
       "  <tbody>\n",
       "    <tr>\n",
       "      <th>0</th>\n",
       "      <td>0.757974</td>\n",
       "      <td>0.807068</td>\n",
       "      <td>2048</td>\n",
       "      <td>256</td>\n",
       "      <td>0.00001</td>\n",
       "      <td>Adam</td>\n",
       "      <td>1</td>\n",
       "      <td>last</td>\n",
       "      <td>1449.0</td>\n",
       "      <td>0.454111</td>\n",
       "      <td>0.491301</td>\n",
       "      <td>events.out.tfevents.1729879439.yuriarch.4562.53</td>\n",
       "    </tr>\n",
       "  </tbody>\n",
       "</table>\n",
       "</div>"
      ],
      "text/plain": [
       "    val_acc  train_acc  batch_size  hidden_dim  learning_rate optimizer_name  \\\n",
       "0  0.757974   0.807068        2048         256        0.00001           Adam   \n",
       "\n",
       "   num_layers sentence_representation_type   steps  train_loss  val_loss  \\\n",
       "0           1                         last  1449.0    0.454111  0.491301   \n",
       "\n",
       "                                          filename  \n",
       "0  events.out.tfevents.1729879439.yuriarch.4562.53  "
      ]
     },
     "execution_count": 138,
     "metadata": {},
     "output_type": "execute_result"
    }
   ],
   "source": [
    "best_rnn_model_configuration = train_results_df.head(1)\n",
    "best_rnn_model_configuration"
   ]
  },
  {
   "cell_type": "code",
   "execution_count": 152,
   "metadata": {},
   "outputs": [
    {
     "name": "stdout",
     "output_type": "stream",
     "text": [
      "RNNClassifier(\n",
      "  (model): RNN(\n",
      "    (embedding): Embedding(14687, 300)\n",
      "    (rnn): RNN(300, 256, batch_first=True)\n",
      "    (fc): Linear(in_features=256, out_features=128, bias=True)\n",
      "    (relu): ReLU()\n",
      "    (fc2): Linear(in_features=128, out_features=2, bias=True)\n",
      "  )\n",
      "  (metric): MulticlassAccuracy()\n",
      ")\n"
     ]
    },
    {
     "name": "stderr",
     "output_type": "stream",
     "text": [
      "/home/yuri/miniconda3/envs/habitat/lib/python3.9/site-packages/lightning/pytorch/utilities/parsing.py:208: Attribute 'rnn_model' is an instance of `nn.Module` and is already saved during checkpointing. It is recommended to ignore them using `self.save_hyperparameters(ignore=['rnn_model'])`.\n"
     ]
    }
   ],
   "source": [
    "from pathlib import Path\n",
    "\n",
    "\n",
    "best_rnn_model_filename = best_rnn_model_configuration[\"filename\"].item()\n",
    "matched_files = list(Path().rglob(best_rnn_model_filename))\n",
    "\n",
    "if not matched_files:\n",
    "    print(\"Model checkpoint not found!\")\n",
    "else:\n",
    "    checkpoint_dir = matched_files[0].parent / \"checkpoints\"\n",
    "    checkpoint_files = (\n",
    "        list(checkpoint_dir.glob(\"*.ckpt\")) if checkpoint_dir.exists() else []\n",
    "    )\n",
    "\n",
    "    if not checkpoint_files:\n",
    "        print(\"No checkpoint files found in the checkpoint directory!\")\n",
    "    else:\n",
    "        best_checkpoint = checkpoint_files[0] \n",
    "        best_rnn_model = RNNClassifier.load_from_checkpoint(best_checkpoint)\n",
    "        print(best_rnn_model)"
   ]
  },
  {
   "cell_type": "markdown",
   "metadata": {},
   "source": [
    "# (b) Accuracy on Testset"
   ]
  },
  {
   "cell_type": "code",
   "execution_count": 157,
   "metadata": {},
   "outputs": [
    {
     "name": "stderr",
     "output_type": "stream",
     "text": [
      "GPU available: True (cuda), used: False\n",
      "TPU available: False, using: 0 TPU cores\n",
      "HPU available: False, using: 0 HPUs\n"
     ]
    },
    {
     "name": "stderr",
     "output_type": "stream",
     "text": [
      "/home/yuri/miniconda3/envs/habitat/lib/python3.9/site-packages/lightning/pytorch/trainer/setup.py:177: GPU available but not used. You can set it by doing `Trainer(accelerator='gpu')`.\n"
     ]
    },
    {
     "data": {
      "application/vnd.jupyter.widget-view+json": {
       "model_id": "7340312d11b54601832c1a5cf864dafc",
       "version_major": 2,
       "version_minor": 0
      },
      "text/plain": [
       "Testing: |          | 0/? [00:00<?, ?it/s]"
      ]
     },
     "metadata": {},
     "output_type": "display_data"
    },
    {
     "data": {
      "text/html": [
       "<pre style=\"white-space:pre;overflow-x:auto;line-height:normal;font-family:Menlo,'DejaVu Sans Mono',consolas,'Courier New',monospace\">┏━━━━━━━━━━━━━━━━━━━━━━━━━━━┳━━━━━━━━━━━━━━━━━━━━━━━━━━━┓\n",
       "┃<span style=\"font-weight: bold\">        Test metric        </span>┃<span style=\"font-weight: bold\">       DataLoader 0        </span>┃\n",
       "┡━━━━━━━━━━━━━━━━━━━━━━━━━━━╇━━━━━━━━━━━━━━━━━━━━━━━━━━━┩\n",
       "│<span style=\"color: #008080; text-decoration-color: #008080\">         test_acc          </span>│<span style=\"color: #800080; text-decoration-color: #800080\">    0.7636022567749023     </span>│\n",
       "│<span style=\"color: #008080; text-decoration-color: #008080\">         test_loss         </span>│<span style=\"color: #800080; text-decoration-color: #800080\">    0.4737122356891632     </span>│\n",
       "└───────────────────────────┴───────────────────────────┘\n",
       "</pre>\n"
      ],
      "text/plain": [
       "┏━━━━━━━━━━━━━━━━━━━━━━━━━━━┳━━━━━━━━━━━━━━━━━━━━━━━━━━━┓\n",
       "┃\u001b[1m \u001b[0m\u001b[1m       Test metric       \u001b[0m\u001b[1m \u001b[0m┃\u001b[1m \u001b[0m\u001b[1m      DataLoader 0       \u001b[0m\u001b[1m \u001b[0m┃\n",
       "┡━━━━━━━━━━━━━━━━━━━━━━━━━━━╇━━━━━━━━━━━━━━━━━━━━━━━━━━━┩\n",
       "│\u001b[36m \u001b[0m\u001b[36m        test_acc         \u001b[0m\u001b[36m \u001b[0m│\u001b[35m \u001b[0m\u001b[35m   0.7636022567749023    \u001b[0m\u001b[35m \u001b[0m│\n",
       "│\u001b[36m \u001b[0m\u001b[36m        test_loss        \u001b[0m\u001b[36m \u001b[0m│\u001b[35m \u001b[0m\u001b[35m   0.4737122356891632    \u001b[0m\u001b[35m \u001b[0m│\n",
       "└───────────────────────────┴───────────────────────────┘\n"
      ]
     },
     "metadata": {},
     "output_type": "display_data"
    },
    {
     "data": {
      "text/plain": [
       "[{'test_loss': 0.4737122356891632, 'test_acc': 0.7636022567749023}]"
      ]
     },
     "execution_count": 157,
     "metadata": {},
     "output_type": "execute_result"
    }
   ],
   "source": [
    "test_dataloader = DataLoader(test_dataset, shuffle=True)\n",
    "\n",
    "trainer = L.Trainer(accelerator=\"cpu\")\n",
    "trainer.test(best_rnn_model, test_dataloader)"
   ]
  },
  {
   "cell_type": "markdown",
   "metadata": {},
   "source": [
    "# (c) Strategies to derive final sentence representation\n",
    "\n",
    "1. Last State: Use last hidden state as sentence representation\n",
    "2. Max Pooling\n",
    "3. Average Pooling"
   ]
  },
  {
   "cell_type": "code",
   "execution_count": 158,
   "metadata": {},
   "outputs": [
    {
     "data": {
      "text/html": [
       "<div>\n",
       "<style scoped>\n",
       "    .dataframe tbody tr th:only-of-type {\n",
       "        vertical-align: middle;\n",
       "    }\n",
       "\n",
       "    .dataframe tbody tr th {\n",
       "        vertical-align: top;\n",
       "    }\n",
       "\n",
       "    .dataframe thead th {\n",
       "        text-align: right;\n",
       "    }\n",
       "</style>\n",
       "<table border=\"1\" class=\"dataframe\">\n",
       "  <thead>\n",
       "    <tr style=\"text-align: right;\">\n",
       "      <th></th>\n",
       "      <th>val_acc</th>\n",
       "      <th>train_acc</th>\n",
       "      <th>batch_size</th>\n",
       "      <th>hidden_dim</th>\n",
       "      <th>learning_rate</th>\n",
       "      <th>optimizer_name</th>\n",
       "      <th>num_layers</th>\n",
       "      <th>sentence_representation_type</th>\n",
       "      <th>steps</th>\n",
       "      <th>train_loss</th>\n",
       "      <th>val_loss</th>\n",
       "      <th>filename</th>\n",
       "    </tr>\n",
       "  </thead>\n",
       "  <tbody>\n",
       "    <tr>\n",
       "      <th>0</th>\n",
       "      <td>0.757974</td>\n",
       "      <td>0.807068</td>\n",
       "      <td>2048</td>\n",
       "      <td>256</td>\n",
       "      <td>0.00001</td>\n",
       "      <td>Adam</td>\n",
       "      <td>1</td>\n",
       "      <td>last</td>\n",
       "      <td>1449.0</td>\n",
       "      <td>0.454111</td>\n",
       "      <td>0.491301</td>\n",
       "      <td>events.out.tfevents.1729879439.yuriarch.4562.53</td>\n",
       "    </tr>\n",
       "  </tbody>\n",
       "</table>\n",
       "</div>"
      ],
      "text/plain": [
       "    val_acc  train_acc  batch_size  hidden_dim  learning_rate optimizer_name  \\\n",
       "0  0.757974   0.807068        2048         256        0.00001           Adam   \n",
       "\n",
       "   num_layers sentence_representation_type   steps  train_loss  val_loss  \\\n",
       "0           1                         last  1449.0    0.454111  0.491301   \n",
       "\n",
       "                                          filename  \n",
       "0  events.out.tfevents.1729879439.yuriarch.4562.53  "
      ]
     },
     "execution_count": 158,
     "metadata": {},
     "output_type": "execute_result"
    }
   ],
   "source": [
    "best_rnn_model_configuration"
   ]
  },
  {
   "cell_type": "code",
   "execution_count": null,
   "metadata": {},
   "outputs": [],
   "source": [
    "# Best model configs\n",
    "batch_size = int(best_rnn_model_configuration['batch_size'].values[0])\n",
    "learning_rate = float(best_rnn_model_configuration['learning_rate'].values[0])\n",
    "optimizer_name = str(best_rnn_model_configuration['optimizer_name'].values[0])\n",
    "hidden_dim = int(best_rnn_model_configuration['hidden_dim'].values[0])\n",
    "num_layers = int(best_rnn_model_configuration['num_layers'].values[0])\n",
    "\n",
    "for sentence_representation_type in SEARCH_SPACE[\"sentence_representation_type\"]:\n",
    "    print(f\"---------- sentence_representation_type: {sentence_representation_type}; batch_size_{batch_size}; lr_{learning_rate}; optimizer_{optimizer_name}; hidden_dim_{hidden_dim}; num_layers_{num_layers} ----------\")\n",
    "    train_rnn_model_with_parameters(\n",
    "        batch_size=batch_size,\n",
    "        learning_rate=learning_rate,\n",
    "        optimizer_name=optimizer_name,\n",
    "        hidden_dim=hidden_dim,\n",
    "        num_layers=num_layers,\n",
    "        sentence_representation_type=sentence_representation_type,\n",
    "        show_progress=True,\n",
    "        log_dir=\"test_sentence_representation\",\n",
    "    )"
   ]
  },
  {
   "cell_type": "code",
   "execution_count": 168,
   "metadata": {},
   "outputs": [
    {
     "data": {
      "text/html": [
       "<div>\n",
       "<style scoped>\n",
       "    .dataframe tbody tr th:only-of-type {\n",
       "        vertical-align: middle;\n",
       "    }\n",
       "\n",
       "    .dataframe tbody tr th {\n",
       "        vertical-align: top;\n",
       "    }\n",
       "\n",
       "    .dataframe thead th {\n",
       "        text-align: right;\n",
       "    }\n",
       "</style>\n",
       "<table border=\"1\" class=\"dataframe\">\n",
       "  <thead>\n",
       "    <tr style=\"text-align: right;\">\n",
       "      <th></th>\n",
       "      <th>val_acc</th>\n",
       "      <th>train_acc</th>\n",
       "      <th>batch_size</th>\n",
       "      <th>hidden_dim</th>\n",
       "      <th>learning_rate</th>\n",
       "      <th>optimizer_name</th>\n",
       "      <th>num_layers</th>\n",
       "      <th>sentence_representation_type</th>\n",
       "      <th>epoch</th>\n",
       "      <th>train_loss</th>\n",
       "      <th>val_loss</th>\n",
       "      <th>filename</th>\n",
       "    </tr>\n",
       "  </thead>\n",
       "  <tbody>\n",
       "    <tr>\n",
       "      <th>0</th>\n",
       "      <td>0.761726</td>\n",
       "      <td>0.807068</td>\n",
       "      <td>2048</td>\n",
       "      <td>256</td>\n",
       "      <td>0.00001</td>\n",
       "      <td>Adam</td>\n",
       "      <td>1</td>\n",
       "      <td>last</td>\n",
       "      <td>298.0</td>\n",
       "      <td>0.454111</td>\n",
       "      <td>0.491746</td>\n",
       "      <td>events.out.tfevents.1729891732.yuriarch.4562.70</td>\n",
       "    </tr>\n",
       "    <tr>\n",
       "      <th>1</th>\n",
       "      <td>0.754221</td>\n",
       "      <td>0.773876</td>\n",
       "      <td>2048</td>\n",
       "      <td>256</td>\n",
       "      <td>0.00001</td>\n",
       "      <td>Adam</td>\n",
       "      <td>1</td>\n",
       "      <td>max</td>\n",
       "      <td>267.0</td>\n",
       "      <td>0.471278</td>\n",
       "      <td>0.505773</td>\n",
       "      <td>events.out.tfevents.1729909635.yuriarch.4562.72</td>\n",
       "    </tr>\n",
       "    <tr>\n",
       "      <th>2</th>\n",
       "      <td>0.741088</td>\n",
       "      <td>0.735488</td>\n",
       "      <td>2048</td>\n",
       "      <td>256</td>\n",
       "      <td>0.00001</td>\n",
       "      <td>Adam</td>\n",
       "      <td>1</td>\n",
       "      <td>average</td>\n",
       "      <td>507.0</td>\n",
       "      <td>0.533019</td>\n",
       "      <td>0.532041</td>\n",
       "      <td>events.out.tfevents.1729892650.yuriarch.4562.71</td>\n",
       "    </tr>\n",
       "  </tbody>\n",
       "</table>\n",
       "</div>"
      ],
      "text/plain": [
       "    val_acc  train_acc  batch_size  hidden_dim  learning_rate optimizer_name  \\\n",
       "0  0.761726   0.807068        2048         256        0.00001           Adam   \n",
       "1  0.754221   0.773876        2048         256        0.00001           Adam   \n",
       "2  0.741088   0.735488        2048         256        0.00001           Adam   \n",
       "\n",
       "   num_layers sentence_representation_type  epoch  train_loss  val_loss  \\\n",
       "0           1                         last  298.0    0.454111  0.491746   \n",
       "1           1                          max  267.0    0.471278  0.505773   \n",
       "2           1                      average  507.0    0.533019  0.532041   \n",
       "\n",
       "                                          filename  \n",
       "0  events.out.tfevents.1729891732.yuriarch.4562.70  \n",
       "1  events.out.tfevents.1729909635.yuriarch.4562.72  \n",
       "2  events.out.tfevents.1729892650.yuriarch.4562.71  "
      ]
     },
     "execution_count": 168,
     "metadata": {},
     "output_type": "execute_result"
    }
   ],
   "source": [
    "from utils.analytics import load_tensorboard_logs\n",
    "\n",
    "test_results_df = load_tensorboard_logs(\"tb_logs/test_sentence_representation\")\n",
    "test_results_df = test_results_df.sort_values(\n",
    "    by=[\"val_acc\"], ascending=False\n",
    ").reset_index(drop=True)\n",
    "test_results_df"
   ]
  }
 ],
 "metadata": {
  "kernelspec": {
   "display_name": "Python 3",
   "language": "python",
   "name": "python3"
  },
  "language_info": {
   "codemirror_mode": {
    "name": "ipython",
    "version": 3
   },
   "file_extension": ".py",
   "mimetype": "text/x-python",
   "name": "python",
   "nbconvert_exporter": "python",
   "pygments_lexer": "ipython3",
   "version": "3.9.20"
  }
 },
 "nbformat": 4,
 "nbformat_minor": 2
}
