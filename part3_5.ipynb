{
 "cells": [
  {
   "cell_type": "markdown",
   "metadata": {},
   "source": [
    "# Part 3.5 - Improvements"
   ]
  },
  {
   "cell_type": "markdown",
   "metadata": {},
   "source": [
    "> See `part3_5_pipeline.py` for code to run the training.\n",
    "\n",
    "We will try different transformers model architecture and training mode to find the best method for sentiment analysis:\n",
    "\n",
    "\n",
    "| **Model**   | **Architecture**  | **Training Mode**                | **Description**                                                     |\n",
    "|-------------|-------------------|----------------------------------|---------------------------------------------------------------------|\n",
    "| **RoBERTa** | Encoder Only      | Pretrained                       | The original pretrained RoBERTa model, trained on a general corpus. |\n",
    "|             |                   | Fine-Tuned on Sentiment Analysis | RoBERTa fine-tuned on sentiment analysis.                           |\n",
    "| **GPT-2**   | Decoder Only      | Pretrained                       | The original pretrained GPT-2 model, trained on a general corpus.   |\n",
    "|             |                   | Fine-Tuned on Sentiment Analysis | GPT-2 fine-tuned on sentiment analysis.                             |\n",
    "| **T5**      | Encoder + Decoder | Pretrained                       | The original T5 model, trained on a general corpus.                 |\n",
    "\n"
   ]
  },
  {
   "cell_type": "code",
   "execution_count": 12,
   "metadata": {},
   "outputs": [],
   "source": [
    "from utils.analytics import load_tensorboard_logs_from_huggingface_trainer\n",
    "\n",
    "results_df = load_tensorboard_logs_from_huggingface_trainer(\"part3_5_logs/\")"
   ]
  },
  {
   "cell_type": "code",
   "execution_count": 14,
   "metadata": {},
   "outputs": [
    {
     "data": {
      "text/html": [
       "<div>\n",
       "<style scoped>\n",
       "    .dataframe tbody tr th:only-of-type {\n",
       "        vertical-align: middle;\n",
       "    }\n",
       "\n",
       "    .dataframe tbody tr th {\n",
       "        vertical-align: top;\n",
       "    }\n",
       "\n",
       "    .dataframe thead th {\n",
       "        text-align: right;\n",
       "    }\n",
       "</style>\n",
       "<table border=\"1\" class=\"dataframe\">\n",
       "  <thead>\n",
       "    <tr style=\"text-align: right;\">\n",
       "      <th></th>\n",
       "      <th>model</th>\n",
       "      <th>val_acc</th>\n",
       "      <th>val_loss</th>\n",
       "      <th>filename</th>\n",
       "    </tr>\n",
       "  </thead>\n",
       "  <tbody>\n",
       "    <tr>\n",
       "      <th>0</th>\n",
       "      <td>roberta-finetuned</td>\n",
       "      <td>0.888368</td>\n",
       "      <td>0.356488</td>\n",
       "      <td>events.out.tfevents.1730547046.yuriarch.51191.0</td>\n",
       "    </tr>\n",
       "  </tbody>\n",
       "</table>\n",
       "</div>"
      ],
      "text/plain": [
       "               model   val_acc  val_loss  \\\n",
       "0  roberta-finetuned  0.888368  0.356488   \n",
       "\n",
       "                                          filename  \n",
       "0  events.out.tfevents.1730547046.yuriarch.51191.0  "
      ]
     },
     "execution_count": 14,
     "metadata": {},
     "output_type": "execute_result"
    }
   ],
   "source": [
    "results_df"
   ]
  }
 ],
 "metadata": {
  "kernelspec": {
   "display_name": ".venv",
   "language": "python",
   "name": "python3"
  },
  "language_info": {
   "codemirror_mode": {
    "name": "ipython",
    "version": 3
   },
   "file_extension": ".py",
   "mimetype": "text/x-python",
   "name": "python",
   "nbconvert_exporter": "python",
   "pygments_lexer": "ipython3",
   "version": "3.12.4"
  },
  "orig_nbformat": 4
 },
 "nbformat": 4,
 "nbformat_minor": 2
}
