{
 "cells": [
  {
   "cell_type": "markdown",
   "metadata": {},
   "source": [
    "# 0. Dataset preparation"
   ]
  },
  {
   "cell_type": "markdown",
   "metadata": {},
   "source": [
    "## 0.1 Import dataset from part 0"
   ]
  },
  {
   "cell_type": "code",
   "execution_count": 1,
   "metadata": {},
   "outputs": [],
   "source": [
    "import pandas as pd\n",
    "\n",
    "train_df = pd.read_csv(\"datasets/train.csv\")\n",
    "val_df = pd.read_csv(\"datasets/val.csv\")\n",
    "test_df = pd.read_csv(\"datasets/test.csv\")"
   ]
  },
  {
   "cell_type": "code",
   "execution_count": 2,
   "metadata": {},
   "outputs": [
    {
     "data": {
      "text/html": [
       "<div>\n",
       "<style scoped>\n",
       "    .dataframe tbody tr th:only-of-type {\n",
       "        vertical-align: middle;\n",
       "    }\n",
       "\n",
       "    .dataframe tbody tr th {\n",
       "        vertical-align: top;\n",
       "    }\n",
       "\n",
       "    .dataframe thead th {\n",
       "        text-align: right;\n",
       "    }\n",
       "</style>\n",
       "<table border=\"1\" class=\"dataframe\">\n",
       "  <thead>\n",
       "    <tr style=\"text-align: right;\">\n",
       "      <th></th>\n",
       "      <th>text</th>\n",
       "      <th>label</th>\n",
       "    </tr>\n",
       "  </thead>\n",
       "  <tbody>\n",
       "    <tr>\n",
       "      <th>0</th>\n",
       "      <td>the rock is destined to be the 21st century's ...</td>\n",
       "      <td>1</td>\n",
       "    </tr>\n",
       "    <tr>\n",
       "      <th>1</th>\n",
       "      <td>the gorgeously elaborate continuation of \" the...</td>\n",
       "      <td>1</td>\n",
       "    </tr>\n",
       "    <tr>\n",
       "      <th>2</th>\n",
       "      <td>effective but too-tepid biopic</td>\n",
       "      <td>1</td>\n",
       "    </tr>\n",
       "    <tr>\n",
       "      <th>3</th>\n",
       "      <td>if you sometimes like to go to the movies to h...</td>\n",
       "      <td>1</td>\n",
       "    </tr>\n",
       "    <tr>\n",
       "      <th>4</th>\n",
       "      <td>emerges as something rare , an issue movie tha...</td>\n",
       "      <td>1</td>\n",
       "    </tr>\n",
       "  </tbody>\n",
       "</table>\n",
       "</div>"
      ],
      "text/plain": [
       "                                                text  label\n",
       "0  the rock is destined to be the 21st century's ...      1\n",
       "1  the gorgeously elaborate continuation of \" the...      1\n",
       "2                     effective but too-tepid biopic      1\n",
       "3  if you sometimes like to go to the movies to h...      1\n",
       "4  emerges as something rare , an issue movie tha...      1"
      ]
     },
     "execution_count": 2,
     "metadata": {},
     "output_type": "execute_result"
    }
   ],
   "source": [
    "train_df.head()"
   ]
  },
  {
   "cell_type": "markdown",
   "metadata": {},
   "source": [
    "## 0.2 Process text data"
   ]
  },
  {
   "cell_type": "code",
   "execution_count": 3,
   "metadata": {},
   "outputs": [
    {
     "name": "stderr",
     "output_type": "stream",
     "text": [
      "[nltk_data] Downloading package punkt to C:\\Users\\Toh Jing\n",
      "[nltk_data]     Qiang\\AppData\\Roaming\\nltk_data...\n",
      "[nltk_data]   Package punkt is already up-to-date!\n",
      "[nltk_data] Downloading package treebank to C:\\Users\\Toh Jing\n",
      "[nltk_data]     Qiang\\AppData\\Roaming\\nltk_data...\n",
      "[nltk_data]   Package treebank is already up-to-date!\n",
      "[nltk_data] Downloading package punkt_tab to C:\\Users\\Toh Jing\n",
      "[nltk_data]     Qiang\\AppData\\Roaming\\nltk_data...\n",
      "[nltk_data]   Package punkt_tab is already up-to-date!\n"
     ]
    }
   ],
   "source": [
    "import re\n",
    "import nltk\n",
    "\n",
    "nltk.download('punkt')\n",
    "nltk.download('treebank')\n",
    "nltk.download('punkt_tab')\n",
    "\n",
    "def preprocessText(dataset):\n",
    "    texts = []\n",
    "\n",
    "    for i in range(0, len(dataset)):\n",
    "        text = re.sub('[^a-zA-Z]', ' ', dataset['text'][i]) #remove numbers and non-alphabetical symbols\n",
    "        text = text.lower() # lower case\n",
    "        text = text.strip()\n",
    "\n",
    "        if isinstance(text, str):    \n",
    "            tokens = nltk.tokenize.word_tokenize(text) \n",
    "        else:     \n",
    "            print(\"Input is not a valid string.\")\n",
    "        #text = nltk.tokenize.word_tokenize(text) # tokenize\n",
    "        \n",
    "        texts.append(tokens)\n",
    "        \n",
    "    return texts"
   ]
  },
  {
   "cell_type": "code",
   "execution_count": 4,
   "metadata": {},
   "outputs": [],
   "source": [
    "train_split = preprocessText(train_df)\n",
    "val_split = preprocessText(val_df)\n",
    "test_split = preprocessText(test_df)"
   ]
  },
  {
   "cell_type": "markdown",
   "metadata": {},
   "source": [
    "# 1. Preparing Word Embeddings\n",
    "\n",
    "- using `Word2Vec`"
   ]
  },
  {
   "cell_type": "markdown",
   "metadata": {},
   "source": [
    "load a pretrained word2vec model (trained on Google News dataset contained about 100 billion words)"
   ]
  },
  {
   "cell_type": "code",
   "execution_count": 5,
   "metadata": {},
   "outputs": [],
   "source": [
    "import gensim\n",
    "import os\n",
    "\n",
    "# Download pretrained embeddings model if haven't done so\n",
    "if not os.path.exists(\"models/googleNews_w2v_model\"):\n",
    "  # Takes around 7mins\n",
    "  googleNews_w2v_model = gensim.downloader.api.load('models/word2vec-google-news-300')\n",
    "  googleNews_w2v_model.save(\"googleNews_w2v_model\")\n",
    "\n",
    "  # Alternatively, download from the link below\n",
    "  # googleNews_w2v_model = gensim.models.KeyedVectors.load_word2vec_format('model\\GoogleNews-vectors-negative300.bin\\GoogleNews-vectors-negative300.bin', binary=True)  \n",
    "  # download the pretrained model from https://drive.google.com/file/d/0B7XkCwpI5KDYNlNUTTlSS21pQmM/edit?resourcekey=0-wjGZdNAUop6WykTtMip30g (take around 1.5GB)\n",
    "\n",
    "googleNews_w2v_model = gensim.models.KeyedVectors.load(\"models/googleNews_w2v_model\")"
   ]
  },
  {
   "cell_type": "code",
   "execution_count": 6,
   "metadata": {},
   "outputs": [
    {
     "data": {
      "text/plain": [
       "3000000"
      ]
     },
     "execution_count": 6,
     "metadata": {},
     "output_type": "execute_result"
    }
   ],
   "source": [
    "len(googleNews_w2v_model.index_to_key)"
   ]
  },
  {
   "cell_type": "markdown",
   "metadata": {},
   "source": [
    "## (a) size of vocabulary from the training data."
   ]
  },
  {
   "cell_type": "code",
   "execution_count": 7,
   "metadata": {},
   "outputs": [
    {
     "name": "stdout",
     "output_type": "stream",
     "text": [
      "16331\n"
     ]
    }
   ],
   "source": [
    "trainDataset_words = [word for sentence in train_split for word in sentence]\n",
    "trainDataset_vocabs = set(trainDataset_words)\n",
    "trainDataset_vocab_size = len(trainDataset_vocabs)\n",
    "\n",
    "print(trainDataset_vocab_size)"
   ]
  },
  {
   "cell_type": "markdown",
   "metadata": {},
   "source": [
    "## (b) number of OOV (out-of-vocabulary)\n",
    "- (those words appeared in the training data but not in the Word2vec dictionary)"
   ]
  },
  {
   "cell_type": "code",
   "execution_count": 8,
   "metadata": {},
   "outputs": [
    {
     "name": "stdout",
     "output_type": "stream",
     "text": [
      "1445\n",
      "['iwai', 'meyjes', 'matheson', 'inuit', 'sequer', 'koepp', 'flck', 'flavour', 'clockstoppers', 'darwinian', 'testud', 'dario', 'carlen', 'rampling', 'avary', 'penotti', 'yiddish', 'phonce', 'molony', 'gadzooks', 'abrams', 'qatsi', 'sillified', 'hudlin', 'sonnenfeld', 'ayres', 'clearasil', 'hepburn', 'recoing', 'toolbags', 'balto', 'splittingly', 'giles', 'romething', 'apted', 'enfrentar', 'achronological', 'lohman', 'unlaughable', 'coriat', 'caddyshack', 'exporing', 'landbound', 'byron', 'colgate', 'shapiro', 'rdida', 'tambor', 'oscura', 'russos', 'mergulha', 'recurre', 'fresnadillo', 'haynes', 'scorsese', 'collosum', 'niro', 'kieran', 'alain', 'montied', 'spader', 'shandling', 'headbangingly', 'antwone', 'guei', 'diferen', 'hinton', 'schrader', 'feardotcom', 'jed', 'kubrick', 'convencional', 'kalesniko', 'romijn', 'clements', 'deniro', 'silbersteins', 'musicais', 'aqueles', 'rosenthal', 'thekids', 'premisa', 'bolado', 'phocion', 'banderas', 'niels', 'michell', 'desaponta', 'dicaprio', 'christophe', 'cipherlike', 'nakata', 'divertida', 'centre', 'arrancar', 'sandler', 'binks', 'perde', 'babbitt', 'personagens', 'arriesgado', 'franz', 'ahola', 'andersson', 'woolf', 'krawczyk', 'kline', 'bullwinkle', 'bisset', 'callar', 'molina', 'gyllenhaal', 'shainberg', 'entreter', 'gerbosi', 'mcgowan', 'autocritique', 'crummles', 'renner', 'surfacey', 'mcklusky', 'elfriede', 'forster', 'entretiene', 'jeanette', 'dilbert', 'gutterball', 'parodia', 'unfakable', 'slappingly', 'astoria', 'hellstenius', 'delhomme', 'socrates', 'majidi', 'hemmingway', 'danilo', 'fuhrman', 'ltimo', 'bladerunner', 'higuchinsky', 'schwentke', 'apallingly', 'audrey', 'philbin', 'prewarned', 'nijinsky', 'jagger', 'neill', 'runyon', 'sonrisa', 'grey', 'exibi', 'mueller', 'mcdormand', 'helga', 'butterworth', 'nicolas', 'tosca', 'decidiram', 'cintas', 'hashiguchi', 'ricture', 'veronique', 'hawley', 'risa', 'realidade', 'claud', 'mendes', 'resultan', 'dahmer', 'leavitt', 'devito', 'imaginaci', 'treebeard', 'baca', 'dogme', 'aborbing', 'obligada', 'godard', 'categorisation', 'siegel', 'potemkin', 'schnieder', 'zzzzzzzzz', 'unplundered', 'bobbidi', 'sampi', 'malone', 'atacar', 'emocionante', 'gollum', 'dirigir', 'battista', 'mibii', 'nenette', 'inquestion', 'malle', 'accorsi', 'evolu', 'seldahl', 'demeanour', 'naturedness', 'acontecimentos', 'rymer', 'meaningness', 'tufano', 'soderbergh', 'disfrutable', 'bugsy', 'mib', 'oedekerk', 'thornberry', 'pythonesque', 'puportedly', 'felinni', 'capturou', 'droppingly', 'iben', 'neuwirth', 'napoli', 'depalma', 'verdadera', 'reginald', 'longo', 'cronenberg', 'calibre', 'hossein', 'juergensen', 'nettelbeck', 'noyce', 'gabbiest', 'holofcener', 'brecht', 'antonia', 'berling', 'windtalkers', 'barris', 'pollak', 'perdona', 'alexandre', 'fiorentino', 'watstein', 'cula', 'sydow', 'pollyana', 'saldanha', 'addessi', 'satirizado', 'tashlin', 'aragorn', 'shadyac', 'leguizamo', 'gabriele', 'qualls', 'savour', 'steinis', 'ronn', 'kinnear', 'bleibtreu', 'belushi', 'makhmalbaf', 'gantzes', 'of', 'revigorates', 'rembrandt', 'profundamente', 'unemotive', 'augustine', 'moretti', 'mcculloch', 'zhuangzhuang', 'direto', 'guzm', 'aiello', 'underdramatized', 'sidey', 'cuar', 'hotsies', 'divertido', 'grabowsky', 'savoca', 'eroti', 'fantasti', 'ssimos', 'emilie', 'murdock', 'compleja', 'precisamente', 'dalloway', 'nadia', 'tykwer', 'eisenstein', 'kuras', 'goldmember', 'ferrara', 'corruscating', 'cardoso', 'akasha', 'jacobson', 'ruggero', 'kahlories', 'altman', 'curiosa', 'frida', 'petter', 'truncheoning', 'diciness', 'bradbury', 'defeatingly', 'paulette', 'herzog', 'byatt', 'iditarod', 'sugarman', 'fica', 'baio', 'sade', 'amari', 'jacquot', 'stonehenge', 'ecclesiastes', 'jarvis', 'benshan', 'mouglalis', 'moulds', 'hawke', 'dangerfield', 'floria', 'hoult', 'pianista', 'emotiva', 'labour', 'reeses', 'silberling', 'depois', 'clayburgh', 'banales', 'saudades', 'nietzsche', 'zwick', 'soapdish', 'soliah', 'deje', 'walken', 'yvan', 'rechy', 'kapur', 'fincher', 'orqu', 'vittorio', 'hirosue', 'macdowell', 'sandrine', 'grato', 'schumacher', 'errol', 'picpus', 'solondz', 'versi', 'bottomlessly', 'galinsky', 'truffaut', 'deadeningly', 'zeus', 'tolkien', 'nticas', 'miedos', 'beavis', 'ivans', 'laramie', 'waydowntown', 'epps', 'solondzian', 'preocupar', 'neeson', 'juliette', 'sarandon', 'sumamente', 'liyan', 'certamente', 'romanek', 'jeunet', 'garbus', 'genevieve', 'caruso', 'obviation', 'qutting', 'narrativa', 'cierta', 'superlarge', 'thornberrys', 'strafings', 'wierzbicki', 'chouraqui', 'chabrol', 'flatbush', 'zhao', 'incoloro', 'shagster', 'carnahan', 'xfl', 'eastwood', 'backmasking', 'broomfield', 'fleder', 'mika', 'paxton', 'shapable', 'baran', 'sontag', 'sorimachi', 'idoosyncratic', 'nrelentingly', 'mpaa', 'ourside', 'ruzowitzky', 'amoses', 'lanie', 'carente', 'juwanna', 'bartlett', 'karmen', 'mullinski', 'stallone', 'yakusho', 'muniz', 'artnering', 'segal', 'narcotizing', 'wolodarsky', 'estranhos', 'arliss', 'theatres', 'chesterton', 'prefeminist', 'thandie', 'julianne', 'aaliyah', 'orwell', 'nonchallenging', 'mullan', 'lathan', 'morlocks', 'campanella', 'kozmo', 'camareras', 'brockovich', 'teatral', 'humourless', 'papin', 'miike', 'cedric', 'gainsbourg', 'cusack', 'marveilleux', 'hubert', 'payami', 'deblois', 'akira', 'parton', 'phifer', 'schaeffer', 'complementares', 'elmer', 'shohei', 'ballhaus', 'elegiacally', 'hypertime', 'hunnam', 'bierbichler', 'wilco', 'tampoco', 'torna', 'pode', 'allodi', 'peploe', 'sincera', 'taymor', 'a', 'sitcomishly', 'aleck', 'devos', 'mccoist', 'montias', 'nesbitt', 'glamour', 'ganha', 'personajes', 'szpilman', 'pta', 'ontiveros', 'weinstein', 'gellar', 'denlopp', 'aquel', 'seigner', 'statham', 'kibbitzes', 'mcgrath', 'sandeman', 'bogdanovich', 'affirmational', 'niccol', 'manoel', 'flatman', 'igby', 'cabe', 'alientation', 'shiri', 'andamento', 'crappola', 'macgraw', 'renoir', 'fangoria', 'kurupt', 'daneses', 'macbeth', 'superficiale', 'rorschach', 'indieflick', 'rosenbaum', 'linklater', 'shankman', 'mcfarlane', 'pretence', 'danis', 'garry', 'bigelow', 'alcatraz', 'koshashvili', 'simbolizando', 'unsuspenseful', 'swanson', 'enga', 'kaos', 'naqoyqatsi', 'jiri', 'cuadro', 'otar', 'gaghan', 'kosashvili', 'hubac', 'incompet', 'schnitzler', 'consegue', 'addams', 'ararat', 'palma', 'stoppard', 'frodo', 'possui', 'schiffer', 'intera', 'ziyi', 'goldbacher', 'almod', 'acabamos', 'dickensian', 'cavaradossi', 'dreyfus', 'epis', 'pootie', 'malfitano', 'celebi', 'godfrey', 'patriotero', 'ventually', 'larson', 'asbury', 'elizabethan', 'videodrome', 'famuyiwa', 'espect', 'universos', 'lasker', 'armenians', 'rowling', 'esfor', 'entretenimiento', 'kafkaesque', 'dafoe', 'hogwarts', 'resnick', 'mulan', 'mothman', 'perabo', 'necessidade', 'augustinian', 'maguire', 'wildean', 'spielbergian', 'lillard', 'serrault', 'policiales', 'auschwitz', 'cineasts', 'mcadams', 'redford', 'diop', 'prechewed', 'estudo', 'brosnan', 'constata', 'anakin', 'sommers', 'orson', 'abderrahmane', 'igualmente', 'hitchcock', 'menzel', 'elie', 'imamura', 'liotta', 'fizzability', 'montaje', 'premissa', 'clarissa', 'wahlberg', 'isabelle', 'koyaanisqatsi', 'unconned', 'entretenida', 'derrida', 'rintar', 'kurosawa', 'papai', 'quido', 'nalin', 'mesmerised', 'chabrolian', 'woodard', 'delicia', 'polanski', 'uruk', 'preocupe', 'philibert', 'pouqu', 'nuttgens', 'psychodramatics', 'lmica', 'komediant', 'ihops', 'japanimator', 'colosal', 'dirigida', 'sinta', 'cleopatra', 'serry', 'preciosista', 'kumble', 'crispin', 'rinzler', 'rodrigues', 'italicizes', 'efteriades', 'stico', 'caulfield', 'everlyn', 'bergmanesque', 'gymkata', 'freundlich', 'zoolander', 'fontaine', 'passo', 'covardia', 'travil', 'mckay', 'cagney', 'tarantino', 'shamu', 'enfrentados', 'garc', 'zucker', 'wewannour', 'kirshner', 'aladdin', 'poderosa', 'vardalos', 'reigen', 'wisegirls', 'herek', 'dolgin', 'sychowski', 'aurelie', 'contemplarse', 'dumbfoundingly', 'ecks', 'turpin', 'bernal', 'fulford', 'endeavour', 'demencial', 'vh', 'leontine', 'latifah', 'weimar', 'bartleby', 'freudianism', 'paradiso', 'mcmullen', 'saigon', 'janszen', 'sencillamente', 'uncharismatically', 'pasolini', 'eisenberg', 'orlean', 'hitchcockianism', 'joff', 'dogtown', 'granger', 'enternecedora', 'hacerlo', 'clutchy', 'salton', 'arkin', 'schaefer', 'vonnegut', 'eurotrash', 'burdette', 'crudup', 'acaba', 'interspliced', 'tully', 'contando', 'precisa', 'wachowski', 'gordy', 'costner', 'twohy', 'cantet', 'stima', 'involvingly', 'binoche', 'jakob', 'tulo', 'ncia', 'and', 'rusi', 'pompeo', 'spinotti', 'ratner', 'earnhart', 'gump', 'topkapi', 'dumas', 'ouro', 'ribisi', 'chekhov', 'ltimos', 'balkans', 'unsalvageability', 'thurman', 'equlibrium', 'sascha', 'fascinantes', 'gauls', 'pentacostal', 'friel', 'logra', 'abandono', 'ricci', 'decter', 'overmanipulative', 'roisterous', 'zaza', 'gaitskill', 'lilia', 'birot', 'uplifter', 'rifkin', 'favour', 'fiennes', 'pabst', 'cinemantic', 'shunji', 'miyazaki', 'abbass', 'kieslowski', 'democracie', 'jacobi', 'shinya', 'colour', 'lyne', 'maryam', 'labute', 'emocionalmente', 'decirles', 'shlockmeister', 'pender', 'marisa', 'villeneuve', 'giovanni', 'greaseballs', 'bickle', 'francophiles', 'sayles', 'carion', 'shimizu', 'lynne', 'enviar', 'samira', 'glizty', 'tartakovsky', 'culkin', 'hermocrates', 'tanovic', 'cirulnick', 'benigni', 'weissman', 'roteiro', 'fassbinder', 'hayek', 'likableness', 'manipulador', 'manhunter', 'branagh', 'complejos', 'inhospitability', 'olvidar', 'kahlo', 'carrey', 'razzie', 'berkley', 'cliffsnotes', 'heremakono', 'senegalese', 'tezuka', 'gruelling', 'espectacular', 'plimpton', 'hideo', 'welty', 'huston', 'tardier', 'harland', 'burkina', 'viterelli', 'pistoled', 'newfoundland', 'haneke', 'carlin', 'pidamente', 'beresford', 'pacino', 'donati', 'gulpilil', 'arwen', 'wollter', 'guillermo', 'cattaneo', 'francamente', 'unrecommendable', 'puttingly', 'westfeldt', 'sorvino', 'cassel', 'ritter', 'aesop', 'esteticamente', 'elemento', 'werner', 'verete', 'jaglomized', 'aburrido', 'rhames', 'flavours', 'adicional', 'takashi', 'tambi', 'veljohnson', 'munchausen', 'tavernier', 'sendo', 'aceitou', 'navajos', 'leplouff', 'masterpeice', 'minac', 'eudora', 'melville', 'mehta', 'dench', 'kouyate', 'scherick', 'profesores', 'abandone', 'zellweger', 'bedevilling', 'unhibited', 'unencouraging', 'levant', 'silberstein', 'shyamalan', 'griffith', 'intentando', 'ghandi', 'benoit', 'mirren', 'scherfig', 'siuation', 'stica', 'besson', 'elegante', 'besco', 'elvira', 'achival', 'tchaikovsky', 'cuaron', 'funcionar', 'aviv', 'schweiger', 'greengrass', 'lavinia', 'chaiken', 'swimfan', 'witherspoon', 'marxian', 'predecible', 'desplechin', 'miscasts', 'elmore', 'shafer', 'pellington', 'wwii', 'mesmos', 'willams', 'desta', 'auteuil', 'explicados', 'mamet', 'melodram', 'sinais', 'gulzar', 'cristo', 'intacto', 'sanitised', 'apesar', 'mcconaughey', 'timo', 'choquart', 'kaige', 'oliviera', 'collinwood', 'balzac', 'pascale', 'labours', 'fracasso', 'scarpia', 'damme', 'majid', 'stortelling', 'expresar', 'deutchland', 'bondish', 'hayao', 'turturro', 'ringu', 'meeropol', 'originalidad', 'updatings', 'josef', 'endedness', 'monkeyfun', 'kafka', 'gibney', 'affleck', 'charlize', 'armenia', 'djeinaba', 'jir', 'schwartzman', 'welles', 'estava', 'pinochet', 'pretenciosas', 'viveka', 'ciertos', 'wiel', 'tsukamoto', 'herrmann', 'outgag', 'yimou', 'filmes', 'unclassifiably', 'bettany', 'ryanovich', 'kurys', 'kaufmann', 'shakesperean', 'kaputschnik', 'rockwell', 'conmovedora', 'desfecho', 'callie', 'khouri', 'jaglom', 'levar', 'vinnie', 'bibbidy', 'suspeito', 'grandiosa', 'hammily', 'atreve', 'wifty', 'digno', 'yosuke', 'tunisian', 'polson', 'uzumaki', 'materalism', 'gianni', 'slowtime', 'jovovich', 'behan', 'arnie', 'interesantes', 'leppard', 'shindler', 'carlito', 'intelectualmente', 'marcken', 'vulakoro', 'nonethnic', 'massoud', 'redgrave', 'anspaugh', 'soberbio', 'petin', 'irwins', 'fallas', 'andr', 'gerardo', 'radcliffe', 'clancy', 'nachtwey', 'spookies', 'mediocridade', 'cimarron', 'chyna', 'weigel', 'malkovich', 'longley', 'carvey', 'visualmente', 'learnt', 'volletta', 'toity', 'pasadena', 'uberviolence', 'ackerman', 'carmichael', 'escapa', 'cativante', 'christelle', 'kiarostami', 'jonze', 'makmalbaf', 'wenders', 'gayton', 'schindler', 'atacarse', 'mcbeal', 'quentin', 'barlow', 'stamos', 'stockwell', 'avventura', 'goodall', 'shapelessly', 'corcuera', 'fabian', 'krige', 'cockettes', 'kosminsky', 'to', 'cassavetes', 'artsploitation', 'nickleby', 'drippiness', 'notting', 'roteirista', 'etoiles', 'dudsville', 'nohe', 'imponderably', 'gilliam', 'colocar', 'luhrmann', 'hitchens', 'ryoko', 'arteta', 'stuporously', 'peralta', 'predecesora', 'prejuicios', 'cacoyannis', 'gidget', 'retadora', 'tierney', 'fustily', 'hundert', 'auteil', 'bjorkness', 'bardem', 'burkinabe', 'dullingly', 'ferrera', 'untugged', 'pryce', 'hannibal', 'alagna', 'nolden', 'idemoto', 'mcdowell', 'bueller', 'deepa', 'instante', 'germanic', 'schweig', 'mattel', 'runteldat', 'amini', 'plympton', 'bornin', 'prescinde', 'iosseliani', 'sorprender', 'nanette', 'spielberg', 'macnaughton', 'bruckheimer', 'shayamalan', 'burstein', 'dankworth', 'breen', 'transforma', 'ssima', 'helene', 'tamb', 'doris', 'condensada', 'verdu', 'schneidermeister', 'titus', 'lagaan', 'cheech', 'gosford', 'repellantly', 'stepford', 'scorcese', 'dunst', 'blutarsky', 'favourite', 'leoni', 'rohmer', 'clericks', 'goyer', 'ttner', 'beckett', 'esfera', 'snazziness', 'unslick', 'flakeball', 'bazadona', 'kasem', 'rubbo', 'denzel', 'espet', 'assayas', 'barrymore', 'adventues', 'pulpiness', 'superada', 'gere', 'assistir', 'saeko', 'milla', 'coppola', 'townsend', 'rothman', 'kilmer', 'javier', 'hatfield', 'mulholland', 'italianas', 'jez', 'olympus', 'maud', 'musset', 'manqu', 'demme', 'theron', 'whitaker', 'reparto', 'blanchett', 'maelstr', 'actuada', 'patric', 'havia', 'laboriousness', 'espectador', 'byler', 'dridi', 'mattei', 'blethyn', 'cleanflicks', 'ratliff', 'borchardt', 'ningu', 'grimas', 'actuaci', 'penas', 'nanook', 'reeboir', 'shakespearean', 'abrahams', 'gondry', 'zaidan', 'hutchins', 'andys', 'steinberg', 'janklowicz', 'powaqqatsi', 'huppert', 'fantasma', 'joaquin', 'naipaul', 'meara', 'sinise', 'coen', 'grenier', 'eyre', 'cletis', 'criar', 'waldo', 'ellefsen', 'csokas', 'fato', 'schepisi', 'unembarrassing', 'thulani', 'copmovieland', 'tunney', 'pokepie', 'comedias', 'pinocchio', 'almodovar', 'strainingly', 'desplat', 'arquette', 'vivi', 'salma', 'persegui', 'koury', 'heidegger', 'pryor', 'beatrice', 'liman', 'ramsay', 'estafeta', 'stagecrafts', 'muccino', 'shreve', 'jagjit', 'aprovechar', 'deseos', 'destinees', 'scuzbag', 'quaid', 'bogdanich', 'hornby', 'abagnale', 'xiaoshuai', 'gilmore', 'danang', 'verbinski', 'dreamworks', 'ozpetek', 'petroni', 'retrata', 'decasia', 'hanukkah', 'emphasising', 'ramis', 'estupendamente', 'bille', 'jewison', 'foxworthy', 'gandalf', 'fillm', 'ilya', 'duraci', 'nikita', 'kissinger', 'zealanders', 'englishmen', 'sabrina', 'selby', 'howie', 'bluto', 'demeo', 'jelinek', 'tomei', 'gosto', 'stainton', 'musclefest', 'gilligan', 'tolstoy', 'leblanc', 'behaviour', 'ploughing', 'raimi', 'mctiernan', 'marivaux', 'graceland', 'xtc', 'hickenlooper', 'audiard', 'aproveitar', 'fuelled', 'parris', 'raphael', 'oesn', 'hitchcockian', 'impotentes', 'instalment', 'esther', 'desee', 'laurence', 'wendigo', 'idiomas', 'reggio', 'cadness', 'nebrida', 'actorish', 'ferzan', 'dateflick', 'gantz', 'zemeckis', 'morvern', 'veggietales', 'hatosy', 'uwe', 'ladr', 'sailboaters', 'musker', 'sissako', 'talanc', 'sico', 'caviezel', 'coolidge', 'seinfeld', 'derivativeness', 'hartley', 'provocatuers', 'giler', 'groen', 'cremaster', 'magimel', 'margolo', 'revelled', 'charly', 'frustrado', 'marvellous', 'farrelly', 'raimondi', 'wladyslaw', 'theatre', 'splatterfests', 'lapaglia', 'bailly', 'duddy', 'aidan', 'desarrollarse', 'sprecher', 'piesiewicz', 'humour', 'rmino', 'velma', 'breckin', 'tarzan', 'giannini', 'cotswolds', 'seagal', 'wertmuller', 'louiso', 'fessenden', 'horton', 'morrissette', 'hjelje', 'gedeck', 'janey', 'absolutamente', 'oliveira', 'argento', 'bruckheimeresque', 'miramax', 'gheorghiu', 'bielinsky', 'attal', 'sandlerian', 'representando', 'coburn', 'egoyan', 'shatner', 'guillen', 'duvall', 'hearst', 'skolnick', 'esquerdo', 'splendour', 'kazmierski', 'springsteen', 'piccoli', 'overstylized', 'wimmer', 'harbour', 'fabuleux', 'flatula', 'generaciones', 'faso', 'asay', 'bergman', 'jarecki', 'justine', 'whaley', 'pincel', 'desnudo', 'powerpuff', 'culminando', 'myer', 'chanukah', 'kilner', 'girardot', 'alfonso', 'tautou', 'aboul', 'minkoff', 'movilizador', 'kalvert', 'puccini', 'belinsky', 'kingsley']\n"
     ]
    }
   ],
   "source": [
    "oov_words = [word for word in trainDataset_vocabs if word not in googleNews_w2v_model]\n",
    "oov_words_size = len(oov_words)\n",
    "\n",
    "print(oov_words_size)\n",
    "print(oov_words)"
   ]
  },
  {
   "cell_type": "markdown",
   "metadata": {},
   "source": [
    "## (c) initialize an embedding matrix\n",
    "- handling of OOV words: using the mean vector from the pretrained w2v vector"
   ]
  },
  {
   "cell_type": "code",
   "execution_count": 9,
   "metadata": {},
   "outputs": [],
   "source": [
    "import numpy as np\n",
    "\n",
    "embedding_dim = googleNews_w2v_model.vector_size # 300\n",
    "\n",
    "#initialize embedding matrix (train_data_vocab_size X embedding dimension)\n",
    "embedding_matrix = np.zeros((trainDataset_vocab_size, embedding_dim))\n",
    "\n",
    "#vocab-to-index dict\n",
    "trainDataset_vocab_index = {vocab: i for i, vocab in enumerate(trainDataset_vocabs)}\n",
    "\n",
    "#mean vector of the pretrained w2v\n",
    "w2v_vectors = np.array([googleNews_w2v_model[vocab] for vocab in googleNews_w2v_model.index_to_key])\n",
    "mean_vector = np.mean(w2v_vectors, axis=0)\n"
   ]
  },
  {
   "cell_type": "code",
   "execution_count": 10,
   "metadata": {},
   "outputs": [],
   "source": [
    "#fill in embedding matrix\n",
    "for vocab in trainDataset_vocabs:\n",
    "    #assign mean vector for OOV words\n",
    "    if vocab in oov_words:\n",
    "        embedding_matrix[trainDataset_vocab_index[vocab]] = mean_vector\n",
    "    else:\n",
    "        embedding_matrix[trainDataset_vocab_index[vocab]] = googleNews_w2v_model[vocab]\n",
    "        "
   ]
  },
  {
   "cell_type": "markdown",
   "metadata": {},
   "source": [
    "**Export Embedding Matrix**"
   ]
  },
  {
   "cell_type": "code",
   "execution_count": 11,
   "metadata": {},
   "outputs": [
    {
     "name": "stdout",
     "output_type": "stream",
     "text": [
      "Saving object to local...\n",
      "Object saved to local!\n"
     ]
    }
   ],
   "source": [
    "from utils.file import save_to_local_file\n",
    "save_to_local_file(\"models/embedding_matrix.pckl\", embedding_matrix)"
   ]
  }
 ],
 "metadata": {
  "kernelspec": {
   "display_name": ".venv",
   "language": "python",
   "name": "python3"
  },
  "language_info": {
   "codemirror_mode": {
    "name": "ipython",
    "version": 3
   },
   "file_extension": ".py",
   "mimetype": "text/x-python",
   "name": "python",
   "nbconvert_exporter": "python",
   "pygments_lexer": "ipython3",
   "version": "3.11.9"
  }
 },
 "nbformat": 4,
 "nbformat_minor": 2
}
