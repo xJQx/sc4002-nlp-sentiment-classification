{
 "cells": [
  {
   "cell_type": "markdown",
   "metadata": {},
   "source": [
    "# 0. Dataset preparation"
   ]
  },
  {
   "cell_type": "markdown",
   "metadata": {},
   "source": [
    "## 0.1 Import dataset from part 0"
   ]
  },
  {
   "cell_type": "code",
   "execution_count": 1,
   "metadata": {},
   "outputs": [],
   "source": [
    "import pandas as pd\n",
    "\n",
    "train_df = pd.read_csv(\"datasets/train.csv\")\n",
    "val_df = pd.read_csv(\"datasets/val.csv\")\n",
    "test_df = pd.read_csv(\"datasets/test.csv\")"
   ]
  },
  {
   "cell_type": "code",
   "execution_count": 2,
   "metadata": {},
   "outputs": [
    {
     "data": {
      "text/html": [
       "<div>\n",
       "<style scoped>\n",
       "    .dataframe tbody tr th:only-of-type {\n",
       "        vertical-align: middle;\n",
       "    }\n",
       "\n",
       "    .dataframe tbody tr th {\n",
       "        vertical-align: top;\n",
       "    }\n",
       "\n",
       "    .dataframe thead th {\n",
       "        text-align: right;\n",
       "    }\n",
       "</style>\n",
       "<table border=\"1\" class=\"dataframe\">\n",
       "  <thead>\n",
       "    <tr style=\"text-align: right;\">\n",
       "      <th></th>\n",
       "      <th>text</th>\n",
       "      <th>label</th>\n",
       "    </tr>\n",
       "  </thead>\n",
       "  <tbody>\n",
       "    <tr>\n",
       "      <th>0</th>\n",
       "      <td>the rock is destined to be the 21st century's ...</td>\n",
       "      <td>1</td>\n",
       "    </tr>\n",
       "    <tr>\n",
       "      <th>1</th>\n",
       "      <td>the gorgeously elaborate continuation of \" the...</td>\n",
       "      <td>1</td>\n",
       "    </tr>\n",
       "    <tr>\n",
       "      <th>2</th>\n",
       "      <td>effective but too-tepid biopic</td>\n",
       "      <td>1</td>\n",
       "    </tr>\n",
       "    <tr>\n",
       "      <th>3</th>\n",
       "      <td>if you sometimes like to go to the movies to h...</td>\n",
       "      <td>1</td>\n",
       "    </tr>\n",
       "    <tr>\n",
       "      <th>4</th>\n",
       "      <td>emerges as something rare , an issue movie tha...</td>\n",
       "      <td>1</td>\n",
       "    </tr>\n",
       "  </tbody>\n",
       "</table>\n",
       "</div>"
      ],
      "text/plain": [
       "                                                text  label\n",
       "0  the rock is destined to be the 21st century's ...      1\n",
       "1  the gorgeously elaborate continuation of \" the...      1\n",
       "2                     effective but too-tepid biopic      1\n",
       "3  if you sometimes like to go to the movies to h...      1\n",
       "4  emerges as something rare , an issue movie tha...      1"
      ]
     },
     "execution_count": 2,
     "metadata": {},
     "output_type": "execute_result"
    }
   ],
   "source": [
    "train_df.head()"
   ]
  },
  {
   "cell_type": "markdown",
   "metadata": {},
   "source": [
    "## 0.2 Process text data"
   ]
  },
  {
   "cell_type": "code",
   "execution_count": 3,
   "metadata": {},
   "outputs": [
    {
     "name": "stderr",
     "output_type": "stream",
     "text": [
      "[nltk_data] Downloading package punkt to C:\\Users\\Toh Jing\n",
      "[nltk_data]     Qiang\\AppData\\Roaming\\nltk_data...\n",
      "[nltk_data]   Package punkt is already up-to-date!\n",
      "[nltk_data] Downloading package treebank to C:\\Users\\Toh Jing\n",
      "[nltk_data]     Qiang\\AppData\\Roaming\\nltk_data...\n",
      "[nltk_data]   Package treebank is already up-to-date!\n",
      "[nltk_data] Downloading package punkt_tab to C:\\Users\\Toh Jing\n",
      "[nltk_data]     Qiang\\AppData\\Roaming\\nltk_data...\n",
      "[nltk_data]   Package punkt_tab is already up-to-date!\n"
     ]
    }
   ],
   "source": [
    "from utils.text import preprocessText\n",
    "\n",
    "train_split = preprocessText(train_df)\n",
    "val_split = preprocessText(val_df)\n",
    "test_split = preprocessText(test_df)"
   ]
  },
  {
   "cell_type": "markdown",
   "metadata": {},
   "source": [
    "# 1. Preparing Word Embeddings\n",
    "\n",
    "- using `Word2Vec`"
   ]
  },
  {
   "cell_type": "markdown",
   "metadata": {},
   "source": [
    "load a pretrained word2vec model (trained on Google News dataset contained about 100 billion words)"
   ]
  },
  {
   "cell_type": "code",
   "execution_count": 4,
   "metadata": {},
   "outputs": [],
   "source": [
    "import gensim\n",
    "import os\n",
    "\n",
    "# Download pretrained embeddings model if haven't done so\n",
    "if not os.path.exists(\"models/googleNews_w2v_model\"):\n",
    "  # Takes around 7mins\n",
    "  googleNews_w2v_model = gensim.downloader.api.load('models/word2vec-google-news-300')\n",
    "  googleNews_w2v_model.save(\"googleNews_w2v_model\")\n",
    "\n",
    "  # Alternatively, download from the link below\n",
    "  # googleNews_w2v_model = gensim.models.KeyedVectors.load_word2vec_format('model\\GoogleNews-vectors-negative300.bin\\GoogleNews-vectors-negative300.bin', binary=True)  \n",
    "  # download the pretrained model from https://drive.google.com/file/d/0B7XkCwpI5KDYNlNUTTlSS21pQmM/edit?resourcekey=0-wjGZdNAUop6WykTtMip30g (take around 1.5GB)\n",
    "\n",
    "googleNews_w2v_model = gensim.models.KeyedVectors.load(\"models/googleNews_w2v_model\")"
   ]
  },
  {
   "cell_type": "code",
   "execution_count": 5,
   "metadata": {},
   "outputs": [
    {
     "data": {
      "text/plain": [
       "3000000"
      ]
     },
     "execution_count": 5,
     "metadata": {},
     "output_type": "execute_result"
    }
   ],
   "source": [
    "len(googleNews_w2v_model.index_to_key)"
   ]
  },
  {
   "cell_type": "markdown",
   "metadata": {},
   "source": [
    "## (a) size of vocabulary from the training data."
   ]
  },
  {
   "cell_type": "code",
   "execution_count": 6,
   "metadata": {},
   "outputs": [
    {
     "name": "stdout",
     "output_type": "stream",
     "text": [
      "16331\n"
     ]
    }
   ],
   "source": [
    "trainDataset_words = [word for sentence in train_split for word in sentence]\n",
    "trainDataset_vocabs = set(trainDataset_words)\n",
    "trainDataset_vocab_size = len(trainDataset_vocabs)\n",
    "\n",
    "print(trainDataset_vocab_size)"
   ]
  },
  {
   "cell_type": "markdown",
   "metadata": {},
   "source": [
    "## (b) number of OOV (out-of-vocabulary)\n",
    "- (those words appeared in the training data but not in the Word2vec dictionary)"
   ]
  },
  {
   "cell_type": "code",
   "execution_count": 7,
   "metadata": {},
   "outputs": [
    {
     "name": "stdout",
     "output_type": "stream",
     "text": [
      "1445\n",
      "['cativante', 'bruckheimer', 'javier', 'zhao', 'arrancar', 'peploe', 'chabrol', 'superlarge', 'gantz', 'brockovich', 'naturedness', 'villeneuve', 'friel', 'dafoe', 'wenders', 'revigorates', 'stallone', 'tolkien', 'foxworthy', 'desplat', 'fillm', 'joaquin', 'argento', 'ecks', 'condensada', 'granger', 'rhames', 'puttingly', 'carente', 'hitchens', 'laboriousness', 'diciness', 'herek', 'zellweger', 'murdock', 'kilmer', 'enga', 'intera', 'theatres', 'koyaanisqatsi', 'cotswolds', 'ricci', 'darwinian', 'sorimachi', 'auteil', 'breen', 'esquerdo', 'uberviolence', 'wendigo', 'petin', 'aviv', 'preciosista', 'superficiale', 'assistir', 'englishmen', 'welty', 'aborbing', 'orlean', 'fuelled', 'herrmann', 'preocupar', 'picpus', 'ouro', 'generaciones', 'whaley', 'kaige', 'zucker', 'neuwirth', 'jacquot', 'covardia', 'spielberg', 'frustrado', 'piesiewicz', 'djeinaba', 'crappola', 'jaglomized', 'aprovechar', 'deblois', 'gordy', 'repellantly', 'elfriede', 'xtc', 'callar', 'wisegirls', 'coriat', 'emotiva', 'universos', 'narcotizing', 'cleopatra', 'mesmerised', 'delhomme', 'aboul', 'chyna', 'colocar', 'powerpuff', 'rusi', 'sidey', 'imaginaci', 'personagens', 'vivi', 'broomfield', 'fustily', 'mendes', 'duddy', 'caviezel', 'lapaglia', 'clements', 'daneses', 'kuras', 'jarvis', 'disfrutable', 'gandalf', 'filmes', 'epps', 'mirren', 'janey', 'manoel', 'ihops', 'ozpetek', 'wiel', 'sorprender', 'sade', 'fabian', 'hoult', 'kazmierski', 'schaefer', 'sorvino', 'funcionar', 'musker', 'pretence', 'fascinantes', 'helga', 'nakata', 'melville', 'fato', 'papin', 'mcdormand', 'involvingly', 'astoria', 'giovanni', 'juwanna', 'muccino', 'ronn', 'clockstoppers', 'shimizu', 'videodrome', 'molina', 'dogtown', 'miyazaki', 'slappingly', 'a', 'enfrentados', 'weinstein', 'flavour', 'acaba', 'gilligan', 'kalvert', 'razzie', 'beckett', 'mullan', 'rechy', 'saigon', 'sanitised', 'macnaughton', 'clarissa', 'gutterball', 'arteta', 'waydowntown', 'huston', 'fabuleux', 'mcdowell', 'palma', 'arriesgado', 'mcklusky', 'labute', 'almod', 'besson', 'lilia', 'dudsville', 'krawczyk', 'fangoria', 'evolu', 'bullwinkle', 'desee', 'clancy', 'bjorkness', 'esther', 'vinnie', 'gulzar', 'cleanflicks', 'potemkin', 'addessi', 'uzumaki', 'radcliffe', 'tosca', 'gere', 'elie', 'samira', 'haneke', 'seldahl', 'charlize', 'lynne', 'oscura', 'myer', 'ayres', 'burkinabe', 'pinochet', 'claud', 'contando', 'serry', 'inhospitability', 'ratliff', 'simbolizando', 'cronenberg', 'takashi', 'hammily', 'behan', 'tufano', 'battista', 'bartlett', 'shohei', 'redford', 'amari', 'mika', 'doris', 'stamos', 'bolado', 'frida', 'jed', 'sincera', 'labours', 'hayao', 'sontag', 'addams', 'cabe', 'dridi', 'ratner', 'resultan', 'eurotrash', 'pretenciosas', 'payami', 'elvira', 'schindler', 'vonnegut', 'freudianism', 'viveka', 'miscasts', 'clearasil', 'corruscating', 'saeko', 'gedeck', 'raimondi', 'estudo', 'endedness', 'demme', 'calibre', 'vulakoro', 'digno', 'unlaughable', 'carrey', 'reigen', 'tolstoy', 'underdramatized', 'augustinian', 'unhibited', 'prewarned', 'sandrine', 'wierzbicki', 'schaeffer', 'deseos', 'affirmational', 'orwell', 'desfecho', 'zoolander', 'kouyate', 'ontiveros', 'goldmember', 'hawley', 'gidget', 'cardoso', 'polanski', 'willams', 'christophe', 'mcmullen', 'hellstenius', 'reginald', 'roteirista', 'resnick', 'demeanour', 'khouri', 'suspeito', 'mamet', 'dumbfoundingly', 'soliah', 'psychodramatics', 'rifkin', 'labour', 'wewannour', 'siegel', 'orqu', 'hutchins', 'rdida', 'nanette', 'niccol', 'iditarod', 'mattel', 'cassel', 'crummles', 'contemplarse', 'shinya', 'gosto', 'komediant', 'uncharismatically', 'emphasising', 'delicia', 'grenier', 'babbitt', 'meyjes', 'jacobi', 'gaghan', 'melodram', 'imamura', 'beavis', 'scherfig', 'malle', 'otar', 'amini', 'hatosy', 'chekhov', 'shandling', 'kafkaesque', 'autocritique', 'sonnenfeld', 'cipherlike', 'steinberg', 'policiales', 'constata', 'faso', 'collosum', 'dateflick', 'exibi', 'stica', 'gellar', 'salton', 'tully', 'neeson', 'yakusho', 'hornby', 'mergulha', 'spader', 'montias', 'macdowell', 'armenia', 'mcfarlane', 'bugsy', 'dario', 'rockwell', 'yimou', 'hjelje', 'expresar', 'grabowsky', 'realidade', 'bornin', 'stockwell', 'gyllenhaal', 'bailly', 'premisa', 'audiard', 'jonze', 'guillen', 'pidamente', 'marxian', 'anakin', 'vittorio', 'haynes', 'talanc', 'carlito', 'mouglalis', 'torna', 'abrahams', 'ciertos', 'pascale', 'rorschach', 'parodia', 'ventually', 'cirulnick', 'isabelle', 'rosenthal', 'flakeball', 'colosal', 'pythonesque', 'salma', 'flatbush', 'armenians', 'audrey', 'banderas', 'sychowski', 'lillard', 'intacto', 'woolf', 'desnudo', 'indieflick', 'mehta', 'tierney', 'hubert', 'allodi', 'droppingly', 'caulfield', 'unfakable', 'margolo', 'nietzsche', 'molony', 'plympton', 'kafka', 'certamente', 'kumble', 'qatsi', 'olympus', 'italicizes', 'scorsese', 'bedevilling', 'francophiles', 'parton', 'humour', 'fizzability', 'unplundered', 'wwii', 'benigni', 'jewison', 'profesores', 'nuttgens', 'nalin', 'clayburgh', 'guillermo', 'italianas', 'milla', 'kapur', 'tashlin', 'reparto', 'puccini', 'patriotero', 'depalma', 'fessenden', 'artnering', 'antonia', 'kaos', 'compleja', 'cantet', 'savoca', 'jiri', 'peralta', 'to', 'latifah', 'ribisi', 'meeropol', 'zaza', 'tarantino', 'nonchallenging', 'centre', 'fallas', 'colgate', 'eisenberg', 'nebrida', 'verbinski', 'goodall', 'hunnam', 'greengrass', 'decidiram', 'curiosa', 'fracasso', 'romijn', 'weissman', 'weigel', 'eudora', 'francamente', 'binoche', 'janklowicz', 'andersson', 'dalloway', 'burdette', 'unembarrassing', 'mediocridade', 'originalidad', 'ackerman', 'chouraqui', 'watstein', 'nenette', 'rembrandt', 'janszen', 'manhunter', 'unsalvageability', 'joff', 'grato', 'savour', 'tartakovsky', 'marveilleux', 'naipaul', 'deniro', 'shakespearean', 'majidi', 'prejuicios', 'phifer', 'asay', 'interesantes', 'lmica', 'crudup', 'pellington', 'bogdanich', 'esfera', 'dumas', 'guei', 'csokas', 'demeo', 'groen', 'esteticamente', 'eroti', 'coolidge', 'stico', 'sitcomishly', 'idemoto', 'ganha', 'dench', 'aquel', 'actorish', 'anspaugh', 'vardalos', 'unclassifiably', 'philibert', 'powaqqatsi', 'schweiger', 'iwai', 'chabrolian', 'shainberg', 'liman', 'louiso', 'hashiguchi', 'mesmos', 'rinzler', 'blethyn', 'windtalkers', 'montied', 'dahmer', 'kurys', 'aurelie', 'scorcese', 'rothman', 'kahlo', 'kozmo', 'kinnear', 'aleck', 'idiomas', 'ziyi', 'avventura', 'fincher', 'categorisation', 'schiffer', 'costner', 'burstein', 'famuyiwa', 'aiello', 'materalism', 'instante', 'convencional', 'kieslowski', 'binks', 'altman', 'ahola', 'montaje', 'belushi', 'shagster', 'giler', 'ballhaus', 'sommers', 'collinwood', 'burkina', 'defeatingly', 'musset', 'scarpia', 'volletta', 'mib', 'fiennes', 'sydow', 'nohe', 'heidegger', 'lohman', 'movilizador', 'goldbacher', 'godfrey', 'lasker', 'sandeman', 'makmalbaf', 'cierta', 'nikita', 'taymor', 'uwe', 'cusack', 'siuation', 'pulpiness', 'hawke', 'copmovieland', 'travil', 'chaiken', 'kahlories', 'bazadona', 'kaufmann', 'teatral', 'overstylized', 'papai', 'aproveitar', 'minac', 'ltimo', 'carlen', 'raimi', 'massoud', 'attal', 'shlockmeister', 'tampoco', 'bartleby', 'patric', 'deadeningly', 'topkapi', 'sandler', 'glizty', 'snazziness', 'leblanc', 'asbury', 'sugarman', 'petroni', 'persegui', 'updatings', 'iosseliani', 'borchardt', 'coppola', 'aceitou', 'seigner', 'elmer', 'etoiles', 'maryam', 'kirshner', 'earnhart', 'hossein', 'cristo', 'mulan', 'franz', 'deepa', 'higuchinsky', 'gianni', 'koshashvili', 'hacerlo', 'pasolini', 'intelectualmente', 'macgraw', 'achival', 'tanovic', 'hundert', 'emocionalmente', 'akasha', 'byron', 'veggietales', 'penotti', 'frodo', 'runyon', 'toolbags', 'bielinsky', 'hayek', 'waldo', 'actuada', 'sinise', 'beresford', 'affleck', 'bardem', 'espectacular', 'nanook', 'endeavour', 'tamb', 'divertido', 'hatfield', 'xfl', 'banales', 'olvidar', 'humourless', 'paxton', 'schwartzman', 'ecclesiastes', 'danis', 'harbour', 'schumacher', 'uplifter', 'culminando', 'complementares', 'decter', 'shunji', 'nettelbeck', 'redgrave', 'carlin', 'ringu', 'carmichael', 'criar', 'verdadera', 'bille', 'transforma', 'wladyslaw', 'mcgowan', 'slowtime', 'levant', 'alain', 'scherick', 'jeanette', 'butterworth', 'justine', 'fleder', 'steinis', 'espet', 'dirigida', 'passo', 'laurence', 'ncia', 'sampi', 'cadness', 'kaputschnik', 'tulo', 'shindler', 'statham', 'culkin', 'jagger', 'inuit', 'oedekerk', 'sumamente', 'bickle', 'ferzan', 'seinfeld', 'niro', 'alagna', 'ramis', 'thurman', 'forster', 'twohy', 'pompeo', 'lavinia', 'cintas', 'dreyfus', 'wimmer', 'titus', 'everlyn', 'choquart', 'mcgrath', 'mctiernan', 'silberstein', 'christelle', 'nticas', 'oliviera', 'perdona', 'jez', 'bettany', 'cremaster', 'miedos', 'denlopp', 'bladerunner', 'balto', 'serrault', 'lagaan', 'pollak', 'democracie', 'depois', 'wildean', 'mcbeal', 'gadzooks', 'derivativeness', 'rymer', 'pokepie', 'bigelow', 'necessidade', 'comedias', 'sico', 'quido', 'desarrollarse', 'fontaine', 'maguire', 'barlow', 'atacar', 'masterpeice', 'eyre', 'thulani', 'moulds', 'sinais', 'dangerfield', 'garc', 'errol', 'achronological', 'gaitskill', 'juergensen', 'girardot', 'equlibrium', 'spinotti', 'avary', 'springsteen', 'fantasma', 'juliette', 'andr', 'rmino', 'camareras', 'penas', 'perabo', 'egoyan', 'cineasts', 'saldanha', 'conmovedora', 'ferrera', 'revelled', 'tambor', 'absolutamente', 'maelstr', 'zealanders', 'romething', 'epis', 'turpin', 'germanic', 'consegue', 'rohmer', 'socrates', 'jarecki', 'unrecommendable', 'julianne', 'hitchcock', 'besco', 'mcconaughey', 'selby', 'ryanovich', 'miike', 'ningu', 'benoit', 'hartley', 'koury', 'ruzowitzky', 'gilliam', 'sequer', 'sendo', 'macbeth', 'untugged', 'nolden', 'verdu', 'ploughing', 'gerbosi', 'jacobson', 'versi', 'igby', 'splatterfests', 'jelinek', 'leavitt', 'griffith', 'kalesniko', 'colour', 'jagjit', 'neill', 'desta', 'nachtwey', 'morrissette', 'longo', 'thornberry', 'satirizado', 'sandlerian', 'horton', 'favour', 'vh', 'marvellous', 'munchausen', 'berling', 'wertmuller', 'pasadena', 'gabriele', 'kurosawa', 'kieran', 'entretiene', 'raphael', 'representando', 'witherspoon', 'elmore', 'mpaa', 'danilo', 'shapable', 'predecesora', 'pacino', 'ivans', 'koepp', 'musclefest', 'hudlin', 'qualls', 'belinsky', 'precisamente', 'chanukah', 'elizabethan', 'mullinski', 'freundlich', 'gilmore', 'cacoyannis', 'apted', 'sayles', 'kubrick', 'marcken', 'tsukamoto', 'diop', 'bradbury', 'arnie', 'floria', 'atreve', 'nesbitt', 'precisa', 'sinta', 'reeses', 'havia', 'capturou', 'swanson', 'mibii', 'bergmanesque', 'liotta', 'barris', 'cimarron', 'ellefsen', 'romanek', 'alfonso', 'truncheoning', 'stainton', 'sarandon', 'verete', 'tavernier', 'ryoko', 'ritter', 'abrams', 'byatt', 'dicaprio', 'tykwer', 'japanimator', 'aesop', 'dogme', 'iben', 'acontecimentos', 'uruk', 'obviation', 'and', 'kasem', 'feardotcom', 'ricture', 'branagh', 'hepburn', 'shafer', 'desaponta', 'drippiness', 'larson', 'napoli', 'timo', 'birot', 'unconned', 'pryor', 'bueller', 'giles', 'rowling', 'jovovich', 'turturro', 'cula', 'stuporously', 'tezuka', 'tunisian', 'thandie', 'fuhrman', 'nicolas', 'pinocchio', 'arkin', 'campanella', 'unemotive', 'alexandre', 'aqueles', 'kibbitzes', 'entreter', 'beatrice', 'malfitano', 'westfeldt', 'cockettes', 'donati', 'garry', 'cuaron', 'shadyac', 'almodovar', 'zemeckis', 'logra', 'krige', 'likableness', 'divertida', 'cagney', 'predecible', 'aidan', 'greaseballs', 'behaviour', 'mulholland', 'solondz', 'schrader', 'hubac', 'tambi', 'rampling', 'jir', 'musicais', 'benshan', 'demencial', 'coburn', 'menzel', 'dullingly', 'ladr', 'pollyana', 'gantzes', 'spookies', 'theron', 'rubbo', 'cuadro', 'kiarostami', 'viterelli', 'adventues', 'hotsies', 'risa', 'sascha', 'unslick', 'cliffsnotes', 'helene', 'preocupe', 'muniz', 'stoppard', 'overmanipulative', 'kline', 'townsend', 'liyan', 'grimas', 'majid', 'andys', 'balzac', 'fassbinder', 'marivaux', 'nijinsky', 'gainsbourg', 'roisterous', 'ramsay', 'theatre', 'heremakono', 'hickenlooper', 'ssimos', 'enfrentar', 'prechewed', 'backmasking', 'ourside', 'pryce', 'qutting', 'bernal', 'woodard', 'kosminsky', 'gheorghiu', 'tunney', 'kosashvili', 'cinemantic', 'gymkata', 'danang', 'veronique', 'mccoist', 'splittingly', 'pode', 'entretenida', 'kingsley', 'flavours', 'mueller', 'malone', 'quaid', 'stepford', 'bierbichler', 'makhmalbaf', 'adicional', 'charly', 'leguizamo', 'berkley', 'akira', 'recoing', 'bergman', 'devos', 'baran', 'denzel', 'lyne', 'schnitzler', 'profundamente', 'retadora', 'espect', 'harland', 'jeunet', 'miramax', 'leppard', 'pouqu', 'breckin', 'ruggero', 'clericks', 'entretenimiento', 'luhrmann', 'cedric', 'incompet', 'sissako', 'gosford', 'saudades', 'celebi', 'poderosa', 'aragorn', 'sprecher', 'sabrina', 'arwen', 'reggio', 'stima', 'bondish', 'moretti', 'shapiro', 'hirosue', 'hemmingway', 'gayton', 'ttner', 'herzog', 'abderrahmane', 'abandone', 'fica', 'abandono', 'estava', 'felinni', 'abbass', 'igualmente', 'philbin', 'superada', 'shiri', 'shankman', 'petter', 'auteuil', 'gauls', 'recurre', 'velma', 'marisa', 'segal', 'gibney', 'tchaikovsky', 'ssima', 'huppert', 'pender', 'estafeta', 'rintar', 'silberling', 'of', 'premissa', 'nrelentingly', 'wilco', 'galinsky', 'tarzan', 'gerardo', 'plimpton', 'duraci', 'welles', 'spielbergian', 'manqu', 'wahlberg', 'wollter', 'naqoyqatsi', 'bruckheimeresque', 'irwins', 'maud', 'guzm', 'bisset', 'assayas', 'shreve', 'unsuspenseful', 'fiorentino', 'walken', 'gondry', 'coen', 'phocion', 'kurupt', 'tomei', 'mckay', 'linklater', 'carnahan', 'karmen', 'giannini', 'rodrigues', 'minkoff', 'runteldat', 'piccoli', 'lathan', 'shatner', 'cheech', 'clutchy', 'renoir', 'parris', 'leoni', 'deje', 'weimar', 'arliss', 'dunst', 'explicados', 'howie', 'brosnan', 'carvey', 'cletis', 'zwick', 'flatula', 'dankworth', 'zaidan', 'enternecedora', 'fantasti', 'hermocrates', 'pabst', 'thekids', 'elemento', 'atacarse', 'treebeard', 'wachowski', 'diferen', 'oesn', 'ghandi', 'caruso', 'efteriades', 'pincel', 'morlocks', 'pta', 'wolodarsky', 'soberbio', 'bluto', 'seagal', 'hideo', 'eisenstein', 'devito', 'caddyshack', 'brecht', 'gump', 'mattei', 'shakesperean', 'corcuera', 'sonrisa', 'skolnick', 'cassavetes', 'scuzbag', 'decirles', 'goyer', 'artsploitation', 'hanukkah', 'possui', 'narrativa', 'strainingly', 'shapelessly', 'pootie', 'learnt', 'emocionante', 'incoloro', 'orson', 'crispin', 'fulford', 'antwone', 'yiddish', 'quentin', 'grey', 'estupendamente', 'balkans', 'gruelling', 'lanie', 'barrymore', 'cavaradossi', 'longley', 'newfoundland', 'kissinger', 'dilbert', 'rosenbaum', 'phonce', 'hitchcockian', 'outgag', 'truffaut', 'shyamalan', 'elegante', 'testud', 'godard', 'jakob', 'obligada', 'dirigir', 'baio', 'glamour', 'grandiosa', 'dickensian', 'deutchland', 'soderbergh', 'schnieder', 'morvern', 'shamu', 'estranhos', 'elegiacally', 'tautou', 'fresnadillo', 'bleibtreu', 'headbangingly', 'kilner', 'aburrido', 'swimfan', 'prefeminist', 'navajos', 'ferrara', 'ilya', 'enviar', 'landbound', 'esfor', 'sailboaters', 'renner', 'byler', 'hogwarts', 'mothman', 'decasia', 'leontine', 'visualmente', 'cuar', 'bottomlessly', 'paulette', 'apallingly', 'hitchcockianism', 'matheson', 'niels', 'sillified', 'oliveira', 'stagecrafts', 'zeus', 'direto', 'xiaoshuai', 'thornberrys', 'splendour', 'acabamos', 'monkeyfun', 'veljohnson', 'gabbiest', 'interspliced', 'eastwood', 'solondzian', 'bogdanovich', 'idoosyncratic', 'russos', 'hypertime', 'zhuangzhuang', 'nickleby', 'ltimos', 'manipulador', 'dolgin', 'zzzzzzzzz', 'alientation', 'graceland', 'blutarsky', 'yvan', 'josef', 'instalment', 'holofcener', 'laramie', 'notting', 'hannibal', 'amoses', 'intentando', 'inquestion', 'szpilman', 'emilie', 'dreamworks', 'shayamalan', 'prescinde', 'sencillamente', 'desplechin', 'andamento', 'senegalese', 'provocatuers', 'baca', 'levar', 'silbersteins', 'escapa', 'wifty', 'cattaneo', 'puportedly', 'retrata', 'leplouff', 'pianista', 'flatman', 'gollum', 'yosuke', 'chesterton', 'destinees', 'toity', 'personajes', 'strafings', 'hearst', 'aladdin', 'surfacey', 'unencouraging', 'pentacostal', 'espectador', 'roteiro', 'soapdish', 'alcatraz', 'favourite', 'bobbidi', 'callie', 'complejos', 'bibbidy', 'auschwitz', 'exporing', 'noyce', 'flck', 'ararat', 'arquette', 'jaglom', 'nonethnic', 'stonehenge', 'carion', 'schneidermeister', 'garbus', 'schepisi', 'genevieve', 'schweig', 'michell', 'augustine', 'pistoled', 'meaningness', 'nadia', 'whitaker', 'gulpilil', 'polson', 'duvall', 'actuaci', 'mcadams', 'accorsi', 'meara', 'damme', 'schwentke', 'reeboir', 'derrida', 'malkovich', 'impotentes', 'magimel', 'blanchett', 'imponderably', 'paradiso', 'abagnale', 'tardier', 'werner', 'apesar', 'aaliyah', 'farrelly', 'mcculloch', 'perde', 'hinton', 'stortelling']\n"
     ]
    }
   ],
   "source": [
    "oov_words = [word for word in trainDataset_vocabs if word not in googleNews_w2v_model]\n",
    "oov_words_size = len(oov_words)\n",
    "\n",
    "print(oov_words_size)\n",
    "print(oov_words)"
   ]
  },
  {
   "cell_type": "markdown",
   "metadata": {},
   "source": [
    "## (c) initialize an embedding matrix\n",
    "- handling of OOV words: using the mean vector from the pretrained w2v vector"
   ]
  },
  {
   "cell_type": "code",
   "execution_count": 10,
   "metadata": {},
   "outputs": [],
   "source": [
    "import numpy as np\n",
    "\n",
    "embedding_dim = googleNews_w2v_model.vector_size # 300\n",
    "\n",
    "# Initialize embedding matrix (train_data_vocab_size+1 X embedding dimension)\n",
    "# `+1` for OOV words in val and test set\n",
    "embedding_matrix = np.zeros((trainDataset_vocab_size+1, embedding_dim))\n",
    "\n",
    "# Vocab-to-index dict\n",
    "trainDataset_vocab_index = {vocab: i+1 for i, vocab in enumerate(trainDataset_vocabs)}\n",
    "trainDataset_vocab_index[\"\"] = 0 # For OOV words in val and test set\n",
    "\n",
    "# Mean vector of the pretrained w2v\n",
    "w2v_vectors = np.array([googleNews_w2v_model[vocab] for vocab in googleNews_w2v_model.index_to_key])\n",
    "mean_vector = np.mean(w2v_vectors, axis=0)\n"
   ]
  },
  {
   "cell_type": "code",
   "execution_count": 17,
   "metadata": {},
   "outputs": [],
   "source": [
    "# Fill in embedding matrix\n",
    "for vocab in trainDataset_vocabs:\n",
    "    # Assign mean vector for OOV words\n",
    "    if vocab in oov_words:\n",
    "        embedding_matrix[trainDataset_vocab_index[vocab]] = mean_vector\n",
    "    else:\n",
    "        embedding_matrix[trainDataset_vocab_index[vocab]] = googleNews_w2v_model[vocab]\n",
    "\n",
    "# Assign mean vector for OOV words in val and test set\n",
    "embedding_matrix[trainDataset_vocab_index[\"\"]] = mean_vector"
   ]
  },
  {
   "cell_type": "markdown",
   "metadata": {},
   "source": [
    "**Export Embedding Matrix & trainDataset_vocab_index**"
   ]
  },
  {
   "cell_type": "code",
   "execution_count": 18,
   "metadata": {},
   "outputs": [
    {
     "name": "stdout",
     "output_type": "stream",
     "text": [
      "Saving object to local...\n",
      "Object saved to local!\n",
      "Saving object to local...\n",
      "Object saved to local!\n"
     ]
    }
   ],
   "source": [
    "from utils.file import save_to_local_file\n",
    "save_to_local_file(\"models/embedding_matrix.pckl\", embedding_matrix)\n",
    "save_to_local_file(\"models/embedding_matrix_train_dataset_vocab_to_index.pckl\", trainDataset_vocab_index)"
   ]
  }
 ],
 "metadata": {
  "kernelspec": {
   "display_name": ".venv",
   "language": "python",
   "name": "python3"
  },
  "language_info": {
   "codemirror_mode": {
    "name": "ipython",
    "version": 3
   },
   "file_extension": ".py",
   "mimetype": "text/x-python",
   "name": "python",
   "nbconvert_exporter": "python",
   "pygments_lexer": "ipython3",
   "version": "3.11.9"
  }
 },
 "nbformat": 4,
 "nbformat_minor": 2
}
