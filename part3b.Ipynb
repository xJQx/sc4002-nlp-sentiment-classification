{
 "cells": [
  {
   "cell_type": "markdown",
   "metadata": {},
   "source": [
    "# Part 3(b)\n",
    "\n",
    "This notebook will highlight the process, result and insights obtained from using the embedding matrix built that includes OOV words with their contextual average as embeddings."
   ]
  },
  {
   "cell_type": "markdown",
   "metadata": {},
   "source": [
    "## Import Embedding Matrix"
   ]
  },
  {
   "cell_type": "code",
   "execution_count": 1,
   "metadata": {},
   "outputs": [],
   "source": [
    "import json\n",
    "from pathlib import Path\n",
    "\n",
    "import numpy as np\n",
    "\n",
    "embedding_path = Path(\"models/w2v_matrix.npy\")\n",
    "index_from_word_path = Path(\"models/w2v_index.json\")\n",
    "\n",
    "embedding_matrix = np.load(embedding_path)\n",
    "with index_from_word_path.open() as f:\n",
    "    index_from_word = json.load(f)"
   ]
  },
  {
   "cell_type": "markdown",
   "metadata": {},
   "source": [
    "## Prepare Dataaset"
   ]
  },
  {
   "cell_type": "markdown",
   "metadata": {},
   "source": [
    "(a) Import datasets"
   ]
  },
  {
   "cell_type": "code",
   "execution_count": 2,
   "metadata": {},
   "outputs": [
    {
     "name": "stderr",
     "output_type": "stream",
     "text": [
      "[nltk_data] Downloading package punkt to\n",
      "[nltk_data]     C:\\Users\\juinl\\AppData\\Roaming\\nltk_data...\n",
      "[nltk_data]   Package punkt is already up-to-date!\n",
      "[nltk_data] Downloading package treebank to\n",
      "[nltk_data]     C:\\Users\\juinl\\AppData\\Roaming\\nltk_data...\n",
      "[nltk_data]   Package treebank is already up-to-date!\n",
      "[nltk_data] Downloading package punkt_tab to\n",
      "[nltk_data]     C:\\Users\\juinl\\AppData\\Roaming\\nltk_data...\n",
      "[nltk_data]   Package punkt_tab is already up-to-date!\n"
     ]
    }
   ],
   "source": [
    "from utils.text import tokenize\n",
    "from datasets import load_dataset\n",
    "\n",
    "dataset = load_dataset(\"rotten_tomatoes\")\n",
    "train_dataset = tokenize(dataset[\"train\"])\n",
    "val_dataset = tokenize(dataset[\"validation\"])\n",
    "test_dataset = tokenize(dataset[\"test\"])"
   ]
  },
  {
   "cell_type": "code",
   "execution_count": 3,
   "metadata": {},
   "outputs": [
    {
     "data": {
      "text/plain": [
       "Dataset({\n",
       "    features: ['text', 'label', 'tokens', 'original_len', 'indexes'],\n",
       "    num_rows: 8530\n",
       "})"
      ]
     },
     "execution_count": 3,
     "metadata": {},
     "output_type": "execute_result"
    }
   ],
   "source": [
    "from utils.text import token_to_index\n",
    "\n",
    "train_dataset = token_to_index(dataset=train_dataset, index_from_word=index_from_word)\n",
    "val_dataset = token_to_index(dataset=val_dataset, index_from_word=index_from_word)\n",
    "test_dataset = token_to_index(dataset=test_dataset, index_from_word=index_from_word)\n",
    "\n",
    "train_dataset"
   ]
  },
  {
   "cell_type": "code",
   "execution_count": 4,
   "metadata": {},
   "outputs": [],
   "source": [
    "train_dataset = train_dataset.select_columns([\"label\", \"original_len\", \"indexes\"])\n",
    "val_dataset = val_dataset.select_columns([\"label\", \"original_len\", \"indexes\"])\n",
    "test_dataset = test_dataset.select_columns([\"label\", \"original_len\", \"indexes\"])"
   ]
  },
  {
   "cell_type": "code",
   "execution_count": 5,
   "metadata": {},
   "outputs": [],
   "source": [
    "train_dataset.set_format(type=\"torch\")\n",
    "val_dataset.set_format(type=\"torch\")\n",
    "test_dataset.set_format(type=\"torch\")"
   ]
  },
  {
   "cell_type": "markdown",
   "metadata": {},
   "source": [
    "## Train RNN"
   ]
  },
  {
   "cell_type": "markdown",
   "metadata": {},
   "source": [
    "We use Optuna to perform heuristic search on optimal configuration when the embedding matrix with OOV words is updatable during training."
   ]
  },
  {
   "cell_type": "code",
   "execution_count": 8,
   "metadata": {},
   "outputs": [
    {
     "name": "stderr",
     "output_type": "stream",
     "text": [
      "[I 2024-11-04 00:28:03,558] A new study created in memory with name: no-name-5f0b6e84-68a5-43ef-bce2-e86bdcd43616\n",
      "Seed set to 42\n"
     ]
    },
    {
     "name": "stdout",
     "output_type": "stream",
     "text": [
      "---------- batch_size_512; lr_0.01; optimizer_Adam; hidden_dim_32; num_layers_2; sentence_representation_last ----------\n"
     ]
    },
    {
     "name": "stderr",
     "output_type": "stream",
     "text": [
      "GPU available: True (cuda), used: False\n",
      "TPU available: False, using: 0 TPU cores\n",
      "HPU available: False, using: 0 HPUs\n",
      "\n",
      "  | Name   | Type               | Params | Mode \n",
      "------------------------------------------------------\n",
      "0 | model  | RNN                | 4.9 M  | train\n",
      "1 | metric | MulticlassAccuracy | 0      | train\n",
      "------------------------------------------------------\n",
      "4.9 M     Trainable params\n",
      "0         Non-trainable params\n",
      "4.9 M     Total params\n",
      "19.654    Total estimated model params size (MB)\n",
      "7         Modules in train mode\n",
      "0         Modules in eval mode\n"
     ]
    },
    {
     "data": {
      "application/vnd.jupyter.widget-view+json": {
       "model_id": "c3f94a9e7ab142b19f583bbadc46b94b",
       "version_major": 2,
       "version_minor": 0
      },
      "text/plain": [
       "Sanity Checking: |          | 0/? [00:00<?, ?it/s]"
      ]
     },
     "metadata": {},
     "output_type": "display_data"
    },
    {
     "data": {
      "application/vnd.jupyter.widget-view+json": {
       "model_id": "707a0def5716429f9638ac5007159b34",
       "version_major": 2,
       "version_minor": 0
      },
      "text/plain": [
       "Training: |          | 0/? [00:00<?, ?it/s]"
      ]
     },
     "metadata": {},
     "output_type": "display_data"
    },
    {
     "data": {
      "application/vnd.jupyter.widget-view+json": {
       "model_id": "aaf4beffec534367b177782933615015",
       "version_major": 2,
       "version_minor": 0
      },
      "text/plain": [
       "Validation: |          | 0/? [00:00<?, ?it/s]"
      ]
     },
     "metadata": {},
     "output_type": "display_data"
    },
    {
     "data": {
      "application/vnd.jupyter.widget-view+json": {
       "model_id": "c507d59a81d74d70a2249ac6826a429d",
       "version_major": 2,
       "version_minor": 0
      },
      "text/plain": [
       "Validation: |          | 0/? [00:00<?, ?it/s]"
      ]
     },
     "metadata": {},
     "output_type": "display_data"
    },
    {
     "data": {
      "application/vnd.jupyter.widget-view+json": {
       "model_id": "351e22d6674147559cebd9c1d8c15944",
       "version_major": 2,
       "version_minor": 0
      },
      "text/plain": [
       "Validation: |          | 0/? [00:00<?, ?it/s]"
      ]
     },
     "metadata": {},
     "output_type": "display_data"
    },
    {
     "data": {
      "application/vnd.jupyter.widget-view+json": {
       "model_id": "98245f9b61854afdb3beb95aaa99f598",
       "version_major": 2,
       "version_minor": 0
      },
      "text/plain": [
       "Validation: |          | 0/? [00:00<?, ?it/s]"
      ]
     },
     "metadata": {},
     "output_type": "display_data"
    },
    {
     "name": "stderr",
     "output_type": "stream",
     "text": [
      "[I 2024-11-04 00:28:43,518] Trial 0 finished with value: 0.5559382438659668 and parameters: {'hidden_dim': 32, 'num_layers': 2, 'optimizer_name': 'Adam', 'batch_size': 512, 'learning_rate': 0.01, 'sentence_representation_type': 'last'}. Best is trial 0 with value: 0.5559382438659668.\n",
      "Seed set to 42\n"
     ]
    },
    {
     "name": "stdout",
     "output_type": "stream",
     "text": [
      "---------- batch_size_1024; lr_0.0001; optimizer_Adam; hidden_dim_256; num_layers_2; sentence_representation_average ----------\n"
     ]
    },
    {
     "name": "stderr",
     "output_type": "stream",
     "text": [
      "GPU available: True (cuda), used: False\n",
      "TPU available: False, using: 0 TPU cores\n",
      "HPU available: False, using: 0 HPUs\n",
      "\n",
      "  | Name   | Type               | Params | Mode \n",
      "------------------------------------------------------\n",
      "0 | model  | RNN                | 5.2 M  | train\n",
      "1 | metric | MulticlassAccuracy | 0      | train\n",
      "------------------------------------------------------\n",
      "5.2 M     Trainable params\n",
      "0         Non-trainable params\n",
      "5.2 M     Total params\n",
      "20.831    Total estimated model params size (MB)\n",
      "7         Modules in train mode\n",
      "0         Modules in eval mode\n"
     ]
    },
    {
     "data": {
      "application/vnd.jupyter.widget-view+json": {
       "model_id": "3f76c335465a4a12b34375b3d43eb1ad",
       "version_major": 2,
       "version_minor": 0
      },
      "text/plain": [
       "Sanity Checking: |          | 0/? [00:00<?, ?it/s]"
      ]
     },
     "metadata": {},
     "output_type": "display_data"
    },
    {
     "data": {
      "application/vnd.jupyter.widget-view+json": {
       "model_id": "bb1f646b838b412d93f507d2dfb003f5",
       "version_major": 2,
       "version_minor": 0
      },
      "text/plain": [
       "Training: |          | 0/? [00:00<?, ?it/s]"
      ]
     },
     "metadata": {},
     "output_type": "display_data"
    },
    {
     "data": {
      "application/vnd.jupyter.widget-view+json": {
       "model_id": "5ff94f8d5f964f42a0cbf2f7c2fc415f",
       "version_major": 2,
       "version_minor": 0
      },
      "text/plain": [
       "Validation: |          | 0/? [00:00<?, ?it/s]"
      ]
     },
     "metadata": {},
     "output_type": "display_data"
    },
    {
     "data": {
      "application/vnd.jupyter.widget-view+json": {
       "model_id": "10781db8f20c435784bb4ae4f2b43d02",
       "version_major": 2,
       "version_minor": 0
      },
      "text/plain": [
       "Validation: |          | 0/? [00:00<?, ?it/s]"
      ]
     },
     "metadata": {},
     "output_type": "display_data"
    },
    {
     "data": {
      "application/vnd.jupyter.widget-view+json": {
       "model_id": "33ff204fe3fb4998a66797207b85331e",
       "version_major": 2,
       "version_minor": 0
      },
      "text/plain": [
       "Validation: |          | 0/? [00:00<?, ?it/s]"
      ]
     },
     "metadata": {},
     "output_type": "display_data"
    },
    {
     "data": {
      "application/vnd.jupyter.widget-view+json": {
       "model_id": "faabfe59172b4143bcbff39b48584145",
       "version_major": 2,
       "version_minor": 0
      },
      "text/plain": [
       "Validation: |          | 0/? [00:00<?, ?it/s]"
      ]
     },
     "metadata": {},
     "output_type": "display_data"
    },
    {
     "data": {
      "application/vnd.jupyter.widget-view+json": {
       "model_id": "7f79575fdf9641a99189edc0f13f38c5",
       "version_major": 2,
       "version_minor": 0
      },
      "text/plain": [
       "Validation: |          | 0/? [00:00<?, ?it/s]"
      ]
     },
     "metadata": {},
     "output_type": "display_data"
    },
    {
     "data": {
      "application/vnd.jupyter.widget-view+json": {
       "model_id": "7ab39a1db7d5477d982cc3f46f57fc41",
       "version_major": 2,
       "version_minor": 0
      },
      "text/plain": [
       "Validation: |          | 0/? [00:00<?, ?it/s]"
      ]
     },
     "metadata": {},
     "output_type": "display_data"
    },
    {
     "data": {
      "application/vnd.jupyter.widget-view+json": {
       "model_id": "cebdcd6cfb644fbeac6150e6aa130204",
       "version_major": 2,
       "version_minor": 0
      },
      "text/plain": [
       "Validation: |          | 0/? [00:00<?, ?it/s]"
      ]
     },
     "metadata": {},
     "output_type": "display_data"
    },
    {
     "data": {
      "application/vnd.jupyter.widget-view+json": {
       "model_id": "c139db70ca384205a7f2d4202ca1683a",
       "version_major": 2,
       "version_minor": 0
      },
      "text/plain": [
       "Validation: |          | 0/? [00:00<?, ?it/s]"
      ]
     },
     "metadata": {},
     "output_type": "display_data"
    },
    {
     "data": {
      "application/vnd.jupyter.widget-view+json": {
       "model_id": "d5a98b7803ba40f8b58fed1b0b4b72dd",
       "version_major": 2,
       "version_minor": 0
      },
      "text/plain": [
       "Validation: |          | 0/? [00:00<?, ?it/s]"
      ]
     },
     "metadata": {},
     "output_type": "display_data"
    },
    {
     "data": {
      "application/vnd.jupyter.widget-view+json": {
       "model_id": "d02b6dd74562477b90d8a91f5fb5cf30",
       "version_major": 2,
       "version_minor": 0
      },
      "text/plain": [
       "Validation: |          | 0/? [00:00<?, ?it/s]"
      ]
     },
     "metadata": {},
     "output_type": "display_data"
    },
    {
     "data": {
      "application/vnd.jupyter.widget-view+json": {
       "model_id": "b19fa309c58b49c3a9b4f01aacc61d0f",
       "version_major": 2,
       "version_minor": 0
      },
      "text/plain": [
       "Validation: |          | 0/? [00:00<?, ?it/s]"
      ]
     },
     "metadata": {},
     "output_type": "display_data"
    },
    {
     "data": {
      "application/vnd.jupyter.widget-view+json": {
       "model_id": "64b81a99ee9d4a4f80c77675589b5633",
       "version_major": 2,
       "version_minor": 0
      },
      "text/plain": [
       "Validation: |          | 0/? [00:00<?, ?it/s]"
      ]
     },
     "metadata": {},
     "output_type": "display_data"
    },
    {
     "data": {
      "application/vnd.jupyter.widget-view+json": {
       "model_id": "8702acaa47944a1aba1e37e4fd21dfc4",
       "version_major": 2,
       "version_minor": 0
      },
      "text/plain": [
       "Validation: |          | 0/? [00:00<?, ?it/s]"
      ]
     },
     "metadata": {},
     "output_type": "display_data"
    },
    {
     "data": {
      "application/vnd.jupyter.widget-view+json": {
       "model_id": "4eb5e2b8536e48bbb19e13a756daa539",
       "version_major": 2,
       "version_minor": 0
      },
      "text/plain": [
       "Validation: |          | 0/? [00:00<?, ?it/s]"
      ]
     },
     "metadata": {},
     "output_type": "display_data"
    },
    {
     "data": {
      "application/vnd.jupyter.widget-view+json": {
       "model_id": "2999eec1badf4a57b0bca2a2339e5b27",
       "version_major": 2,
       "version_minor": 0
      },
      "text/plain": [
       "Validation: |          | 0/? [00:00<?, ?it/s]"
      ]
     },
     "metadata": {},
     "output_type": "display_data"
    },
    {
     "data": {
      "application/vnd.jupyter.widget-view+json": {
       "model_id": "889c9a068547446fa9c59aa1fe7bf67a",
       "version_major": 2,
       "version_minor": 0
      },
      "text/plain": [
       "Validation: |          | 0/? [00:00<?, ?it/s]"
      ]
     },
     "metadata": {},
     "output_type": "display_data"
    },
    {
     "name": "stderr",
     "output_type": "stream",
     "text": [
      "[I 2024-11-04 00:32:04,991] Trial 1 finished with value: 0.7410317063331604 and parameters: {'hidden_dim': 256, 'num_layers': 2, 'optimizer_name': 'Adam', 'batch_size': 1024, 'learning_rate': 0.0001, 'sentence_representation_type': 'average'}. Best is trial 1 with value: 0.7410317063331604.\n",
      "Seed set to 42\n"
     ]
    },
    {
     "name": "stdout",
     "output_type": "stream",
     "text": [
      "---------- batch_size_2048; lr_0.001; optimizer_Adam; hidden_dim_32; num_layers_1; sentence_representation_average ----------\n"
     ]
    },
    {
     "name": "stderr",
     "output_type": "stream",
     "text": [
      "GPU available: True (cuda), used: False\n",
      "TPU available: False, using: 0 TPU cores\n",
      "HPU available: False, using: 0 HPUs\n",
      "\n",
      "  | Name   | Type               | Params | Mode \n",
      "------------------------------------------------------\n",
      "0 | model  | RNN                | 4.9 M  | train\n",
      "1 | metric | MulticlassAccuracy | 0      | train\n",
      "------------------------------------------------------\n",
      "4.9 M     Trainable params\n",
      "0         Non-trainable params\n",
      "4.9 M     Total params\n",
      "19.646    Total estimated model params size (MB)\n",
      "7         Modules in train mode\n",
      "0         Modules in eval mode\n"
     ]
    },
    {
     "data": {
      "application/vnd.jupyter.widget-view+json": {
       "model_id": "2a227a1c3243434bbe70ec4e8c7846a6",
       "version_major": 2,
       "version_minor": 0
      },
      "text/plain": [
       "Sanity Checking: |          | 0/? [00:00<?, ?it/s]"
      ]
     },
     "metadata": {},
     "output_type": "display_data"
    },
    {
     "data": {
      "application/vnd.jupyter.widget-view+json": {
       "model_id": "d3f52dbdeda744b8a8a13042f0c1e598",
       "version_major": 2,
       "version_minor": 0
      },
      "text/plain": [
       "Training: |          | 0/? [00:00<?, ?it/s]"
      ]
     },
     "metadata": {},
     "output_type": "display_data"
    },
    {
     "data": {
      "application/vnd.jupyter.widget-view+json": {
       "model_id": "cc82cc8c0eb34f9687f3a7c56a7a0aec",
       "version_major": 2,
       "version_minor": 0
      },
      "text/plain": [
       "Validation: |          | 0/? [00:00<?, ?it/s]"
      ]
     },
     "metadata": {},
     "output_type": "display_data"
    },
    {
     "data": {
      "application/vnd.jupyter.widget-view+json": {
       "model_id": "b089dc06a5754f1d81a26d5d35af6247",
       "version_major": 2,
       "version_minor": 0
      },
      "text/plain": [
       "Validation: |          | 0/? [00:00<?, ?it/s]"
      ]
     },
     "metadata": {},
     "output_type": "display_data"
    },
    {
     "data": {
      "application/vnd.jupyter.widget-view+json": {
       "model_id": "d68ba367f7c24c6bb9e268719fadb1e6",
       "version_major": 2,
       "version_minor": 0
      },
      "text/plain": [
       "Validation: |          | 0/? [00:00<?, ?it/s]"
      ]
     },
     "metadata": {},
     "output_type": "display_data"
    },
    {
     "data": {
      "application/vnd.jupyter.widget-view+json": {
       "model_id": "6f18a12025294e7e8bd1ef414758cbd1",
       "version_major": 2,
       "version_minor": 0
      },
      "text/plain": [
       "Validation: |          | 0/? [00:00<?, ?it/s]"
      ]
     },
     "metadata": {},
     "output_type": "display_data"
    },
    {
     "data": {
      "application/vnd.jupyter.widget-view+json": {
       "model_id": "86ed637cef9d481c871a350d19aa52f0",
       "version_major": 2,
       "version_minor": 0
      },
      "text/plain": [
       "Validation: |          | 0/? [00:00<?, ?it/s]"
      ]
     },
     "metadata": {},
     "output_type": "display_data"
    },
    {
     "data": {
      "application/vnd.jupyter.widget-view+json": {
       "model_id": "a68086b10d264d379244417030215c97",
       "version_major": 2,
       "version_minor": 0
      },
      "text/plain": [
       "Validation: |          | 0/? [00:00<?, ?it/s]"
      ]
     },
     "metadata": {},
     "output_type": "display_data"
    },
    {
     "data": {
      "application/vnd.jupyter.widget-view+json": {
       "model_id": "abfd6936a62d49318513625ed23a32cd",
       "version_major": 2,
       "version_minor": 0
      },
      "text/plain": [
       "Validation: |          | 0/? [00:00<?, ?it/s]"
      ]
     },
     "metadata": {},
     "output_type": "display_data"
    },
    {
     "data": {
      "application/vnd.jupyter.widget-view+json": {
       "model_id": "a5da82cbec3e4eeb9b78f92688310a81",
       "version_major": 2,
       "version_minor": 0
      },
      "text/plain": [
       "Validation: |          | 0/? [00:00<?, ?it/s]"
      ]
     },
     "metadata": {},
     "output_type": "display_data"
    },
    {
     "data": {
      "application/vnd.jupyter.widget-view+json": {
       "model_id": "3928180b08184ddb87bd2e08f37c6720",
       "version_major": 2,
       "version_minor": 0
      },
      "text/plain": [
       "Validation: |          | 0/? [00:00<?, ?it/s]"
      ]
     },
     "metadata": {},
     "output_type": "display_data"
    },
    {
     "data": {
      "application/vnd.jupyter.widget-view+json": {
       "model_id": "7995c38da3eb49abbd2df9975c0e3946",
       "version_major": 2,
       "version_minor": 0
      },
      "text/plain": [
       "Validation: |          | 0/? [00:00<?, ?it/s]"
      ]
     },
     "metadata": {},
     "output_type": "display_data"
    },
    {
     "data": {
      "application/vnd.jupyter.widget-view+json": {
       "model_id": "268c990b2eaa440d898c1f2e5a61eb89",
       "version_major": 2,
       "version_minor": 0
      },
      "text/plain": [
       "Validation: |          | 0/? [00:00<?, ?it/s]"
      ]
     },
     "metadata": {},
     "output_type": "display_data"
    },
    {
     "data": {
      "application/vnd.jupyter.widget-view+json": {
       "model_id": "2910511804444a638d52081ec45bc85d",
       "version_major": 2,
       "version_minor": 0
      },
      "text/plain": [
       "Validation: |          | 0/? [00:00<?, ?it/s]"
      ]
     },
     "metadata": {},
     "output_type": "display_data"
    },
    {
     "data": {
      "application/vnd.jupyter.widget-view+json": {
       "model_id": "8dcabea26e2b444e901ebca520826405",
       "version_major": 2,
       "version_minor": 0
      },
      "text/plain": [
       "Validation: |          | 0/? [00:00<?, ?it/s]"
      ]
     },
     "metadata": {},
     "output_type": "display_data"
    },
    {
     "data": {
      "application/vnd.jupyter.widget-view+json": {
       "model_id": "81b3ccce3d364657811e105fe5cf9937",
       "version_major": 2,
       "version_minor": 0
      },
      "text/plain": [
       "Validation: |          | 0/? [00:00<?, ?it/s]"
      ]
     },
     "metadata": {},
     "output_type": "display_data"
    },
    {
     "name": "stderr",
     "output_type": "stream",
     "text": [
      "[I 2024-11-04 00:33:06,199] Trial 2 finished with value: 0.7514071464538574 and parameters: {'hidden_dim': 32, 'num_layers': 1, 'optimizer_name': 'Adam', 'batch_size': 2048, 'learning_rate': 0.001, 'sentence_representation_type': 'average'}. Best is trial 2 with value: 0.7514071464538574.\n",
      "Seed set to 42\n"
     ]
    },
    {
     "name": "stdout",
     "output_type": "stream",
     "text": [
      "---------- batch_size_256; lr_0.1; optimizer_Adam; hidden_dim_256; num_layers_2; sentence_representation_last ----------\n"
     ]
    },
    {
     "name": "stderr",
     "output_type": "stream",
     "text": [
      "GPU available: True (cuda), used: False\n",
      "TPU available: False, using: 0 TPU cores\n",
      "HPU available: False, using: 0 HPUs\n",
      "\n",
      "  | Name   | Type               | Params | Mode \n",
      "------------------------------------------------------\n",
      "0 | model  | RNN                | 5.2 M  | train\n",
      "1 | metric | MulticlassAccuracy | 0      | train\n",
      "------------------------------------------------------\n",
      "5.2 M     Trainable params\n",
      "0         Non-trainable params\n",
      "5.2 M     Total params\n",
      "20.831    Total estimated model params size (MB)\n",
      "7         Modules in train mode\n",
      "0         Modules in eval mode\n"
     ]
    },
    {
     "data": {
      "application/vnd.jupyter.widget-view+json": {
       "model_id": "2ee5387ff2b348b19343befb771641e0",
       "version_major": 2,
       "version_minor": 0
      },
      "text/plain": [
       "Sanity Checking: |          | 0/? [00:00<?, ?it/s]"
      ]
     },
     "metadata": {},
     "output_type": "display_data"
    },
    {
     "data": {
      "application/vnd.jupyter.widget-view+json": {
       "model_id": "6fcfaab943dd4c8ca76c7058b4dbd6f7",
       "version_major": 2,
       "version_minor": 0
      },
      "text/plain": [
       "Training: |          | 0/? [00:00<?, ?it/s]"
      ]
     },
     "metadata": {},
     "output_type": "display_data"
    },
    {
     "data": {
      "application/vnd.jupyter.widget-view+json": {
       "model_id": "2c6592ad994646cb903e8b4b24df94f9",
       "version_major": 2,
       "version_minor": 0
      },
      "text/plain": [
       "Validation: |          | 0/? [00:00<?, ?it/s]"
      ]
     },
     "metadata": {},
     "output_type": "display_data"
    },
    {
     "data": {
      "application/vnd.jupyter.widget-view+json": {
       "model_id": "4f6c955dcdb24027aeca2d11c1980e98",
       "version_major": 2,
       "version_minor": 0
      },
      "text/plain": [
       "Validation: |          | 0/? [00:00<?, ?it/s]"
      ]
     },
     "metadata": {},
     "output_type": "display_data"
    },
    {
     "data": {
      "application/vnd.jupyter.widget-view+json": {
       "model_id": "d523a299169a41b6aeabd1d122d9024d",
       "version_major": 2,
       "version_minor": 0
      },
      "text/plain": [
       "Validation: |          | 0/? [00:00<?, ?it/s]"
      ]
     },
     "metadata": {},
     "output_type": "display_data"
    },
    {
     "data": {
      "application/vnd.jupyter.widget-view+json": {
       "model_id": "e0e18afb4f3b452d9e664bdd7aa1ec15",
       "version_major": 2,
       "version_minor": 0
      },
      "text/plain": [
       "Validation: |          | 0/? [00:00<?, ?it/s]"
      ]
     },
     "metadata": {},
     "output_type": "display_data"
    },
    {
     "data": {
      "application/vnd.jupyter.widget-view+json": {
       "model_id": "b48c62ff0be9432c8454d8d39b44dd4a",
       "version_major": 2,
       "version_minor": 0
      },
      "text/plain": [
       "Validation: |          | 0/? [00:00<?, ?it/s]"
      ]
     },
     "metadata": {},
     "output_type": "display_data"
    },
    {
     "data": {
      "application/vnd.jupyter.widget-view+json": {
       "model_id": "f87fbc0a0f17417a9b142201e28e3516",
       "version_major": 2,
       "version_minor": 0
      },
      "text/plain": [
       "Validation: |          | 0/? [00:00<?, ?it/s]"
      ]
     },
     "metadata": {},
     "output_type": "display_data"
    },
    {
     "data": {
      "application/vnd.jupyter.widget-view+json": {
       "model_id": "80d042a7dc0447a490bf9ff555037df3",
       "version_major": 2,
       "version_minor": 0
      },
      "text/plain": [
       "Validation: |          | 0/? [00:00<?, ?it/s]"
      ]
     },
     "metadata": {},
     "output_type": "display_data"
    },
    {
     "data": {
      "application/vnd.jupyter.widget-view+json": {
       "model_id": "6bd6977f345344a29addf14909a122c5",
       "version_major": 2,
       "version_minor": 0
      },
      "text/plain": [
       "Validation: |          | 0/? [00:00<?, ?it/s]"
      ]
     },
     "metadata": {},
     "output_type": "display_data"
    },
    {
     "data": {
      "application/vnd.jupyter.widget-view+json": {
       "model_id": "4e065583c8ac45dbb5b14b4efd589823",
       "version_major": 2,
       "version_minor": 0
      },
      "text/plain": [
       "Validation: |          | 0/? [00:00<?, ?it/s]"
      ]
     },
     "metadata": {},
     "output_type": "display_data"
    },
    {
     "data": {
      "application/vnd.jupyter.widget-view+json": {
       "model_id": "c8b7eed08ee64fb0a8935ec16b8de2aa",
       "version_major": 2,
       "version_minor": 0
      },
      "text/plain": [
       "Validation: |          | 0/? [00:00<?, ?it/s]"
      ]
     },
     "metadata": {},
     "output_type": "display_data"
    },
    {
     "data": {
      "application/vnd.jupyter.widget-view+json": {
       "model_id": "6a35b39e96eb4990bdb9663ad0fe5374",
       "version_major": 2,
       "version_minor": 0
      },
      "text/plain": [
       "Validation: |          | 0/? [00:00<?, ?it/s]"
      ]
     },
     "metadata": {},
     "output_type": "display_data"
    },
    {
     "data": {
      "application/vnd.jupyter.widget-view+json": {
       "model_id": "f1045f177a1845dcbb80835e0b0e1f4f",
       "version_major": 2,
       "version_minor": 0
      },
      "text/plain": [
       "Validation: |          | 0/? [00:00<?, ?it/s]"
      ]
     },
     "metadata": {},
     "output_type": "display_data"
    },
    {
     "name": "stderr",
     "output_type": "stream",
     "text": [
      "[I 2024-11-04 00:34:43,974] Trial 3 finished with value: 0.35339251160621643 and parameters: {'hidden_dim': 256, 'num_layers': 2, 'optimizer_name': 'Adam', 'batch_size': 256, 'learning_rate': 0.1, 'sentence_representation_type': 'last'}. Best is trial 2 with value: 0.7514071464538574.\n",
      "Seed set to 42\n"
     ]
    },
    {
     "name": "stdout",
     "output_type": "stream",
     "text": [
      "---------- batch_size_1024; lr_0.001; optimizer_Adam; hidden_dim_32; num_layers_3; sentence_representation_max ----------\n"
     ]
    },
    {
     "name": "stderr",
     "output_type": "stream",
     "text": [
      "GPU available: True (cuda), used: False\n",
      "TPU available: False, using: 0 TPU cores\n",
      "HPU available: False, using: 0 HPUs\n",
      "\n",
      "  | Name   | Type               | Params | Mode \n",
      "------------------------------------------------------\n",
      "0 | model  | RNN                | 4.9 M  | train\n",
      "1 | metric | MulticlassAccuracy | 0      | train\n",
      "------------------------------------------------------\n",
      "4.9 M     Trainable params\n",
      "0         Non-trainable params\n",
      "4.9 M     Total params\n",
      "19.663    Total estimated model params size (MB)\n",
      "7         Modules in train mode\n",
      "0         Modules in eval mode\n"
     ]
    },
    {
     "data": {
      "application/vnd.jupyter.widget-view+json": {
       "model_id": "286c317557414c35ba1ef6161f7c25c7",
       "version_major": 2,
       "version_minor": 0
      },
      "text/plain": [
       "Sanity Checking: |          | 0/? [00:00<?, ?it/s]"
      ]
     },
     "metadata": {},
     "output_type": "display_data"
    },
    {
     "data": {
      "application/vnd.jupyter.widget-view+json": {
       "model_id": "3e2f118126434de6960595e5ffaa2dab",
       "version_major": 2,
       "version_minor": 0
      },
      "text/plain": [
       "Training: |          | 0/? [00:00<?, ?it/s]"
      ]
     },
     "metadata": {},
     "output_type": "display_data"
    },
    {
     "data": {
      "application/vnd.jupyter.widget-view+json": {
       "model_id": "e02b4a4865cc4960b5547f675512100b",
       "version_major": 2,
       "version_minor": 0
      },
      "text/plain": [
       "Validation: |          | 0/? [00:00<?, ?it/s]"
      ]
     },
     "metadata": {},
     "output_type": "display_data"
    },
    {
     "data": {
      "application/vnd.jupyter.widget-view+json": {
       "model_id": "04317395c75d493d9426e42f604450dd",
       "version_major": 2,
       "version_minor": 0
      },
      "text/plain": [
       "Validation: |          | 0/? [00:00<?, ?it/s]"
      ]
     },
     "metadata": {},
     "output_type": "display_data"
    },
    {
     "data": {
      "application/vnd.jupyter.widget-view+json": {
       "model_id": "66c682272e234bfc8d09592616f12ff8",
       "version_major": 2,
       "version_minor": 0
      },
      "text/plain": [
       "Validation: |          | 0/? [00:00<?, ?it/s]"
      ]
     },
     "metadata": {},
     "output_type": "display_data"
    },
    {
     "data": {
      "application/vnd.jupyter.widget-view+json": {
       "model_id": "621db617e44d4436b51d311fc8f4ce47",
       "version_major": 2,
       "version_minor": 0
      },
      "text/plain": [
       "Validation: |          | 0/? [00:00<?, ?it/s]"
      ]
     },
     "metadata": {},
     "output_type": "display_data"
    },
    {
     "data": {
      "application/vnd.jupyter.widget-view+json": {
       "model_id": "516a18da579f45fe93083377bfd9dae3",
       "version_major": 2,
       "version_minor": 0
      },
      "text/plain": [
       "Validation: |          | 0/? [00:00<?, ?it/s]"
      ]
     },
     "metadata": {},
     "output_type": "display_data"
    },
    {
     "data": {
      "application/vnd.jupyter.widget-view+json": {
       "model_id": "4a54d92679eb40c4be264097bfaa7b7e",
       "version_major": 2,
       "version_minor": 0
      },
      "text/plain": [
       "Validation: |          | 0/? [00:00<?, ?it/s]"
      ]
     },
     "metadata": {},
     "output_type": "display_data"
    },
    {
     "data": {
      "application/vnd.jupyter.widget-view+json": {
       "model_id": "427e18ff77cc418582851d455de68a87",
       "version_major": 2,
       "version_minor": 0
      },
      "text/plain": [
       "Validation: |          | 0/? [00:00<?, ?it/s]"
      ]
     },
     "metadata": {},
     "output_type": "display_data"
    },
    {
     "data": {
      "application/vnd.jupyter.widget-view+json": {
       "model_id": "b283434e04844ad8b557cf42f8208da3",
       "version_major": 2,
       "version_minor": 0
      },
      "text/plain": [
       "Validation: |          | 0/? [00:00<?, ?it/s]"
      ]
     },
     "metadata": {},
     "output_type": "display_data"
    },
    {
     "name": "stderr",
     "output_type": "stream",
     "text": [
      "[I 2024-11-04 00:35:31,867] Trial 4 finished with value: 0.7290250062942505 and parameters: {'hidden_dim': 32, 'num_layers': 3, 'optimizer_name': 'Adam', 'batch_size': 1024, 'learning_rate': 0.001, 'sentence_representation_type': 'max'}. Best is trial 2 with value: 0.7514071464538574.\n",
      "Seed set to 42\n"
     ]
    },
    {
     "name": "stdout",
     "output_type": "stream",
     "text": [
      "---------- batch_size_2048; lr_0.01; optimizer_Adam; hidden_dim_128; num_layers_1; sentence_representation_average ----------\n"
     ]
    },
    {
     "name": "stderr",
     "output_type": "stream",
     "text": [
      "GPU available: True (cuda), used: False\n",
      "TPU available: False, using: 0 TPU cores\n",
      "HPU available: False, using: 0 HPUs\n",
      "\n",
      "  | Name   | Type               | Params | Mode \n",
      "------------------------------------------------------\n",
      "0 | model  | RNN                | 5.0 M  | train\n",
      "1 | metric | MulticlassAccuracy | 0      | train\n",
      "------------------------------------------------------\n",
      "5.0 M     Trainable params\n",
      "0         Non-trainable params\n",
      "5.0 M     Total params\n",
      "19.855    Total estimated model params size (MB)\n",
      "7         Modules in train mode\n",
      "0         Modules in eval mode\n"
     ]
    },
    {
     "data": {
      "application/vnd.jupyter.widget-view+json": {
       "model_id": "15326a5d764c4a57baf9f8965db76ddf",
       "version_major": 2,
       "version_minor": 0
      },
      "text/plain": [
       "Sanity Checking: |          | 0/? [00:00<?, ?it/s]"
      ]
     },
     "metadata": {},
     "output_type": "display_data"
    },
    {
     "data": {
      "application/vnd.jupyter.widget-view+json": {
       "model_id": "ecd086f9615243618263575becd4d25f",
       "version_major": 2,
       "version_minor": 0
      },
      "text/plain": [
       "Training: |          | 0/? [00:00<?, ?it/s]"
      ]
     },
     "metadata": {},
     "output_type": "display_data"
    },
    {
     "data": {
      "application/vnd.jupyter.widget-view+json": {
       "model_id": "d03c986046dd4301b41062b62c7b6cd5",
       "version_major": 2,
       "version_minor": 0
      },
      "text/plain": [
       "Validation: |          | 0/? [00:00<?, ?it/s]"
      ]
     },
     "metadata": {},
     "output_type": "display_data"
    },
    {
     "data": {
      "application/vnd.jupyter.widget-view+json": {
       "model_id": "fb3526550843408cbe3467071e689b68",
       "version_major": 2,
       "version_minor": 0
      },
      "text/plain": [
       "Validation: |          | 0/? [00:00<?, ?it/s]"
      ]
     },
     "metadata": {},
     "output_type": "display_data"
    },
    {
     "data": {
      "application/vnd.jupyter.widget-view+json": {
       "model_id": "1be973f71c3b4758b0f1d6651d1bd0a9",
       "version_major": 2,
       "version_minor": 0
      },
      "text/plain": [
       "Validation: |          | 0/? [00:00<?, ?it/s]"
      ]
     },
     "metadata": {},
     "output_type": "display_data"
    },
    {
     "data": {
      "application/vnd.jupyter.widget-view+json": {
       "model_id": "cde3049f8230409fbbc956e849c9f109",
       "version_major": 2,
       "version_minor": 0
      },
      "text/plain": [
       "Validation: |          | 0/? [00:00<?, ?it/s]"
      ]
     },
     "metadata": {},
     "output_type": "display_data"
    },
    {
     "data": {
      "application/vnd.jupyter.widget-view+json": {
       "model_id": "616ab0e9d3cc4a129760f85af0ef364e",
       "version_major": 2,
       "version_minor": 0
      },
      "text/plain": [
       "Validation: |          | 0/? [00:00<?, ?it/s]"
      ]
     },
     "metadata": {},
     "output_type": "display_data"
    },
    {
     "data": {
      "application/vnd.jupyter.widget-view+json": {
       "model_id": "a086512a449c489db4011ce74f76520e",
       "version_major": 2,
       "version_minor": 0
      },
      "text/plain": [
       "Validation: |          | 0/? [00:00<?, ?it/s]"
      ]
     },
     "metadata": {},
     "output_type": "display_data"
    },
    {
     "name": "stderr",
     "output_type": "stream",
     "text": [
      "[I 2024-11-04 00:36:32,327] Trial 5 finished with value: 0.7598499059677124 and parameters: {'hidden_dim': 128, 'num_layers': 1, 'optimizer_name': 'Adam', 'batch_size': 2048, 'learning_rate': 0.01, 'sentence_representation_type': 'average'}. Best is trial 5 with value: 0.7598499059677124.\n",
      "Seed set to 42\n"
     ]
    },
    {
     "name": "stdout",
     "output_type": "stream",
     "text": [
      "---------- batch_size_2048; lr_0.001; optimizer_Adam; hidden_dim_128; num_layers_1; sentence_representation_max ----------\n"
     ]
    },
    {
     "name": "stderr",
     "output_type": "stream",
     "text": [
      "GPU available: True (cuda), used: False\n",
      "TPU available: False, using: 0 TPU cores\n",
      "HPU available: False, using: 0 HPUs\n",
      "\n",
      "  | Name   | Type               | Params | Mode \n",
      "------------------------------------------------------\n",
      "0 | model  | RNN                | 5.0 M  | train\n",
      "1 | metric | MulticlassAccuracy | 0      | train\n",
      "------------------------------------------------------\n",
      "5.0 M     Trainable params\n",
      "0         Non-trainable params\n",
      "5.0 M     Total params\n",
      "19.855    Total estimated model params size (MB)\n",
      "7         Modules in train mode\n",
      "0         Modules in eval mode\n"
     ]
    },
    {
     "data": {
      "application/vnd.jupyter.widget-view+json": {
       "model_id": "0995723c284847c8806eff54db044db2",
       "version_major": 2,
       "version_minor": 0
      },
      "text/plain": [
       "Sanity Checking: |          | 0/? [00:00<?, ?it/s]"
      ]
     },
     "metadata": {},
     "output_type": "display_data"
    },
    {
     "data": {
      "application/vnd.jupyter.widget-view+json": {
       "model_id": "1f0113ddb92549e6b66b2d07b9aabec6",
       "version_major": 2,
       "version_minor": 0
      },
      "text/plain": [
       "Training: |          | 0/? [00:00<?, ?it/s]"
      ]
     },
     "metadata": {},
     "output_type": "display_data"
    },
    {
     "data": {
      "application/vnd.jupyter.widget-view+json": {
       "model_id": "1e85bd2ac8b141a1b3d0d5e135322e7c",
       "version_major": 2,
       "version_minor": 0
      },
      "text/plain": [
       "Validation: |          | 0/? [00:00<?, ?it/s]"
      ]
     },
     "metadata": {},
     "output_type": "display_data"
    },
    {
     "data": {
      "application/vnd.jupyter.widget-view+json": {
       "model_id": "721af34a16b849a299bfe793ac3c16ce",
       "version_major": 2,
       "version_minor": 0
      },
      "text/plain": [
       "Validation: |          | 0/? [00:00<?, ?it/s]"
      ]
     },
     "metadata": {},
     "output_type": "display_data"
    },
    {
     "data": {
      "application/vnd.jupyter.widget-view+json": {
       "model_id": "85bfda584c1b4bbe9c5a0788fad6ae11",
       "version_major": 2,
       "version_minor": 0
      },
      "text/plain": [
       "Validation: |          | 0/? [00:00<?, ?it/s]"
      ]
     },
     "metadata": {},
     "output_type": "display_data"
    },
    {
     "data": {
      "application/vnd.jupyter.widget-view+json": {
       "model_id": "c521aa3d285b4397abf1d7f6a0511dfb",
       "version_major": 2,
       "version_minor": 0
      },
      "text/plain": [
       "Validation: |          | 0/? [00:00<?, ?it/s]"
      ]
     },
     "metadata": {},
     "output_type": "display_data"
    },
    {
     "data": {
      "application/vnd.jupyter.widget-view+json": {
       "model_id": "9b44845828c942178fd833a42d36b0e7",
       "version_major": 2,
       "version_minor": 0
      },
      "text/plain": [
       "Validation: |          | 0/? [00:00<?, ?it/s]"
      ]
     },
     "metadata": {},
     "output_type": "display_data"
    },
    {
     "data": {
      "application/vnd.jupyter.widget-view+json": {
       "model_id": "b1fb5ed0a6f848589162d03d56c622bd",
       "version_major": 2,
       "version_minor": 0
      },
      "text/plain": [
       "Validation: |          | 0/? [00:00<?, ?it/s]"
      ]
     },
     "metadata": {},
     "output_type": "display_data"
    },
    {
     "data": {
      "application/vnd.jupyter.widget-view+json": {
       "model_id": "d3da9fed4a11490d8e5b01e8b9ce0a7a",
       "version_major": 2,
       "version_minor": 0
      },
      "text/plain": [
       "Validation: |          | 0/? [00:00<?, ?it/s]"
      ]
     },
     "metadata": {},
     "output_type": "display_data"
    },
    {
     "data": {
      "application/vnd.jupyter.widget-view+json": {
       "model_id": "3b753b2704b745b0a09e20d374a22a1a",
       "version_major": 2,
       "version_minor": 0
      },
      "text/plain": [
       "Validation: |          | 0/? [00:00<?, ?it/s]"
      ]
     },
     "metadata": {},
     "output_type": "display_data"
    },
    {
     "data": {
      "application/vnd.jupyter.widget-view+json": {
       "model_id": "85ee3cfb28524103a1e785dfa1fcdc0e",
       "version_major": 2,
       "version_minor": 0
      },
      "text/plain": [
       "Validation: |          | 0/? [00:00<?, ?it/s]"
      ]
     },
     "metadata": {},
     "output_type": "display_data"
    },
    {
     "name": "stderr",
     "output_type": "stream",
     "text": [
      "[I 2024-11-04 00:37:48,116] Trial 6 finished with value: 0.7682926654815674 and parameters: {'hidden_dim': 128, 'num_layers': 1, 'optimizer_name': 'Adam', 'batch_size': 2048, 'learning_rate': 0.001, 'sentence_representation_type': 'max'}. Best is trial 6 with value: 0.7682926654815674.\n",
      "Seed set to 42\n"
     ]
    },
    {
     "name": "stdout",
     "output_type": "stream",
     "text": [
      "---------- batch_size_64; lr_0.01; optimizer_Adam; hidden_dim_32; num_layers_2; sentence_representation_max ----------\n"
     ]
    },
    {
     "name": "stderr",
     "output_type": "stream",
     "text": [
      "GPU available: True (cuda), used: False\n",
      "TPU available: False, using: 0 TPU cores\n",
      "HPU available: False, using: 0 HPUs\n",
      "\n",
      "  | Name   | Type               | Params | Mode \n",
      "------------------------------------------------------\n",
      "0 | model  | RNN                | 4.9 M  | train\n",
      "1 | metric | MulticlassAccuracy | 0      | train\n",
      "------------------------------------------------------\n",
      "4.9 M     Trainable params\n",
      "0         Non-trainable params\n",
      "4.9 M     Total params\n",
      "19.654    Total estimated model params size (MB)\n",
      "7         Modules in train mode\n",
      "0         Modules in eval mode\n"
     ]
    },
    {
     "data": {
      "application/vnd.jupyter.widget-view+json": {
       "model_id": "e18317e620434129adee39e86a35b96a",
       "version_major": 2,
       "version_minor": 0
      },
      "text/plain": [
       "Sanity Checking: |          | 0/? [00:00<?, ?it/s]"
      ]
     },
     "metadata": {},
     "output_type": "display_data"
    },
    {
     "data": {
      "application/vnd.jupyter.widget-view+json": {
       "model_id": "edbb9c90bd23448cb98b61aa1bce5f38",
       "version_major": 2,
       "version_minor": 0
      },
      "text/plain": [
       "Training: |          | 0/? [00:00<?, ?it/s]"
      ]
     },
     "metadata": {},
     "output_type": "display_data"
    },
    {
     "data": {
      "application/vnd.jupyter.widget-view+json": {
       "model_id": "dccce234f7c84174b9d66d6b5d6e9f53",
       "version_major": 2,
       "version_minor": 0
      },
      "text/plain": [
       "Validation: |          | 0/? [00:00<?, ?it/s]"
      ]
     },
     "metadata": {},
     "output_type": "display_data"
    },
    {
     "data": {
      "application/vnd.jupyter.widget-view+json": {
       "model_id": "14ad0d3147684a2184b735ddfe868841",
       "version_major": 2,
       "version_minor": 0
      },
      "text/plain": [
       "Validation: |          | 0/? [00:00<?, ?it/s]"
      ]
     },
     "metadata": {},
     "output_type": "display_data"
    },
    {
     "data": {
      "application/vnd.jupyter.widget-view+json": {
       "model_id": "dd2e7e4e905647e3b6a3fcebb94f6070",
       "version_major": 2,
       "version_minor": 0
      },
      "text/plain": [
       "Validation: |          | 0/? [00:00<?, ?it/s]"
      ]
     },
     "metadata": {},
     "output_type": "display_data"
    },
    {
     "data": {
      "application/vnd.jupyter.widget-view+json": {
       "model_id": "d8fdda1e85804487aa2cba4c78fb8b5b",
       "version_major": 2,
       "version_minor": 0
      },
      "text/plain": [
       "Validation: |          | 0/? [00:00<?, ?it/s]"
      ]
     },
     "metadata": {},
     "output_type": "display_data"
    },
    {
     "name": "stderr",
     "output_type": "stream",
     "text": [
      "[I 2024-11-04 00:38:50,105] Trial 7 finished with value: 0.3940346837043762 and parameters: {'hidden_dim': 32, 'num_layers': 2, 'optimizer_name': 'Adam', 'batch_size': 64, 'learning_rate': 0.01, 'sentence_representation_type': 'max'}. Best is trial 6 with value: 0.7682926654815674.\n",
      "Seed set to 42\n"
     ]
    },
    {
     "name": "stdout",
     "output_type": "stream",
     "text": [
      "---------- batch_size_256; lr_0.0001; optimizer_Adam; hidden_dim_64; num_layers_2; sentence_representation_last ----------\n"
     ]
    },
    {
     "name": "stderr",
     "output_type": "stream",
     "text": [
      "GPU available: True (cuda), used: False\n",
      "TPU available: False, using: 0 TPU cores\n",
      "HPU available: False, using: 0 HPUs\n",
      "\n",
      "  | Name   | Type               | Params | Mode \n",
      "------------------------------------------------------\n",
      "0 | model  | RNN                | 4.9 M  | train\n",
      "1 | metric | MulticlassAccuracy | 0      | train\n",
      "------------------------------------------------------\n",
      "4.9 M     Trainable params\n",
      "0         Non-trainable params\n",
      "4.9 M     Total params\n",
      "19.736    Total estimated model params size (MB)\n",
      "7         Modules in train mode\n",
      "0         Modules in eval mode\n"
     ]
    },
    {
     "data": {
      "application/vnd.jupyter.widget-view+json": {
       "model_id": "5b1c3929d6564d9e8c712122c572d874",
       "version_major": 2,
       "version_minor": 0
      },
      "text/plain": [
       "Sanity Checking: |          | 0/? [00:00<?, ?it/s]"
      ]
     },
     "metadata": {},
     "output_type": "display_data"
    },
    {
     "data": {
      "application/vnd.jupyter.widget-view+json": {
       "model_id": "886193f191724f0ea9c8d2fede180a28",
       "version_major": 2,
       "version_minor": 0
      },
      "text/plain": [
       "Training: |          | 0/? [00:00<?, ?it/s]"
      ]
     },
     "metadata": {},
     "output_type": "display_data"
    },
    {
     "data": {
      "application/vnd.jupyter.widget-view+json": {
       "model_id": "7bd69bc9ac3c460593fba6cc81d3627f",
       "version_major": 2,
       "version_minor": 0
      },
      "text/plain": [
       "Validation: |          | 0/? [00:00<?, ?it/s]"
      ]
     },
     "metadata": {},
     "output_type": "display_data"
    },
    {
     "data": {
      "application/vnd.jupyter.widget-view+json": {
       "model_id": "12f46204612b481698b8ea37872fe761",
       "version_major": 2,
       "version_minor": 0
      },
      "text/plain": [
       "Validation: |          | 0/? [00:00<?, ?it/s]"
      ]
     },
     "metadata": {},
     "output_type": "display_data"
    },
    {
     "data": {
      "application/vnd.jupyter.widget-view+json": {
       "model_id": "b3dad80c39094a64938dcc9be0ffd264",
       "version_major": 2,
       "version_minor": 0
      },
      "text/plain": [
       "Validation: |          | 0/? [00:00<?, ?it/s]"
      ]
     },
     "metadata": {},
     "output_type": "display_data"
    },
    {
     "data": {
      "application/vnd.jupyter.widget-view+json": {
       "model_id": "1a4d9c546d7541dd90285e5d429a8212",
       "version_major": 2,
       "version_minor": 0
      },
      "text/plain": [
       "Validation: |          | 0/? [00:00<?, ?it/s]"
      ]
     },
     "metadata": {},
     "output_type": "display_data"
    },
    {
     "data": {
      "application/vnd.jupyter.widget-view+json": {
       "model_id": "39044b35b7794cacb4687335c6ef1817",
       "version_major": 2,
       "version_minor": 0
      },
      "text/plain": [
       "Validation: |          | 0/? [00:00<?, ?it/s]"
      ]
     },
     "metadata": {},
     "output_type": "display_data"
    },
    {
     "data": {
      "application/vnd.jupyter.widget-view+json": {
       "model_id": "d6f0ae0dbe2841879cdb40be9e7730d2",
       "version_major": 2,
       "version_minor": 0
      },
      "text/plain": [
       "Validation: |          | 0/? [00:00<?, ?it/s]"
      ]
     },
     "metadata": {},
     "output_type": "display_data"
    },
    {
     "data": {
      "application/vnd.jupyter.widget-view+json": {
       "model_id": "8983d586da0e4f7fa75e5c151c190c66",
       "version_major": 2,
       "version_minor": 0
      },
      "text/plain": [
       "Validation: |          | 0/? [00:00<?, ?it/s]"
      ]
     },
     "metadata": {},
     "output_type": "display_data"
    },
    {
     "data": {
      "application/vnd.jupyter.widget-view+json": {
       "model_id": "5637f62e673642eb9c06abac255de515",
       "version_major": 2,
       "version_minor": 0
      },
      "text/plain": [
       "Validation: |          | 0/? [00:00<?, ?it/s]"
      ]
     },
     "metadata": {},
     "output_type": "display_data"
    },
    {
     "data": {
      "application/vnd.jupyter.widget-view+json": {
       "model_id": "14a3fc17886c4feeb077db2d411bc2e1",
       "version_major": 2,
       "version_minor": 0
      },
      "text/plain": [
       "Validation: |          | 0/? [00:00<?, ?it/s]"
      ]
     },
     "metadata": {},
     "output_type": "display_data"
    },
    {
     "data": {
      "application/vnd.jupyter.widget-view+json": {
       "model_id": "f1b4017c8ebb4cfa9494b937d71be0fe",
       "version_major": 2,
       "version_minor": 0
      },
      "text/plain": [
       "Validation: |          | 0/? [00:00<?, ?it/s]"
      ]
     },
     "metadata": {},
     "output_type": "display_data"
    },
    {
     "name": "stderr",
     "output_type": "stream",
     "text": [
      "[I 2024-11-04 00:39:53,789] Trial 8 finished with value: 0.47815096378326416 and parameters: {'hidden_dim': 64, 'num_layers': 2, 'optimizer_name': 'Adam', 'batch_size': 256, 'learning_rate': 0.0001, 'sentence_representation_type': 'last'}. Best is trial 6 with value: 0.7682926654815674.\n",
      "Seed set to 42\n"
     ]
    },
    {
     "name": "stdout",
     "output_type": "stream",
     "text": [
      "---------- batch_size_1024; lr_0.1; optimizer_Adam; hidden_dim_128; num_layers_1; sentence_representation_last ----------\n"
     ]
    },
    {
     "name": "stderr",
     "output_type": "stream",
     "text": [
      "GPU available: True (cuda), used: False\n",
      "TPU available: False, using: 0 TPU cores\n",
      "HPU available: False, using: 0 HPUs\n",
      "\n",
      "  | Name   | Type               | Params | Mode \n",
      "------------------------------------------------------\n",
      "0 | model  | RNN                | 5.0 M  | train\n",
      "1 | metric | MulticlassAccuracy | 0      | train\n",
      "------------------------------------------------------\n",
      "5.0 M     Trainable params\n",
      "0         Non-trainable params\n",
      "5.0 M     Total params\n",
      "19.855    Total estimated model params size (MB)\n",
      "7         Modules in train mode\n",
      "0         Modules in eval mode\n"
     ]
    },
    {
     "data": {
      "application/vnd.jupyter.widget-view+json": {
       "model_id": "da70dc89d869471da573be2dcf6b2298",
       "version_major": 2,
       "version_minor": 0
      },
      "text/plain": [
       "Sanity Checking: |          | 0/? [00:00<?, ?it/s]"
      ]
     },
     "metadata": {},
     "output_type": "display_data"
    },
    {
     "data": {
      "application/vnd.jupyter.widget-view+json": {
       "model_id": "11881a9982da40c1954746d3963bf135",
       "version_major": 2,
       "version_minor": 0
      },
      "text/plain": [
       "Training: |          | 0/? [00:00<?, ?it/s]"
      ]
     },
     "metadata": {},
     "output_type": "display_data"
    },
    {
     "data": {
      "application/vnd.jupyter.widget-view+json": {
       "model_id": "44a99b6e7b1843e4976502acce27c0c6",
       "version_major": 2,
       "version_minor": 0
      },
      "text/plain": [
       "Validation: |          | 0/? [00:00<?, ?it/s]"
      ]
     },
     "metadata": {},
     "output_type": "display_data"
    },
    {
     "data": {
      "application/vnd.jupyter.widget-view+json": {
       "model_id": "b306c12cb76c4893a10a662af5a663df",
       "version_major": 2,
       "version_minor": 0
      },
      "text/plain": [
       "Validation: |          | 0/? [00:00<?, ?it/s]"
      ]
     },
     "metadata": {},
     "output_type": "display_data"
    },
    {
     "data": {
      "application/vnd.jupyter.widget-view+json": {
       "model_id": "dbbac6af426347cdb050e8d3e9760acc",
       "version_major": 2,
       "version_minor": 0
      },
      "text/plain": [
       "Validation: |          | 0/? [00:00<?, ?it/s]"
      ]
     },
     "metadata": {},
     "output_type": "display_data"
    },
    {
     "data": {
      "application/vnd.jupyter.widget-view+json": {
       "model_id": "48ec32da1f57407a9ae3cb3fc9a84858",
       "version_major": 2,
       "version_minor": 0
      },
      "text/plain": [
       "Validation: |          | 0/? [00:00<?, ?it/s]"
      ]
     },
     "metadata": {},
     "output_type": "display_data"
    },
    {
     "data": {
      "application/vnd.jupyter.widget-view+json": {
       "model_id": "1ecc3693ab2445b4bb2db5b730a2edef",
       "version_major": 2,
       "version_minor": 0
      },
      "text/plain": [
       "Validation: |          | 0/? [00:00<?, ?it/s]"
      ]
     },
     "metadata": {},
     "output_type": "display_data"
    },
    {
     "data": {
      "application/vnd.jupyter.widget-view+json": {
       "model_id": "9892a8491ce546a6bd12bb495d8b430e",
       "version_major": 2,
       "version_minor": 0
      },
      "text/plain": [
       "Validation: |          | 0/? [00:00<?, ?it/s]"
      ]
     },
     "metadata": {},
     "output_type": "display_data"
    },
    {
     "data": {
      "application/vnd.jupyter.widget-view+json": {
       "model_id": "ff02458e8fee45a9a97dffee5aba4ff9",
       "version_major": 2,
       "version_minor": 0
      },
      "text/plain": [
       "Validation: |          | 0/? [00:00<?, ?it/s]"
      ]
     },
     "metadata": {},
     "output_type": "display_data"
    },
    {
     "data": {
      "application/vnd.jupyter.widget-view+json": {
       "model_id": "b3f3cd36800842b1b305051b9b01660e",
       "version_major": 2,
       "version_minor": 0
      },
      "text/plain": [
       "Validation: |          | 0/? [00:00<?, ?it/s]"
      ]
     },
     "metadata": {},
     "output_type": "display_data"
    },
    {
     "data": {
      "application/vnd.jupyter.widget-view+json": {
       "model_id": "274e9d8208f9407184332d532f17fd05",
       "version_major": 2,
       "version_minor": 0
      },
      "text/plain": [
       "Validation: |          | 0/? [00:00<?, ?it/s]"
      ]
     },
     "metadata": {},
     "output_type": "display_data"
    },
    {
     "data": {
      "application/vnd.jupyter.widget-view+json": {
       "model_id": "154ed274c3e84ff9a4d1cea4ed8b08e2",
       "version_major": 2,
       "version_minor": 0
      },
      "text/plain": [
       "Validation: |          | 0/? [00:00<?, ?it/s]"
      ]
     },
     "metadata": {},
     "output_type": "display_data"
    },
    {
     "name": "stderr",
     "output_type": "stream",
     "text": [
      "[I 2024-11-04 00:40:51,413] Trial 9 finished with value: 0.5321258902549744 and parameters: {'hidden_dim': 128, 'num_layers': 1, 'optimizer_name': 'Adam', 'batch_size': 1024, 'learning_rate': 0.1, 'sentence_representation_type': 'last'}. Best is trial 6 with value: 0.7682926654815674.\n",
      "Seed set to 42\n"
     ]
    },
    {
     "name": "stdout",
     "output_type": "stream",
     "text": [
      "---------- batch_size_128; lr_0.001; optimizer_Adam; hidden_dim_128; num_layers_4; sentence_representation_max ----------\n"
     ]
    },
    {
     "name": "stderr",
     "output_type": "stream",
     "text": [
      "GPU available: True (cuda), used: False\n",
      "TPU available: False, using: 0 TPU cores\n",
      "HPU available: False, using: 0 HPUs\n",
      "\n",
      "  | Name   | Type               | Params | Mode \n",
      "------------------------------------------------------\n",
      "0 | model  | RNN                | 5.1 M  | train\n",
      "1 | metric | MulticlassAccuracy | 0      | train\n",
      "------------------------------------------------------\n",
      "5.1 M     Trainable params\n",
      "0         Non-trainable params\n",
      "5.1 M     Total params\n",
      "20.251    Total estimated model params size (MB)\n",
      "7         Modules in train mode\n",
      "0         Modules in eval mode\n"
     ]
    },
    {
     "data": {
      "application/vnd.jupyter.widget-view+json": {
       "model_id": "3a80a8e20fbd4b2d8061df7eb955a6a7",
       "version_major": 2,
       "version_minor": 0
      },
      "text/plain": [
       "Sanity Checking: |          | 0/? [00:00<?, ?it/s]"
      ]
     },
     "metadata": {},
     "output_type": "display_data"
    },
    {
     "data": {
      "application/vnd.jupyter.widget-view+json": {
       "model_id": "bd08a7746eb14eb6a7b2587c8e60f786",
       "version_major": 2,
       "version_minor": 0
      },
      "text/plain": [
       "Training: |          | 0/? [00:00<?, ?it/s]"
      ]
     },
     "metadata": {},
     "output_type": "display_data"
    },
    {
     "data": {
      "application/vnd.jupyter.widget-view+json": {
       "model_id": "3f87caef56584b35808839a4e63bef43",
       "version_major": 2,
       "version_minor": 0
      },
      "text/plain": [
       "Validation: |          | 0/? [00:00<?, ?it/s]"
      ]
     },
     "metadata": {},
     "output_type": "display_data"
    },
    {
     "data": {
      "application/vnd.jupyter.widget-view+json": {
       "model_id": "cdfea45165ff4e158dc338c3113b5bd5",
       "version_major": 2,
       "version_minor": 0
      },
      "text/plain": [
       "Validation: |          | 0/? [00:00<?, ?it/s]"
      ]
     },
     "metadata": {},
     "output_type": "display_data"
    },
    {
     "data": {
      "application/vnd.jupyter.widget-view+json": {
       "model_id": "a0f19d37d3174f59aaa698cb9b9dea61",
       "version_major": 2,
       "version_minor": 0
      },
      "text/plain": [
       "Validation: |          | 0/? [00:00<?, ?it/s]"
      ]
     },
     "metadata": {},
     "output_type": "display_data"
    },
    {
     "data": {
      "application/vnd.jupyter.widget-view+json": {
       "model_id": "8d38ee1200084ca5b068accc01065a0a",
       "version_major": 2,
       "version_minor": 0
      },
      "text/plain": [
       "Validation: |          | 0/? [00:00<?, ?it/s]"
      ]
     },
     "metadata": {},
     "output_type": "display_data"
    },
    {
     "data": {
      "application/vnd.jupyter.widget-view+json": {
       "model_id": "4e83006aa12b4a38a55d46d386aae41d",
       "version_major": 2,
       "version_minor": 0
      },
      "text/plain": [
       "Validation: |          | 0/? [00:00<?, ?it/s]"
      ]
     },
     "metadata": {},
     "output_type": "display_data"
    },
    {
     "name": "stderr",
     "output_type": "stream",
     "text": [
      "[I 2024-11-04 00:41:59,014] Trial 10 finished with value: 0.43513989448547363 and parameters: {'hidden_dim': 128, 'num_layers': 4, 'optimizer_name': 'Adam', 'batch_size': 128, 'learning_rate': 0.001, 'sentence_representation_type': 'max'}. Best is trial 6 with value: 0.7682926654815674.\n",
      "Seed set to 42\n"
     ]
    },
    {
     "name": "stdout",
     "output_type": "stream",
     "text": [
      "---------- batch_size_2048; lr_0.01; optimizer_Adam; hidden_dim_128; num_layers_1; sentence_representation_average ----------\n"
     ]
    },
    {
     "name": "stderr",
     "output_type": "stream",
     "text": [
      "[I 2024-11-04 00:41:59,630] Trial 11 finished with value: 0.7598499059677124 and parameters: {'hidden_dim': 128, 'num_layers': 1, 'optimizer_name': 'Adam', 'batch_size': 2048, 'learning_rate': 0.01, 'sentence_representation_type': 'average'}. Best is trial 6 with value: 0.7682926654815674.\n",
      "Seed set to 42\n"
     ]
    },
    {
     "name": "stdout",
     "output_type": "stream",
     "text": [
      "[Skipping] rnn/test/w2v-3b/batch_size_2048-lr_0.01-optimizer_Adam-hidden_dim_128-num_layers_1-sr_type_average-freeze_False\n",
      "---------- batch_size_2048; lr_0.001; optimizer_Adam; hidden_dim_128; num_layers_1; sentence_representation_max ----------\n"
     ]
    },
    {
     "name": "stderr",
     "output_type": "stream",
     "text": [
      "[I 2024-11-04 00:42:00,188] Trial 12 finished with value: 0.7682926654815674 and parameters: {'hidden_dim': 128, 'num_layers': 1, 'optimizer_name': 'Adam', 'batch_size': 2048, 'learning_rate': 0.001, 'sentence_representation_type': 'max'}. Best is trial 6 with value: 0.7682926654815674.\n",
      "Seed set to 42\n"
     ]
    },
    {
     "name": "stdout",
     "output_type": "stream",
     "text": [
      "[Skipping] rnn/test/w2v-3b/batch_size_2048-lr_0.001-optimizer_Adam-hidden_dim_128-num_layers_1-sr_type_max-freeze_False\n",
      "---------- batch_size_32; lr_0.001; optimizer_Adam; hidden_dim_128; num_layers_3; sentence_representation_max ----------\n"
     ]
    },
    {
     "name": "stderr",
     "output_type": "stream",
     "text": [
      "GPU available: True (cuda), used: False\n",
      "TPU available: False, using: 0 TPU cores\n",
      "HPU available: False, using: 0 HPUs\n",
      "\n",
      "  | Name   | Type               | Params | Mode \n",
      "------------------------------------------------------\n",
      "0 | model  | RNN                | 5.0 M  | train\n",
      "1 | metric | MulticlassAccuracy | 0      | train\n",
      "------------------------------------------------------\n",
      "5.0 M     Trainable params\n",
      "0         Non-trainable params\n",
      "5.0 M     Total params\n",
      "20.119    Total estimated model params size (MB)\n",
      "7         Modules in train mode\n",
      "0         Modules in eval mode\n"
     ]
    },
    {
     "data": {
      "application/vnd.jupyter.widget-view+json": {
       "model_id": "9e37aa206f3f4f328c31f12a61405b50",
       "version_major": 2,
       "version_minor": 0
      },
      "text/plain": [
       "Sanity Checking: |          | 0/? [00:00<?, ?it/s]"
      ]
     },
     "metadata": {},
     "output_type": "display_data"
    },
    {
     "data": {
      "application/vnd.jupyter.widget-view+json": {
       "model_id": "683132482e4a447490230fffd847f9ff",
       "version_major": 2,
       "version_minor": 0
      },
      "text/plain": [
       "Training: |          | 0/? [00:00<?, ?it/s]"
      ]
     },
     "metadata": {},
     "output_type": "display_data"
    },
    {
     "data": {
      "application/vnd.jupyter.widget-view+json": {
       "model_id": "b8a5c37c2b2a4956902d29ba834958f7",
       "version_major": 2,
       "version_minor": 0
      },
      "text/plain": [
       "Validation: |          | 0/? [00:00<?, ?it/s]"
      ]
     },
     "metadata": {},
     "output_type": "display_data"
    },
    {
     "data": {
      "application/vnd.jupyter.widget-view+json": {
       "model_id": "6e6e11360fda4146ada5c33879359d04",
       "version_major": 2,
       "version_minor": 0
      },
      "text/plain": [
       "Validation: |          | 0/? [00:00<?, ?it/s]"
      ]
     },
     "metadata": {},
     "output_type": "display_data"
    },
    {
     "data": {
      "application/vnd.jupyter.widget-view+json": {
       "model_id": "5f41141809644585b0e3f81f2e3a2be0",
       "version_major": 2,
       "version_minor": 0
      },
      "text/plain": [
       "Validation: |          | 0/? [00:00<?, ?it/s]"
      ]
     },
     "metadata": {},
     "output_type": "display_data"
    },
    {
     "data": {
      "application/vnd.jupyter.widget-view+json": {
       "model_id": "26f3a689b1604de0b2ca3c067615d7ce",
       "version_major": 2,
       "version_minor": 0
      },
      "text/plain": [
       "Validation: |          | 0/? [00:00<?, ?it/s]"
      ]
     },
     "metadata": {},
     "output_type": "display_data"
    },
    {
     "name": "stderr",
     "output_type": "stream",
     "text": [
      "[I 2024-11-04 00:43:35,163] Trial 13 finished with value: 0.4018278419971466 and parameters: {'hidden_dim': 128, 'num_layers': 3, 'optimizer_name': 'Adam', 'batch_size': 32, 'learning_rate': 0.001, 'sentence_representation_type': 'max'}. Best is trial 6 with value: 0.7682926654815674.\n",
      "Seed set to 42\n"
     ]
    },
    {
     "name": "stdout",
     "output_type": "stream",
     "text": [
      "---------- batch_size_2048; lr_0.001; optimizer_Adam; hidden_dim_64; num_layers_1; sentence_representation_max ----------\n"
     ]
    },
    {
     "name": "stderr",
     "output_type": "stream",
     "text": [
      "GPU available: True (cuda), used: False\n",
      "TPU available: False, using: 0 TPU cores\n",
      "HPU available: False, using: 0 HPUs\n",
      "\n",
      "  | Name   | Type               | Params | Mode \n",
      "------------------------------------------------------\n",
      "0 | model  | RNN                | 4.9 M  | train\n",
      "1 | metric | MulticlassAccuracy | 0      | train\n",
      "------------------------------------------------------\n",
      "4.9 M     Trainable params\n",
      "0         Non-trainable params\n",
      "4.9 M     Total params\n",
      "19.703    Total estimated model params size (MB)\n",
      "7         Modules in train mode\n",
      "0         Modules in eval mode\n"
     ]
    },
    {
     "data": {
      "application/vnd.jupyter.widget-view+json": {
       "model_id": "1484ffe61aea4acd9b9e963ce2b38dcf",
       "version_major": 2,
       "version_minor": 0
      },
      "text/plain": [
       "Sanity Checking: |          | 0/? [00:00<?, ?it/s]"
      ]
     },
     "metadata": {},
     "output_type": "display_data"
    },
    {
     "data": {
      "application/vnd.jupyter.widget-view+json": {
       "model_id": "93396e7adc154d42b7839bcd8e6bf659",
       "version_major": 2,
       "version_minor": 0
      },
      "text/plain": [
       "Training: |          | 0/? [00:00<?, ?it/s]"
      ]
     },
     "metadata": {},
     "output_type": "display_data"
    },
    {
     "data": {
      "application/vnd.jupyter.widget-view+json": {
       "model_id": "caecf6e7f7f24917b3178904ebae81ad",
       "version_major": 2,
       "version_minor": 0
      },
      "text/plain": [
       "Validation: |          | 0/? [00:00<?, ?it/s]"
      ]
     },
     "metadata": {},
     "output_type": "display_data"
    },
    {
     "data": {
      "application/vnd.jupyter.widget-view+json": {
       "model_id": "94fbbce832074f37b123d796cb9d64cf",
       "version_major": 2,
       "version_minor": 0
      },
      "text/plain": [
       "Validation: |          | 0/? [00:00<?, ?it/s]"
      ]
     },
     "metadata": {},
     "output_type": "display_data"
    },
    {
     "data": {
      "application/vnd.jupyter.widget-view+json": {
       "model_id": "304b379ce66a4fb8ae520de6c885aca0",
       "version_major": 2,
       "version_minor": 0
      },
      "text/plain": [
       "Validation: |          | 0/? [00:00<?, ?it/s]"
      ]
     },
     "metadata": {},
     "output_type": "display_data"
    },
    {
     "data": {
      "application/vnd.jupyter.widget-view+json": {
       "model_id": "f6c2aabf0344433bb457313568049451",
       "version_major": 2,
       "version_minor": 0
      },
      "text/plain": [
       "Validation: |          | 0/? [00:00<?, ?it/s]"
      ]
     },
     "metadata": {},
     "output_type": "display_data"
    },
    {
     "data": {
      "application/vnd.jupyter.widget-view+json": {
       "model_id": "176b4b77b7804cb29472121d95e8118e",
       "version_major": 2,
       "version_minor": 0
      },
      "text/plain": [
       "Validation: |          | 0/? [00:00<?, ?it/s]"
      ]
     },
     "metadata": {},
     "output_type": "display_data"
    },
    {
     "data": {
      "application/vnd.jupyter.widget-view+json": {
       "model_id": "bc175c95aa8d4437b1053edd291bd7e1",
       "version_major": 2,
       "version_minor": 0
      },
      "text/plain": [
       "Validation: |          | 0/? [00:00<?, ?it/s]"
      ]
     },
     "metadata": {},
     "output_type": "display_data"
    },
    {
     "data": {
      "application/vnd.jupyter.widget-view+json": {
       "model_id": "14a139b05ebb45c6be216e717b0545cc",
       "version_major": 2,
       "version_minor": 0
      },
      "text/plain": [
       "Validation: |          | 0/? [00:00<?, ?it/s]"
      ]
     },
     "metadata": {},
     "output_type": "display_data"
    },
    {
     "data": {
      "application/vnd.jupyter.widget-view+json": {
       "model_id": "b20b65980526480e8def6a55b84aa1f8",
       "version_major": 2,
       "version_minor": 0
      },
      "text/plain": [
       "Validation: |          | 0/? [00:00<?, ?it/s]"
      ]
     },
     "metadata": {},
     "output_type": "display_data"
    },
    {
     "data": {
      "application/vnd.jupyter.widget-view+json": {
       "model_id": "724ba2d401b9444289c94eb612e4abe1",
       "version_major": 2,
       "version_minor": 0
      },
      "text/plain": [
       "Validation: |          | 0/? [00:00<?, ?it/s]"
      ]
     },
     "metadata": {},
     "output_type": "display_data"
    },
    {
     "data": {
      "application/vnd.jupyter.widget-view+json": {
       "model_id": "ddf55eb122cc41c5b6b2dab7e48358b1",
       "version_major": 2,
       "version_minor": 0
      },
      "text/plain": [
       "Validation: |          | 0/? [00:00<?, ?it/s]"
      ]
     },
     "metadata": {},
     "output_type": "display_data"
    },
    {
     "name": "stderr",
     "output_type": "stream",
     "text": [
      "[I 2024-11-04 00:44:35,593] Trial 14 finished with value: 0.7589118480682373 and parameters: {'hidden_dim': 64, 'num_layers': 1, 'optimizer_name': 'Adam', 'batch_size': 2048, 'learning_rate': 0.001, 'sentence_representation_type': 'max'}. Best is trial 6 with value: 0.7682926654815674.\n",
      "Seed set to 42\n"
     ]
    },
    {
     "name": "stdout",
     "output_type": "stream",
     "text": [
      "---------- batch_size_2048; lr_0.001; optimizer_Adam; hidden_dim_128; num_layers_4; sentence_representation_max ----------\n"
     ]
    },
    {
     "name": "stderr",
     "output_type": "stream",
     "text": [
      "GPU available: True (cuda), used: False\n",
      "TPU available: False, using: 0 TPU cores\n",
      "HPU available: False, using: 0 HPUs\n",
      "\n",
      "  | Name   | Type               | Params | Mode \n",
      "------------------------------------------------------\n",
      "0 | model  | RNN                | 5.1 M  | train\n",
      "1 | metric | MulticlassAccuracy | 0      | train\n",
      "------------------------------------------------------\n",
      "5.1 M     Trainable params\n",
      "0         Non-trainable params\n",
      "5.1 M     Total params\n",
      "20.251    Total estimated model params size (MB)\n",
      "7         Modules in train mode\n",
      "0         Modules in eval mode\n"
     ]
    },
    {
     "data": {
      "application/vnd.jupyter.widget-view+json": {
       "model_id": "c9e36ff7441a495c94ccfabac9558956",
       "version_major": 2,
       "version_minor": 0
      },
      "text/plain": [
       "Sanity Checking: |          | 0/? [00:00<?, ?it/s]"
      ]
     },
     "metadata": {},
     "output_type": "display_data"
    },
    {
     "data": {
      "application/vnd.jupyter.widget-view+json": {
       "model_id": "823ee8b824514aea90ccec096cdaf316",
       "version_major": 2,
       "version_minor": 0
      },
      "text/plain": [
       "Training: |          | 0/? [00:00<?, ?it/s]"
      ]
     },
     "metadata": {},
     "output_type": "display_data"
    },
    {
     "data": {
      "application/vnd.jupyter.widget-view+json": {
       "model_id": "80d7eb689cb64a49ae31d29c49121f22",
       "version_major": 2,
       "version_minor": 0
      },
      "text/plain": [
       "Validation: |          | 0/? [00:00<?, ?it/s]"
      ]
     },
     "metadata": {},
     "output_type": "display_data"
    },
    {
     "data": {
      "application/vnd.jupyter.widget-view+json": {
       "model_id": "a9e23a5aa6664cb1a5cc50f7688704da",
       "version_major": 2,
       "version_minor": 0
      },
      "text/plain": [
       "Validation: |          | 0/? [00:00<?, ?it/s]"
      ]
     },
     "metadata": {},
     "output_type": "display_data"
    },
    {
     "data": {
      "application/vnd.jupyter.widget-view+json": {
       "model_id": "5d4828690a2c4df0b01629aef873132d",
       "version_major": 2,
       "version_minor": 0
      },
      "text/plain": [
       "Validation: |          | 0/? [00:00<?, ?it/s]"
      ]
     },
     "metadata": {},
     "output_type": "display_data"
    },
    {
     "data": {
      "application/vnd.jupyter.widget-view+json": {
       "model_id": "64d1f94bb7094fd58831d8b1efd465c2",
       "version_major": 2,
       "version_minor": 0
      },
      "text/plain": [
       "Validation: |          | 0/? [00:00<?, ?it/s]"
      ]
     },
     "metadata": {},
     "output_type": "display_data"
    },
    {
     "data": {
      "application/vnd.jupyter.widget-view+json": {
       "model_id": "5fd2e282fc5a4d2b93045323386821e1",
       "version_major": 2,
       "version_minor": 0
      },
      "text/plain": [
       "Validation: |          | 0/? [00:00<?, ?it/s]"
      ]
     },
     "metadata": {},
     "output_type": "display_data"
    },
    {
     "data": {
      "application/vnd.jupyter.widget-view+json": {
       "model_id": "a046a25257414685b0448ed9974331a1",
       "version_major": 2,
       "version_minor": 0
      },
      "text/plain": [
       "Validation: |          | 0/? [00:00<?, ?it/s]"
      ]
     },
     "metadata": {},
     "output_type": "display_data"
    },
    {
     "data": {
      "application/vnd.jupyter.widget-view+json": {
       "model_id": "aa65f4eed62c4b71ac4ac61cda2d1fe9",
       "version_major": 2,
       "version_minor": 0
      },
      "text/plain": [
       "Validation: |          | 0/? [00:00<?, ?it/s]"
      ]
     },
     "metadata": {},
     "output_type": "display_data"
    },
    {
     "name": "stderr",
     "output_type": "stream",
     "text": [
      "[I 2024-11-04 00:46:03,575] Trial 15 finished with value: 0.7626641988754272 and parameters: {'hidden_dim': 128, 'num_layers': 4, 'optimizer_name': 'Adam', 'batch_size': 2048, 'learning_rate': 0.001, 'sentence_representation_type': 'max'}. Best is trial 6 with value: 0.7682926654815674.\n",
      "Seed set to 42\n"
     ]
    },
    {
     "name": "stdout",
     "output_type": "stream",
     "text": [
      "---------- batch_size_128; lr_0.001; optimizer_Adam; hidden_dim_128; num_layers_1; sentence_representation_max ----------\n"
     ]
    },
    {
     "name": "stderr",
     "output_type": "stream",
     "text": [
      "GPU available: True (cuda), used: False\n",
      "TPU available: False, using: 0 TPU cores\n",
      "HPU available: False, using: 0 HPUs\n",
      "\n",
      "  | Name   | Type               | Params | Mode \n",
      "------------------------------------------------------\n",
      "0 | model  | RNN                | 5.0 M  | train\n",
      "1 | metric | MulticlassAccuracy | 0      | train\n",
      "------------------------------------------------------\n",
      "5.0 M     Trainable params\n",
      "0         Non-trainable params\n",
      "5.0 M     Total params\n",
      "19.855    Total estimated model params size (MB)\n",
      "7         Modules in train mode\n",
      "0         Modules in eval mode\n"
     ]
    },
    {
     "data": {
      "application/vnd.jupyter.widget-view+json": {
       "model_id": "d71048907ec94111aea8c61896af0612",
       "version_major": 2,
       "version_minor": 0
      },
      "text/plain": [
       "Sanity Checking: |          | 0/? [00:00<?, ?it/s]"
      ]
     },
     "metadata": {},
     "output_type": "display_data"
    },
    {
     "data": {
      "application/vnd.jupyter.widget-view+json": {
       "model_id": "50170f0124c54a07af4b1f636c57cea0",
       "version_major": 2,
       "version_minor": 0
      },
      "text/plain": [
       "Training: |          | 0/? [00:00<?, ?it/s]"
      ]
     },
     "metadata": {},
     "output_type": "display_data"
    },
    {
     "data": {
      "application/vnd.jupyter.widget-view+json": {
       "model_id": "9a1d89154f484aaaab0a0ab20ca73587",
       "version_major": 2,
       "version_minor": 0
      },
      "text/plain": [
       "Validation: |          | 0/? [00:00<?, ?it/s]"
      ]
     },
     "metadata": {},
     "output_type": "display_data"
    },
    {
     "data": {
      "application/vnd.jupyter.widget-view+json": {
       "model_id": "538389dd6dad4b46a3a47aa042d84fd5",
       "version_major": 2,
       "version_minor": 0
      },
      "text/plain": [
       "Validation: |          | 0/? [00:00<?, ?it/s]"
      ]
     },
     "metadata": {},
     "output_type": "display_data"
    },
    {
     "data": {
      "application/vnd.jupyter.widget-view+json": {
       "model_id": "8904e58884ba417894fd8519fa498dae",
       "version_major": 2,
       "version_minor": 0
      },
      "text/plain": [
       "Validation: |          | 0/? [00:00<?, ?it/s]"
      ]
     },
     "metadata": {},
     "output_type": "display_data"
    },
    {
     "data": {
      "application/vnd.jupyter.widget-view+json": {
       "model_id": "c41019e5bf014ea9828933b0e5bc2f55",
       "version_major": 2,
       "version_minor": 0
      },
      "text/plain": [
       "Validation: |          | 0/? [00:00<?, ?it/s]"
      ]
     },
     "metadata": {},
     "output_type": "display_data"
    },
    {
     "data": {
      "application/vnd.jupyter.widget-view+json": {
       "model_id": "cc9810ceb00c4a9191d9c9f5ea17bfdd",
       "version_major": 2,
       "version_minor": 0
      },
      "text/plain": [
       "Validation: |          | 0/? [00:00<?, ?it/s]"
      ]
     },
     "metadata": {},
     "output_type": "display_data"
    },
    {
     "name": "stderr",
     "output_type": "stream",
     "text": [
      "[I 2024-11-04 00:46:57,141] Trial 16 finished with value: 0.42641761898994446 and parameters: {'hidden_dim': 128, 'num_layers': 1, 'optimizer_name': 'Adam', 'batch_size': 128, 'learning_rate': 0.001, 'sentence_representation_type': 'max'}. Best is trial 6 with value: 0.7682926654815674.\n",
      "Seed set to 42\n"
     ]
    },
    {
     "name": "stdout",
     "output_type": "stream",
     "text": [
      "---------- batch_size_32; lr_0.001; optimizer_Adam; hidden_dim_128; num_layers_3; sentence_representation_max ----------\n"
     ]
    },
    {
     "name": "stderr",
     "output_type": "stream",
     "text": [
      "[I 2024-11-04 00:46:57,728] Trial 17 finished with value: 0.4018278419971466 and parameters: {'hidden_dim': 128, 'num_layers': 3, 'optimizer_name': 'Adam', 'batch_size': 32, 'learning_rate': 0.001, 'sentence_representation_type': 'max'}. Best is trial 6 with value: 0.7682926654815674.\n",
      "Seed set to 42\n"
     ]
    },
    {
     "name": "stdout",
     "output_type": "stream",
     "text": [
      "[Skipping] rnn/test/w2v-3b/batch_size_32-lr_0.001-optimizer_Adam-hidden_dim_128-num_layers_3-sr_type_max-freeze_False\n",
      "---------- batch_size_64; lr_0.1; optimizer_Adam; hidden_dim_256; num_layers_1; sentence_representation_max ----------\n"
     ]
    },
    {
     "name": "stderr",
     "output_type": "stream",
     "text": [
      "GPU available: True (cuda), used: False\n",
      "TPU available: False, using: 0 TPU cores\n",
      "HPU available: False, using: 0 HPUs\n",
      "\n",
      "  | Name   | Type               | Params | Mode \n",
      "------------------------------------------------------\n",
      "0 | model  | RNN                | 5.1 M  | train\n",
      "1 | metric | MulticlassAccuracy | 0      | train\n",
      "------------------------------------------------------\n",
      "5.1 M     Trainable params\n",
      "0         Non-trainable params\n",
      "5.1 M     Total params\n",
      "20.305    Total estimated model params size (MB)\n",
      "7         Modules in train mode\n",
      "0         Modules in eval mode\n"
     ]
    },
    {
     "data": {
      "application/vnd.jupyter.widget-view+json": {
       "model_id": "d8e6558f690f4ec2bb409d23cd89154e",
       "version_major": 2,
       "version_minor": 0
      },
      "text/plain": [
       "Sanity Checking: |          | 0/? [00:00<?, ?it/s]"
      ]
     },
     "metadata": {},
     "output_type": "display_data"
    },
    {
     "data": {
      "application/vnd.jupyter.widget-view+json": {
       "model_id": "8f3048deb19b4dfb8432ceedaeba819b",
       "version_major": 2,
       "version_minor": 0
      },
      "text/plain": [
       "Training: |          | 0/? [00:00<?, ?it/s]"
      ]
     },
     "metadata": {},
     "output_type": "display_data"
    },
    {
     "data": {
      "application/vnd.jupyter.widget-view+json": {
       "model_id": "2f794abe5b0b4679bf945a5aefcefa47",
       "version_major": 2,
       "version_minor": 0
      },
      "text/plain": [
       "Validation: |          | 0/? [00:00<?, ?it/s]"
      ]
     },
     "metadata": {},
     "output_type": "display_data"
    },
    {
     "data": {
      "application/vnd.jupyter.widget-view+json": {
       "model_id": "fe3575de6c5146bfa156d779eb20ef9e",
       "version_major": 2,
       "version_minor": 0
      },
      "text/plain": [
       "Validation: |          | 0/? [00:00<?, ?it/s]"
      ]
     },
     "metadata": {},
     "output_type": "display_data"
    },
    {
     "data": {
      "application/vnd.jupyter.widget-view+json": {
       "model_id": "2057d47da45643709301550530c0b960",
       "version_major": 2,
       "version_minor": 0
      },
      "text/plain": [
       "Validation: |          | 0/? [00:00<?, ?it/s]"
      ]
     },
     "metadata": {},
     "output_type": "display_data"
    },
    {
     "data": {
      "application/vnd.jupyter.widget-view+json": {
       "model_id": "37203cc7f6ef470dbbe99ac7debae8f0",
       "version_major": 2,
       "version_minor": 0
      },
      "text/plain": [
       "Validation: |          | 0/? [00:00<?, ?it/s]"
      ]
     },
     "metadata": {},
     "output_type": "display_data"
    },
    {
     "data": {
      "application/vnd.jupyter.widget-view+json": {
       "model_id": "745f47166f784e1fba166b4f5d32df4c",
       "version_major": 2,
       "version_minor": 0
      },
      "text/plain": [
       "Validation: |          | 0/? [00:00<?, ?it/s]"
      ]
     },
     "metadata": {},
     "output_type": "display_data"
    },
    {
     "name": "stderr",
     "output_type": "stream",
     "text": [
      "[I 2024-11-04 00:48:10,630] Trial 18 finished with value: 0.51031893491745 and parameters: {'hidden_dim': 256, 'num_layers': 1, 'optimizer_name': 'Adam', 'batch_size': 64, 'learning_rate': 0.1, 'sentence_representation_type': 'max'}. Best is trial 6 with value: 0.7682926654815674.\n",
      "Seed set to 42\n"
     ]
    },
    {
     "name": "stdout",
     "output_type": "stream",
     "text": [
      "---------- batch_size_512; lr_0.0001; optimizer_Adam; hidden_dim_64; num_layers_2; sentence_representation_max ----------\n"
     ]
    },
    {
     "name": "stderr",
     "output_type": "stream",
     "text": [
      "GPU available: True (cuda), used: False\n",
      "TPU available: False, using: 0 TPU cores\n",
      "HPU available: False, using: 0 HPUs\n",
      "\n",
      "  | Name   | Type               | Params | Mode \n",
      "------------------------------------------------------\n",
      "0 | model  | RNN                | 4.9 M  | train\n",
      "1 | metric | MulticlassAccuracy | 0      | train\n",
      "------------------------------------------------------\n",
      "4.9 M     Trainable params\n",
      "0         Non-trainable params\n",
      "4.9 M     Total params\n",
      "19.736    Total estimated model params size (MB)\n",
      "7         Modules in train mode\n",
      "0         Modules in eval mode\n"
     ]
    },
    {
     "data": {
      "application/vnd.jupyter.widget-view+json": {
       "model_id": "2da5fcd20bd34c89b4f4c1caca88616f",
       "version_major": 2,
       "version_minor": 0
      },
      "text/plain": [
       "Sanity Checking: |          | 0/? [00:00<?, ?it/s]"
      ]
     },
     "metadata": {},
     "output_type": "display_data"
    },
    {
     "data": {
      "application/vnd.jupyter.widget-view+json": {
       "model_id": "f4c37897fd304a6bb1ae49caaec801ef",
       "version_major": 2,
       "version_minor": 0
      },
      "text/plain": [
       "Training: |          | 0/? [00:00<?, ?it/s]"
      ]
     },
     "metadata": {},
     "output_type": "display_data"
    },
    {
     "data": {
      "application/vnd.jupyter.widget-view+json": {
       "model_id": "027edb7d7135449e9f0ee4aaa911d14c",
       "version_major": 2,
       "version_minor": 0
      },
      "text/plain": [
       "Validation: |          | 0/? [00:00<?, ?it/s]"
      ]
     },
     "metadata": {},
     "output_type": "display_data"
    },
    {
     "data": {
      "application/vnd.jupyter.widget-view+json": {
       "model_id": "23392cbeb12640bfbc3ecef8183902d8",
       "version_major": 2,
       "version_minor": 0
      },
      "text/plain": [
       "Validation: |          | 0/? [00:00<?, ?it/s]"
      ]
     },
     "metadata": {},
     "output_type": "display_data"
    },
    {
     "data": {
      "application/vnd.jupyter.widget-view+json": {
       "model_id": "c85adb52b76942369af303f785381d31",
       "version_major": 2,
       "version_minor": 0
      },
      "text/plain": [
       "Validation: |          | 0/? [00:00<?, ?it/s]"
      ]
     },
     "metadata": {},
     "output_type": "display_data"
    },
    {
     "data": {
      "application/vnd.jupyter.widget-view+json": {
       "model_id": "03c5b35bece147bfa005020a2d9acb32",
       "version_major": 2,
       "version_minor": 0
      },
      "text/plain": [
       "Validation: |          | 0/? [00:00<?, ?it/s]"
      ]
     },
     "metadata": {},
     "output_type": "display_data"
    },
    {
     "data": {
      "application/vnd.jupyter.widget-view+json": {
       "model_id": "2055fecf085846a3b27224107f871381",
       "version_major": 2,
       "version_minor": 0
      },
      "text/plain": [
       "Validation: |          | 0/? [00:00<?, ?it/s]"
      ]
     },
     "metadata": {},
     "output_type": "display_data"
    },
    {
     "data": {
      "application/vnd.jupyter.widget-view+json": {
       "model_id": "f72102051aac43afa3ccc8f797e85502",
       "version_major": 2,
       "version_minor": 0
      },
      "text/plain": [
       "Validation: |          | 0/? [00:00<?, ?it/s]"
      ]
     },
     "metadata": {},
     "output_type": "display_data"
    },
    {
     "data": {
      "application/vnd.jupyter.widget-view+json": {
       "model_id": "d5c7417f6085445a925bf2fd846293f7",
       "version_major": 2,
       "version_minor": 0
      },
      "text/plain": [
       "Validation: |          | 0/? [00:00<?, ?it/s]"
      ]
     },
     "metadata": {},
     "output_type": "display_data"
    },
    {
     "data": {
      "application/vnd.jupyter.widget-view+json": {
       "model_id": "f9aa222ff81f4beb81ab3c50f01a7144",
       "version_major": 2,
       "version_minor": 0
      },
      "text/plain": [
       "Validation: |          | 0/? [00:00<?, ?it/s]"
      ]
     },
     "metadata": {},
     "output_type": "display_data"
    },
    {
     "data": {
      "application/vnd.jupyter.widget-view+json": {
       "model_id": "8891a1288d6b49dd8cafe377b8b9d4f0",
       "version_major": 2,
       "version_minor": 0
      },
      "text/plain": [
       "Validation: |          | 0/? [00:00<?, ?it/s]"
      ]
     },
     "metadata": {},
     "output_type": "display_data"
    },
    {
     "data": {
      "application/vnd.jupyter.widget-view+json": {
       "model_id": "b80a681b495a49a3b09a6195d4cf2435",
       "version_major": 2,
       "version_minor": 0
      },
      "text/plain": [
       "Validation: |          | 0/? [00:00<?, ?it/s]"
      ]
     },
     "metadata": {},
     "output_type": "display_data"
    },
    {
     "data": {
      "application/vnd.jupyter.widget-view+json": {
       "model_id": "63242f0bba444b03b2da7389e093469b",
       "version_major": 2,
       "version_minor": 0
      },
      "text/plain": [
       "Validation: |          | 0/? [00:00<?, ?it/s]"
      ]
     },
     "metadata": {},
     "output_type": "display_data"
    },
    {
     "data": {
      "application/vnd.jupyter.widget-view+json": {
       "model_id": "a3fc958c8ad5456797029cfc4e32b54c",
       "version_major": 2,
       "version_minor": 0
      },
      "text/plain": [
       "Validation: |          | 0/? [00:00<?, ?it/s]"
      ]
     },
     "metadata": {},
     "output_type": "display_data"
    },
    {
     "data": {
      "application/vnd.jupyter.widget-view+json": {
       "model_id": "1783710e4bb5470eb17abd52b21a3c78",
       "version_major": 2,
       "version_minor": 0
      },
      "text/plain": [
       "Validation: |          | 0/? [00:00<?, ?it/s]"
      ]
     },
     "metadata": {},
     "output_type": "display_data"
    },
    {
     "data": {
      "application/vnd.jupyter.widget-view+json": {
       "model_id": "0981ca51b6354accbcce06676112ee31",
       "version_major": 2,
       "version_minor": 0
      },
      "text/plain": [
       "Validation: |          | 0/? [00:00<?, ?it/s]"
      ]
     },
     "metadata": {},
     "output_type": "display_data"
    },
    {
     "data": {
      "application/vnd.jupyter.widget-view+json": {
       "model_id": "4ac6c3a5f59d4ee1bed7a03b3132109e",
       "version_major": 2,
       "version_minor": 0
      },
      "text/plain": [
       "Validation: |          | 0/? [00:00<?, ?it/s]"
      ]
     },
     "metadata": {},
     "output_type": "display_data"
    },
    {
     "data": {
      "application/vnd.jupyter.widget-view+json": {
       "model_id": "421cf81c9347472f82f5e15ce93a9316",
       "version_major": 2,
       "version_minor": 0
      },
      "text/plain": [
       "Validation: |          | 0/? [00:00<?, ?it/s]"
      ]
     },
     "metadata": {},
     "output_type": "display_data"
    },
    {
     "name": "stderr",
     "output_type": "stream",
     "text": [
      "[I 2024-11-04 00:49:25,565] Trial 19 finished with value: 0.515972912311554 and parameters: {'hidden_dim': 64, 'num_layers': 2, 'optimizer_name': 'Adam', 'batch_size': 512, 'learning_rate': 0.0001, 'sentence_representation_type': 'max'}. Best is trial 6 with value: 0.7682926654815674.\n",
      "Seed set to 42\n"
     ]
    },
    {
     "name": "stdout",
     "output_type": "stream",
     "text": [
      "---------- batch_size_2048; lr_0.001; optimizer_Adam; hidden_dim_128; num_layers_1; sentence_representation_max ----------\n"
     ]
    },
    {
     "name": "stderr",
     "output_type": "stream",
     "text": [
      "[I 2024-11-04 00:49:26,136] Trial 20 finished with value: 0.7682926654815674 and parameters: {'hidden_dim': 128, 'num_layers': 1, 'optimizer_name': 'Adam', 'batch_size': 2048, 'learning_rate': 0.001, 'sentence_representation_type': 'max'}. Best is trial 6 with value: 0.7682926654815674.\n",
      "Seed set to 42\n"
     ]
    },
    {
     "name": "stdout",
     "output_type": "stream",
     "text": [
      "[Skipping] rnn/test/w2v-3b/batch_size_2048-lr_0.001-optimizer_Adam-hidden_dim_128-num_layers_1-sr_type_max-freeze_False\n",
      "---------- batch_size_2048; lr_0.001; optimizer_Adam; hidden_dim_128; num_layers_1; sentence_representation_max ----------\n"
     ]
    },
    {
     "name": "stderr",
     "output_type": "stream",
     "text": [
      "[I 2024-11-04 00:49:26,707] Trial 21 finished with value: 0.7682926654815674 and parameters: {'hidden_dim': 128, 'num_layers': 1, 'optimizer_name': 'Adam', 'batch_size': 2048, 'learning_rate': 0.001, 'sentence_representation_type': 'max'}. Best is trial 6 with value: 0.7682926654815674.\n",
      "Seed set to 42\n"
     ]
    },
    {
     "name": "stdout",
     "output_type": "stream",
     "text": [
      "[Skipping] rnn/test/w2v-3b/batch_size_2048-lr_0.001-optimizer_Adam-hidden_dim_128-num_layers_1-sr_type_max-freeze_False\n",
      "---------- batch_size_2048; lr_0.001; optimizer_Adam; hidden_dim_128; num_layers_1; sentence_representation_max ----------\n"
     ]
    },
    {
     "name": "stderr",
     "output_type": "stream",
     "text": [
      "[I 2024-11-04 00:49:27,264] Trial 22 finished with value: 0.7682926654815674 and parameters: {'hidden_dim': 128, 'num_layers': 1, 'optimizer_name': 'Adam', 'batch_size': 2048, 'learning_rate': 0.001, 'sentence_representation_type': 'max'}. Best is trial 6 with value: 0.7682926654815674.\n",
      "Seed set to 42\n"
     ]
    },
    {
     "name": "stdout",
     "output_type": "stream",
     "text": [
      "[Skipping] rnn/test/w2v-3b/batch_size_2048-lr_0.001-optimizer_Adam-hidden_dim_128-num_layers_1-sr_type_max-freeze_False\n",
      "---------- batch_size_2048; lr_0.001; optimizer_Adam; hidden_dim_128; num_layers_1; sentence_representation_max ----------\n"
     ]
    },
    {
     "name": "stderr",
     "output_type": "stream",
     "text": [
      "[I 2024-11-04 00:49:27,835] Trial 23 finished with value: 0.7682926654815674 and parameters: {'hidden_dim': 128, 'num_layers': 1, 'optimizer_name': 'Adam', 'batch_size': 2048, 'learning_rate': 0.001, 'sentence_representation_type': 'max'}. Best is trial 6 with value: 0.7682926654815674.\n",
      "Seed set to 42\n"
     ]
    },
    {
     "name": "stdout",
     "output_type": "stream",
     "text": [
      "[Skipping] rnn/test/w2v-3b/batch_size_2048-lr_0.001-optimizer_Adam-hidden_dim_128-num_layers_1-sr_type_max-freeze_False\n",
      "---------- batch_size_2048; lr_0.001; optimizer_Adam; hidden_dim_128; num_layers_2; sentence_representation_max ----------\n"
     ]
    },
    {
     "name": "stderr",
     "output_type": "stream",
     "text": [
      "GPU available: True (cuda), used: False\n",
      "TPU available: False, using: 0 TPU cores\n",
      "HPU available: False, using: 0 HPUs\n",
      "\n",
      "  | Name   | Type               | Params | Mode \n",
      "------------------------------------------------------\n",
      "0 | model  | RNN                | 5.0 M  | train\n",
      "1 | metric | MulticlassAccuracy | 0      | train\n",
      "------------------------------------------------------\n",
      "5.0 M     Trainable params\n",
      "0         Non-trainable params\n",
      "5.0 M     Total params\n",
      "19.987    Total estimated model params size (MB)\n",
      "7         Modules in train mode\n",
      "0         Modules in eval mode\n"
     ]
    },
    {
     "data": {
      "application/vnd.jupyter.widget-view+json": {
       "model_id": "4cdcc5b96d8d474dbe515b026ec22de7",
       "version_major": 2,
       "version_minor": 0
      },
      "text/plain": [
       "Sanity Checking: |          | 0/? [00:00<?, ?it/s]"
      ]
     },
     "metadata": {},
     "output_type": "display_data"
    },
    {
     "data": {
      "application/vnd.jupyter.widget-view+json": {
       "model_id": "4ec7245d0875436ca8e2410bdce2f021",
       "version_major": 2,
       "version_minor": 0
      },
      "text/plain": [
       "Training: |          | 0/? [00:00<?, ?it/s]"
      ]
     },
     "metadata": {},
     "output_type": "display_data"
    },
    {
     "data": {
      "application/vnd.jupyter.widget-view+json": {
       "model_id": "3972c3758b08484a8034777f9a815f36",
       "version_major": 2,
       "version_minor": 0
      },
      "text/plain": [
       "Validation: |          | 0/? [00:00<?, ?it/s]"
      ]
     },
     "metadata": {},
     "output_type": "display_data"
    },
    {
     "data": {
      "application/vnd.jupyter.widget-view+json": {
       "model_id": "05a40f748ec648ec8a4639c1bb8a8245",
       "version_major": 2,
       "version_minor": 0
      },
      "text/plain": [
       "Validation: |          | 0/? [00:00<?, ?it/s]"
      ]
     },
     "metadata": {},
     "output_type": "display_data"
    },
    {
     "data": {
      "application/vnd.jupyter.widget-view+json": {
       "model_id": "07b18ae640bb49bcb144716116e231dd",
       "version_major": 2,
       "version_minor": 0
      },
      "text/plain": [
       "Validation: |          | 0/? [00:00<?, ?it/s]"
      ]
     },
     "metadata": {},
     "output_type": "display_data"
    },
    {
     "data": {
      "application/vnd.jupyter.widget-view+json": {
       "model_id": "54ca6f3b2d8647929ab378ce888a84cb",
       "version_major": 2,
       "version_minor": 0
      },
      "text/plain": [
       "Validation: |          | 0/? [00:00<?, ?it/s]"
      ]
     },
     "metadata": {},
     "output_type": "display_data"
    },
    {
     "data": {
      "application/vnd.jupyter.widget-view+json": {
       "model_id": "c43734eaa1ec4d53b2be23321013abc2",
       "version_major": 2,
       "version_minor": 0
      },
      "text/plain": [
       "Validation: |          | 0/? [00:00<?, ?it/s]"
      ]
     },
     "metadata": {},
     "output_type": "display_data"
    },
    {
     "data": {
      "application/vnd.jupyter.widget-view+json": {
       "model_id": "5bce547237264f4cb7da0686bbad5335",
       "version_major": 2,
       "version_minor": 0
      },
      "text/plain": [
       "Validation: |          | 0/? [00:00<?, ?it/s]"
      ]
     },
     "metadata": {},
     "output_type": "display_data"
    },
    {
     "data": {
      "application/vnd.jupyter.widget-view+json": {
       "model_id": "a6a43f4ad67b4a37b4e9fbb126d18435",
       "version_major": 2,
       "version_minor": 0
      },
      "text/plain": [
       "Validation: |          | 0/? [00:00<?, ?it/s]"
      ]
     },
     "metadata": {},
     "output_type": "display_data"
    },
    {
     "data": {
      "application/vnd.jupyter.widget-view+json": {
       "model_id": "833505d5b61642e4a8c4bf669478de65",
       "version_major": 2,
       "version_minor": 0
      },
      "text/plain": [
       "Validation: |          | 0/? [00:00<?, ?it/s]"
      ]
     },
     "metadata": {},
     "output_type": "display_data"
    },
    {
     "name": "stderr",
     "output_type": "stream",
     "text": [
      "[I 2024-11-04 00:50:46,179] Trial 24 finished with value: 0.7607879638671875 and parameters: {'hidden_dim': 128, 'num_layers': 2, 'optimizer_name': 'Adam', 'batch_size': 2048, 'learning_rate': 0.001, 'sentence_representation_type': 'max'}. Best is trial 6 with value: 0.7682926654815674.\n",
      "Seed set to 42\n"
     ]
    },
    {
     "name": "stdout",
     "output_type": "stream",
     "text": [
      "---------- batch_size_2048; lr_0.001; optimizer_Adam; hidden_dim_128; num_layers_1; sentence_representation_max ----------\n"
     ]
    },
    {
     "name": "stderr",
     "output_type": "stream",
     "text": [
      "[I 2024-11-04 00:50:46,752] Trial 25 finished with value: 0.7682926654815674 and parameters: {'hidden_dim': 128, 'num_layers': 1, 'optimizer_name': 'Adam', 'batch_size': 2048, 'learning_rate': 0.001, 'sentence_representation_type': 'max'}. Best is trial 6 with value: 0.7682926654815674.\n",
      "Seed set to 42\n"
     ]
    },
    {
     "name": "stdout",
     "output_type": "stream",
     "text": [
      "[Skipping] rnn/test/w2v-3b/batch_size_2048-lr_0.001-optimizer_Adam-hidden_dim_128-num_layers_1-sr_type_max-freeze_False\n",
      "---------- batch_size_2048; lr_0.001; optimizer_Adam; hidden_dim_128; num_layers_2; sentence_representation_max ----------\n"
     ]
    },
    {
     "name": "stderr",
     "output_type": "stream",
     "text": [
      "[I 2024-11-04 00:50:47,308] Trial 26 finished with value: 0.7607879638671875 and parameters: {'hidden_dim': 128, 'num_layers': 2, 'optimizer_name': 'Adam', 'batch_size': 2048, 'learning_rate': 0.001, 'sentence_representation_type': 'max'}. Best is trial 6 with value: 0.7682926654815674.\n",
      "Seed set to 42\n"
     ]
    },
    {
     "name": "stdout",
     "output_type": "stream",
     "text": [
      "[Skipping] rnn/test/w2v-3b/batch_size_2048-lr_0.001-optimizer_Adam-hidden_dim_128-num_layers_2-sr_type_max-freeze_False\n",
      "---------- batch_size_32; lr_0.0001; optimizer_Adam; hidden_dim_64; num_layers_1; sentence_representation_max ----------\n"
     ]
    },
    {
     "name": "stderr",
     "output_type": "stream",
     "text": [
      "GPU available: True (cuda), used: False\n",
      "TPU available: False, using: 0 TPU cores\n",
      "HPU available: False, using: 0 HPUs\n",
      "\n",
      "  | Name   | Type               | Params | Mode \n",
      "------------------------------------------------------\n",
      "0 | model  | RNN                | 4.9 M  | train\n",
      "1 | metric | MulticlassAccuracy | 0      | train\n",
      "------------------------------------------------------\n",
      "4.9 M     Trainable params\n",
      "0         Non-trainable params\n",
      "4.9 M     Total params\n",
      "19.703    Total estimated model params size (MB)\n",
      "7         Modules in train mode\n",
      "0         Modules in eval mode\n"
     ]
    },
    {
     "data": {
      "application/vnd.jupyter.widget-view+json": {
       "model_id": "b24bcc1e3ccd4323a8d5127a7bb911bd",
       "version_major": 2,
       "version_minor": 0
      },
      "text/plain": [
       "Sanity Checking: |          | 0/? [00:00<?, ?it/s]"
      ]
     },
     "metadata": {},
     "output_type": "display_data"
    },
    {
     "data": {
      "application/vnd.jupyter.widget-view+json": {
       "model_id": "d6335850c6f34964af329d958c7c9f78",
       "version_major": 2,
       "version_minor": 0
      },
      "text/plain": [
       "Training: |          | 0/? [00:00<?, ?it/s]"
      ]
     },
     "metadata": {},
     "output_type": "display_data"
    },
    {
     "data": {
      "application/vnd.jupyter.widget-view+json": {
       "model_id": "2ac04c8edfac4b56a65df7a1060d362d",
       "version_major": 2,
       "version_minor": 0
      },
      "text/plain": [
       "Validation: |          | 0/? [00:00<?, ?it/s]"
      ]
     },
     "metadata": {},
     "output_type": "display_data"
    },
    {
     "data": {
      "application/vnd.jupyter.widget-view+json": {
       "model_id": "a0b16ae27eb649a2974fb57fe0ef3777",
       "version_major": 2,
       "version_minor": 0
      },
      "text/plain": [
       "Validation: |          | 0/? [00:00<?, ?it/s]"
      ]
     },
     "metadata": {},
     "output_type": "display_data"
    },
    {
     "data": {
      "application/vnd.jupyter.widget-view+json": {
       "model_id": "0675c8570a2f4898afa5616e9f075240",
       "version_major": 2,
       "version_minor": 0
      },
      "text/plain": [
       "Validation: |          | 0/? [00:00<?, ?it/s]"
      ]
     },
     "metadata": {},
     "output_type": "display_data"
    },
    {
     "data": {
      "application/vnd.jupyter.widget-view+json": {
       "model_id": "b653bad0aac144af8108063ba3593fb0",
       "version_major": 2,
       "version_minor": 0
      },
      "text/plain": [
       "Validation: |          | 0/? [00:00<?, ?it/s]"
      ]
     },
     "metadata": {},
     "output_type": "display_data"
    },
    {
     "data": {
      "application/vnd.jupyter.widget-view+json": {
       "model_id": "774c8e92780f4cc996fcdf73687fce0a",
       "version_major": 2,
       "version_minor": 0
      },
      "text/plain": [
       "Validation: |          | 0/? [00:00<?, ?it/s]"
      ]
     },
     "metadata": {},
     "output_type": "display_data"
    },
    {
     "data": {
      "application/vnd.jupyter.widget-view+json": {
       "model_id": "86915908a6b14b1d88d903aef36c8576",
       "version_major": 2,
       "version_minor": 0
      },
      "text/plain": [
       "Validation: |          | 0/? [00:00<?, ?it/s]"
      ]
     },
     "metadata": {},
     "output_type": "display_data"
    },
    {
     "data": {
      "application/vnd.jupyter.widget-view+json": {
       "model_id": "8d842314505547dc87f652fce6530d8a",
       "version_major": 2,
       "version_minor": 0
      },
      "text/plain": [
       "Validation: |          | 0/? [00:00<?, ?it/s]"
      ]
     },
     "metadata": {},
     "output_type": "display_data"
    },
    {
     "name": "stderr",
     "output_type": "stream",
     "text": [
      "[I 2024-11-04 00:52:39,284] Trial 27 finished with value: 0.39079415798187256 and parameters: {'hidden_dim': 64, 'num_layers': 1, 'optimizer_name': 'Adam', 'batch_size': 32, 'learning_rate': 0.0001, 'sentence_representation_type': 'max'}. Best is trial 6 with value: 0.7682926654815674.\n",
      "Seed set to 42\n"
     ]
    },
    {
     "name": "stdout",
     "output_type": "stream",
     "text": [
      "---------- batch_size_256; lr_0.1; optimizer_Adam; hidden_dim_256; num_layers_3; sentence_representation_average ----------\n"
     ]
    },
    {
     "name": "stderr",
     "output_type": "stream",
     "text": [
      "GPU available: True (cuda), used: False\n",
      "TPU available: False, using: 0 TPU cores\n",
      "HPU available: False, using: 0 HPUs\n",
      "\n",
      "  | Name   | Type               | Params | Mode \n",
      "------------------------------------------------------\n",
      "0 | model  | RNN                | 5.3 M  | train\n",
      "1 | metric | MulticlassAccuracy | 0      | train\n",
      "------------------------------------------------------\n",
      "5.3 M     Trainable params\n",
      "0         Non-trainable params\n",
      "5.3 M     Total params\n",
      "21.357    Total estimated model params size (MB)\n",
      "7         Modules in train mode\n",
      "0         Modules in eval mode\n"
     ]
    },
    {
     "data": {
      "application/vnd.jupyter.widget-view+json": {
       "model_id": "983930e1ea27480e95a54ef329b07828",
       "version_major": 2,
       "version_minor": 0
      },
      "text/plain": [
       "Sanity Checking: |          | 0/? [00:00<?, ?it/s]"
      ]
     },
     "metadata": {},
     "output_type": "display_data"
    },
    {
     "data": {
      "application/vnd.jupyter.widget-view+json": {
       "model_id": "d7fbaba3e6a047f68eff177b75ba8e3e",
       "version_major": 2,
       "version_minor": 0
      },
      "text/plain": [
       "Training: |          | 0/? [00:00<?, ?it/s]"
      ]
     },
     "metadata": {},
     "output_type": "display_data"
    },
    {
     "data": {
      "application/vnd.jupyter.widget-view+json": {
       "model_id": "966ac6d3d2434ff8ab6aff47e18b0e77",
       "version_major": 2,
       "version_minor": 0
      },
      "text/plain": [
       "Validation: |          | 0/? [00:00<?, ?it/s]"
      ]
     },
     "metadata": {},
     "output_type": "display_data"
    },
    {
     "data": {
      "application/vnd.jupyter.widget-view+json": {
       "model_id": "74e0644ac7fd478c8b624dfb335169a5",
       "version_major": 2,
       "version_minor": 0
      },
      "text/plain": [
       "Validation: |          | 0/? [00:00<?, ?it/s]"
      ]
     },
     "metadata": {},
     "output_type": "display_data"
    },
    {
     "data": {
      "application/vnd.jupyter.widget-view+json": {
       "model_id": "09a17755ad1d4c3b8cba8467b615a6c3",
       "version_major": 2,
       "version_minor": 0
      },
      "text/plain": [
       "Validation: |          | 0/? [00:00<?, ?it/s]"
      ]
     },
     "metadata": {},
     "output_type": "display_data"
    },
    {
     "data": {
      "application/vnd.jupyter.widget-view+json": {
       "model_id": "6ca9c6a42d1c4bea9ae3bad84ec0f494",
       "version_major": 2,
       "version_minor": 0
      },
      "text/plain": [
       "Validation: |          | 0/? [00:00<?, ?it/s]"
      ]
     },
     "metadata": {},
     "output_type": "display_data"
    },
    {
     "data": {
      "application/vnd.jupyter.widget-view+json": {
       "model_id": "65b4097923134018ac25626cfea492c7",
       "version_major": 2,
       "version_minor": 0
      },
      "text/plain": [
       "Validation: |          | 0/? [00:00<?, ?it/s]"
      ]
     },
     "metadata": {},
     "output_type": "display_data"
    },
    {
     "data": {
      "application/vnd.jupyter.widget-view+json": {
       "model_id": "d02cd2deb3e1463f8f2604f1c5fccdce",
       "version_major": 2,
       "version_minor": 0
      },
      "text/plain": [
       "Validation: |          | 0/? [00:00<?, ?it/s]"
      ]
     },
     "metadata": {},
     "output_type": "display_data"
    },
    {
     "data": {
      "application/vnd.jupyter.widget-view+json": {
       "model_id": "7da0daa0a1754d0ead1a5fced898bc1a",
       "version_major": 2,
       "version_minor": 0
      },
      "text/plain": [
       "Validation: |          | 0/? [00:00<?, ?it/s]"
      ]
     },
     "metadata": {},
     "output_type": "display_data"
    },
    {
     "data": {
      "application/vnd.jupyter.widget-view+json": {
       "model_id": "59845b0e86534f5dabfcfe5bef52a2af",
       "version_major": 2,
       "version_minor": 0
      },
      "text/plain": [
       "Validation: |          | 0/? [00:00<?, ?it/s]"
      ]
     },
     "metadata": {},
     "output_type": "display_data"
    },
    {
     "data": {
      "application/vnd.jupyter.widget-view+json": {
       "model_id": "f7f813a9483b401db939c893587cdc27",
       "version_major": 2,
       "version_minor": 0
      },
      "text/plain": [
       "Validation: |          | 0/? [00:00<?, ?it/s]"
      ]
     },
     "metadata": {},
     "output_type": "display_data"
    },
    {
     "data": {
      "application/vnd.jupyter.widget-view+json": {
       "model_id": "60a30702151349f78d260cb8abb87315",
       "version_major": 2,
       "version_minor": 0
      },
      "text/plain": [
       "Validation: |          | 0/? [00:00<?, ?it/s]"
      ]
     },
     "metadata": {},
     "output_type": "display_data"
    },
    {
     "data": {
      "application/vnd.jupyter.widget-view+json": {
       "model_id": "50a973feaca54055803666fe30d559b2",
       "version_major": 2,
       "version_minor": 0
      },
      "text/plain": [
       "Validation: |          | 0/? [00:00<?, ?it/s]"
      ]
     },
     "metadata": {},
     "output_type": "display_data"
    },
    {
     "name": "stderr",
     "output_type": "stream",
     "text": [
      "[I 2024-11-04 00:55:12,998] Trial 28 finished with value: 0.36077800393104553 and parameters: {'hidden_dim': 256, 'num_layers': 3, 'optimizer_name': 'Adam', 'batch_size': 256, 'learning_rate': 0.1, 'sentence_representation_type': 'average'}. Best is trial 6 with value: 0.7682926654815674.\n",
      "Seed set to 42\n"
     ]
    },
    {
     "name": "stdout",
     "output_type": "stream",
     "text": [
      "---------- batch_size_512; lr_0.01; optimizer_Adam; hidden_dim_32; num_layers_2; sentence_representation_last ----------\n"
     ]
    },
    {
     "name": "stderr",
     "output_type": "stream",
     "text": [
      "[I 2024-11-04 00:55:13,593] Trial 29 finished with value: 0.5559382438659668 and parameters: {'hidden_dim': 32, 'num_layers': 2, 'optimizer_name': 'Adam', 'batch_size': 512, 'learning_rate': 0.01, 'sentence_representation_type': 'last'}. Best is trial 6 with value: 0.7682926654815674.\n",
      "Seed set to 42\n"
     ]
    },
    {
     "name": "stdout",
     "output_type": "stream",
     "text": [
      "[Skipping] rnn/test/w2v-3b/batch_size_512-lr_0.01-optimizer_Adam-hidden_dim_32-num_layers_2-sr_type_last-freeze_False\n",
      "---------- batch_size_64; lr_0.001; optimizer_Adam; hidden_dim_128; num_layers_1; sentence_representation_last ----------\n"
     ]
    },
    {
     "name": "stderr",
     "output_type": "stream",
     "text": [
      "GPU available: True (cuda), used: False\n",
      "TPU available: False, using: 0 TPU cores\n",
      "HPU available: False, using: 0 HPUs\n",
      "\n",
      "  | Name   | Type               | Params | Mode \n",
      "------------------------------------------------------\n",
      "0 | model  | RNN                | 5.0 M  | train\n",
      "1 | metric | MulticlassAccuracy | 0      | train\n",
      "------------------------------------------------------\n",
      "5.0 M     Trainable params\n",
      "0         Non-trainable params\n",
      "5.0 M     Total params\n",
      "19.855    Total estimated model params size (MB)\n",
      "7         Modules in train mode\n",
      "0         Modules in eval mode\n"
     ]
    },
    {
     "data": {
      "application/vnd.jupyter.widget-view+json": {
       "model_id": "9a39f71ecadc459696fe67a9b359989a",
       "version_major": 2,
       "version_minor": 0
      },
      "text/plain": [
       "Sanity Checking: |          | 0/? [00:00<?, ?it/s]"
      ]
     },
     "metadata": {},
     "output_type": "display_data"
    },
    {
     "data": {
      "application/vnd.jupyter.widget-view+json": {
       "model_id": "d952cfbeddb248218de3956bce3d8a03",
       "version_major": 2,
       "version_minor": 0
      },
      "text/plain": [
       "Training: |          | 0/? [00:00<?, ?it/s]"
      ]
     },
     "metadata": {},
     "output_type": "display_data"
    },
    {
     "data": {
      "application/vnd.jupyter.widget-view+json": {
       "model_id": "065b60dd17b04eadb97602924bf81890",
       "version_major": 2,
       "version_minor": 0
      },
      "text/plain": [
       "Validation: |          | 0/? [00:00<?, ?it/s]"
      ]
     },
     "metadata": {},
     "output_type": "display_data"
    },
    {
     "data": {
      "application/vnd.jupyter.widget-view+json": {
       "model_id": "30ba8292d5874b6084adb1801b7a3827",
       "version_major": 2,
       "version_minor": 0
      },
      "text/plain": [
       "Validation: |          | 0/? [00:00<?, ?it/s]"
      ]
     },
     "metadata": {},
     "output_type": "display_data"
    },
    {
     "data": {
      "application/vnd.jupyter.widget-view+json": {
       "model_id": "9be5b195589546d4a0e2d38dec855279",
       "version_major": 2,
       "version_minor": 0
      },
      "text/plain": [
       "Validation: |          | 0/? [00:00<?, ?it/s]"
      ]
     },
     "metadata": {},
     "output_type": "display_data"
    },
    {
     "data": {
      "application/vnd.jupyter.widget-view+json": {
       "model_id": "008096d390b740679fbe60535f4c16f7",
       "version_major": 2,
       "version_minor": 0
      },
      "text/plain": [
       "Validation: |          | 0/? [00:00<?, ?it/s]"
      ]
     },
     "metadata": {},
     "output_type": "display_data"
    },
    {
     "name": "stderr",
     "output_type": "stream",
     "text": [
      "[I 2024-11-04 00:56:14,071] Trial 30 finished with value: 0.4117409288883209 and parameters: {'hidden_dim': 128, 'num_layers': 1, 'optimizer_name': 'Adam', 'batch_size': 64, 'learning_rate': 0.001, 'sentence_representation_type': 'last'}. Best is trial 6 with value: 0.7682926654815674.\n",
      "Seed set to 42\n"
     ]
    },
    {
     "name": "stdout",
     "output_type": "stream",
     "text": [
      "---------- batch_size_2048; lr_0.001; optimizer_Adam; hidden_dim_128; num_layers_1; sentence_representation_max ----------\n"
     ]
    },
    {
     "name": "stderr",
     "output_type": "stream",
     "text": [
      "[I 2024-11-04 00:56:14,653] Trial 31 finished with value: 0.7682926654815674 and parameters: {'hidden_dim': 128, 'num_layers': 1, 'optimizer_name': 'Adam', 'batch_size': 2048, 'learning_rate': 0.001, 'sentence_representation_type': 'max'}. Best is trial 6 with value: 0.7682926654815674.\n",
      "Seed set to 42\n"
     ]
    },
    {
     "name": "stdout",
     "output_type": "stream",
     "text": [
      "[Skipping] rnn/test/w2v-3b/batch_size_2048-lr_0.001-optimizer_Adam-hidden_dim_128-num_layers_1-sr_type_max-freeze_False\n",
      "---------- batch_size_2048; lr_0.001; optimizer_Adam; hidden_dim_128; num_layers_1; sentence_representation_max ----------\n"
     ]
    },
    {
     "name": "stderr",
     "output_type": "stream",
     "text": [
      "[I 2024-11-04 00:56:15,245] Trial 32 finished with value: 0.7682926654815674 and parameters: {'hidden_dim': 128, 'num_layers': 1, 'optimizer_name': 'Adam', 'batch_size': 2048, 'learning_rate': 0.001, 'sentence_representation_type': 'max'}. Best is trial 6 with value: 0.7682926654815674.\n",
      "Seed set to 42\n"
     ]
    },
    {
     "name": "stdout",
     "output_type": "stream",
     "text": [
      "[Skipping] rnn/test/w2v-3b/batch_size_2048-lr_0.001-optimizer_Adam-hidden_dim_128-num_layers_1-sr_type_max-freeze_False\n",
      "---------- batch_size_2048; lr_0.001; optimizer_Adam; hidden_dim_128; num_layers_1; sentence_representation_max ----------\n"
     ]
    },
    {
     "name": "stderr",
     "output_type": "stream",
     "text": [
      "[I 2024-11-04 00:56:15,826] Trial 33 finished with value: 0.7682926654815674 and parameters: {'hidden_dim': 128, 'num_layers': 1, 'optimizer_name': 'Adam', 'batch_size': 2048, 'learning_rate': 0.001, 'sentence_representation_type': 'max'}. Best is trial 6 with value: 0.7682926654815674.\n",
      "Seed set to 42\n"
     ]
    },
    {
     "name": "stdout",
     "output_type": "stream",
     "text": [
      "[Skipping] rnn/test/w2v-3b/batch_size_2048-lr_0.001-optimizer_Adam-hidden_dim_128-num_layers_1-sr_type_max-freeze_False\n",
      "---------- batch_size_2048; lr_0.001; optimizer_Adam; hidden_dim_256; num_layers_1; sentence_representation_average ----------\n"
     ]
    },
    {
     "name": "stderr",
     "output_type": "stream",
     "text": [
      "GPU available: True (cuda), used: False\n",
      "TPU available: False, using: 0 TPU cores\n",
      "HPU available: False, using: 0 HPUs\n",
      "\n",
      "  | Name   | Type               | Params | Mode \n",
      "------------------------------------------------------\n",
      "0 | model  | RNN                | 5.1 M  | train\n",
      "1 | metric | MulticlassAccuracy | 0      | train\n",
      "------------------------------------------------------\n",
      "5.1 M     Trainable params\n",
      "0         Non-trainable params\n",
      "5.1 M     Total params\n",
      "20.305    Total estimated model params size (MB)\n",
      "7         Modules in train mode\n",
      "0         Modules in eval mode\n"
     ]
    },
    {
     "data": {
      "application/vnd.jupyter.widget-view+json": {
       "model_id": "3aeafdb128054c219843023db9018c63",
       "version_major": 2,
       "version_minor": 0
      },
      "text/plain": [
       "Sanity Checking: |          | 0/? [00:00<?, ?it/s]"
      ]
     },
     "metadata": {},
     "output_type": "display_data"
    },
    {
     "data": {
      "application/vnd.jupyter.widget-view+json": {
       "model_id": "68def25165294784b6db3ad1611d9301",
       "version_major": 2,
       "version_minor": 0
      },
      "text/plain": [
       "Training: |          | 0/? [00:00<?, ?it/s]"
      ]
     },
     "metadata": {},
     "output_type": "display_data"
    },
    {
     "data": {
      "application/vnd.jupyter.widget-view+json": {
       "model_id": "54d4f6353daa48d88fdaffa83feb5413",
       "version_major": 2,
       "version_minor": 0
      },
      "text/plain": [
       "Validation: |          | 0/? [00:00<?, ?it/s]"
      ]
     },
     "metadata": {},
     "output_type": "display_data"
    },
    {
     "data": {
      "application/vnd.jupyter.widget-view+json": {
       "model_id": "07e309dfc7b44787bc59c23490d1a2b5",
       "version_major": 2,
       "version_minor": 0
      },
      "text/plain": [
       "Validation: |          | 0/? [00:00<?, ?it/s]"
      ]
     },
     "metadata": {},
     "output_type": "display_data"
    },
    {
     "data": {
      "application/vnd.jupyter.widget-view+json": {
       "model_id": "068b85ddb30d4df28dd3cf4908053d32",
       "version_major": 2,
       "version_minor": 0
      },
      "text/plain": [
       "Validation: |          | 0/? [00:00<?, ?it/s]"
      ]
     },
     "metadata": {},
     "output_type": "display_data"
    },
    {
     "data": {
      "application/vnd.jupyter.widget-view+json": {
       "model_id": "49b0cec856a948eb9d918f6bf79be912",
       "version_major": 2,
       "version_minor": 0
      },
      "text/plain": [
       "Validation: |          | 0/? [00:00<?, ?it/s]"
      ]
     },
     "metadata": {},
     "output_type": "display_data"
    },
    {
     "data": {
      "application/vnd.jupyter.widget-view+json": {
       "model_id": "1cab26dd80604b0ea1fbbac77da6455a",
       "version_major": 2,
       "version_minor": 0
      },
      "text/plain": [
       "Validation: |          | 0/? [00:00<?, ?it/s]"
      ]
     },
     "metadata": {},
     "output_type": "display_data"
    },
    {
     "data": {
      "application/vnd.jupyter.widget-view+json": {
       "model_id": "314f540a228e427f832baf7115e5f43c",
       "version_major": 2,
       "version_minor": 0
      },
      "text/plain": [
       "Validation: |          | 0/? [00:00<?, ?it/s]"
      ]
     },
     "metadata": {},
     "output_type": "display_data"
    },
    {
     "data": {
      "application/vnd.jupyter.widget-view+json": {
       "model_id": "e418ec81229541b889b8d9c307cf1581",
       "version_major": 2,
       "version_minor": 0
      },
      "text/plain": [
       "Validation: |          | 0/? [00:00<?, ?it/s]"
      ]
     },
     "metadata": {},
     "output_type": "display_data"
    },
    {
     "data": {
      "application/vnd.jupyter.widget-view+json": {
       "model_id": "bc09b456bb744674ba36ef9e3375896d",
       "version_major": 2,
       "version_minor": 0
      },
      "text/plain": [
       "Validation: |          | 0/? [00:00<?, ?it/s]"
      ]
     },
     "metadata": {},
     "output_type": "display_data"
    },
    {
     "data": {
      "application/vnd.jupyter.widget-view+json": {
       "model_id": "f7bd3b0effd9406cbca51772553edce7",
       "version_major": 2,
       "version_minor": 0
      },
      "text/plain": [
       "Validation: |          | 0/? [00:00<?, ?it/s]"
      ]
     },
     "metadata": {},
     "output_type": "display_data"
    },
    {
     "data": {
      "application/vnd.jupyter.widget-view+json": {
       "model_id": "48e4a2a8c3e146c8b86673f3ee19558f",
       "version_major": 2,
       "version_minor": 0
      },
      "text/plain": [
       "Validation: |          | 0/? [00:00<?, ?it/s]"
      ]
     },
     "metadata": {},
     "output_type": "display_data"
    },
    {
     "name": "stderr",
     "output_type": "stream",
     "text": [
      "[I 2024-11-04 00:58:18,473] Trial 34 finished with value: 0.7532832622528076 and parameters: {'hidden_dim': 256, 'num_layers': 1, 'optimizer_name': 'Adam', 'batch_size': 2048, 'learning_rate': 0.001, 'sentence_representation_type': 'average'}. Best is trial 6 with value: 0.7682926654815674.\n",
      "Seed set to 42\n"
     ]
    },
    {
     "name": "stdout",
     "output_type": "stream",
     "text": [
      "---------- batch_size_128; lr_0.001; optimizer_Adam; hidden_dim_128; num_layers_2; sentence_representation_max ----------\n"
     ]
    },
    {
     "name": "stderr",
     "output_type": "stream",
     "text": [
      "GPU available: True (cuda), used: False\n",
      "TPU available: False, using: 0 TPU cores\n",
      "HPU available: False, using: 0 HPUs\n",
      "\n",
      "  | Name   | Type               | Params | Mode \n",
      "------------------------------------------------------\n",
      "0 | model  | RNN                | 5.0 M  | train\n",
      "1 | metric | MulticlassAccuracy | 0      | train\n",
      "------------------------------------------------------\n",
      "5.0 M     Trainable params\n",
      "0         Non-trainable params\n",
      "5.0 M     Total params\n",
      "19.987    Total estimated model params size (MB)\n",
      "7         Modules in train mode\n",
      "0         Modules in eval mode\n"
     ]
    },
    {
     "data": {
      "application/vnd.jupyter.widget-view+json": {
       "model_id": "3ac660563fe04914b60e61ce02a63f14",
       "version_major": 2,
       "version_minor": 0
      },
      "text/plain": [
       "Sanity Checking: |          | 0/? [00:00<?, ?it/s]"
      ]
     },
     "metadata": {},
     "output_type": "display_data"
    },
    {
     "data": {
      "application/vnd.jupyter.widget-view+json": {
       "model_id": "348c4b09d2254e17a9996d998d374161",
       "version_major": 2,
       "version_minor": 0
      },
      "text/plain": [
       "Training: |          | 0/? [00:00<?, ?it/s]"
      ]
     },
     "metadata": {},
     "output_type": "display_data"
    },
    {
     "data": {
      "application/vnd.jupyter.widget-view+json": {
       "model_id": "5240fd6b9924400386a0ceb14005b762",
       "version_major": 2,
       "version_minor": 0
      },
      "text/plain": [
       "Validation: |          | 0/? [00:00<?, ?it/s]"
      ]
     },
     "metadata": {},
     "output_type": "display_data"
    },
    {
     "data": {
      "application/vnd.jupyter.widget-view+json": {
       "model_id": "017e9e54cef1476b89d2f694d2e789d1",
       "version_major": 2,
       "version_minor": 0
      },
      "text/plain": [
       "Validation: |          | 0/? [00:00<?, ?it/s]"
      ]
     },
     "metadata": {},
     "output_type": "display_data"
    },
    {
     "data": {
      "application/vnd.jupyter.widget-view+json": {
       "model_id": "3047ef0d06ce4a4d945a8440986b0efb",
       "version_major": 2,
       "version_minor": 0
      },
      "text/plain": [
       "Validation: |          | 0/? [00:00<?, ?it/s]"
      ]
     },
     "metadata": {},
     "output_type": "display_data"
    },
    {
     "data": {
      "application/vnd.jupyter.widget-view+json": {
       "model_id": "ad08c47deb864a44ba49647aa0b6b9c7",
       "version_major": 2,
       "version_minor": 0
      },
      "text/plain": [
       "Validation: |          | 0/? [00:00<?, ?it/s]"
      ]
     },
     "metadata": {},
     "output_type": "display_data"
    },
    {
     "name": "stderr",
     "output_type": "stream",
     "text": [
      "[I 2024-11-04 00:59:13,299] Trial 35 finished with value: 0.42988839745521545 and parameters: {'hidden_dim': 128, 'num_layers': 2, 'optimizer_name': 'Adam', 'batch_size': 128, 'learning_rate': 0.001, 'sentence_representation_type': 'max'}. Best is trial 6 with value: 0.7682926654815674.\n",
      "Seed set to 42\n"
     ]
    },
    {
     "name": "stdout",
     "output_type": "stream",
     "text": [
      "---------- batch_size_1024; lr_0.0001; optimizer_Adam; hidden_dim_32; num_layers_2; sentence_representation_max ----------\n"
     ]
    },
    {
     "name": "stderr",
     "output_type": "stream",
     "text": [
      "GPU available: True (cuda), used: False\n",
      "TPU available: False, using: 0 TPU cores\n",
      "HPU available: False, using: 0 HPUs\n",
      "\n",
      "  | Name   | Type               | Params | Mode \n",
      "------------------------------------------------------\n",
      "0 | model  | RNN                | 4.9 M  | train\n",
      "1 | metric | MulticlassAccuracy | 0      | train\n",
      "------------------------------------------------------\n",
      "4.9 M     Trainable params\n",
      "0         Non-trainable params\n",
      "4.9 M     Total params\n",
      "19.654    Total estimated model params size (MB)\n",
      "7         Modules in train mode\n",
      "0         Modules in eval mode\n"
     ]
    },
    {
     "data": {
      "application/vnd.jupyter.widget-view+json": {
       "model_id": "26a0ce7ac6e64f23b919c15155d0ca10",
       "version_major": 2,
       "version_minor": 0
      },
      "text/plain": [
       "Sanity Checking: |          | 0/? [00:00<?, ?it/s]"
      ]
     },
     "metadata": {},
     "output_type": "display_data"
    },
    {
     "data": {
      "application/vnd.jupyter.widget-view+json": {
       "model_id": "4eea9e9183924a1f9df5e8ebe97052e1",
       "version_major": 2,
       "version_minor": 0
      },
      "text/plain": [
       "Training: |          | 0/? [00:00<?, ?it/s]"
      ]
     },
     "metadata": {},
     "output_type": "display_data"
    },
    {
     "data": {
      "application/vnd.jupyter.widget-view+json": {
       "model_id": "0ee97d97fb824dde9f4a370d6d5584fa",
       "version_major": 2,
       "version_minor": 0
      },
      "text/plain": [
       "Validation: |          | 0/? [00:00<?, ?it/s]"
      ]
     },
     "metadata": {},
     "output_type": "display_data"
    },
    {
     "data": {
      "application/vnd.jupyter.widget-view+json": {
       "model_id": "30dee31209cc4326a0aceb09dbc589c9",
       "version_major": 2,
       "version_minor": 0
      },
      "text/plain": [
       "Validation: |          | 0/? [00:00<?, ?it/s]"
      ]
     },
     "metadata": {},
     "output_type": "display_data"
    },
    {
     "data": {
      "application/vnd.jupyter.widget-view+json": {
       "model_id": "7dd740930cd54f01935081ca167b585c",
       "version_major": 2,
       "version_minor": 0
      },
      "text/plain": [
       "Validation: |          | 0/? [00:00<?, ?it/s]"
      ]
     },
     "metadata": {},
     "output_type": "display_data"
    },
    {
     "data": {
      "application/vnd.jupyter.widget-view+json": {
       "model_id": "99615fa85ae449708ef271709f37ccd5",
       "version_major": 2,
       "version_minor": 0
      },
      "text/plain": [
       "Validation: |          | 0/? [00:00<?, ?it/s]"
      ]
     },
     "metadata": {},
     "output_type": "display_data"
    },
    {
     "data": {
      "application/vnd.jupyter.widget-view+json": {
       "model_id": "c91673bd300e410ab9f1000fbbefbce2",
       "version_major": 2,
       "version_minor": 0
      },
      "text/plain": [
       "Validation: |          | 0/? [00:00<?, ?it/s]"
      ]
     },
     "metadata": {},
     "output_type": "display_data"
    },
    {
     "data": {
      "application/vnd.jupyter.widget-view+json": {
       "model_id": "2e5f19bfb8ce4a03b6db587f20c4de28",
       "version_major": 2,
       "version_minor": 0
      },
      "text/plain": [
       "Validation: |          | 0/? [00:00<?, ?it/s]"
      ]
     },
     "metadata": {},
     "output_type": "display_data"
    },
    {
     "data": {
      "application/vnd.jupyter.widget-view+json": {
       "model_id": "09b6f45373e1454eb9a6bb5f9cacc49c",
       "version_major": 2,
       "version_minor": 0
      },
      "text/plain": [
       "Validation: |          | 0/? [00:00<?, ?it/s]"
      ]
     },
     "metadata": {},
     "output_type": "display_data"
    },
    {
     "data": {
      "application/vnd.jupyter.widget-view+json": {
       "model_id": "4729f85602f84d178d376a77f41612c5",
       "version_major": 2,
       "version_minor": 0
      },
      "text/plain": [
       "Validation: |          | 0/? [00:00<?, ?it/s]"
      ]
     },
     "metadata": {},
     "output_type": "display_data"
    },
    {
     "data": {
      "application/vnd.jupyter.widget-view+json": {
       "model_id": "bdc09fd82c514306a32ec9797f1f2ddb",
       "version_major": 2,
       "version_minor": 0
      },
      "text/plain": [
       "Validation: |          | 0/? [00:00<?, ?it/s]"
      ]
     },
     "metadata": {},
     "output_type": "display_data"
    },
    {
     "data": {
      "application/vnd.jupyter.widget-view+json": {
       "model_id": "cad3c80477d34a5d9ff2aa8c5aad883d",
       "version_major": 2,
       "version_minor": 0
      },
      "text/plain": [
       "Validation: |          | 0/? [00:00<?, ?it/s]"
      ]
     },
     "metadata": {},
     "output_type": "display_data"
    },
    {
     "data": {
      "application/vnd.jupyter.widget-view+json": {
       "model_id": "1ab685e9d2e24930b2fc0894514d7d05",
       "version_major": 2,
       "version_minor": 0
      },
      "text/plain": [
       "Validation: |          | 0/? [00:00<?, ?it/s]"
      ]
     },
     "metadata": {},
     "output_type": "display_data"
    },
    {
     "data": {
      "application/vnd.jupyter.widget-view+json": {
       "model_id": "22b82fbcc1374006a73ebd5c25166355",
       "version_major": 2,
       "version_minor": 0
      },
      "text/plain": [
       "Validation: |          | 0/? [00:00<?, ?it/s]"
      ]
     },
     "metadata": {},
     "output_type": "display_data"
    },
    {
     "data": {
      "application/vnd.jupyter.widget-view+json": {
       "model_id": "c40b851f98e64940ac6d9b20ff0f3df3",
       "version_major": 2,
       "version_minor": 0
      },
      "text/plain": [
       "Validation: |          | 0/? [00:00<?, ?it/s]"
      ]
     },
     "metadata": {},
     "output_type": "display_data"
    },
    {
     "data": {
      "application/vnd.jupyter.widget-view+json": {
       "model_id": "63d5c49c167549758ff4245de7c1a438",
       "version_major": 2,
       "version_minor": 0
      },
      "text/plain": [
       "Validation: |          | 0/? [00:00<?, ?it/s]"
      ]
     },
     "metadata": {},
     "output_type": "display_data"
    },
    {
     "data": {
      "application/vnd.jupyter.widget-view+json": {
       "model_id": "8aedb73d6c9d4a1da4282464e7722dfa",
       "version_major": 2,
       "version_minor": 0
      },
      "text/plain": [
       "Validation: |          | 0/? [00:00<?, ?it/s]"
      ]
     },
     "metadata": {},
     "output_type": "display_data"
    },
    {
     "data": {
      "application/vnd.jupyter.widget-view+json": {
       "model_id": "1d3a502aeef445038647f88c4ca79356",
       "version_major": 2,
       "version_minor": 0
      },
      "text/plain": [
       "Validation: |          | 0/? [00:00<?, ?it/s]"
      ]
     },
     "metadata": {},
     "output_type": "display_data"
    },
    {
     "data": {
      "application/vnd.jupyter.widget-view+json": {
       "model_id": "c5e1c56a40c641ada6ac5bf23bca2dd6",
       "version_major": 2,
       "version_minor": 0
      },
      "text/plain": [
       "Validation: |          | 0/? [00:00<?, ?it/s]"
      ]
     },
     "metadata": {},
     "output_type": "display_data"
    },
    {
     "data": {
      "application/vnd.jupyter.widget-view+json": {
       "model_id": "943fedfbf3f6432799f9c7cf470066ba",
       "version_major": 2,
       "version_minor": 0
      },
      "text/plain": [
       "Validation: |          | 0/? [00:00<?, ?it/s]"
      ]
     },
     "metadata": {},
     "output_type": "display_data"
    },
    {
     "data": {
      "application/vnd.jupyter.widget-view+json": {
       "model_id": "326e63bfa7304fcd95c3c3e90eeddfaa",
       "version_major": 2,
       "version_minor": 0
      },
      "text/plain": [
       "Validation: |          | 0/? [00:00<?, ?it/s]"
      ]
     },
     "metadata": {},
     "output_type": "display_data"
    },
    {
     "data": {
      "application/vnd.jupyter.widget-view+json": {
       "model_id": "0acf33492a284682bf10562e85a05b4c",
       "version_major": 2,
       "version_minor": 0
      },
      "text/plain": [
       "Validation: |          | 0/? [00:00<?, ?it/s]"
      ]
     },
     "metadata": {},
     "output_type": "display_data"
    },
    {
     "data": {
      "application/vnd.jupyter.widget-view+json": {
       "model_id": "06a53dd17c784f41a25861aadd9febda",
       "version_major": 2,
       "version_minor": 0
      },
      "text/plain": [
       "Validation: |          | 0/? [00:00<?, ?it/s]"
      ]
     },
     "metadata": {},
     "output_type": "display_data"
    },
    {
     "data": {
      "application/vnd.jupyter.widget-view+json": {
       "model_id": "65d269dec8e44f1f8fc2593a5ebe93aa",
       "version_major": 2,
       "version_minor": 0
      },
      "text/plain": [
       "Validation: |          | 0/? [00:00<?, ?it/s]"
      ]
     },
     "metadata": {},
     "output_type": "display_data"
    },
    {
     "data": {
      "application/vnd.jupyter.widget-view+json": {
       "model_id": "20a867b73b6440f4891f077f527ceb4f",
       "version_major": 2,
       "version_minor": 0
      },
      "text/plain": [
       "Validation: |          | 0/? [00:00<?, ?it/s]"
      ]
     },
     "metadata": {},
     "output_type": "display_data"
    },
    {
     "data": {
      "application/vnd.jupyter.widget-view+json": {
       "model_id": "aae476a547664d9f806f4afc7cd492cd",
       "version_major": 2,
       "version_minor": 0
      },
      "text/plain": [
       "Validation: |          | 0/? [00:00<?, ?it/s]"
      ]
     },
     "metadata": {},
     "output_type": "display_data"
    },
    {
     "data": {
      "application/vnd.jupyter.widget-view+json": {
       "model_id": "47d1b4db5b7047b8ab439c079b9e56b6",
       "version_major": 2,
       "version_minor": 0
      },
      "text/plain": [
       "Validation: |          | 0/? [00:00<?, ?it/s]"
      ]
     },
     "metadata": {},
     "output_type": "display_data"
    },
    {
     "data": {
      "application/vnd.jupyter.widget-view+json": {
       "model_id": "26d01057eb1444f9bb42d16da8b44aa3",
       "version_major": 2,
       "version_minor": 0
      },
      "text/plain": [
       "Validation: |          | 0/? [00:00<?, ?it/s]"
      ]
     },
     "metadata": {},
     "output_type": "display_data"
    },
    {
     "data": {
      "application/vnd.jupyter.widget-view+json": {
       "model_id": "f8aedae1168e43d4af4fe6fe5c5818d4",
       "version_major": 2,
       "version_minor": 0
      },
      "text/plain": [
       "Validation: |          | 0/? [00:00<?, ?it/s]"
      ]
     },
     "metadata": {},
     "output_type": "display_data"
    },
    {
     "data": {
      "application/vnd.jupyter.widget-view+json": {
       "model_id": "07367854112144de8a8eea2ccf303748",
       "version_major": 2,
       "version_minor": 0
      },
      "text/plain": [
       "Validation: |          | 0/? [00:00<?, ?it/s]"
      ]
     },
     "metadata": {},
     "output_type": "display_data"
    },
    {
     "data": {
      "application/vnd.jupyter.widget-view+json": {
       "model_id": "ed65646ecace4ed488e4d81a108b7926",
       "version_major": 2,
       "version_minor": 0
      },
      "text/plain": [
       "Validation: |          | 0/? [00:00<?, ?it/s]"
      ]
     },
     "metadata": {},
     "output_type": "display_data"
    },
    {
     "data": {
      "application/vnd.jupyter.widget-view+json": {
       "model_id": "59d0d77ee00c4bdca0d6da3c9be9b0be",
       "version_major": 2,
       "version_minor": 0
      },
      "text/plain": [
       "Validation: |          | 0/? [00:00<?, ?it/s]"
      ]
     },
     "metadata": {},
     "output_type": "display_data"
    },
    {
     "data": {
      "application/vnd.jupyter.widget-view+json": {
       "model_id": "4e9c1ad3d6834ab096cdd40922ecff0c",
       "version_major": 2,
       "version_minor": 0
      },
      "text/plain": [
       "Validation: |          | 0/? [00:00<?, ?it/s]"
      ]
     },
     "metadata": {},
     "output_type": "display_data"
    },
    {
     "data": {
      "application/vnd.jupyter.widget-view+json": {
       "model_id": "09907ad583b14e089f0ad6d145138078",
       "version_major": 2,
       "version_minor": 0
      },
      "text/plain": [
       "Validation: |          | 0/? [00:00<?, ?it/s]"
      ]
     },
     "metadata": {},
     "output_type": "display_data"
    },
    {
     "data": {
      "application/vnd.jupyter.widget-view+json": {
       "model_id": "895bcf5f335f46efa78136db1a1252dd",
       "version_major": 2,
       "version_minor": 0
      },
      "text/plain": [
       "Validation: |          | 0/? [00:00<?, ?it/s]"
      ]
     },
     "metadata": {},
     "output_type": "display_data"
    },
    {
     "data": {
      "application/vnd.jupyter.widget-view+json": {
       "model_id": "2745788274a84800ac76dd6a1feaf308",
       "version_major": 2,
       "version_minor": 0
      },
      "text/plain": [
       "Validation: |          | 0/? [00:00<?, ?it/s]"
      ]
     },
     "metadata": {},
     "output_type": "display_data"
    },
    {
     "data": {
      "application/vnd.jupyter.widget-view+json": {
       "model_id": "74b23457991b497dbb2c19d02a83b12c",
       "version_major": 2,
       "version_minor": 0
      },
      "text/plain": [
       "Validation: |          | 0/? [00:00<?, ?it/s]"
      ]
     },
     "metadata": {},
     "output_type": "display_data"
    },
    {
     "data": {
      "application/vnd.jupyter.widget-view+json": {
       "model_id": "bdbd494b610548138cd08a07950d5b4b",
       "version_major": 2,
       "version_minor": 0
      },
      "text/plain": [
       "Validation: |          | 0/? [00:00<?, ?it/s]"
      ]
     },
     "metadata": {},
     "output_type": "display_data"
    },
    {
     "data": {
      "application/vnd.jupyter.widget-view+json": {
       "model_id": "76f4204e9df24b358f34006cac50caf5",
       "version_major": 2,
       "version_minor": 0
      },
      "text/plain": [
       "Validation: |          | 0/? [00:00<?, ?it/s]"
      ]
     },
     "metadata": {},
     "output_type": "display_data"
    },
    {
     "data": {
      "application/vnd.jupyter.widget-view+json": {
       "model_id": "4cc65ab42f4147ffafd51caf4dffeacb",
       "version_major": 2,
       "version_minor": 0
      },
      "text/plain": [
       "Validation: |          | 0/? [00:00<?, ?it/s]"
      ]
     },
     "metadata": {},
     "output_type": "display_data"
    },
    {
     "data": {
      "application/vnd.jupyter.widget-view+json": {
       "model_id": "593a8de5a6bc444eb4f207fb3c0c62eb",
       "version_major": 2,
       "version_minor": 0
      },
      "text/plain": [
       "Validation: |          | 0/? [00:00<?, ?it/s]"
      ]
     },
     "metadata": {},
     "output_type": "display_data"
    },
    {
     "data": {
      "application/vnd.jupyter.widget-view+json": {
       "model_id": "1d5aca1cee644204ab609f6e1ad55186",
       "version_major": 2,
       "version_minor": 0
      },
      "text/plain": [
       "Validation: |          | 0/? [00:00<?, ?it/s]"
      ]
     },
     "metadata": {},
     "output_type": "display_data"
    },
    {
     "data": {
      "application/vnd.jupyter.widget-view+json": {
       "model_id": "df8e76ab030d4d80a8910f7e184a25e3",
       "version_major": 2,
       "version_minor": 0
      },
      "text/plain": [
       "Validation: |          | 0/? [00:00<?, ?it/s]"
      ]
     },
     "metadata": {},
     "output_type": "display_data"
    },
    {
     "data": {
      "application/vnd.jupyter.widget-view+json": {
       "model_id": "92b2b4b3912d4545b78a3711a1edf854",
       "version_major": 2,
       "version_minor": 0
      },
      "text/plain": [
       "Validation: |          | 0/? [00:00<?, ?it/s]"
      ]
     },
     "metadata": {},
     "output_type": "display_data"
    },
    {
     "data": {
      "application/vnd.jupyter.widget-view+json": {
       "model_id": "c8a6e86d0a694c43a24d0c93249bf8b8",
       "version_major": 2,
       "version_minor": 0
      },
      "text/plain": [
       "Validation: |          | 0/? [00:00<?, ?it/s]"
      ]
     },
     "metadata": {},
     "output_type": "display_data"
    },
    {
     "name": "stderr",
     "output_type": "stream",
     "text": [
      "[I 2024-11-04 01:01:19,638] Trial 36 finished with value: 0.7361036539077759 and parameters: {'hidden_dim': 32, 'num_layers': 2, 'optimizer_name': 'Adam', 'batch_size': 1024, 'learning_rate': 0.0001, 'sentence_representation_type': 'max'}. Best is trial 6 with value: 0.7682926654815674.\n",
      "Seed set to 42\n"
     ]
    },
    {
     "name": "stdout",
     "output_type": "stream",
     "text": [
      "---------- batch_size_512; lr_0.001; optimizer_Adam; hidden_dim_128; num_layers_1; sentence_representation_max ----------\n"
     ]
    },
    {
     "name": "stderr",
     "output_type": "stream",
     "text": [
      "GPU available: True (cuda), used: False\n",
      "TPU available: False, using: 0 TPU cores\n",
      "HPU available: False, using: 0 HPUs\n",
      "\n",
      "  | Name   | Type               | Params | Mode \n",
      "------------------------------------------------------\n",
      "0 | model  | RNN                | 5.0 M  | train\n",
      "1 | metric | MulticlassAccuracy | 0      | train\n",
      "------------------------------------------------------\n",
      "5.0 M     Trainable params\n",
      "0         Non-trainable params\n",
      "5.0 M     Total params\n",
      "19.855    Total estimated model params size (MB)\n",
      "7         Modules in train mode\n",
      "0         Modules in eval mode\n"
     ]
    },
    {
     "data": {
      "application/vnd.jupyter.widget-view+json": {
       "model_id": "50847b032fbb4c35bdb0d29e416b94bc",
       "version_major": 2,
       "version_minor": 0
      },
      "text/plain": [
       "Sanity Checking: |          | 0/? [00:00<?, ?it/s]"
      ]
     },
     "metadata": {},
     "output_type": "display_data"
    },
    {
     "data": {
      "application/vnd.jupyter.widget-view+json": {
       "model_id": "221fa66abbff44929b0ee1e677ce5942",
       "version_major": 2,
       "version_minor": 0
      },
      "text/plain": [
       "Training: |          | 0/? [00:00<?, ?it/s]"
      ]
     },
     "metadata": {},
     "output_type": "display_data"
    },
    {
     "data": {
      "application/vnd.jupyter.widget-view+json": {
       "model_id": "5a5d75092a7945c0b7f5718d7122407a",
       "version_major": 2,
       "version_minor": 0
      },
      "text/plain": [
       "Validation: |          | 0/? [00:00<?, ?it/s]"
      ]
     },
     "metadata": {},
     "output_type": "display_data"
    },
    {
     "data": {
      "application/vnd.jupyter.widget-view+json": {
       "model_id": "649e263cf94b4414a937eda661e99c86",
       "version_major": 2,
       "version_minor": 0
      },
      "text/plain": [
       "Validation: |          | 0/? [00:00<?, ?it/s]"
      ]
     },
     "metadata": {},
     "output_type": "display_data"
    },
    {
     "data": {
      "application/vnd.jupyter.widget-view+json": {
       "model_id": "fba46161db1145d9936ed24fd0835644",
       "version_major": 2,
       "version_minor": 0
      },
      "text/plain": [
       "Validation: |          | 0/? [00:00<?, ?it/s]"
      ]
     },
     "metadata": {},
     "output_type": "display_data"
    },
    {
     "data": {
      "application/vnd.jupyter.widget-view+json": {
       "model_id": "f482ecf7b3204f59a4ecd4497c4693f9",
       "version_major": 2,
       "version_minor": 0
      },
      "text/plain": [
       "Validation: |          | 0/? [00:00<?, ?it/s]"
      ]
     },
     "metadata": {},
     "output_type": "display_data"
    },
    {
     "data": {
      "application/vnd.jupyter.widget-view+json": {
       "model_id": "5522a08e02474f869d19a1706f1ab10b",
       "version_major": 2,
       "version_minor": 0
      },
      "text/plain": [
       "Validation: |          | 0/? [00:00<?, ?it/s]"
      ]
     },
     "metadata": {},
     "output_type": "display_data"
    },
    {
     "data": {
      "application/vnd.jupyter.widget-view+json": {
       "model_id": "030e6279c8ee4a29862d1ae8dd7de19c",
       "version_major": 2,
       "version_minor": 0
      },
      "text/plain": [
       "Validation: |          | 0/? [00:00<?, ?it/s]"
      ]
     },
     "metadata": {},
     "output_type": "display_data"
    },
    {
     "name": "stderr",
     "output_type": "stream",
     "text": [
      "[I 2024-11-04 01:02:18,106] Trial 37 finished with value: 0.5683683753013611 and parameters: {'hidden_dim': 128, 'num_layers': 1, 'optimizer_name': 'Adam', 'batch_size': 512, 'learning_rate': 0.001, 'sentence_representation_type': 'max'}. Best is trial 6 with value: 0.7682926654815674.\n",
      "Seed set to 42\n"
     ]
    },
    {
     "name": "stdout",
     "output_type": "stream",
     "text": [
      "---------- batch_size_2048; lr_0.1; optimizer_Adam; hidden_dim_256; num_layers_2; sentence_representation_average ----------\n"
     ]
    },
    {
     "name": "stderr",
     "output_type": "stream",
     "text": [
      "GPU available: True (cuda), used: False\n",
      "TPU available: False, using: 0 TPU cores\n",
      "HPU available: False, using: 0 HPUs\n",
      "\n",
      "  | Name   | Type               | Params | Mode \n",
      "------------------------------------------------------\n",
      "0 | model  | RNN                | 5.2 M  | train\n",
      "1 | metric | MulticlassAccuracy | 0      | train\n",
      "------------------------------------------------------\n",
      "5.2 M     Trainable params\n",
      "0         Non-trainable params\n",
      "5.2 M     Total params\n",
      "20.831    Total estimated model params size (MB)\n",
      "7         Modules in train mode\n",
      "0         Modules in eval mode\n"
     ]
    },
    {
     "data": {
      "application/vnd.jupyter.widget-view+json": {
       "model_id": "48ce8b6987f746f99a149473715ed614",
       "version_major": 2,
       "version_minor": 0
      },
      "text/plain": [
       "Sanity Checking: |          | 0/? [00:00<?, ?it/s]"
      ]
     },
     "metadata": {},
     "output_type": "display_data"
    },
    {
     "data": {
      "application/vnd.jupyter.widget-view+json": {
       "model_id": "1e2765d547ea46c19d01bf90d67036fa",
       "version_major": 2,
       "version_minor": 0
      },
      "text/plain": [
       "Training: |          | 0/? [00:00<?, ?it/s]"
      ]
     },
     "metadata": {},
     "output_type": "display_data"
    },
    {
     "data": {
      "application/vnd.jupyter.widget-view+json": {
       "model_id": "c6a01e0b0fa041eda948b313dfc2f13f",
       "version_major": 2,
       "version_minor": 0
      },
      "text/plain": [
       "Validation: |          | 0/? [00:00<?, ?it/s]"
      ]
     },
     "metadata": {},
     "output_type": "display_data"
    },
    {
     "data": {
      "application/vnd.jupyter.widget-view+json": {
       "model_id": "314e882630df4403a285fad7a9ebee24",
       "version_major": 2,
       "version_minor": 0
      },
      "text/plain": [
       "Validation: |          | 0/? [00:00<?, ?it/s]"
      ]
     },
     "metadata": {},
     "output_type": "display_data"
    },
    {
     "data": {
      "application/vnd.jupyter.widget-view+json": {
       "model_id": "87c359ce50e84a998961de507ac04046",
       "version_major": 2,
       "version_minor": 0
      },
      "text/plain": [
       "Validation: |          | 0/? [00:00<?, ?it/s]"
      ]
     },
     "metadata": {},
     "output_type": "display_data"
    },
    {
     "data": {
      "application/vnd.jupyter.widget-view+json": {
       "model_id": "61707098764045758af6fca355529d5b",
       "version_major": 2,
       "version_minor": 0
      },
      "text/plain": [
       "Validation: |          | 0/? [00:00<?, ?it/s]"
      ]
     },
     "metadata": {},
     "output_type": "display_data"
    },
    {
     "data": {
      "application/vnd.jupyter.widget-view+json": {
       "model_id": "8598d012078d4b6d9df676095259a697",
       "version_major": 2,
       "version_minor": 0
      },
      "text/plain": [
       "Validation: |          | 0/? [00:00<?, ?it/s]"
      ]
     },
     "metadata": {},
     "output_type": "display_data"
    },
    {
     "data": {
      "application/vnd.jupyter.widget-view+json": {
       "model_id": "f6858d9fa3a4478784a248b0b8f5fc1e",
       "version_major": 2,
       "version_minor": 0
      },
      "text/plain": [
       "Validation: |          | 0/? [00:00<?, ?it/s]"
      ]
     },
     "metadata": {},
     "output_type": "display_data"
    },
    {
     "data": {
      "application/vnd.jupyter.widget-view+json": {
       "model_id": "a8e5ecd1ad1d477280a74ce472dc8776",
       "version_major": 2,
       "version_minor": 0
      },
      "text/plain": [
       "Validation: |          | 0/? [00:00<?, ?it/s]"
      ]
     },
     "metadata": {},
     "output_type": "display_data"
    },
    {
     "data": {
      "application/vnd.jupyter.widget-view+json": {
       "model_id": "a6410b3ed386410782c9e6a79eff6000",
       "version_major": 2,
       "version_minor": 0
      },
      "text/plain": [
       "Validation: |          | 0/? [00:00<?, ?it/s]"
      ]
     },
     "metadata": {},
     "output_type": "display_data"
    },
    {
     "data": {
      "application/vnd.jupyter.widget-view+json": {
       "model_id": "57f9b187e4da4110b68bbec9a63f68c3",
       "version_major": 2,
       "version_minor": 0
      },
      "text/plain": [
       "Validation: |          | 0/? [00:00<?, ?it/s]"
      ]
     },
     "metadata": {},
     "output_type": "display_data"
    },
    {
     "data": {
      "application/vnd.jupyter.widget-view+json": {
       "model_id": "97be031c61bb44f8a485f000b018572d",
       "version_major": 2,
       "version_minor": 0
      },
      "text/plain": [
       "Validation: |          | 0/? [00:00<?, ?it/s]"
      ]
     },
     "metadata": {},
     "output_type": "display_data"
    },
    {
     "data": {
      "application/vnd.jupyter.widget-view+json": {
       "model_id": "d7e985dee179454e866e175322980538",
       "version_major": 2,
       "version_minor": 0
      },
      "text/plain": [
       "Validation: |          | 0/? [00:00<?, ?it/s]"
      ]
     },
     "metadata": {},
     "output_type": "display_data"
    },
    {
     "data": {
      "application/vnd.jupyter.widget-view+json": {
       "model_id": "2c707475ca234c4c95d8785c820dd1a0",
       "version_major": 2,
       "version_minor": 0
      },
      "text/plain": [
       "Validation: |          | 0/? [00:00<?, ?it/s]"
      ]
     },
     "metadata": {},
     "output_type": "display_data"
    },
    {
     "data": {
      "application/vnd.jupyter.widget-view+json": {
       "model_id": "bc9c42f142a24cb19c8be0466b674d40",
       "version_major": 2,
       "version_minor": 0
      },
      "text/plain": [
       "Validation: |          | 0/? [00:00<?, ?it/s]"
      ]
     },
     "metadata": {},
     "output_type": "display_data"
    },
    {
     "data": {
      "application/vnd.jupyter.widget-view+json": {
       "model_id": "1e101f6a113541dd86b6df1f3e61bcb6",
       "version_major": 2,
       "version_minor": 0
      },
      "text/plain": [
       "Validation: |          | 0/? [00:00<?, ?it/s]"
      ]
     },
     "metadata": {},
     "output_type": "display_data"
    },
    {
     "name": "stderr",
     "output_type": "stream",
     "text": [
      "[I 2024-11-04 01:05:37,209] Trial 38 finished with value: 0.6031894683837891 and parameters: {'hidden_dim': 256, 'num_layers': 2, 'optimizer_name': 'Adam', 'batch_size': 2048, 'learning_rate': 0.1, 'sentence_representation_type': 'average'}. Best is trial 6 with value: 0.7682926654815674.\n",
      "Seed set to 42\n"
     ]
    },
    {
     "name": "stdout",
     "output_type": "stream",
     "text": [
      "---------- batch_size_256; lr_0.01; optimizer_Adam; hidden_dim_32; num_layers_1; sentence_representation_last ----------\n"
     ]
    },
    {
     "name": "stderr",
     "output_type": "stream",
     "text": [
      "GPU available: True (cuda), used: False\n",
      "TPU available: False, using: 0 TPU cores\n",
      "HPU available: False, using: 0 HPUs\n",
      "\n",
      "  | Name   | Type               | Params | Mode \n",
      "------------------------------------------------------\n",
      "0 | model  | RNN                | 4.9 M  | train\n",
      "1 | metric | MulticlassAccuracy | 0      | train\n",
      "------------------------------------------------------\n",
      "4.9 M     Trainable params\n",
      "0         Non-trainable params\n",
      "4.9 M     Total params\n",
      "19.646    Total estimated model params size (MB)\n",
      "7         Modules in train mode\n",
      "0         Modules in eval mode\n"
     ]
    },
    {
     "data": {
      "application/vnd.jupyter.widget-view+json": {
       "model_id": "c1e9f96b1c1940f49f34a00d2dd807f6",
       "version_major": 2,
       "version_minor": 0
      },
      "text/plain": [
       "Sanity Checking: |          | 0/? [00:00<?, ?it/s]"
      ]
     },
     "metadata": {},
     "output_type": "display_data"
    },
    {
     "data": {
      "application/vnd.jupyter.widget-view+json": {
       "model_id": "6d70aef743fd4236969c1d8e0d7ba3cc",
       "version_major": 2,
       "version_minor": 0
      },
      "text/plain": [
       "Training: |          | 0/? [00:00<?, ?it/s]"
      ]
     },
     "metadata": {},
     "output_type": "display_data"
    },
    {
     "data": {
      "application/vnd.jupyter.widget-view+json": {
       "model_id": "64a0b8ef2ec44a5eb125905a4865b479",
       "version_major": 2,
       "version_minor": 0
      },
      "text/plain": [
       "Validation: |          | 0/? [00:00<?, ?it/s]"
      ]
     },
     "metadata": {},
     "output_type": "display_data"
    },
    {
     "data": {
      "application/vnd.jupyter.widget-view+json": {
       "model_id": "78fe3766af9a467e9f8b89a22d28cbf1",
       "version_major": 2,
       "version_minor": 0
      },
      "text/plain": [
       "Validation: |          | 0/? [00:00<?, ?it/s]"
      ]
     },
     "metadata": {},
     "output_type": "display_data"
    },
    {
     "data": {
      "application/vnd.jupyter.widget-view+json": {
       "model_id": "3ca3529246024372b0fb9345a260fb64",
       "version_major": 2,
       "version_minor": 0
      },
      "text/plain": [
       "Validation: |          | 0/? [00:00<?, ?it/s]"
      ]
     },
     "metadata": {},
     "output_type": "display_data"
    },
    {
     "data": {
      "application/vnd.jupyter.widget-view+json": {
       "model_id": "c0c6a1a9baaa4bec80dbdcac984164e9",
       "version_major": 2,
       "version_minor": 0
      },
      "text/plain": [
       "Validation: |          | 0/? [00:00<?, ?it/s]"
      ]
     },
     "metadata": {},
     "output_type": "display_data"
    },
    {
     "name": "stderr",
     "output_type": "stream",
     "text": [
      "[I 2024-11-04 01:06:19,323] Trial 39 finished with value: 0.4303758442401886 and parameters: {'hidden_dim': 32, 'num_layers': 1, 'optimizer_name': 'Adam', 'batch_size': 256, 'learning_rate': 0.01, 'sentence_representation_type': 'last'}. Best is trial 6 with value: 0.7682926654815674.\n",
      "Seed set to 42\n"
     ]
    },
    {
     "name": "stdout",
     "output_type": "stream",
     "text": [
      "---------- batch_size_2048; lr_0.001; optimizer_Adam; hidden_dim_128; num_layers_1; sentence_representation_max ----------\n"
     ]
    },
    {
     "name": "stderr",
     "output_type": "stream",
     "text": [
      "[I 2024-11-04 01:06:19,926] Trial 40 finished with value: 0.7682926654815674 and parameters: {'hidden_dim': 128, 'num_layers': 1, 'optimizer_name': 'Adam', 'batch_size': 2048, 'learning_rate': 0.001, 'sentence_representation_type': 'max'}. Best is trial 6 with value: 0.7682926654815674.\n",
      "Seed set to 42\n"
     ]
    },
    {
     "name": "stdout",
     "output_type": "stream",
     "text": [
      "[Skipping] rnn/test/w2v-3b/batch_size_2048-lr_0.001-optimizer_Adam-hidden_dim_128-num_layers_1-sr_type_max-freeze_False\n",
      "---------- batch_size_2048; lr_0.001; optimizer_Adam; hidden_dim_128; num_layers_1; sentence_representation_max ----------\n"
     ]
    },
    {
     "name": "stderr",
     "output_type": "stream",
     "text": [
      "[I 2024-11-04 01:06:20,584] Trial 41 finished with value: 0.7682926654815674 and parameters: {'hidden_dim': 128, 'num_layers': 1, 'optimizer_name': 'Adam', 'batch_size': 2048, 'learning_rate': 0.001, 'sentence_representation_type': 'max'}. Best is trial 6 with value: 0.7682926654815674.\n",
      "Seed set to 42\n"
     ]
    },
    {
     "name": "stdout",
     "output_type": "stream",
     "text": [
      "[Skipping] rnn/test/w2v-3b/batch_size_2048-lr_0.001-optimizer_Adam-hidden_dim_128-num_layers_1-sr_type_max-freeze_False\n",
      "---------- batch_size_2048; lr_0.001; optimizer_Adam; hidden_dim_128; num_layers_1; sentence_representation_max ----------\n"
     ]
    },
    {
     "name": "stderr",
     "output_type": "stream",
     "text": [
      "[I 2024-11-04 01:06:21,166] Trial 42 finished with value: 0.7682926654815674 and parameters: {'hidden_dim': 128, 'num_layers': 1, 'optimizer_name': 'Adam', 'batch_size': 2048, 'learning_rate': 0.001, 'sentence_representation_type': 'max'}. Best is trial 6 with value: 0.7682926654815674.\n",
      "Seed set to 42\n"
     ]
    },
    {
     "name": "stdout",
     "output_type": "stream",
     "text": [
      "[Skipping] rnn/test/w2v-3b/batch_size_2048-lr_0.001-optimizer_Adam-hidden_dim_128-num_layers_1-sr_type_max-freeze_False\n",
      "---------- batch_size_2048; lr_0.001; optimizer_Adam; hidden_dim_128; num_layers_1; sentence_representation_max ----------\n"
     ]
    },
    {
     "name": "stderr",
     "output_type": "stream",
     "text": [
      "[I 2024-11-04 01:06:21,738] Trial 43 finished with value: 0.7682926654815674 and parameters: {'hidden_dim': 128, 'num_layers': 1, 'optimizer_name': 'Adam', 'batch_size': 2048, 'learning_rate': 0.001, 'sentence_representation_type': 'max'}. Best is trial 6 with value: 0.7682926654815674.\n",
      "Seed set to 42\n"
     ]
    },
    {
     "name": "stdout",
     "output_type": "stream",
     "text": [
      "[Skipping] rnn/test/w2v-3b/batch_size_2048-lr_0.001-optimizer_Adam-hidden_dim_128-num_layers_1-sr_type_max-freeze_False\n",
      "---------- batch_size_1024; lr_0.001; optimizer_Adam; hidden_dim_128; num_layers_1; sentence_representation_max ----------\n"
     ]
    },
    {
     "name": "stderr",
     "output_type": "stream",
     "text": [
      "GPU available: True (cuda), used: False\n",
      "TPU available: False, using: 0 TPU cores\n",
      "HPU available: False, using: 0 HPUs\n",
      "\n",
      "  | Name   | Type               | Params | Mode \n",
      "------------------------------------------------------\n",
      "0 | model  | RNN                | 5.0 M  | train\n",
      "1 | metric | MulticlassAccuracy | 0      | train\n",
      "------------------------------------------------------\n",
      "5.0 M     Trainable params\n",
      "0         Non-trainable params\n",
      "5.0 M     Total params\n",
      "19.855    Total estimated model params size (MB)\n",
      "7         Modules in train mode\n",
      "0         Modules in eval mode\n"
     ]
    },
    {
     "data": {
      "application/vnd.jupyter.widget-view+json": {
       "model_id": "b55338ad23454a429c3c681be5b1c1dc",
       "version_major": 2,
       "version_minor": 0
      },
      "text/plain": [
       "Sanity Checking: |          | 0/? [00:00<?, ?it/s]"
      ]
     },
     "metadata": {},
     "output_type": "display_data"
    },
    {
     "data": {
      "application/vnd.jupyter.widget-view+json": {
       "model_id": "0175226179674fd3af939670e1443211",
       "version_major": 2,
       "version_minor": 0
      },
      "text/plain": [
       "Training: |          | 0/? [00:00<?, ?it/s]"
      ]
     },
     "metadata": {},
     "output_type": "display_data"
    },
    {
     "data": {
      "application/vnd.jupyter.widget-view+json": {
       "model_id": "cc51d8efb5e64a67a5b9d2fa388d9236",
       "version_major": 2,
       "version_minor": 0
      },
      "text/plain": [
       "Validation: |          | 0/? [00:00<?, ?it/s]"
      ]
     },
     "metadata": {},
     "output_type": "display_data"
    },
    {
     "data": {
      "application/vnd.jupyter.widget-view+json": {
       "model_id": "9a8f644eca294bc9830b649abcabf513",
       "version_major": 2,
       "version_minor": 0
      },
      "text/plain": [
       "Validation: |          | 0/? [00:00<?, ?it/s]"
      ]
     },
     "metadata": {},
     "output_type": "display_data"
    },
    {
     "data": {
      "application/vnd.jupyter.widget-view+json": {
       "model_id": "0e73bc0185f0485084a702d1876d313c",
       "version_major": 2,
       "version_minor": 0
      },
      "text/plain": [
       "Validation: |          | 0/? [00:00<?, ?it/s]"
      ]
     },
     "metadata": {},
     "output_type": "display_data"
    },
    {
     "data": {
      "application/vnd.jupyter.widget-view+json": {
       "model_id": "84829decfc2244ae8260b5ded7ad07b4",
       "version_major": 2,
       "version_minor": 0
      },
      "text/plain": [
       "Validation: |          | 0/? [00:00<?, ?it/s]"
      ]
     },
     "metadata": {},
     "output_type": "display_data"
    },
    {
     "data": {
      "application/vnd.jupyter.widget-view+json": {
       "model_id": "4f6305d671b641ecbc511bcdce259079",
       "version_major": 2,
       "version_minor": 0
      },
      "text/plain": [
       "Validation: |          | 0/? [00:00<?, ?it/s]"
      ]
     },
     "metadata": {},
     "output_type": "display_data"
    },
    {
     "data": {
      "application/vnd.jupyter.widget-view+json": {
       "model_id": "6b5e3300fb9c4293a13e27e4fea9f34f",
       "version_major": 2,
       "version_minor": 0
      },
      "text/plain": [
       "Validation: |          | 0/? [00:00<?, ?it/s]"
      ]
     },
     "metadata": {},
     "output_type": "display_data"
    },
    {
     "data": {
      "application/vnd.jupyter.widget-view+json": {
       "model_id": "a21de7bf37e14605b1e701206aea0c61",
       "version_major": 2,
       "version_minor": 0
      },
      "text/plain": [
       "Validation: |          | 0/? [00:00<?, ?it/s]"
      ]
     },
     "metadata": {},
     "output_type": "display_data"
    },
    {
     "name": "stderr",
     "output_type": "stream",
     "text": [
      "[I 2024-11-04 01:07:26,768] Trial 44 finished with value: 0.7565755248069763 and parameters: {'hidden_dim': 128, 'num_layers': 1, 'optimizer_name': 'Adam', 'batch_size': 1024, 'learning_rate': 0.001, 'sentence_representation_type': 'max'}. Best is trial 6 with value: 0.7682926654815674.\n",
      "Seed set to 42\n"
     ]
    },
    {
     "name": "stdout",
     "output_type": "stream",
     "text": [
      "---------- batch_size_2048; lr_0.001; optimizer_Adam; hidden_dim_128; num_layers_1; sentence_representation_max ----------\n"
     ]
    },
    {
     "name": "stderr",
     "output_type": "stream",
     "text": [
      "[I 2024-11-04 01:07:27,349] Trial 45 finished with value: 0.7682926654815674 and parameters: {'hidden_dim': 128, 'num_layers': 1, 'optimizer_name': 'Adam', 'batch_size': 2048, 'learning_rate': 0.001, 'sentence_representation_type': 'max'}. Best is trial 6 with value: 0.7682926654815674.\n",
      "Seed set to 42\n"
     ]
    },
    {
     "name": "stdout",
     "output_type": "stream",
     "text": [
      "[Skipping] rnn/test/w2v-3b/batch_size_2048-lr_0.001-optimizer_Adam-hidden_dim_128-num_layers_1-sr_type_max-freeze_False\n",
      "---------- batch_size_2048; lr_0.01; optimizer_Adam; hidden_dim_64; num_layers_4; sentence_representation_average ----------\n"
     ]
    },
    {
     "name": "stderr",
     "output_type": "stream",
     "text": [
      "GPU available: True (cuda), used: False\n",
      "TPU available: False, using: 0 TPU cores\n",
      "HPU available: False, using: 0 HPUs\n",
      "\n",
      "  | Name   | Type               | Params | Mode \n",
      "------------------------------------------------------\n",
      "0 | model  | RNN                | 5.0 M  | train\n",
      "1 | metric | MulticlassAccuracy | 0      | train\n",
      "------------------------------------------------------\n",
      "5.0 M     Trainable params\n",
      "0         Non-trainable params\n",
      "5.0 M     Total params\n",
      "19.803    Total estimated model params size (MB)\n",
      "7         Modules in train mode\n",
      "0         Modules in eval mode\n"
     ]
    },
    {
     "data": {
      "application/vnd.jupyter.widget-view+json": {
       "model_id": "9036b17166d84c3ead9a5a0d3da97fbc",
       "version_major": 2,
       "version_minor": 0
      },
      "text/plain": [
       "Sanity Checking: |          | 0/? [00:00<?, ?it/s]"
      ]
     },
     "metadata": {},
     "output_type": "display_data"
    },
    {
     "data": {
      "application/vnd.jupyter.widget-view+json": {
       "model_id": "57042608c69947158c8bbc0e663c8ddb",
       "version_major": 2,
       "version_minor": 0
      },
      "text/plain": [
       "Training: |          | 0/? [00:00<?, ?it/s]"
      ]
     },
     "metadata": {},
     "output_type": "display_data"
    },
    {
     "data": {
      "application/vnd.jupyter.widget-view+json": {
       "model_id": "94d298863efe4309bc3d653e6bb1292b",
       "version_major": 2,
       "version_minor": 0
      },
      "text/plain": [
       "Validation: |          | 0/? [00:00<?, ?it/s]"
      ]
     },
     "metadata": {},
     "output_type": "display_data"
    },
    {
     "data": {
      "application/vnd.jupyter.widget-view+json": {
       "model_id": "004d2e913a0e41f589f2958cca32e25e",
       "version_major": 2,
       "version_minor": 0
      },
      "text/plain": [
       "Validation: |          | 0/? [00:00<?, ?it/s]"
      ]
     },
     "metadata": {},
     "output_type": "display_data"
    },
    {
     "data": {
      "application/vnd.jupyter.widget-view+json": {
       "model_id": "70f3f59ba3ae4ccf9d7bdd753d1f12d2",
       "version_major": 2,
       "version_minor": 0
      },
      "text/plain": [
       "Validation: |          | 0/? [00:00<?, ?it/s]"
      ]
     },
     "metadata": {},
     "output_type": "display_data"
    },
    {
     "data": {
      "application/vnd.jupyter.widget-view+json": {
       "model_id": "4982cae911c4420fb0fb67352ed1b5d7",
       "version_major": 2,
       "version_minor": 0
      },
      "text/plain": [
       "Validation: |          | 0/? [00:00<?, ?it/s]"
      ]
     },
     "metadata": {},
     "output_type": "display_data"
    },
    {
     "data": {
      "application/vnd.jupyter.widget-view+json": {
       "model_id": "0807fbb905064f3aaead71a22493386e",
       "version_major": 2,
       "version_minor": 0
      },
      "text/plain": [
       "Validation: |          | 0/? [00:00<?, ?it/s]"
      ]
     },
     "metadata": {},
     "output_type": "display_data"
    },
    {
     "data": {
      "application/vnd.jupyter.widget-view+json": {
       "model_id": "b8eac1c3cd5c4ff18c7aa097efcedc79",
       "version_major": 2,
       "version_minor": 0
      },
      "text/plain": [
       "Validation: |          | 0/? [00:00<?, ?it/s]"
      ]
     },
     "metadata": {},
     "output_type": "display_data"
    },
    {
     "name": "stderr",
     "output_type": "stream",
     "text": [
      "[I 2024-11-04 01:08:25,433] Trial 46 finished with value: 0.7410881519317627 and parameters: {'hidden_dim': 64, 'num_layers': 4, 'optimizer_name': 'Adam', 'batch_size': 2048, 'learning_rate': 0.01, 'sentence_representation_type': 'average'}. Best is trial 6 with value: 0.7682926654815674.\n",
      "Seed set to 42\n"
     ]
    },
    {
     "name": "stdout",
     "output_type": "stream",
     "text": [
      "---------- batch_size_128; lr_0.0001; optimizer_Adam; hidden_dim_128; num_layers_1; sentence_representation_last ----------\n"
     ]
    },
    {
     "name": "stderr",
     "output_type": "stream",
     "text": [
      "GPU available: True (cuda), used: False\n",
      "TPU available: False, using: 0 TPU cores\n",
      "HPU available: False, using: 0 HPUs\n",
      "\n",
      "  | Name   | Type               | Params | Mode \n",
      "------------------------------------------------------\n",
      "0 | model  | RNN                | 5.0 M  | train\n",
      "1 | metric | MulticlassAccuracy | 0      | train\n",
      "------------------------------------------------------\n",
      "5.0 M     Trainable params\n",
      "0         Non-trainable params\n",
      "5.0 M     Total params\n",
      "19.855    Total estimated model params size (MB)\n",
      "7         Modules in train mode\n",
      "0         Modules in eval mode\n"
     ]
    },
    {
     "data": {
      "application/vnd.jupyter.widget-view+json": {
       "model_id": "4c341dfa785243ada9a7b90faa4e3efd",
       "version_major": 2,
       "version_minor": 0
      },
      "text/plain": [
       "Sanity Checking: |          | 0/? [00:00<?, ?it/s]"
      ]
     },
     "metadata": {},
     "output_type": "display_data"
    },
    {
     "data": {
      "application/vnd.jupyter.widget-view+json": {
       "model_id": "7443efe8561f4f91ab6a91fee025d7ed",
       "version_major": 2,
       "version_minor": 0
      },
      "text/plain": [
       "Training: |          | 0/? [00:00<?, ?it/s]"
      ]
     },
     "metadata": {},
     "output_type": "display_data"
    },
    {
     "data": {
      "application/vnd.jupyter.widget-view+json": {
       "model_id": "6402f2f964cf478a966a4672b2171af3",
       "version_major": 2,
       "version_minor": 0
      },
      "text/plain": [
       "Validation: |          | 0/? [00:00<?, ?it/s]"
      ]
     },
     "metadata": {},
     "output_type": "display_data"
    },
    {
     "data": {
      "application/vnd.jupyter.widget-view+json": {
       "model_id": "d3b677204b1646afa7e34b32ab807b02",
       "version_major": 2,
       "version_minor": 0
      },
      "text/plain": [
       "Validation: |          | 0/? [00:00<?, ?it/s]"
      ]
     },
     "metadata": {},
     "output_type": "display_data"
    },
    {
     "data": {
      "application/vnd.jupyter.widget-view+json": {
       "model_id": "fdec87ca4fd74af89781a8630986b429",
       "version_major": 2,
       "version_minor": 0
      },
      "text/plain": [
       "Validation: |          | 0/? [00:00<?, ?it/s]"
      ]
     },
     "metadata": {},
     "output_type": "display_data"
    },
    {
     "data": {
      "application/vnd.jupyter.widget-view+json": {
       "model_id": "ee031b0ea9674106bf76ebb3497882f3",
       "version_major": 2,
       "version_minor": 0
      },
      "text/plain": [
       "Validation: |          | 0/? [00:00<?, ?it/s]"
      ]
     },
     "metadata": {},
     "output_type": "display_data"
    },
    {
     "data": {
      "application/vnd.jupyter.widget-view+json": {
       "model_id": "10defd5e012042a88d0384c3cbce99d2",
       "version_major": 2,
       "version_minor": 0
      },
      "text/plain": [
       "Validation: |          | 0/? [00:00<?, ?it/s]"
      ]
     },
     "metadata": {},
     "output_type": "display_data"
    },
    {
     "data": {
      "application/vnd.jupyter.widget-view+json": {
       "model_id": "b431cc3fa5ae42ca9df2a81c4955b195",
       "version_major": 2,
       "version_minor": 0
      },
      "text/plain": [
       "Validation: |          | 0/? [00:00<?, ?it/s]"
      ]
     },
     "metadata": {},
     "output_type": "display_data"
    },
    {
     "data": {
      "application/vnd.jupyter.widget-view+json": {
       "model_id": "98139b678e9c4ffd8e3277ff9ed3d2b8",
       "version_major": 2,
       "version_minor": 0
      },
      "text/plain": [
       "Validation: |          | 0/? [00:00<?, ?it/s]"
      ]
     },
     "metadata": {},
     "output_type": "display_data"
    },
    {
     "data": {
      "application/vnd.jupyter.widget-view+json": {
       "model_id": "034e7298a88f48aa9de858c5df0fd297",
       "version_major": 2,
       "version_minor": 0
      },
      "text/plain": [
       "Validation: |          | 0/? [00:00<?, ?it/s]"
      ]
     },
     "metadata": {},
     "output_type": "display_data"
    },
    {
     "name": "stderr",
     "output_type": "stream",
     "text": [
      "[I 2024-11-04 01:09:32,168] Trial 47 finished with value: 0.43528270721435547 and parameters: {'hidden_dim': 128, 'num_layers': 1, 'optimizer_name': 'Adam', 'batch_size': 128, 'learning_rate': 0.0001, 'sentence_representation_type': 'last'}. Best is trial 6 with value: 0.7682926654815674.\n",
      "Seed set to 42\n"
     ]
    },
    {
     "name": "stdout",
     "output_type": "stream",
     "text": [
      "---------- batch_size_64; lr_0.001; optimizer_Adam; hidden_dim_128; num_layers_1; sentence_representation_max ----------\n"
     ]
    },
    {
     "name": "stderr",
     "output_type": "stream",
     "text": [
      "GPU available: True (cuda), used: False\n",
      "TPU available: False, using: 0 TPU cores\n",
      "HPU available: False, using: 0 HPUs\n",
      "\n",
      "  | Name   | Type               | Params | Mode \n",
      "------------------------------------------------------\n",
      "0 | model  | RNN                | 5.0 M  | train\n",
      "1 | metric | MulticlassAccuracy | 0      | train\n",
      "------------------------------------------------------\n",
      "5.0 M     Trainable params\n",
      "0         Non-trainable params\n",
      "5.0 M     Total params\n",
      "19.855    Total estimated model params size (MB)\n",
      "7         Modules in train mode\n",
      "0         Modules in eval mode\n"
     ]
    },
    {
     "data": {
      "application/vnd.jupyter.widget-view+json": {
       "model_id": "5f1febbf5a954cfdbe266b90a4a19d3d",
       "version_major": 2,
       "version_minor": 0
      },
      "text/plain": [
       "Sanity Checking: |          | 0/? [00:00<?, ?it/s]"
      ]
     },
     "metadata": {},
     "output_type": "display_data"
    },
    {
     "data": {
      "application/vnd.jupyter.widget-view+json": {
       "model_id": "4db98cd485ff4ff090ad13b5b3d7ab9e",
       "version_major": 2,
       "version_minor": 0
      },
      "text/plain": [
       "Training: |          | 0/? [00:00<?, ?it/s]"
      ]
     },
     "metadata": {},
     "output_type": "display_data"
    },
    {
     "data": {
      "application/vnd.jupyter.widget-view+json": {
       "model_id": "6e4c2187512b4a3a800f44f9a7dc1536",
       "version_major": 2,
       "version_minor": 0
      },
      "text/plain": [
       "Validation: |          | 0/? [00:00<?, ?it/s]"
      ]
     },
     "metadata": {},
     "output_type": "display_data"
    },
    {
     "data": {
      "application/vnd.jupyter.widget-view+json": {
       "model_id": "b31386cd91a8457ba9fdd3826ca58e50",
       "version_major": 2,
       "version_minor": 0
      },
      "text/plain": [
       "Validation: |          | 0/? [00:00<?, ?it/s]"
      ]
     },
     "metadata": {},
     "output_type": "display_data"
    },
    {
     "data": {
      "application/vnd.jupyter.widget-view+json": {
       "model_id": "3e199617246f4cf8ae81e212a6366416",
       "version_major": 2,
       "version_minor": 0
      },
      "text/plain": [
       "Validation: |          | 0/? [00:00<?, ?it/s]"
      ]
     },
     "metadata": {},
     "output_type": "display_data"
    },
    {
     "data": {
      "application/vnd.jupyter.widget-view+json": {
       "model_id": "87dfda5077e34acbab66254a4fea41c2",
       "version_major": 2,
       "version_minor": 0
      },
      "text/plain": [
       "Validation: |          | 0/? [00:00<?, ?it/s]"
      ]
     },
     "metadata": {},
     "output_type": "display_data"
    },
    {
     "name": "stderr",
     "output_type": "stream",
     "text": [
      "[I 2024-11-04 01:10:33,507] Trial 48 finished with value: 0.4124270975589752 and parameters: {'hidden_dim': 128, 'num_layers': 1, 'optimizer_name': 'Adam', 'batch_size': 64, 'learning_rate': 0.001, 'sentence_representation_type': 'max'}. Best is trial 6 with value: 0.7682926654815674.\n",
      "Seed set to 42\n"
     ]
    },
    {
     "name": "stdout",
     "output_type": "stream",
     "text": [
      "---------- batch_size_32; lr_0.1; optimizer_Adam; hidden_dim_128; num_layers_2; sentence_representation_max ----------\n"
     ]
    },
    {
     "name": "stderr",
     "output_type": "stream",
     "text": [
      "GPU available: True (cuda), used: False\n",
      "TPU available: False, using: 0 TPU cores\n",
      "HPU available: False, using: 0 HPUs\n",
      "\n",
      "  | Name   | Type               | Params | Mode \n",
      "------------------------------------------------------\n",
      "0 | model  | RNN                | 5.0 M  | train\n",
      "1 | metric | MulticlassAccuracy | 0      | train\n",
      "------------------------------------------------------\n",
      "5.0 M     Trainable params\n",
      "0         Non-trainable params\n",
      "5.0 M     Total params\n",
      "19.987    Total estimated model params size (MB)\n",
      "7         Modules in train mode\n",
      "0         Modules in eval mode\n"
     ]
    },
    {
     "data": {
      "application/vnd.jupyter.widget-view+json": {
       "model_id": "7c15efe1e37a46369d1ee044730e389f",
       "version_major": 2,
       "version_minor": 0
      },
      "text/plain": [
       "Sanity Checking: |          | 0/? [00:00<?, ?it/s]"
      ]
     },
     "metadata": {},
     "output_type": "display_data"
    },
    {
     "data": {
      "application/vnd.jupyter.widget-view+json": {
       "model_id": "01270a30fa684b9ea70ebb5275622001",
       "version_major": 2,
       "version_minor": 0
      },
      "text/plain": [
       "Training: |          | 0/? [00:00<?, ?it/s]"
      ]
     },
     "metadata": {},
     "output_type": "display_data"
    },
    {
     "data": {
      "application/vnd.jupyter.widget-view+json": {
       "model_id": "0c24614e7adf467194a2697a0d0a60f1",
       "version_major": 2,
       "version_minor": 0
      },
      "text/plain": [
       "Validation: |          | 0/? [00:00<?, ?it/s]"
      ]
     },
     "metadata": {},
     "output_type": "display_data"
    },
    {
     "data": {
      "application/vnd.jupyter.widget-view+json": {
       "model_id": "690f6474d2dc497591090ca11448b631",
       "version_major": 2,
       "version_minor": 0
      },
      "text/plain": [
       "Validation: |          | 0/? [00:00<?, ?it/s]"
      ]
     },
     "metadata": {},
     "output_type": "display_data"
    },
    {
     "data": {
      "application/vnd.jupyter.widget-view+json": {
       "model_id": "3a49c9e598154338a02355ec07f699dd",
       "version_major": 2,
       "version_minor": 0
      },
      "text/plain": [
       "Validation: |          | 0/? [00:00<?, ?it/s]"
      ]
     },
     "metadata": {},
     "output_type": "display_data"
    },
    {
     "data": {
      "application/vnd.jupyter.widget-view+json": {
       "model_id": "dfcc84e9d0a24d67847d5d6ad4c46e4d",
       "version_major": 2,
       "version_minor": 0
      },
      "text/plain": [
       "Validation: |          | 0/? [00:00<?, ?it/s]"
      ]
     },
     "metadata": {},
     "output_type": "display_data"
    },
    {
     "data": {
      "application/vnd.jupyter.widget-view+json": {
       "model_id": "85fab0b078d9455ca3c7bc06a3993381",
       "version_major": 2,
       "version_minor": 0
      },
      "text/plain": [
       "Validation: |          | 0/? [00:00<?, ?it/s]"
      ]
     },
     "metadata": {},
     "output_type": "display_data"
    },
    {
     "name": "stderr",
     "output_type": "stream",
     "text": [
      "[I 2024-11-04 01:12:20,526] Trial 49 finished with value: 0.504690408706665 and parameters: {'hidden_dim': 128, 'num_layers': 2, 'optimizer_name': 'Adam', 'batch_size': 32, 'learning_rate': 0.1, 'sentence_representation_type': 'max'}. Best is trial 6 with value: 0.7682926654815674.\n",
      "Seed set to 42\n"
     ]
    },
    {
     "name": "stdout",
     "output_type": "stream",
     "text": [
      "---------- batch_size_2048; lr_0.001; optimizer_Adam; hidden_dim_32; num_layers_1; sentence_representation_max ----------\n"
     ]
    },
    {
     "name": "stderr",
     "output_type": "stream",
     "text": [
      "GPU available: True (cuda), used: False\n",
      "TPU available: False, using: 0 TPU cores\n",
      "HPU available: False, using: 0 HPUs\n",
      "\n",
      "  | Name   | Type               | Params | Mode \n",
      "------------------------------------------------------\n",
      "0 | model  | RNN                | 4.9 M  | train\n",
      "1 | metric | MulticlassAccuracy | 0      | train\n",
      "------------------------------------------------------\n",
      "4.9 M     Trainable params\n",
      "0         Non-trainable params\n",
      "4.9 M     Total params\n",
      "19.646    Total estimated model params size (MB)\n",
      "7         Modules in train mode\n",
      "0         Modules in eval mode\n"
     ]
    },
    {
     "data": {
      "application/vnd.jupyter.widget-view+json": {
       "model_id": "14e92dc678aa43e9ac7e25b169840e63",
       "version_major": 2,
       "version_minor": 0
      },
      "text/plain": [
       "Sanity Checking: |          | 0/? [00:00<?, ?it/s]"
      ]
     },
     "metadata": {},
     "output_type": "display_data"
    },
    {
     "data": {
      "application/vnd.jupyter.widget-view+json": {
       "model_id": "1ddfd1cafb194120bbf4337cc17dfd06",
       "version_major": 2,
       "version_minor": 0
      },
      "text/plain": [
       "Training: |          | 0/? [00:00<?, ?it/s]"
      ]
     },
     "metadata": {},
     "output_type": "display_data"
    },
    {
     "data": {
      "application/vnd.jupyter.widget-view+json": {
       "model_id": "61be8fd76cfb47d7a4b935a78276b340",
       "version_major": 2,
       "version_minor": 0
      },
      "text/plain": [
       "Validation: |          | 0/? [00:00<?, ?it/s]"
      ]
     },
     "metadata": {},
     "output_type": "display_data"
    },
    {
     "data": {
      "application/vnd.jupyter.widget-view+json": {
       "model_id": "3b2e86fbbd124160a7a509834f097a85",
       "version_major": 2,
       "version_minor": 0
      },
      "text/plain": [
       "Validation: |          | 0/? [00:00<?, ?it/s]"
      ]
     },
     "metadata": {},
     "output_type": "display_data"
    },
    {
     "data": {
      "application/vnd.jupyter.widget-view+json": {
       "model_id": "22c2924a6d804e398fb24263bbc222aa",
       "version_major": 2,
       "version_minor": 0
      },
      "text/plain": [
       "Validation: |          | 0/? [00:00<?, ?it/s]"
      ]
     },
     "metadata": {},
     "output_type": "display_data"
    },
    {
     "data": {
      "application/vnd.jupyter.widget-view+json": {
       "model_id": "23d0006ad5b64edb9efaaaec279428ad",
       "version_major": 2,
       "version_minor": 0
      },
      "text/plain": [
       "Validation: |          | 0/? [00:00<?, ?it/s]"
      ]
     },
     "metadata": {},
     "output_type": "display_data"
    },
    {
     "data": {
      "application/vnd.jupyter.widget-view+json": {
       "model_id": "72a529535a9a4e5d962cacb4e876047a",
       "version_major": 2,
       "version_minor": 0
      },
      "text/plain": [
       "Validation: |          | 0/? [00:00<?, ?it/s]"
      ]
     },
     "metadata": {},
     "output_type": "display_data"
    },
    {
     "data": {
      "application/vnd.jupyter.widget-view+json": {
       "model_id": "dbedd12fff53444faca6e9cabdb00cf9",
       "version_major": 2,
       "version_minor": 0
      },
      "text/plain": [
       "Validation: |          | 0/? [00:00<?, ?it/s]"
      ]
     },
     "metadata": {},
     "output_type": "display_data"
    },
    {
     "data": {
      "application/vnd.jupyter.widget-view+json": {
       "model_id": "36538ea6840a425184ddf0590718b8de",
       "version_major": 2,
       "version_minor": 0
      },
      "text/plain": [
       "Validation: |          | 0/? [00:00<?, ?it/s]"
      ]
     },
     "metadata": {},
     "output_type": "display_data"
    },
    {
     "data": {
      "application/vnd.jupyter.widget-view+json": {
       "model_id": "865b7dd0d96043a9a5c8ba9675a6c82f",
       "version_major": 2,
       "version_minor": 0
      },
      "text/plain": [
       "Validation: |          | 0/? [00:00<?, ?it/s]"
      ]
     },
     "metadata": {},
     "output_type": "display_data"
    },
    {
     "data": {
      "application/vnd.jupyter.widget-view+json": {
       "model_id": "5a0e52deec9140af8fe4533f98ab7b65",
       "version_major": 2,
       "version_minor": 0
      },
      "text/plain": [
       "Validation: |          | 0/? [00:00<?, ?it/s]"
      ]
     },
     "metadata": {},
     "output_type": "display_data"
    },
    {
     "data": {
      "application/vnd.jupyter.widget-view+json": {
       "model_id": "10ad5b4fd4794060a8f17d45320abaeb",
       "version_major": 2,
       "version_minor": 0
      },
      "text/plain": [
       "Validation: |          | 0/? [00:00<?, ?it/s]"
      ]
     },
     "metadata": {},
     "output_type": "display_data"
    },
    {
     "data": {
      "application/vnd.jupyter.widget-view+json": {
       "model_id": "77ee3712eae24160a68fb26a17c536fa",
       "version_major": 2,
       "version_minor": 0
      },
      "text/plain": [
       "Validation: |          | 0/? [00:00<?, ?it/s]"
      ]
     },
     "metadata": {},
     "output_type": "display_data"
    },
    {
     "data": {
      "application/vnd.jupyter.widget-view+json": {
       "model_id": "62f04d33bcd043efa97c1c2ae3c95cd5",
       "version_major": 2,
       "version_minor": 0
      },
      "text/plain": [
       "Validation: |          | 0/? [00:00<?, ?it/s]"
      ]
     },
     "metadata": {},
     "output_type": "display_data"
    },
    {
     "data": {
      "application/vnd.jupyter.widget-view+json": {
       "model_id": "2def254d6114479287c7ac72951fe5dd",
       "version_major": 2,
       "version_minor": 0
      },
      "text/plain": [
       "Validation: |          | 0/? [00:00<?, ?it/s]"
      ]
     },
     "metadata": {},
     "output_type": "display_data"
    },
    {
     "data": {
      "application/vnd.jupyter.widget-view+json": {
       "model_id": "3af9c11cbb544cabb62cb50c9b13668b",
       "version_major": 2,
       "version_minor": 0
      },
      "text/plain": [
       "Validation: |          | 0/? [00:00<?, ?it/s]"
      ]
     },
     "metadata": {},
     "output_type": "display_data"
    },
    {
     "data": {
      "application/vnd.jupyter.widget-view+json": {
       "model_id": "e252b11d20234a3ea4364ba300495988",
       "version_major": 2,
       "version_minor": 0
      },
      "text/plain": [
       "Validation: |          | 0/? [00:00<?, ?it/s]"
      ]
     },
     "metadata": {},
     "output_type": "display_data"
    },
    {
     "data": {
      "application/vnd.jupyter.widget-view+json": {
       "model_id": "436bd7f43b4a45b1a557fcdad05c59f4",
       "version_major": 2,
       "version_minor": 0
      },
      "text/plain": [
       "Validation: |          | 0/? [00:00<?, ?it/s]"
      ]
     },
     "metadata": {},
     "output_type": "display_data"
    },
    {
     "name": "stderr",
     "output_type": "stream",
     "text": [
      "[I 2024-11-04 01:13:26,754] Trial 50 finished with value: 0.7804877758026123 and parameters: {'hidden_dim': 32, 'num_layers': 1, 'optimizer_name': 'Adam', 'batch_size': 2048, 'learning_rate': 0.001, 'sentence_representation_type': 'max'}. Best is trial 50 with value: 0.7804877758026123.\n",
      "Seed set to 42\n"
     ]
    },
    {
     "name": "stdout",
     "output_type": "stream",
     "text": [
      "---------- batch_size_2048; lr_0.001; optimizer_Adam; hidden_dim_32; num_layers_1; sentence_representation_max ----------\n"
     ]
    },
    {
     "name": "stderr",
     "output_type": "stream",
     "text": [
      "[I 2024-11-04 01:13:27,419] Trial 51 finished with value: 0.7804877758026123 and parameters: {'hidden_dim': 32, 'num_layers': 1, 'optimizer_name': 'Adam', 'batch_size': 2048, 'learning_rate': 0.001, 'sentence_representation_type': 'max'}. Best is trial 50 with value: 0.7804877758026123.\n",
      "Seed set to 42\n"
     ]
    },
    {
     "name": "stdout",
     "output_type": "stream",
     "text": [
      "[Skipping] rnn/test/w2v-3b/batch_size_2048-lr_0.001-optimizer_Adam-hidden_dim_32-num_layers_1-sr_type_max-freeze_False\n",
      "---------- batch_size_2048; lr_0.001; optimizer_Adam; hidden_dim_32; num_layers_1; sentence_representation_max ----------\n"
     ]
    },
    {
     "name": "stderr",
     "output_type": "stream",
     "text": [
      "[I 2024-11-04 01:13:28,033] Trial 52 finished with value: 0.7804877758026123 and parameters: {'hidden_dim': 32, 'num_layers': 1, 'optimizer_name': 'Adam', 'batch_size': 2048, 'learning_rate': 0.001, 'sentence_representation_type': 'max'}. Best is trial 50 with value: 0.7804877758026123.\n",
      "Seed set to 42\n"
     ]
    },
    {
     "name": "stdout",
     "output_type": "stream",
     "text": [
      "[Skipping] rnn/test/w2v-3b/batch_size_2048-lr_0.001-optimizer_Adam-hidden_dim_32-num_layers_1-sr_type_max-freeze_False\n",
      "---------- batch_size_2048; lr_0.001; optimizer_Adam; hidden_dim_32; num_layers_1; sentence_representation_max ----------\n"
     ]
    },
    {
     "name": "stderr",
     "output_type": "stream",
     "text": [
      "[I 2024-11-04 01:13:28,646] Trial 53 finished with value: 0.7804877758026123 and parameters: {'hidden_dim': 32, 'num_layers': 1, 'optimizer_name': 'Adam', 'batch_size': 2048, 'learning_rate': 0.001, 'sentence_representation_type': 'max'}. Best is trial 50 with value: 0.7804877758026123.\n",
      "Seed set to 42\n"
     ]
    },
    {
     "name": "stdout",
     "output_type": "stream",
     "text": [
      "[Skipping] rnn/test/w2v-3b/batch_size_2048-lr_0.001-optimizer_Adam-hidden_dim_32-num_layers_1-sr_type_max-freeze_False\n",
      "---------- batch_size_2048; lr_0.001; optimizer_Adam; hidden_dim_32; num_layers_1; sentence_representation_max ----------\n"
     ]
    },
    {
     "name": "stderr",
     "output_type": "stream",
     "text": [
      "[I 2024-11-04 01:13:29,225] Trial 54 finished with value: 0.7804877758026123 and parameters: {'hidden_dim': 32, 'num_layers': 1, 'optimizer_name': 'Adam', 'batch_size': 2048, 'learning_rate': 0.001, 'sentence_representation_type': 'max'}. Best is trial 50 with value: 0.7804877758026123.\n",
      "Seed set to 42\n"
     ]
    },
    {
     "name": "stdout",
     "output_type": "stream",
     "text": [
      "[Skipping] rnn/test/w2v-3b/batch_size_2048-lr_0.001-optimizer_Adam-hidden_dim_32-num_layers_1-sr_type_max-freeze_False\n",
      "---------- batch_size_2048; lr_0.001; optimizer_Adam; hidden_dim_32; num_layers_1; sentence_representation_max ----------\n"
     ]
    },
    {
     "name": "stderr",
     "output_type": "stream",
     "text": [
      "[I 2024-11-04 01:13:29,806] Trial 55 finished with value: 0.7804877758026123 and parameters: {'hidden_dim': 32, 'num_layers': 1, 'optimizer_name': 'Adam', 'batch_size': 2048, 'learning_rate': 0.001, 'sentence_representation_type': 'max'}. Best is trial 50 with value: 0.7804877758026123.\n",
      "Seed set to 42\n"
     ]
    },
    {
     "name": "stdout",
     "output_type": "stream",
     "text": [
      "[Skipping] rnn/test/w2v-3b/batch_size_2048-lr_0.001-optimizer_Adam-hidden_dim_32-num_layers_1-sr_type_max-freeze_False\n",
      "---------- batch_size_256; lr_0.001; optimizer_Adam; hidden_dim_32; num_layers_1; sentence_representation_max ----------\n"
     ]
    },
    {
     "name": "stderr",
     "output_type": "stream",
     "text": [
      "GPU available: True (cuda), used: False\n",
      "TPU available: False, using: 0 TPU cores\n",
      "HPU available: False, using: 0 HPUs\n",
      "\n",
      "  | Name   | Type               | Params | Mode \n",
      "------------------------------------------------------\n",
      "0 | model  | RNN                | 4.9 M  | train\n",
      "1 | metric | MulticlassAccuracy | 0      | train\n",
      "------------------------------------------------------\n",
      "4.9 M     Trainable params\n",
      "0         Non-trainable params\n",
      "4.9 M     Total params\n",
      "19.646    Total estimated model params size (MB)\n",
      "7         Modules in train mode\n",
      "0         Modules in eval mode\n"
     ]
    },
    {
     "data": {
      "application/vnd.jupyter.widget-view+json": {
       "model_id": "660b18702d5445838b4e21d97e5c342f",
       "version_major": 2,
       "version_minor": 0
      },
      "text/plain": [
       "Sanity Checking: |          | 0/? [00:00<?, ?it/s]"
      ]
     },
     "metadata": {},
     "output_type": "display_data"
    },
    {
     "data": {
      "application/vnd.jupyter.widget-view+json": {
       "model_id": "8c0d5e2d4ef1438cbacf5b39dd4f8df0",
       "version_major": 2,
       "version_minor": 0
      },
      "text/plain": [
       "Training: |          | 0/? [00:00<?, ?it/s]"
      ]
     },
     "metadata": {},
     "output_type": "display_data"
    },
    {
     "data": {
      "application/vnd.jupyter.widget-view+json": {
       "model_id": "7d84d8d87f6e47498638b25ff6dfb344",
       "version_major": 2,
       "version_minor": 0
      },
      "text/plain": [
       "Validation: |          | 0/? [00:00<?, ?it/s]"
      ]
     },
     "metadata": {},
     "output_type": "display_data"
    },
    {
     "data": {
      "application/vnd.jupyter.widget-view+json": {
       "model_id": "d9f2040f1cb04f3e9e717460beea4ee9",
       "version_major": 2,
       "version_minor": 0
      },
      "text/plain": [
       "Validation: |          | 0/? [00:00<?, ?it/s]"
      ]
     },
     "metadata": {},
     "output_type": "display_data"
    },
    {
     "data": {
      "application/vnd.jupyter.widget-view+json": {
       "model_id": "3ac1bc265be94695bbcbe55a14b384c5",
       "version_major": 2,
       "version_minor": 0
      },
      "text/plain": [
       "Validation: |          | 0/? [00:00<?, ?it/s]"
      ]
     },
     "metadata": {},
     "output_type": "display_data"
    },
    {
     "data": {
      "application/vnd.jupyter.widget-view+json": {
       "model_id": "97043927410641f19eed8b409ba54ea8",
       "version_major": 2,
       "version_minor": 0
      },
      "text/plain": [
       "Validation: |          | 0/? [00:00<?, ?it/s]"
      ]
     },
     "metadata": {},
     "output_type": "display_data"
    },
    {
     "data": {
      "application/vnd.jupyter.widget-view+json": {
       "model_id": "7146cf1d442c48bb9b53ad9e21af15df",
       "version_major": 2,
       "version_minor": 0
      },
      "text/plain": [
       "Validation: |          | 0/? [00:00<?, ?it/s]"
      ]
     },
     "metadata": {},
     "output_type": "display_data"
    },
    {
     "data": {
      "application/vnd.jupyter.widget-view+json": {
       "model_id": "34a1858d630c4317a0a5303d20caf105",
       "version_major": 2,
       "version_minor": 0
      },
      "text/plain": [
       "Validation: |          | 0/? [00:00<?, ?it/s]"
      ]
     },
     "metadata": {},
     "output_type": "display_data"
    },
    {
     "name": "stderr",
     "output_type": "stream",
     "text": [
      "[I 2024-11-04 01:14:21,114] Trial 56 finished with value: 0.47315362095832825 and parameters: {'hidden_dim': 32, 'num_layers': 1, 'optimizer_name': 'Adam', 'batch_size': 256, 'learning_rate': 0.001, 'sentence_representation_type': 'max'}. Best is trial 50 with value: 0.7804877758026123.\n",
      "Seed set to 42\n"
     ]
    },
    {
     "name": "stdout",
     "output_type": "stream",
     "text": [
      "---------- batch_size_2048; lr_0.001; optimizer_Adam; hidden_dim_32; num_layers_1; sentence_representation_max ----------\n"
     ]
    },
    {
     "name": "stderr",
     "output_type": "stream",
     "text": [
      "[I 2024-11-04 01:14:21,840] Trial 57 finished with value: 0.7804877758026123 and parameters: {'hidden_dim': 32, 'num_layers': 1, 'optimizer_name': 'Adam', 'batch_size': 2048, 'learning_rate': 0.001, 'sentence_representation_type': 'max'}. Best is trial 50 with value: 0.7804877758026123.\n",
      "Seed set to 42\n"
     ]
    },
    {
     "name": "stdout",
     "output_type": "stream",
     "text": [
      "[Skipping] rnn/test/w2v-3b/batch_size_2048-lr_0.001-optimizer_Adam-hidden_dim_32-num_layers_1-sr_type_max-freeze_False\n",
      "---------- batch_size_2048; lr_0.001; optimizer_Adam; hidden_dim_32; num_layers_1; sentence_representation_max ----------\n"
     ]
    },
    {
     "name": "stderr",
     "output_type": "stream",
     "text": [
      "[I 2024-11-04 01:14:22,554] Trial 58 finished with value: 0.7804877758026123 and parameters: {'hidden_dim': 32, 'num_layers': 1, 'optimizer_name': 'Adam', 'batch_size': 2048, 'learning_rate': 0.001, 'sentence_representation_type': 'max'}. Best is trial 50 with value: 0.7804877758026123.\n",
      "Seed set to 42\n"
     ]
    },
    {
     "name": "stdout",
     "output_type": "stream",
     "text": [
      "[Skipping] rnn/test/w2v-3b/batch_size_2048-lr_0.001-optimizer_Adam-hidden_dim_32-num_layers_1-sr_type_max-freeze_False\n",
      "---------- batch_size_1024; lr_0.001; optimizer_Adam; hidden_dim_32; num_layers_2; sentence_representation_max ----------\n"
     ]
    },
    {
     "name": "stderr",
     "output_type": "stream",
     "text": [
      "GPU available: True (cuda), used: False\n",
      "TPU available: False, using: 0 TPU cores\n",
      "HPU available: False, using: 0 HPUs\n",
      "\n",
      "  | Name   | Type               | Params | Mode \n",
      "------------------------------------------------------\n",
      "0 | model  | RNN                | 4.9 M  | train\n",
      "1 | metric | MulticlassAccuracy | 0      | train\n",
      "------------------------------------------------------\n",
      "4.9 M     Trainable params\n",
      "0         Non-trainable params\n",
      "4.9 M     Total params\n",
      "19.654    Total estimated model params size (MB)\n",
      "7         Modules in train mode\n",
      "0         Modules in eval mode\n"
     ]
    },
    {
     "data": {
      "application/vnd.jupyter.widget-view+json": {
       "model_id": "d337d9fa52d94affa987a14c9935c141",
       "version_major": 2,
       "version_minor": 0
      },
      "text/plain": [
       "Sanity Checking: |          | 0/? [00:00<?, ?it/s]"
      ]
     },
     "metadata": {},
     "output_type": "display_data"
    },
    {
     "data": {
      "application/vnd.jupyter.widget-view+json": {
       "model_id": "2bfb462dc45447ee870f82e04ed5c9c9",
       "version_major": 2,
       "version_minor": 0
      },
      "text/plain": [
       "Training: |          | 0/? [00:00<?, ?it/s]"
      ]
     },
     "metadata": {},
     "output_type": "display_data"
    },
    {
     "data": {
      "application/vnd.jupyter.widget-view+json": {
       "model_id": "3bb1a956629249d380fbcce67bfa0a3b",
       "version_major": 2,
       "version_minor": 0
      },
      "text/plain": [
       "Validation: |          | 0/? [00:00<?, ?it/s]"
      ]
     },
     "metadata": {},
     "output_type": "display_data"
    },
    {
     "data": {
      "application/vnd.jupyter.widget-view+json": {
       "model_id": "cadc4981caa34e44abb7c4e71e2b5326",
       "version_major": 2,
       "version_minor": 0
      },
      "text/plain": [
       "Validation: |          | 0/? [00:00<?, ?it/s]"
      ]
     },
     "metadata": {},
     "output_type": "display_data"
    },
    {
     "data": {
      "application/vnd.jupyter.widget-view+json": {
       "model_id": "e0700b80e87b4028af2a6bad5bfc6101",
       "version_major": 2,
       "version_minor": 0
      },
      "text/plain": [
       "Validation: |          | 0/? [00:00<?, ?it/s]"
      ]
     },
     "metadata": {},
     "output_type": "display_data"
    },
    {
     "data": {
      "application/vnd.jupyter.widget-view+json": {
       "model_id": "6e68b8eff16448cda561b6b0a9db1d6f",
       "version_major": 2,
       "version_minor": 0
      },
      "text/plain": [
       "Validation: |          | 0/? [00:00<?, ?it/s]"
      ]
     },
     "metadata": {},
     "output_type": "display_data"
    },
    {
     "data": {
      "application/vnd.jupyter.widget-view+json": {
       "model_id": "4e199a0b57c44c4b8f294a3763b4d5b4",
       "version_major": 2,
       "version_minor": 0
      },
      "text/plain": [
       "Validation: |          | 0/? [00:00<?, ?it/s]"
      ]
     },
     "metadata": {},
     "output_type": "display_data"
    },
    {
     "data": {
      "application/vnd.jupyter.widget-view+json": {
       "model_id": "5b575b87702c44bbb35c335ea2ebad10",
       "version_major": 2,
       "version_minor": 0
      },
      "text/plain": [
       "Validation: |          | 0/? [00:00<?, ?it/s]"
      ]
     },
     "metadata": {},
     "output_type": "display_data"
    },
    {
     "data": {
      "application/vnd.jupyter.widget-view+json": {
       "model_id": "74977758bc3044429d7954171437add1",
       "version_major": 2,
       "version_minor": 0
      },
      "text/plain": [
       "Validation: |          | 0/? [00:00<?, ?it/s]"
      ]
     },
     "metadata": {},
     "output_type": "display_data"
    },
    {
     "data": {
      "application/vnd.jupyter.widget-view+json": {
       "model_id": "62ac520e99bf46e6b855b70f775ff995",
       "version_major": 2,
       "version_minor": 0
      },
      "text/plain": [
       "Validation: |          | 0/? [00:00<?, ?it/s]"
      ]
     },
     "metadata": {},
     "output_type": "display_data"
    },
    {
     "data": {
      "application/vnd.jupyter.widget-view+json": {
       "model_id": "98fd083f12a94c2e8b89f4fd6dc2d5e8",
       "version_major": 2,
       "version_minor": 0
      },
      "text/plain": [
       "Validation: |          | 0/? [00:00<?, ?it/s]"
      ]
     },
     "metadata": {},
     "output_type": "display_data"
    },
    {
     "data": {
      "application/vnd.jupyter.widget-view+json": {
       "model_id": "46c4e31493394688a3a8ef1ea24512ce",
       "version_major": 2,
       "version_minor": 0
      },
      "text/plain": [
       "Validation: |          | 0/? [00:00<?, ?it/s]"
      ]
     },
     "metadata": {},
     "output_type": "display_data"
    },
    {
     "data": {
      "application/vnd.jupyter.widget-view+json": {
       "model_id": "63f89f0e606c46ca897848e3a1439fb1",
       "version_major": 2,
       "version_minor": 0
      },
      "text/plain": [
       "Validation: |          | 0/? [00:00<?, ?it/s]"
      ]
     },
     "metadata": {},
     "output_type": "display_data"
    },
    {
     "name": "stderr",
     "output_type": "stream",
     "text": [
      "[I 2024-11-04 01:15:22,903] Trial 59 finished with value: 0.7506759166717529 and parameters: {'hidden_dim': 32, 'num_layers': 2, 'optimizer_name': 'Adam', 'batch_size': 1024, 'learning_rate': 0.001, 'sentence_representation_type': 'max'}. Best is trial 50 with value: 0.7804877758026123.\n",
      "Seed set to 42\n"
     ]
    },
    {
     "name": "stdout",
     "output_type": "stream",
     "text": [
      "---------- batch_size_2048; lr_0.01; optimizer_Adam; hidden_dim_32; num_layers_1; sentence_representation_max ----------\n"
     ]
    },
    {
     "name": "stderr",
     "output_type": "stream",
     "text": [
      "GPU available: True (cuda), used: False\n",
      "TPU available: False, using: 0 TPU cores\n",
      "HPU available: False, using: 0 HPUs\n",
      "\n",
      "  | Name   | Type               | Params | Mode \n",
      "------------------------------------------------------\n",
      "0 | model  | RNN                | 4.9 M  | train\n",
      "1 | metric | MulticlassAccuracy | 0      | train\n",
      "------------------------------------------------------\n",
      "4.9 M     Trainable params\n",
      "0         Non-trainable params\n",
      "4.9 M     Total params\n",
      "19.646    Total estimated model params size (MB)\n",
      "7         Modules in train mode\n",
      "0         Modules in eval mode\n"
     ]
    },
    {
     "data": {
      "application/vnd.jupyter.widget-view+json": {
       "model_id": "9597c5a0ef3c46ba852cf35978212209",
       "version_major": 2,
       "version_minor": 0
      },
      "text/plain": [
       "Sanity Checking: |          | 0/? [00:00<?, ?it/s]"
      ]
     },
     "metadata": {},
     "output_type": "display_data"
    },
    {
     "data": {
      "application/vnd.jupyter.widget-view+json": {
       "model_id": "1f3f35c8d5be4494877bfc63520a9b28",
       "version_major": 2,
       "version_minor": 0
      },
      "text/plain": [
       "Training: |          | 0/? [00:00<?, ?it/s]"
      ]
     },
     "metadata": {},
     "output_type": "display_data"
    },
    {
     "data": {
      "application/vnd.jupyter.widget-view+json": {
       "model_id": "821300293487487985e3120cd9323fc8",
       "version_major": 2,
       "version_minor": 0
      },
      "text/plain": [
       "Validation: |          | 0/? [00:00<?, ?it/s]"
      ]
     },
     "metadata": {},
     "output_type": "display_data"
    },
    {
     "data": {
      "application/vnd.jupyter.widget-view+json": {
       "model_id": "c199f9dde2da4353947fb1521f889b2c",
       "version_major": 2,
       "version_minor": 0
      },
      "text/plain": [
       "Validation: |          | 0/? [00:00<?, ?it/s]"
      ]
     },
     "metadata": {},
     "output_type": "display_data"
    },
    {
     "data": {
      "application/vnd.jupyter.widget-view+json": {
       "model_id": "92610dd89b624c139e353431b48d5994",
       "version_major": 2,
       "version_minor": 0
      },
      "text/plain": [
       "Validation: |          | 0/? [00:00<?, ?it/s]"
      ]
     },
     "metadata": {},
     "output_type": "display_data"
    },
    {
     "data": {
      "application/vnd.jupyter.widget-view+json": {
       "model_id": "9d725c9e2ba84bc997cb62b08fc75ae2",
       "version_major": 2,
       "version_minor": 0
      },
      "text/plain": [
       "Validation: |          | 0/? [00:00<?, ?it/s]"
      ]
     },
     "metadata": {},
     "output_type": "display_data"
    },
    {
     "data": {
      "application/vnd.jupyter.widget-view+json": {
       "model_id": "708c19eb58644b54b09ca6310b2638fd",
       "version_major": 2,
       "version_minor": 0
      },
      "text/plain": [
       "Validation: |          | 0/? [00:00<?, ?it/s]"
      ]
     },
     "metadata": {},
     "output_type": "display_data"
    },
    {
     "data": {
      "application/vnd.jupyter.widget-view+json": {
       "model_id": "55f45b9318d2436b801fb12e64ddc2cf",
       "version_major": 2,
       "version_minor": 0
      },
      "text/plain": [
       "Validation: |          | 0/? [00:00<?, ?it/s]"
      ]
     },
     "metadata": {},
     "output_type": "display_data"
    },
    {
     "name": "stderr",
     "output_type": "stream",
     "text": [
      "[I 2024-11-04 01:16:10,637] Trial 60 finished with value: 0.7682926654815674 and parameters: {'hidden_dim': 32, 'num_layers': 1, 'optimizer_name': 'Adam', 'batch_size': 2048, 'learning_rate': 0.01, 'sentence_representation_type': 'max'}. Best is trial 50 with value: 0.7804877758026123.\n",
      "Seed set to 42\n"
     ]
    },
    {
     "name": "stdout",
     "output_type": "stream",
     "text": [
      "---------- batch_size_2048; lr_0.001; optimizer_Adam; hidden_dim_32; num_layers_1; sentence_representation_max ----------\n"
     ]
    },
    {
     "name": "stderr",
     "output_type": "stream",
     "text": [
      "[I 2024-11-04 01:16:11,364] Trial 61 finished with value: 0.7804877758026123 and parameters: {'hidden_dim': 32, 'num_layers': 1, 'optimizer_name': 'Adam', 'batch_size': 2048, 'learning_rate': 0.001, 'sentence_representation_type': 'max'}. Best is trial 50 with value: 0.7804877758026123.\n",
      "Seed set to 42\n"
     ]
    },
    {
     "name": "stdout",
     "output_type": "stream",
     "text": [
      "[Skipping] rnn/test/w2v-3b/batch_size_2048-lr_0.001-optimizer_Adam-hidden_dim_32-num_layers_1-sr_type_max-freeze_False\n",
      "---------- batch_size_2048; lr_0.001; optimizer_Adam; hidden_dim_32; num_layers_1; sentence_representation_max ----------\n"
     ]
    },
    {
     "name": "stderr",
     "output_type": "stream",
     "text": [
      "[I 2024-11-04 01:16:12,008] Trial 62 finished with value: 0.7804877758026123 and parameters: {'hidden_dim': 32, 'num_layers': 1, 'optimizer_name': 'Adam', 'batch_size': 2048, 'learning_rate': 0.001, 'sentence_representation_type': 'max'}. Best is trial 50 with value: 0.7804877758026123.\n",
      "Seed set to 42\n"
     ]
    },
    {
     "name": "stdout",
     "output_type": "stream",
     "text": [
      "[Skipping] rnn/test/w2v-3b/batch_size_2048-lr_0.001-optimizer_Adam-hidden_dim_32-num_layers_1-sr_type_max-freeze_False\n",
      "---------- batch_size_2048; lr_0.001; optimizer_Adam; hidden_dim_32; num_layers_1; sentence_representation_max ----------\n"
     ]
    },
    {
     "name": "stderr",
     "output_type": "stream",
     "text": [
      "[I 2024-11-04 01:16:12,660] Trial 63 finished with value: 0.7804877758026123 and parameters: {'hidden_dim': 32, 'num_layers': 1, 'optimizer_name': 'Adam', 'batch_size': 2048, 'learning_rate': 0.001, 'sentence_representation_type': 'max'}. Best is trial 50 with value: 0.7804877758026123.\n",
      "Seed set to 42\n"
     ]
    },
    {
     "name": "stdout",
     "output_type": "stream",
     "text": [
      "[Skipping] rnn/test/w2v-3b/batch_size_2048-lr_0.001-optimizer_Adam-hidden_dim_32-num_layers_1-sr_type_max-freeze_False\n",
      "---------- batch_size_2048; lr_0.001; optimizer_Adam; hidden_dim_32; num_layers_3; sentence_representation_max ----------\n"
     ]
    },
    {
     "name": "stderr",
     "output_type": "stream",
     "text": [
      "GPU available: True (cuda), used: False\n",
      "TPU available: False, using: 0 TPU cores\n",
      "HPU available: False, using: 0 HPUs\n",
      "\n",
      "  | Name   | Type               | Params | Mode \n",
      "------------------------------------------------------\n",
      "0 | model  | RNN                | 4.9 M  | train\n",
      "1 | metric | MulticlassAccuracy | 0      | train\n",
      "------------------------------------------------------\n",
      "4.9 M     Trainable params\n",
      "0         Non-trainable params\n",
      "4.9 M     Total params\n",
      "19.663    Total estimated model params size (MB)\n",
      "7         Modules in train mode\n",
      "0         Modules in eval mode\n"
     ]
    },
    {
     "data": {
      "application/vnd.jupyter.widget-view+json": {
       "model_id": "b20ef8e5f34244e39781fae15d34d1d2",
       "version_major": 2,
       "version_minor": 0
      },
      "text/plain": [
       "Sanity Checking: |          | 0/? [00:00<?, ?it/s]"
      ]
     },
     "metadata": {},
     "output_type": "display_data"
    },
    {
     "data": {
      "application/vnd.jupyter.widget-view+json": {
       "model_id": "255ea49c3e8447849fe06fb690d03087",
       "version_major": 2,
       "version_minor": 0
      },
      "text/plain": [
       "Training: |          | 0/? [00:00<?, ?it/s]"
      ]
     },
     "metadata": {},
     "output_type": "display_data"
    },
    {
     "data": {
      "application/vnd.jupyter.widget-view+json": {
       "model_id": "b2010734cfaa40efa81d2b3ad9af6847",
       "version_major": 2,
       "version_minor": 0
      },
      "text/plain": [
       "Validation: |          | 0/? [00:00<?, ?it/s]"
      ]
     },
     "metadata": {},
     "output_type": "display_data"
    },
    {
     "data": {
      "application/vnd.jupyter.widget-view+json": {
       "model_id": "9ff5700a50a24ca292218334b3a235cc",
       "version_major": 2,
       "version_minor": 0
      },
      "text/plain": [
       "Validation: |          | 0/? [00:00<?, ?it/s]"
      ]
     },
     "metadata": {},
     "output_type": "display_data"
    },
    {
     "data": {
      "application/vnd.jupyter.widget-view+json": {
       "model_id": "83967e103cbe40bb858fba4b3472bf92",
       "version_major": 2,
       "version_minor": 0
      },
      "text/plain": [
       "Validation: |          | 0/? [00:00<?, ?it/s]"
      ]
     },
     "metadata": {},
     "output_type": "display_data"
    },
    {
     "data": {
      "application/vnd.jupyter.widget-view+json": {
       "model_id": "bb0dca323c0e4453bd256b4e4781587f",
       "version_major": 2,
       "version_minor": 0
      },
      "text/plain": [
       "Validation: |          | 0/? [00:00<?, ?it/s]"
      ]
     },
     "metadata": {},
     "output_type": "display_data"
    },
    {
     "data": {
      "application/vnd.jupyter.widget-view+json": {
       "model_id": "c9abb2931c51433a98ad808bdb174dc1",
       "version_major": 2,
       "version_minor": 0
      },
      "text/plain": [
       "Validation: |          | 0/? [00:00<?, ?it/s]"
      ]
     },
     "metadata": {},
     "output_type": "display_data"
    },
    {
     "data": {
      "application/vnd.jupyter.widget-view+json": {
       "model_id": "e31d7a22a065406cb1a00861c800f227",
       "version_major": 2,
       "version_minor": 0
      },
      "text/plain": [
       "Validation: |          | 0/? [00:00<?, ?it/s]"
      ]
     },
     "metadata": {},
     "output_type": "display_data"
    },
    {
     "data": {
      "application/vnd.jupyter.widget-view+json": {
       "model_id": "b90ae3b8e23a43c5996fe0bf8cd290ad",
       "version_major": 2,
       "version_minor": 0
      },
      "text/plain": [
       "Validation: |          | 0/? [00:00<?, ?it/s]"
      ]
     },
     "metadata": {},
     "output_type": "display_data"
    },
    {
     "data": {
      "application/vnd.jupyter.widget-view+json": {
       "model_id": "d05c05e7d3e847df8340cfec19d94df8",
       "version_major": 2,
       "version_minor": 0
      },
      "text/plain": [
       "Validation: |          | 0/? [00:00<?, ?it/s]"
      ]
     },
     "metadata": {},
     "output_type": "display_data"
    },
    {
     "data": {
      "application/vnd.jupyter.widget-view+json": {
       "model_id": "c32b7e70f2c04c069e39afd1baf39b72",
       "version_major": 2,
       "version_minor": 0
      },
      "text/plain": [
       "Validation: |          | 0/? [00:00<?, ?it/s]"
      ]
     },
     "metadata": {},
     "output_type": "display_data"
    },
    {
     "data": {
      "application/vnd.jupyter.widget-view+json": {
       "model_id": "5a07cc773bba429089c2f7d0440ca22c",
       "version_major": 2,
       "version_minor": 0
      },
      "text/plain": [
       "Validation: |          | 0/? [00:00<?, ?it/s]"
      ]
     },
     "metadata": {},
     "output_type": "display_data"
    },
    {
     "data": {
      "application/vnd.jupyter.widget-view+json": {
       "model_id": "3a754c72034143039683504135b03da8",
       "version_major": 2,
       "version_minor": 0
      },
      "text/plain": [
       "Validation: |          | 0/? [00:00<?, ?it/s]"
      ]
     },
     "metadata": {},
     "output_type": "display_data"
    },
    {
     "name": "stderr",
     "output_type": "stream",
     "text": [
      "[I 2024-11-04 01:17:13,558] Trial 64 finished with value: 0.7429643869400024 and parameters: {'hidden_dim': 32, 'num_layers': 3, 'optimizer_name': 'Adam', 'batch_size': 2048, 'learning_rate': 0.001, 'sentence_representation_type': 'max'}. Best is trial 50 with value: 0.7804877758026123.\n",
      "Seed set to 42\n"
     ]
    },
    {
     "name": "stdout",
     "output_type": "stream",
     "text": [
      "---------- batch_size_512; lr_0.001; optimizer_Adam; hidden_dim_32; num_layers_1; sentence_representation_max ----------\n"
     ]
    },
    {
     "name": "stderr",
     "output_type": "stream",
     "text": [
      "GPU available: True (cuda), used: False\n",
      "TPU available: False, using: 0 TPU cores\n",
      "HPU available: False, using: 0 HPUs\n",
      "\n",
      "  | Name   | Type               | Params | Mode \n",
      "------------------------------------------------------\n",
      "0 | model  | RNN                | 4.9 M  | train\n",
      "1 | metric | MulticlassAccuracy | 0      | train\n",
      "------------------------------------------------------\n",
      "4.9 M     Trainable params\n",
      "0         Non-trainable params\n",
      "4.9 M     Total params\n",
      "19.646    Total estimated model params size (MB)\n",
      "7         Modules in train mode\n",
      "0         Modules in eval mode\n"
     ]
    },
    {
     "data": {
      "application/vnd.jupyter.widget-view+json": {
       "model_id": "c84ee0ac10c948dbb4ca85c6980d8d36",
       "version_major": 2,
       "version_minor": 0
      },
      "text/plain": [
       "Sanity Checking: |          | 0/? [00:00<?, ?it/s]"
      ]
     },
     "metadata": {},
     "output_type": "display_data"
    },
    {
     "data": {
      "application/vnd.jupyter.widget-view+json": {
       "model_id": "3908a5a889d14504b1ffd2c195c5484a",
       "version_major": 2,
       "version_minor": 0
      },
      "text/plain": [
       "Training: |          | 0/? [00:00<?, ?it/s]"
      ]
     },
     "metadata": {},
     "output_type": "display_data"
    },
    {
     "data": {
      "application/vnd.jupyter.widget-view+json": {
       "model_id": "20b0a5d0471449189f41e313a394716d",
       "version_major": 2,
       "version_minor": 0
      },
      "text/plain": [
       "Validation: |          | 0/? [00:00<?, ?it/s]"
      ]
     },
     "metadata": {},
     "output_type": "display_data"
    },
    {
     "data": {
      "application/vnd.jupyter.widget-view+json": {
       "model_id": "98aada49527a4b438df24ccce1954db9",
       "version_major": 2,
       "version_minor": 0
      },
      "text/plain": [
       "Validation: |          | 0/? [00:00<?, ?it/s]"
      ]
     },
     "metadata": {},
     "output_type": "display_data"
    },
    {
     "data": {
      "application/vnd.jupyter.widget-view+json": {
       "model_id": "64bcf15df13843f2868590405ac2a035",
       "version_major": 2,
       "version_minor": 0
      },
      "text/plain": [
       "Validation: |          | 0/? [00:00<?, ?it/s]"
      ]
     },
     "metadata": {},
     "output_type": "display_data"
    },
    {
     "data": {
      "application/vnd.jupyter.widget-view+json": {
       "model_id": "9f8bf718cf424737bf7e28609210a75b",
       "version_major": 2,
       "version_minor": 0
      },
      "text/plain": [
       "Validation: |          | 0/? [00:00<?, ?it/s]"
      ]
     },
     "metadata": {},
     "output_type": "display_data"
    },
    {
     "data": {
      "application/vnd.jupyter.widget-view+json": {
       "model_id": "0e35f54f07954a34b8d5a9988680523a",
       "version_major": 2,
       "version_minor": 0
      },
      "text/plain": [
       "Validation: |          | 0/? [00:00<?, ?it/s]"
      ]
     },
     "metadata": {},
     "output_type": "display_data"
    },
    {
     "data": {
      "application/vnd.jupyter.widget-view+json": {
       "model_id": "087edee53b3446e5af2732c17f8b3489",
       "version_major": 2,
       "version_minor": 0
      },
      "text/plain": [
       "Validation: |          | 0/? [00:00<?, ?it/s]"
      ]
     },
     "metadata": {},
     "output_type": "display_data"
    },
    {
     "data": {
      "application/vnd.jupyter.widget-view+json": {
       "model_id": "a61a3abb82b64a7ca8e43e81995336d6",
       "version_major": 2,
       "version_minor": 0
      },
      "text/plain": [
       "Validation: |          | 0/? [00:00<?, ?it/s]"
      ]
     },
     "metadata": {},
     "output_type": "display_data"
    },
    {
     "data": {
      "application/vnd.jupyter.widget-view+json": {
       "model_id": "1ee1c308937f49ea9b42119e3b053b6b",
       "version_major": 2,
       "version_minor": 0
      },
      "text/plain": [
       "Validation: |          | 0/? [00:00<?, ?it/s]"
      ]
     },
     "metadata": {},
     "output_type": "display_data"
    },
    {
     "name": "stderr",
     "output_type": "stream",
     "text": [
      "[I 2024-11-04 01:18:02,249] Trial 65 finished with value: 0.5451443195343018 and parameters: {'hidden_dim': 32, 'num_layers': 1, 'optimizer_name': 'Adam', 'batch_size': 512, 'learning_rate': 0.001, 'sentence_representation_type': 'max'}. Best is trial 50 with value: 0.7804877758026123.\n",
      "Seed set to 42\n"
     ]
    },
    {
     "name": "stdout",
     "output_type": "stream",
     "text": [
      "---------- batch_size_2048; lr_0.0001; optimizer_Adam; hidden_dim_32; num_layers_1; sentence_representation_max ----------\n"
     ]
    },
    {
     "name": "stderr",
     "output_type": "stream",
     "text": [
      "GPU available: True (cuda), used: False\n",
      "TPU available: False, using: 0 TPU cores\n",
      "HPU available: False, using: 0 HPUs\n",
      "\n",
      "  | Name   | Type               | Params | Mode \n",
      "------------------------------------------------------\n",
      "0 | model  | RNN                | 4.9 M  | train\n",
      "1 | metric | MulticlassAccuracy | 0      | train\n",
      "------------------------------------------------------\n",
      "4.9 M     Trainable params\n",
      "0         Non-trainable params\n",
      "4.9 M     Total params\n",
      "19.646    Total estimated model params size (MB)\n",
      "7         Modules in train mode\n",
      "0         Modules in eval mode\n"
     ]
    },
    {
     "data": {
      "application/vnd.jupyter.widget-view+json": {
       "model_id": "70ca76f489bd42f39eeb1f505dd2156e",
       "version_major": 2,
       "version_minor": 0
      },
      "text/plain": [
       "Sanity Checking: |          | 0/? [00:00<?, ?it/s]"
      ]
     },
     "metadata": {},
     "output_type": "display_data"
    },
    {
     "data": {
      "application/vnd.jupyter.widget-view+json": {
       "model_id": "58d4d615da7244f882b53ba183073f82",
       "version_major": 2,
       "version_minor": 0
      },
      "text/plain": [
       "Training: |          | 0/? [00:00<?, ?it/s]"
      ]
     },
     "metadata": {},
     "output_type": "display_data"
    },
    {
     "data": {
      "application/vnd.jupyter.widget-view+json": {
       "model_id": "d46b4c2f16cb4b26815ea268eb1d097c",
       "version_major": 2,
       "version_minor": 0
      },
      "text/plain": [
       "Validation: |          | 0/? [00:00<?, ?it/s]"
      ]
     },
     "metadata": {},
     "output_type": "display_data"
    },
    {
     "data": {
      "application/vnd.jupyter.widget-view+json": {
       "model_id": "e9a6cb364640412da78d30a027959e33",
       "version_major": 2,
       "version_minor": 0
      },
      "text/plain": [
       "Validation: |          | 0/? [00:00<?, ?it/s]"
      ]
     },
     "metadata": {},
     "output_type": "display_data"
    },
    {
     "data": {
      "application/vnd.jupyter.widget-view+json": {
       "model_id": "ccc5839f2cf64738810b18db4acb94b5",
       "version_major": 2,
       "version_minor": 0
      },
      "text/plain": [
       "Validation: |          | 0/? [00:00<?, ?it/s]"
      ]
     },
     "metadata": {},
     "output_type": "display_data"
    },
    {
     "data": {
      "application/vnd.jupyter.widget-view+json": {
       "model_id": "4d3e72b01c4f4fd8b0911d94adb68d71",
       "version_major": 2,
       "version_minor": 0
      },
      "text/plain": [
       "Validation: |          | 0/? [00:00<?, ?it/s]"
      ]
     },
     "metadata": {},
     "output_type": "display_data"
    },
    {
     "data": {
      "application/vnd.jupyter.widget-view+json": {
       "model_id": "46c2568c0e294ee6afcbe3c0a266f48b",
       "version_major": 2,
       "version_minor": 0
      },
      "text/plain": [
       "Validation: |          | 0/? [00:00<?, ?it/s]"
      ]
     },
     "metadata": {},
     "output_type": "display_data"
    },
    {
     "data": {
      "application/vnd.jupyter.widget-view+json": {
       "model_id": "604fb897428044c9b32d049aff73b3ae",
       "version_major": 2,
       "version_minor": 0
      },
      "text/plain": [
       "Validation: |          | 0/? [00:00<?, ?it/s]"
      ]
     },
     "metadata": {},
     "output_type": "display_data"
    },
    {
     "data": {
      "application/vnd.jupyter.widget-view+json": {
       "model_id": "5e30ec8a6e7744678b82380037244b62",
       "version_major": 2,
       "version_minor": 0
      },
      "text/plain": [
       "Validation: |          | 0/? [00:00<?, ?it/s]"
      ]
     },
     "metadata": {},
     "output_type": "display_data"
    },
    {
     "data": {
      "application/vnd.jupyter.widget-view+json": {
       "model_id": "163fbd79f0f8472c8b7ca2c3fa911d6d",
       "version_major": 2,
       "version_minor": 0
      },
      "text/plain": [
       "Validation: |          | 0/? [00:00<?, ?it/s]"
      ]
     },
     "metadata": {},
     "output_type": "display_data"
    },
    {
     "data": {
      "application/vnd.jupyter.widget-view+json": {
       "model_id": "36ac040bf7ec463488bb94a04880dd06",
       "version_major": 2,
       "version_minor": 0
      },
      "text/plain": [
       "Validation: |          | 0/? [00:00<?, ?it/s]"
      ]
     },
     "metadata": {},
     "output_type": "display_data"
    },
    {
     "data": {
      "application/vnd.jupyter.widget-view+json": {
       "model_id": "2d3e80140ef24cafb7e5febdfd9dcba6",
       "version_major": 2,
       "version_minor": 0
      },
      "text/plain": [
       "Validation: |          | 0/? [00:00<?, ?it/s]"
      ]
     },
     "metadata": {},
     "output_type": "display_data"
    },
    {
     "data": {
      "application/vnd.jupyter.widget-view+json": {
       "model_id": "6deb0c7684e748d6bed3ba8fd0ddf54a",
       "version_major": 2,
       "version_minor": 0
      },
      "text/plain": [
       "Validation: |          | 0/? [00:00<?, ?it/s]"
      ]
     },
     "metadata": {},
     "output_type": "display_data"
    },
    {
     "data": {
      "application/vnd.jupyter.widget-view+json": {
       "model_id": "d10714b98fb347a8940828804fc810d0",
       "version_major": 2,
       "version_minor": 0
      },
      "text/plain": [
       "Validation: |          | 0/? [00:00<?, ?it/s]"
      ]
     },
     "metadata": {},
     "output_type": "display_data"
    },
    {
     "data": {
      "application/vnd.jupyter.widget-view+json": {
       "model_id": "da6a8150f49b403d88c7e735c8868abf",
       "version_major": 2,
       "version_minor": 0
      },
      "text/plain": [
       "Validation: |          | 0/? [00:00<?, ?it/s]"
      ]
     },
     "metadata": {},
     "output_type": "display_data"
    },
    {
     "data": {
      "application/vnd.jupyter.widget-view+json": {
       "model_id": "e248c824fcfa4467bc244762a4a18118",
       "version_major": 2,
       "version_minor": 0
      },
      "text/plain": [
       "Validation: |          | 0/? [00:00<?, ?it/s]"
      ]
     },
     "metadata": {},
     "output_type": "display_data"
    },
    {
     "data": {
      "application/vnd.jupyter.widget-view+json": {
       "model_id": "c83a92bbe9414d4085e8fd459c480098",
       "version_major": 2,
       "version_minor": 0
      },
      "text/plain": [
       "Validation: |          | 0/? [00:00<?, ?it/s]"
      ]
     },
     "metadata": {},
     "output_type": "display_data"
    },
    {
     "data": {
      "application/vnd.jupyter.widget-view+json": {
       "model_id": "36d84fbeed9b4ff88170c0b521b22198",
       "version_major": 2,
       "version_minor": 0
      },
      "text/plain": [
       "Validation: |          | 0/? [00:00<?, ?it/s]"
      ]
     },
     "metadata": {},
     "output_type": "display_data"
    },
    {
     "data": {
      "application/vnd.jupyter.widget-view+json": {
       "model_id": "e5f3511e97864c929d306b10166b4513",
       "version_major": 2,
       "version_minor": 0
      },
      "text/plain": [
       "Validation: |          | 0/? [00:00<?, ?it/s]"
      ]
     },
     "metadata": {},
     "output_type": "display_data"
    },
    {
     "data": {
      "application/vnd.jupyter.widget-view+json": {
       "model_id": "b1003cffca77433d9964691c1cd54ce9",
       "version_major": 2,
       "version_minor": 0
      },
      "text/plain": [
       "Validation: |          | 0/? [00:00<?, ?it/s]"
      ]
     },
     "metadata": {},
     "output_type": "display_data"
    },
    {
     "data": {
      "application/vnd.jupyter.widget-view+json": {
       "model_id": "061290f5a5e443428f5ca14f98885d11",
       "version_major": 2,
       "version_minor": 0
      },
      "text/plain": [
       "Validation: |          | 0/? [00:00<?, ?it/s]"
      ]
     },
     "metadata": {},
     "output_type": "display_data"
    },
    {
     "data": {
      "application/vnd.jupyter.widget-view+json": {
       "model_id": "e66ede71f82f4893af3e15b7ce0df29f",
       "version_major": 2,
       "version_minor": 0
      },
      "text/plain": [
       "Validation: |          | 0/? [00:00<?, ?it/s]"
      ]
     },
     "metadata": {},
     "output_type": "display_data"
    },
    {
     "data": {
      "application/vnd.jupyter.widget-view+json": {
       "model_id": "2e60ce567a374ae6a431d3c90abfbc54",
       "version_major": 2,
       "version_minor": 0
      },
      "text/plain": [
       "Validation: |          | 0/? [00:00<?, ?it/s]"
      ]
     },
     "metadata": {},
     "output_type": "display_data"
    },
    {
     "data": {
      "application/vnd.jupyter.widget-view+json": {
       "model_id": "2b4e42581f91470894747c37adb50cc1",
       "version_major": 2,
       "version_minor": 0
      },
      "text/plain": [
       "Validation: |          | 0/? [00:00<?, ?it/s]"
      ]
     },
     "metadata": {},
     "output_type": "display_data"
    },
    {
     "data": {
      "application/vnd.jupyter.widget-view+json": {
       "model_id": "6d6e64864cd7474493b8f1184bcc3647",
       "version_major": 2,
       "version_minor": 0
      },
      "text/plain": [
       "Validation: |          | 0/? [00:00<?, ?it/s]"
      ]
     },
     "metadata": {},
     "output_type": "display_data"
    },
    {
     "data": {
      "application/vnd.jupyter.widget-view+json": {
       "model_id": "a93ce04d8cbd41c294edbdc085e65d7c",
       "version_major": 2,
       "version_minor": 0
      },
      "text/plain": [
       "Validation: |          | 0/? [00:00<?, ?it/s]"
      ]
     },
     "metadata": {},
     "output_type": "display_data"
    },
    {
     "data": {
      "application/vnd.jupyter.widget-view+json": {
       "model_id": "f33773e128b747e0a2c54b5eb250aee4",
       "version_major": 2,
       "version_minor": 0
      },
      "text/plain": [
       "Validation: |          | 0/? [00:00<?, ?it/s]"
      ]
     },
     "metadata": {},
     "output_type": "display_data"
    },
    {
     "data": {
      "application/vnd.jupyter.widget-view+json": {
       "model_id": "972e77a1997442f795ba13a5829770f1",
       "version_major": 2,
       "version_minor": 0
      },
      "text/plain": [
       "Validation: |          | 0/? [00:00<?, ?it/s]"
      ]
     },
     "metadata": {},
     "output_type": "display_data"
    },
    {
     "data": {
      "application/vnd.jupyter.widget-view+json": {
       "model_id": "6201604e4ff2467fabc3810caff8fbb4",
       "version_major": 2,
       "version_minor": 0
      },
      "text/plain": [
       "Validation: |          | 0/? [00:00<?, ?it/s]"
      ]
     },
     "metadata": {},
     "output_type": "display_data"
    },
    {
     "data": {
      "application/vnd.jupyter.widget-view+json": {
       "model_id": "49053db638e54fe0ab1ad3a43d48da16",
       "version_major": 2,
       "version_minor": 0
      },
      "text/plain": [
       "Validation: |          | 0/? [00:00<?, ?it/s]"
      ]
     },
     "metadata": {},
     "output_type": "display_data"
    },
    {
     "data": {
      "application/vnd.jupyter.widget-view+json": {
       "model_id": "b9b7f81d955942f9ba61413ac075a513",
       "version_major": 2,
       "version_minor": 0
      },
      "text/plain": [
       "Validation: |          | 0/? [00:00<?, ?it/s]"
      ]
     },
     "metadata": {},
     "output_type": "display_data"
    },
    {
     "data": {
      "application/vnd.jupyter.widget-view+json": {
       "model_id": "91ac526d9962423bafa4616beeb4b146",
       "version_major": 2,
       "version_minor": 0
      },
      "text/plain": [
       "Validation: |          | 0/? [00:00<?, ?it/s]"
      ]
     },
     "metadata": {},
     "output_type": "display_data"
    },
    {
     "data": {
      "application/vnd.jupyter.widget-view+json": {
       "model_id": "d128b34888534ba6a66d77ee48b34ff4",
       "version_major": 2,
       "version_minor": 0
      },
      "text/plain": [
       "Validation: |          | 0/? [00:00<?, ?it/s]"
      ]
     },
     "metadata": {},
     "output_type": "display_data"
    },
    {
     "data": {
      "application/vnd.jupyter.widget-view+json": {
       "model_id": "124678d8e5964e2982f3f9373b8fe6a8",
       "version_major": 2,
       "version_minor": 0
      },
      "text/plain": [
       "Validation: |          | 0/? [00:00<?, ?it/s]"
      ]
     },
     "metadata": {},
     "output_type": "display_data"
    },
    {
     "data": {
      "application/vnd.jupyter.widget-view+json": {
       "model_id": "0ed88356723c4b9baf31c0d665f9a84d",
       "version_major": 2,
       "version_minor": 0
      },
      "text/plain": [
       "Validation: |          | 0/? [00:00<?, ?it/s]"
      ]
     },
     "metadata": {},
     "output_type": "display_data"
    },
    {
     "data": {
      "application/vnd.jupyter.widget-view+json": {
       "model_id": "22f4a0acd73543019e9ab91a2c2569a0",
       "version_major": 2,
       "version_minor": 0
      },
      "text/plain": [
       "Validation: |          | 0/? [00:00<?, ?it/s]"
      ]
     },
     "metadata": {},
     "output_type": "display_data"
    },
    {
     "data": {
      "application/vnd.jupyter.widget-view+json": {
       "model_id": "76229d8d5429417c8e430a9947a35523",
       "version_major": 2,
       "version_minor": 0
      },
      "text/plain": [
       "Validation: |          | 0/? [00:00<?, ?it/s]"
      ]
     },
     "metadata": {},
     "output_type": "display_data"
    },
    {
     "data": {
      "application/vnd.jupyter.widget-view+json": {
       "model_id": "6f122496e01e49cbbd1bd10e1decdb84",
       "version_major": 2,
       "version_minor": 0
      },
      "text/plain": [
       "Validation: |          | 0/? [00:00<?, ?it/s]"
      ]
     },
     "metadata": {},
     "output_type": "display_data"
    },
    {
     "data": {
      "application/vnd.jupyter.widget-view+json": {
       "model_id": "9806e3e79b934a3bb775e4bef4e399f2",
       "version_major": 2,
       "version_minor": 0
      },
      "text/plain": [
       "Validation: |          | 0/? [00:00<?, ?it/s]"
      ]
     },
     "metadata": {},
     "output_type": "display_data"
    },
    {
     "data": {
      "application/vnd.jupyter.widget-view+json": {
       "model_id": "d63d909942664221951ad595e6451cf1",
       "version_major": 2,
       "version_minor": 0
      },
      "text/plain": [
       "Validation: |          | 0/? [00:00<?, ?it/s]"
      ]
     },
     "metadata": {},
     "output_type": "display_data"
    },
    {
     "data": {
      "application/vnd.jupyter.widget-view+json": {
       "model_id": "0782b13345e3433ca4b2c4e2d11fdb1b",
       "version_major": 2,
       "version_minor": 0
      },
      "text/plain": [
       "Validation: |          | 0/? [00:00<?, ?it/s]"
      ]
     },
     "metadata": {},
     "output_type": "display_data"
    },
    {
     "data": {
      "application/vnd.jupyter.widget-view+json": {
       "model_id": "e0d2fef006b348da91b52e43fffd671d",
       "version_major": 2,
       "version_minor": 0
      },
      "text/plain": [
       "Validation: |          | 0/? [00:00<?, ?it/s]"
      ]
     },
     "metadata": {},
     "output_type": "display_data"
    },
    {
     "data": {
      "application/vnd.jupyter.widget-view+json": {
       "model_id": "0d17c0e035e540d6a0db3d4d25d63996",
       "version_major": 2,
       "version_minor": 0
      },
      "text/plain": [
       "Validation: |          | 0/? [00:00<?, ?it/s]"
      ]
     },
     "metadata": {},
     "output_type": "display_data"
    },
    {
     "data": {
      "application/vnd.jupyter.widget-view+json": {
       "model_id": "042fa014395e4e368928a6e50db65c08",
       "version_major": 2,
       "version_minor": 0
      },
      "text/plain": [
       "Validation: |          | 0/? [00:00<?, ?it/s]"
      ]
     },
     "metadata": {},
     "output_type": "display_data"
    },
    {
     "data": {
      "application/vnd.jupyter.widget-view+json": {
       "model_id": "b4330a2868bf4164aa1e9d984a98e977",
       "version_major": 2,
       "version_minor": 0
      },
      "text/plain": [
       "Validation: |          | 0/? [00:00<?, ?it/s]"
      ]
     },
     "metadata": {},
     "output_type": "display_data"
    },
    {
     "data": {
      "application/vnd.jupyter.widget-view+json": {
       "model_id": "bebf787e5031432499782518fc1a20d1",
       "version_major": 2,
       "version_minor": 0
      },
      "text/plain": [
       "Validation: |          | 0/? [00:00<?, ?it/s]"
      ]
     },
     "metadata": {},
     "output_type": "display_data"
    },
    {
     "data": {
      "application/vnd.jupyter.widget-view+json": {
       "model_id": "164b0ffc659241fdb604d79cb57022d7",
       "version_major": 2,
       "version_minor": 0
      },
      "text/plain": [
       "Validation: |          | 0/? [00:00<?, ?it/s]"
      ]
     },
     "metadata": {},
     "output_type": "display_data"
    },
    {
     "data": {
      "application/vnd.jupyter.widget-view+json": {
       "model_id": "519e439cca7044758a78a1b8e1a8d704",
       "version_major": 2,
       "version_minor": 0
      },
      "text/plain": [
       "Validation: |          | 0/? [00:00<?, ?it/s]"
      ]
     },
     "metadata": {},
     "output_type": "display_data"
    },
    {
     "data": {
      "application/vnd.jupyter.widget-view+json": {
       "model_id": "813aa1bf18b64a898eda09d2ec5ce361",
       "version_major": 2,
       "version_minor": 0
      },
      "text/plain": [
       "Validation: |          | 0/? [00:00<?, ?it/s]"
      ]
     },
     "metadata": {},
     "output_type": "display_data"
    },
    {
     "data": {
      "application/vnd.jupyter.widget-view+json": {
       "model_id": "d9fa7e0cc6f2415ba54b59e83db3a735",
       "version_major": 2,
       "version_minor": 0
      },
      "text/plain": [
       "Validation: |          | 0/? [00:00<?, ?it/s]"
      ]
     },
     "metadata": {},
     "output_type": "display_data"
    },
    {
     "data": {
      "application/vnd.jupyter.widget-view+json": {
       "model_id": "ce4410a60ca94599a497f8e26ccd6e50",
       "version_major": 2,
       "version_minor": 0
      },
      "text/plain": [
       "Validation: |          | 0/? [00:00<?, ?it/s]"
      ]
     },
     "metadata": {},
     "output_type": "display_data"
    },
    {
     "data": {
      "application/vnd.jupyter.widget-view+json": {
       "model_id": "1853963672f541dea59b75668e7a47ad",
       "version_major": 2,
       "version_minor": 0
      },
      "text/plain": [
       "Validation: |          | 0/? [00:00<?, ?it/s]"
      ]
     },
     "metadata": {},
     "output_type": "display_data"
    },
    {
     "data": {
      "application/vnd.jupyter.widget-view+json": {
       "model_id": "3be6a6a3a5304b4c95e6a167dbcc4618",
       "version_major": 2,
       "version_minor": 0
      },
      "text/plain": [
       "Validation: |          | 0/? [00:00<?, ?it/s]"
      ]
     },
     "metadata": {},
     "output_type": "display_data"
    },
    {
     "data": {
      "application/vnd.jupyter.widget-view+json": {
       "model_id": "78fafd4eb1424e818f6fb493fe2d812d",
       "version_major": 2,
       "version_minor": 0
      },
      "text/plain": [
       "Validation: |          | 0/? [00:00<?, ?it/s]"
      ]
     },
     "metadata": {},
     "output_type": "display_data"
    },
    {
     "data": {
      "application/vnd.jupyter.widget-view+json": {
       "model_id": "8329a6a6ab0049fa85828c1da1269a1a",
       "version_major": 2,
       "version_minor": 0
      },
      "text/plain": [
       "Validation: |          | 0/? [00:00<?, ?it/s]"
      ]
     },
     "metadata": {},
     "output_type": "display_data"
    },
    {
     "data": {
      "application/vnd.jupyter.widget-view+json": {
       "model_id": "6a3690a1fbd2439fb3bcae82b54062d4",
       "version_major": 2,
       "version_minor": 0
      },
      "text/plain": [
       "Validation: |          | 0/? [00:00<?, ?it/s]"
      ]
     },
     "metadata": {},
     "output_type": "display_data"
    },
    {
     "data": {
      "application/vnd.jupyter.widget-view+json": {
       "model_id": "1396fde015f8400c8035d66e27f44384",
       "version_major": 2,
       "version_minor": 0
      },
      "text/plain": [
       "Validation: |          | 0/? [00:00<?, ?it/s]"
      ]
     },
     "metadata": {},
     "output_type": "display_data"
    },
    {
     "data": {
      "application/vnd.jupyter.widget-view+json": {
       "model_id": "0f14407af60a4eb295efc36f21980fa5",
       "version_major": 2,
       "version_minor": 0
      },
      "text/plain": [
       "Validation: |          | 0/? [00:00<?, ?it/s]"
      ]
     },
     "metadata": {},
     "output_type": "display_data"
    },
    {
     "data": {
      "application/vnd.jupyter.widget-view+json": {
       "model_id": "a3bc490ed99a4caea24d7d1ae420fa4e",
       "version_major": 2,
       "version_minor": 0
      },
      "text/plain": [
       "Validation: |          | 0/? [00:00<?, ?it/s]"
      ]
     },
     "metadata": {},
     "output_type": "display_data"
    },
    {
     "data": {
      "application/vnd.jupyter.widget-view+json": {
       "model_id": "a2c671aafc664b9686024a7dffa8fcd7",
       "version_major": 2,
       "version_minor": 0
      },
      "text/plain": [
       "Validation: |          | 0/? [00:00<?, ?it/s]"
      ]
     },
     "metadata": {},
     "output_type": "display_data"
    },
    {
     "data": {
      "application/vnd.jupyter.widget-view+json": {
       "model_id": "0b31275490ef4471859cb6a8670558d7",
       "version_major": 2,
       "version_minor": 0
      },
      "text/plain": [
       "Validation: |          | 0/? [00:00<?, ?it/s]"
      ]
     },
     "metadata": {},
     "output_type": "display_data"
    },
    {
     "data": {
      "application/vnd.jupyter.widget-view+json": {
       "model_id": "f228ea567fff4746a2c733fff2590569",
       "version_major": 2,
       "version_minor": 0
      },
      "text/plain": [
       "Validation: |          | 0/? [00:00<?, ?it/s]"
      ]
     },
     "metadata": {},
     "output_type": "display_data"
    },
    {
     "data": {
      "application/vnd.jupyter.widget-view+json": {
       "model_id": "98f873a482a045779d30968516b5a499",
       "version_major": 2,
       "version_minor": 0
      },
      "text/plain": [
       "Validation: |          | 0/? [00:00<?, ?it/s]"
      ]
     },
     "metadata": {},
     "output_type": "display_data"
    },
    {
     "data": {
      "application/vnd.jupyter.widget-view+json": {
       "model_id": "8cbd3d87e50a4a63ac8797ee3fdc849b",
       "version_major": 2,
       "version_minor": 0
      },
      "text/plain": [
       "Validation: |          | 0/? [00:00<?, ?it/s]"
      ]
     },
     "metadata": {},
     "output_type": "display_data"
    },
    {
     "data": {
      "application/vnd.jupyter.widget-view+json": {
       "model_id": "b06bd11207ed46abb1432c99a1ce2844",
       "version_major": 2,
       "version_minor": 0
      },
      "text/plain": [
       "Validation: |          | 0/? [00:00<?, ?it/s]"
      ]
     },
     "metadata": {},
     "output_type": "display_data"
    },
    {
     "data": {
      "application/vnd.jupyter.widget-view+json": {
       "model_id": "3fd824a4f0ec4f5a9247e9582758e216",
       "version_major": 2,
       "version_minor": 0
      },
      "text/plain": [
       "Validation: |          | 0/? [00:00<?, ?it/s]"
      ]
     },
     "metadata": {},
     "output_type": "display_data"
    },
    {
     "data": {
      "application/vnd.jupyter.widget-view+json": {
       "model_id": "0be87b501aa94e908daaa1a84a0a7068",
       "version_major": 2,
       "version_minor": 0
      },
      "text/plain": [
       "Validation: |          | 0/? [00:00<?, ?it/s]"
      ]
     },
     "metadata": {},
     "output_type": "display_data"
    },
    {
     "data": {
      "application/vnd.jupyter.widget-view+json": {
       "model_id": "ab620cd9469a4dbcb205e158c36adf5b",
       "version_major": 2,
       "version_minor": 0
      },
      "text/plain": [
       "Validation: |          | 0/? [00:00<?, ?it/s]"
      ]
     },
     "metadata": {},
     "output_type": "display_data"
    },
    {
     "data": {
      "application/vnd.jupyter.widget-view+json": {
       "model_id": "4a34a1ea7d284fd09481d4a2f632bd86",
       "version_major": 2,
       "version_minor": 0
      },
      "text/plain": [
       "Validation: |          | 0/? [00:00<?, ?it/s]"
      ]
     },
     "metadata": {},
     "output_type": "display_data"
    },
    {
     "data": {
      "application/vnd.jupyter.widget-view+json": {
       "model_id": "e7d341f018ff4f41a66743c63373ca70",
       "version_major": 2,
       "version_minor": 0
      },
      "text/plain": [
       "Validation: |          | 0/? [00:00<?, ?it/s]"
      ]
     },
     "metadata": {},
     "output_type": "display_data"
    },
    {
     "data": {
      "application/vnd.jupyter.widget-view+json": {
       "model_id": "0de5fdbae4624a9da146a5c874655f2a",
       "version_major": 2,
       "version_minor": 0
      },
      "text/plain": [
       "Validation: |          | 0/? [00:00<?, ?it/s]"
      ]
     },
     "metadata": {},
     "output_type": "display_data"
    },
    {
     "data": {
      "application/vnd.jupyter.widget-view+json": {
       "model_id": "e0ad7f5d6c3b484286396e85c1223b99",
       "version_major": 2,
       "version_minor": 0
      },
      "text/plain": [
       "Validation: |          | 0/? [00:00<?, ?it/s]"
      ]
     },
     "metadata": {},
     "output_type": "display_data"
    },
    {
     "data": {
      "application/vnd.jupyter.widget-view+json": {
       "model_id": "faf36856dfff4ebba6d778fc03eaafe7",
       "version_major": 2,
       "version_minor": 0
      },
      "text/plain": [
       "Validation: |          | 0/? [00:00<?, ?it/s]"
      ]
     },
     "metadata": {},
     "output_type": "display_data"
    },
    {
     "data": {
      "application/vnd.jupyter.widget-view+json": {
       "model_id": "d27cf930c3184242ac45faf04ecb17b5",
       "version_major": 2,
       "version_minor": 0
      },
      "text/plain": [
       "Validation: |          | 0/? [00:00<?, ?it/s]"
      ]
     },
     "metadata": {},
     "output_type": "display_data"
    },
    {
     "data": {
      "application/vnd.jupyter.widget-view+json": {
       "model_id": "0a4bf7d423cc47618bf5d595079d3752",
       "version_major": 2,
       "version_minor": 0
      },
      "text/plain": [
       "Validation: |          | 0/? [00:00<?, ?it/s]"
      ]
     },
     "metadata": {},
     "output_type": "display_data"
    },
    {
     "data": {
      "application/vnd.jupyter.widget-view+json": {
       "model_id": "cd740a251e5c4f8c97e5eb89489c5c36",
       "version_major": 2,
       "version_minor": 0
      },
      "text/plain": [
       "Validation: |          | 0/? [00:00<?, ?it/s]"
      ]
     },
     "metadata": {},
     "output_type": "display_data"
    },
    {
     "data": {
      "application/vnd.jupyter.widget-view+json": {
       "model_id": "c08562e724d44f15ae4f9519ce43c9d0",
       "version_major": 2,
       "version_minor": 0
      },
      "text/plain": [
       "Validation: |          | 0/? [00:00<?, ?it/s]"
      ]
     },
     "metadata": {},
     "output_type": "display_data"
    },
    {
     "data": {
      "application/vnd.jupyter.widget-view+json": {
       "model_id": "25ba2c2da0e341618be5e40d379f7df2",
       "version_major": 2,
       "version_minor": 0
      },
      "text/plain": [
       "Validation: |          | 0/? [00:00<?, ?it/s]"
      ]
     },
     "metadata": {},
     "output_type": "display_data"
    },
    {
     "name": "stderr",
     "output_type": "stream",
     "text": [
      "[I 2024-11-04 01:21:22,792] Trial 66 finished with value: 0.7682926654815674 and parameters: {'hidden_dim': 32, 'num_layers': 1, 'optimizer_name': 'Adam', 'batch_size': 2048, 'learning_rate': 0.0001, 'sentence_representation_type': 'max'}. Best is trial 50 with value: 0.7804877758026123.\n",
      "Seed set to 42\n"
     ]
    },
    {
     "name": "stdout",
     "output_type": "stream",
     "text": [
      "---------- batch_size_64; lr_0.001; optimizer_Adam; hidden_dim_32; num_layers_1; sentence_representation_last ----------\n"
     ]
    },
    {
     "name": "stderr",
     "output_type": "stream",
     "text": [
      "GPU available: True (cuda), used: False\n",
      "TPU available: False, using: 0 TPU cores\n",
      "HPU available: False, using: 0 HPUs\n",
      "\n",
      "  | Name   | Type               | Params | Mode \n",
      "------------------------------------------------------\n",
      "0 | model  | RNN                | 4.9 M  | train\n",
      "1 | metric | MulticlassAccuracy | 0      | train\n",
      "------------------------------------------------------\n",
      "4.9 M     Trainable params\n",
      "0         Non-trainable params\n",
      "4.9 M     Total params\n",
      "19.646    Total estimated model params size (MB)\n",
      "7         Modules in train mode\n",
      "0         Modules in eval mode\n"
     ]
    },
    {
     "data": {
      "application/vnd.jupyter.widget-view+json": {
       "model_id": "88b7fae1bd7d402082710af92ff39fb0",
       "version_major": 2,
       "version_minor": 0
      },
      "text/plain": [
       "Sanity Checking: |          | 0/? [00:00<?, ?it/s]"
      ]
     },
     "metadata": {},
     "output_type": "display_data"
    },
    {
     "data": {
      "application/vnd.jupyter.widget-view+json": {
       "model_id": "48d461d67f394b019023e737e7e32491",
       "version_major": 2,
       "version_minor": 0
      },
      "text/plain": [
       "Training: |          | 0/? [00:00<?, ?it/s]"
      ]
     },
     "metadata": {},
     "output_type": "display_data"
    },
    {
     "data": {
      "application/vnd.jupyter.widget-view+json": {
       "model_id": "fb5e5cf0a39a4ef2a2cd5e94c33af79f",
       "version_major": 2,
       "version_minor": 0
      },
      "text/plain": [
       "Validation: |          | 0/? [00:00<?, ?it/s]"
      ]
     },
     "metadata": {},
     "output_type": "display_data"
    },
    {
     "data": {
      "application/vnd.jupyter.widget-view+json": {
       "model_id": "396a0d596e8549d3907c65b21c03eb7a",
       "version_major": 2,
       "version_minor": 0
      },
      "text/plain": [
       "Validation: |          | 0/? [00:00<?, ?it/s]"
      ]
     },
     "metadata": {},
     "output_type": "display_data"
    },
    {
     "data": {
      "application/vnd.jupyter.widget-view+json": {
       "model_id": "94c138771d794b38afd5cce7d5d76443",
       "version_major": 2,
       "version_minor": 0
      },
      "text/plain": [
       "Validation: |          | 0/? [00:00<?, ?it/s]"
      ]
     },
     "metadata": {},
     "output_type": "display_data"
    },
    {
     "data": {
      "application/vnd.jupyter.widget-view+json": {
       "model_id": "561e6fb838b241a5b18a1bee5dcf212b",
       "version_major": 2,
       "version_minor": 0
      },
      "text/plain": [
       "Validation: |          | 0/? [00:00<?, ?it/s]"
      ]
     },
     "metadata": {},
     "output_type": "display_data"
    },
    {
     "data": {
      "application/vnd.jupyter.widget-view+json": {
       "model_id": "6adcbd9dd1704aa18d1069eae61b5077",
       "version_major": 2,
       "version_minor": 0
      },
      "text/plain": [
       "Validation: |          | 0/? [00:00<?, ?it/s]"
      ]
     },
     "metadata": {},
     "output_type": "display_data"
    },
    {
     "name": "stderr",
     "output_type": "stream",
     "text": [
      "[I 2024-11-04 01:22:27,938] Trial 67 finished with value: 0.4000813364982605 and parameters: {'hidden_dim': 32, 'num_layers': 1, 'optimizer_name': 'Adam', 'batch_size': 64, 'learning_rate': 0.001, 'sentence_representation_type': 'last'}. Best is trial 50 with value: 0.7804877758026123.\n",
      "Seed set to 42\n"
     ]
    },
    {
     "name": "stdout",
     "output_type": "stream",
     "text": [
      "---------- batch_size_32; lr_0.1; optimizer_Adam; hidden_dim_32; num_layers_1; sentence_representation_average ----------\n"
     ]
    },
    {
     "name": "stderr",
     "output_type": "stream",
     "text": [
      "GPU available: True (cuda), used: False\n",
      "TPU available: False, using: 0 TPU cores\n",
      "HPU available: False, using: 0 HPUs\n",
      "\n",
      "  | Name   | Type               | Params | Mode \n",
      "------------------------------------------------------\n",
      "0 | model  | RNN                | 4.9 M  | train\n",
      "1 | metric | MulticlassAccuracy | 0      | train\n",
      "------------------------------------------------------\n",
      "4.9 M     Trainable params\n",
      "0         Non-trainable params\n",
      "4.9 M     Total params\n",
      "19.646    Total estimated model params size (MB)\n",
      "7         Modules in train mode\n",
      "0         Modules in eval mode\n"
     ]
    },
    {
     "data": {
      "application/vnd.jupyter.widget-view+json": {
       "model_id": "1b0f16b13ebb46ef90edb58fbb442ef2",
       "version_major": 2,
       "version_minor": 0
      },
      "text/plain": [
       "Sanity Checking: |          | 0/? [00:00<?, ?it/s]"
      ]
     },
     "metadata": {},
     "output_type": "display_data"
    },
    {
     "data": {
      "application/vnd.jupyter.widget-view+json": {
       "model_id": "76e745532c034210838569fe4fcba6a6",
       "version_major": 2,
       "version_minor": 0
      },
      "text/plain": [
       "Training: |          | 0/? [00:00<?, ?it/s]"
      ]
     },
     "metadata": {},
     "output_type": "display_data"
    },
    {
     "data": {
      "application/vnd.jupyter.widget-view+json": {
       "model_id": "c05d235a992b41d0a27549361358e26f",
       "version_major": 2,
       "version_minor": 0
      },
      "text/plain": [
       "Validation: |          | 0/? [00:00<?, ?it/s]"
      ]
     },
     "metadata": {},
     "output_type": "display_data"
    },
    {
     "data": {
      "application/vnd.jupyter.widget-view+json": {
       "model_id": "57ff8fd11b09433d9b24e8db3fcdf634",
       "version_major": 2,
       "version_minor": 0
      },
      "text/plain": [
       "Validation: |          | 0/? [00:00<?, ?it/s]"
      ]
     },
     "metadata": {},
     "output_type": "display_data"
    },
    {
     "data": {
      "application/vnd.jupyter.widget-view+json": {
       "model_id": "2a55a9ae8d4846dcbf2c26ffe9727731",
       "version_major": 2,
       "version_minor": 0
      },
      "text/plain": [
       "Validation: |          | 0/? [00:00<?, ?it/s]"
      ]
     },
     "metadata": {},
     "output_type": "display_data"
    },
    {
     "data": {
      "application/vnd.jupyter.widget-view+json": {
       "model_id": "779854c4a95b410abe39c12454bcdc7d",
       "version_major": 2,
       "version_minor": 0
      },
      "text/plain": [
       "Validation: |          | 0/? [00:00<?, ?it/s]"
      ]
     },
     "metadata": {},
     "output_type": "display_data"
    },
    {
     "data": {
      "application/vnd.jupyter.widget-view+json": {
       "model_id": "e7be02f16fce47bb92d027636481311f",
       "version_major": 2,
       "version_minor": 0
      },
      "text/plain": [
       "Validation: |          | 0/? [00:00<?, ?it/s]"
      ]
     },
     "metadata": {},
     "output_type": "display_data"
    },
    {
     "data": {
      "application/vnd.jupyter.widget-view+json": {
       "model_id": "a21e9efdf1f7468aa5504699f5ad2455",
       "version_major": 2,
       "version_minor": 0
      },
      "text/plain": [
       "Validation: |          | 0/? [00:00<?, ?it/s]"
      ]
     },
     "metadata": {},
     "output_type": "display_data"
    },
    {
     "data": {
      "application/vnd.jupyter.widget-view+json": {
       "model_id": "c2e5db3fbd634d0d93469545829ee155",
       "version_major": 2,
       "version_minor": 0
      },
      "text/plain": [
       "Validation: |          | 0/? [00:00<?, ?it/s]"
      ]
     },
     "metadata": {},
     "output_type": "display_data"
    },
    {
     "name": "stderr",
     "output_type": "stream",
     "text": [
      "[I 2024-11-04 01:24:22,906] Trial 68 finished with value: 0.3396461308002472 and parameters: {'hidden_dim': 32, 'num_layers': 1, 'optimizer_name': 'Adam', 'batch_size': 32, 'learning_rate': 0.1, 'sentence_representation_type': 'average'}. Best is trial 50 with value: 0.7804877758026123.\n",
      "Seed set to 42\n"
     ]
    },
    {
     "name": "stdout",
     "output_type": "stream",
     "text": [
      "---------- batch_size_2048; lr_0.001; optimizer_Adam; hidden_dim_32; num_layers_1; sentence_representation_max ----------\n"
     ]
    },
    {
     "name": "stderr",
     "output_type": "stream",
     "text": [
      "[I 2024-11-04 01:24:23,628] Trial 69 finished with value: 0.7804877758026123 and parameters: {'hidden_dim': 32, 'num_layers': 1, 'optimizer_name': 'Adam', 'batch_size': 2048, 'learning_rate': 0.001, 'sentence_representation_type': 'max'}. Best is trial 50 with value: 0.7804877758026123.\n",
      "Seed set to 42\n"
     ]
    },
    {
     "name": "stdout",
     "output_type": "stream",
     "text": [
      "[Skipping] rnn/test/w2v-3b/batch_size_2048-lr_0.001-optimizer_Adam-hidden_dim_32-num_layers_1-sr_type_max-freeze_False\n",
      "---------- batch_size_128; lr_0.001; optimizer_Adam; hidden_dim_32; num_layers_1; sentence_representation_max ----------\n"
     ]
    },
    {
     "name": "stderr",
     "output_type": "stream",
     "text": [
      "GPU available: True (cuda), used: False\n",
      "TPU available: False, using: 0 TPU cores\n",
      "HPU available: False, using: 0 HPUs\n",
      "\n",
      "  | Name   | Type               | Params | Mode \n",
      "------------------------------------------------------\n",
      "0 | model  | RNN                | 4.9 M  | train\n",
      "1 | metric | MulticlassAccuracy | 0      | train\n",
      "------------------------------------------------------\n",
      "4.9 M     Trainable params\n",
      "0         Non-trainable params\n",
      "4.9 M     Total params\n",
      "19.646    Total estimated model params size (MB)\n",
      "7         Modules in train mode\n",
      "0         Modules in eval mode\n"
     ]
    },
    {
     "data": {
      "application/vnd.jupyter.widget-view+json": {
       "model_id": "e5820b1b426d44d0a9810ac630066c83",
       "version_major": 2,
       "version_minor": 0
      },
      "text/plain": [
       "Sanity Checking: |          | 0/? [00:00<?, ?it/s]"
      ]
     },
     "metadata": {},
     "output_type": "display_data"
    },
    {
     "data": {
      "application/vnd.jupyter.widget-view+json": {
       "model_id": "40097a86c2c44c45871969f1d689be70",
       "version_major": 2,
       "version_minor": 0
      },
      "text/plain": [
       "Training: |          | 0/? [00:00<?, ?it/s]"
      ]
     },
     "metadata": {},
     "output_type": "display_data"
    },
    {
     "data": {
      "application/vnd.jupyter.widget-view+json": {
       "model_id": "7f7bb356868c41c58e26e9d46810b25d",
       "version_major": 2,
       "version_minor": 0
      },
      "text/plain": [
       "Validation: |          | 0/? [00:00<?, ?it/s]"
      ]
     },
     "metadata": {},
     "output_type": "display_data"
    },
    {
     "data": {
      "application/vnd.jupyter.widget-view+json": {
       "model_id": "6e10e4d24a3d473fae2c263139e3284f",
       "version_major": 2,
       "version_minor": 0
      },
      "text/plain": [
       "Validation: |          | 0/? [00:00<?, ?it/s]"
      ]
     },
     "metadata": {},
     "output_type": "display_data"
    },
    {
     "data": {
      "application/vnd.jupyter.widget-view+json": {
       "model_id": "3e7a9eb0e7024b6dbef7cda325b02ad7",
       "version_major": 2,
       "version_minor": 0
      },
      "text/plain": [
       "Validation: |          | 0/? [00:00<?, ?it/s]"
      ]
     },
     "metadata": {},
     "output_type": "display_data"
    },
    {
     "data": {
      "application/vnd.jupyter.widget-view+json": {
       "model_id": "4b371b41e34744fb92d319aef50311d3",
       "version_major": 2,
       "version_minor": 0
      },
      "text/plain": [
       "Validation: |          | 0/? [00:00<?, ?it/s]"
      ]
     },
     "metadata": {},
     "output_type": "display_data"
    },
    {
     "data": {
      "application/vnd.jupyter.widget-view+json": {
       "model_id": "2ffedcc19fdc4b9283f45a89315c60fd",
       "version_major": 2,
       "version_minor": 0
      },
      "text/plain": [
       "Validation: |          | 0/? [00:00<?, ?it/s]"
      ]
     },
     "metadata": {},
     "output_type": "display_data"
    },
    {
     "name": "stderr",
     "output_type": "stream",
     "text": [
      "[I 2024-11-04 01:25:19,688] Trial 70 finished with value: 0.4298436939716339 and parameters: {'hidden_dim': 32, 'num_layers': 1, 'optimizer_name': 'Adam', 'batch_size': 128, 'learning_rate': 0.001, 'sentence_representation_type': 'max'}. Best is trial 50 with value: 0.7804877758026123.\n",
      "Seed set to 42\n"
     ]
    },
    {
     "name": "stdout",
     "output_type": "stream",
     "text": [
      "---------- batch_size_2048; lr_0.001; optimizer_Adam; hidden_dim_32; num_layers_1; sentence_representation_max ----------\n"
     ]
    },
    {
     "name": "stderr",
     "output_type": "stream",
     "text": [
      "[I 2024-11-04 01:25:20,377] Trial 71 finished with value: 0.7804877758026123 and parameters: {'hidden_dim': 32, 'num_layers': 1, 'optimizer_name': 'Adam', 'batch_size': 2048, 'learning_rate': 0.001, 'sentence_representation_type': 'max'}. Best is trial 50 with value: 0.7804877758026123.\n",
      "Seed set to 42\n"
     ]
    },
    {
     "name": "stdout",
     "output_type": "stream",
     "text": [
      "[Skipping] rnn/test/w2v-3b/batch_size_2048-lr_0.001-optimizer_Adam-hidden_dim_32-num_layers_1-sr_type_max-freeze_False\n",
      "---------- batch_size_2048; lr_0.001; optimizer_Adam; hidden_dim_32; num_layers_1; sentence_representation_max ----------\n"
     ]
    },
    {
     "name": "stderr",
     "output_type": "stream",
     "text": [
      "[I 2024-11-04 01:25:21,006] Trial 72 finished with value: 0.7804877758026123 and parameters: {'hidden_dim': 32, 'num_layers': 1, 'optimizer_name': 'Adam', 'batch_size': 2048, 'learning_rate': 0.001, 'sentence_representation_type': 'max'}. Best is trial 50 with value: 0.7804877758026123.\n",
      "Seed set to 42\n"
     ]
    },
    {
     "name": "stdout",
     "output_type": "stream",
     "text": [
      "[Skipping] rnn/test/w2v-3b/batch_size_2048-lr_0.001-optimizer_Adam-hidden_dim_32-num_layers_1-sr_type_max-freeze_False\n",
      "---------- batch_size_2048; lr_0.001; optimizer_Adam; hidden_dim_32; num_layers_1; sentence_representation_max ----------\n"
     ]
    },
    {
     "name": "stderr",
     "output_type": "stream",
     "text": [
      "[I 2024-11-04 01:25:21,644] Trial 73 finished with value: 0.7804877758026123 and parameters: {'hidden_dim': 32, 'num_layers': 1, 'optimizer_name': 'Adam', 'batch_size': 2048, 'learning_rate': 0.001, 'sentence_representation_type': 'max'}. Best is trial 50 with value: 0.7804877758026123.\n",
      "Seed set to 42\n"
     ]
    },
    {
     "name": "stdout",
     "output_type": "stream",
     "text": [
      "[Skipping] rnn/test/w2v-3b/batch_size_2048-lr_0.001-optimizer_Adam-hidden_dim_32-num_layers_1-sr_type_max-freeze_False\n",
      "---------- batch_size_2048; lr_0.001; optimizer_Adam; hidden_dim_32; num_layers_1; sentence_representation_max ----------\n"
     ]
    },
    {
     "name": "stderr",
     "output_type": "stream",
     "text": [
      "[I 2024-11-04 01:25:22,291] Trial 74 finished with value: 0.7804877758026123 and parameters: {'hidden_dim': 32, 'num_layers': 1, 'optimizer_name': 'Adam', 'batch_size': 2048, 'learning_rate': 0.001, 'sentence_representation_type': 'max'}. Best is trial 50 with value: 0.7804877758026123.\n",
      "Seed set to 42\n"
     ]
    },
    {
     "name": "stdout",
     "output_type": "stream",
     "text": [
      "[Skipping] rnn/test/w2v-3b/batch_size_2048-lr_0.001-optimizer_Adam-hidden_dim_32-num_layers_1-sr_type_max-freeze_False\n",
      "---------- batch_size_2048; lr_0.001; optimizer_Adam; hidden_dim_32; num_layers_1; sentence_representation_max ----------\n"
     ]
    },
    {
     "name": "stderr",
     "output_type": "stream",
     "text": [
      "[I 2024-11-04 01:25:22,994] Trial 75 finished with value: 0.7804877758026123 and parameters: {'hidden_dim': 32, 'num_layers': 1, 'optimizer_name': 'Adam', 'batch_size': 2048, 'learning_rate': 0.001, 'sentence_representation_type': 'max'}. Best is trial 50 with value: 0.7804877758026123.\n",
      "Seed set to 42\n"
     ]
    },
    {
     "name": "stdout",
     "output_type": "stream",
     "text": [
      "[Skipping] rnn/test/w2v-3b/batch_size_2048-lr_0.001-optimizer_Adam-hidden_dim_32-num_layers_1-sr_type_max-freeze_False\n",
      "---------- batch_size_2048; lr_0.001; optimizer_Adam; hidden_dim_32; num_layers_1; sentence_representation_max ----------\n"
     ]
    },
    {
     "name": "stderr",
     "output_type": "stream",
     "text": [
      "[I 2024-11-04 01:25:23,646] Trial 76 finished with value: 0.7804877758026123 and parameters: {'hidden_dim': 32, 'num_layers': 1, 'optimizer_name': 'Adam', 'batch_size': 2048, 'learning_rate': 0.001, 'sentence_representation_type': 'max'}. Best is trial 50 with value: 0.7804877758026123.\n",
      "Seed set to 42\n"
     ]
    },
    {
     "name": "stdout",
     "output_type": "stream",
     "text": [
      "[Skipping] rnn/test/w2v-3b/batch_size_2048-lr_0.001-optimizer_Adam-hidden_dim_32-num_layers_1-sr_type_max-freeze_False\n",
      "---------- batch_size_2048; lr_0.001; optimizer_Adam; hidden_dim_32; num_layers_2; sentence_representation_max ----------\n"
     ]
    },
    {
     "name": "stderr",
     "output_type": "stream",
     "text": [
      "GPU available: True (cuda), used: False\n",
      "TPU available: False, using: 0 TPU cores\n",
      "HPU available: False, using: 0 HPUs\n",
      "\n",
      "  | Name   | Type               | Params | Mode \n",
      "------------------------------------------------------\n",
      "0 | model  | RNN                | 4.9 M  | train\n",
      "1 | metric | MulticlassAccuracy | 0      | train\n",
      "------------------------------------------------------\n",
      "4.9 M     Trainable params\n",
      "0         Non-trainable params\n",
      "4.9 M     Total params\n",
      "19.654    Total estimated model params size (MB)\n",
      "7         Modules in train mode\n",
      "0         Modules in eval mode\n"
     ]
    },
    {
     "data": {
      "application/vnd.jupyter.widget-view+json": {
       "model_id": "b7c7fd0c595f47bdb226eca67103181a",
       "version_major": 2,
       "version_minor": 0
      },
      "text/plain": [
       "Sanity Checking: |          | 0/? [00:00<?, ?it/s]"
      ]
     },
     "metadata": {},
     "output_type": "display_data"
    },
    {
     "data": {
      "application/vnd.jupyter.widget-view+json": {
       "model_id": "a3fcf5adf7e8413a915e29e81587fa9b",
       "version_major": 2,
       "version_minor": 0
      },
      "text/plain": [
       "Training: |          | 0/? [00:00<?, ?it/s]"
      ]
     },
     "metadata": {},
     "output_type": "display_data"
    },
    {
     "data": {
      "application/vnd.jupyter.widget-view+json": {
       "model_id": "b05770102d9e40048f9d6c24b089ff62",
       "version_major": 2,
       "version_minor": 0
      },
      "text/plain": [
       "Validation: |          | 0/? [00:00<?, ?it/s]"
      ]
     },
     "metadata": {},
     "output_type": "display_data"
    },
    {
     "data": {
      "application/vnd.jupyter.widget-view+json": {
       "model_id": "446abdef43684f25bfb92ccc289dbf9a",
       "version_major": 2,
       "version_minor": 0
      },
      "text/plain": [
       "Validation: |          | 0/? [00:00<?, ?it/s]"
      ]
     },
     "metadata": {},
     "output_type": "display_data"
    },
    {
     "data": {
      "application/vnd.jupyter.widget-view+json": {
       "model_id": "3a0f81aa752a482db1f75842ffb914a5",
       "version_major": 2,
       "version_minor": 0
      },
      "text/plain": [
       "Validation: |          | 0/? [00:00<?, ?it/s]"
      ]
     },
     "metadata": {},
     "output_type": "display_data"
    },
    {
     "data": {
      "application/vnd.jupyter.widget-view+json": {
       "model_id": "f7c3597b0d324181b77efb8579c28529",
       "version_major": 2,
       "version_minor": 0
      },
      "text/plain": [
       "Validation: |          | 0/? [00:00<?, ?it/s]"
      ]
     },
     "metadata": {},
     "output_type": "display_data"
    },
    {
     "data": {
      "application/vnd.jupyter.widget-view+json": {
       "model_id": "e9d811eab7bd43f9be54a2121fd5f717",
       "version_major": 2,
       "version_minor": 0
      },
      "text/plain": [
       "Validation: |          | 0/? [00:00<?, ?it/s]"
      ]
     },
     "metadata": {},
     "output_type": "display_data"
    },
    {
     "data": {
      "application/vnd.jupyter.widget-view+json": {
       "model_id": "89234868bba14e27ba213f5532b24748",
       "version_major": 2,
       "version_minor": 0
      },
      "text/plain": [
       "Validation: |          | 0/? [00:00<?, ?it/s]"
      ]
     },
     "metadata": {},
     "output_type": "display_data"
    },
    {
     "data": {
      "application/vnd.jupyter.widget-view+json": {
       "model_id": "c31110652b1147bb8c560aa0bc3e288c",
       "version_major": 2,
       "version_minor": 0
      },
      "text/plain": [
       "Validation: |          | 0/? [00:00<?, ?it/s]"
      ]
     },
     "metadata": {},
     "output_type": "display_data"
    },
    {
     "data": {
      "application/vnd.jupyter.widget-view+json": {
       "model_id": "d879ecbc740b4a95ae64f60c7b506d0b",
       "version_major": 2,
       "version_minor": 0
      },
      "text/plain": [
       "Validation: |          | 0/? [00:00<?, ?it/s]"
      ]
     },
     "metadata": {},
     "output_type": "display_data"
    },
    {
     "data": {
      "application/vnd.jupyter.widget-view+json": {
       "model_id": "9bdfffc709d54e83932fe7f939dbb11a",
       "version_major": 2,
       "version_minor": 0
      },
      "text/plain": [
       "Validation: |          | 0/? [00:00<?, ?it/s]"
      ]
     },
     "metadata": {},
     "output_type": "display_data"
    },
    {
     "data": {
      "application/vnd.jupyter.widget-view+json": {
       "model_id": "e4be25eeff3f4e1e92be6a09b63e9f94",
       "version_major": 2,
       "version_minor": 0
      },
      "text/plain": [
       "Validation: |          | 0/? [00:00<?, ?it/s]"
      ]
     },
     "metadata": {},
     "output_type": "display_data"
    },
    {
     "data": {
      "application/vnd.jupyter.widget-view+json": {
       "model_id": "339b264b63424d37a1f7700c2ae274a8",
       "version_major": 2,
       "version_minor": 0
      },
      "text/plain": [
       "Validation: |          | 0/? [00:00<?, ?it/s]"
      ]
     },
     "metadata": {},
     "output_type": "display_data"
    },
    {
     "data": {
      "application/vnd.jupyter.widget-view+json": {
       "model_id": "ec93d1f09975450bba7243ff8e529c92",
       "version_major": 2,
       "version_minor": 0
      },
      "text/plain": [
       "Validation: |          | 0/? [00:00<?, ?it/s]"
      ]
     },
     "metadata": {},
     "output_type": "display_data"
    },
    {
     "data": {
      "application/vnd.jupyter.widget-view+json": {
       "model_id": "b47ce6072edb4bf387e4f7adfcf64ff0",
       "version_major": 2,
       "version_minor": 0
      },
      "text/plain": [
       "Validation: |          | 0/? [00:00<?, ?it/s]"
      ]
     },
     "metadata": {},
     "output_type": "display_data"
    },
    {
     "data": {
      "application/vnd.jupyter.widget-view+json": {
       "model_id": "5370e2c259a64372aa3206254878415a",
       "version_major": 2,
       "version_minor": 0
      },
      "text/plain": [
       "Validation: |          | 0/? [00:00<?, ?it/s]"
      ]
     },
     "metadata": {},
     "output_type": "display_data"
    },
    {
     "name": "stderr",
     "output_type": "stream",
     "text": [
      "[I 2024-11-04 01:26:33,614] Trial 77 finished with value: 0.7636022567749023 and parameters: {'hidden_dim': 32, 'num_layers': 2, 'optimizer_name': 'Adam', 'batch_size': 2048, 'learning_rate': 0.001, 'sentence_representation_type': 'max'}. Best is trial 50 with value: 0.7804877758026123.\n",
      "Seed set to 42\n"
     ]
    },
    {
     "name": "stdout",
     "output_type": "stream",
     "text": [
      "---------- batch_size_2048; lr_0.001; optimizer_Adam; hidden_dim_32; num_layers_1; sentence_representation_max ----------\n"
     ]
    },
    {
     "name": "stderr",
     "output_type": "stream",
     "text": [
      "[I 2024-11-04 01:26:34,233] Trial 78 finished with value: 0.7804877758026123 and parameters: {'hidden_dim': 32, 'num_layers': 1, 'optimizer_name': 'Adam', 'batch_size': 2048, 'learning_rate': 0.001, 'sentence_representation_type': 'max'}. Best is trial 50 with value: 0.7804877758026123.\n",
      "Seed set to 42\n"
     ]
    },
    {
     "name": "stdout",
     "output_type": "stream",
     "text": [
      "[Skipping] rnn/test/w2v-3b/batch_size_2048-lr_0.001-optimizer_Adam-hidden_dim_32-num_layers_1-sr_type_max-freeze_False\n",
      "---------- batch_size_256; lr_0.001; optimizer_Adam; hidden_dim_32; num_layers_1; sentence_representation_last ----------\n"
     ]
    },
    {
     "name": "stderr",
     "output_type": "stream",
     "text": [
      "GPU available: True (cuda), used: False\n",
      "TPU available: False, using: 0 TPU cores\n",
      "HPU available: False, using: 0 HPUs\n",
      "\n",
      "  | Name   | Type               | Params | Mode \n",
      "------------------------------------------------------\n",
      "0 | model  | RNN                | 4.9 M  | train\n",
      "1 | metric | MulticlassAccuracy | 0      | train\n",
      "------------------------------------------------------\n",
      "4.9 M     Trainable params\n",
      "0         Non-trainable params\n",
      "4.9 M     Total params\n",
      "19.646    Total estimated model params size (MB)\n",
      "7         Modules in train mode\n",
      "0         Modules in eval mode\n"
     ]
    },
    {
     "data": {
      "application/vnd.jupyter.widget-view+json": {
       "model_id": "e6dd34de059b4659b71826b8491ca288",
       "version_major": 2,
       "version_minor": 0
      },
      "text/plain": [
       "Sanity Checking: |          | 0/? [00:00<?, ?it/s]"
      ]
     },
     "metadata": {},
     "output_type": "display_data"
    },
    {
     "data": {
      "application/vnd.jupyter.widget-view+json": {
       "model_id": "76e10621194048c2a8c7fbc0511d2e5a",
       "version_major": 2,
       "version_minor": 0
      },
      "text/plain": [
       "Training: |          | 0/? [00:00<?, ?it/s]"
      ]
     },
     "metadata": {},
     "output_type": "display_data"
    },
    {
     "data": {
      "application/vnd.jupyter.widget-view+json": {
       "model_id": "e113c457a3bc4d9a95cc3616ec8a7695",
       "version_major": 2,
       "version_minor": 0
      },
      "text/plain": [
       "Validation: |          | 0/? [00:00<?, ?it/s]"
      ]
     },
     "metadata": {},
     "output_type": "display_data"
    },
    {
     "data": {
      "application/vnd.jupyter.widget-view+json": {
       "model_id": "f2f92fe3c5b5481fb2fee139a3746b34",
       "version_major": 2,
       "version_minor": 0
      },
      "text/plain": [
       "Validation: |          | 0/? [00:00<?, ?it/s]"
      ]
     },
     "metadata": {},
     "output_type": "display_data"
    },
    {
     "data": {
      "application/vnd.jupyter.widget-view+json": {
       "model_id": "558616f0b1f84e99829c1346825cca9c",
       "version_major": 2,
       "version_minor": 0
      },
      "text/plain": [
       "Validation: |          | 0/? [00:00<?, ?it/s]"
      ]
     },
     "metadata": {},
     "output_type": "display_data"
    },
    {
     "data": {
      "application/vnd.jupyter.widget-view+json": {
       "model_id": "c6e0aae4e2e046c7a3ab1ec75df4ac98",
       "version_major": 2,
       "version_minor": 0
      },
      "text/plain": [
       "Validation: |          | 0/? [00:00<?, ?it/s]"
      ]
     },
     "metadata": {},
     "output_type": "display_data"
    },
    {
     "data": {
      "application/vnd.jupyter.widget-view+json": {
       "model_id": "09c4fd4f17004bccad116268f15b5756",
       "version_major": 2,
       "version_minor": 0
      },
      "text/plain": [
       "Validation: |          | 0/? [00:00<?, ?it/s]"
      ]
     },
     "metadata": {},
     "output_type": "display_data"
    },
    {
     "data": {
      "application/vnd.jupyter.widget-view+json": {
       "model_id": "fcb0d3a8a0c743d8a52f8f9463ad2408",
       "version_major": 2,
       "version_minor": 0
      },
      "text/plain": [
       "Validation: |          | 0/? [00:00<?, ?it/s]"
      ]
     },
     "metadata": {},
     "output_type": "display_data"
    },
    {
     "name": "stderr",
     "output_type": "stream",
     "text": [
      "[I 2024-11-04 01:27:24,891] Trial 79 finished with value: 0.4832296371459961 and parameters: {'hidden_dim': 32, 'num_layers': 1, 'optimizer_name': 'Adam', 'batch_size': 256, 'learning_rate': 0.001, 'sentence_representation_type': 'last'}. Best is trial 50 with value: 0.7804877758026123.\n",
      "Seed set to 42\n"
     ]
    },
    {
     "name": "stdout",
     "output_type": "stream",
     "text": [
      "---------- batch_size_512; lr_0.0001; optimizer_Adam; hidden_dim_64; num_layers_1; sentence_representation_max ----------\n"
     ]
    },
    {
     "name": "stderr",
     "output_type": "stream",
     "text": [
      "GPU available: True (cuda), used: False\n",
      "TPU available: False, using: 0 TPU cores\n",
      "HPU available: False, using: 0 HPUs\n",
      "\n",
      "  | Name   | Type               | Params | Mode \n",
      "------------------------------------------------------\n",
      "0 | model  | RNN                | 4.9 M  | train\n",
      "1 | metric | MulticlassAccuracy | 0      | train\n",
      "------------------------------------------------------\n",
      "4.9 M     Trainable params\n",
      "0         Non-trainable params\n",
      "4.9 M     Total params\n",
      "19.703    Total estimated model params size (MB)\n",
      "7         Modules in train mode\n",
      "0         Modules in eval mode\n"
     ]
    },
    {
     "data": {
      "application/vnd.jupyter.widget-view+json": {
       "model_id": "c0af577af9754b42a29ad3f171b6b46a",
       "version_major": 2,
       "version_minor": 0
      },
      "text/plain": [
       "Sanity Checking: |          | 0/? [00:00<?, ?it/s]"
      ]
     },
     "metadata": {},
     "output_type": "display_data"
    },
    {
     "data": {
      "application/vnd.jupyter.widget-view+json": {
       "model_id": "a312052273e2444b93cb65af15481ff4",
       "version_major": 2,
       "version_minor": 0
      },
      "text/plain": [
       "Training: |          | 0/? [00:00<?, ?it/s]"
      ]
     },
     "metadata": {},
     "output_type": "display_data"
    },
    {
     "data": {
      "application/vnd.jupyter.widget-view+json": {
       "model_id": "a285fdf22e8843cb91c4979fe4441d00",
       "version_major": 2,
       "version_minor": 0
      },
      "text/plain": [
       "Validation: |          | 0/? [00:00<?, ?it/s]"
      ]
     },
     "metadata": {},
     "output_type": "display_data"
    },
    {
     "data": {
      "application/vnd.jupyter.widget-view+json": {
       "model_id": "ce3c15de092743358d43e6e870d987f6",
       "version_major": 2,
       "version_minor": 0
      },
      "text/plain": [
       "Validation: |          | 0/? [00:00<?, ?it/s]"
      ]
     },
     "metadata": {},
     "output_type": "display_data"
    },
    {
     "data": {
      "application/vnd.jupyter.widget-view+json": {
       "model_id": "3e1491a8e65a4960a5c999e2c4412059",
       "version_major": 2,
       "version_minor": 0
      },
      "text/plain": [
       "Validation: |          | 0/? [00:00<?, ?it/s]"
      ]
     },
     "metadata": {},
     "output_type": "display_data"
    },
    {
     "data": {
      "application/vnd.jupyter.widget-view+json": {
       "model_id": "e4d59d0e96f04789901ade623eb6f199",
       "version_major": 2,
       "version_minor": 0
      },
      "text/plain": [
       "Validation: |          | 0/? [00:00<?, ?it/s]"
      ]
     },
     "metadata": {},
     "output_type": "display_data"
    },
    {
     "data": {
      "application/vnd.jupyter.widget-view+json": {
       "model_id": "a6246e08980948b7b55843e4e4e2943c",
       "version_major": 2,
       "version_minor": 0
      },
      "text/plain": [
       "Validation: |          | 0/? [00:00<?, ?it/s]"
      ]
     },
     "metadata": {},
     "output_type": "display_data"
    },
    {
     "data": {
      "application/vnd.jupyter.widget-view+json": {
       "model_id": "f674b5ae02a8463db3c499fb09201eab",
       "version_major": 2,
       "version_minor": 0
      },
      "text/plain": [
       "Validation: |          | 0/? [00:00<?, ?it/s]"
      ]
     },
     "metadata": {},
     "output_type": "display_data"
    },
    {
     "data": {
      "application/vnd.jupyter.widget-view+json": {
       "model_id": "40e12369065a445189ebbdb79b055ef5",
       "version_major": 2,
       "version_minor": 0
      },
      "text/plain": [
       "Validation: |          | 0/? [00:00<?, ?it/s]"
      ]
     },
     "metadata": {},
     "output_type": "display_data"
    },
    {
     "data": {
      "application/vnd.jupyter.widget-view+json": {
       "model_id": "ae942ab6ad1c4366a8b97bce6bec5112",
       "version_major": 2,
       "version_minor": 0
      },
      "text/plain": [
       "Validation: |          | 0/? [00:00<?, ?it/s]"
      ]
     },
     "metadata": {},
     "output_type": "display_data"
    },
    {
     "data": {
      "application/vnd.jupyter.widget-view+json": {
       "model_id": "8965f31a81434cc9adf3a131bc7eb483",
       "version_major": 2,
       "version_minor": 0
      },
      "text/plain": [
       "Validation: |          | 0/? [00:00<?, ?it/s]"
      ]
     },
     "metadata": {},
     "output_type": "display_data"
    },
    {
     "data": {
      "application/vnd.jupyter.widget-view+json": {
       "model_id": "9a83d428d986404b9641d15a25d5108f",
       "version_major": 2,
       "version_minor": 0
      },
      "text/plain": [
       "Validation: |          | 0/? [00:00<?, ?it/s]"
      ]
     },
     "metadata": {},
     "output_type": "display_data"
    },
    {
     "data": {
      "application/vnd.jupyter.widget-view+json": {
       "model_id": "a7e4414030ad4bd5b60b32d9a390c10d",
       "version_major": 2,
       "version_minor": 0
      },
      "text/plain": [
       "Validation: |          | 0/? [00:00<?, ?it/s]"
      ]
     },
     "metadata": {},
     "output_type": "display_data"
    },
    {
     "data": {
      "application/vnd.jupyter.widget-view+json": {
       "model_id": "10e75d6839024b2dae55dbe555240e76",
       "version_major": 2,
       "version_minor": 0
      },
      "text/plain": [
       "Validation: |          | 0/? [00:00<?, ?it/s]"
      ]
     },
     "metadata": {},
     "output_type": "display_data"
    },
    {
     "data": {
      "application/vnd.jupyter.widget-view+json": {
       "model_id": "4d8656b01ba645cfbc205c17e22faab6",
       "version_major": 2,
       "version_minor": 0
      },
      "text/plain": [
       "Validation: |          | 0/? [00:00<?, ?it/s]"
      ]
     },
     "metadata": {},
     "output_type": "display_data"
    },
    {
     "data": {
      "application/vnd.jupyter.widget-view+json": {
       "model_id": "14fef76c3bfd442eace51d964fbefabd",
       "version_major": 2,
       "version_minor": 0
      },
      "text/plain": [
       "Validation: |          | 0/? [00:00<?, ?it/s]"
      ]
     },
     "metadata": {},
     "output_type": "display_data"
    },
    {
     "data": {
      "application/vnd.jupyter.widget-view+json": {
       "model_id": "4df0fb4d909b40d3a7af059092908539",
       "version_major": 2,
       "version_minor": 0
      },
      "text/plain": [
       "Validation: |          | 0/? [00:00<?, ?it/s]"
      ]
     },
     "metadata": {},
     "output_type": "display_data"
    },
    {
     "data": {
      "application/vnd.jupyter.widget-view+json": {
       "model_id": "61d27e82181a4b80997135173c2d7a47",
       "version_major": 2,
       "version_minor": 0
      },
      "text/plain": [
       "Validation: |          | 0/? [00:00<?, ?it/s]"
      ]
     },
     "metadata": {},
     "output_type": "display_data"
    },
    {
     "data": {
      "application/vnd.jupyter.widget-view+json": {
       "model_id": "1fdaaf5932f0406dbea16e748025039d",
       "version_major": 2,
       "version_minor": 0
      },
      "text/plain": [
       "Validation: |          | 0/? [00:00<?, ?it/s]"
      ]
     },
     "metadata": {},
     "output_type": "display_data"
    },
    {
     "data": {
      "application/vnd.jupyter.widget-view+json": {
       "model_id": "65cac3b8003b4bd8b8c4c59ad64fbdb1",
       "version_major": 2,
       "version_minor": 0
      },
      "text/plain": [
       "Validation: |          | 0/? [00:00<?, ?it/s]"
      ]
     },
     "metadata": {},
     "output_type": "display_data"
    },
    {
     "data": {
      "application/vnd.jupyter.widget-view+json": {
       "model_id": "75debf3574324bd7a601c3aeccbf48b0",
       "version_major": 2,
       "version_minor": 0
      },
      "text/plain": [
       "Validation: |          | 0/? [00:00<?, ?it/s]"
      ]
     },
     "metadata": {},
     "output_type": "display_data"
    },
    {
     "name": "stderr",
     "output_type": "stream",
     "text": [
      "[I 2024-11-04 01:28:53,284] Trial 80 finished with value: 0.5362182259559631 and parameters: {'hidden_dim': 64, 'num_layers': 1, 'optimizer_name': 'Adam', 'batch_size': 512, 'learning_rate': 0.0001, 'sentence_representation_type': 'max'}. Best is trial 50 with value: 0.7804877758026123.\n",
      "Seed set to 42\n"
     ]
    },
    {
     "name": "stdout",
     "output_type": "stream",
     "text": [
      "---------- batch_size_2048; lr_0.001; optimizer_Adam; hidden_dim_32; num_layers_1; sentence_representation_max ----------\n"
     ]
    },
    {
     "name": "stderr",
     "output_type": "stream",
     "text": [
      "[I 2024-11-04 01:28:53,911] Trial 81 finished with value: 0.7804877758026123 and parameters: {'hidden_dim': 32, 'num_layers': 1, 'optimizer_name': 'Adam', 'batch_size': 2048, 'learning_rate': 0.001, 'sentence_representation_type': 'max'}. Best is trial 50 with value: 0.7804877758026123.\n",
      "Seed set to 42\n"
     ]
    },
    {
     "name": "stdout",
     "output_type": "stream",
     "text": [
      "[Skipping] rnn/test/w2v-3b/batch_size_2048-lr_0.001-optimizer_Adam-hidden_dim_32-num_layers_1-sr_type_max-freeze_False\n",
      "---------- batch_size_2048; lr_0.001; optimizer_Adam; hidden_dim_32; num_layers_1; sentence_representation_max ----------\n"
     ]
    },
    {
     "name": "stderr",
     "output_type": "stream",
     "text": [
      "[I 2024-11-04 01:28:54,570] Trial 82 finished with value: 0.7804877758026123 and parameters: {'hidden_dim': 32, 'num_layers': 1, 'optimizer_name': 'Adam', 'batch_size': 2048, 'learning_rate': 0.001, 'sentence_representation_type': 'max'}. Best is trial 50 with value: 0.7804877758026123.\n",
      "Seed set to 42\n"
     ]
    },
    {
     "name": "stdout",
     "output_type": "stream",
     "text": [
      "[Skipping] rnn/test/w2v-3b/batch_size_2048-lr_0.001-optimizer_Adam-hidden_dim_32-num_layers_1-sr_type_max-freeze_False\n",
      "---------- batch_size_2048; lr_0.001; optimizer_Adam; hidden_dim_32; num_layers_1; sentence_representation_max ----------\n"
     ]
    },
    {
     "name": "stderr",
     "output_type": "stream",
     "text": [
      "[I 2024-11-04 01:28:55,196] Trial 83 finished with value: 0.7804877758026123 and parameters: {'hidden_dim': 32, 'num_layers': 1, 'optimizer_name': 'Adam', 'batch_size': 2048, 'learning_rate': 0.001, 'sentence_representation_type': 'max'}. Best is trial 50 with value: 0.7804877758026123.\n",
      "Seed set to 42\n"
     ]
    },
    {
     "name": "stdout",
     "output_type": "stream",
     "text": [
      "[Skipping] rnn/test/w2v-3b/batch_size_2048-lr_0.001-optimizer_Adam-hidden_dim_32-num_layers_1-sr_type_max-freeze_False\n",
      "---------- batch_size_2048; lr_0.001; optimizer_Adam; hidden_dim_32; num_layers_1; sentence_representation_max ----------\n"
     ]
    },
    {
     "name": "stderr",
     "output_type": "stream",
     "text": [
      "[I 2024-11-04 01:28:55,800] Trial 84 finished with value: 0.7804877758026123 and parameters: {'hidden_dim': 32, 'num_layers': 1, 'optimizer_name': 'Adam', 'batch_size': 2048, 'learning_rate': 0.001, 'sentence_representation_type': 'max'}. Best is trial 50 with value: 0.7804877758026123.\n",
      "Seed set to 42\n"
     ]
    },
    {
     "name": "stdout",
     "output_type": "stream",
     "text": [
      "[Skipping] rnn/test/w2v-3b/batch_size_2048-lr_0.001-optimizer_Adam-hidden_dim_32-num_layers_1-sr_type_max-freeze_False\n",
      "---------- batch_size_2048; lr_0.01; optimizer_Adam; hidden_dim_256; num_layers_1; sentence_representation_average ----------\n"
     ]
    },
    {
     "name": "stderr",
     "output_type": "stream",
     "text": [
      "GPU available: True (cuda), used: False\n",
      "TPU available: False, using: 0 TPU cores\n",
      "HPU available: False, using: 0 HPUs\n",
      "\n",
      "  | Name   | Type               | Params | Mode \n",
      "------------------------------------------------------\n",
      "0 | model  | RNN                | 5.1 M  | train\n",
      "1 | metric | MulticlassAccuracy | 0      | train\n",
      "------------------------------------------------------\n",
      "5.1 M     Trainable params\n",
      "0         Non-trainable params\n",
      "5.1 M     Total params\n",
      "20.305    Total estimated model params size (MB)\n",
      "7         Modules in train mode\n",
      "0         Modules in eval mode\n"
     ]
    },
    {
     "data": {
      "application/vnd.jupyter.widget-view+json": {
       "model_id": "bfc82e1184e5445ea4dbcabd0d537ed3",
       "version_major": 2,
       "version_minor": 0
      },
      "text/plain": [
       "Sanity Checking: |          | 0/? [00:00<?, ?it/s]"
      ]
     },
     "metadata": {},
     "output_type": "display_data"
    },
    {
     "data": {
      "application/vnd.jupyter.widget-view+json": {
       "model_id": "4f8dd5778a544d2ea6520118dffe34f7",
       "version_major": 2,
       "version_minor": 0
      },
      "text/plain": [
       "Training: |          | 0/? [00:00<?, ?it/s]"
      ]
     },
     "metadata": {},
     "output_type": "display_data"
    },
    {
     "data": {
      "application/vnd.jupyter.widget-view+json": {
       "model_id": "9bfe7150a9bf4f10869083394815e48d",
       "version_major": 2,
       "version_minor": 0
      },
      "text/plain": [
       "Validation: |          | 0/? [00:00<?, ?it/s]"
      ]
     },
     "metadata": {},
     "output_type": "display_data"
    },
    {
     "data": {
      "application/vnd.jupyter.widget-view+json": {
       "model_id": "af9a73bc7de34f26aa364452b2327718",
       "version_major": 2,
       "version_minor": 0
      },
      "text/plain": [
       "Validation: |          | 0/? [00:00<?, ?it/s]"
      ]
     },
     "metadata": {},
     "output_type": "display_data"
    },
    {
     "data": {
      "application/vnd.jupyter.widget-view+json": {
       "model_id": "bd9025cd821c4d0b8f141abd677edfda",
       "version_major": 2,
       "version_minor": 0
      },
      "text/plain": [
       "Validation: |          | 0/? [00:00<?, ?it/s]"
      ]
     },
     "metadata": {},
     "output_type": "display_data"
    },
    {
     "data": {
      "application/vnd.jupyter.widget-view+json": {
       "model_id": "e93ec7600a63463b85d7a05b31dee07f",
       "version_major": 2,
       "version_minor": 0
      },
      "text/plain": [
       "Validation: |          | 0/? [00:00<?, ?it/s]"
      ]
     },
     "metadata": {},
     "output_type": "display_data"
    },
    {
     "data": {
      "application/vnd.jupyter.widget-view+json": {
       "model_id": "143e7a540cd2453080bdfd3fddac9334",
       "version_major": 2,
       "version_minor": 0
      },
      "text/plain": [
       "Validation: |          | 0/? [00:00<?, ?it/s]"
      ]
     },
     "metadata": {},
     "output_type": "display_data"
    },
    {
     "data": {
      "application/vnd.jupyter.widget-view+json": {
       "model_id": "036ecc9ea3b9443399c19a05ae016269",
       "version_major": 2,
       "version_minor": 0
      },
      "text/plain": [
       "Validation: |          | 0/? [00:00<?, ?it/s]"
      ]
     },
     "metadata": {},
     "output_type": "display_data"
    },
    {
     "data": {
      "application/vnd.jupyter.widget-view+json": {
       "model_id": "1e7598623afa415392a9f9d218f0d573",
       "version_major": 2,
       "version_minor": 0
      },
      "text/plain": [
       "Validation: |          | 0/? [00:00<?, ?it/s]"
      ]
     },
     "metadata": {},
     "output_type": "display_data"
    },
    {
     "data": {
      "application/vnd.jupyter.widget-view+json": {
       "model_id": "087c0b00bc974e0883b0067e0eccf563",
       "version_major": 2,
       "version_minor": 0
      },
      "text/plain": [
       "Validation: |          | 0/? [00:00<?, ?it/s]"
      ]
     },
     "metadata": {},
     "output_type": "display_data"
    },
    {
     "data": {
      "application/vnd.jupyter.widget-view+json": {
       "model_id": "6ef5a5a6534c4bb0989886b04a984df1",
       "version_major": 2,
       "version_minor": 0
      },
      "text/plain": [
       "Validation: |          | 0/? [00:00<?, ?it/s]"
      ]
     },
     "metadata": {},
     "output_type": "display_data"
    },
    {
     "data": {
      "application/vnd.jupyter.widget-view+json": {
       "model_id": "0a390bc43deb4bd68093a33fccccffc0",
       "version_major": 2,
       "version_minor": 0
      },
      "text/plain": [
       "Validation: |          | 0/? [00:00<?, ?it/s]"
      ]
     },
     "metadata": {},
     "output_type": "display_data"
    },
    {
     "data": {
      "application/vnd.jupyter.widget-view+json": {
       "model_id": "a22e8095f38d4b46b19f95b861c38983",
       "version_major": 2,
       "version_minor": 0
      },
      "text/plain": [
       "Validation: |          | 0/? [00:00<?, ?it/s]"
      ]
     },
     "metadata": {},
     "output_type": "display_data"
    },
    {
     "name": "stderr",
     "output_type": "stream",
     "text": [
      "[I 2024-11-04 01:31:10,957] Trial 85 finished with value: 0.7636022567749023 and parameters: {'hidden_dim': 256, 'num_layers': 1, 'optimizer_name': 'Adam', 'batch_size': 2048, 'learning_rate': 0.01, 'sentence_representation_type': 'average'}. Best is trial 50 with value: 0.7804877758026123.\n",
      "Seed set to 42\n"
     ]
    },
    {
     "name": "stdout",
     "output_type": "stream",
     "text": [
      "---------- batch_size_2048; lr_0.001; optimizer_Adam; hidden_dim_32; num_layers_1; sentence_representation_max ----------\n"
     ]
    },
    {
     "name": "stderr",
     "output_type": "stream",
     "text": [
      "[I 2024-11-04 01:31:11,586] Trial 86 finished with value: 0.7804877758026123 and parameters: {'hidden_dim': 32, 'num_layers': 1, 'optimizer_name': 'Adam', 'batch_size': 2048, 'learning_rate': 0.001, 'sentence_representation_type': 'max'}. Best is trial 50 with value: 0.7804877758026123.\n",
      "Seed set to 42\n"
     ]
    },
    {
     "name": "stdout",
     "output_type": "stream",
     "text": [
      "[Skipping] rnn/test/w2v-3b/batch_size_2048-lr_0.001-optimizer_Adam-hidden_dim_32-num_layers_1-sr_type_max-freeze_False\n",
      "---------- batch_size_1024; lr_0.1; optimizer_Adam; hidden_dim_32; num_layers_1; sentence_representation_max ----------\n"
     ]
    },
    {
     "name": "stderr",
     "output_type": "stream",
     "text": [
      "GPU available: True (cuda), used: False\n",
      "TPU available: False, using: 0 TPU cores\n",
      "HPU available: False, using: 0 HPUs\n",
      "\n",
      "  | Name   | Type               | Params | Mode \n",
      "------------------------------------------------------\n",
      "0 | model  | RNN                | 4.9 M  | train\n",
      "1 | metric | MulticlassAccuracy | 0      | train\n",
      "------------------------------------------------------\n",
      "4.9 M     Trainable params\n",
      "0         Non-trainable params\n",
      "4.9 M     Total params\n",
      "19.646    Total estimated model params size (MB)\n",
      "7         Modules in train mode\n",
      "0         Modules in eval mode\n"
     ]
    },
    {
     "data": {
      "application/vnd.jupyter.widget-view+json": {
       "model_id": "f6b742eb9f4f4ffcb7f9f58740dfbb82",
       "version_major": 2,
       "version_minor": 0
      },
      "text/plain": [
       "Sanity Checking: |          | 0/? [00:00<?, ?it/s]"
      ]
     },
     "metadata": {},
     "output_type": "display_data"
    },
    {
     "data": {
      "application/vnd.jupyter.widget-view+json": {
       "model_id": "e5bdf04505a9461589344c99fbb1c786",
       "version_major": 2,
       "version_minor": 0
      },
      "text/plain": [
       "Training: |          | 0/? [00:00<?, ?it/s]"
      ]
     },
     "metadata": {},
     "output_type": "display_data"
    },
    {
     "data": {
      "application/vnd.jupyter.widget-view+json": {
       "model_id": "91a152d3d54b4e12a85e300d4eda88f0",
       "version_major": 2,
       "version_minor": 0
      },
      "text/plain": [
       "Validation: |          | 0/? [00:00<?, ?it/s]"
      ]
     },
     "metadata": {},
     "output_type": "display_data"
    },
    {
     "data": {
      "application/vnd.jupyter.widget-view+json": {
       "model_id": "27fb640cb7134bab8157b73a62986701",
       "version_major": 2,
       "version_minor": 0
      },
      "text/plain": [
       "Validation: |          | 0/? [00:00<?, ?it/s]"
      ]
     },
     "metadata": {},
     "output_type": "display_data"
    },
    {
     "data": {
      "application/vnd.jupyter.widget-view+json": {
       "model_id": "2f45109386fa4d2fb236a8822bc7a075",
       "version_major": 2,
       "version_minor": 0
      },
      "text/plain": [
       "Validation: |          | 0/? [00:00<?, ?it/s]"
      ]
     },
     "metadata": {},
     "output_type": "display_data"
    },
    {
     "data": {
      "application/vnd.jupyter.widget-view+json": {
       "model_id": "9e9ed0a57db740cc8ae9d32e69780691",
       "version_major": 2,
       "version_minor": 0
      },
      "text/plain": [
       "Validation: |          | 0/? [00:00<?, ?it/s]"
      ]
     },
     "metadata": {},
     "output_type": "display_data"
    },
    {
     "data": {
      "application/vnd.jupyter.widget-view+json": {
       "model_id": "9e703a47f2df405cbffef895095482b7",
       "version_major": 2,
       "version_minor": 0
      },
      "text/plain": [
       "Validation: |          | 0/? [00:00<?, ?it/s]"
      ]
     },
     "metadata": {},
     "output_type": "display_data"
    },
    {
     "data": {
      "application/vnd.jupyter.widget-view+json": {
       "model_id": "723c76e3d0194090a11ea5f89437bd5b",
       "version_major": 2,
       "version_minor": 0
      },
      "text/plain": [
       "Validation: |          | 0/? [00:00<?, ?it/s]"
      ]
     },
     "metadata": {},
     "output_type": "display_data"
    },
    {
     "data": {
      "application/vnd.jupyter.widget-view+json": {
       "model_id": "7cd7633ac1e843d98d5141cd008976d5",
       "version_major": 2,
       "version_minor": 0
      },
      "text/plain": [
       "Validation: |          | 0/? [00:00<?, ?it/s]"
      ]
     },
     "metadata": {},
     "output_type": "display_data"
    },
    {
     "data": {
      "application/vnd.jupyter.widget-view+json": {
       "model_id": "eb94963191ca4bc5a4a1ccb0977e43e8",
       "version_major": 2,
       "version_minor": 0
      },
      "text/plain": [
       "Validation: |          | 0/? [00:00<?, ?it/s]"
      ]
     },
     "metadata": {},
     "output_type": "display_data"
    },
    {
     "data": {
      "application/vnd.jupyter.widget-view+json": {
       "model_id": "1f069031010944dc84cb909fe5c677e6",
       "version_major": 2,
       "version_minor": 0
      },
      "text/plain": [
       "Validation: |          | 0/? [00:00<?, ?it/s]"
      ]
     },
     "metadata": {},
     "output_type": "display_data"
    },
    {
     "name": "stderr",
     "output_type": "stream",
     "text": [
      "[I 2024-11-04 01:32:01,793] Trial 87 finished with value: 0.6296502947807312 and parameters: {'hidden_dim': 32, 'num_layers': 1, 'optimizer_name': 'Adam', 'batch_size': 1024, 'learning_rate': 0.1, 'sentence_representation_type': 'max'}. Best is trial 50 with value: 0.7804877758026123.\n",
      "Seed set to 42\n"
     ]
    },
    {
     "name": "stdout",
     "output_type": "stream",
     "text": [
      "---------- batch_size_2048; lr_0.001; optimizer_Adam; hidden_dim_32; num_layers_1; sentence_representation_max ----------\n"
     ]
    },
    {
     "name": "stderr",
     "output_type": "stream",
     "text": [
      "[I 2024-11-04 01:32:02,394] Trial 88 finished with value: 0.7804877758026123 and parameters: {'hidden_dim': 32, 'num_layers': 1, 'optimizer_name': 'Adam', 'batch_size': 2048, 'learning_rate': 0.001, 'sentence_representation_type': 'max'}. Best is trial 50 with value: 0.7804877758026123.\n",
      "Seed set to 42\n"
     ]
    },
    {
     "name": "stdout",
     "output_type": "stream",
     "text": [
      "[Skipping] rnn/test/w2v-3b/batch_size_2048-lr_0.001-optimizer_Adam-hidden_dim_32-num_layers_1-sr_type_max-freeze_False\n",
      "---------- batch_size_32; lr_0.001; optimizer_Adam; hidden_dim_32; num_layers_1; sentence_representation_max ----------\n"
     ]
    },
    {
     "name": "stderr",
     "output_type": "stream",
     "text": [
      "GPU available: True (cuda), used: False\n",
      "TPU available: False, using: 0 TPU cores\n",
      "HPU available: False, using: 0 HPUs\n",
      "\n",
      "  | Name   | Type               | Params | Mode \n",
      "------------------------------------------------------\n",
      "0 | model  | RNN                | 4.9 M  | train\n",
      "1 | metric | MulticlassAccuracy | 0      | train\n",
      "------------------------------------------------------\n",
      "4.9 M     Trainable params\n",
      "0         Non-trainable params\n",
      "4.9 M     Total params\n",
      "19.646    Total estimated model params size (MB)\n",
      "7         Modules in train mode\n",
      "0         Modules in eval mode\n"
     ]
    },
    {
     "data": {
      "application/vnd.jupyter.widget-view+json": {
       "model_id": "572ceb7fdc7b42ceb0b41b52fefa3055",
       "version_major": 2,
       "version_minor": 0
      },
      "text/plain": [
       "Sanity Checking: |          | 0/? [00:00<?, ?it/s]"
      ]
     },
     "metadata": {},
     "output_type": "display_data"
    },
    {
     "data": {
      "application/vnd.jupyter.widget-view+json": {
       "model_id": "5644f865ae234ef5ba983b2400343b7e",
       "version_major": 2,
       "version_minor": 0
      },
      "text/plain": [
       "Training: |          | 0/? [00:00<?, ?it/s]"
      ]
     },
     "metadata": {},
     "output_type": "display_data"
    },
    {
     "data": {
      "application/vnd.jupyter.widget-view+json": {
       "model_id": "ab56e3d523764700b0ed44991a1d97e5",
       "version_major": 2,
       "version_minor": 0
      },
      "text/plain": [
       "Validation: |          | 0/? [00:00<?, ?it/s]"
      ]
     },
     "metadata": {},
     "output_type": "display_data"
    },
    {
     "data": {
      "application/vnd.jupyter.widget-view+json": {
       "model_id": "0727249f1233470a9f110b2e366511c9",
       "version_major": 2,
       "version_minor": 0
      },
      "text/plain": [
       "Validation: |          | 0/? [00:00<?, ?it/s]"
      ]
     },
     "metadata": {},
     "output_type": "display_data"
    },
    {
     "data": {
      "application/vnd.jupyter.widget-view+json": {
       "model_id": "d656aea7f89346e5afd4690abd0cebc2",
       "version_major": 2,
       "version_minor": 0
      },
      "text/plain": [
       "Validation: |          | 0/? [00:00<?, ?it/s]"
      ]
     },
     "metadata": {},
     "output_type": "display_data"
    },
    {
     "data": {
      "application/vnd.jupyter.widget-view+json": {
       "model_id": "2ebf8934408a4fc991ff92368c03b77f",
       "version_major": 2,
       "version_minor": 0
      },
      "text/plain": [
       "Validation: |          | 0/? [00:00<?, ?it/s]"
      ]
     },
     "metadata": {},
     "output_type": "display_data"
    },
    {
     "name": "stderr",
     "output_type": "stream",
     "text": [
      "[I 2024-11-04 01:33:19,360] Trial 89 finished with value: 0.3944307565689087 and parameters: {'hidden_dim': 32, 'num_layers': 1, 'optimizer_name': 'Adam', 'batch_size': 32, 'learning_rate': 0.001, 'sentence_representation_type': 'max'}. Best is trial 50 with value: 0.7804877758026123.\n",
      "Seed set to 42\n"
     ]
    },
    {
     "name": "stdout",
     "output_type": "stream",
     "text": [
      "---------- batch_size_64; lr_0.001; optimizer_Adam; hidden_dim_32; num_layers_2; sentence_representation_max ----------\n"
     ]
    },
    {
     "name": "stderr",
     "output_type": "stream",
     "text": [
      "GPU available: True (cuda), used: False\n",
      "TPU available: False, using: 0 TPU cores\n",
      "HPU available: False, using: 0 HPUs\n",
      "\n",
      "  | Name   | Type               | Params | Mode \n",
      "------------------------------------------------------\n",
      "0 | model  | RNN                | 4.9 M  | train\n",
      "1 | metric | MulticlassAccuracy | 0      | train\n",
      "------------------------------------------------------\n",
      "4.9 M     Trainable params\n",
      "0         Non-trainable params\n",
      "4.9 M     Total params\n",
      "19.654    Total estimated model params size (MB)\n",
      "7         Modules in train mode\n",
      "0         Modules in eval mode\n"
     ]
    },
    {
     "data": {
      "application/vnd.jupyter.widget-view+json": {
       "model_id": "340164b192014c508a3aef6d6a005034",
       "version_major": 2,
       "version_minor": 0
      },
      "text/plain": [
       "Sanity Checking: |          | 0/? [00:00<?, ?it/s]"
      ]
     },
     "metadata": {},
     "output_type": "display_data"
    },
    {
     "data": {
      "application/vnd.jupyter.widget-view+json": {
       "model_id": "402b5d4a5c7c4af0aa72a5a55131824f",
       "version_major": 2,
       "version_minor": 0
      },
      "text/plain": [
       "Training: |          | 0/? [00:00<?, ?it/s]"
      ]
     },
     "metadata": {},
     "output_type": "display_data"
    },
    {
     "data": {
      "application/vnd.jupyter.widget-view+json": {
       "model_id": "4536065bc009489f855b3a3a79b45065",
       "version_major": 2,
       "version_minor": 0
      },
      "text/plain": [
       "Validation: |          | 0/? [00:00<?, ?it/s]"
      ]
     },
     "metadata": {},
     "output_type": "display_data"
    },
    {
     "data": {
      "application/vnd.jupyter.widget-view+json": {
       "model_id": "781937b72fe643f981f5231b5a161aff",
       "version_major": 2,
       "version_minor": 0
      },
      "text/plain": [
       "Validation: |          | 0/? [00:00<?, ?it/s]"
      ]
     },
     "metadata": {},
     "output_type": "display_data"
    },
    {
     "data": {
      "application/vnd.jupyter.widget-view+json": {
       "model_id": "fe29f444780c415cb7e9ea462583ee5b",
       "version_major": 2,
       "version_minor": 0
      },
      "text/plain": [
       "Validation: |          | 0/? [00:00<?, ?it/s]"
      ]
     },
     "metadata": {},
     "output_type": "display_data"
    },
    {
     "data": {
      "application/vnd.jupyter.widget-view+json": {
       "model_id": "a4e58459dab24da9a5d87f5ff1f0b80a",
       "version_major": 2,
       "version_minor": 0
      },
      "text/plain": [
       "Validation: |          | 0/? [00:00<?, ?it/s]"
      ]
     },
     "metadata": {},
     "output_type": "display_data"
    },
    {
     "data": {
      "application/vnd.jupyter.widget-view+json": {
       "model_id": "8834ede440e3439cae4627b04e2fd732",
       "version_major": 2,
       "version_minor": 0
      },
      "text/plain": [
       "Validation: |          | 0/? [00:00<?, ?it/s]"
      ]
     },
     "metadata": {},
     "output_type": "display_data"
    },
    {
     "name": "stderr",
     "output_type": "stream",
     "text": [
      "[I 2024-11-04 01:34:28,992] Trial 90 finished with value: 0.40674299001693726 and parameters: {'hidden_dim': 32, 'num_layers': 2, 'optimizer_name': 'Adam', 'batch_size': 64, 'learning_rate': 0.001, 'sentence_representation_type': 'max'}. Best is trial 50 with value: 0.7804877758026123.\n",
      "Seed set to 42\n"
     ]
    },
    {
     "name": "stdout",
     "output_type": "stream",
     "text": [
      "---------- batch_size_2048; lr_0.001; optimizer_Adam; hidden_dim_32; num_layers_1; sentence_representation_max ----------\n"
     ]
    },
    {
     "name": "stderr",
     "output_type": "stream",
     "text": [
      "[I 2024-11-04 01:34:29,671] Trial 91 finished with value: 0.7804877758026123 and parameters: {'hidden_dim': 32, 'num_layers': 1, 'optimizer_name': 'Adam', 'batch_size': 2048, 'learning_rate': 0.001, 'sentence_representation_type': 'max'}. Best is trial 50 with value: 0.7804877758026123.\n",
      "Seed set to 42\n"
     ]
    },
    {
     "name": "stdout",
     "output_type": "stream",
     "text": [
      "[Skipping] rnn/test/w2v-3b/batch_size_2048-lr_0.001-optimizer_Adam-hidden_dim_32-num_layers_1-sr_type_max-freeze_False\n",
      "---------- batch_size_2048; lr_0.001; optimizer_Adam; hidden_dim_32; num_layers_1; sentence_representation_max ----------\n"
     ]
    },
    {
     "name": "stderr",
     "output_type": "stream",
     "text": [
      "[I 2024-11-04 01:34:30,353] Trial 92 finished with value: 0.7804877758026123 and parameters: {'hidden_dim': 32, 'num_layers': 1, 'optimizer_name': 'Adam', 'batch_size': 2048, 'learning_rate': 0.001, 'sentence_representation_type': 'max'}. Best is trial 50 with value: 0.7804877758026123.\n",
      "Seed set to 42\n"
     ]
    },
    {
     "name": "stdout",
     "output_type": "stream",
     "text": [
      "[Skipping] rnn/test/w2v-3b/batch_size_2048-lr_0.001-optimizer_Adam-hidden_dim_32-num_layers_1-sr_type_max-freeze_False\n",
      "---------- batch_size_2048; lr_0.001; optimizer_Adam; hidden_dim_32; num_layers_1; sentence_representation_max ----------\n"
     ]
    },
    {
     "name": "stderr",
     "output_type": "stream",
     "text": [
      "[I 2024-11-04 01:34:30,980] Trial 93 finished with value: 0.7804877758026123 and parameters: {'hidden_dim': 32, 'num_layers': 1, 'optimizer_name': 'Adam', 'batch_size': 2048, 'learning_rate': 0.001, 'sentence_representation_type': 'max'}. Best is trial 50 with value: 0.7804877758026123.\n",
      "Seed set to 42\n"
     ]
    },
    {
     "name": "stdout",
     "output_type": "stream",
     "text": [
      "[Skipping] rnn/test/w2v-3b/batch_size_2048-lr_0.001-optimizer_Adam-hidden_dim_32-num_layers_1-sr_type_max-freeze_False\n",
      "---------- batch_size_2048; lr_0.001; optimizer_Adam; hidden_dim_32; num_layers_1; sentence_representation_max ----------\n"
     ]
    },
    {
     "name": "stderr",
     "output_type": "stream",
     "text": [
      "[I 2024-11-04 01:34:31,598] Trial 94 finished with value: 0.7804877758026123 and parameters: {'hidden_dim': 32, 'num_layers': 1, 'optimizer_name': 'Adam', 'batch_size': 2048, 'learning_rate': 0.001, 'sentence_representation_type': 'max'}. Best is trial 50 with value: 0.7804877758026123.\n",
      "Seed set to 42\n"
     ]
    },
    {
     "name": "stdout",
     "output_type": "stream",
     "text": [
      "[Skipping] rnn/test/w2v-3b/batch_size_2048-lr_0.001-optimizer_Adam-hidden_dim_32-num_layers_1-sr_type_max-freeze_False\n",
      "---------- batch_size_128; lr_0.001; optimizer_Adam; hidden_dim_64; num_layers_1; sentence_representation_max ----------\n"
     ]
    },
    {
     "name": "stderr",
     "output_type": "stream",
     "text": [
      "GPU available: True (cuda), used: False\n",
      "TPU available: False, using: 0 TPU cores\n",
      "HPU available: False, using: 0 HPUs\n",
      "\n",
      "  | Name   | Type               | Params | Mode \n",
      "------------------------------------------------------\n",
      "0 | model  | RNN                | 4.9 M  | train\n",
      "1 | metric | MulticlassAccuracy | 0      | train\n",
      "------------------------------------------------------\n",
      "4.9 M     Trainable params\n",
      "0         Non-trainable params\n",
      "4.9 M     Total params\n",
      "19.703    Total estimated model params size (MB)\n",
      "7         Modules in train mode\n",
      "0         Modules in eval mode\n"
     ]
    },
    {
     "data": {
      "application/vnd.jupyter.widget-view+json": {
       "model_id": "adfb6f35d2a54c7aa3bc7f06cc38bc8a",
       "version_major": 2,
       "version_minor": 0
      },
      "text/plain": [
       "Sanity Checking: |          | 0/? [00:00<?, ?it/s]"
      ]
     },
     "metadata": {},
     "output_type": "display_data"
    },
    {
     "data": {
      "application/vnd.jupyter.widget-view+json": {
       "model_id": "8d31331ce7a74288921587352c170b8b",
       "version_major": 2,
       "version_minor": 0
      },
      "text/plain": [
       "Training: |          | 0/? [00:00<?, ?it/s]"
      ]
     },
     "metadata": {},
     "output_type": "display_data"
    },
    {
     "data": {
      "application/vnd.jupyter.widget-view+json": {
       "model_id": "2271914b72cf48c2b6b3ba74422fe308",
       "version_major": 2,
       "version_minor": 0
      },
      "text/plain": [
       "Validation: |          | 0/? [00:00<?, ?it/s]"
      ]
     },
     "metadata": {},
     "output_type": "display_data"
    },
    {
     "data": {
      "application/vnd.jupyter.widget-view+json": {
       "model_id": "d965cbe2a4154fa49ff64091b1f9a8f2",
       "version_major": 2,
       "version_minor": 0
      },
      "text/plain": [
       "Validation: |          | 0/? [00:00<?, ?it/s]"
      ]
     },
     "metadata": {},
     "output_type": "display_data"
    },
    {
     "data": {
      "application/vnd.jupyter.widget-view+json": {
       "model_id": "b69a18423161443180631a25d913acc5",
       "version_major": 2,
       "version_minor": 0
      },
      "text/plain": [
       "Validation: |          | 0/? [00:00<?, ?it/s]"
      ]
     },
     "metadata": {},
     "output_type": "display_data"
    },
    {
     "data": {
      "application/vnd.jupyter.widget-view+json": {
       "model_id": "0824320a633f4831841e2287f62468a0",
       "version_major": 2,
       "version_minor": 0
      },
      "text/plain": [
       "Validation: |          | 0/? [00:00<?, ?it/s]"
      ]
     },
     "metadata": {},
     "output_type": "display_data"
    },
    {
     "data": {
      "application/vnd.jupyter.widget-view+json": {
       "model_id": "682671a163574fe884e7faf2db1d83c2",
       "version_major": 2,
       "version_minor": 0
      },
      "text/plain": [
       "Validation: |          | 0/? [00:00<?, ?it/s]"
      ]
     },
     "metadata": {},
     "output_type": "display_data"
    },
    {
     "name": "stderr",
     "output_type": "stream",
     "text": [
      "[I 2024-11-04 01:35:25,404] Trial 95 finished with value: 0.42969217896461487 and parameters: {'hidden_dim': 64, 'num_layers': 1, 'optimizer_name': 'Adam', 'batch_size': 128, 'learning_rate': 0.001, 'sentence_representation_type': 'max'}. Best is trial 50 with value: 0.7804877758026123.\n",
      "Seed set to 42\n"
     ]
    },
    {
     "name": "stdout",
     "output_type": "stream",
     "text": [
      "---------- batch_size_2048; lr_0.001; optimizer_Adam; hidden_dim_32; num_layers_1; sentence_representation_max ----------\n"
     ]
    },
    {
     "name": "stderr",
     "output_type": "stream",
     "text": [
      "[I 2024-11-04 01:35:26,034] Trial 96 finished with value: 0.7804877758026123 and parameters: {'hidden_dim': 32, 'num_layers': 1, 'optimizer_name': 'Adam', 'batch_size': 2048, 'learning_rate': 0.001, 'sentence_representation_type': 'max'}. Best is trial 50 with value: 0.7804877758026123.\n",
      "Seed set to 42\n"
     ]
    },
    {
     "name": "stdout",
     "output_type": "stream",
     "text": [
      "[Skipping] rnn/test/w2v-3b/batch_size_2048-lr_0.001-optimizer_Adam-hidden_dim_32-num_layers_1-sr_type_max-freeze_False\n",
      "---------- batch_size_2048; lr_0.001; optimizer_Adam; hidden_dim_256; num_layers_3; sentence_representation_max ----------\n"
     ]
    },
    {
     "name": "stderr",
     "output_type": "stream",
     "text": [
      "GPU available: True (cuda), used: False\n",
      "TPU available: False, using: 0 TPU cores\n",
      "HPU available: False, using: 0 HPUs\n",
      "\n",
      "  | Name   | Type               | Params | Mode \n",
      "------------------------------------------------------\n",
      "0 | model  | RNN                | 5.3 M  | train\n",
      "1 | metric | MulticlassAccuracy | 0      | train\n",
      "------------------------------------------------------\n",
      "5.3 M     Trainable params\n",
      "0         Non-trainable params\n",
      "5.3 M     Total params\n",
      "21.357    Total estimated model params size (MB)\n",
      "7         Modules in train mode\n",
      "0         Modules in eval mode\n"
     ]
    },
    {
     "data": {
      "application/vnd.jupyter.widget-view+json": {
       "model_id": "1dac0c8b2de74b94b7f934fba741cc14",
       "version_major": 2,
       "version_minor": 0
      },
      "text/plain": [
       "Sanity Checking: |          | 0/? [00:00<?, ?it/s]"
      ]
     },
     "metadata": {},
     "output_type": "display_data"
    },
    {
     "data": {
      "application/vnd.jupyter.widget-view+json": {
       "model_id": "fa17ac2a97d749769f7b1d970ca0605b",
       "version_major": 2,
       "version_minor": 0
      },
      "text/plain": [
       "Training: |          | 0/? [00:00<?, ?it/s]"
      ]
     },
     "metadata": {},
     "output_type": "display_data"
    },
    {
     "data": {
      "application/vnd.jupyter.widget-view+json": {
       "model_id": "f2d2fede3bc94298b2dfab2c06ee031b",
       "version_major": 2,
       "version_minor": 0
      },
      "text/plain": [
       "Validation: |          | 0/? [00:00<?, ?it/s]"
      ]
     },
     "metadata": {},
     "output_type": "display_data"
    },
    {
     "data": {
      "application/vnd.jupyter.widget-view+json": {
       "model_id": "8352de8d9b9c4501bff0209c31b9281a",
       "version_major": 2,
       "version_minor": 0
      },
      "text/plain": [
       "Validation: |          | 0/? [00:00<?, ?it/s]"
      ]
     },
     "metadata": {},
     "output_type": "display_data"
    },
    {
     "data": {
      "application/vnd.jupyter.widget-view+json": {
       "model_id": "e49fd849792441459cd4e2969b2e23fb",
       "version_major": 2,
       "version_minor": 0
      },
      "text/plain": [
       "Validation: |          | 0/? [00:00<?, ?it/s]"
      ]
     },
     "metadata": {},
     "output_type": "display_data"
    },
    {
     "data": {
      "application/vnd.jupyter.widget-view+json": {
       "model_id": "03cf94348f724ec991991a63fb852157",
       "version_major": 2,
       "version_minor": 0
      },
      "text/plain": [
       "Validation: |          | 0/? [00:00<?, ?it/s]"
      ]
     },
     "metadata": {},
     "output_type": "display_data"
    },
    {
     "data": {
      "application/vnd.jupyter.widget-view+json": {
       "model_id": "1435398bafa54cd3a5745044cde134ac",
       "version_major": 2,
       "version_minor": 0
      },
      "text/plain": [
       "Validation: |          | 0/? [00:00<?, ?it/s]"
      ]
     },
     "metadata": {},
     "output_type": "display_data"
    },
    {
     "data": {
      "application/vnd.jupyter.widget-view+json": {
       "model_id": "2c7b710d9bde4c82a0c2f8e611982641",
       "version_major": 2,
       "version_minor": 0
      },
      "text/plain": [
       "Validation: |          | 0/? [00:00<?, ?it/s]"
      ]
     },
     "metadata": {},
     "output_type": "display_data"
    },
    {
     "data": {
      "application/vnd.jupyter.widget-view+json": {
       "model_id": "50f9b7d86725473a9d45c57cd74118f1",
       "version_major": 2,
       "version_minor": 0
      },
      "text/plain": [
       "Validation: |          | 0/? [00:00<?, ?it/s]"
      ]
     },
     "metadata": {},
     "output_type": "display_data"
    },
    {
     "data": {
      "application/vnd.jupyter.widget-view+json": {
       "model_id": "4d3ad2b512d44702948e35c3888af045",
       "version_major": 2,
       "version_minor": 0
      },
      "text/plain": [
       "Validation: |          | 0/? [00:00<?, ?it/s]"
      ]
     },
     "metadata": {},
     "output_type": "display_data"
    },
    {
     "data": {
      "application/vnd.jupyter.widget-view+json": {
       "model_id": "f40d327ef9254e1088b2bde20e0d9c3a",
       "version_major": 2,
       "version_minor": 0
      },
      "text/plain": [
       "Validation: |          | 0/? [00:00<?, ?it/s]"
      ]
     },
     "metadata": {},
     "output_type": "display_data"
    },
    {
     "name": "stderr",
     "output_type": "stream",
     "text": [
      "[I 2024-11-04 01:38:13,415] Trial 97 finished with value: 0.7701689004898071 and parameters: {'hidden_dim': 256, 'num_layers': 3, 'optimizer_name': 'Adam', 'batch_size': 2048, 'learning_rate': 0.001, 'sentence_representation_type': 'max'}. Best is trial 50 with value: 0.7804877758026123.\n",
      "Seed set to 42\n"
     ]
    },
    {
     "name": "stdout",
     "output_type": "stream",
     "text": [
      "---------- batch_size_2048; lr_0.01; optimizer_Adam; hidden_dim_32; num_layers_1; sentence_representation_last ----------\n"
     ]
    },
    {
     "name": "stderr",
     "output_type": "stream",
     "text": [
      "GPU available: True (cuda), used: False\n",
      "TPU available: False, using: 0 TPU cores\n",
      "HPU available: False, using: 0 HPUs\n",
      "\n",
      "  | Name   | Type               | Params | Mode \n",
      "------------------------------------------------------\n",
      "0 | model  | RNN                | 4.9 M  | train\n",
      "1 | metric | MulticlassAccuracy | 0      | train\n",
      "------------------------------------------------------\n",
      "4.9 M     Trainable params\n",
      "0         Non-trainable params\n",
      "4.9 M     Total params\n",
      "19.646    Total estimated model params size (MB)\n",
      "7         Modules in train mode\n",
      "0         Modules in eval mode\n"
     ]
    },
    {
     "data": {
      "application/vnd.jupyter.widget-view+json": {
       "model_id": "ac72fcd9fd65424b894c485e9bd4fcc8",
       "version_major": 2,
       "version_minor": 0
      },
      "text/plain": [
       "Sanity Checking: |          | 0/? [00:00<?, ?it/s]"
      ]
     },
     "metadata": {},
     "output_type": "display_data"
    },
    {
     "data": {
      "application/vnd.jupyter.widget-view+json": {
       "model_id": "cb38b5e1526045a183cf311b73e0b494",
       "version_major": 2,
       "version_minor": 0
      },
      "text/plain": [
       "Training: |          | 0/? [00:00<?, ?it/s]"
      ]
     },
     "metadata": {},
     "output_type": "display_data"
    },
    {
     "data": {
      "application/vnd.jupyter.widget-view+json": {
       "model_id": "d292158256c343e2a63839cd41be7f21",
       "version_major": 2,
       "version_minor": 0
      },
      "text/plain": [
       "Validation: |          | 0/? [00:00<?, ?it/s]"
      ]
     },
     "metadata": {},
     "output_type": "display_data"
    },
    {
     "data": {
      "application/vnd.jupyter.widget-view+json": {
       "model_id": "98deaa06df22423fb71e7fff9f709c57",
       "version_major": 2,
       "version_minor": 0
      },
      "text/plain": [
       "Validation: |          | 0/? [00:00<?, ?it/s]"
      ]
     },
     "metadata": {},
     "output_type": "display_data"
    },
    {
     "data": {
      "application/vnd.jupyter.widget-view+json": {
       "model_id": "c4f8363d09cc41b09ab54a96c306aa63",
       "version_major": 2,
       "version_minor": 0
      },
      "text/plain": [
       "Validation: |          | 0/? [00:00<?, ?it/s]"
      ]
     },
     "metadata": {},
     "output_type": "display_data"
    },
    {
     "data": {
      "application/vnd.jupyter.widget-view+json": {
       "model_id": "dc6f36475da44beda5fe65818ce5a535",
       "version_major": 2,
       "version_minor": 0
      },
      "text/plain": [
       "Validation: |          | 0/? [00:00<?, ?it/s]"
      ]
     },
     "metadata": {},
     "output_type": "display_data"
    },
    {
     "name": "stderr",
     "output_type": "stream",
     "text": [
      "[I 2024-11-04 01:38:51,748] Trial 98 finished with value: 0.707317054271698 and parameters: {'hidden_dim': 32, 'num_layers': 1, 'optimizer_name': 'Adam', 'batch_size': 2048, 'learning_rate': 0.01, 'sentence_representation_type': 'last'}. Best is trial 50 with value: 0.7804877758026123.\n",
      "Seed set to 42\n"
     ]
    },
    {
     "name": "stdout",
     "output_type": "stream",
     "text": [
      "---------- batch_size_2048; lr_0.001; optimizer_Adam; hidden_dim_32; num_layers_1; sentence_representation_average ----------\n"
     ]
    },
    {
     "name": "stderr",
     "output_type": "stream",
     "text": [
      "[I 2024-11-04 01:38:52,355] Trial 99 finished with value: 0.7514071464538574 and parameters: {'hidden_dim': 32, 'num_layers': 1, 'optimizer_name': 'Adam', 'batch_size': 2048, 'learning_rate': 0.001, 'sentence_representation_type': 'average'}. Best is trial 50 with value: 0.7804877758026123.\n",
      "Seed set to 42\n"
     ]
    },
    {
     "name": "stdout",
     "output_type": "stream",
     "text": [
      "[Skipping] rnn/test/w2v-3b/batch_size_2048-lr_0.001-optimizer_Adam-hidden_dim_32-num_layers_1-sr_type_average-freeze_False\n",
      "---------- batch_size_256; lr_0.0001; optimizer_Adam; hidden_dim_32; num_layers_1; sentence_representation_max ----------\n"
     ]
    },
    {
     "name": "stderr",
     "output_type": "stream",
     "text": [
      "GPU available: True (cuda), used: False\n",
      "TPU available: False, using: 0 TPU cores\n",
      "HPU available: False, using: 0 HPUs\n",
      "\n",
      "  | Name   | Type               | Params | Mode \n",
      "------------------------------------------------------\n",
      "0 | model  | RNN                | 4.9 M  | train\n",
      "1 | metric | MulticlassAccuracy | 0      | train\n",
      "------------------------------------------------------\n",
      "4.9 M     Trainable params\n",
      "0         Non-trainable params\n",
      "4.9 M     Total params\n",
      "19.646    Total estimated model params size (MB)\n",
      "7         Modules in train mode\n",
      "0         Modules in eval mode\n"
     ]
    },
    {
     "data": {
      "application/vnd.jupyter.widget-view+json": {
       "model_id": "a5dd7a7128c0444b85e4527410f23866",
       "version_major": 2,
       "version_minor": 0
      },
      "text/plain": [
       "Sanity Checking: |          | 0/? [00:00<?, ?it/s]"
      ]
     },
     "metadata": {},
     "output_type": "display_data"
    },
    {
     "data": {
      "application/vnd.jupyter.widget-view+json": {
       "model_id": "a6116c3311074f9e8527f73c59174cfe",
       "version_major": 2,
       "version_minor": 0
      },
      "text/plain": [
       "Training: |          | 0/? [00:00<?, ?it/s]"
      ]
     },
     "metadata": {},
     "output_type": "display_data"
    },
    {
     "data": {
      "application/vnd.jupyter.widget-view+json": {
       "model_id": "5a66ef821a214f09aefda3750b1c3608",
       "version_major": 2,
       "version_minor": 0
      },
      "text/plain": [
       "Validation: |          | 0/? [00:00<?, ?it/s]"
      ]
     },
     "metadata": {},
     "output_type": "display_data"
    },
    {
     "data": {
      "application/vnd.jupyter.widget-view+json": {
       "model_id": "1673290c6ef94af9a30c8205601a6fcf",
       "version_major": 2,
       "version_minor": 0
      },
      "text/plain": [
       "Validation: |          | 0/? [00:00<?, ?it/s]"
      ]
     },
     "metadata": {},
     "output_type": "display_data"
    },
    {
     "data": {
      "application/vnd.jupyter.widget-view+json": {
       "model_id": "e730e7638a854d24bc8922be73075ec4",
       "version_major": 2,
       "version_minor": 0
      },
      "text/plain": [
       "Validation: |          | 0/? [00:00<?, ?it/s]"
      ]
     },
     "metadata": {},
     "output_type": "display_data"
    },
    {
     "data": {
      "application/vnd.jupyter.widget-view+json": {
       "model_id": "eefb5f972349443da424ac7f059c4bc8",
       "version_major": 2,
       "version_minor": 0
      },
      "text/plain": [
       "Validation: |          | 0/? [00:00<?, ?it/s]"
      ]
     },
     "metadata": {},
     "output_type": "display_data"
    },
    {
     "data": {
      "application/vnd.jupyter.widget-view+json": {
       "model_id": "0e64f7f52ead42e49b4fc0da58272991",
       "version_major": 2,
       "version_minor": 0
      },
      "text/plain": [
       "Validation: |          | 0/? [00:00<?, ?it/s]"
      ]
     },
     "metadata": {},
     "output_type": "display_data"
    },
    {
     "data": {
      "application/vnd.jupyter.widget-view+json": {
       "model_id": "f37c61591a5242078bc0545233be3d1a",
       "version_major": 2,
       "version_minor": 0
      },
      "text/plain": [
       "Validation: |          | 0/? [00:00<?, ?it/s]"
      ]
     },
     "metadata": {},
     "output_type": "display_data"
    },
    {
     "data": {
      "application/vnd.jupyter.widget-view+json": {
       "model_id": "4079c4e859604a41996bed671793afc5",
       "version_major": 2,
       "version_minor": 0
      },
      "text/plain": [
       "Validation: |          | 0/? [00:00<?, ?it/s]"
      ]
     },
     "metadata": {},
     "output_type": "display_data"
    },
    {
     "data": {
      "application/vnd.jupyter.widget-view+json": {
       "model_id": "bafa4fe25e7b4731923674717b5a02eb",
       "version_major": 2,
       "version_minor": 0
      },
      "text/plain": [
       "Validation: |          | 0/? [00:00<?, ?it/s]"
      ]
     },
     "metadata": {},
     "output_type": "display_data"
    },
    {
     "data": {
      "application/vnd.jupyter.widget-view+json": {
       "model_id": "538aee1b49094f6982c1eb4c453b9aed",
       "version_major": 2,
       "version_minor": 0
      },
      "text/plain": [
       "Validation: |          | 0/? [00:00<?, ?it/s]"
      ]
     },
     "metadata": {},
     "output_type": "display_data"
    },
    {
     "data": {
      "application/vnd.jupyter.widget-view+json": {
       "model_id": "be29e1dd63a04073a6503a66f5df6b23",
       "version_major": 2,
       "version_minor": 0
      },
      "text/plain": [
       "Validation: |          | 0/? [00:00<?, ?it/s]"
      ]
     },
     "metadata": {},
     "output_type": "display_data"
    },
    {
     "data": {
      "application/vnd.jupyter.widget-view+json": {
       "model_id": "24fd0149f67243ac92018fc04c5b4db0",
       "version_major": 2,
       "version_minor": 0
      },
      "text/plain": [
       "Validation: |          | 0/? [00:00<?, ?it/s]"
      ]
     },
     "metadata": {},
     "output_type": "display_data"
    },
    {
     "data": {
      "application/vnd.jupyter.widget-view+json": {
       "model_id": "6a0f371e2f95450580154750fac64f69",
       "version_major": 2,
       "version_minor": 0
      },
      "text/plain": [
       "Validation: |          | 0/? [00:00<?, ?it/s]"
      ]
     },
     "metadata": {},
     "output_type": "display_data"
    },
    {
     "data": {
      "application/vnd.jupyter.widget-view+json": {
       "model_id": "4aebaa8555fb4275a66e9f2ec82704ba",
       "version_major": 2,
       "version_minor": 0
      },
      "text/plain": [
       "Validation: |          | 0/? [00:00<?, ?it/s]"
      ]
     },
     "metadata": {},
     "output_type": "display_data"
    },
    {
     "data": {
      "application/vnd.jupyter.widget-view+json": {
       "model_id": "a24fee3a75734c06a18f13de5a3d0d37",
       "version_major": 2,
       "version_minor": 0
      },
      "text/plain": [
       "Validation: |          | 0/? [00:00<?, ?it/s]"
      ]
     },
     "metadata": {},
     "output_type": "display_data"
    },
    {
     "data": {
      "application/vnd.jupyter.widget-view+json": {
       "model_id": "bc1bf2bdb7854cb99cb697cbe20f6d58",
       "version_major": 2,
       "version_minor": 0
      },
      "text/plain": [
       "Validation: |          | 0/? [00:00<?, ?it/s]"
      ]
     },
     "metadata": {},
     "output_type": "display_data"
    },
    {
     "data": {
      "application/vnd.jupyter.widget-view+json": {
       "model_id": "66d384f1cd8a4d4aa0b6418c5da388c1",
       "version_major": 2,
       "version_minor": 0
      },
      "text/plain": [
       "Validation: |          | 0/? [00:00<?, ?it/s]"
      ]
     },
     "metadata": {},
     "output_type": "display_data"
    },
    {
     "data": {
      "application/vnd.jupyter.widget-view+json": {
       "model_id": "7bea7810b5ec4a25bc73e2a19e1b1c65",
       "version_major": 2,
       "version_minor": 0
      },
      "text/plain": [
       "Validation: |          | 0/? [00:00<?, ?it/s]"
      ]
     },
     "metadata": {},
     "output_type": "display_data"
    },
    {
     "data": {
      "application/vnd.jupyter.widget-view+json": {
       "model_id": "4386c3e3dbaa4b8ba6683b511609e2e9",
       "version_major": 2,
       "version_minor": 0
      },
      "text/plain": [
       "Validation: |          | 0/? [00:00<?, ?it/s]"
      ]
     },
     "metadata": {},
     "output_type": "display_data"
    },
    {
     "data": {
      "application/vnd.jupyter.widget-view+json": {
       "model_id": "7817c916fbc24322aaf74948fc2a7303",
       "version_major": 2,
       "version_minor": 0
      },
      "text/plain": [
       "Validation: |          | 0/? [00:00<?, ?it/s]"
      ]
     },
     "metadata": {},
     "output_type": "display_data"
    },
    {
     "data": {
      "application/vnd.jupyter.widget-view+json": {
       "model_id": "cbc04aef44ba450b95de5974ba530974",
       "version_major": 2,
       "version_minor": 0
      },
      "text/plain": [
       "Validation: |          | 0/? [00:00<?, ?it/s]"
      ]
     },
     "metadata": {},
     "output_type": "display_data"
    },
    {
     "data": {
      "application/vnd.jupyter.widget-view+json": {
       "model_id": "59a71dc7d464415e979c100d24ad1818",
       "version_major": 2,
       "version_minor": 0
      },
      "text/plain": [
       "Validation: |          | 0/? [00:00<?, ?it/s]"
      ]
     },
     "metadata": {},
     "output_type": "display_data"
    },
    {
     "name": "stderr",
     "output_type": "stream",
     "text": [
      "[I 2024-11-04 01:40:24,081] Trial 100 finished with value: 0.4558663070201874 and parameters: {'hidden_dim': 32, 'num_layers': 1, 'optimizer_name': 'Adam', 'batch_size': 256, 'learning_rate': 0.0001, 'sentence_representation_type': 'max'}. Best is trial 50 with value: 0.7804877758026123.\n",
      "Seed set to 42\n"
     ]
    },
    {
     "name": "stdout",
     "output_type": "stream",
     "text": [
      "---------- batch_size_2048; lr_0.001; optimizer_Adam; hidden_dim_32; num_layers_1; sentence_representation_max ----------\n"
     ]
    },
    {
     "name": "stderr",
     "output_type": "stream",
     "text": [
      "[I 2024-11-04 01:40:24,708] Trial 101 finished with value: 0.7804877758026123 and parameters: {'hidden_dim': 32, 'num_layers': 1, 'optimizer_name': 'Adam', 'batch_size': 2048, 'learning_rate': 0.001, 'sentence_representation_type': 'max'}. Best is trial 50 with value: 0.7804877758026123.\n",
      "Seed set to 42\n"
     ]
    },
    {
     "name": "stdout",
     "output_type": "stream",
     "text": [
      "[Skipping] rnn/test/w2v-3b/batch_size_2048-lr_0.001-optimizer_Adam-hidden_dim_32-num_layers_1-sr_type_max-freeze_False\n",
      "---------- batch_size_2048; lr_0.001; optimizer_Adam; hidden_dim_32; num_layers_1; sentence_representation_max ----------\n"
     ]
    },
    {
     "name": "stderr",
     "output_type": "stream",
     "text": [
      "[I 2024-11-04 01:40:25,312] Trial 102 finished with value: 0.7804877758026123 and parameters: {'hidden_dim': 32, 'num_layers': 1, 'optimizer_name': 'Adam', 'batch_size': 2048, 'learning_rate': 0.001, 'sentence_representation_type': 'max'}. Best is trial 50 with value: 0.7804877758026123.\n",
      "Seed set to 42\n"
     ]
    },
    {
     "name": "stdout",
     "output_type": "stream",
     "text": [
      "[Skipping] rnn/test/w2v-3b/batch_size_2048-lr_0.001-optimizer_Adam-hidden_dim_32-num_layers_1-sr_type_max-freeze_False\n",
      "---------- batch_size_2048; lr_0.001; optimizer_Adam; hidden_dim_32; num_layers_1; sentence_representation_max ----------\n"
     ]
    },
    {
     "name": "stderr",
     "output_type": "stream",
     "text": [
      "[I 2024-11-04 01:40:25,912] Trial 103 finished with value: 0.7804877758026123 and parameters: {'hidden_dim': 32, 'num_layers': 1, 'optimizer_name': 'Adam', 'batch_size': 2048, 'learning_rate': 0.001, 'sentence_representation_type': 'max'}. Best is trial 50 with value: 0.7804877758026123.\n",
      "Seed set to 42\n"
     ]
    },
    {
     "name": "stdout",
     "output_type": "stream",
     "text": [
      "[Skipping] rnn/test/w2v-3b/batch_size_2048-lr_0.001-optimizer_Adam-hidden_dim_32-num_layers_1-sr_type_max-freeze_False\n",
      "---------- batch_size_2048; lr_0.001; optimizer_Adam; hidden_dim_32; num_layers_1; sentence_representation_max ----------\n"
     ]
    },
    {
     "name": "stderr",
     "output_type": "stream",
     "text": [
      "[I 2024-11-04 01:40:26,510] Trial 104 finished with value: 0.7804877758026123 and parameters: {'hidden_dim': 32, 'num_layers': 1, 'optimizer_name': 'Adam', 'batch_size': 2048, 'learning_rate': 0.001, 'sentence_representation_type': 'max'}. Best is trial 50 with value: 0.7804877758026123.\n",
      "Seed set to 42\n"
     ]
    },
    {
     "name": "stdout",
     "output_type": "stream",
     "text": [
      "[Skipping] rnn/test/w2v-3b/batch_size_2048-lr_0.001-optimizer_Adam-hidden_dim_32-num_layers_1-sr_type_max-freeze_False\n",
      "---------- batch_size_2048; lr_0.001; optimizer_Adam; hidden_dim_32; num_layers_1; sentence_representation_max ----------\n"
     ]
    },
    {
     "name": "stderr",
     "output_type": "stream",
     "text": [
      "[I 2024-11-04 01:40:27,136] Trial 105 finished with value: 0.7804877758026123 and parameters: {'hidden_dim': 32, 'num_layers': 1, 'optimizer_name': 'Adam', 'batch_size': 2048, 'learning_rate': 0.001, 'sentence_representation_type': 'max'}. Best is trial 50 with value: 0.7804877758026123.\n",
      "Seed set to 42\n"
     ]
    },
    {
     "name": "stdout",
     "output_type": "stream",
     "text": [
      "[Skipping] rnn/test/w2v-3b/batch_size_2048-lr_0.001-optimizer_Adam-hidden_dim_32-num_layers_1-sr_type_max-freeze_False\n",
      "---------- batch_size_512; lr_0.1; optimizer_Adam; hidden_dim_32; num_layers_1; sentence_representation_max ----------\n"
     ]
    },
    {
     "name": "stderr",
     "output_type": "stream",
     "text": [
      "GPU available: True (cuda), used: False\n",
      "TPU available: False, using: 0 TPU cores\n",
      "HPU available: False, using: 0 HPUs\n",
      "\n",
      "  | Name   | Type               | Params | Mode \n",
      "------------------------------------------------------\n",
      "0 | model  | RNN                | 4.9 M  | train\n",
      "1 | metric | MulticlassAccuracy | 0      | train\n",
      "------------------------------------------------------\n",
      "4.9 M     Trainable params\n",
      "0         Non-trainable params\n",
      "4.9 M     Total params\n",
      "19.646    Total estimated model params size (MB)\n",
      "7         Modules in train mode\n",
      "0         Modules in eval mode\n"
     ]
    },
    {
     "data": {
      "application/vnd.jupyter.widget-view+json": {
       "model_id": "7c07debbdc5645bd8a571086b467a90f",
       "version_major": 2,
       "version_minor": 0
      },
      "text/plain": [
       "Sanity Checking: |          | 0/? [00:00<?, ?it/s]"
      ]
     },
     "metadata": {},
     "output_type": "display_data"
    },
    {
     "data": {
      "application/vnd.jupyter.widget-view+json": {
       "model_id": "2ed5104b8139481183552013569f2442",
       "version_major": 2,
       "version_minor": 0
      },
      "text/plain": [
       "Training: |          | 0/? [00:00<?, ?it/s]"
      ]
     },
     "metadata": {},
     "output_type": "display_data"
    },
    {
     "data": {
      "application/vnd.jupyter.widget-view+json": {
       "model_id": "eaf578ee5cc44c0bba77e93c3b404067",
       "version_major": 2,
       "version_minor": 0
      },
      "text/plain": [
       "Validation: |          | 0/? [00:00<?, ?it/s]"
      ]
     },
     "metadata": {},
     "output_type": "display_data"
    },
    {
     "data": {
      "application/vnd.jupyter.widget-view+json": {
       "model_id": "9b5f05ffdef64872b5d56b51e93fd710",
       "version_major": 2,
       "version_minor": 0
      },
      "text/plain": [
       "Validation: |          | 0/? [00:00<?, ?it/s]"
      ]
     },
     "metadata": {},
     "output_type": "display_data"
    },
    {
     "data": {
      "application/vnd.jupyter.widget-view+json": {
       "model_id": "20141377a94e4475927c8304376aa1d6",
       "version_major": 2,
       "version_minor": 0
      },
      "text/plain": [
       "Validation: |          | 0/? [00:00<?, ?it/s]"
      ]
     },
     "metadata": {},
     "output_type": "display_data"
    },
    {
     "data": {
      "application/vnd.jupyter.widget-view+json": {
       "model_id": "b346871c125749f1944f39bc9d859caa",
       "version_major": 2,
       "version_minor": 0
      },
      "text/plain": [
       "Validation: |          | 0/? [00:00<?, ?it/s]"
      ]
     },
     "metadata": {},
     "output_type": "display_data"
    },
    {
     "data": {
      "application/vnd.jupyter.widget-view+json": {
       "model_id": "497ac0dd7eeb4b20930eecb4442b7d2f",
       "version_major": 2,
       "version_minor": 0
      },
      "text/plain": [
       "Validation: |          | 0/? [00:00<?, ?it/s]"
      ]
     },
     "metadata": {},
     "output_type": "display_data"
    },
    {
     "data": {
      "application/vnd.jupyter.widget-view+json": {
       "model_id": "834e8cf9f1a444a2bd5a5f7d51ed3d98",
       "version_major": 2,
       "version_minor": 0
      },
      "text/plain": [
       "Validation: |          | 0/? [00:00<?, ?it/s]"
      ]
     },
     "metadata": {},
     "output_type": "display_data"
    },
    {
     "data": {
      "application/vnd.jupyter.widget-view+json": {
       "model_id": "3eac1c5d16fe4fcfaea8171465a2b4d3",
       "version_major": 2,
       "version_minor": 0
      },
      "text/plain": [
       "Validation: |          | 0/? [00:00<?, ?it/s]"
      ]
     },
     "metadata": {},
     "output_type": "display_data"
    },
    {
     "name": "stderr",
     "output_type": "stream",
     "text": [
      "[I 2024-11-04 01:41:13,553] Trial 106 finished with value: 0.50511634349823 and parameters: {'hidden_dim': 32, 'num_layers': 1, 'optimizer_name': 'Adam', 'batch_size': 512, 'learning_rate': 0.1, 'sentence_representation_type': 'max'}. Best is trial 50 with value: 0.7804877758026123.\n",
      "Seed set to 42\n"
     ]
    },
    {
     "name": "stdout",
     "output_type": "stream",
     "text": [
      "---------- batch_size_2048; lr_0.001; optimizer_Adam; hidden_dim_32; num_layers_4; sentence_representation_max ----------\n"
     ]
    },
    {
     "name": "stderr",
     "output_type": "stream",
     "text": [
      "GPU available: True (cuda), used: False\n",
      "TPU available: False, using: 0 TPU cores\n",
      "HPU available: False, using: 0 HPUs\n",
      "\n",
      "  | Name   | Type               | Params | Mode \n",
      "------------------------------------------------------\n",
      "0 | model  | RNN                | 4.9 M  | train\n",
      "1 | metric | MulticlassAccuracy | 0      | train\n",
      "------------------------------------------------------\n",
      "4.9 M     Trainable params\n",
      "0         Non-trainable params\n",
      "4.9 M     Total params\n",
      "19.671    Total estimated model params size (MB)\n",
      "7         Modules in train mode\n",
      "0         Modules in eval mode\n"
     ]
    },
    {
     "data": {
      "application/vnd.jupyter.widget-view+json": {
       "model_id": "78b35db2d7d243c89a8d25368e89ed1a",
       "version_major": 2,
       "version_minor": 0
      },
      "text/plain": [
       "Sanity Checking: |          | 0/? [00:00<?, ?it/s]"
      ]
     },
     "metadata": {},
     "output_type": "display_data"
    },
    {
     "data": {
      "application/vnd.jupyter.widget-view+json": {
       "model_id": "4ba8883bb44b4480bfd2b689b566da40",
       "version_major": 2,
       "version_minor": 0
      },
      "text/plain": [
       "Training: |          | 0/? [00:00<?, ?it/s]"
      ]
     },
     "metadata": {},
     "output_type": "display_data"
    },
    {
     "data": {
      "application/vnd.jupyter.widget-view+json": {
       "model_id": "9fd7a98c80974348904fdbe4276cd7b9",
       "version_major": 2,
       "version_minor": 0
      },
      "text/plain": [
       "Validation: |          | 0/? [00:00<?, ?it/s]"
      ]
     },
     "metadata": {},
     "output_type": "display_data"
    },
    {
     "data": {
      "application/vnd.jupyter.widget-view+json": {
       "model_id": "f322b6f96d1d4581b50bb901ad60935d",
       "version_major": 2,
       "version_minor": 0
      },
      "text/plain": [
       "Validation: |          | 0/? [00:00<?, ?it/s]"
      ]
     },
     "metadata": {},
     "output_type": "display_data"
    },
    {
     "data": {
      "application/vnd.jupyter.widget-view+json": {
       "model_id": "ba015e3f00d74c0c815e5815c54f95cd",
       "version_major": 2,
       "version_minor": 0
      },
      "text/plain": [
       "Validation: |          | 0/? [00:00<?, ?it/s]"
      ]
     },
     "metadata": {},
     "output_type": "display_data"
    },
    {
     "data": {
      "application/vnd.jupyter.widget-view+json": {
       "model_id": "b585017b64a745dca3ee3ba03cef1386",
       "version_major": 2,
       "version_minor": 0
      },
      "text/plain": [
       "Validation: |          | 0/? [00:00<?, ?it/s]"
      ]
     },
     "metadata": {},
     "output_type": "display_data"
    },
    {
     "data": {
      "application/vnd.jupyter.widget-view+json": {
       "model_id": "b64c47b28c524a9da57751b517a8ae3d",
       "version_major": 2,
       "version_minor": 0
      },
      "text/plain": [
       "Validation: |          | 0/? [00:00<?, ?it/s]"
      ]
     },
     "metadata": {},
     "output_type": "display_data"
    },
    {
     "data": {
      "application/vnd.jupyter.widget-view+json": {
       "model_id": "aacfb32fa03e45b782cf41a1c2e781c2",
       "version_major": 2,
       "version_minor": 0
      },
      "text/plain": [
       "Validation: |          | 0/? [00:00<?, ?it/s]"
      ]
     },
     "metadata": {},
     "output_type": "display_data"
    },
    {
     "data": {
      "application/vnd.jupyter.widget-view+json": {
       "model_id": "9231288dad7c4710a967b548fc9bd02d",
       "version_major": 2,
       "version_minor": 0
      },
      "text/plain": [
       "Validation: |          | 0/? [00:00<?, ?it/s]"
      ]
     },
     "metadata": {},
     "output_type": "display_data"
    },
    {
     "data": {
      "application/vnd.jupyter.widget-view+json": {
       "model_id": "896c669736094e09876b96bf7fb77a99",
       "version_major": 2,
       "version_minor": 0
      },
      "text/plain": [
       "Validation: |          | 0/? [00:00<?, ?it/s]"
      ]
     },
     "metadata": {},
     "output_type": "display_data"
    },
    {
     "data": {
      "application/vnd.jupyter.widget-view+json": {
       "model_id": "5035de26fa6644358ce3a93a8a22094d",
       "version_major": 2,
       "version_minor": 0
      },
      "text/plain": [
       "Validation: |          | 0/? [00:00<?, ?it/s]"
      ]
     },
     "metadata": {},
     "output_type": "display_data"
    },
    {
     "data": {
      "application/vnd.jupyter.widget-view+json": {
       "model_id": "7e4da964ca064fe08f9ce32868ea5514",
       "version_major": 2,
       "version_minor": 0
      },
      "text/plain": [
       "Validation: |          | 0/? [00:00<?, ?it/s]"
      ]
     },
     "metadata": {},
     "output_type": "display_data"
    },
    {
     "data": {
      "application/vnd.jupyter.widget-view+json": {
       "model_id": "e02df74105c0415e8584b3d00939b464",
       "version_major": 2,
       "version_minor": 0
      },
      "text/plain": [
       "Validation: |          | 0/? [00:00<?, ?it/s]"
      ]
     },
     "metadata": {},
     "output_type": "display_data"
    },
    {
     "data": {
      "application/vnd.jupyter.widget-view+json": {
       "model_id": "ae2e4920e5af489e902355d3abf36d0b",
       "version_major": 2,
       "version_minor": 0
      },
      "text/plain": [
       "Validation: |          | 0/? [00:00<?, ?it/s]"
      ]
     },
     "metadata": {},
     "output_type": "display_data"
    },
    {
     "data": {
      "application/vnd.jupyter.widget-view+json": {
       "model_id": "44646e4565d24bf6aeac1637a2e34fbb",
       "version_major": 2,
       "version_minor": 0
      },
      "text/plain": [
       "Validation: |          | 0/? [00:00<?, ?it/s]"
      ]
     },
     "metadata": {},
     "output_type": "display_data"
    },
    {
     "data": {
      "application/vnd.jupyter.widget-view+json": {
       "model_id": "203fc3a0c06342b6af4134422869c7ac",
       "version_major": 2,
       "version_minor": 0
      },
      "text/plain": [
       "Validation: |          | 0/? [00:00<?, ?it/s]"
      ]
     },
     "metadata": {},
     "output_type": "display_data"
    },
    {
     "data": {
      "application/vnd.jupyter.widget-view+json": {
       "model_id": "90b3fa4a87034cff94dc9019cfaa7304",
       "version_major": 2,
       "version_minor": 0
      },
      "text/plain": [
       "Validation: |          | 0/? [00:00<?, ?it/s]"
      ]
     },
     "metadata": {},
     "output_type": "display_data"
    },
    {
     "name": "stderr",
     "output_type": "stream",
     "text": [
      "[I 2024-11-04 01:42:22,342] Trial 107 finished with value: 0.7504690289497375 and parameters: {'hidden_dim': 32, 'num_layers': 4, 'optimizer_name': 'Adam', 'batch_size': 2048, 'learning_rate': 0.001, 'sentence_representation_type': 'max'}. Best is trial 50 with value: 0.7804877758026123.\n",
      "Seed set to 42\n"
     ]
    },
    {
     "name": "stdout",
     "output_type": "stream",
     "text": [
      "---------- batch_size_1024; lr_0.001; optimizer_Adam; hidden_dim_32; num_layers_1; sentence_representation_max ----------\n"
     ]
    },
    {
     "name": "stderr",
     "output_type": "stream",
     "text": [
      "GPU available: True (cuda), used: False\n",
      "TPU available: False, using: 0 TPU cores\n",
      "HPU available: False, using: 0 HPUs\n",
      "\n",
      "  | Name   | Type               | Params | Mode \n",
      "------------------------------------------------------\n",
      "0 | model  | RNN                | 4.9 M  | train\n",
      "1 | metric | MulticlassAccuracy | 0      | train\n",
      "------------------------------------------------------\n",
      "4.9 M     Trainable params\n",
      "0         Non-trainable params\n",
      "4.9 M     Total params\n",
      "19.646    Total estimated model params size (MB)\n",
      "7         Modules in train mode\n",
      "0         Modules in eval mode\n"
     ]
    },
    {
     "data": {
      "application/vnd.jupyter.widget-view+json": {
       "model_id": "058db9214d9d4614839cb68ca46c3745",
       "version_major": 2,
       "version_minor": 0
      },
      "text/plain": [
       "Sanity Checking: |          | 0/? [00:00<?, ?it/s]"
      ]
     },
     "metadata": {},
     "output_type": "display_data"
    },
    {
     "data": {
      "application/vnd.jupyter.widget-view+json": {
       "model_id": "bc1c2b15a0dc4341b47f8d879ae6c350",
       "version_major": 2,
       "version_minor": 0
      },
      "text/plain": [
       "Training: |          | 0/? [00:00<?, ?it/s]"
      ]
     },
     "metadata": {},
     "output_type": "display_data"
    },
    {
     "data": {
      "application/vnd.jupyter.widget-view+json": {
       "model_id": "1b091e5ccf27415489dcd80417cb29b1",
       "version_major": 2,
       "version_minor": 0
      },
      "text/plain": [
       "Validation: |          | 0/? [00:00<?, ?it/s]"
      ]
     },
     "metadata": {},
     "output_type": "display_data"
    },
    {
     "data": {
      "application/vnd.jupyter.widget-view+json": {
       "model_id": "e5536ad2e5ff44ef8182ec6601ea76a0",
       "version_major": 2,
       "version_minor": 0
      },
      "text/plain": [
       "Validation: |          | 0/? [00:00<?, ?it/s]"
      ]
     },
     "metadata": {},
     "output_type": "display_data"
    },
    {
     "data": {
      "application/vnd.jupyter.widget-view+json": {
       "model_id": "b180ad0e75ed47b5b3fe747cdc68051e",
       "version_major": 2,
       "version_minor": 0
      },
      "text/plain": [
       "Validation: |          | 0/? [00:00<?, ?it/s]"
      ]
     },
     "metadata": {},
     "output_type": "display_data"
    },
    {
     "data": {
      "application/vnd.jupyter.widget-view+json": {
       "model_id": "938052cf87904da9a6416fdc42d6a83e",
       "version_major": 2,
       "version_minor": 0
      },
      "text/plain": [
       "Validation: |          | 0/? [00:00<?, ?it/s]"
      ]
     },
     "metadata": {},
     "output_type": "display_data"
    },
    {
     "data": {
      "application/vnd.jupyter.widget-view+json": {
       "model_id": "32478cb386fd47af9fdd083a2bfb1bfb",
       "version_major": 2,
       "version_minor": 0
      },
      "text/plain": [
       "Validation: |          | 0/? [00:00<?, ?it/s]"
      ]
     },
     "metadata": {},
     "output_type": "display_data"
    },
    {
     "data": {
      "application/vnd.jupyter.widget-view+json": {
       "model_id": "238cd2d2b2e1464a998bcbdd7699ed11",
       "version_major": 2,
       "version_minor": 0
      },
      "text/plain": [
       "Validation: |          | 0/? [00:00<?, ?it/s]"
      ]
     },
     "metadata": {},
     "output_type": "display_data"
    },
    {
     "data": {
      "application/vnd.jupyter.widget-view+json": {
       "model_id": "afc122c3bfca4e61a1b1ee5880bbb2b1",
       "version_major": 2,
       "version_minor": 0
      },
      "text/plain": [
       "Validation: |          | 0/? [00:00<?, ?it/s]"
      ]
     },
     "metadata": {},
     "output_type": "display_data"
    },
    {
     "data": {
      "application/vnd.jupyter.widget-view+json": {
       "model_id": "9c4a11e2ca7c4efba7b41ac5bce38d0e",
       "version_major": 2,
       "version_minor": 0
      },
      "text/plain": [
       "Validation: |          | 0/? [00:00<?, ?it/s]"
      ]
     },
     "metadata": {},
     "output_type": "display_data"
    },
    {
     "data": {
      "application/vnd.jupyter.widget-view+json": {
       "model_id": "96d146e1faad44419cb89ff18bc6dda1",
       "version_major": 2,
       "version_minor": 0
      },
      "text/plain": [
       "Validation: |          | 0/? [00:00<?, ?it/s]"
      ]
     },
     "metadata": {},
     "output_type": "display_data"
    },
    {
     "data": {
      "application/vnd.jupyter.widget-view+json": {
       "model_id": "0de206160db9402b9b9dcb8abd51d8bc",
       "version_major": 2,
       "version_minor": 0
      },
      "text/plain": [
       "Validation: |          | 0/? [00:00<?, ?it/s]"
      ]
     },
     "metadata": {},
     "output_type": "display_data"
    },
    {
     "data": {
      "application/vnd.jupyter.widget-view+json": {
       "model_id": "f10a562b84fd425e90a6b1ed87515380",
       "version_major": 2,
       "version_minor": 0
      },
      "text/plain": [
       "Validation: |          | 0/? [00:00<?, ?it/s]"
      ]
     },
     "metadata": {},
     "output_type": "display_data"
    },
    {
     "name": "stderr",
     "output_type": "stream",
     "text": [
      "[I 2024-11-04 01:43:15,278] Trial 108 finished with value: 0.7682369947433472 and parameters: {'hidden_dim': 32, 'num_layers': 1, 'optimizer_name': 'Adam', 'batch_size': 1024, 'learning_rate': 0.001, 'sentence_representation_type': 'max'}. Best is trial 50 with value: 0.7804877758026123.\n",
      "Seed set to 42\n"
     ]
    },
    {
     "name": "stdout",
     "output_type": "stream",
     "text": [
      "---------- batch_size_2048; lr_0.001; optimizer_Adam; hidden_dim_32; num_layers_1; sentence_representation_max ----------\n"
     ]
    },
    {
     "name": "stderr",
     "output_type": "stream",
     "text": [
      "[I 2024-11-04 01:43:15,868] Trial 109 finished with value: 0.7804877758026123 and parameters: {'hidden_dim': 32, 'num_layers': 1, 'optimizer_name': 'Adam', 'batch_size': 2048, 'learning_rate': 0.001, 'sentence_representation_type': 'max'}. Best is trial 50 with value: 0.7804877758026123.\n",
      "Seed set to 42\n"
     ]
    },
    {
     "name": "stdout",
     "output_type": "stream",
     "text": [
      "[Skipping] rnn/test/w2v-3b/batch_size_2048-lr_0.001-optimizer_Adam-hidden_dim_32-num_layers_1-sr_type_max-freeze_False\n",
      "---------- batch_size_2048; lr_0.001; optimizer_Adam; hidden_dim_32; num_layers_1; sentence_representation_max ----------\n"
     ]
    },
    {
     "name": "stderr",
     "output_type": "stream",
     "text": [
      "[I 2024-11-04 01:43:16,485] Trial 110 finished with value: 0.7804877758026123 and parameters: {'hidden_dim': 32, 'num_layers': 1, 'optimizer_name': 'Adam', 'batch_size': 2048, 'learning_rate': 0.001, 'sentence_representation_type': 'max'}. Best is trial 50 with value: 0.7804877758026123.\n",
      "Seed set to 42\n"
     ]
    },
    {
     "name": "stdout",
     "output_type": "stream",
     "text": [
      "[Skipping] rnn/test/w2v-3b/batch_size_2048-lr_0.001-optimizer_Adam-hidden_dim_32-num_layers_1-sr_type_max-freeze_False\n",
      "---------- batch_size_2048; lr_0.001; optimizer_Adam; hidden_dim_32; num_layers_1; sentence_representation_max ----------\n"
     ]
    },
    {
     "name": "stderr",
     "output_type": "stream",
     "text": [
      "[I 2024-11-04 01:43:17,094] Trial 111 finished with value: 0.7804877758026123 and parameters: {'hidden_dim': 32, 'num_layers': 1, 'optimizer_name': 'Adam', 'batch_size': 2048, 'learning_rate': 0.001, 'sentence_representation_type': 'max'}. Best is trial 50 with value: 0.7804877758026123.\n",
      "Seed set to 42\n"
     ]
    },
    {
     "name": "stdout",
     "output_type": "stream",
     "text": [
      "[Skipping] rnn/test/w2v-3b/batch_size_2048-lr_0.001-optimizer_Adam-hidden_dim_32-num_layers_1-sr_type_max-freeze_False\n",
      "---------- batch_size_2048; lr_0.001; optimizer_Adam; hidden_dim_32; num_layers_1; sentence_representation_max ----------\n"
     ]
    },
    {
     "name": "stderr",
     "output_type": "stream",
     "text": [
      "[I 2024-11-04 01:43:17,679] Trial 112 finished with value: 0.7804877758026123 and parameters: {'hidden_dim': 32, 'num_layers': 1, 'optimizer_name': 'Adam', 'batch_size': 2048, 'learning_rate': 0.001, 'sentence_representation_type': 'max'}. Best is trial 50 with value: 0.7804877758026123.\n",
      "Seed set to 42\n"
     ]
    },
    {
     "name": "stdout",
     "output_type": "stream",
     "text": [
      "[Skipping] rnn/test/w2v-3b/batch_size_2048-lr_0.001-optimizer_Adam-hidden_dim_32-num_layers_1-sr_type_max-freeze_False\n",
      "---------- batch_size_2048; lr_0.001; optimizer_Adam; hidden_dim_32; num_layers_1; sentence_representation_max ----------\n"
     ]
    },
    {
     "name": "stderr",
     "output_type": "stream",
     "text": [
      "[I 2024-11-04 01:43:18,255] Trial 113 finished with value: 0.7804877758026123 and parameters: {'hidden_dim': 32, 'num_layers': 1, 'optimizer_name': 'Adam', 'batch_size': 2048, 'learning_rate': 0.001, 'sentence_representation_type': 'max'}. Best is trial 50 with value: 0.7804877758026123.\n",
      "Seed set to 42\n"
     ]
    },
    {
     "name": "stdout",
     "output_type": "stream",
     "text": [
      "[Skipping] rnn/test/w2v-3b/batch_size_2048-lr_0.001-optimizer_Adam-hidden_dim_32-num_layers_1-sr_type_max-freeze_False\n",
      "---------- batch_size_2048; lr_0.001; optimizer_Adam; hidden_dim_64; num_layers_1; sentence_representation_max ----------\n"
     ]
    },
    {
     "name": "stderr",
     "output_type": "stream",
     "text": [
      "[I 2024-11-04 01:43:18,853] Trial 114 finished with value: 0.7589118480682373 and parameters: {'hidden_dim': 64, 'num_layers': 1, 'optimizer_name': 'Adam', 'batch_size': 2048, 'learning_rate': 0.001, 'sentence_representation_type': 'max'}. Best is trial 50 with value: 0.7804877758026123.\n",
      "Seed set to 42\n"
     ]
    },
    {
     "name": "stdout",
     "output_type": "stream",
     "text": [
      "[Skipping] rnn/test/w2v-3b/batch_size_2048-lr_0.001-optimizer_Adam-hidden_dim_64-num_layers_1-sr_type_max-freeze_False\n",
      "---------- batch_size_64; lr_0.001; optimizer_Adam; hidden_dim_32; num_layers_1; sentence_representation_max ----------\n"
     ]
    },
    {
     "name": "stderr",
     "output_type": "stream",
     "text": [
      "GPU available: True (cuda), used: False\n",
      "TPU available: False, using: 0 TPU cores\n",
      "HPU available: False, using: 0 HPUs\n",
      "\n",
      "  | Name   | Type               | Params | Mode \n",
      "------------------------------------------------------\n",
      "0 | model  | RNN                | 4.9 M  | train\n",
      "1 | metric | MulticlassAccuracy | 0      | train\n",
      "------------------------------------------------------\n",
      "4.9 M     Trainable params\n",
      "0         Non-trainable params\n",
      "4.9 M     Total params\n",
      "19.646    Total estimated model params size (MB)\n",
      "7         Modules in train mode\n",
      "0         Modules in eval mode\n"
     ]
    },
    {
     "data": {
      "application/vnd.jupyter.widget-view+json": {
       "model_id": "9f38dfd484f94994acd7464ab378f7ec",
       "version_major": 2,
       "version_minor": 0
      },
      "text/plain": [
       "Sanity Checking: |          | 0/? [00:00<?, ?it/s]"
      ]
     },
     "metadata": {},
     "output_type": "display_data"
    },
    {
     "data": {
      "application/vnd.jupyter.widget-view+json": {
       "model_id": "b412ec70533f49f1ace0712e40b70ea9",
       "version_major": 2,
       "version_minor": 0
      },
      "text/plain": [
       "Training: |          | 0/? [00:00<?, ?it/s]"
      ]
     },
     "metadata": {},
     "output_type": "display_data"
    },
    {
     "data": {
      "application/vnd.jupyter.widget-view+json": {
       "model_id": "e26bcd3fdf2c480889de1a706e7db946",
       "version_major": 2,
       "version_minor": 0
      },
      "text/plain": [
       "Validation: |          | 0/? [00:00<?, ?it/s]"
      ]
     },
     "metadata": {},
     "output_type": "display_data"
    },
    {
     "data": {
      "application/vnd.jupyter.widget-view+json": {
       "model_id": "0c2e5e0b3e4d4a5a9689200ea27226b8",
       "version_major": 2,
       "version_minor": 0
      },
      "text/plain": [
       "Validation: |          | 0/? [00:00<?, ?it/s]"
      ]
     },
     "metadata": {},
     "output_type": "display_data"
    },
    {
     "data": {
      "application/vnd.jupyter.widget-view+json": {
       "model_id": "2c95af1a6a204406a5a3300d2c86bf36",
       "version_major": 2,
       "version_minor": 0
      },
      "text/plain": [
       "Validation: |          | 0/? [00:00<?, ?it/s]"
      ]
     },
     "metadata": {},
     "output_type": "display_data"
    },
    {
     "data": {
      "application/vnd.jupyter.widget-view+json": {
       "model_id": "c7624e98ade24a2d97f4b3c063074d31",
       "version_major": 2,
       "version_minor": 0
      },
      "text/plain": [
       "Validation: |          | 0/? [00:00<?, ?it/s]"
      ]
     },
     "metadata": {},
     "output_type": "display_data"
    },
    {
     "data": {
      "application/vnd.jupyter.widget-view+json": {
       "model_id": "036a7bdcde0f4150a194eb032c49820d",
       "version_major": 2,
       "version_minor": 0
      },
      "text/plain": [
       "Validation: |          | 0/? [00:00<?, ?it/s]"
      ]
     },
     "metadata": {},
     "output_type": "display_data"
    },
    {
     "name": "stderr",
     "output_type": "stream",
     "text": [
      "[I 2024-11-04 01:44:23,014] Trial 115 finished with value: 0.4108687937259674 and parameters: {'hidden_dim': 32, 'num_layers': 1, 'optimizer_name': 'Adam', 'batch_size': 64, 'learning_rate': 0.001, 'sentence_representation_type': 'max'}. Best is trial 50 with value: 0.7804877758026123.\n",
      "Seed set to 42\n"
     ]
    },
    {
     "name": "stdout",
     "output_type": "stream",
     "text": [
      "---------- batch_size_2048; lr_0.001; optimizer_Adam; hidden_dim_32; num_layers_1; sentence_representation_max ----------\n"
     ]
    },
    {
     "name": "stderr",
     "output_type": "stream",
     "text": [
      "[I 2024-11-04 01:44:23,896] Trial 116 finished with value: 0.7804877758026123 and parameters: {'hidden_dim': 32, 'num_layers': 1, 'optimizer_name': 'Adam', 'batch_size': 2048, 'learning_rate': 0.001, 'sentence_representation_type': 'max'}. Best is trial 50 with value: 0.7804877758026123.\n",
      "Seed set to 42\n"
     ]
    },
    {
     "name": "stdout",
     "output_type": "stream",
     "text": [
      "[Skipping] rnn/test/w2v-3b/batch_size_2048-lr_0.001-optimizer_Adam-hidden_dim_32-num_layers_1-sr_type_max-freeze_False\n",
      "---------- batch_size_32; lr_0.001; optimizer_Adam; hidden_dim_256; num_layers_1; sentence_representation_last ----------\n"
     ]
    },
    {
     "name": "stderr",
     "output_type": "stream",
     "text": [
      "GPU available: True (cuda), used: False\n",
      "TPU available: False, using: 0 TPU cores\n",
      "HPU available: False, using: 0 HPUs\n",
      "\n",
      "  | Name   | Type               | Params | Mode \n",
      "------------------------------------------------------\n",
      "0 | model  | RNN                | 5.1 M  | train\n",
      "1 | metric | MulticlassAccuracy | 0      | train\n",
      "------------------------------------------------------\n",
      "5.1 M     Trainable params\n",
      "0         Non-trainable params\n",
      "5.1 M     Total params\n",
      "20.305    Total estimated model params size (MB)\n",
      "7         Modules in train mode\n",
      "0         Modules in eval mode\n"
     ]
    },
    {
     "data": {
      "application/vnd.jupyter.widget-view+json": {
       "model_id": "4f3180ae3f7d4b08af8ff38c12fc2700",
       "version_major": 2,
       "version_minor": 0
      },
      "text/plain": [
       "Sanity Checking: |          | 0/? [00:00<?, ?it/s]"
      ]
     },
     "metadata": {},
     "output_type": "display_data"
    },
    {
     "data": {
      "application/vnd.jupyter.widget-view+json": {
       "model_id": "b2783e404ae248bdbc21b9ef01213363",
       "version_major": 2,
       "version_minor": 0
      },
      "text/plain": [
       "Training: |          | 0/? [00:00<?, ?it/s]"
      ]
     },
     "metadata": {},
     "output_type": "display_data"
    },
    {
     "data": {
      "application/vnd.jupyter.widget-view+json": {
       "model_id": "c5d56b1c03934a89816e77354e9d300d",
       "version_major": 2,
       "version_minor": 0
      },
      "text/plain": [
       "Validation: |          | 0/? [00:00<?, ?it/s]"
      ]
     },
     "metadata": {},
     "output_type": "display_data"
    },
    {
     "data": {
      "application/vnd.jupyter.widget-view+json": {
       "model_id": "2f4cbc7c353a43e799a042617318a80c",
       "version_major": 2,
       "version_minor": 0
      },
      "text/plain": [
       "Validation: |          | 0/? [00:00<?, ?it/s]"
      ]
     },
     "metadata": {},
     "output_type": "display_data"
    },
    {
     "data": {
      "application/vnd.jupyter.widget-view+json": {
       "model_id": "1b2c04461b0a4670b7b7b1e7dd2076d1",
       "version_major": 2,
       "version_minor": 0
      },
      "text/plain": [
       "Validation: |          | 0/? [00:00<?, ?it/s]"
      ]
     },
     "metadata": {},
     "output_type": "display_data"
    },
    {
     "data": {
      "application/vnd.jupyter.widget-view+json": {
       "model_id": "b056d04320e44aa8b84b5731f7101020",
       "version_major": 2,
       "version_minor": 0
      },
      "text/plain": [
       "Validation: |          | 0/? [00:00<?, ?it/s]"
      ]
     },
     "metadata": {},
     "output_type": "display_data"
    },
    {
     "name": "stderr",
     "output_type": "stream",
     "text": [
      "[I 2024-11-04 01:45:49,260] Trial 117 finished with value: 0.39591100811958313 and parameters: {'hidden_dim': 256, 'num_layers': 1, 'optimizer_name': 'Adam', 'batch_size': 32, 'learning_rate': 0.001, 'sentence_representation_type': 'last'}. Best is trial 50 with value: 0.7804877758026123.\n",
      "Seed set to 42\n"
     ]
    },
    {
     "name": "stdout",
     "output_type": "stream",
     "text": [
      "---------- batch_size_128; lr_0.001; optimizer_Adam; hidden_dim_32; num_layers_1; sentence_representation_max ----------\n"
     ]
    },
    {
     "name": "stderr",
     "output_type": "stream",
     "text": [
      "[I 2024-11-04 01:45:49,923] Trial 118 finished with value: 0.4298436939716339 and parameters: {'hidden_dim': 32, 'num_layers': 1, 'optimizer_name': 'Adam', 'batch_size': 128, 'learning_rate': 0.001, 'sentence_representation_type': 'max'}. Best is trial 50 with value: 0.7804877758026123.\n",
      "Seed set to 42\n"
     ]
    },
    {
     "name": "stdout",
     "output_type": "stream",
     "text": [
      "[Skipping] rnn/test/w2v-3b/batch_size_128-lr_0.001-optimizer_Adam-hidden_dim_32-num_layers_1-sr_type_max-freeze_False\n",
      "---------- batch_size_2048; lr_0.001; optimizer_Adam; hidden_dim_32; num_layers_1; sentence_representation_average ----------\n"
     ]
    },
    {
     "name": "stderr",
     "output_type": "stream",
     "text": [
      "[I 2024-11-04 01:45:50,581] Trial 119 finished with value: 0.7514071464538574 and parameters: {'hidden_dim': 32, 'num_layers': 1, 'optimizer_name': 'Adam', 'batch_size': 2048, 'learning_rate': 0.001, 'sentence_representation_type': 'average'}. Best is trial 50 with value: 0.7804877758026123.\n",
      "Seed set to 42\n"
     ]
    },
    {
     "name": "stdout",
     "output_type": "stream",
     "text": [
      "[Skipping] rnn/test/w2v-3b/batch_size_2048-lr_0.001-optimizer_Adam-hidden_dim_32-num_layers_1-sr_type_average-freeze_False\n",
      "---------- batch_size_2048; lr_0.0001; optimizer_Adam; hidden_dim_32; num_layers_1; sentence_representation_max ----------\n"
     ]
    },
    {
     "name": "stderr",
     "output_type": "stream",
     "text": [
      "[I 2024-11-04 01:45:51,269] Trial 120 finished with value: 0.7682926654815674 and parameters: {'hidden_dim': 32, 'num_layers': 1, 'optimizer_name': 'Adam', 'batch_size': 2048, 'learning_rate': 0.0001, 'sentence_representation_type': 'max'}. Best is trial 50 with value: 0.7804877758026123.\n",
      "Seed set to 42\n"
     ]
    },
    {
     "name": "stdout",
     "output_type": "stream",
     "text": [
      "[Skipping] rnn/test/w2v-3b/batch_size_2048-lr_0.0001-optimizer_Adam-hidden_dim_32-num_layers_1-sr_type_max-freeze_False\n",
      "---------- batch_size_2048; lr_0.001; optimizer_Adam; hidden_dim_32; num_layers_1; sentence_representation_max ----------\n"
     ]
    },
    {
     "name": "stderr",
     "output_type": "stream",
     "text": [
      "[I 2024-11-04 01:45:51,926] Trial 121 finished with value: 0.7804877758026123 and parameters: {'hidden_dim': 32, 'num_layers': 1, 'optimizer_name': 'Adam', 'batch_size': 2048, 'learning_rate': 0.001, 'sentence_representation_type': 'max'}. Best is trial 50 with value: 0.7804877758026123.\n",
      "Seed set to 42\n"
     ]
    },
    {
     "name": "stdout",
     "output_type": "stream",
     "text": [
      "[Skipping] rnn/test/w2v-3b/batch_size_2048-lr_0.001-optimizer_Adam-hidden_dim_32-num_layers_1-sr_type_max-freeze_False\n",
      "---------- batch_size_2048; lr_0.001; optimizer_Adam; hidden_dim_32; num_layers_1; sentence_representation_max ----------\n"
     ]
    },
    {
     "name": "stderr",
     "output_type": "stream",
     "text": [
      "[I 2024-11-04 01:45:52,564] Trial 122 finished with value: 0.7804877758026123 and parameters: {'hidden_dim': 32, 'num_layers': 1, 'optimizer_name': 'Adam', 'batch_size': 2048, 'learning_rate': 0.001, 'sentence_representation_type': 'max'}. Best is trial 50 with value: 0.7804877758026123.\n",
      "Seed set to 42\n"
     ]
    },
    {
     "name": "stdout",
     "output_type": "stream",
     "text": [
      "[Skipping] rnn/test/w2v-3b/batch_size_2048-lr_0.001-optimizer_Adam-hidden_dim_32-num_layers_1-sr_type_max-freeze_False\n",
      "---------- batch_size_2048; lr_0.001; optimizer_Adam; hidden_dim_32; num_layers_1; sentence_representation_max ----------\n"
     ]
    },
    {
     "name": "stderr",
     "output_type": "stream",
     "text": [
      "[I 2024-11-04 01:45:53,139] Trial 123 finished with value: 0.7804877758026123 and parameters: {'hidden_dim': 32, 'num_layers': 1, 'optimizer_name': 'Adam', 'batch_size': 2048, 'learning_rate': 0.001, 'sentence_representation_type': 'max'}. Best is trial 50 with value: 0.7804877758026123.\n",
      "Seed set to 42\n"
     ]
    },
    {
     "name": "stdout",
     "output_type": "stream",
     "text": [
      "[Skipping] rnn/test/w2v-3b/batch_size_2048-lr_0.001-optimizer_Adam-hidden_dim_32-num_layers_1-sr_type_max-freeze_False\n",
      "---------- batch_size_2048; lr_0.001; optimizer_Adam; hidden_dim_32; num_layers_1; sentence_representation_max ----------\n"
     ]
    },
    {
     "name": "stderr",
     "output_type": "stream",
     "text": [
      "[I 2024-11-04 01:45:53,730] Trial 124 finished with value: 0.7804877758026123 and parameters: {'hidden_dim': 32, 'num_layers': 1, 'optimizer_name': 'Adam', 'batch_size': 2048, 'learning_rate': 0.001, 'sentence_representation_type': 'max'}. Best is trial 50 with value: 0.7804877758026123.\n",
      "Seed set to 42\n"
     ]
    },
    {
     "name": "stdout",
     "output_type": "stream",
     "text": [
      "[Skipping] rnn/test/w2v-3b/batch_size_2048-lr_0.001-optimizer_Adam-hidden_dim_32-num_layers_1-sr_type_max-freeze_False\n",
      "---------- batch_size_2048; lr_0.001; optimizer_Adam; hidden_dim_32; num_layers_1; sentence_representation_max ----------\n"
     ]
    },
    {
     "name": "stderr",
     "output_type": "stream",
     "text": [
      "[I 2024-11-04 01:45:54,358] Trial 125 finished with value: 0.7804877758026123 and parameters: {'hidden_dim': 32, 'num_layers': 1, 'optimizer_name': 'Adam', 'batch_size': 2048, 'learning_rate': 0.001, 'sentence_representation_type': 'max'}. Best is trial 50 with value: 0.7804877758026123.\n",
      "Seed set to 42\n"
     ]
    },
    {
     "name": "stdout",
     "output_type": "stream",
     "text": [
      "[Skipping] rnn/test/w2v-3b/batch_size_2048-lr_0.001-optimizer_Adam-hidden_dim_32-num_layers_1-sr_type_max-freeze_False\n",
      "---------- batch_size_2048; lr_0.01; optimizer_Adam; hidden_dim_32; num_layers_1; sentence_representation_max ----------\n"
     ]
    },
    {
     "name": "stderr",
     "output_type": "stream",
     "text": [
      "[I 2024-11-04 01:45:54,945] Trial 126 finished with value: 0.7682926654815674 and parameters: {'hidden_dim': 32, 'num_layers': 1, 'optimizer_name': 'Adam', 'batch_size': 2048, 'learning_rate': 0.01, 'sentence_representation_type': 'max'}. Best is trial 50 with value: 0.7804877758026123.\n",
      "Seed set to 42\n"
     ]
    },
    {
     "name": "stdout",
     "output_type": "stream",
     "text": [
      "[Skipping] rnn/test/w2v-3b/batch_size_2048-lr_0.01-optimizer_Adam-hidden_dim_32-num_layers_1-sr_type_max-freeze_False\n",
      "---------- batch_size_2048; lr_0.001; optimizer_Adam; hidden_dim_32; num_layers_1; sentence_representation_max ----------\n"
     ]
    },
    {
     "name": "stderr",
     "output_type": "stream",
     "text": [
      "[I 2024-11-04 01:45:55,529] Trial 127 finished with value: 0.7804877758026123 and parameters: {'hidden_dim': 32, 'num_layers': 1, 'optimizer_name': 'Adam', 'batch_size': 2048, 'learning_rate': 0.001, 'sentence_representation_type': 'max'}. Best is trial 50 with value: 0.7804877758026123.\n",
      "Seed set to 42\n"
     ]
    },
    {
     "name": "stdout",
     "output_type": "stream",
     "text": [
      "[Skipping] rnn/test/w2v-3b/batch_size_2048-lr_0.001-optimizer_Adam-hidden_dim_32-num_layers_1-sr_type_max-freeze_False\n",
      "---------- batch_size_256; lr_0.1; optimizer_Adam; hidden_dim_32; num_layers_1; sentence_representation_max ----------\n"
     ]
    },
    {
     "name": "stderr",
     "output_type": "stream",
     "text": [
      "GPU available: True (cuda), used: False\n",
      "TPU available: False, using: 0 TPU cores\n",
      "HPU available: False, using: 0 HPUs\n",
      "\n",
      "  | Name   | Type               | Params | Mode \n",
      "------------------------------------------------------\n",
      "0 | model  | RNN                | 4.9 M  | train\n",
      "1 | metric | MulticlassAccuracy | 0      | train\n",
      "------------------------------------------------------\n",
      "4.9 M     Trainable params\n",
      "0         Non-trainable params\n",
      "4.9 M     Total params\n",
      "19.646    Total estimated model params size (MB)\n",
      "7         Modules in train mode\n",
      "0         Modules in eval mode\n"
     ]
    },
    {
     "data": {
      "application/vnd.jupyter.widget-view+json": {
       "model_id": "686a11c5e26e40ca93b3ae70a5941294",
       "version_major": 2,
       "version_minor": 0
      },
      "text/plain": [
       "Sanity Checking: |          | 0/? [00:00<?, ?it/s]"
      ]
     },
     "metadata": {},
     "output_type": "display_data"
    },
    {
     "data": {
      "application/vnd.jupyter.widget-view+json": {
       "model_id": "420071d25b8942b9bf7e2b2d0f1a2abd",
       "version_major": 2,
       "version_minor": 0
      },
      "text/plain": [
       "Training: |          | 0/? [00:00<?, ?it/s]"
      ]
     },
     "metadata": {},
     "output_type": "display_data"
    },
    {
     "data": {
      "application/vnd.jupyter.widget-view+json": {
       "model_id": "d0cba397ff354dbe86ccb959253b0197",
       "version_major": 2,
       "version_minor": 0
      },
      "text/plain": [
       "Validation: |          | 0/? [00:00<?, ?it/s]"
      ]
     },
     "metadata": {},
     "output_type": "display_data"
    },
    {
     "data": {
      "application/vnd.jupyter.widget-view+json": {
       "model_id": "eb785c1b4b0a417bbe01a572a0997f71",
       "version_major": 2,
       "version_minor": 0
      },
      "text/plain": [
       "Validation: |          | 0/? [00:00<?, ?it/s]"
      ]
     },
     "metadata": {},
     "output_type": "display_data"
    },
    {
     "data": {
      "application/vnd.jupyter.widget-view+json": {
       "model_id": "9a148dfacfff44d08a9eae10676d72a3",
       "version_major": 2,
       "version_minor": 0
      },
      "text/plain": [
       "Validation: |          | 0/? [00:00<?, ?it/s]"
      ]
     },
     "metadata": {},
     "output_type": "display_data"
    },
    {
     "data": {
      "application/vnd.jupyter.widget-view+json": {
       "model_id": "2702d6170146474a9a7eefb1e126b0ea",
       "version_major": 2,
       "version_minor": 0
      },
      "text/plain": [
       "Validation: |          | 0/? [00:00<?, ?it/s]"
      ]
     },
     "metadata": {},
     "output_type": "display_data"
    },
    {
     "data": {
      "application/vnd.jupyter.widget-view+json": {
       "model_id": "79bc2586ca57481e8e0d23c07b07123d",
       "version_major": 2,
       "version_minor": 0
      },
      "text/plain": [
       "Validation: |          | 0/? [00:00<?, ?it/s]"
      ]
     },
     "metadata": {},
     "output_type": "display_data"
    },
    {
     "data": {
      "application/vnd.jupyter.widget-view+json": {
       "model_id": "341b20ec6c0c44658e8e632f77262a81",
       "version_major": 2,
       "version_minor": 0
      },
      "text/plain": [
       "Validation: |          | 0/? [00:00<?, ?it/s]"
      ]
     },
     "metadata": {},
     "output_type": "display_data"
    },
    {
     "data": {
      "application/vnd.jupyter.widget-view+json": {
       "model_id": "2eba462fe33a4ae0b4c5c1eec7d37850",
       "version_major": 2,
       "version_minor": 0
      },
      "text/plain": [
       "Validation: |          | 0/? [00:00<?, ?it/s]"
      ]
     },
     "metadata": {},
     "output_type": "display_data"
    },
    {
     "data": {
      "application/vnd.jupyter.widget-view+json": {
       "model_id": "2429ccd27fbe493f95f037cf7dc97303",
       "version_major": 2,
       "version_minor": 0
      },
      "text/plain": [
       "Validation: |          | 0/? [00:00<?, ?it/s]"
      ]
     },
     "metadata": {},
     "output_type": "display_data"
    },
    {
     "name": "stderr",
     "output_type": "stream",
     "text": [
      "[I 2024-11-04 01:46:48,741] Trial 128 finished with value: 0.4162372648715973 and parameters: {'hidden_dim': 32, 'num_layers': 1, 'optimizer_name': 'Adam', 'batch_size': 256, 'learning_rate': 0.1, 'sentence_representation_type': 'max'}. Best is trial 50 with value: 0.7804877758026123.\n",
      "Seed set to 42\n"
     ]
    },
    {
     "name": "stdout",
     "output_type": "stream",
     "text": [
      "---------- batch_size_2048; lr_0.001; optimizer_Adam; hidden_dim_32; num_layers_1; sentence_representation_max ----------\n"
     ]
    },
    {
     "name": "stderr",
     "output_type": "stream",
     "text": [
      "[I 2024-11-04 01:46:49,356] Trial 129 finished with value: 0.7804877758026123 and parameters: {'hidden_dim': 32, 'num_layers': 1, 'optimizer_name': 'Adam', 'batch_size': 2048, 'learning_rate': 0.001, 'sentence_representation_type': 'max'}. Best is trial 50 with value: 0.7804877758026123.\n",
      "Seed set to 42\n"
     ]
    },
    {
     "name": "stdout",
     "output_type": "stream",
     "text": [
      "[Skipping] rnn/test/w2v-3b/batch_size_2048-lr_0.001-optimizer_Adam-hidden_dim_32-num_layers_1-sr_type_max-freeze_False\n",
      "---------- batch_size_2048; lr_0.001; optimizer_Adam; hidden_dim_32; num_layers_1; sentence_representation_max ----------\n"
     ]
    },
    {
     "name": "stderr",
     "output_type": "stream",
     "text": [
      "[I 2024-11-04 01:46:49,946] Trial 130 finished with value: 0.7804877758026123 and parameters: {'hidden_dim': 32, 'num_layers': 1, 'optimizer_name': 'Adam', 'batch_size': 2048, 'learning_rate': 0.001, 'sentence_representation_type': 'max'}. Best is trial 50 with value: 0.7804877758026123.\n",
      "Seed set to 42\n"
     ]
    },
    {
     "name": "stdout",
     "output_type": "stream",
     "text": [
      "[Skipping] rnn/test/w2v-3b/batch_size_2048-lr_0.001-optimizer_Adam-hidden_dim_32-num_layers_1-sr_type_max-freeze_False\n",
      "---------- batch_size_2048; lr_0.001; optimizer_Adam; hidden_dim_32; num_layers_1; sentence_representation_max ----------\n"
     ]
    },
    {
     "name": "stderr",
     "output_type": "stream",
     "text": [
      "[I 2024-11-04 01:46:50,533] Trial 131 finished with value: 0.7804877758026123 and parameters: {'hidden_dim': 32, 'num_layers': 1, 'optimizer_name': 'Adam', 'batch_size': 2048, 'learning_rate': 0.001, 'sentence_representation_type': 'max'}. Best is trial 50 with value: 0.7804877758026123.\n",
      "Seed set to 42\n"
     ]
    },
    {
     "name": "stdout",
     "output_type": "stream",
     "text": [
      "[Skipping] rnn/test/w2v-3b/batch_size_2048-lr_0.001-optimizer_Adam-hidden_dim_32-num_layers_1-sr_type_max-freeze_False\n",
      "---------- batch_size_2048; lr_0.001; optimizer_Adam; hidden_dim_32; num_layers_1; sentence_representation_max ----------\n"
     ]
    },
    {
     "name": "stderr",
     "output_type": "stream",
     "text": [
      "[I 2024-11-04 01:46:51,113] Trial 132 finished with value: 0.7804877758026123 and parameters: {'hidden_dim': 32, 'num_layers': 1, 'optimizer_name': 'Adam', 'batch_size': 2048, 'learning_rate': 0.001, 'sentence_representation_type': 'max'}. Best is trial 50 with value: 0.7804877758026123.\n",
      "Seed set to 42\n"
     ]
    },
    {
     "name": "stdout",
     "output_type": "stream",
     "text": [
      "[Skipping] rnn/test/w2v-3b/batch_size_2048-lr_0.001-optimizer_Adam-hidden_dim_32-num_layers_1-sr_type_max-freeze_False\n",
      "---------- batch_size_2048; lr_0.001; optimizer_Adam; hidden_dim_32; num_layers_3; sentence_representation_max ----------\n"
     ]
    },
    {
     "name": "stderr",
     "output_type": "stream",
     "text": [
      "[I 2024-11-04 01:46:51,693] Trial 133 finished with value: 0.7429643869400024 and parameters: {'hidden_dim': 32, 'num_layers': 3, 'optimizer_name': 'Adam', 'batch_size': 2048, 'learning_rate': 0.001, 'sentence_representation_type': 'max'}. Best is trial 50 with value: 0.7804877758026123.\n",
      "Seed set to 42\n"
     ]
    },
    {
     "name": "stdout",
     "output_type": "stream",
     "text": [
      "[Skipping] rnn/test/w2v-3b/batch_size_2048-lr_0.001-optimizer_Adam-hidden_dim_32-num_layers_3-sr_type_max-freeze_False\n",
      "---------- batch_size_512; lr_0.001; optimizer_Adam; hidden_dim_32; num_layers_1; sentence_representation_max ----------\n"
     ]
    },
    {
     "name": "stderr",
     "output_type": "stream",
     "text": [
      "[I 2024-11-04 01:46:52,284] Trial 134 finished with value: 0.5451443195343018 and parameters: {'hidden_dim': 32, 'num_layers': 1, 'optimizer_name': 'Adam', 'batch_size': 512, 'learning_rate': 0.001, 'sentence_representation_type': 'max'}. Best is trial 50 with value: 0.7804877758026123.\n",
      "Seed set to 42\n"
     ]
    },
    {
     "name": "stdout",
     "output_type": "stream",
     "text": [
      "[Skipping] rnn/test/w2v-3b/batch_size_512-lr_0.001-optimizer_Adam-hidden_dim_32-num_layers_1-sr_type_max-freeze_False\n",
      "---------- batch_size_2048; lr_0.001; optimizer_Adam; hidden_dim_64; num_layers_1; sentence_representation_max ----------\n"
     ]
    },
    {
     "name": "stderr",
     "output_type": "stream",
     "text": [
      "[I 2024-11-04 01:46:52,864] Trial 135 finished with value: 0.7589118480682373 and parameters: {'hidden_dim': 64, 'num_layers': 1, 'optimizer_name': 'Adam', 'batch_size': 2048, 'learning_rate': 0.001, 'sentence_representation_type': 'max'}. Best is trial 50 with value: 0.7804877758026123.\n",
      "Seed set to 42\n"
     ]
    },
    {
     "name": "stdout",
     "output_type": "stream",
     "text": [
      "[Skipping] rnn/test/w2v-3b/batch_size_2048-lr_0.001-optimizer_Adam-hidden_dim_64-num_layers_1-sr_type_max-freeze_False\n",
      "---------- batch_size_2048; lr_0.001; optimizer_Adam; hidden_dim_32; num_layers_1; sentence_representation_max ----------\n"
     ]
    },
    {
     "name": "stderr",
     "output_type": "stream",
     "text": [
      "[I 2024-11-04 01:46:53,495] Trial 136 finished with value: 0.7804877758026123 and parameters: {'hidden_dim': 32, 'num_layers': 1, 'optimizer_name': 'Adam', 'batch_size': 2048, 'learning_rate': 0.001, 'sentence_representation_type': 'max'}. Best is trial 50 with value: 0.7804877758026123.\n",
      "Seed set to 42\n"
     ]
    },
    {
     "name": "stdout",
     "output_type": "stream",
     "text": [
      "[Skipping] rnn/test/w2v-3b/batch_size_2048-lr_0.001-optimizer_Adam-hidden_dim_32-num_layers_1-sr_type_max-freeze_False\n",
      "---------- batch_size_1024; lr_0.001; optimizer_Adam; hidden_dim_32; num_layers_1; sentence_representation_max ----------\n"
     ]
    },
    {
     "name": "stderr",
     "output_type": "stream",
     "text": [
      "[I 2024-11-04 01:46:54,086] Trial 137 finished with value: 0.7682369947433472 and parameters: {'hidden_dim': 32, 'num_layers': 1, 'optimizer_name': 'Adam', 'batch_size': 1024, 'learning_rate': 0.001, 'sentence_representation_type': 'max'}. Best is trial 50 with value: 0.7804877758026123.\n",
      "Seed set to 42\n"
     ]
    },
    {
     "name": "stdout",
     "output_type": "stream",
     "text": [
      "[Skipping] rnn/test/w2v-3b/batch_size_1024-lr_0.001-optimizer_Adam-hidden_dim_32-num_layers_1-sr_type_max-freeze_False\n",
      "---------- batch_size_2048; lr_0.001; optimizer_Adam; hidden_dim_256; num_layers_1; sentence_representation_max ----------\n"
     ]
    },
    {
     "name": "stderr",
     "output_type": "stream",
     "text": [
      "GPU available: True (cuda), used: False\n",
      "TPU available: False, using: 0 TPU cores\n",
      "HPU available: False, using: 0 HPUs\n",
      "\n",
      "  | Name   | Type               | Params | Mode \n",
      "------------------------------------------------------\n",
      "0 | model  | RNN                | 5.1 M  | train\n",
      "1 | metric | MulticlassAccuracy | 0      | train\n",
      "------------------------------------------------------\n",
      "5.1 M     Trainable params\n",
      "0         Non-trainable params\n",
      "5.1 M     Total params\n",
      "20.305    Total estimated model params size (MB)\n",
      "7         Modules in train mode\n",
      "0         Modules in eval mode\n"
     ]
    },
    {
     "data": {
      "application/vnd.jupyter.widget-view+json": {
       "model_id": "94f0b399f7fe4482ae42e0c73f79f1cd",
       "version_major": 2,
       "version_minor": 0
      },
      "text/plain": [
       "Sanity Checking: |          | 0/? [00:00<?, ?it/s]"
      ]
     },
     "metadata": {},
     "output_type": "display_data"
    },
    {
     "data": {
      "application/vnd.jupyter.widget-view+json": {
       "model_id": "855e7373c5f3413cb2c3448543baef80",
       "version_major": 2,
       "version_minor": 0
      },
      "text/plain": [
       "Training: |          | 0/? [00:00<?, ?it/s]"
      ]
     },
     "metadata": {},
     "output_type": "display_data"
    },
    {
     "data": {
      "application/vnd.jupyter.widget-view+json": {
       "model_id": "8adefb4e3ff44c1fabe1ab1b0887f311",
       "version_major": 2,
       "version_minor": 0
      },
      "text/plain": [
       "Validation: |          | 0/? [00:00<?, ?it/s]"
      ]
     },
     "metadata": {},
     "output_type": "display_data"
    },
    {
     "data": {
      "application/vnd.jupyter.widget-view+json": {
       "model_id": "7265ebff067444d3af72a8c1c2c1f70e",
       "version_major": 2,
       "version_minor": 0
      },
      "text/plain": [
       "Validation: |          | 0/? [00:00<?, ?it/s]"
      ]
     },
     "metadata": {},
     "output_type": "display_data"
    },
    {
     "data": {
      "application/vnd.jupyter.widget-view+json": {
       "model_id": "89d1465648884548a30a22b75b89ec95",
       "version_major": 2,
       "version_minor": 0
      },
      "text/plain": [
       "Validation: |          | 0/? [00:00<?, ?it/s]"
      ]
     },
     "metadata": {},
     "output_type": "display_data"
    },
    {
     "data": {
      "application/vnd.jupyter.widget-view+json": {
       "model_id": "83a9da76b8e845f08bdea35c83fd0149",
       "version_major": 2,
       "version_minor": 0
      },
      "text/plain": [
       "Validation: |          | 0/? [00:00<?, ?it/s]"
      ]
     },
     "metadata": {},
     "output_type": "display_data"
    },
    {
     "data": {
      "application/vnd.jupyter.widget-view+json": {
       "model_id": "04ab5f868aac41f5a1b68d133753269d",
       "version_major": 2,
       "version_minor": 0
      },
      "text/plain": [
       "Validation: |          | 0/? [00:00<?, ?it/s]"
      ]
     },
     "metadata": {},
     "output_type": "display_data"
    },
    {
     "data": {
      "application/vnd.jupyter.widget-view+json": {
       "model_id": "31413e66c32748218d001354e66d7a23",
       "version_major": 2,
       "version_minor": 0
      },
      "text/plain": [
       "Validation: |          | 0/? [00:00<?, ?it/s]"
      ]
     },
     "metadata": {},
     "output_type": "display_data"
    },
    {
     "data": {
      "application/vnd.jupyter.widget-view+json": {
       "model_id": "584155bd0c194ba080520e690167c916",
       "version_major": 2,
       "version_minor": 0
      },
      "text/plain": [
       "Validation: |          | 0/? [00:00<?, ?it/s]"
      ]
     },
     "metadata": {},
     "output_type": "display_data"
    },
    {
     "data": {
      "application/vnd.jupyter.widget-view+json": {
       "model_id": "75fc5be672ee400aa1a51f40bd9571c1",
       "version_major": 2,
       "version_minor": 0
      },
      "text/plain": [
       "Validation: |          | 0/? [00:00<?, ?it/s]"
      ]
     },
     "metadata": {},
     "output_type": "display_data"
    },
    {
     "name": "stderr",
     "output_type": "stream",
     "text": [
      "[I 2024-11-04 01:48:34,261] Trial 138 finished with value: 0.7692307829856873 and parameters: {'hidden_dim': 256, 'num_layers': 1, 'optimizer_name': 'Adam', 'batch_size': 2048, 'learning_rate': 0.001, 'sentence_representation_type': 'max'}. Best is trial 50 with value: 0.7804877758026123.\n",
      "Seed set to 42\n"
     ]
    },
    {
     "name": "stdout",
     "output_type": "stream",
     "text": [
      "---------- batch_size_2048; lr_0.001; optimizer_Adam; hidden_dim_32; num_layers_1; sentence_representation_last ----------\n"
     ]
    },
    {
     "name": "stderr",
     "output_type": "stream",
     "text": [
      "GPU available: True (cuda), used: False\n",
      "TPU available: False, using: 0 TPU cores\n",
      "HPU available: False, using: 0 HPUs\n",
      "\n",
      "  | Name   | Type               | Params | Mode \n",
      "------------------------------------------------------\n",
      "0 | model  | RNN                | 4.9 M  | train\n",
      "1 | metric | MulticlassAccuracy | 0      | train\n",
      "------------------------------------------------------\n",
      "4.9 M     Trainable params\n",
      "0         Non-trainable params\n",
      "4.9 M     Total params\n",
      "19.646    Total estimated model params size (MB)\n",
      "7         Modules in train mode\n",
      "0         Modules in eval mode\n"
     ]
    },
    {
     "data": {
      "application/vnd.jupyter.widget-view+json": {
       "model_id": "c5ba0df6e017425ca34357b80179a5bb",
       "version_major": 2,
       "version_minor": 0
      },
      "text/plain": [
       "Sanity Checking: |          | 0/? [00:00<?, ?it/s]"
      ]
     },
     "metadata": {},
     "output_type": "display_data"
    },
    {
     "data": {
      "application/vnd.jupyter.widget-view+json": {
       "model_id": "f8969ddaac224409aa17f88b4afde5c2",
       "version_major": 2,
       "version_minor": 0
      },
      "text/plain": [
       "Training: |          | 0/? [00:00<?, ?it/s]"
      ]
     },
     "metadata": {},
     "output_type": "display_data"
    },
    {
     "data": {
      "application/vnd.jupyter.widget-view+json": {
       "model_id": "bc5f651d6d884b7490dc62cfe2d035c5",
       "version_major": 2,
       "version_minor": 0
      },
      "text/plain": [
       "Validation: |          | 0/? [00:00<?, ?it/s]"
      ]
     },
     "metadata": {},
     "output_type": "display_data"
    },
    {
     "data": {
      "application/vnd.jupyter.widget-view+json": {
       "model_id": "84a6bbdebbe14bb690e2a5ba3523b0cf",
       "version_major": 2,
       "version_minor": 0
      },
      "text/plain": [
       "Validation: |          | 0/? [00:00<?, ?it/s]"
      ]
     },
     "metadata": {},
     "output_type": "display_data"
    },
    {
     "data": {
      "application/vnd.jupyter.widget-view+json": {
       "model_id": "64e55e217ac94cde9b661cbedb0426de",
       "version_major": 2,
       "version_minor": 0
      },
      "text/plain": [
       "Validation: |          | 0/? [00:00<?, ?it/s]"
      ]
     },
     "metadata": {},
     "output_type": "display_data"
    },
    {
     "data": {
      "application/vnd.jupyter.widget-view+json": {
       "model_id": "6dcf13c8d02f40a79bd98f9d597f5a82",
       "version_major": 2,
       "version_minor": 0
      },
      "text/plain": [
       "Validation: |          | 0/? [00:00<?, ?it/s]"
      ]
     },
     "metadata": {},
     "output_type": "display_data"
    },
    {
     "data": {
      "application/vnd.jupyter.widget-view+json": {
       "model_id": "c2c2ebdbdb044fb3b627023445f16583",
       "version_major": 2,
       "version_minor": 0
      },
      "text/plain": [
       "Validation: |          | 0/? [00:00<?, ?it/s]"
      ]
     },
     "metadata": {},
     "output_type": "display_data"
    },
    {
     "data": {
      "application/vnd.jupyter.widget-view+json": {
       "model_id": "c597c56301fc45689855ce99cb10cf1c",
       "version_major": 2,
       "version_minor": 0
      },
      "text/plain": [
       "Validation: |          | 0/? [00:00<?, ?it/s]"
      ]
     },
     "metadata": {},
     "output_type": "display_data"
    },
    {
     "data": {
      "application/vnd.jupyter.widget-view+json": {
       "model_id": "195ef5a481b6466b8de802877cdee51d",
       "version_major": 2,
       "version_minor": 0
      },
      "text/plain": [
       "Validation: |          | 0/? [00:00<?, ?it/s]"
      ]
     },
     "metadata": {},
     "output_type": "display_data"
    },
    {
     "data": {
      "application/vnd.jupyter.widget-view+json": {
       "model_id": "1e059c6ac50041eda1858ee13f781a84",
       "version_major": 2,
       "version_minor": 0
      },
      "text/plain": [
       "Validation: |          | 0/? [00:00<?, ?it/s]"
      ]
     },
     "metadata": {},
     "output_type": "display_data"
    },
    {
     "data": {
      "application/vnd.jupyter.widget-view+json": {
       "model_id": "7f05781f3dd84c1a942909457215668a",
       "version_major": 2,
       "version_minor": 0
      },
      "text/plain": [
       "Validation: |          | 0/? [00:00<?, ?it/s]"
      ]
     },
     "metadata": {},
     "output_type": "display_data"
    },
    {
     "data": {
      "application/vnd.jupyter.widget-view+json": {
       "model_id": "21321a3eadf143c892649f3d365c5e89",
       "version_major": 2,
       "version_minor": 0
      },
      "text/plain": [
       "Validation: |          | 0/? [00:00<?, ?it/s]"
      ]
     },
     "metadata": {},
     "output_type": "display_data"
    },
    {
     "data": {
      "application/vnd.jupyter.widget-view+json": {
       "model_id": "622104c56b00486babffeddca241fd60",
       "version_major": 2,
       "version_minor": 0
      },
      "text/plain": [
       "Validation: |          | 0/? [00:00<?, ?it/s]"
      ]
     },
     "metadata": {},
     "output_type": "display_data"
    },
    {
     "data": {
      "application/vnd.jupyter.widget-view+json": {
       "model_id": "084c701ee0e840308c85a9b65cefd6bb",
       "version_major": 2,
       "version_minor": 0
      },
      "text/plain": [
       "Validation: |          | 0/? [00:00<?, ?it/s]"
      ]
     },
     "metadata": {},
     "output_type": "display_data"
    },
    {
     "data": {
      "application/vnd.jupyter.widget-view+json": {
       "model_id": "d509479a032c45238db7bd4a17821878",
       "version_major": 2,
       "version_minor": 0
      },
      "text/plain": [
       "Validation: |          | 0/? [00:00<?, ?it/s]"
      ]
     },
     "metadata": {},
     "output_type": "display_data"
    },
    {
     "name": "stderr",
     "output_type": "stream",
     "text": [
      "[I 2024-11-04 01:49:26,462] Trial 139 finished with value: 0.7467166781425476 and parameters: {'hidden_dim': 32, 'num_layers': 1, 'optimizer_name': 'Adam', 'batch_size': 2048, 'learning_rate': 0.001, 'sentence_representation_type': 'last'}. Best is trial 50 with value: 0.7804877758026123.\n",
      "Seed set to 42\n"
     ]
    },
    {
     "name": "stdout",
     "output_type": "stream",
     "text": [
      "---------- batch_size_2048; lr_0.001; optimizer_Adam; hidden_dim_32; num_layers_1; sentence_representation_max ----------\n"
     ]
    },
    {
     "name": "stderr",
     "output_type": "stream",
     "text": [
      "[I 2024-11-04 01:49:27,091] Trial 140 finished with value: 0.7804877758026123 and parameters: {'hidden_dim': 32, 'num_layers': 1, 'optimizer_name': 'Adam', 'batch_size': 2048, 'learning_rate': 0.001, 'sentence_representation_type': 'max'}. Best is trial 50 with value: 0.7804877758026123.\n",
      "Seed set to 42\n"
     ]
    },
    {
     "name": "stdout",
     "output_type": "stream",
     "text": [
      "[Skipping] rnn/test/w2v-3b/batch_size_2048-lr_0.001-optimizer_Adam-hidden_dim_32-num_layers_1-sr_type_max-freeze_False\n",
      "---------- batch_size_2048; lr_0.001; optimizer_Adam; hidden_dim_32; num_layers_1; sentence_representation_max ----------\n"
     ]
    },
    {
     "name": "stderr",
     "output_type": "stream",
     "text": [
      "[I 2024-11-04 01:49:27,673] Trial 141 finished with value: 0.7804877758026123 and parameters: {'hidden_dim': 32, 'num_layers': 1, 'optimizer_name': 'Adam', 'batch_size': 2048, 'learning_rate': 0.001, 'sentence_representation_type': 'max'}. Best is trial 50 with value: 0.7804877758026123.\n",
      "Seed set to 42\n"
     ]
    },
    {
     "name": "stdout",
     "output_type": "stream",
     "text": [
      "[Skipping] rnn/test/w2v-3b/batch_size_2048-lr_0.001-optimizer_Adam-hidden_dim_32-num_layers_1-sr_type_max-freeze_False\n",
      "---------- batch_size_2048; lr_0.001; optimizer_Adam; hidden_dim_32; num_layers_1; sentence_representation_max ----------\n"
     ]
    },
    {
     "name": "stderr",
     "output_type": "stream",
     "text": [
      "[I 2024-11-04 01:49:28,256] Trial 142 finished with value: 0.7804877758026123 and parameters: {'hidden_dim': 32, 'num_layers': 1, 'optimizer_name': 'Adam', 'batch_size': 2048, 'learning_rate': 0.001, 'sentence_representation_type': 'max'}. Best is trial 50 with value: 0.7804877758026123.\n",
      "Seed set to 42\n"
     ]
    },
    {
     "name": "stdout",
     "output_type": "stream",
     "text": [
      "[Skipping] rnn/test/w2v-3b/batch_size_2048-lr_0.001-optimizer_Adam-hidden_dim_32-num_layers_1-sr_type_max-freeze_False\n",
      "---------- batch_size_2048; lr_0.001; optimizer_Adam; hidden_dim_32; num_layers_1; sentence_representation_max ----------\n"
     ]
    },
    {
     "name": "stderr",
     "output_type": "stream",
     "text": [
      "[I 2024-11-04 01:49:28,836] Trial 143 finished with value: 0.7804877758026123 and parameters: {'hidden_dim': 32, 'num_layers': 1, 'optimizer_name': 'Adam', 'batch_size': 2048, 'learning_rate': 0.001, 'sentence_representation_type': 'max'}. Best is trial 50 with value: 0.7804877758026123.\n",
      "Seed set to 42\n"
     ]
    },
    {
     "name": "stdout",
     "output_type": "stream",
     "text": [
      "[Skipping] rnn/test/w2v-3b/batch_size_2048-lr_0.001-optimizer_Adam-hidden_dim_32-num_layers_1-sr_type_max-freeze_False\n",
      "---------- batch_size_2048; lr_0.001; optimizer_Adam; hidden_dim_32; num_layers_1; sentence_representation_max ----------\n"
     ]
    },
    {
     "name": "stderr",
     "output_type": "stream",
     "text": [
      "[I 2024-11-04 01:49:29,428] Trial 144 finished with value: 0.7804877758026123 and parameters: {'hidden_dim': 32, 'num_layers': 1, 'optimizer_name': 'Adam', 'batch_size': 2048, 'learning_rate': 0.001, 'sentence_representation_type': 'max'}. Best is trial 50 with value: 0.7804877758026123.\n",
      "Seed set to 42\n"
     ]
    },
    {
     "name": "stdout",
     "output_type": "stream",
     "text": [
      "[Skipping] rnn/test/w2v-3b/batch_size_2048-lr_0.001-optimizer_Adam-hidden_dim_32-num_layers_1-sr_type_max-freeze_False\n",
      "---------- batch_size_64; lr_0.001; optimizer_Adam; hidden_dim_32; num_layers_1; sentence_representation_max ----------\n"
     ]
    },
    {
     "name": "stderr",
     "output_type": "stream",
     "text": [
      "[I 2024-11-04 01:49:30,018] Trial 145 finished with value: 0.4108687937259674 and parameters: {'hidden_dim': 32, 'num_layers': 1, 'optimizer_name': 'Adam', 'batch_size': 64, 'learning_rate': 0.001, 'sentence_representation_type': 'max'}. Best is trial 50 with value: 0.7804877758026123.\n",
      "Seed set to 42\n"
     ]
    },
    {
     "name": "stdout",
     "output_type": "stream",
     "text": [
      "[Skipping] rnn/test/w2v-3b/batch_size_64-lr_0.001-optimizer_Adam-hidden_dim_32-num_layers_1-sr_type_max-freeze_False\n",
      "---------- batch_size_2048; lr_0.001; optimizer_Adam; hidden_dim_32; num_layers_1; sentence_representation_average ----------\n"
     ]
    },
    {
     "name": "stderr",
     "output_type": "stream",
     "text": [
      "[I 2024-11-04 01:49:30,600] Trial 146 finished with value: 0.7514071464538574 and parameters: {'hidden_dim': 32, 'num_layers': 1, 'optimizer_name': 'Adam', 'batch_size': 2048, 'learning_rate': 0.001, 'sentence_representation_type': 'average'}. Best is trial 50 with value: 0.7804877758026123.\n",
      "Seed set to 42\n"
     ]
    },
    {
     "name": "stdout",
     "output_type": "stream",
     "text": [
      "[Skipping] rnn/test/w2v-3b/batch_size_2048-lr_0.001-optimizer_Adam-hidden_dim_32-num_layers_1-sr_type_average-freeze_False\n",
      "---------- batch_size_32; lr_0.0001; optimizer_Adam; hidden_dim_32; num_layers_1; sentence_representation_max ----------\n"
     ]
    },
    {
     "name": "stderr",
     "output_type": "stream",
     "text": [
      "GPU available: True (cuda), used: False\n",
      "TPU available: False, using: 0 TPU cores\n",
      "HPU available: False, using: 0 HPUs\n",
      "\n",
      "  | Name   | Type               | Params | Mode \n",
      "------------------------------------------------------\n",
      "0 | model  | RNN                | 4.9 M  | train\n",
      "1 | metric | MulticlassAccuracy | 0      | train\n",
      "------------------------------------------------------\n",
      "4.9 M     Trainable params\n",
      "0         Non-trainable params\n",
      "4.9 M     Total params\n",
      "19.646    Total estimated model params size (MB)\n",
      "7         Modules in train mode\n",
      "0         Modules in eval mode\n"
     ]
    },
    {
     "data": {
      "application/vnd.jupyter.widget-view+json": {
       "model_id": "bf0d5e109a4445d286801caa3afa92a7",
       "version_major": 2,
       "version_minor": 0
      },
      "text/plain": [
       "Sanity Checking: |          | 0/? [00:00<?, ?it/s]"
      ]
     },
     "metadata": {},
     "output_type": "display_data"
    },
    {
     "data": {
      "application/vnd.jupyter.widget-view+json": {
       "model_id": "3134011935774ea18baeec5dffee687a",
       "version_major": 2,
       "version_minor": 0
      },
      "text/plain": [
       "Training: |          | 0/? [00:00<?, ?it/s]"
      ]
     },
     "metadata": {},
     "output_type": "display_data"
    },
    {
     "data": {
      "application/vnd.jupyter.widget-view+json": {
       "model_id": "154ccd8b4b884cb0abcb62b87cbf390d",
       "version_major": 2,
       "version_minor": 0
      },
      "text/plain": [
       "Validation: |          | 0/? [00:00<?, ?it/s]"
      ]
     },
     "metadata": {},
     "output_type": "display_data"
    },
    {
     "data": {
      "application/vnd.jupyter.widget-view+json": {
       "model_id": "a0d489f97a954621b88cfffafba13b4f",
       "version_major": 2,
       "version_minor": 0
      },
      "text/plain": [
       "Validation: |          | 0/? [00:00<?, ?it/s]"
      ]
     },
     "metadata": {},
     "output_type": "display_data"
    },
    {
     "data": {
      "application/vnd.jupyter.widget-view+json": {
       "model_id": "8db8336558da4e468191f46a2410a193",
       "version_major": 2,
       "version_minor": 0
      },
      "text/plain": [
       "Validation: |          | 0/? [00:00<?, ?it/s]"
      ]
     },
     "metadata": {},
     "output_type": "display_data"
    },
    {
     "data": {
      "application/vnd.jupyter.widget-view+json": {
       "model_id": "1318bc1c9d564597bcf1ae0c0b35cb94",
       "version_major": 2,
       "version_minor": 0
      },
      "text/plain": [
       "Validation: |          | 0/? [00:00<?, ?it/s]"
      ]
     },
     "metadata": {},
     "output_type": "display_data"
    },
    {
     "data": {
      "application/vnd.jupyter.widget-view+json": {
       "model_id": "c203b446468e4353aaf4211441f62cb5",
       "version_major": 2,
       "version_minor": 0
      },
      "text/plain": [
       "Validation: |          | 0/? [00:00<?, ?it/s]"
      ]
     },
     "metadata": {},
     "output_type": "display_data"
    },
    {
     "data": {
      "application/vnd.jupyter.widget-view+json": {
       "model_id": "ddc7d448398b45e9b4ae42ecc9f1c51d",
       "version_major": 2,
       "version_minor": 0
      },
      "text/plain": [
       "Validation: |          | 0/? [00:00<?, ?it/s]"
      ]
     },
     "metadata": {},
     "output_type": "display_data"
    },
    {
     "data": {
      "application/vnd.jupyter.widget-view+json": {
       "model_id": "af33adbf66184534981000ce8c118b42",
       "version_major": 2,
       "version_minor": 0
      },
      "text/plain": [
       "Validation: |          | 0/? [00:00<?, ?it/s]"
      ]
     },
     "metadata": {},
     "output_type": "display_data"
    },
    {
     "data": {
      "application/vnd.jupyter.widget-view+json": {
       "model_id": "0302bdc339ba42ff97b5495f2680a3e8",
       "version_major": 2,
       "version_minor": 0
      },
      "text/plain": [
       "Validation: |          | 0/? [00:00<?, ?it/s]"
      ]
     },
     "metadata": {},
     "output_type": "display_data"
    },
    {
     "name": "stderr",
     "output_type": "stream",
     "text": [
      "[I 2024-11-04 01:51:29,701] Trial 147 finished with value: 0.3976490795612335 and parameters: {'hidden_dim': 32, 'num_layers': 1, 'optimizer_name': 'Adam', 'batch_size': 32, 'learning_rate': 0.0001, 'sentence_representation_type': 'max'}. Best is trial 50 with value: 0.7804877758026123.\n",
      "Seed set to 42\n"
     ]
    },
    {
     "name": "stdout",
     "output_type": "stream",
     "text": [
      "---------- batch_size_128; lr_0.01; optimizer_Adam; hidden_dim_32; num_layers_1; sentence_representation_max ----------\n"
     ]
    },
    {
     "name": "stderr",
     "output_type": "stream",
     "text": [
      "GPU available: True (cuda), used: False\n",
      "TPU available: False, using: 0 TPU cores\n",
      "HPU available: False, using: 0 HPUs\n",
      "\n",
      "  | Name   | Type               | Params | Mode \n",
      "------------------------------------------------------\n",
      "0 | model  | RNN                | 4.9 M  | train\n",
      "1 | metric | MulticlassAccuracy | 0      | train\n",
      "------------------------------------------------------\n",
      "4.9 M     Trainable params\n",
      "0         Non-trainable params\n",
      "4.9 M     Total params\n",
      "19.646    Total estimated model params size (MB)\n",
      "7         Modules in train mode\n",
      "0         Modules in eval mode\n"
     ]
    },
    {
     "data": {
      "application/vnd.jupyter.widget-view+json": {
       "model_id": "d7b5109afc1b4370b2810044c29f6192",
       "version_major": 2,
       "version_minor": 0
      },
      "text/plain": [
       "Sanity Checking: |          | 0/? [00:00<?, ?it/s]"
      ]
     },
     "metadata": {},
     "output_type": "display_data"
    },
    {
     "data": {
      "application/vnd.jupyter.widget-view+json": {
       "model_id": "b19c929b41554106bc8afd0630c9b51a",
       "version_major": 2,
       "version_minor": 0
      },
      "text/plain": [
       "Training: |          | 0/? [00:00<?, ?it/s]"
      ]
     },
     "metadata": {},
     "output_type": "display_data"
    },
    {
     "data": {
      "application/vnd.jupyter.widget-view+json": {
       "model_id": "618343e5ec07460482388bc885ae6872",
       "version_major": 2,
       "version_minor": 0
      },
      "text/plain": [
       "Validation: |          | 0/? [00:00<?, ?it/s]"
      ]
     },
     "metadata": {},
     "output_type": "display_data"
    },
    {
     "data": {
      "application/vnd.jupyter.widget-view+json": {
       "model_id": "587f1eb587dc4ea5a7e870738a5ce44c",
       "version_major": 2,
       "version_minor": 0
      },
      "text/plain": [
       "Validation: |          | 0/? [00:00<?, ?it/s]"
      ]
     },
     "metadata": {},
     "output_type": "display_data"
    },
    {
     "data": {
      "application/vnd.jupyter.widget-view+json": {
       "model_id": "c19aac7933514a9a9b8614744fccc447",
       "version_major": 2,
       "version_minor": 0
      },
      "text/plain": [
       "Validation: |          | 0/? [00:00<?, ?it/s]"
      ]
     },
     "metadata": {},
     "output_type": "display_data"
    },
    {
     "data": {
      "application/vnd.jupyter.widget-view+json": {
       "model_id": "b09194f9731c4fa4a61255e12d379aa4",
       "version_major": 2,
       "version_minor": 0
      },
      "text/plain": [
       "Validation: |          | 0/? [00:00<?, ?it/s]"
      ]
     },
     "metadata": {},
     "output_type": "display_data"
    },
    {
     "name": "stderr",
     "output_type": "stream",
     "text": [
      "[I 2024-11-04 01:52:16,406] Trial 148 finished with value: 0.4188682734966278 and parameters: {'hidden_dim': 32, 'num_layers': 1, 'optimizer_name': 'Adam', 'batch_size': 128, 'learning_rate': 0.01, 'sentence_representation_type': 'max'}. Best is trial 50 with value: 0.7804877758026123.\n",
      "Seed set to 42\n"
     ]
    },
    {
     "name": "stdout",
     "output_type": "stream",
     "text": [
      "---------- batch_size_2048; lr_0.001; optimizer_Adam; hidden_dim_32; num_layers_1; sentence_representation_max ----------\n"
     ]
    },
    {
     "name": "stderr",
     "output_type": "stream",
     "text": [
      "[I 2024-11-04 01:52:17,014] Trial 149 finished with value: 0.7804877758026123 and parameters: {'hidden_dim': 32, 'num_layers': 1, 'optimizer_name': 'Adam', 'batch_size': 2048, 'learning_rate': 0.001, 'sentence_representation_type': 'max'}. Best is trial 50 with value: 0.7804877758026123.\n",
      "Seed set to 42\n"
     ]
    },
    {
     "name": "stdout",
     "output_type": "stream",
     "text": [
      "[Skipping] rnn/test/w2v-3b/batch_size_2048-lr_0.001-optimizer_Adam-hidden_dim_32-num_layers_1-sr_type_max-freeze_False\n",
      "---------- batch_size_2048; lr_0.001; optimizer_Adam; hidden_dim_32; num_layers_1; sentence_representation_max ----------\n"
     ]
    },
    {
     "name": "stderr",
     "output_type": "stream",
     "text": [
      "[I 2024-11-04 01:52:17,602] Trial 150 finished with value: 0.7804877758026123 and parameters: {'hidden_dim': 32, 'num_layers': 1, 'optimizer_name': 'Adam', 'batch_size': 2048, 'learning_rate': 0.001, 'sentence_representation_type': 'max'}. Best is trial 50 with value: 0.7804877758026123.\n",
      "Seed set to 42\n"
     ]
    },
    {
     "name": "stdout",
     "output_type": "stream",
     "text": [
      "[Skipping] rnn/test/w2v-3b/batch_size_2048-lr_0.001-optimizer_Adam-hidden_dim_32-num_layers_1-sr_type_max-freeze_False\n",
      "---------- batch_size_2048; lr_0.001; optimizer_Adam; hidden_dim_32; num_layers_1; sentence_representation_max ----------\n"
     ]
    },
    {
     "name": "stderr",
     "output_type": "stream",
     "text": [
      "[I 2024-11-04 01:52:18,193] Trial 151 finished with value: 0.7804877758026123 and parameters: {'hidden_dim': 32, 'num_layers': 1, 'optimizer_name': 'Adam', 'batch_size': 2048, 'learning_rate': 0.001, 'sentence_representation_type': 'max'}. Best is trial 50 with value: 0.7804877758026123.\n",
      "Seed set to 42\n"
     ]
    },
    {
     "name": "stdout",
     "output_type": "stream",
     "text": [
      "[Skipping] rnn/test/w2v-3b/batch_size_2048-lr_0.001-optimizer_Adam-hidden_dim_32-num_layers_1-sr_type_max-freeze_False\n",
      "---------- batch_size_2048; lr_0.001; optimizer_Adam; hidden_dim_32; num_layers_1; sentence_representation_max ----------\n"
     ]
    },
    {
     "name": "stderr",
     "output_type": "stream",
     "text": [
      "[I 2024-11-04 01:52:18,789] Trial 152 finished with value: 0.7804877758026123 and parameters: {'hidden_dim': 32, 'num_layers': 1, 'optimizer_name': 'Adam', 'batch_size': 2048, 'learning_rate': 0.001, 'sentence_representation_type': 'max'}. Best is trial 50 with value: 0.7804877758026123.\n",
      "Seed set to 42\n"
     ]
    },
    {
     "name": "stdout",
     "output_type": "stream",
     "text": [
      "[Skipping] rnn/test/w2v-3b/batch_size_2048-lr_0.001-optimizer_Adam-hidden_dim_32-num_layers_1-sr_type_max-freeze_False\n",
      "---------- batch_size_2048; lr_0.001; optimizer_Adam; hidden_dim_32; num_layers_1; sentence_representation_max ----------\n"
     ]
    },
    {
     "name": "stderr",
     "output_type": "stream",
     "text": [
      "[I 2024-11-04 01:52:19,406] Trial 153 finished with value: 0.7804877758026123 and parameters: {'hidden_dim': 32, 'num_layers': 1, 'optimizer_name': 'Adam', 'batch_size': 2048, 'learning_rate': 0.001, 'sentence_representation_type': 'max'}. Best is trial 50 with value: 0.7804877758026123.\n",
      "Seed set to 42\n"
     ]
    },
    {
     "name": "stdout",
     "output_type": "stream",
     "text": [
      "[Skipping] rnn/test/w2v-3b/batch_size_2048-lr_0.001-optimizer_Adam-hidden_dim_32-num_layers_1-sr_type_max-freeze_False\n",
      "---------- batch_size_2048; lr_0.001; optimizer_Adam; hidden_dim_32; num_layers_1; sentence_representation_max ----------\n"
     ]
    },
    {
     "name": "stderr",
     "output_type": "stream",
     "text": [
      "[I 2024-11-04 01:52:20,004] Trial 154 finished with value: 0.7804877758026123 and parameters: {'hidden_dim': 32, 'num_layers': 1, 'optimizer_name': 'Adam', 'batch_size': 2048, 'learning_rate': 0.001, 'sentence_representation_type': 'max'}. Best is trial 50 with value: 0.7804877758026123.\n",
      "Seed set to 42\n"
     ]
    },
    {
     "name": "stdout",
     "output_type": "stream",
     "text": [
      "[Skipping] rnn/test/w2v-3b/batch_size_2048-lr_0.001-optimizer_Adam-hidden_dim_32-num_layers_1-sr_type_max-freeze_False\n",
      "---------- batch_size_2048; lr_0.001; optimizer_Adam; hidden_dim_32; num_layers_1; sentence_representation_max ----------\n"
     ]
    },
    {
     "name": "stderr",
     "output_type": "stream",
     "text": [
      "[I 2024-11-04 01:52:20,602] Trial 155 finished with value: 0.7804877758026123 and parameters: {'hidden_dim': 32, 'num_layers': 1, 'optimizer_name': 'Adam', 'batch_size': 2048, 'learning_rate': 0.001, 'sentence_representation_type': 'max'}. Best is trial 50 with value: 0.7804877758026123.\n",
      "Seed set to 42\n"
     ]
    },
    {
     "name": "stdout",
     "output_type": "stream",
     "text": [
      "[Skipping] rnn/test/w2v-3b/batch_size_2048-lr_0.001-optimizer_Adam-hidden_dim_32-num_layers_1-sr_type_max-freeze_False\n",
      "---------- batch_size_2048; lr_0.001; optimizer_Adam; hidden_dim_32; num_layers_1; sentence_representation_max ----------\n"
     ]
    },
    {
     "name": "stderr",
     "output_type": "stream",
     "text": [
      "[I 2024-11-04 01:52:21,190] Trial 156 finished with value: 0.7804877758026123 and parameters: {'hidden_dim': 32, 'num_layers': 1, 'optimizer_name': 'Adam', 'batch_size': 2048, 'learning_rate': 0.001, 'sentence_representation_type': 'max'}. Best is trial 50 with value: 0.7804877758026123.\n",
      "Seed set to 42\n"
     ]
    },
    {
     "name": "stdout",
     "output_type": "stream",
     "text": [
      "[Skipping] rnn/test/w2v-3b/batch_size_2048-lr_0.001-optimizer_Adam-hidden_dim_32-num_layers_1-sr_type_max-freeze_False\n",
      "---------- batch_size_2048; lr_0.1; optimizer_Adam; hidden_dim_32; num_layers_1; sentence_representation_max ----------\n"
     ]
    },
    {
     "name": "stderr",
     "output_type": "stream",
     "text": [
      "GPU available: True (cuda), used: False\n",
      "TPU available: False, using: 0 TPU cores\n",
      "HPU available: False, using: 0 HPUs\n",
      "\n",
      "  | Name   | Type               | Params | Mode \n",
      "------------------------------------------------------\n",
      "0 | model  | RNN                | 4.9 M  | train\n",
      "1 | metric | MulticlassAccuracy | 0      | train\n",
      "------------------------------------------------------\n",
      "4.9 M     Trainable params\n",
      "0         Non-trainable params\n",
      "4.9 M     Total params\n",
      "19.646    Total estimated model params size (MB)\n",
      "7         Modules in train mode\n",
      "0         Modules in eval mode\n"
     ]
    },
    {
     "data": {
      "application/vnd.jupyter.widget-view+json": {
       "model_id": "d11d1efd754b4a0881151ebfa3724437",
       "version_major": 2,
       "version_minor": 0
      },
      "text/plain": [
       "Sanity Checking: |          | 0/? [00:00<?, ?it/s]"
      ]
     },
     "metadata": {},
     "output_type": "display_data"
    },
    {
     "data": {
      "application/vnd.jupyter.widget-view+json": {
       "model_id": "9adb034252064c2cb2dfedf0efbc4fbf",
       "version_major": 2,
       "version_minor": 0
      },
      "text/plain": [
       "Training: |          | 0/? [00:00<?, ?it/s]"
      ]
     },
     "metadata": {},
     "output_type": "display_data"
    },
    {
     "data": {
      "application/vnd.jupyter.widget-view+json": {
       "model_id": "41b20bf0660e42698154303662007dcb",
       "version_major": 2,
       "version_minor": 0
      },
      "text/plain": [
       "Validation: |          | 0/? [00:00<?, ?it/s]"
      ]
     },
     "metadata": {},
     "output_type": "display_data"
    },
    {
     "data": {
      "application/vnd.jupyter.widget-view+json": {
       "model_id": "aac4fb29068a47ee92c8f3ca4ac9bfe7",
       "version_major": 2,
       "version_minor": 0
      },
      "text/plain": [
       "Validation: |          | 0/? [00:00<?, ?it/s]"
      ]
     },
     "metadata": {},
     "output_type": "display_data"
    },
    {
     "data": {
      "application/vnd.jupyter.widget-view+json": {
       "model_id": "7f7515d2bc6e40bb844983a71345c6a8",
       "version_major": 2,
       "version_minor": 0
      },
      "text/plain": [
       "Validation: |          | 0/? [00:00<?, ?it/s]"
      ]
     },
     "metadata": {},
     "output_type": "display_data"
    },
    {
     "data": {
      "application/vnd.jupyter.widget-view+json": {
       "model_id": "995007269f8b4bc6acad71ece4f762c2",
       "version_major": 2,
       "version_minor": 0
      },
      "text/plain": [
       "Validation: |          | 0/? [00:00<?, ?it/s]"
      ]
     },
     "metadata": {},
     "output_type": "display_data"
    },
    {
     "data": {
      "application/vnd.jupyter.widget-view+json": {
       "model_id": "f2282db95bf34fe782f7abc79f60c6fb",
       "version_major": 2,
       "version_minor": 0
      },
      "text/plain": [
       "Validation: |          | 0/? [00:00<?, ?it/s]"
      ]
     },
     "metadata": {},
     "output_type": "display_data"
    },
    {
     "data": {
      "application/vnd.jupyter.widget-view+json": {
       "model_id": "b715414854084be6aac3f09310e77ae3",
       "version_major": 2,
       "version_minor": 0
      },
      "text/plain": [
       "Validation: |          | 0/? [00:00<?, ?it/s]"
      ]
     },
     "metadata": {},
     "output_type": "display_data"
    },
    {
     "name": "stderr",
     "output_type": "stream",
     "text": [
      "[I 2024-11-04 01:53:04,822] Trial 157 finished with value: 0.5 and parameters: {'hidden_dim': 32, 'num_layers': 1, 'optimizer_name': 'Adam', 'batch_size': 2048, 'learning_rate': 0.1, 'sentence_representation_type': 'max'}. Best is trial 50 with value: 0.7804877758026123.\n",
      "Seed set to 42\n"
     ]
    },
    {
     "name": "stdout",
     "output_type": "stream",
     "text": [
      "---------- batch_size_256; lr_0.001; optimizer_Adam; hidden_dim_32; num_layers_1; sentence_representation_max ----------\n"
     ]
    },
    {
     "name": "stderr",
     "output_type": "stream",
     "text": [
      "[I 2024-11-04 01:53:05,414] Trial 158 finished with value: 0.47315362095832825 and parameters: {'hidden_dim': 32, 'num_layers': 1, 'optimizer_name': 'Adam', 'batch_size': 256, 'learning_rate': 0.001, 'sentence_representation_type': 'max'}. Best is trial 50 with value: 0.7804877758026123.\n",
      "Seed set to 42\n"
     ]
    },
    {
     "name": "stdout",
     "output_type": "stream",
     "text": [
      "[Skipping] rnn/test/w2v-3b/batch_size_256-lr_0.001-optimizer_Adam-hidden_dim_32-num_layers_1-sr_type_max-freeze_False\n",
      "---------- batch_size_2048; lr_0.001; optimizer_Adam; hidden_dim_64; num_layers_1; sentence_representation_max ----------\n"
     ]
    },
    {
     "name": "stderr",
     "output_type": "stream",
     "text": [
      "[I 2024-11-04 01:53:06,005] Trial 159 finished with value: 0.7589118480682373 and parameters: {'hidden_dim': 64, 'num_layers': 1, 'optimizer_name': 'Adam', 'batch_size': 2048, 'learning_rate': 0.001, 'sentence_representation_type': 'max'}. Best is trial 50 with value: 0.7804877758026123.\n",
      "Seed set to 42\n"
     ]
    },
    {
     "name": "stdout",
     "output_type": "stream",
     "text": [
      "[Skipping] rnn/test/w2v-3b/batch_size_2048-lr_0.001-optimizer_Adam-hidden_dim_64-num_layers_1-sr_type_max-freeze_False\n",
      "---------- batch_size_2048; lr_0.001; optimizer_Adam; hidden_dim_32; num_layers_1; sentence_representation_max ----------\n"
     ]
    },
    {
     "name": "stderr",
     "output_type": "stream",
     "text": [
      "[I 2024-11-04 01:53:06,594] Trial 160 finished with value: 0.7804877758026123 and parameters: {'hidden_dim': 32, 'num_layers': 1, 'optimizer_name': 'Adam', 'batch_size': 2048, 'learning_rate': 0.001, 'sentence_representation_type': 'max'}. Best is trial 50 with value: 0.7804877758026123.\n",
      "Seed set to 42\n"
     ]
    },
    {
     "name": "stdout",
     "output_type": "stream",
     "text": [
      "[Skipping] rnn/test/w2v-3b/batch_size_2048-lr_0.001-optimizer_Adam-hidden_dim_32-num_layers_1-sr_type_max-freeze_False\n",
      "---------- batch_size_2048; lr_0.001; optimizer_Adam; hidden_dim_32; num_layers_1; sentence_representation_max ----------\n"
     ]
    },
    {
     "name": "stderr",
     "output_type": "stream",
     "text": [
      "[I 2024-11-04 01:53:07,176] Trial 161 finished with value: 0.7804877758026123 and parameters: {'hidden_dim': 32, 'num_layers': 1, 'optimizer_name': 'Adam', 'batch_size': 2048, 'learning_rate': 0.001, 'sentence_representation_type': 'max'}. Best is trial 50 with value: 0.7804877758026123.\n",
      "Seed set to 42\n"
     ]
    },
    {
     "name": "stdout",
     "output_type": "stream",
     "text": [
      "[Skipping] rnn/test/w2v-3b/batch_size_2048-lr_0.001-optimizer_Adam-hidden_dim_32-num_layers_1-sr_type_max-freeze_False\n",
      "---------- batch_size_2048; lr_0.001; optimizer_Adam; hidden_dim_32; num_layers_1; sentence_representation_max ----------\n"
     ]
    },
    {
     "name": "stderr",
     "output_type": "stream",
     "text": [
      "[I 2024-11-04 01:53:07,782] Trial 162 finished with value: 0.7804877758026123 and parameters: {'hidden_dim': 32, 'num_layers': 1, 'optimizer_name': 'Adam', 'batch_size': 2048, 'learning_rate': 0.001, 'sentence_representation_type': 'max'}. Best is trial 50 with value: 0.7804877758026123.\n",
      "Seed set to 42\n"
     ]
    },
    {
     "name": "stdout",
     "output_type": "stream",
     "text": [
      "[Skipping] rnn/test/w2v-3b/batch_size_2048-lr_0.001-optimizer_Adam-hidden_dim_32-num_layers_1-sr_type_max-freeze_False\n",
      "---------- batch_size_2048; lr_0.001; optimizer_Adam; hidden_dim_32; num_layers_1; sentence_representation_max ----------\n"
     ]
    },
    {
     "name": "stderr",
     "output_type": "stream",
     "text": [
      "[I 2024-11-04 01:53:08,375] Trial 163 finished with value: 0.7804877758026123 and parameters: {'hidden_dim': 32, 'num_layers': 1, 'optimizer_name': 'Adam', 'batch_size': 2048, 'learning_rate': 0.001, 'sentence_representation_type': 'max'}. Best is trial 50 with value: 0.7804877758026123.\n",
      "Seed set to 42\n"
     ]
    },
    {
     "name": "stdout",
     "output_type": "stream",
     "text": [
      "[Skipping] rnn/test/w2v-3b/batch_size_2048-lr_0.001-optimizer_Adam-hidden_dim_32-num_layers_1-sr_type_max-freeze_False\n",
      "---------- batch_size_2048; lr_0.001; optimizer_Adam; hidden_dim_32; num_layers_1; sentence_representation_max ----------\n"
     ]
    },
    {
     "name": "stderr",
     "output_type": "stream",
     "text": [
      "[I 2024-11-04 01:53:09,005] Trial 164 finished with value: 0.7804877758026123 and parameters: {'hidden_dim': 32, 'num_layers': 1, 'optimizer_name': 'Adam', 'batch_size': 2048, 'learning_rate': 0.001, 'sentence_representation_type': 'max'}. Best is trial 50 with value: 0.7804877758026123.\n",
      "Seed set to 42\n"
     ]
    },
    {
     "name": "stdout",
     "output_type": "stream",
     "text": [
      "[Skipping] rnn/test/w2v-3b/batch_size_2048-lr_0.001-optimizer_Adam-hidden_dim_32-num_layers_1-sr_type_max-freeze_False\n",
      "---------- batch_size_2048; lr_0.001; optimizer_Adam; hidden_dim_32; num_layers_1; sentence_representation_max ----------\n"
     ]
    },
    {
     "name": "stderr",
     "output_type": "stream",
     "text": [
      "[I 2024-11-04 01:53:09,593] Trial 165 finished with value: 0.7804877758026123 and parameters: {'hidden_dim': 32, 'num_layers': 1, 'optimizer_name': 'Adam', 'batch_size': 2048, 'learning_rate': 0.001, 'sentence_representation_type': 'max'}. Best is trial 50 with value: 0.7804877758026123.\n",
      "Seed set to 42\n"
     ]
    },
    {
     "name": "stdout",
     "output_type": "stream",
     "text": [
      "[Skipping] rnn/test/w2v-3b/batch_size_2048-lr_0.001-optimizer_Adam-hidden_dim_32-num_layers_1-sr_type_max-freeze_False\n",
      "---------- batch_size_512; lr_0.001; optimizer_Adam; hidden_dim_256; num_layers_1; sentence_representation_max ----------\n"
     ]
    },
    {
     "name": "stderr",
     "output_type": "stream",
     "text": [
      "GPU available: True (cuda), used: False\n",
      "TPU available: False, using: 0 TPU cores\n",
      "HPU available: False, using: 0 HPUs\n",
      "\n",
      "  | Name   | Type               | Params | Mode \n",
      "------------------------------------------------------\n",
      "0 | model  | RNN                | 5.1 M  | train\n",
      "1 | metric | MulticlassAccuracy | 0      | train\n",
      "------------------------------------------------------\n",
      "5.1 M     Trainable params\n",
      "0         Non-trainable params\n",
      "5.1 M     Total params\n",
      "20.305    Total estimated model params size (MB)\n",
      "7         Modules in train mode\n",
      "0         Modules in eval mode\n"
     ]
    },
    {
     "data": {
      "application/vnd.jupyter.widget-view+json": {
       "model_id": "117047b1f74e4604a82b4331acbc8a0d",
       "version_major": 2,
       "version_minor": 0
      },
      "text/plain": [
       "Sanity Checking: |          | 0/? [00:00<?, ?it/s]"
      ]
     },
     "metadata": {},
     "output_type": "display_data"
    },
    {
     "data": {
      "application/vnd.jupyter.widget-view+json": {
       "model_id": "d2c7261a71c14ce1be6b842bdcdb2003",
       "version_major": 2,
       "version_minor": 0
      },
      "text/plain": [
       "Training: |          | 0/? [00:00<?, ?it/s]"
      ]
     },
     "metadata": {},
     "output_type": "display_data"
    },
    {
     "data": {
      "application/vnd.jupyter.widget-view+json": {
       "model_id": "fccb179ad97d488b98ff0b44170296b4",
       "version_major": 2,
       "version_minor": 0
      },
      "text/plain": [
       "Validation: |          | 0/? [00:00<?, ?it/s]"
      ]
     },
     "metadata": {},
     "output_type": "display_data"
    },
    {
     "data": {
      "application/vnd.jupyter.widget-view+json": {
       "model_id": "8100b81edc874de9a6cd79434692d3d1",
       "version_major": 2,
       "version_minor": 0
      },
      "text/plain": [
       "Validation: |          | 0/? [00:00<?, ?it/s]"
      ]
     },
     "metadata": {},
     "output_type": "display_data"
    },
    {
     "data": {
      "application/vnd.jupyter.widget-view+json": {
       "model_id": "14711a91c70c45c39141a9d4e3f5324d",
       "version_major": 2,
       "version_minor": 0
      },
      "text/plain": [
       "Validation: |          | 0/? [00:00<?, ?it/s]"
      ]
     },
     "metadata": {},
     "output_type": "display_data"
    },
    {
     "data": {
      "application/vnd.jupyter.widget-view+json": {
       "model_id": "8f8cbe3b93064a74a5d60364c3d5e19f",
       "version_major": 2,
       "version_minor": 0
      },
      "text/plain": [
       "Validation: |          | 0/? [00:00<?, ?it/s]"
      ]
     },
     "metadata": {},
     "output_type": "display_data"
    },
    {
     "data": {
      "application/vnd.jupyter.widget-view+json": {
       "model_id": "7e272b6cf2e44abd84f9c33b131d2770",
       "version_major": 2,
       "version_minor": 0
      },
      "text/plain": [
       "Validation: |          | 0/? [00:00<?, ?it/s]"
      ]
     },
     "metadata": {},
     "output_type": "display_data"
    },
    {
     "name": "stderr",
     "output_type": "stream",
     "text": [
      "[I 2024-11-04 01:54:22,496] Trial 166 finished with value: 0.551480770111084 and parameters: {'hidden_dim': 256, 'num_layers': 1, 'optimizer_name': 'Adam', 'batch_size': 512, 'learning_rate': 0.001, 'sentence_representation_type': 'max'}. Best is trial 50 with value: 0.7804877758026123.\n",
      "Seed set to 42\n"
     ]
    },
    {
     "name": "stdout",
     "output_type": "stream",
     "text": [
      "---------- batch_size_2048; lr_0.001; optimizer_Adam; hidden_dim_32; num_layers_1; sentence_representation_last ----------\n"
     ]
    },
    {
     "name": "stderr",
     "output_type": "stream",
     "text": [
      "[I 2024-11-04 01:54:23,102] Trial 167 finished with value: 0.7467166781425476 and parameters: {'hidden_dim': 32, 'num_layers': 1, 'optimizer_name': 'Adam', 'batch_size': 2048, 'learning_rate': 0.001, 'sentence_representation_type': 'last'}. Best is trial 50 with value: 0.7804877758026123.\n",
      "Seed set to 42\n"
     ]
    },
    {
     "name": "stdout",
     "output_type": "stream",
     "text": [
      "[Skipping] rnn/test/w2v-3b/batch_size_2048-lr_0.001-optimizer_Adam-hidden_dim_32-num_layers_1-sr_type_last-freeze_False\n",
      "---------- batch_size_2048; lr_0.001; optimizer_Adam; hidden_dim_32; num_layers_1; sentence_representation_max ----------\n"
     ]
    },
    {
     "name": "stderr",
     "output_type": "stream",
     "text": [
      "[I 2024-11-04 01:54:23,677] Trial 168 finished with value: 0.7804877758026123 and parameters: {'hidden_dim': 32, 'num_layers': 1, 'optimizer_name': 'Adam', 'batch_size': 2048, 'learning_rate': 0.001, 'sentence_representation_type': 'max'}. Best is trial 50 with value: 0.7804877758026123.\n",
      "Seed set to 42\n"
     ]
    },
    {
     "name": "stdout",
     "output_type": "stream",
     "text": [
      "[Skipping] rnn/test/w2v-3b/batch_size_2048-lr_0.001-optimizer_Adam-hidden_dim_32-num_layers_1-sr_type_max-freeze_False\n",
      "---------- batch_size_2048; lr_0.001; optimizer_Adam; hidden_dim_32; num_layers_1; sentence_representation_average ----------\n"
     ]
    },
    {
     "name": "stderr",
     "output_type": "stream",
     "text": [
      "[I 2024-11-04 01:54:24,258] Trial 169 finished with value: 0.7514071464538574 and parameters: {'hidden_dim': 32, 'num_layers': 1, 'optimizer_name': 'Adam', 'batch_size': 2048, 'learning_rate': 0.001, 'sentence_representation_type': 'average'}. Best is trial 50 with value: 0.7804877758026123.\n",
      "Seed set to 42\n"
     ]
    },
    {
     "name": "stdout",
     "output_type": "stream",
     "text": [
      "[Skipping] rnn/test/w2v-3b/batch_size_2048-lr_0.001-optimizer_Adam-hidden_dim_32-num_layers_1-sr_type_average-freeze_False\n",
      "---------- batch_size_2048; lr_0.001; optimizer_Adam; hidden_dim_32; num_layers_1; sentence_representation_max ----------\n"
     ]
    },
    {
     "name": "stderr",
     "output_type": "stream",
     "text": [
      "[I 2024-11-04 01:54:24,852] Trial 170 finished with value: 0.7804877758026123 and parameters: {'hidden_dim': 32, 'num_layers': 1, 'optimizer_name': 'Adam', 'batch_size': 2048, 'learning_rate': 0.001, 'sentence_representation_type': 'max'}. Best is trial 50 with value: 0.7804877758026123.\n",
      "Seed set to 42\n"
     ]
    },
    {
     "name": "stdout",
     "output_type": "stream",
     "text": [
      "[Skipping] rnn/test/w2v-3b/batch_size_2048-lr_0.001-optimizer_Adam-hidden_dim_32-num_layers_1-sr_type_max-freeze_False\n",
      "---------- batch_size_2048; lr_0.001; optimizer_Adam; hidden_dim_32; num_layers_1; sentence_representation_max ----------\n"
     ]
    },
    {
     "name": "stderr",
     "output_type": "stream",
     "text": [
      "[I 2024-11-04 01:54:25,471] Trial 171 finished with value: 0.7804877758026123 and parameters: {'hidden_dim': 32, 'num_layers': 1, 'optimizer_name': 'Adam', 'batch_size': 2048, 'learning_rate': 0.001, 'sentence_representation_type': 'max'}. Best is trial 50 with value: 0.7804877758026123.\n",
      "Seed set to 42\n"
     ]
    },
    {
     "name": "stdout",
     "output_type": "stream",
     "text": [
      "[Skipping] rnn/test/w2v-3b/batch_size_2048-lr_0.001-optimizer_Adam-hidden_dim_32-num_layers_1-sr_type_max-freeze_False\n",
      "---------- batch_size_2048; lr_0.001; optimizer_Adam; hidden_dim_32; num_layers_1; sentence_representation_max ----------\n"
     ]
    },
    {
     "name": "stderr",
     "output_type": "stream",
     "text": [
      "[I 2024-11-04 01:54:26,055] Trial 172 finished with value: 0.7804877758026123 and parameters: {'hidden_dim': 32, 'num_layers': 1, 'optimizer_name': 'Adam', 'batch_size': 2048, 'learning_rate': 0.001, 'sentence_representation_type': 'max'}. Best is trial 50 with value: 0.7804877758026123.\n",
      "Seed set to 42\n"
     ]
    },
    {
     "name": "stdout",
     "output_type": "stream",
     "text": [
      "[Skipping] rnn/test/w2v-3b/batch_size_2048-lr_0.001-optimizer_Adam-hidden_dim_32-num_layers_1-sr_type_max-freeze_False\n",
      "---------- batch_size_2048; lr_0.001; optimizer_Adam; hidden_dim_32; num_layers_1; sentence_representation_max ----------\n"
     ]
    },
    {
     "name": "stderr",
     "output_type": "stream",
     "text": [
      "[I 2024-11-04 01:54:26,651] Trial 173 finished with value: 0.7804877758026123 and parameters: {'hidden_dim': 32, 'num_layers': 1, 'optimizer_name': 'Adam', 'batch_size': 2048, 'learning_rate': 0.001, 'sentence_representation_type': 'max'}. Best is trial 50 with value: 0.7804877758026123.\n",
      "Seed set to 42\n"
     ]
    },
    {
     "name": "stdout",
     "output_type": "stream",
     "text": [
      "[Skipping] rnn/test/w2v-3b/batch_size_2048-lr_0.001-optimizer_Adam-hidden_dim_32-num_layers_1-sr_type_max-freeze_False\n",
      "---------- batch_size_2048; lr_0.001; optimizer_Adam; hidden_dim_32; num_layers_1; sentence_representation_max ----------\n"
     ]
    },
    {
     "name": "stderr",
     "output_type": "stream",
     "text": [
      "[I 2024-11-04 01:54:27,237] Trial 174 finished with value: 0.7804877758026123 and parameters: {'hidden_dim': 32, 'num_layers': 1, 'optimizer_name': 'Adam', 'batch_size': 2048, 'learning_rate': 0.001, 'sentence_representation_type': 'max'}. Best is trial 50 with value: 0.7804877758026123.\n",
      "Seed set to 42\n"
     ]
    },
    {
     "name": "stdout",
     "output_type": "stream",
     "text": [
      "[Skipping] rnn/test/w2v-3b/batch_size_2048-lr_0.001-optimizer_Adam-hidden_dim_32-num_layers_1-sr_type_max-freeze_False\n",
      "---------- batch_size_1024; lr_0.001; optimizer_Adam; hidden_dim_32; num_layers_1; sentence_representation_max ----------\n"
     ]
    },
    {
     "name": "stderr",
     "output_type": "stream",
     "text": [
      "[I 2024-11-04 01:54:27,842] Trial 175 finished with value: 0.7682369947433472 and parameters: {'hidden_dim': 32, 'num_layers': 1, 'optimizer_name': 'Adam', 'batch_size': 1024, 'learning_rate': 0.001, 'sentence_representation_type': 'max'}. Best is trial 50 with value: 0.7804877758026123.\n",
      "Seed set to 42\n"
     ]
    },
    {
     "name": "stdout",
     "output_type": "stream",
     "text": [
      "[Skipping] rnn/test/w2v-3b/batch_size_1024-lr_0.001-optimizer_Adam-hidden_dim_32-num_layers_1-sr_type_max-freeze_False\n",
      "---------- batch_size_2048; lr_0.001; optimizer_Adam; hidden_dim_32; num_layers_1; sentence_representation_max ----------\n"
     ]
    },
    {
     "name": "stderr",
     "output_type": "stream",
     "text": [
      "[I 2024-11-04 01:54:28,426] Trial 176 finished with value: 0.7804877758026123 and parameters: {'hidden_dim': 32, 'num_layers': 1, 'optimizer_name': 'Adam', 'batch_size': 2048, 'learning_rate': 0.001, 'sentence_representation_type': 'max'}. Best is trial 50 with value: 0.7804877758026123.\n",
      "Seed set to 42\n"
     ]
    },
    {
     "name": "stdout",
     "output_type": "stream",
     "text": [
      "[Skipping] rnn/test/w2v-3b/batch_size_2048-lr_0.001-optimizer_Adam-hidden_dim_32-num_layers_1-sr_type_max-freeze_False\n",
      "---------- batch_size_64; lr_0.001; optimizer_Adam; hidden_dim_32; num_layers_4; sentence_representation_max ----------\n"
     ]
    },
    {
     "name": "stderr",
     "output_type": "stream",
     "text": [
      "GPU available: True (cuda), used: False\n",
      "TPU available: False, using: 0 TPU cores\n",
      "HPU available: False, using: 0 HPUs\n",
      "\n",
      "  | Name   | Type               | Params | Mode \n",
      "------------------------------------------------------\n",
      "0 | model  | RNN                | 4.9 M  | train\n",
      "1 | metric | MulticlassAccuracy | 0      | train\n",
      "------------------------------------------------------\n",
      "4.9 M     Trainable params\n",
      "0         Non-trainable params\n",
      "4.9 M     Total params\n",
      "19.671    Total estimated model params size (MB)\n",
      "7         Modules in train mode\n",
      "0         Modules in eval mode\n"
     ]
    },
    {
     "data": {
      "application/vnd.jupyter.widget-view+json": {
       "model_id": "44ac64b125bd491e9cbd1ad48d16efbe",
       "version_major": 2,
       "version_minor": 0
      },
      "text/plain": [
       "Sanity Checking: |          | 0/? [00:00<?, ?it/s]"
      ]
     },
     "metadata": {},
     "output_type": "display_data"
    },
    {
     "data": {
      "application/vnd.jupyter.widget-view+json": {
       "model_id": "1b76aba438444dff85e7efa9957762c7",
       "version_major": 2,
       "version_minor": 0
      },
      "text/plain": [
       "Training: |          | 0/? [00:00<?, ?it/s]"
      ]
     },
     "metadata": {},
     "output_type": "display_data"
    },
    {
     "data": {
      "application/vnd.jupyter.widget-view+json": {
       "model_id": "20d20ac88c024657b46ed40df9db7d75",
       "version_major": 2,
       "version_minor": 0
      },
      "text/plain": [
       "Validation: |          | 0/? [00:00<?, ?it/s]"
      ]
     },
     "metadata": {},
     "output_type": "display_data"
    },
    {
     "data": {
      "application/vnd.jupyter.widget-view+json": {
       "model_id": "f8cb47698c7446869ac44aea3f1d8c28",
       "version_major": 2,
       "version_minor": 0
      },
      "text/plain": [
       "Validation: |          | 0/? [00:00<?, ?it/s]"
      ]
     },
     "metadata": {},
     "output_type": "display_data"
    },
    {
     "data": {
      "application/vnd.jupyter.widget-view+json": {
       "model_id": "4733adf3dce04327855b9624896e3724",
       "version_major": 2,
       "version_minor": 0
      },
      "text/plain": [
       "Validation: |          | 0/? [00:00<?, ?it/s]"
      ]
     },
     "metadata": {},
     "output_type": "display_data"
    },
    {
     "data": {
      "application/vnd.jupyter.widget-view+json": {
       "model_id": "e972752dcff140b7b2594f37d3b634d3",
       "version_major": 2,
       "version_minor": 0
      },
      "text/plain": [
       "Validation: |          | 0/? [00:00<?, ?it/s]"
      ]
     },
     "metadata": {},
     "output_type": "display_data"
    },
    {
     "data": {
      "application/vnd.jupyter.widget-view+json": {
       "model_id": "65cdefff6ca041c7b77dfd9df8ab813b",
       "version_major": 2,
       "version_minor": 0
      },
      "text/plain": [
       "Validation: |          | 0/? [00:00<?, ?it/s]"
      ]
     },
     "metadata": {},
     "output_type": "display_data"
    },
    {
     "name": "stderr",
     "output_type": "stream",
     "text": [
      "[I 2024-11-04 01:55:46,273] Trial 177 finished with value: 0.41171810030937195 and parameters: {'hidden_dim': 32, 'num_layers': 4, 'optimizer_name': 'Adam', 'batch_size': 64, 'learning_rate': 0.001, 'sentence_representation_type': 'max'}. Best is trial 50 with value: 0.7804877758026123.\n",
      "Seed set to 42\n"
     ]
    },
    {
     "name": "stdout",
     "output_type": "stream",
     "text": [
      "---------- batch_size_2048; lr_0.0001; optimizer_Adam; hidden_dim_32; num_layers_1; sentence_representation_max ----------\n"
     ]
    },
    {
     "name": "stderr",
     "output_type": "stream",
     "text": [
      "[I 2024-11-04 01:55:46,929] Trial 178 finished with value: 0.7682926654815674 and parameters: {'hidden_dim': 32, 'num_layers': 1, 'optimizer_name': 'Adam', 'batch_size': 2048, 'learning_rate': 0.0001, 'sentence_representation_type': 'max'}. Best is trial 50 with value: 0.7804877758026123.\n",
      "Seed set to 42\n"
     ]
    },
    {
     "name": "stdout",
     "output_type": "stream",
     "text": [
      "[Skipping] rnn/test/w2v-3b/batch_size_2048-lr_0.0001-optimizer_Adam-hidden_dim_32-num_layers_1-sr_type_max-freeze_False\n",
      "---------- batch_size_2048; lr_0.01; optimizer_Adam; hidden_dim_32; num_layers_1; sentence_representation_max ----------\n"
     ]
    },
    {
     "name": "stderr",
     "output_type": "stream",
     "text": [
      "[I 2024-11-04 01:55:47,517] Trial 179 finished with value: 0.7682926654815674 and parameters: {'hidden_dim': 32, 'num_layers': 1, 'optimizer_name': 'Adam', 'batch_size': 2048, 'learning_rate': 0.01, 'sentence_representation_type': 'max'}. Best is trial 50 with value: 0.7804877758026123.\n",
      "Seed set to 42\n"
     ]
    },
    {
     "name": "stdout",
     "output_type": "stream",
     "text": [
      "[Skipping] rnn/test/w2v-3b/batch_size_2048-lr_0.01-optimizer_Adam-hidden_dim_32-num_layers_1-sr_type_max-freeze_False\n",
      "---------- batch_size_128; lr_0.001; optimizer_Adam; hidden_dim_32; num_layers_1; sentence_representation_max ----------\n"
     ]
    },
    {
     "name": "stderr",
     "output_type": "stream",
     "text": [
      "[I 2024-11-04 01:55:48,105] Trial 180 finished with value: 0.4298436939716339 and parameters: {'hidden_dim': 32, 'num_layers': 1, 'optimizer_name': 'Adam', 'batch_size': 128, 'learning_rate': 0.001, 'sentence_representation_type': 'max'}. Best is trial 50 with value: 0.7804877758026123.\n",
      "Seed set to 42\n"
     ]
    },
    {
     "name": "stdout",
     "output_type": "stream",
     "text": [
      "[Skipping] rnn/test/w2v-3b/batch_size_128-lr_0.001-optimizer_Adam-hidden_dim_32-num_layers_1-sr_type_max-freeze_False\n",
      "---------- batch_size_2048; lr_0.001; optimizer_Adam; hidden_dim_32; num_layers_1; sentence_representation_max ----------\n"
     ]
    },
    {
     "name": "stderr",
     "output_type": "stream",
     "text": [
      "[I 2024-11-04 01:55:48,701] Trial 181 finished with value: 0.7804877758026123 and parameters: {'hidden_dim': 32, 'num_layers': 1, 'optimizer_name': 'Adam', 'batch_size': 2048, 'learning_rate': 0.001, 'sentence_representation_type': 'max'}. Best is trial 50 with value: 0.7804877758026123.\n",
      "Seed set to 42\n"
     ]
    },
    {
     "name": "stdout",
     "output_type": "stream",
     "text": [
      "[Skipping] rnn/test/w2v-3b/batch_size_2048-lr_0.001-optimizer_Adam-hidden_dim_32-num_layers_1-sr_type_max-freeze_False\n",
      "---------- batch_size_2048; lr_0.001; optimizer_Adam; hidden_dim_32; num_layers_1; sentence_representation_max ----------\n"
     ]
    },
    {
     "name": "stderr",
     "output_type": "stream",
     "text": [
      "[I 2024-11-04 01:55:49,292] Trial 182 finished with value: 0.7804877758026123 and parameters: {'hidden_dim': 32, 'num_layers': 1, 'optimizer_name': 'Adam', 'batch_size': 2048, 'learning_rate': 0.001, 'sentence_representation_type': 'max'}. Best is trial 50 with value: 0.7804877758026123.\n",
      "Seed set to 42\n"
     ]
    },
    {
     "name": "stdout",
     "output_type": "stream",
     "text": [
      "[Skipping] rnn/test/w2v-3b/batch_size_2048-lr_0.001-optimizer_Adam-hidden_dim_32-num_layers_1-sr_type_max-freeze_False\n",
      "---------- batch_size_2048; lr_0.001; optimizer_Adam; hidden_dim_32; num_layers_1; sentence_representation_max ----------\n"
     ]
    },
    {
     "name": "stderr",
     "output_type": "stream",
     "text": [
      "[I 2024-11-04 01:55:49,892] Trial 183 finished with value: 0.7804877758026123 and parameters: {'hidden_dim': 32, 'num_layers': 1, 'optimizer_name': 'Adam', 'batch_size': 2048, 'learning_rate': 0.001, 'sentence_representation_type': 'max'}. Best is trial 50 with value: 0.7804877758026123.\n",
      "Seed set to 42\n"
     ]
    },
    {
     "name": "stdout",
     "output_type": "stream",
     "text": [
      "[Skipping] rnn/test/w2v-3b/batch_size_2048-lr_0.001-optimizer_Adam-hidden_dim_32-num_layers_1-sr_type_max-freeze_False\n",
      "---------- batch_size_2048; lr_0.001; optimizer_Adam; hidden_dim_32; num_layers_1; sentence_representation_max ----------\n"
     ]
    },
    {
     "name": "stderr",
     "output_type": "stream",
     "text": [
      "[I 2024-11-04 01:55:50,483] Trial 184 finished with value: 0.7804877758026123 and parameters: {'hidden_dim': 32, 'num_layers': 1, 'optimizer_name': 'Adam', 'batch_size': 2048, 'learning_rate': 0.001, 'sentence_representation_type': 'max'}. Best is trial 50 with value: 0.7804877758026123.\n",
      "Seed set to 42\n"
     ]
    },
    {
     "name": "stdout",
     "output_type": "stream",
     "text": [
      "[Skipping] rnn/test/w2v-3b/batch_size_2048-lr_0.001-optimizer_Adam-hidden_dim_32-num_layers_1-sr_type_max-freeze_False\n",
      "---------- batch_size_32; lr_0.001; optimizer_Adam; hidden_dim_32; num_layers_1; sentence_representation_max ----------\n"
     ]
    },
    {
     "name": "stderr",
     "output_type": "stream",
     "text": [
      "[I 2024-11-04 01:55:51,083] Trial 185 finished with value: 0.3944307565689087 and parameters: {'hidden_dim': 32, 'num_layers': 1, 'optimizer_name': 'Adam', 'batch_size': 32, 'learning_rate': 0.001, 'sentence_representation_type': 'max'}. Best is trial 50 with value: 0.7804877758026123.\n",
      "Seed set to 42\n"
     ]
    },
    {
     "name": "stdout",
     "output_type": "stream",
     "text": [
      "[Skipping] rnn/test/w2v-3b/batch_size_32-lr_0.001-optimizer_Adam-hidden_dim_32-num_layers_1-sr_type_max-freeze_False\n",
      "---------- batch_size_2048; lr_0.001; optimizer_Adam; hidden_dim_32; num_layers_1; sentence_representation_max ----------\n"
     ]
    },
    {
     "name": "stderr",
     "output_type": "stream",
     "text": [
      "[I 2024-11-04 01:55:51,668] Trial 186 finished with value: 0.7804877758026123 and parameters: {'hidden_dim': 32, 'num_layers': 1, 'optimizer_name': 'Adam', 'batch_size': 2048, 'learning_rate': 0.001, 'sentence_representation_type': 'max'}. Best is trial 50 with value: 0.7804877758026123.\n",
      "Seed set to 42\n"
     ]
    },
    {
     "name": "stdout",
     "output_type": "stream",
     "text": [
      "[Skipping] rnn/test/w2v-3b/batch_size_2048-lr_0.001-optimizer_Adam-hidden_dim_32-num_layers_1-sr_type_max-freeze_False\n",
      "---------- batch_size_2048; lr_0.001; optimizer_Adam; hidden_dim_64; num_layers_1; sentence_representation_max ----------\n"
     ]
    },
    {
     "name": "stderr",
     "output_type": "stream",
     "text": [
      "[I 2024-11-04 01:55:52,245] Trial 187 finished with value: 0.7589118480682373 and parameters: {'hidden_dim': 64, 'num_layers': 1, 'optimizer_name': 'Adam', 'batch_size': 2048, 'learning_rate': 0.001, 'sentence_representation_type': 'max'}. Best is trial 50 with value: 0.7804877758026123.\n",
      "Seed set to 42\n"
     ]
    },
    {
     "name": "stdout",
     "output_type": "stream",
     "text": [
      "[Skipping] rnn/test/w2v-3b/batch_size_2048-lr_0.001-optimizer_Adam-hidden_dim_64-num_layers_1-sr_type_max-freeze_False\n",
      "---------- batch_size_2048; lr_0.1; optimizer_Adam; hidden_dim_32; num_layers_1; sentence_representation_max ----------\n"
     ]
    },
    {
     "name": "stderr",
     "output_type": "stream",
     "text": [
      "[I 2024-11-04 01:55:52,833] Trial 188 finished with value: 0.5 and parameters: {'hidden_dim': 32, 'num_layers': 1, 'optimizer_name': 'Adam', 'batch_size': 2048, 'learning_rate': 0.1, 'sentence_representation_type': 'max'}. Best is trial 50 with value: 0.7804877758026123.\n",
      "Seed set to 42\n"
     ]
    },
    {
     "name": "stdout",
     "output_type": "stream",
     "text": [
      "[Skipping] rnn/test/w2v-3b/batch_size_2048-lr_0.1-optimizer_Adam-hidden_dim_32-num_layers_1-sr_type_max-freeze_False\n",
      "---------- batch_size_2048; lr_0.001; optimizer_Adam; hidden_dim_32; num_layers_3; sentence_representation_max ----------\n"
     ]
    },
    {
     "name": "stderr",
     "output_type": "stream",
     "text": [
      "[I 2024-11-04 01:55:53,422] Trial 189 finished with value: 0.7429643869400024 and parameters: {'hidden_dim': 32, 'num_layers': 3, 'optimizer_name': 'Adam', 'batch_size': 2048, 'learning_rate': 0.001, 'sentence_representation_type': 'max'}. Best is trial 50 with value: 0.7804877758026123.\n",
      "Seed set to 42\n"
     ]
    },
    {
     "name": "stdout",
     "output_type": "stream",
     "text": [
      "[Skipping] rnn/test/w2v-3b/batch_size_2048-lr_0.001-optimizer_Adam-hidden_dim_32-num_layers_3-sr_type_max-freeze_False\n",
      "---------- batch_size_2048; lr_0.001; optimizer_Adam; hidden_dim_32; num_layers_1; sentence_representation_max ----------\n"
     ]
    },
    {
     "name": "stderr",
     "output_type": "stream",
     "text": [
      "[I 2024-11-04 01:55:54,048] Trial 190 finished with value: 0.7804877758026123 and parameters: {'hidden_dim': 32, 'num_layers': 1, 'optimizer_name': 'Adam', 'batch_size': 2048, 'learning_rate': 0.001, 'sentence_representation_type': 'max'}. Best is trial 50 with value: 0.7804877758026123.\n",
      "Seed set to 42\n"
     ]
    },
    {
     "name": "stdout",
     "output_type": "stream",
     "text": [
      "[Skipping] rnn/test/w2v-3b/batch_size_2048-lr_0.001-optimizer_Adam-hidden_dim_32-num_layers_1-sr_type_max-freeze_False\n",
      "---------- batch_size_2048; lr_0.001; optimizer_Adam; hidden_dim_32; num_layers_1; sentence_representation_max ----------\n"
     ]
    },
    {
     "name": "stderr",
     "output_type": "stream",
     "text": [
      "[I 2024-11-04 01:55:54,642] Trial 191 finished with value: 0.7804877758026123 and parameters: {'hidden_dim': 32, 'num_layers': 1, 'optimizer_name': 'Adam', 'batch_size': 2048, 'learning_rate': 0.001, 'sentence_representation_type': 'max'}. Best is trial 50 with value: 0.7804877758026123.\n",
      "Seed set to 42\n"
     ]
    },
    {
     "name": "stdout",
     "output_type": "stream",
     "text": [
      "[Skipping] rnn/test/w2v-3b/batch_size_2048-lr_0.001-optimizer_Adam-hidden_dim_32-num_layers_1-sr_type_max-freeze_False\n",
      "---------- batch_size_2048; lr_0.001; optimizer_Adam; hidden_dim_32; num_layers_1; sentence_representation_max ----------\n"
     ]
    },
    {
     "name": "stderr",
     "output_type": "stream",
     "text": [
      "[I 2024-11-04 01:55:55,227] Trial 192 finished with value: 0.7804877758026123 and parameters: {'hidden_dim': 32, 'num_layers': 1, 'optimizer_name': 'Adam', 'batch_size': 2048, 'learning_rate': 0.001, 'sentence_representation_type': 'max'}. Best is trial 50 with value: 0.7804877758026123.\n",
      "Seed set to 42\n"
     ]
    },
    {
     "name": "stdout",
     "output_type": "stream",
     "text": [
      "[Skipping] rnn/test/w2v-3b/batch_size_2048-lr_0.001-optimizer_Adam-hidden_dim_32-num_layers_1-sr_type_max-freeze_False\n",
      "---------- batch_size_2048; lr_0.001; optimizer_Adam; hidden_dim_32; num_layers_1; sentence_representation_max ----------\n"
     ]
    },
    {
     "name": "stderr",
     "output_type": "stream",
     "text": [
      "[I 2024-11-04 01:55:55,833] Trial 193 finished with value: 0.7804877758026123 and parameters: {'hidden_dim': 32, 'num_layers': 1, 'optimizer_name': 'Adam', 'batch_size': 2048, 'learning_rate': 0.001, 'sentence_representation_type': 'max'}. Best is trial 50 with value: 0.7804877758026123.\n",
      "Seed set to 42\n"
     ]
    },
    {
     "name": "stdout",
     "output_type": "stream",
     "text": [
      "[Skipping] rnn/test/w2v-3b/batch_size_2048-lr_0.001-optimizer_Adam-hidden_dim_32-num_layers_1-sr_type_max-freeze_False\n",
      "---------- batch_size_2048; lr_0.001; optimizer_Adam; hidden_dim_32; num_layers_1; sentence_representation_max ----------\n"
     ]
    },
    {
     "name": "stderr",
     "output_type": "stream",
     "text": [
      "[I 2024-11-04 01:55:56,424] Trial 194 finished with value: 0.7804877758026123 and parameters: {'hidden_dim': 32, 'num_layers': 1, 'optimizer_name': 'Adam', 'batch_size': 2048, 'learning_rate': 0.001, 'sentence_representation_type': 'max'}. Best is trial 50 with value: 0.7804877758026123.\n",
      "Seed set to 42\n"
     ]
    },
    {
     "name": "stdout",
     "output_type": "stream",
     "text": [
      "[Skipping] rnn/test/w2v-3b/batch_size_2048-lr_0.001-optimizer_Adam-hidden_dim_32-num_layers_1-sr_type_max-freeze_False\n",
      "---------- batch_size_256; lr_0.001; optimizer_Adam; hidden_dim_32; num_layers_1; sentence_representation_max ----------\n"
     ]
    },
    {
     "name": "stderr",
     "output_type": "stream",
     "text": [
      "[I 2024-11-04 01:55:57,012] Trial 195 finished with value: 0.47315362095832825 and parameters: {'hidden_dim': 32, 'num_layers': 1, 'optimizer_name': 'Adam', 'batch_size': 256, 'learning_rate': 0.001, 'sentence_representation_type': 'max'}. Best is trial 50 with value: 0.7804877758026123.\n",
      "Seed set to 42\n"
     ]
    },
    {
     "name": "stdout",
     "output_type": "stream",
     "text": [
      "[Skipping] rnn/test/w2v-3b/batch_size_256-lr_0.001-optimizer_Adam-hidden_dim_32-num_layers_1-sr_type_max-freeze_False\n",
      "---------- batch_size_2048; lr_0.001; optimizer_Adam; hidden_dim_256; num_layers_1; sentence_representation_max ----------\n"
     ]
    },
    {
     "name": "stderr",
     "output_type": "stream",
     "text": [
      "[I 2024-11-04 01:55:57,604] Trial 196 finished with value: 0.7692307829856873 and parameters: {'hidden_dim': 256, 'num_layers': 1, 'optimizer_name': 'Adam', 'batch_size': 2048, 'learning_rate': 0.001, 'sentence_representation_type': 'max'}. Best is trial 50 with value: 0.7804877758026123.\n",
      "Seed set to 42\n"
     ]
    },
    {
     "name": "stdout",
     "output_type": "stream",
     "text": [
      "[Skipping] rnn/test/w2v-3b/batch_size_2048-lr_0.001-optimizer_Adam-hidden_dim_256-num_layers_1-sr_type_max-freeze_False\n",
      "---------- batch_size_2048; lr_0.001; optimizer_Adam; hidden_dim_32; num_layers_1; sentence_representation_last ----------\n"
     ]
    },
    {
     "name": "stderr",
     "output_type": "stream",
     "text": [
      "[I 2024-11-04 01:55:58,194] Trial 197 finished with value: 0.7467166781425476 and parameters: {'hidden_dim': 32, 'num_layers': 1, 'optimizer_name': 'Adam', 'batch_size': 2048, 'learning_rate': 0.001, 'sentence_representation_type': 'last'}. Best is trial 50 with value: 0.7804877758026123.\n",
      "Seed set to 42\n"
     ]
    },
    {
     "name": "stdout",
     "output_type": "stream",
     "text": [
      "[Skipping] rnn/test/w2v-3b/batch_size_2048-lr_0.001-optimizer_Adam-hidden_dim_32-num_layers_1-sr_type_last-freeze_False\n",
      "---------- batch_size_2048; lr_0.001; optimizer_Adam; hidden_dim_32; num_layers_1; sentence_representation_max ----------\n"
     ]
    },
    {
     "name": "stderr",
     "output_type": "stream",
     "text": [
      "[I 2024-11-04 01:55:58,833] Trial 198 finished with value: 0.7804877758026123 and parameters: {'hidden_dim': 32, 'num_layers': 1, 'optimizer_name': 'Adam', 'batch_size': 2048, 'learning_rate': 0.001, 'sentence_representation_type': 'max'}. Best is trial 50 with value: 0.7804877758026123.\n",
      "Seed set to 42\n"
     ]
    },
    {
     "name": "stdout",
     "output_type": "stream",
     "text": [
      "[Skipping] rnn/test/w2v-3b/batch_size_2048-lr_0.001-optimizer_Adam-hidden_dim_32-num_layers_1-sr_type_max-freeze_False\n",
      "---------- batch_size_2048; lr_0.001; optimizer_Adam; hidden_dim_32; num_layers_1; sentence_representation_max ----------\n"
     ]
    },
    {
     "name": "stderr",
     "output_type": "stream",
     "text": [
      "[I 2024-11-04 01:55:59,416] Trial 199 finished with value: 0.7804877758026123 and parameters: {'hidden_dim': 32, 'num_layers': 1, 'optimizer_name': 'Adam', 'batch_size': 2048, 'learning_rate': 0.001, 'sentence_representation_type': 'max'}. Best is trial 50 with value: 0.7804877758026123.\n",
      "Seed set to 42\n"
     ]
    },
    {
     "name": "stdout",
     "output_type": "stream",
     "text": [
      "[Skipping] rnn/test/w2v-3b/batch_size_2048-lr_0.001-optimizer_Adam-hidden_dim_32-num_layers_1-sr_type_max-freeze_False\n",
      "---------- batch_size_512; lr_0.001; optimizer_Adam; hidden_dim_32; num_layers_1; sentence_representation_average ----------\n"
     ]
    },
    {
     "name": "stderr",
     "output_type": "stream",
     "text": [
      "GPU available: True (cuda), used: False\n",
      "TPU available: False, using: 0 TPU cores\n",
      "HPU available: False, using: 0 HPUs\n",
      "\n",
      "  | Name   | Type               | Params | Mode \n",
      "------------------------------------------------------\n",
      "0 | model  | RNN                | 4.9 M  | train\n",
      "1 | metric | MulticlassAccuracy | 0      | train\n",
      "------------------------------------------------------\n",
      "4.9 M     Trainable params\n",
      "0         Non-trainable params\n",
      "4.9 M     Total params\n",
      "19.646    Total estimated model params size (MB)\n",
      "7         Modules in train mode\n",
      "0         Modules in eval mode\n"
     ]
    },
    {
     "data": {
      "application/vnd.jupyter.widget-view+json": {
       "model_id": "1d2cb409d41241f38ff72ccc4dc0c96e",
       "version_major": 2,
       "version_minor": 0
      },
      "text/plain": [
       "Sanity Checking: |          | 0/? [00:00<?, ?it/s]"
      ]
     },
     "metadata": {},
     "output_type": "display_data"
    },
    {
     "data": {
      "application/vnd.jupyter.widget-view+json": {
       "model_id": "06847b80902046c8b71ee84b42096bea",
       "version_major": 2,
       "version_minor": 0
      },
      "text/plain": [
       "Training: |          | 0/? [00:00<?, ?it/s]"
      ]
     },
     "metadata": {},
     "output_type": "display_data"
    },
    {
     "data": {
      "application/vnd.jupyter.widget-view+json": {
       "model_id": "84e4cbf3834d428d8b5253c109cf9e93",
       "version_major": 2,
       "version_minor": 0
      },
      "text/plain": [
       "Validation: |          | 0/? [00:00<?, ?it/s]"
      ]
     },
     "metadata": {},
     "output_type": "display_data"
    },
    {
     "data": {
      "application/vnd.jupyter.widget-view+json": {
       "model_id": "53db157f10014e878d8a120484655a53",
       "version_major": 2,
       "version_minor": 0
      },
      "text/plain": [
       "Validation: |          | 0/? [00:00<?, ?it/s]"
      ]
     },
     "metadata": {},
     "output_type": "display_data"
    },
    {
     "data": {
      "application/vnd.jupyter.widget-view+json": {
       "model_id": "52c7bd9f7c354da2921c4690fc840ebd",
       "version_major": 2,
       "version_minor": 0
      },
      "text/plain": [
       "Validation: |          | 0/? [00:00<?, ?it/s]"
      ]
     },
     "metadata": {},
     "output_type": "display_data"
    },
    {
     "data": {
      "application/vnd.jupyter.widget-view+json": {
       "model_id": "21c595a73c254871a1f2ce77e39d8a93",
       "version_major": 2,
       "version_minor": 0
      },
      "text/plain": [
       "Validation: |          | 0/? [00:00<?, ?it/s]"
      ]
     },
     "metadata": {},
     "output_type": "display_data"
    },
    {
     "data": {
      "application/vnd.jupyter.widget-view+json": {
       "model_id": "6e023edf2180499dabeffd8429c5be9a",
       "version_major": 2,
       "version_minor": 0
      },
      "text/plain": [
       "Validation: |          | 0/? [00:00<?, ?it/s]"
      ]
     },
     "metadata": {},
     "output_type": "display_data"
    },
    {
     "data": {
      "application/vnd.jupyter.widget-view+json": {
       "model_id": "d042f1d071554ac7898d0b3a2bacddcf",
       "version_major": 2,
       "version_minor": 0
      },
      "text/plain": [
       "Validation: |          | 0/? [00:00<?, ?it/s]"
      ]
     },
     "metadata": {},
     "output_type": "display_data"
    },
    {
     "data": {
      "application/vnd.jupyter.widget-view+json": {
       "model_id": "4bdc3228ff3d46e78e1c6e45e9617be8",
       "version_major": 2,
       "version_minor": 0
      },
      "text/plain": [
       "Validation: |          | 0/? [00:00<?, ?it/s]"
      ]
     },
     "metadata": {},
     "output_type": "display_data"
    },
    {
     "data": {
      "application/vnd.jupyter.widget-view+json": {
       "model_id": "ca8f73dbfa444225b248d48d2410ad6c",
       "version_major": 2,
       "version_minor": 0
      },
      "text/plain": [
       "Validation: |          | 0/? [00:00<?, ?it/s]"
      ]
     },
     "metadata": {},
     "output_type": "display_data"
    },
    {
     "name": "stderr",
     "output_type": "stream",
     "text": [
      "[I 2024-11-04 01:56:47,532] Trial 200 finished with value: 0.5560547113418579 and parameters: {'hidden_dim': 32, 'num_layers': 1, 'optimizer_name': 'Adam', 'batch_size': 512, 'learning_rate': 0.001, 'sentence_representation_type': 'average'}. Best is trial 50 with value: 0.7804877758026123.\n",
      "Seed set to 42\n"
     ]
    },
    {
     "name": "stdout",
     "output_type": "stream",
     "text": [
      "---------- batch_size_2048; lr_0.001; optimizer_Adam; hidden_dim_32; num_layers_1; sentence_representation_max ----------\n"
     ]
    },
    {
     "name": "stderr",
     "output_type": "stream",
     "text": [
      "[I 2024-11-04 01:56:48,149] Trial 201 finished with value: 0.7804877758026123 and parameters: {'hidden_dim': 32, 'num_layers': 1, 'optimizer_name': 'Adam', 'batch_size': 2048, 'learning_rate': 0.001, 'sentence_representation_type': 'max'}. Best is trial 50 with value: 0.7804877758026123.\n",
      "Seed set to 42\n"
     ]
    },
    {
     "name": "stdout",
     "output_type": "stream",
     "text": [
      "[Skipping] rnn/test/w2v-3b/batch_size_2048-lr_0.001-optimizer_Adam-hidden_dim_32-num_layers_1-sr_type_max-freeze_False\n",
      "---------- batch_size_2048; lr_0.001; optimizer_Adam; hidden_dim_32; num_layers_1; sentence_representation_max ----------\n"
     ]
    },
    {
     "name": "stderr",
     "output_type": "stream",
     "text": [
      "[I 2024-11-04 01:56:48,747] Trial 202 finished with value: 0.7804877758026123 and parameters: {'hidden_dim': 32, 'num_layers': 1, 'optimizer_name': 'Adam', 'batch_size': 2048, 'learning_rate': 0.001, 'sentence_representation_type': 'max'}. Best is trial 50 with value: 0.7804877758026123.\n",
      "Seed set to 42\n"
     ]
    },
    {
     "name": "stdout",
     "output_type": "stream",
     "text": [
      "[Skipping] rnn/test/w2v-3b/batch_size_2048-lr_0.001-optimizer_Adam-hidden_dim_32-num_layers_1-sr_type_max-freeze_False\n",
      "---------- batch_size_2048; lr_0.001; optimizer_Adam; hidden_dim_32; num_layers_1; sentence_representation_max ----------\n"
     ]
    },
    {
     "name": "stderr",
     "output_type": "stream",
     "text": [
      "[I 2024-11-04 01:56:49,341] Trial 203 finished with value: 0.7804877758026123 and parameters: {'hidden_dim': 32, 'num_layers': 1, 'optimizer_name': 'Adam', 'batch_size': 2048, 'learning_rate': 0.001, 'sentence_representation_type': 'max'}. Best is trial 50 with value: 0.7804877758026123.\n",
      "Seed set to 42\n"
     ]
    },
    {
     "name": "stdout",
     "output_type": "stream",
     "text": [
      "[Skipping] rnn/test/w2v-3b/batch_size_2048-lr_0.001-optimizer_Adam-hidden_dim_32-num_layers_1-sr_type_max-freeze_False\n",
      "---------- batch_size_2048; lr_0.001; optimizer_Adam; hidden_dim_32; num_layers_1; sentence_representation_max ----------\n"
     ]
    },
    {
     "name": "stderr",
     "output_type": "stream",
     "text": [
      "[I 2024-11-04 01:56:49,963] Trial 204 finished with value: 0.7804877758026123 and parameters: {'hidden_dim': 32, 'num_layers': 1, 'optimizer_name': 'Adam', 'batch_size': 2048, 'learning_rate': 0.001, 'sentence_representation_type': 'max'}. Best is trial 50 with value: 0.7804877758026123.\n",
      "Seed set to 42\n"
     ]
    },
    {
     "name": "stdout",
     "output_type": "stream",
     "text": [
      "[Skipping] rnn/test/w2v-3b/batch_size_2048-lr_0.001-optimizer_Adam-hidden_dim_32-num_layers_1-sr_type_max-freeze_False\n",
      "---------- batch_size_2048; lr_0.001; optimizer_Adam; hidden_dim_32; num_layers_1; sentence_representation_max ----------\n"
     ]
    },
    {
     "name": "stderr",
     "output_type": "stream",
     "text": [
      "[I 2024-11-04 01:56:50,561] Trial 205 finished with value: 0.7804877758026123 and parameters: {'hidden_dim': 32, 'num_layers': 1, 'optimizer_name': 'Adam', 'batch_size': 2048, 'learning_rate': 0.001, 'sentence_representation_type': 'max'}. Best is trial 50 with value: 0.7804877758026123.\n",
      "Seed set to 42\n"
     ]
    },
    {
     "name": "stdout",
     "output_type": "stream",
     "text": [
      "[Skipping] rnn/test/w2v-3b/batch_size_2048-lr_0.001-optimizer_Adam-hidden_dim_32-num_layers_1-sr_type_max-freeze_False\n",
      "---------- batch_size_2048; lr_0.001; optimizer_Adam; hidden_dim_32; num_layers_1; sentence_representation_max ----------\n"
     ]
    },
    {
     "name": "stderr",
     "output_type": "stream",
     "text": [
      "[I 2024-11-04 01:56:51,152] Trial 206 finished with value: 0.7804877758026123 and parameters: {'hidden_dim': 32, 'num_layers': 1, 'optimizer_name': 'Adam', 'batch_size': 2048, 'learning_rate': 0.001, 'sentence_representation_type': 'max'}. Best is trial 50 with value: 0.7804877758026123.\n",
      "Seed set to 42\n"
     ]
    },
    {
     "name": "stdout",
     "output_type": "stream",
     "text": [
      "[Skipping] rnn/test/w2v-3b/batch_size_2048-lr_0.001-optimizer_Adam-hidden_dim_32-num_layers_1-sr_type_max-freeze_False\n",
      "---------- batch_size_2048; lr_0.001; optimizer_Adam; hidden_dim_32; num_layers_1; sentence_representation_max ----------\n"
     ]
    },
    {
     "name": "stderr",
     "output_type": "stream",
     "text": [
      "[I 2024-11-04 01:56:51,746] Trial 207 finished with value: 0.7804877758026123 and parameters: {'hidden_dim': 32, 'num_layers': 1, 'optimizer_name': 'Adam', 'batch_size': 2048, 'learning_rate': 0.001, 'sentence_representation_type': 'max'}. Best is trial 50 with value: 0.7804877758026123.\n",
      "Seed set to 42\n"
     ]
    },
    {
     "name": "stdout",
     "output_type": "stream",
     "text": [
      "[Skipping] rnn/test/w2v-3b/batch_size_2048-lr_0.001-optimizer_Adam-hidden_dim_32-num_layers_1-sr_type_max-freeze_False\n",
      "---------- batch_size_1024; lr_0.001; optimizer_Adam; hidden_dim_32; num_layers_1; sentence_representation_max ----------\n"
     ]
    },
    {
     "name": "stderr",
     "output_type": "stream",
     "text": [
      "[I 2024-11-04 01:56:52,329] Trial 208 finished with value: 0.7682369947433472 and parameters: {'hidden_dim': 32, 'num_layers': 1, 'optimizer_name': 'Adam', 'batch_size': 1024, 'learning_rate': 0.001, 'sentence_representation_type': 'max'}. Best is trial 50 with value: 0.7804877758026123.\n",
      "Seed set to 42\n"
     ]
    },
    {
     "name": "stdout",
     "output_type": "stream",
     "text": [
      "[Skipping] rnn/test/w2v-3b/batch_size_1024-lr_0.001-optimizer_Adam-hidden_dim_32-num_layers_1-sr_type_max-freeze_False\n",
      "---------- batch_size_2048; lr_0.0001; optimizer_Adam; hidden_dim_32; num_layers_1; sentence_representation_max ----------\n"
     ]
    },
    {
     "name": "stderr",
     "output_type": "stream",
     "text": [
      "[I 2024-11-04 01:56:52,927] Trial 209 finished with value: 0.7682926654815674 and parameters: {'hidden_dim': 32, 'num_layers': 1, 'optimizer_name': 'Adam', 'batch_size': 2048, 'learning_rate': 0.0001, 'sentence_representation_type': 'max'}. Best is trial 50 with value: 0.7804877758026123.\n",
      "Seed set to 42\n"
     ]
    },
    {
     "name": "stdout",
     "output_type": "stream",
     "text": [
      "[Skipping] rnn/test/w2v-3b/batch_size_2048-lr_0.0001-optimizer_Adam-hidden_dim_32-num_layers_1-sr_type_max-freeze_False\n",
      "---------- batch_size_2048; lr_0.001; optimizer_Adam; hidden_dim_32; num_layers_1; sentence_representation_max ----------\n"
     ]
    },
    {
     "name": "stderr",
     "output_type": "stream",
     "text": [
      "[I 2024-11-04 01:56:53,538] Trial 210 finished with value: 0.7804877758026123 and parameters: {'hidden_dim': 32, 'num_layers': 1, 'optimizer_name': 'Adam', 'batch_size': 2048, 'learning_rate': 0.001, 'sentence_representation_type': 'max'}. Best is trial 50 with value: 0.7804877758026123.\n",
      "Seed set to 42\n"
     ]
    },
    {
     "name": "stdout",
     "output_type": "stream",
     "text": [
      "[Skipping] rnn/test/w2v-3b/batch_size_2048-lr_0.001-optimizer_Adam-hidden_dim_32-num_layers_1-sr_type_max-freeze_False\n",
      "---------- batch_size_2048; lr_0.001; optimizer_Adam; hidden_dim_32; num_layers_1; sentence_representation_max ----------\n"
     ]
    },
    {
     "name": "stderr",
     "output_type": "stream",
     "text": [
      "[I 2024-11-04 01:56:54,154] Trial 211 finished with value: 0.7804877758026123 and parameters: {'hidden_dim': 32, 'num_layers': 1, 'optimizer_name': 'Adam', 'batch_size': 2048, 'learning_rate': 0.001, 'sentence_representation_type': 'max'}. Best is trial 50 with value: 0.7804877758026123.\n",
      "Seed set to 42\n"
     ]
    },
    {
     "name": "stdout",
     "output_type": "stream",
     "text": [
      "[Skipping] rnn/test/w2v-3b/batch_size_2048-lr_0.001-optimizer_Adam-hidden_dim_32-num_layers_1-sr_type_max-freeze_False\n",
      "---------- batch_size_2048; lr_0.001; optimizer_Adam; hidden_dim_32; num_layers_1; sentence_representation_max ----------\n"
     ]
    },
    {
     "name": "stderr",
     "output_type": "stream",
     "text": [
      "[I 2024-11-04 01:56:54,746] Trial 212 finished with value: 0.7804877758026123 and parameters: {'hidden_dim': 32, 'num_layers': 1, 'optimizer_name': 'Adam', 'batch_size': 2048, 'learning_rate': 0.001, 'sentence_representation_type': 'max'}. Best is trial 50 with value: 0.7804877758026123.\n",
      "Seed set to 42\n"
     ]
    },
    {
     "name": "stdout",
     "output_type": "stream",
     "text": [
      "[Skipping] rnn/test/w2v-3b/batch_size_2048-lr_0.001-optimizer_Adam-hidden_dim_32-num_layers_1-sr_type_max-freeze_False\n",
      "---------- batch_size_2048; lr_0.001; optimizer_Adam; hidden_dim_32; num_layers_1; sentence_representation_max ----------\n"
     ]
    },
    {
     "name": "stderr",
     "output_type": "stream",
     "text": [
      "[I 2024-11-04 01:56:55,363] Trial 213 finished with value: 0.7804877758026123 and parameters: {'hidden_dim': 32, 'num_layers': 1, 'optimizer_name': 'Adam', 'batch_size': 2048, 'learning_rate': 0.001, 'sentence_representation_type': 'max'}. Best is trial 50 with value: 0.7804877758026123.\n",
      "Seed set to 42\n"
     ]
    },
    {
     "name": "stdout",
     "output_type": "stream",
     "text": [
      "[Skipping] rnn/test/w2v-3b/batch_size_2048-lr_0.001-optimizer_Adam-hidden_dim_32-num_layers_1-sr_type_max-freeze_False\n",
      "---------- batch_size_2048; lr_0.001; optimizer_Adam; hidden_dim_32; num_layers_1; sentence_representation_max ----------\n"
     ]
    },
    {
     "name": "stderr",
     "output_type": "stream",
     "text": [
      "[I 2024-11-04 01:56:55,954] Trial 214 finished with value: 0.7804877758026123 and parameters: {'hidden_dim': 32, 'num_layers': 1, 'optimizer_name': 'Adam', 'batch_size': 2048, 'learning_rate': 0.001, 'sentence_representation_type': 'max'}. Best is trial 50 with value: 0.7804877758026123.\n",
      "Seed set to 42\n"
     ]
    },
    {
     "name": "stdout",
     "output_type": "stream",
     "text": [
      "[Skipping] rnn/test/w2v-3b/batch_size_2048-lr_0.001-optimizer_Adam-hidden_dim_32-num_layers_1-sr_type_max-freeze_False\n",
      "---------- batch_size_2048; lr_0.01; optimizer_Adam; hidden_dim_32; num_layers_1; sentence_representation_max ----------\n"
     ]
    },
    {
     "name": "stderr",
     "output_type": "stream",
     "text": [
      "[I 2024-11-04 01:56:56,558] Trial 215 finished with value: 0.7682926654815674 and parameters: {'hidden_dim': 32, 'num_layers': 1, 'optimizer_name': 'Adam', 'batch_size': 2048, 'learning_rate': 0.01, 'sentence_representation_type': 'max'}. Best is trial 50 with value: 0.7804877758026123.\n",
      "Seed set to 42\n"
     ]
    },
    {
     "name": "stdout",
     "output_type": "stream",
     "text": [
      "[Skipping] rnn/test/w2v-3b/batch_size_2048-lr_0.01-optimizer_Adam-hidden_dim_32-num_layers_1-sr_type_max-freeze_False\n",
      "---------- batch_size_2048; lr_0.001; optimizer_Adam; hidden_dim_32; num_layers_1; sentence_representation_max ----------\n"
     ]
    },
    {
     "name": "stderr",
     "output_type": "stream",
     "text": [
      "[I 2024-11-04 01:56:57,150] Trial 216 finished with value: 0.7804877758026123 and parameters: {'hidden_dim': 32, 'num_layers': 1, 'optimizer_name': 'Adam', 'batch_size': 2048, 'learning_rate': 0.001, 'sentence_representation_type': 'max'}. Best is trial 50 with value: 0.7804877758026123.\n",
      "Seed set to 42\n"
     ]
    },
    {
     "name": "stdout",
     "output_type": "stream",
     "text": [
      "[Skipping] rnn/test/w2v-3b/batch_size_2048-lr_0.001-optimizer_Adam-hidden_dim_32-num_layers_1-sr_type_max-freeze_False\n",
      "---------- batch_size_64; lr_0.001; optimizer_Adam; hidden_dim_32; num_layers_1; sentence_representation_max ----------\n"
     ]
    },
    {
     "name": "stderr",
     "output_type": "stream",
     "text": [
      "[I 2024-11-04 01:56:57,751] Trial 217 finished with value: 0.4108687937259674 and parameters: {'hidden_dim': 32, 'num_layers': 1, 'optimizer_name': 'Adam', 'batch_size': 64, 'learning_rate': 0.001, 'sentence_representation_type': 'max'}. Best is trial 50 with value: 0.7804877758026123.\n",
      "Seed set to 42\n"
     ]
    },
    {
     "name": "stdout",
     "output_type": "stream",
     "text": [
      "[Skipping] rnn/test/w2v-3b/batch_size_64-lr_0.001-optimizer_Adam-hidden_dim_32-num_layers_1-sr_type_max-freeze_False\n",
      "---------- batch_size_2048; lr_0.001; optimizer_Adam; hidden_dim_32; num_layers_1; sentence_representation_max ----------\n"
     ]
    },
    {
     "name": "stderr",
     "output_type": "stream",
     "text": [
      "[I 2024-11-04 01:56:58,354] Trial 218 finished with value: 0.7804877758026123 and parameters: {'hidden_dim': 32, 'num_layers': 1, 'optimizer_name': 'Adam', 'batch_size': 2048, 'learning_rate': 0.001, 'sentence_representation_type': 'max'}. Best is trial 50 with value: 0.7804877758026123.\n",
      "Seed set to 42\n"
     ]
    },
    {
     "name": "stdout",
     "output_type": "stream",
     "text": [
      "[Skipping] rnn/test/w2v-3b/batch_size_2048-lr_0.001-optimizer_Adam-hidden_dim_32-num_layers_1-sr_type_max-freeze_False\n",
      "---------- batch_size_2048; lr_0.001; optimizer_Adam; hidden_dim_32; num_layers_1; sentence_representation_max ----------\n"
     ]
    },
    {
     "name": "stderr",
     "output_type": "stream",
     "text": [
      "[I 2024-11-04 01:56:58,952] Trial 219 finished with value: 0.7804877758026123 and parameters: {'hidden_dim': 32, 'num_layers': 1, 'optimizer_name': 'Adam', 'batch_size': 2048, 'learning_rate': 0.001, 'sentence_representation_type': 'max'}. Best is trial 50 with value: 0.7804877758026123.\n",
      "Seed set to 42\n"
     ]
    },
    {
     "name": "stdout",
     "output_type": "stream",
     "text": [
      "[Skipping] rnn/test/w2v-3b/batch_size_2048-lr_0.001-optimizer_Adam-hidden_dim_32-num_layers_1-sr_type_max-freeze_False\n",
      "---------- batch_size_32; lr_0.1; optimizer_Adam; hidden_dim_32; num_layers_1; sentence_representation_max ----------\n"
     ]
    },
    {
     "name": "stderr",
     "output_type": "stream",
     "text": [
      "GPU available: True (cuda), used: False\n",
      "TPU available: False, using: 0 TPU cores\n",
      "HPU available: False, using: 0 HPUs\n",
      "\n",
      "  | Name   | Type               | Params | Mode \n",
      "------------------------------------------------------\n",
      "0 | model  | RNN                | 4.9 M  | train\n",
      "1 | metric | MulticlassAccuracy | 0      | train\n",
      "------------------------------------------------------\n",
      "4.9 M     Trainable params\n",
      "0         Non-trainable params\n",
      "4.9 M     Total params\n",
      "19.646    Total estimated model params size (MB)\n",
      "7         Modules in train mode\n",
      "0         Modules in eval mode\n"
     ]
    },
    {
     "data": {
      "application/vnd.jupyter.widget-view+json": {
       "model_id": "748b0c78c4ef4c769ba2bc1ebcdeb394",
       "version_major": 2,
       "version_minor": 0
      },
      "text/plain": [
       "Sanity Checking: |          | 0/? [00:00<?, ?it/s]"
      ]
     },
     "metadata": {},
     "output_type": "display_data"
    },
    {
     "data": {
      "application/vnd.jupyter.widget-view+json": {
       "model_id": "66d5cac7ee864b52b5a5775f63f1588e",
       "version_major": 2,
       "version_minor": 0
      },
      "text/plain": [
       "Training: |          | 0/? [00:00<?, ?it/s]"
      ]
     },
     "metadata": {},
     "output_type": "display_data"
    },
    {
     "data": {
      "application/vnd.jupyter.widget-view+json": {
       "model_id": "7bf58e906fc84beebebb596b98c8918f",
       "version_major": 2,
       "version_minor": 0
      },
      "text/plain": [
       "Validation: |          | 0/? [00:00<?, ?it/s]"
      ]
     },
     "metadata": {},
     "output_type": "display_data"
    },
    {
     "data": {
      "application/vnd.jupyter.widget-view+json": {
       "model_id": "d0021f807cb34b25ada55eb582e4e9cf",
       "version_major": 2,
       "version_minor": 0
      },
      "text/plain": [
       "Validation: |          | 0/? [00:00<?, ?it/s]"
      ]
     },
     "metadata": {},
     "output_type": "display_data"
    },
    {
     "data": {
      "application/vnd.jupyter.widget-view+json": {
       "model_id": "28acb8c6615e46fab4f059ff328bf8f0",
       "version_major": 2,
       "version_minor": 0
      },
      "text/plain": [
       "Validation: |          | 0/? [00:00<?, ?it/s]"
      ]
     },
     "metadata": {},
     "output_type": "display_data"
    },
    {
     "data": {
      "application/vnd.jupyter.widget-view+json": {
       "model_id": "2428f4b23dff486d9b136050e76bd5fb",
       "version_major": 2,
       "version_minor": 0
      },
      "text/plain": [
       "Validation: |          | 0/? [00:00<?, ?it/s]"
      ]
     },
     "metadata": {},
     "output_type": "display_data"
    },
    {
     "data": {
      "application/vnd.jupyter.widget-view+json": {
       "model_id": "ad95c7cc55ab4477b4e0300b9fb42f2c",
       "version_major": 2,
       "version_minor": 0
      },
      "text/plain": [
       "Validation: |          | 0/? [00:00<?, ?it/s]"
      ]
     },
     "metadata": {},
     "output_type": "display_data"
    },
    {
     "data": {
      "application/vnd.jupyter.widget-view+json": {
       "model_id": "56a3296953654ec4a42cc4f21ae3e7e2",
       "version_major": 2,
       "version_minor": 0
      },
      "text/plain": [
       "Validation: |          | 0/? [00:00<?, ?it/s]"
      ]
     },
     "metadata": {},
     "output_type": "display_data"
    },
    {
     "data": {
      "application/vnd.jupyter.widget-view+json": {
       "model_id": "a2dcec03242b477eb94f5509cf989b94",
       "version_major": 2,
       "version_minor": 0
      },
      "text/plain": [
       "Validation: |          | 0/? [00:00<?, ?it/s]"
      ]
     },
     "metadata": {},
     "output_type": "display_data"
    },
    {
     "data": {
      "application/vnd.jupyter.widget-view+json": {
       "model_id": "250432b322704650ace94c5f8668c6b7",
       "version_major": 2,
       "version_minor": 0
      },
      "text/plain": [
       "Validation: |          | 0/? [00:00<?, ?it/s]"
      ]
     },
     "metadata": {},
     "output_type": "display_data"
    },
    {
     "name": "stderr",
     "output_type": "stream",
     "text": [
      "[I 2024-11-04 01:59:03,264] Trial 220 finished with value: 0.504690408706665 and parameters: {'hidden_dim': 32, 'num_layers': 1, 'optimizer_name': 'Adam', 'batch_size': 32, 'learning_rate': 0.1, 'sentence_representation_type': 'max'}. Best is trial 50 with value: 0.7804877758026123.\n",
      "Seed set to 42\n"
     ]
    },
    {
     "name": "stdout",
     "output_type": "stream",
     "text": [
      "---------- batch_size_2048; lr_0.001; optimizer_Adam; hidden_dim_32; num_layers_1; sentence_representation_max ----------\n"
     ]
    },
    {
     "name": "stderr",
     "output_type": "stream",
     "text": [
      "[I 2024-11-04 01:59:03,926] Trial 221 finished with value: 0.7804877758026123 and parameters: {'hidden_dim': 32, 'num_layers': 1, 'optimizer_name': 'Adam', 'batch_size': 2048, 'learning_rate': 0.001, 'sentence_representation_type': 'max'}. Best is trial 50 with value: 0.7804877758026123.\n",
      "Seed set to 42\n"
     ]
    },
    {
     "name": "stdout",
     "output_type": "stream",
     "text": [
      "[Skipping] rnn/test/w2v-3b/batch_size_2048-lr_0.001-optimizer_Adam-hidden_dim_32-num_layers_1-sr_type_max-freeze_False\n",
      "---------- batch_size_2048; lr_0.001; optimizer_Adam; hidden_dim_32; num_layers_1; sentence_representation_max ----------\n"
     ]
    },
    {
     "name": "stderr",
     "output_type": "stream",
     "text": [
      "[I 2024-11-04 01:59:04,518] Trial 222 finished with value: 0.7804877758026123 and parameters: {'hidden_dim': 32, 'num_layers': 1, 'optimizer_name': 'Adam', 'batch_size': 2048, 'learning_rate': 0.001, 'sentence_representation_type': 'max'}. Best is trial 50 with value: 0.7804877758026123.\n",
      "Seed set to 42\n"
     ]
    },
    {
     "name": "stdout",
     "output_type": "stream",
     "text": [
      "[Skipping] rnn/test/w2v-3b/batch_size_2048-lr_0.001-optimizer_Adam-hidden_dim_32-num_layers_1-sr_type_max-freeze_False\n",
      "---------- batch_size_2048; lr_0.001; optimizer_Adam; hidden_dim_32; num_layers_1; sentence_representation_max ----------\n"
     ]
    },
    {
     "name": "stderr",
     "output_type": "stream",
     "text": [
      "[I 2024-11-04 01:59:05,116] Trial 223 finished with value: 0.7804877758026123 and parameters: {'hidden_dim': 32, 'num_layers': 1, 'optimizer_name': 'Adam', 'batch_size': 2048, 'learning_rate': 0.001, 'sentence_representation_type': 'max'}. Best is trial 50 with value: 0.7804877758026123.\n",
      "Seed set to 42\n"
     ]
    },
    {
     "name": "stdout",
     "output_type": "stream",
     "text": [
      "[Skipping] rnn/test/w2v-3b/batch_size_2048-lr_0.001-optimizer_Adam-hidden_dim_32-num_layers_1-sr_type_max-freeze_False\n",
      "---------- batch_size_2048; lr_0.001; optimizer_Adam; hidden_dim_32; num_layers_1; sentence_representation_max ----------\n"
     ]
    },
    {
     "name": "stderr",
     "output_type": "stream",
     "text": [
      "[I 2024-11-04 01:59:05,759] Trial 224 finished with value: 0.7804877758026123 and parameters: {'hidden_dim': 32, 'num_layers': 1, 'optimizer_name': 'Adam', 'batch_size': 2048, 'learning_rate': 0.001, 'sentence_representation_type': 'max'}. Best is trial 50 with value: 0.7804877758026123.\n",
      "Seed set to 42\n"
     ]
    },
    {
     "name": "stdout",
     "output_type": "stream",
     "text": [
      "[Skipping] rnn/test/w2v-3b/batch_size_2048-lr_0.001-optimizer_Adam-hidden_dim_32-num_layers_1-sr_type_max-freeze_False\n",
      "---------- batch_size_2048; lr_0.001; optimizer_Adam; hidden_dim_64; num_layers_1; sentence_representation_max ----------\n"
     ]
    },
    {
     "name": "stderr",
     "output_type": "stream",
     "text": [
      "[I 2024-11-04 01:59:06,350] Trial 225 finished with value: 0.7589118480682373 and parameters: {'hidden_dim': 64, 'num_layers': 1, 'optimizer_name': 'Adam', 'batch_size': 2048, 'learning_rate': 0.001, 'sentence_representation_type': 'max'}. Best is trial 50 with value: 0.7804877758026123.\n",
      "Seed set to 42\n"
     ]
    },
    {
     "name": "stdout",
     "output_type": "stream",
     "text": [
      "[Skipping] rnn/test/w2v-3b/batch_size_2048-lr_0.001-optimizer_Adam-hidden_dim_64-num_layers_1-sr_type_max-freeze_False\n",
      "---------- batch_size_128; lr_0.001; optimizer_Adam; hidden_dim_32; num_layers_1; sentence_representation_max ----------\n"
     ]
    },
    {
     "name": "stderr",
     "output_type": "stream",
     "text": [
      "[I 2024-11-04 01:59:06,943] Trial 226 finished with value: 0.4298436939716339 and parameters: {'hidden_dim': 32, 'num_layers': 1, 'optimizer_name': 'Adam', 'batch_size': 128, 'learning_rate': 0.001, 'sentence_representation_type': 'max'}. Best is trial 50 with value: 0.7804877758026123.\n",
      "Seed set to 42\n"
     ]
    },
    {
     "name": "stdout",
     "output_type": "stream",
     "text": [
      "[Skipping] rnn/test/w2v-3b/batch_size_128-lr_0.001-optimizer_Adam-hidden_dim_32-num_layers_1-sr_type_max-freeze_False\n",
      "---------- batch_size_2048; lr_0.001; optimizer_Adam; hidden_dim_32; num_layers_1; sentence_representation_max ----------\n"
     ]
    },
    {
     "name": "stderr",
     "output_type": "stream",
     "text": [
      "[I 2024-11-04 01:59:07,549] Trial 227 finished with value: 0.7804877758026123 and parameters: {'hidden_dim': 32, 'num_layers': 1, 'optimizer_name': 'Adam', 'batch_size': 2048, 'learning_rate': 0.001, 'sentence_representation_type': 'max'}. Best is trial 50 with value: 0.7804877758026123.\n",
      "Seed set to 42\n"
     ]
    },
    {
     "name": "stdout",
     "output_type": "stream",
     "text": [
      "[Skipping] rnn/test/w2v-3b/batch_size_2048-lr_0.001-optimizer_Adam-hidden_dim_32-num_layers_1-sr_type_max-freeze_False\n",
      "---------- batch_size_2048; lr_0.001; optimizer_Adam; hidden_dim_256; num_layers_1; sentence_representation_max ----------\n"
     ]
    },
    {
     "name": "stderr",
     "output_type": "stream",
     "text": [
      "[I 2024-11-04 01:59:08,130] Trial 228 finished with value: 0.7692307829856873 and parameters: {'hidden_dim': 256, 'num_layers': 1, 'optimizer_name': 'Adam', 'batch_size': 2048, 'learning_rate': 0.001, 'sentence_representation_type': 'max'}. Best is trial 50 with value: 0.7804877758026123.\n",
      "Seed set to 42\n"
     ]
    },
    {
     "name": "stdout",
     "output_type": "stream",
     "text": [
      "[Skipping] rnn/test/w2v-3b/batch_size_2048-lr_0.001-optimizer_Adam-hidden_dim_256-num_layers_1-sr_type_max-freeze_False\n",
      "---------- batch_size_2048; lr_0.001; optimizer_Adam; hidden_dim_32; num_layers_1; sentence_representation_max ----------\n"
     ]
    },
    {
     "name": "stderr",
     "output_type": "stream",
     "text": [
      "[I 2024-11-04 01:59:08,724] Trial 229 finished with value: 0.7804877758026123 and parameters: {'hidden_dim': 32, 'num_layers': 1, 'optimizer_name': 'Adam', 'batch_size': 2048, 'learning_rate': 0.001, 'sentence_representation_type': 'max'}. Best is trial 50 with value: 0.7804877758026123.\n",
      "Seed set to 42\n"
     ]
    },
    {
     "name": "stdout",
     "output_type": "stream",
     "text": [
      "[Skipping] rnn/test/w2v-3b/batch_size_2048-lr_0.001-optimizer_Adam-hidden_dim_32-num_layers_1-sr_type_max-freeze_False\n",
      "---------- batch_size_2048; lr_0.001; optimizer_Adam; hidden_dim_32; num_layers_1; sentence_representation_max ----------\n"
     ]
    },
    {
     "name": "stderr",
     "output_type": "stream",
     "text": [
      "[I 2024-11-04 01:59:09,313] Trial 230 finished with value: 0.7804877758026123 and parameters: {'hidden_dim': 32, 'num_layers': 1, 'optimizer_name': 'Adam', 'batch_size': 2048, 'learning_rate': 0.001, 'sentence_representation_type': 'max'}. Best is trial 50 with value: 0.7804877758026123.\n",
      "Seed set to 42\n"
     ]
    },
    {
     "name": "stdout",
     "output_type": "stream",
     "text": [
      "[Skipping] rnn/test/w2v-3b/batch_size_2048-lr_0.001-optimizer_Adam-hidden_dim_32-num_layers_1-sr_type_max-freeze_False\n",
      "---------- batch_size_2048; lr_0.001; optimizer_Adam; hidden_dim_32; num_layers_1; sentence_representation_max ----------\n"
     ]
    },
    {
     "name": "stderr",
     "output_type": "stream",
     "text": [
      "[I 2024-11-04 01:59:09,959] Trial 231 finished with value: 0.7804877758026123 and parameters: {'hidden_dim': 32, 'num_layers': 1, 'optimizer_name': 'Adam', 'batch_size': 2048, 'learning_rate': 0.001, 'sentence_representation_type': 'max'}. Best is trial 50 with value: 0.7804877758026123.\n",
      "Seed set to 42\n"
     ]
    },
    {
     "name": "stdout",
     "output_type": "stream",
     "text": [
      "[Skipping] rnn/test/w2v-3b/batch_size_2048-lr_0.001-optimizer_Adam-hidden_dim_32-num_layers_1-sr_type_max-freeze_False\n",
      "---------- batch_size_2048; lr_0.001; optimizer_Adam; hidden_dim_32; num_layers_1; sentence_representation_max ----------\n"
     ]
    },
    {
     "name": "stderr",
     "output_type": "stream",
     "text": [
      "[I 2024-11-04 01:59:10,559] Trial 232 finished with value: 0.7804877758026123 and parameters: {'hidden_dim': 32, 'num_layers': 1, 'optimizer_name': 'Adam', 'batch_size': 2048, 'learning_rate': 0.001, 'sentence_representation_type': 'max'}. Best is trial 50 with value: 0.7804877758026123.\n",
      "Seed set to 42\n"
     ]
    },
    {
     "name": "stdout",
     "output_type": "stream",
     "text": [
      "[Skipping] rnn/test/w2v-3b/batch_size_2048-lr_0.001-optimizer_Adam-hidden_dim_32-num_layers_1-sr_type_max-freeze_False\n",
      "---------- batch_size_2048; lr_0.001; optimizer_Adam; hidden_dim_32; num_layers_1; sentence_representation_max ----------\n"
     ]
    },
    {
     "name": "stderr",
     "output_type": "stream",
     "text": [
      "[I 2024-11-04 01:59:11,145] Trial 233 finished with value: 0.7804877758026123 and parameters: {'hidden_dim': 32, 'num_layers': 1, 'optimizer_name': 'Adam', 'batch_size': 2048, 'learning_rate': 0.001, 'sentence_representation_type': 'max'}. Best is trial 50 with value: 0.7804877758026123.\n",
      "Seed set to 42\n"
     ]
    },
    {
     "name": "stdout",
     "output_type": "stream",
     "text": [
      "[Skipping] rnn/test/w2v-3b/batch_size_2048-lr_0.001-optimizer_Adam-hidden_dim_32-num_layers_1-sr_type_max-freeze_False\n",
      "---------- batch_size_2048; lr_0.001; optimizer_Adam; hidden_dim_32; num_layers_1; sentence_representation_max ----------\n"
     ]
    },
    {
     "name": "stderr",
     "output_type": "stream",
     "text": [
      "[I 2024-11-04 01:59:11,794] Trial 234 finished with value: 0.7804877758026123 and parameters: {'hidden_dim': 32, 'num_layers': 1, 'optimizer_name': 'Adam', 'batch_size': 2048, 'learning_rate': 0.001, 'sentence_representation_type': 'max'}. Best is trial 50 with value: 0.7804877758026123.\n",
      "Seed set to 42\n"
     ]
    },
    {
     "name": "stdout",
     "output_type": "stream",
     "text": [
      "[Skipping] rnn/test/w2v-3b/batch_size_2048-lr_0.001-optimizer_Adam-hidden_dim_32-num_layers_1-sr_type_max-freeze_False\n",
      "---------- batch_size_2048; lr_0.001; optimizer_Adam; hidden_dim_32; num_layers_1; sentence_representation_last ----------\n"
     ]
    },
    {
     "name": "stderr",
     "output_type": "stream",
     "text": [
      "[I 2024-11-04 01:59:12,384] Trial 235 finished with value: 0.7467166781425476 and parameters: {'hidden_dim': 32, 'num_layers': 1, 'optimizer_name': 'Adam', 'batch_size': 2048, 'learning_rate': 0.001, 'sentence_representation_type': 'last'}. Best is trial 50 with value: 0.7804877758026123.\n",
      "Seed set to 42\n"
     ]
    },
    {
     "name": "stdout",
     "output_type": "stream",
     "text": [
      "[Skipping] rnn/test/w2v-3b/batch_size_2048-lr_0.001-optimizer_Adam-hidden_dim_32-num_layers_1-sr_type_last-freeze_False\n",
      "---------- batch_size_2048; lr_0.001; optimizer_Adam; hidden_dim_32; num_layers_1; sentence_representation_max ----------\n"
     ]
    },
    {
     "name": "stderr",
     "output_type": "stream",
     "text": [
      "[I 2024-11-04 01:59:12,974] Trial 236 finished with value: 0.7804877758026123 and parameters: {'hidden_dim': 32, 'num_layers': 1, 'optimizer_name': 'Adam', 'batch_size': 2048, 'learning_rate': 0.001, 'sentence_representation_type': 'max'}. Best is trial 50 with value: 0.7804877758026123.\n",
      "Seed set to 42\n"
     ]
    },
    {
     "name": "stdout",
     "output_type": "stream",
     "text": [
      "[Skipping] rnn/test/w2v-3b/batch_size_2048-lr_0.001-optimizer_Adam-hidden_dim_32-num_layers_1-sr_type_max-freeze_False\n",
      "---------- batch_size_256; lr_0.001; optimizer_Adam; hidden_dim_32; num_layers_1; sentence_representation_average ----------\n"
     ]
    },
    {
     "name": "stderr",
     "output_type": "stream",
     "text": [
      "GPU available: True (cuda), used: False\n",
      "TPU available: False, using: 0 TPU cores\n",
      "HPU available: False, using: 0 HPUs\n",
      "\n",
      "  | Name   | Type               | Params | Mode \n",
      "------------------------------------------------------\n",
      "0 | model  | RNN                | 4.9 M  | train\n",
      "1 | metric | MulticlassAccuracy | 0      | train\n",
      "------------------------------------------------------\n",
      "4.9 M     Trainable params\n",
      "0         Non-trainable params\n",
      "4.9 M     Total params\n",
      "19.646    Total estimated model params size (MB)\n",
      "7         Modules in train mode\n",
      "0         Modules in eval mode\n"
     ]
    },
    {
     "data": {
      "application/vnd.jupyter.widget-view+json": {
       "model_id": "0fa4e38cab704bc5bc415b94248d8836",
       "version_major": 2,
       "version_minor": 0
      },
      "text/plain": [
       "Sanity Checking: |          | 0/? [00:00<?, ?it/s]"
      ]
     },
     "metadata": {},
     "output_type": "display_data"
    },
    {
     "data": {
      "application/vnd.jupyter.widget-view+json": {
       "model_id": "081e2c0fa6a3480382b4056fc15f6906",
       "version_major": 2,
       "version_minor": 0
      },
      "text/plain": [
       "Training: |          | 0/? [00:00<?, ?it/s]"
      ]
     },
     "metadata": {},
     "output_type": "display_data"
    },
    {
     "data": {
      "application/vnd.jupyter.widget-view+json": {
       "model_id": "f179b4f2648f4dea9b52b6f440b3ad0e",
       "version_major": 2,
       "version_minor": 0
      },
      "text/plain": [
       "Validation: |          | 0/? [00:00<?, ?it/s]"
      ]
     },
     "metadata": {},
     "output_type": "display_data"
    },
    {
     "data": {
      "application/vnd.jupyter.widget-view+json": {
       "model_id": "89325e7b8fbe4c0db2ec0ed5239b1189",
       "version_major": 2,
       "version_minor": 0
      },
      "text/plain": [
       "Validation: |          | 0/? [00:00<?, ?it/s]"
      ]
     },
     "metadata": {},
     "output_type": "display_data"
    },
    {
     "data": {
      "application/vnd.jupyter.widget-view+json": {
       "model_id": "60eb1016d85142158b6338cd08b582af",
       "version_major": 2,
       "version_minor": 0
      },
      "text/plain": [
       "Validation: |          | 0/? [00:00<?, ?it/s]"
      ]
     },
     "metadata": {},
     "output_type": "display_data"
    },
    {
     "data": {
      "application/vnd.jupyter.widget-view+json": {
       "model_id": "79d45df4d1a344ad92b7ad8c0007ff40",
       "version_major": 2,
       "version_minor": 0
      },
      "text/plain": [
       "Validation: |          | 0/? [00:00<?, ?it/s]"
      ]
     },
     "metadata": {},
     "output_type": "display_data"
    },
    {
     "data": {
      "application/vnd.jupyter.widget-view+json": {
       "model_id": "671aaaff6301408e8ced6349a8f88f7a",
       "version_major": 2,
       "version_minor": 0
      },
      "text/plain": [
       "Validation: |          | 0/? [00:00<?, ?it/s]"
      ]
     },
     "metadata": {},
     "output_type": "display_data"
    },
    {
     "data": {
      "application/vnd.jupyter.widget-view+json": {
       "model_id": "5a1f4fcc223d4d84860bf7df702ef2ea",
       "version_major": 2,
       "version_minor": 0
      },
      "text/plain": [
       "Validation: |          | 0/? [00:00<?, ?it/s]"
      ]
     },
     "metadata": {},
     "output_type": "display_data"
    },
    {
     "name": "stderr",
     "output_type": "stream",
     "text": [
      "[I 2024-11-04 02:00:00,971] Trial 237 finished with value: 0.46723172068595886 and parameters: {'hidden_dim': 32, 'num_layers': 1, 'optimizer_name': 'Adam', 'batch_size': 256, 'learning_rate': 0.001, 'sentence_representation_type': 'average'}. Best is trial 50 with value: 0.7804877758026123.\n",
      "Seed set to 42\n"
     ]
    },
    {
     "name": "stdout",
     "output_type": "stream",
     "text": [
      "---------- batch_size_2048; lr_0.001; optimizer_Adam; hidden_dim_32; num_layers_1; sentence_representation_max ----------\n"
     ]
    },
    {
     "name": "stderr",
     "output_type": "stream",
     "text": [
      "[I 2024-11-04 02:00:01,565] Trial 238 finished with value: 0.7804877758026123 and parameters: {'hidden_dim': 32, 'num_layers': 1, 'optimizer_name': 'Adam', 'batch_size': 2048, 'learning_rate': 0.001, 'sentence_representation_type': 'max'}. Best is trial 50 with value: 0.7804877758026123.\n",
      "Seed set to 42\n"
     ]
    },
    {
     "name": "stdout",
     "output_type": "stream",
     "text": [
      "[Skipping] rnn/test/w2v-3b/batch_size_2048-lr_0.001-optimizer_Adam-hidden_dim_32-num_layers_1-sr_type_max-freeze_False\n",
      "---------- batch_size_2048; lr_0.001; optimizer_Adam; hidden_dim_32; num_layers_1; sentence_representation_max ----------\n"
     ]
    },
    {
     "name": "stderr",
     "output_type": "stream",
     "text": [
      "[I 2024-11-04 02:00:02,142] Trial 239 finished with value: 0.7804877758026123 and parameters: {'hidden_dim': 32, 'num_layers': 1, 'optimizer_name': 'Adam', 'batch_size': 2048, 'learning_rate': 0.001, 'sentence_representation_type': 'max'}. Best is trial 50 with value: 0.7804877758026123.\n",
      "Seed set to 42\n"
     ]
    },
    {
     "name": "stdout",
     "output_type": "stream",
     "text": [
      "[Skipping] rnn/test/w2v-3b/batch_size_2048-lr_0.001-optimizer_Adam-hidden_dim_32-num_layers_1-sr_type_max-freeze_False\n",
      "---------- batch_size_2048; lr_0.001; optimizer_Adam; hidden_dim_32; num_layers_1; sentence_representation_max ----------\n"
     ]
    },
    {
     "name": "stderr",
     "output_type": "stream",
     "text": [
      "[I 2024-11-04 02:00:02,728] Trial 240 finished with value: 0.7804877758026123 and parameters: {'hidden_dim': 32, 'num_layers': 1, 'optimizer_name': 'Adam', 'batch_size': 2048, 'learning_rate': 0.001, 'sentence_representation_type': 'max'}. Best is trial 50 with value: 0.7804877758026123.\n",
      "Seed set to 42\n"
     ]
    },
    {
     "name": "stdout",
     "output_type": "stream",
     "text": [
      "[Skipping] rnn/test/w2v-3b/batch_size_2048-lr_0.001-optimizer_Adam-hidden_dim_32-num_layers_1-sr_type_max-freeze_False\n",
      "---------- batch_size_2048; lr_0.001; optimizer_Adam; hidden_dim_32; num_layers_1; sentence_representation_max ----------\n"
     ]
    },
    {
     "name": "stderr",
     "output_type": "stream",
     "text": [
      "[I 2024-11-04 02:00:03,313] Trial 241 finished with value: 0.7804877758026123 and parameters: {'hidden_dim': 32, 'num_layers': 1, 'optimizer_name': 'Adam', 'batch_size': 2048, 'learning_rate': 0.001, 'sentence_representation_type': 'max'}. Best is trial 50 with value: 0.7804877758026123.\n",
      "Seed set to 42\n"
     ]
    },
    {
     "name": "stdout",
     "output_type": "stream",
     "text": [
      "[Skipping] rnn/test/w2v-3b/batch_size_2048-lr_0.001-optimizer_Adam-hidden_dim_32-num_layers_1-sr_type_max-freeze_False\n",
      "---------- batch_size_2048; lr_0.001; optimizer_Adam; hidden_dim_32; num_layers_1; sentence_representation_max ----------\n"
     ]
    },
    {
     "name": "stderr",
     "output_type": "stream",
     "text": [
      "[I 2024-11-04 02:00:03,906] Trial 242 finished with value: 0.7804877758026123 and parameters: {'hidden_dim': 32, 'num_layers': 1, 'optimizer_name': 'Adam', 'batch_size': 2048, 'learning_rate': 0.001, 'sentence_representation_type': 'max'}. Best is trial 50 with value: 0.7804877758026123.\n",
      "Seed set to 42\n"
     ]
    },
    {
     "name": "stdout",
     "output_type": "stream",
     "text": [
      "[Skipping] rnn/test/w2v-3b/batch_size_2048-lr_0.001-optimizer_Adam-hidden_dim_32-num_layers_1-sr_type_max-freeze_False\n",
      "---------- batch_size_2048; lr_0.001; optimizer_Adam; hidden_dim_32; num_layers_1; sentence_representation_max ----------\n"
     ]
    },
    {
     "name": "stderr",
     "output_type": "stream",
     "text": [
      "[I 2024-11-04 02:00:04,541] Trial 243 finished with value: 0.7804877758026123 and parameters: {'hidden_dim': 32, 'num_layers': 1, 'optimizer_name': 'Adam', 'batch_size': 2048, 'learning_rate': 0.001, 'sentence_representation_type': 'max'}. Best is trial 50 with value: 0.7804877758026123.\n",
      "Seed set to 42\n"
     ]
    },
    {
     "name": "stdout",
     "output_type": "stream",
     "text": [
      "[Skipping] rnn/test/w2v-3b/batch_size_2048-lr_0.001-optimizer_Adam-hidden_dim_32-num_layers_1-sr_type_max-freeze_False\n",
      "---------- batch_size_2048; lr_0.001; optimizer_Adam; hidden_dim_32; num_layers_1; sentence_representation_max ----------\n"
     ]
    },
    {
     "name": "stderr",
     "output_type": "stream",
     "text": [
      "[I 2024-11-04 02:00:05,134] Trial 244 finished with value: 0.7804877758026123 and parameters: {'hidden_dim': 32, 'num_layers': 1, 'optimizer_name': 'Adam', 'batch_size': 2048, 'learning_rate': 0.001, 'sentence_representation_type': 'max'}. Best is trial 50 with value: 0.7804877758026123.\n",
      "Seed set to 42\n"
     ]
    },
    {
     "name": "stdout",
     "output_type": "stream",
     "text": [
      "[Skipping] rnn/test/w2v-3b/batch_size_2048-lr_0.001-optimizer_Adam-hidden_dim_32-num_layers_1-sr_type_max-freeze_False\n",
      "---------- batch_size_2048; lr_0.001; optimizer_Adam; hidden_dim_32; num_layers_1; sentence_representation_max ----------\n"
     ]
    },
    {
     "name": "stderr",
     "output_type": "stream",
     "text": [
      "[I 2024-11-04 02:00:05,737] Trial 245 finished with value: 0.7804877758026123 and parameters: {'hidden_dim': 32, 'num_layers': 1, 'optimizer_name': 'Adam', 'batch_size': 2048, 'learning_rate': 0.001, 'sentence_representation_type': 'max'}. Best is trial 50 with value: 0.7804877758026123.\n",
      "Seed set to 42\n"
     ]
    },
    {
     "name": "stdout",
     "output_type": "stream",
     "text": [
      "[Skipping] rnn/test/w2v-3b/batch_size_2048-lr_0.001-optimizer_Adam-hidden_dim_32-num_layers_1-sr_type_max-freeze_False\n",
      "---------- batch_size_512; lr_0.001; optimizer_Adam; hidden_dim_32; num_layers_1; sentence_representation_max ----------\n"
     ]
    },
    {
     "name": "stderr",
     "output_type": "stream",
     "text": [
      "[I 2024-11-04 02:00:06,325] Trial 246 finished with value: 0.5451443195343018 and parameters: {'hidden_dim': 32, 'num_layers': 1, 'optimizer_name': 'Adam', 'batch_size': 512, 'learning_rate': 0.001, 'sentence_representation_type': 'max'}. Best is trial 50 with value: 0.7804877758026123.\n",
      "Seed set to 42\n"
     ]
    },
    {
     "name": "stdout",
     "output_type": "stream",
     "text": [
      "[Skipping] rnn/test/w2v-3b/batch_size_512-lr_0.001-optimizer_Adam-hidden_dim_32-num_layers_1-sr_type_max-freeze_False\n",
      "---------- batch_size_2048; lr_0.001; optimizer_Adam; hidden_dim_32; num_layers_1; sentence_representation_max ----------\n"
     ]
    },
    {
     "name": "stderr",
     "output_type": "stream",
     "text": [
      "[I 2024-11-04 02:00:06,926] Trial 247 finished with value: 0.7804877758026123 and parameters: {'hidden_dim': 32, 'num_layers': 1, 'optimizer_name': 'Adam', 'batch_size': 2048, 'learning_rate': 0.001, 'sentence_representation_type': 'max'}. Best is trial 50 with value: 0.7804877758026123.\n",
      "Seed set to 42\n"
     ]
    },
    {
     "name": "stdout",
     "output_type": "stream",
     "text": [
      "[Skipping] rnn/test/w2v-3b/batch_size_2048-lr_0.001-optimizer_Adam-hidden_dim_32-num_layers_1-sr_type_max-freeze_False\n",
      "---------- batch_size_2048; lr_0.001; optimizer_Adam; hidden_dim_32; num_layers_1; sentence_representation_max ----------\n"
     ]
    },
    {
     "name": "stderr",
     "output_type": "stream",
     "text": [
      "[I 2024-11-04 02:00:07,520] Trial 248 finished with value: 0.7804877758026123 and parameters: {'hidden_dim': 32, 'num_layers': 1, 'optimizer_name': 'Adam', 'batch_size': 2048, 'learning_rate': 0.001, 'sentence_representation_type': 'max'}. Best is trial 50 with value: 0.7804877758026123.\n",
      "Seed set to 42\n"
     ]
    },
    {
     "name": "stdout",
     "output_type": "stream",
     "text": [
      "[Skipping] rnn/test/w2v-3b/batch_size_2048-lr_0.001-optimizer_Adam-hidden_dim_32-num_layers_1-sr_type_max-freeze_False\n",
      "---------- batch_size_2048; lr_0.0001; optimizer_Adam; hidden_dim_32; num_layers_2; sentence_representation_max ----------\n"
     ]
    },
    {
     "name": "stderr",
     "output_type": "stream",
     "text": [
      "GPU available: True (cuda), used: False\n",
      "TPU available: False, using: 0 TPU cores\n",
      "HPU available: False, using: 0 HPUs\n",
      "\n",
      "  | Name   | Type               | Params | Mode \n",
      "------------------------------------------------------\n",
      "0 | model  | RNN                | 4.9 M  | train\n",
      "1 | metric | MulticlassAccuracy | 0      | train\n",
      "------------------------------------------------------\n",
      "4.9 M     Trainable params\n",
      "0         Non-trainable params\n",
      "4.9 M     Total params\n",
      "19.654    Total estimated model params size (MB)\n",
      "7         Modules in train mode\n",
      "0         Modules in eval mode\n"
     ]
    },
    {
     "data": {
      "application/vnd.jupyter.widget-view+json": {
       "model_id": "1d0b32c89dc94e70a27d6edea876ab31",
       "version_major": 2,
       "version_minor": 0
      },
      "text/plain": [
       "Sanity Checking: |          | 0/? [00:00<?, ?it/s]"
      ]
     },
     "metadata": {},
     "output_type": "display_data"
    },
    {
     "data": {
      "application/vnd.jupyter.widget-view+json": {
       "model_id": "972550bbbd1d41c291a7f127da512306",
       "version_major": 2,
       "version_minor": 0
      },
      "text/plain": [
       "Training: |          | 0/? [00:00<?, ?it/s]"
      ]
     },
     "metadata": {},
     "output_type": "display_data"
    },
    {
     "data": {
      "application/vnd.jupyter.widget-view+json": {
       "model_id": "cf0874fdf544436f853519199ca5ac50",
       "version_major": 2,
       "version_minor": 0
      },
      "text/plain": [
       "Validation: |          | 0/? [00:00<?, ?it/s]"
      ]
     },
     "metadata": {},
     "output_type": "display_data"
    },
    {
     "data": {
      "application/vnd.jupyter.widget-view+json": {
       "model_id": "e7dabb9df84549229844a4d9481a95d6",
       "version_major": 2,
       "version_minor": 0
      },
      "text/plain": [
       "Validation: |          | 0/? [00:00<?, ?it/s]"
      ]
     },
     "metadata": {},
     "output_type": "display_data"
    },
    {
     "data": {
      "application/vnd.jupyter.widget-view+json": {
       "model_id": "03e50558cc834027b707e57d7b6d5b6e",
       "version_major": 2,
       "version_minor": 0
      },
      "text/plain": [
       "Validation: |          | 0/? [00:00<?, ?it/s]"
      ]
     },
     "metadata": {},
     "output_type": "display_data"
    },
    {
     "data": {
      "application/vnd.jupyter.widget-view+json": {
       "model_id": "86c4069e19f840ecbe7ec9e10352d15d",
       "version_major": 2,
       "version_minor": 0
      },
      "text/plain": [
       "Validation: |          | 0/? [00:00<?, ?it/s]"
      ]
     },
     "metadata": {},
     "output_type": "display_data"
    },
    {
     "data": {
      "application/vnd.jupyter.widget-view+json": {
       "model_id": "3dd22c7e769d45a9890f76cdef62d2bd",
       "version_major": 2,
       "version_minor": 0
      },
      "text/plain": [
       "Validation: |          | 0/? [00:00<?, ?it/s]"
      ]
     },
     "metadata": {},
     "output_type": "display_data"
    },
    {
     "data": {
      "application/vnd.jupyter.widget-view+json": {
       "model_id": "27c45c1345cc4d22a1e9a18e46a43622",
       "version_major": 2,
       "version_minor": 0
      },
      "text/plain": [
       "Validation: |          | 0/? [00:00<?, ?it/s]"
      ]
     },
     "metadata": {},
     "output_type": "display_data"
    },
    {
     "data": {
      "application/vnd.jupyter.widget-view+json": {
       "model_id": "c47740e0e40b40ddb726eb3a4df4372f",
       "version_major": 2,
       "version_minor": 0
      },
      "text/plain": [
       "Validation: |          | 0/? [00:00<?, ?it/s]"
      ]
     },
     "metadata": {},
     "output_type": "display_data"
    },
    {
     "data": {
      "application/vnd.jupyter.widget-view+json": {
       "model_id": "f29ee3c0c565405dbb62b9fbd6a6520c",
       "version_major": 2,
       "version_minor": 0
      },
      "text/plain": [
       "Validation: |          | 0/? [00:00<?, ?it/s]"
      ]
     },
     "metadata": {},
     "output_type": "display_data"
    },
    {
     "data": {
      "application/vnd.jupyter.widget-view+json": {
       "model_id": "b351bd094c1f4e69b5a14f688813e9f7",
       "version_major": 2,
       "version_minor": 0
      },
      "text/plain": [
       "Validation: |          | 0/? [00:00<?, ?it/s]"
      ]
     },
     "metadata": {},
     "output_type": "display_data"
    },
    {
     "data": {
      "application/vnd.jupyter.widget-view+json": {
       "model_id": "8e4c56a236de467fbd84f717076e5a81",
       "version_major": 2,
       "version_minor": 0
      },
      "text/plain": [
       "Validation: |          | 0/? [00:00<?, ?it/s]"
      ]
     },
     "metadata": {},
     "output_type": "display_data"
    },
    {
     "data": {
      "application/vnd.jupyter.widget-view+json": {
       "model_id": "68b02cfed05042c08b1d0435eb32800f",
       "version_major": 2,
       "version_minor": 0
      },
      "text/plain": [
       "Validation: |          | 0/? [00:00<?, ?it/s]"
      ]
     },
     "metadata": {},
     "output_type": "display_data"
    },
    {
     "data": {
      "application/vnd.jupyter.widget-view+json": {
       "model_id": "5daa98efea6c4a75b6b4fb4e489eda3a",
       "version_major": 2,
       "version_minor": 0
      },
      "text/plain": [
       "Validation: |          | 0/? [00:00<?, ?it/s]"
      ]
     },
     "metadata": {},
     "output_type": "display_data"
    },
    {
     "data": {
      "application/vnd.jupyter.widget-view+json": {
       "model_id": "ede25569ae81403e82e1078a7075eb5e",
       "version_major": 2,
       "version_minor": 0
      },
      "text/plain": [
       "Validation: |          | 0/? [00:00<?, ?it/s]"
      ]
     },
     "metadata": {},
     "output_type": "display_data"
    },
    {
     "data": {
      "application/vnd.jupyter.widget-view+json": {
       "model_id": "2c8c4dede3db42eca048af953212615c",
       "version_major": 2,
       "version_minor": 0
      },
      "text/plain": [
       "Validation: |          | 0/? [00:00<?, ?it/s]"
      ]
     },
     "metadata": {},
     "output_type": "display_data"
    },
    {
     "data": {
      "application/vnd.jupyter.widget-view+json": {
       "model_id": "0374ec4165a94a3d91dcc6803941df16",
       "version_major": 2,
       "version_minor": 0
      },
      "text/plain": [
       "Validation: |          | 0/? [00:00<?, ?it/s]"
      ]
     },
     "metadata": {},
     "output_type": "display_data"
    },
    {
     "data": {
      "application/vnd.jupyter.widget-view+json": {
       "model_id": "4c4f90472b684bb4b9e8dd90236646c3",
       "version_major": 2,
       "version_minor": 0
      },
      "text/plain": [
       "Validation: |          | 0/? [00:00<?, ?it/s]"
      ]
     },
     "metadata": {},
     "output_type": "display_data"
    },
    {
     "name": "stderr",
     "output_type": "stream",
     "text": [
      "[I 2024-11-04 02:01:15,108] Trial 249 finished with value: 0.5 and parameters: {'hidden_dim': 32, 'num_layers': 2, 'optimizer_name': 'Adam', 'batch_size': 2048, 'learning_rate': 0.0001, 'sentence_representation_type': 'max'}. Best is trial 50 with value: 0.7804877758026123.\n",
      "Seed set to 42\n"
     ]
    },
    {
     "name": "stdout",
     "output_type": "stream",
     "text": [
      "---------- batch_size_2048; lr_0.001; optimizer_Adam; hidden_dim_32; num_layers_1; sentence_representation_max ----------\n"
     ]
    },
    {
     "name": "stderr",
     "output_type": "stream",
     "text": [
      "[I 2024-11-04 02:01:15,761] Trial 250 finished with value: 0.7804877758026123 and parameters: {'hidden_dim': 32, 'num_layers': 1, 'optimizer_name': 'Adam', 'batch_size': 2048, 'learning_rate': 0.001, 'sentence_representation_type': 'max'}. Best is trial 50 with value: 0.7804877758026123.\n",
      "Seed set to 42\n"
     ]
    },
    {
     "name": "stdout",
     "output_type": "stream",
     "text": [
      "[Skipping] rnn/test/w2v-3b/batch_size_2048-lr_0.001-optimizer_Adam-hidden_dim_32-num_layers_1-sr_type_max-freeze_False\n",
      "---------- batch_size_1024; lr_0.001; optimizer_Adam; hidden_dim_128; num_layers_1; sentence_representation_max ----------\n"
     ]
    },
    {
     "name": "stderr",
     "output_type": "stream",
     "text": [
      "[I 2024-11-04 02:01:16,359] Trial 251 finished with value: 0.7565755248069763 and parameters: {'hidden_dim': 128, 'num_layers': 1, 'optimizer_name': 'Adam', 'batch_size': 1024, 'learning_rate': 0.001, 'sentence_representation_type': 'max'}. Best is trial 50 with value: 0.7804877758026123.\n",
      "Seed set to 42\n"
     ]
    },
    {
     "name": "stdout",
     "output_type": "stream",
     "text": [
      "[Skipping] rnn/test/w2v-3b/batch_size_1024-lr_0.001-optimizer_Adam-hidden_dim_128-num_layers_1-sr_type_max-freeze_False\n",
      "---------- batch_size_2048; lr_0.001; optimizer_Adam; hidden_dim_32; num_layers_1; sentence_representation_max ----------\n"
     ]
    },
    {
     "name": "stderr",
     "output_type": "stream",
     "text": [
      "[I 2024-11-04 02:01:16,997] Trial 252 finished with value: 0.7804877758026123 and parameters: {'hidden_dim': 32, 'num_layers': 1, 'optimizer_name': 'Adam', 'batch_size': 2048, 'learning_rate': 0.001, 'sentence_representation_type': 'max'}. Best is trial 50 with value: 0.7804877758026123.\n",
      "Seed set to 42\n"
     ]
    },
    {
     "name": "stdout",
     "output_type": "stream",
     "text": [
      "[Skipping] rnn/test/w2v-3b/batch_size_2048-lr_0.001-optimizer_Adam-hidden_dim_32-num_layers_1-sr_type_max-freeze_False\n",
      "---------- batch_size_2048; lr_0.001; optimizer_Adam; hidden_dim_32; num_layers_1; sentence_representation_max ----------\n"
     ]
    },
    {
     "name": "stderr",
     "output_type": "stream",
     "text": [
      "[I 2024-11-04 02:01:17,609] Trial 253 finished with value: 0.7804877758026123 and parameters: {'hidden_dim': 32, 'num_layers': 1, 'optimizer_name': 'Adam', 'batch_size': 2048, 'learning_rate': 0.001, 'sentence_representation_type': 'max'}. Best is trial 50 with value: 0.7804877758026123.\n",
      "Seed set to 42\n"
     ]
    },
    {
     "name": "stdout",
     "output_type": "stream",
     "text": [
      "[Skipping] rnn/test/w2v-3b/batch_size_2048-lr_0.001-optimizer_Adam-hidden_dim_32-num_layers_1-sr_type_max-freeze_False\n",
      "---------- batch_size_2048; lr_0.01; optimizer_Adam; hidden_dim_32; num_layers_1; sentence_representation_max ----------\n"
     ]
    },
    {
     "name": "stderr",
     "output_type": "stream",
     "text": [
      "[I 2024-11-04 02:01:18,218] Trial 254 finished with value: 0.7682926654815674 and parameters: {'hidden_dim': 32, 'num_layers': 1, 'optimizer_name': 'Adam', 'batch_size': 2048, 'learning_rate': 0.01, 'sentence_representation_type': 'max'}. Best is trial 50 with value: 0.7804877758026123.\n",
      "Seed set to 42\n"
     ]
    },
    {
     "name": "stdout",
     "output_type": "stream",
     "text": [
      "[Skipping] rnn/test/w2v-3b/batch_size_2048-lr_0.01-optimizer_Adam-hidden_dim_32-num_layers_1-sr_type_max-freeze_False\n",
      "---------- batch_size_2048; lr_0.001; optimizer_Adam; hidden_dim_32; num_layers_1; sentence_representation_max ----------\n"
     ]
    },
    {
     "name": "stderr",
     "output_type": "stream",
     "text": [
      "[I 2024-11-04 02:01:18,843] Trial 255 finished with value: 0.7804877758026123 and parameters: {'hidden_dim': 32, 'num_layers': 1, 'optimizer_name': 'Adam', 'batch_size': 2048, 'learning_rate': 0.001, 'sentence_representation_type': 'max'}. Best is trial 50 with value: 0.7804877758026123.\n",
      "Seed set to 42\n"
     ]
    },
    {
     "name": "stdout",
     "output_type": "stream",
     "text": [
      "[Skipping] rnn/test/w2v-3b/batch_size_2048-lr_0.001-optimizer_Adam-hidden_dim_32-num_layers_1-sr_type_max-freeze_False\n",
      "---------- batch_size_64; lr_0.001; optimizer_Adam; hidden_dim_32; num_layers_1; sentence_representation_max ----------\n"
     ]
    },
    {
     "name": "stderr",
     "output_type": "stream",
     "text": [
      "[I 2024-11-04 02:01:19,480] Trial 256 finished with value: 0.4108687937259674 and parameters: {'hidden_dim': 32, 'num_layers': 1, 'optimizer_name': 'Adam', 'batch_size': 64, 'learning_rate': 0.001, 'sentence_representation_type': 'max'}. Best is trial 50 with value: 0.7804877758026123.\n",
      "Seed set to 42\n"
     ]
    },
    {
     "name": "stdout",
     "output_type": "stream",
     "text": [
      "[Skipping] rnn/test/w2v-3b/batch_size_64-lr_0.001-optimizer_Adam-hidden_dim_32-num_layers_1-sr_type_max-freeze_False\n",
      "---------- batch_size_2048; lr_0.001; optimizer_Adam; hidden_dim_64; num_layers_1; sentence_representation_max ----------\n"
     ]
    },
    {
     "name": "stderr",
     "output_type": "stream",
     "text": [
      "[I 2024-11-04 02:01:20,126] Trial 257 finished with value: 0.7589118480682373 and parameters: {'hidden_dim': 64, 'num_layers': 1, 'optimizer_name': 'Adam', 'batch_size': 2048, 'learning_rate': 0.001, 'sentence_representation_type': 'max'}. Best is trial 50 with value: 0.7804877758026123.\n",
      "Seed set to 42\n"
     ]
    },
    {
     "name": "stdout",
     "output_type": "stream",
     "text": [
      "[Skipping] rnn/test/w2v-3b/batch_size_2048-lr_0.001-optimizer_Adam-hidden_dim_64-num_layers_1-sr_type_max-freeze_False\n",
      "---------- batch_size_2048; lr_0.1; optimizer_Adam; hidden_dim_32; num_layers_1; sentence_representation_max ----------\n"
     ]
    },
    {
     "name": "stderr",
     "output_type": "stream",
     "text": [
      "[I 2024-11-04 02:01:20,747] Trial 258 finished with value: 0.5 and parameters: {'hidden_dim': 32, 'num_layers': 1, 'optimizer_name': 'Adam', 'batch_size': 2048, 'learning_rate': 0.1, 'sentence_representation_type': 'max'}. Best is trial 50 with value: 0.7804877758026123.\n",
      "Seed set to 42\n"
     ]
    },
    {
     "name": "stdout",
     "output_type": "stream",
     "text": [
      "[Skipping] rnn/test/w2v-3b/batch_size_2048-lr_0.1-optimizer_Adam-hidden_dim_32-num_layers_1-sr_type_max-freeze_False\n",
      "---------- batch_size_32; lr_0.001; optimizer_Adam; hidden_dim_32; num_layers_1; sentence_representation_max ----------\n"
     ]
    },
    {
     "name": "stderr",
     "output_type": "stream",
     "text": [
      "[I 2024-11-04 02:01:21,378] Trial 259 finished with value: 0.3944307565689087 and parameters: {'hidden_dim': 32, 'num_layers': 1, 'optimizer_name': 'Adam', 'batch_size': 32, 'learning_rate': 0.001, 'sentence_representation_type': 'max'}. Best is trial 50 with value: 0.7804877758026123.\n",
      "Seed set to 42\n"
     ]
    },
    {
     "name": "stdout",
     "output_type": "stream",
     "text": [
      "[Skipping] rnn/test/w2v-3b/batch_size_32-lr_0.001-optimizer_Adam-hidden_dim_32-num_layers_1-sr_type_max-freeze_False\n",
      "---------- batch_size_2048; lr_0.001; optimizer_Adam; hidden_dim_32; num_layers_1; sentence_representation_max ----------\n"
     ]
    },
    {
     "name": "stderr",
     "output_type": "stream",
     "text": [
      "[I 2024-11-04 02:01:21,996] Trial 260 finished with value: 0.7804877758026123 and parameters: {'hidden_dim': 32, 'num_layers': 1, 'optimizer_name': 'Adam', 'batch_size': 2048, 'learning_rate': 0.001, 'sentence_representation_type': 'max'}. Best is trial 50 with value: 0.7804877758026123.\n",
      "Seed set to 42\n"
     ]
    },
    {
     "name": "stdout",
     "output_type": "stream",
     "text": [
      "[Skipping] rnn/test/w2v-3b/batch_size_2048-lr_0.001-optimizer_Adam-hidden_dim_32-num_layers_1-sr_type_max-freeze_False\n",
      "---------- batch_size_2048; lr_0.001; optimizer_Adam; hidden_dim_256; num_layers_2; sentence_representation_last ----------\n"
     ]
    },
    {
     "name": "stderr",
     "output_type": "stream",
     "text": [
      "GPU available: True (cuda), used: False\n",
      "TPU available: False, using: 0 TPU cores\n",
      "HPU available: False, using: 0 HPUs\n",
      "\n",
      "  | Name   | Type               | Params | Mode \n",
      "------------------------------------------------------\n",
      "0 | model  | RNN                | 5.2 M  | train\n",
      "1 | metric | MulticlassAccuracy | 0      | train\n",
      "------------------------------------------------------\n",
      "5.2 M     Trainable params\n",
      "0         Non-trainable params\n",
      "5.2 M     Total params\n",
      "20.831    Total estimated model params size (MB)\n",
      "7         Modules in train mode\n",
      "0         Modules in eval mode\n"
     ]
    },
    {
     "data": {
      "application/vnd.jupyter.widget-view+json": {
       "model_id": "84e69019df054d1cbc7063932bc2c9b1",
       "version_major": 2,
       "version_minor": 0
      },
      "text/plain": [
       "Sanity Checking: |          | 0/? [00:00<?, ?it/s]"
      ]
     },
     "metadata": {},
     "output_type": "display_data"
    },
    {
     "data": {
      "application/vnd.jupyter.widget-view+json": {
       "model_id": "8328cf9589314f43ab54798e4702b5b9",
       "version_major": 2,
       "version_minor": 0
      },
      "text/plain": [
       "Training: |          | 0/? [00:00<?, ?it/s]"
      ]
     },
     "metadata": {},
     "output_type": "display_data"
    },
    {
     "data": {
      "application/vnd.jupyter.widget-view+json": {
       "model_id": "e18a60ce3d6443938003fbeeca8786b9",
       "version_major": 2,
       "version_minor": 0
      },
      "text/plain": [
       "Validation: |          | 0/? [00:00<?, ?it/s]"
      ]
     },
     "metadata": {},
     "output_type": "display_data"
    },
    {
     "data": {
      "application/vnd.jupyter.widget-view+json": {
       "model_id": "4bcbabb519544f27979e5fdc36c1d1ac",
       "version_major": 2,
       "version_minor": 0
      },
      "text/plain": [
       "Validation: |          | 0/? [00:00<?, ?it/s]"
      ]
     },
     "metadata": {},
     "output_type": "display_data"
    },
    {
     "data": {
      "application/vnd.jupyter.widget-view+json": {
       "model_id": "c80b7a6ec0e34c799368796c03b79041",
       "version_major": 2,
       "version_minor": 0
      },
      "text/plain": [
       "Validation: |          | 0/? [00:00<?, ?it/s]"
      ]
     },
     "metadata": {},
     "output_type": "display_data"
    },
    {
     "data": {
      "application/vnd.jupyter.widget-view+json": {
       "model_id": "6d085cb9d4004b0cb1528a0d29acf031",
       "version_major": 2,
       "version_minor": 0
      },
      "text/plain": [
       "Validation: |          | 0/? [00:00<?, ?it/s]"
      ]
     },
     "metadata": {},
     "output_type": "display_data"
    },
    {
     "data": {
      "application/vnd.jupyter.widget-view+json": {
       "model_id": "2aa620a063484f19a233ae3c80e68cf9",
       "version_major": 2,
       "version_minor": 0
      },
      "text/plain": [
       "Validation: |          | 0/? [00:00<?, ?it/s]"
      ]
     },
     "metadata": {},
     "output_type": "display_data"
    },
    {
     "data": {
      "application/vnd.jupyter.widget-view+json": {
       "model_id": "37b9e2782beb4f02994730214bfc7118",
       "version_major": 2,
       "version_minor": 0
      },
      "text/plain": [
       "Validation: |          | 0/? [00:00<?, ?it/s]"
      ]
     },
     "metadata": {},
     "output_type": "display_data"
    },
    {
     "data": {
      "application/vnd.jupyter.widget-view+json": {
       "model_id": "ab5ee08e63f74317b68cbc627b1b3d02",
       "version_major": 2,
       "version_minor": 0
      },
      "text/plain": [
       "Validation: |          | 0/? [00:00<?, ?it/s]"
      ]
     },
     "metadata": {},
     "output_type": "display_data"
    },
    {
     "data": {
      "application/vnd.jupyter.widget-view+json": {
       "model_id": "902bdf73c2874917a804b911b811032a",
       "version_major": 2,
       "version_minor": 0
      },
      "text/plain": [
       "Validation: |          | 0/? [00:00<?, ?it/s]"
      ]
     },
     "metadata": {},
     "output_type": "display_data"
    },
    {
     "data": {
      "application/vnd.jupyter.widget-view+json": {
       "model_id": "355ab00224794d27908af9cda0f5c009",
       "version_major": 2,
       "version_minor": 0
      },
      "text/plain": [
       "Validation: |          | 0/? [00:00<?, ?it/s]"
      ]
     },
     "metadata": {},
     "output_type": "display_data"
    },
    {
     "name": "stderr",
     "output_type": "stream",
     "text": [
      "[I 2024-11-04 02:03:00,363] Trial 261 finished with value: 0.7767354249954224 and parameters: {'hidden_dim': 256, 'num_layers': 2, 'optimizer_name': 'Adam', 'batch_size': 2048, 'learning_rate': 0.001, 'sentence_representation_type': 'last'}. Best is trial 50 with value: 0.7804877758026123.\n",
      "Seed set to 42\n"
     ]
    },
    {
     "name": "stdout",
     "output_type": "stream",
     "text": [
      "---------- batch_size_128; lr_0.001; optimizer_Adam; hidden_dim_32; num_layers_1; sentence_representation_max ----------\n"
     ]
    },
    {
     "name": "stderr",
     "output_type": "stream",
     "text": [
      "[I 2024-11-04 02:03:01,049] Trial 262 finished with value: 0.4298436939716339 and parameters: {'hidden_dim': 32, 'num_layers': 1, 'optimizer_name': 'Adam', 'batch_size': 128, 'learning_rate': 0.001, 'sentence_representation_type': 'max'}. Best is trial 50 with value: 0.7804877758026123.\n",
      "Seed set to 42\n"
     ]
    },
    {
     "name": "stdout",
     "output_type": "stream",
     "text": [
      "[Skipping] rnn/test/w2v-3b/batch_size_128-lr_0.001-optimizer_Adam-hidden_dim_32-num_layers_1-sr_type_max-freeze_False\n",
      "---------- batch_size_2048; lr_0.001; optimizer_Adam; hidden_dim_32; num_layers_1; sentence_representation_max ----------\n"
     ]
    },
    {
     "name": "stderr",
     "output_type": "stream",
     "text": [
      "[I 2024-11-04 02:03:01,673] Trial 263 finished with value: 0.7804877758026123 and parameters: {'hidden_dim': 32, 'num_layers': 1, 'optimizer_name': 'Adam', 'batch_size': 2048, 'learning_rate': 0.001, 'sentence_representation_type': 'max'}. Best is trial 50 with value: 0.7804877758026123.\n",
      "Seed set to 42\n"
     ]
    },
    {
     "name": "stdout",
     "output_type": "stream",
     "text": [
      "[Skipping] rnn/test/w2v-3b/batch_size_2048-lr_0.001-optimizer_Adam-hidden_dim_32-num_layers_1-sr_type_max-freeze_False\n",
      "---------- batch_size_2048; lr_0.001; optimizer_Adam; hidden_dim_32; num_layers_1; sentence_representation_average ----------\n"
     ]
    },
    {
     "name": "stderr",
     "output_type": "stream",
     "text": [
      "[I 2024-11-04 02:03:02,301] Trial 264 finished with value: 0.7514071464538574 and parameters: {'hidden_dim': 32, 'num_layers': 1, 'optimizer_name': 'Adam', 'batch_size': 2048, 'learning_rate': 0.001, 'sentence_representation_type': 'average'}. Best is trial 50 with value: 0.7804877758026123.\n",
      "Seed set to 42\n"
     ]
    },
    {
     "name": "stdout",
     "output_type": "stream",
     "text": [
      "[Skipping] rnn/test/w2v-3b/batch_size_2048-lr_0.001-optimizer_Adam-hidden_dim_32-num_layers_1-sr_type_average-freeze_False\n",
      "---------- batch_size_2048; lr_0.001; optimizer_Adam; hidden_dim_32; num_layers_1; sentence_representation_max ----------\n"
     ]
    },
    {
     "name": "stderr",
     "output_type": "stream",
     "text": [
      "[I 2024-11-04 02:03:02,943] Trial 265 finished with value: 0.7804877758026123 and parameters: {'hidden_dim': 32, 'num_layers': 1, 'optimizer_name': 'Adam', 'batch_size': 2048, 'learning_rate': 0.001, 'sentence_representation_type': 'max'}. Best is trial 50 with value: 0.7804877758026123.\n",
      "Seed set to 42\n"
     ]
    },
    {
     "name": "stdout",
     "output_type": "stream",
     "text": [
      "[Skipping] rnn/test/w2v-3b/batch_size_2048-lr_0.001-optimizer_Adam-hidden_dim_32-num_layers_1-sr_type_max-freeze_False\n",
      "---------- batch_size_2048; lr_0.001; optimizer_Adam; hidden_dim_32; num_layers_1; sentence_representation_max ----------\n"
     ]
    },
    {
     "name": "stderr",
     "output_type": "stream",
     "text": [
      "[I 2024-11-04 02:03:03,570] Trial 266 finished with value: 0.7804877758026123 and parameters: {'hidden_dim': 32, 'num_layers': 1, 'optimizer_name': 'Adam', 'batch_size': 2048, 'learning_rate': 0.001, 'sentence_representation_type': 'max'}. Best is trial 50 with value: 0.7804877758026123.\n",
      "Seed set to 42\n"
     ]
    },
    {
     "name": "stdout",
     "output_type": "stream",
     "text": [
      "[Skipping] rnn/test/w2v-3b/batch_size_2048-lr_0.001-optimizer_Adam-hidden_dim_32-num_layers_1-sr_type_max-freeze_False\n",
      "---------- batch_size_2048; lr_0.001; optimizer_Adam; hidden_dim_32; num_layers_1; sentence_representation_max ----------\n"
     ]
    },
    {
     "name": "stderr",
     "output_type": "stream",
     "text": [
      "[I 2024-11-04 02:03:04,183] Trial 267 finished with value: 0.7804877758026123 and parameters: {'hidden_dim': 32, 'num_layers': 1, 'optimizer_name': 'Adam', 'batch_size': 2048, 'learning_rate': 0.001, 'sentence_representation_type': 'max'}. Best is trial 50 with value: 0.7804877758026123.\n",
      "Seed set to 42\n"
     ]
    },
    {
     "name": "stdout",
     "output_type": "stream",
     "text": [
      "[Skipping] rnn/test/w2v-3b/batch_size_2048-lr_0.001-optimizer_Adam-hidden_dim_32-num_layers_1-sr_type_max-freeze_False\n",
      "---------- batch_size_2048; lr_0.001; optimizer_Adam; hidden_dim_32; num_layers_1; sentence_representation_max ----------\n"
     ]
    },
    {
     "name": "stderr",
     "output_type": "stream",
     "text": [
      "[I 2024-11-04 02:03:04,813] Trial 268 finished with value: 0.7804877758026123 and parameters: {'hidden_dim': 32, 'num_layers': 1, 'optimizer_name': 'Adam', 'batch_size': 2048, 'learning_rate': 0.001, 'sentence_representation_type': 'max'}. Best is trial 50 with value: 0.7804877758026123.\n",
      "Seed set to 42\n"
     ]
    },
    {
     "name": "stdout",
     "output_type": "stream",
     "text": [
      "[Skipping] rnn/test/w2v-3b/batch_size_2048-lr_0.001-optimizer_Adam-hidden_dim_32-num_layers_1-sr_type_max-freeze_False\n",
      "---------- batch_size_2048; lr_0.001; optimizer_Adam; hidden_dim_32; num_layers_1; sentence_representation_max ----------\n"
     ]
    },
    {
     "name": "stderr",
     "output_type": "stream",
     "text": [
      "[I 2024-11-04 02:03:05,432] Trial 269 finished with value: 0.7804877758026123 and parameters: {'hidden_dim': 32, 'num_layers': 1, 'optimizer_name': 'Adam', 'batch_size': 2048, 'learning_rate': 0.001, 'sentence_representation_type': 'max'}. Best is trial 50 with value: 0.7804877758026123.\n",
      "Seed set to 42\n"
     ]
    },
    {
     "name": "stdout",
     "output_type": "stream",
     "text": [
      "[Skipping] rnn/test/w2v-3b/batch_size_2048-lr_0.001-optimizer_Adam-hidden_dim_32-num_layers_1-sr_type_max-freeze_False\n",
      "---------- batch_size_256; lr_0.001; optimizer_Adam; hidden_dim_32; num_layers_1; sentence_representation_max ----------\n"
     ]
    },
    {
     "name": "stderr",
     "output_type": "stream",
     "text": [
      "[I 2024-11-04 02:03:06,052] Trial 270 finished with value: 0.47315362095832825 and parameters: {'hidden_dim': 32, 'num_layers': 1, 'optimizer_name': 'Adam', 'batch_size': 256, 'learning_rate': 0.001, 'sentence_representation_type': 'max'}. Best is trial 50 with value: 0.7804877758026123.\n",
      "Seed set to 42\n"
     ]
    },
    {
     "name": "stdout",
     "output_type": "stream",
     "text": [
      "[Skipping] rnn/test/w2v-3b/batch_size_256-lr_0.001-optimizer_Adam-hidden_dim_32-num_layers_1-sr_type_max-freeze_False\n",
      "---------- batch_size_2048; lr_0.001; optimizer_Adam; hidden_dim_32; num_layers_1; sentence_representation_max ----------\n"
     ]
    },
    {
     "name": "stderr",
     "output_type": "stream",
     "text": [
      "[I 2024-11-04 02:03:06,676] Trial 271 finished with value: 0.7804877758026123 and parameters: {'hidden_dim': 32, 'num_layers': 1, 'optimizer_name': 'Adam', 'batch_size': 2048, 'learning_rate': 0.001, 'sentence_representation_type': 'max'}. Best is trial 50 with value: 0.7804877758026123.\n",
      "Seed set to 42\n"
     ]
    },
    {
     "name": "stdout",
     "output_type": "stream",
     "text": [
      "[Skipping] rnn/test/w2v-3b/batch_size_2048-lr_0.001-optimizer_Adam-hidden_dim_32-num_layers_1-sr_type_max-freeze_False\n",
      "---------- batch_size_2048; lr_0.001; optimizer_Adam; hidden_dim_32; num_layers_1; sentence_representation_max ----------\n"
     ]
    },
    {
     "name": "stderr",
     "output_type": "stream",
     "text": [
      "[I 2024-11-04 02:03:07,303] Trial 272 finished with value: 0.7804877758026123 and parameters: {'hidden_dim': 32, 'num_layers': 1, 'optimizer_name': 'Adam', 'batch_size': 2048, 'learning_rate': 0.001, 'sentence_representation_type': 'max'}. Best is trial 50 with value: 0.7804877758026123.\n",
      "Seed set to 42\n"
     ]
    },
    {
     "name": "stdout",
     "output_type": "stream",
     "text": [
      "[Skipping] rnn/test/w2v-3b/batch_size_2048-lr_0.001-optimizer_Adam-hidden_dim_32-num_layers_1-sr_type_max-freeze_False\n",
      "---------- batch_size_2048; lr_0.0001; optimizer_Adam; hidden_dim_32; num_layers_1; sentence_representation_max ----------\n"
     ]
    },
    {
     "name": "stderr",
     "output_type": "stream",
     "text": [
      "[I 2024-11-04 02:03:07,976] Trial 273 finished with value: 0.7682926654815674 and parameters: {'hidden_dim': 32, 'num_layers': 1, 'optimizer_name': 'Adam', 'batch_size': 2048, 'learning_rate': 0.0001, 'sentence_representation_type': 'max'}. Best is trial 50 with value: 0.7804877758026123.\n",
      "Seed set to 42\n"
     ]
    },
    {
     "name": "stdout",
     "output_type": "stream",
     "text": [
      "[Skipping] rnn/test/w2v-3b/batch_size_2048-lr_0.0001-optimizer_Adam-hidden_dim_32-num_layers_1-sr_type_max-freeze_False\n",
      "---------- batch_size_2048; lr_0.001; optimizer_Adam; hidden_dim_32; num_layers_1; sentence_representation_max ----------\n"
     ]
    },
    {
     "name": "stderr",
     "output_type": "stream",
     "text": [
      "[I 2024-11-04 02:03:08,603] Trial 274 finished with value: 0.7804877758026123 and parameters: {'hidden_dim': 32, 'num_layers': 1, 'optimizer_name': 'Adam', 'batch_size': 2048, 'learning_rate': 0.001, 'sentence_representation_type': 'max'}. Best is trial 50 with value: 0.7804877758026123.\n",
      "Seed set to 42\n"
     ]
    },
    {
     "name": "stdout",
     "output_type": "stream",
     "text": [
      "[Skipping] rnn/test/w2v-3b/batch_size_2048-lr_0.001-optimizer_Adam-hidden_dim_32-num_layers_1-sr_type_max-freeze_False\n",
      "---------- batch_size_2048; lr_0.001; optimizer_Adam; hidden_dim_128; num_layers_1; sentence_representation_max ----------\n"
     ]
    },
    {
     "name": "stderr",
     "output_type": "stream",
     "text": [
      "[I 2024-11-04 02:03:09,266] Trial 275 finished with value: 0.7682926654815674 and parameters: {'hidden_dim': 128, 'num_layers': 1, 'optimizer_name': 'Adam', 'batch_size': 2048, 'learning_rate': 0.001, 'sentence_representation_type': 'max'}. Best is trial 50 with value: 0.7804877758026123.\n",
      "Seed set to 42\n"
     ]
    },
    {
     "name": "stdout",
     "output_type": "stream",
     "text": [
      "[Skipping] rnn/test/w2v-3b/batch_size_2048-lr_0.001-optimizer_Adam-hidden_dim_128-num_layers_1-sr_type_max-freeze_False\n",
      "---------- batch_size_512; lr_0.01; optimizer_Adam; hidden_dim_32; num_layers_1; sentence_representation_max ----------\n"
     ]
    },
    {
     "name": "stderr",
     "output_type": "stream",
     "text": [
      "GPU available: True (cuda), used: False\n",
      "TPU available: False, using: 0 TPU cores\n",
      "HPU available: False, using: 0 HPUs\n",
      "\n",
      "  | Name   | Type               | Params | Mode \n",
      "------------------------------------------------------\n",
      "0 | model  | RNN                | 4.9 M  | train\n",
      "1 | metric | MulticlassAccuracy | 0      | train\n",
      "------------------------------------------------------\n",
      "4.9 M     Trainable params\n",
      "0         Non-trainable params\n",
      "4.9 M     Total params\n",
      "19.646    Total estimated model params size (MB)\n",
      "7         Modules in train mode\n",
      "0         Modules in eval mode\n"
     ]
    },
    {
     "data": {
      "application/vnd.jupyter.widget-view+json": {
       "model_id": "45bf8c21ecbd468e912bf33e9e712fb7",
       "version_major": 2,
       "version_minor": 0
      },
      "text/plain": [
       "Sanity Checking: |          | 0/? [00:00<?, ?it/s]"
      ]
     },
     "metadata": {},
     "output_type": "display_data"
    },
    {
     "data": {
      "application/vnd.jupyter.widget-view+json": {
       "model_id": "6e98cba8431d4d46bb229b9acc9cc95e",
       "version_major": 2,
       "version_minor": 0
      },
      "text/plain": [
       "Training: |          | 0/? [00:00<?, ?it/s]"
      ]
     },
     "metadata": {},
     "output_type": "display_data"
    },
    {
     "data": {
      "application/vnd.jupyter.widget-view+json": {
       "model_id": "715e666ca36b4f2584fdad8c21349c6c",
       "version_major": 2,
       "version_minor": 0
      },
      "text/plain": [
       "Validation: |          | 0/? [00:00<?, ?it/s]"
      ]
     },
     "metadata": {},
     "output_type": "display_data"
    },
    {
     "data": {
      "application/vnd.jupyter.widget-view+json": {
       "model_id": "7ab9072fc4724a948e3ec4baad0eddb4",
       "version_major": 2,
       "version_minor": 0
      },
      "text/plain": [
       "Validation: |          | 0/? [00:00<?, ?it/s]"
      ]
     },
     "metadata": {},
     "output_type": "display_data"
    },
    {
     "data": {
      "application/vnd.jupyter.widget-view+json": {
       "model_id": "3d9fce4edb124edf86028d25c13a852a",
       "version_major": 2,
       "version_minor": 0
      },
      "text/plain": [
       "Validation: |          | 0/? [00:00<?, ?it/s]"
      ]
     },
     "metadata": {},
     "output_type": "display_data"
    },
    {
     "data": {
      "application/vnd.jupyter.widget-view+json": {
       "model_id": "60e4a46eb1114dc1af7009a6041a35a3",
       "version_major": 2,
       "version_minor": 0
      },
      "text/plain": [
       "Validation: |          | 0/? [00:00<?, ?it/s]"
      ]
     },
     "metadata": {},
     "output_type": "display_data"
    },
    {
     "name": "stderr",
     "output_type": "stream",
     "text": [
      "[I 2024-11-04 02:03:50,130] Trial 276 finished with value: 0.5387640595436096 and parameters: {'hidden_dim': 32, 'num_layers': 1, 'optimizer_name': 'Adam', 'batch_size': 512, 'learning_rate': 0.01, 'sentence_representation_type': 'max'}. Best is trial 50 with value: 0.7804877758026123.\n",
      "Seed set to 42\n"
     ]
    },
    {
     "name": "stdout",
     "output_type": "stream",
     "text": [
      "---------- batch_size_2048; lr_0.001; optimizer_Adam; hidden_dim_32; num_layers_1; sentence_representation_max ----------\n"
     ]
    },
    {
     "name": "stderr",
     "output_type": "stream",
     "text": [
      "[I 2024-11-04 02:03:50,794] Trial 277 finished with value: 0.7804877758026123 and parameters: {'hidden_dim': 32, 'num_layers': 1, 'optimizer_name': 'Adam', 'batch_size': 2048, 'learning_rate': 0.001, 'sentence_representation_type': 'max'}. Best is trial 50 with value: 0.7804877758026123.\n",
      "Seed set to 42\n"
     ]
    },
    {
     "name": "stdout",
     "output_type": "stream",
     "text": [
      "[Skipping] rnn/test/w2v-3b/batch_size_2048-lr_0.001-optimizer_Adam-hidden_dim_32-num_layers_1-sr_type_max-freeze_False\n",
      "---------- batch_size_2048; lr_0.001; optimizer_Adam; hidden_dim_32; num_layers_1; sentence_representation_max ----------\n"
     ]
    },
    {
     "name": "stderr",
     "output_type": "stream",
     "text": [
      "[I 2024-11-04 02:03:51,412] Trial 278 finished with value: 0.7804877758026123 and parameters: {'hidden_dim': 32, 'num_layers': 1, 'optimizer_name': 'Adam', 'batch_size': 2048, 'learning_rate': 0.001, 'sentence_representation_type': 'max'}. Best is trial 50 with value: 0.7804877758026123.\n",
      "Seed set to 42\n"
     ]
    },
    {
     "name": "stdout",
     "output_type": "stream",
     "text": [
      "[Skipping] rnn/test/w2v-3b/batch_size_2048-lr_0.001-optimizer_Adam-hidden_dim_32-num_layers_1-sr_type_max-freeze_False\n",
      "---------- batch_size_2048; lr_0.001; optimizer_Adam; hidden_dim_32; num_layers_3; sentence_representation_max ----------\n"
     ]
    },
    {
     "name": "stderr",
     "output_type": "stream",
     "text": [
      "[I 2024-11-04 02:03:52,027] Trial 279 finished with value: 0.7429643869400024 and parameters: {'hidden_dim': 32, 'num_layers': 3, 'optimizer_name': 'Adam', 'batch_size': 2048, 'learning_rate': 0.001, 'sentence_representation_type': 'max'}. Best is trial 50 with value: 0.7804877758026123.\n",
      "Seed set to 42\n"
     ]
    },
    {
     "name": "stdout",
     "output_type": "stream",
     "text": [
      "[Skipping] rnn/test/w2v-3b/batch_size_2048-lr_0.001-optimizer_Adam-hidden_dim_32-num_layers_3-sr_type_max-freeze_False\n",
      "---------- batch_size_1024; lr_0.001; optimizer_Adam; hidden_dim_32; num_layers_1; sentence_representation_max ----------\n"
     ]
    },
    {
     "name": "stderr",
     "output_type": "stream",
     "text": [
      "[I 2024-11-04 02:03:52,662] Trial 280 finished with value: 0.7682369947433472 and parameters: {'hidden_dim': 32, 'num_layers': 1, 'optimizer_name': 'Adam', 'batch_size': 1024, 'learning_rate': 0.001, 'sentence_representation_type': 'max'}. Best is trial 50 with value: 0.7804877758026123.\n",
      "Seed set to 42\n"
     ]
    },
    {
     "name": "stdout",
     "output_type": "stream",
     "text": [
      "[Skipping] rnn/test/w2v-3b/batch_size_1024-lr_0.001-optimizer_Adam-hidden_dim_32-num_layers_1-sr_type_max-freeze_False\n",
      "---------- batch_size_2048; lr_0.1; optimizer_Adam; hidden_dim_64; num_layers_1; sentence_representation_max ----------\n"
     ]
    },
    {
     "name": "stderr",
     "output_type": "stream",
     "text": [
      "GPU available: True (cuda), used: False\n",
      "TPU available: False, using: 0 TPU cores\n",
      "HPU available: False, using: 0 HPUs\n",
      "\n",
      "  | Name   | Type               | Params | Mode \n",
      "------------------------------------------------------\n",
      "0 | model  | RNN                | 4.9 M  | train\n",
      "1 | metric | MulticlassAccuracy | 0      | train\n",
      "------------------------------------------------------\n",
      "4.9 M     Trainable params\n",
      "0         Non-trainable params\n",
      "4.9 M     Total params\n",
      "19.703    Total estimated model params size (MB)\n",
      "7         Modules in train mode\n",
      "0         Modules in eval mode\n"
     ]
    },
    {
     "data": {
      "application/vnd.jupyter.widget-view+json": {
       "model_id": "3691020f499d4f39aed92b7e96cced19",
       "version_major": 2,
       "version_minor": 0
      },
      "text/plain": [
       "Sanity Checking: |          | 0/? [00:00<?, ?it/s]"
      ]
     },
     "metadata": {},
     "output_type": "display_data"
    },
    {
     "data": {
      "application/vnd.jupyter.widget-view+json": {
       "model_id": "361a98d9c9d74ad8a3b2ae07278f897e",
       "version_major": 2,
       "version_minor": 0
      },
      "text/plain": [
       "Training: |          | 0/? [00:00<?, ?it/s]"
      ]
     },
     "metadata": {},
     "output_type": "display_data"
    },
    {
     "data": {
      "application/vnd.jupyter.widget-view+json": {
       "model_id": "743e179576114ee8ac6b7a0283cb99f4",
       "version_major": 2,
       "version_minor": 0
      },
      "text/plain": [
       "Validation: |          | 0/? [00:00<?, ?it/s]"
      ]
     },
     "metadata": {},
     "output_type": "display_data"
    },
    {
     "data": {
      "application/vnd.jupyter.widget-view+json": {
       "model_id": "d6be1da771594474a5ed7b17f01b9582",
       "version_major": 2,
       "version_minor": 0
      },
      "text/plain": [
       "Validation: |          | 0/? [00:00<?, ?it/s]"
      ]
     },
     "metadata": {},
     "output_type": "display_data"
    },
    {
     "data": {
      "application/vnd.jupyter.widget-view+json": {
       "model_id": "c45e5207402a4c21899614f91de69477",
       "version_major": 2,
       "version_minor": 0
      },
      "text/plain": [
       "Validation: |          | 0/? [00:00<?, ?it/s]"
      ]
     },
     "metadata": {},
     "output_type": "display_data"
    },
    {
     "data": {
      "application/vnd.jupyter.widget-view+json": {
       "model_id": "231a300e4c0547ceba728a93162dd9c9",
       "version_major": 2,
       "version_minor": 0
      },
      "text/plain": [
       "Validation: |          | 0/? [00:00<?, ?it/s]"
      ]
     },
     "metadata": {},
     "output_type": "display_data"
    },
    {
     "data": {
      "application/vnd.jupyter.widget-view+json": {
       "model_id": "735d40d9989145ef8f2ffb2337f30485",
       "version_major": 2,
       "version_minor": 0
      },
      "text/plain": [
       "Validation: |          | 0/? [00:00<?, ?it/s]"
      ]
     },
     "metadata": {},
     "output_type": "display_data"
    },
    {
     "name": "stderr",
     "output_type": "stream",
     "text": [
      "[I 2024-11-04 02:04:42,177] Trial 281 finished with value: 0.5506566762924194 and parameters: {'hidden_dim': 64, 'num_layers': 1, 'optimizer_name': 'Adam', 'batch_size': 2048, 'learning_rate': 0.1, 'sentence_representation_type': 'max'}. Best is trial 50 with value: 0.7804877758026123.\n",
      "Seed set to 42\n"
     ]
    },
    {
     "name": "stdout",
     "output_type": "stream",
     "text": [
      "---------- batch_size_2048; lr_0.001; optimizer_Adam; hidden_dim_32; num_layers_1; sentence_representation_max ----------\n"
     ]
    },
    {
     "name": "stderr",
     "output_type": "stream",
     "text": [
      "[I 2024-11-04 02:04:42,787] Trial 282 finished with value: 0.7804877758026123 and parameters: {'hidden_dim': 32, 'num_layers': 1, 'optimizer_name': 'Adam', 'batch_size': 2048, 'learning_rate': 0.001, 'sentence_representation_type': 'max'}. Best is trial 50 with value: 0.7804877758026123.\n",
      "Seed set to 42\n"
     ]
    },
    {
     "name": "stdout",
     "output_type": "stream",
     "text": [
      "[Skipping] rnn/test/w2v-3b/batch_size_2048-lr_0.001-optimizer_Adam-hidden_dim_32-num_layers_1-sr_type_max-freeze_False\n",
      "---------- batch_size_2048; lr_0.001; optimizer_Adam; hidden_dim_32; num_layers_1; sentence_representation_last ----------\n"
     ]
    },
    {
     "name": "stderr",
     "output_type": "stream",
     "text": [
      "[I 2024-11-04 02:04:43,413] Trial 283 finished with value: 0.7467166781425476 and parameters: {'hidden_dim': 32, 'num_layers': 1, 'optimizer_name': 'Adam', 'batch_size': 2048, 'learning_rate': 0.001, 'sentence_representation_type': 'last'}. Best is trial 50 with value: 0.7804877758026123.\n",
      "Seed set to 42\n"
     ]
    },
    {
     "name": "stdout",
     "output_type": "stream",
     "text": [
      "[Skipping] rnn/test/w2v-3b/batch_size_2048-lr_0.001-optimizer_Adam-hidden_dim_32-num_layers_1-sr_type_last-freeze_False\n",
      "---------- batch_size_2048; lr_0.001; optimizer_Adam; hidden_dim_32; num_layers_1; sentence_representation_max ----------\n"
     ]
    },
    {
     "name": "stderr",
     "output_type": "stream",
     "text": [
      "[I 2024-11-04 02:04:44,069] Trial 284 finished with value: 0.7804877758026123 and parameters: {'hidden_dim': 32, 'num_layers': 1, 'optimizer_name': 'Adam', 'batch_size': 2048, 'learning_rate': 0.001, 'sentence_representation_type': 'max'}. Best is trial 50 with value: 0.7804877758026123.\n",
      "Seed set to 42\n"
     ]
    },
    {
     "name": "stdout",
     "output_type": "stream",
     "text": [
      "[Skipping] rnn/test/w2v-3b/batch_size_2048-lr_0.001-optimizer_Adam-hidden_dim_32-num_layers_1-sr_type_max-freeze_False\n",
      "---------- batch_size_2048; lr_0.001; optimizer_Adam; hidden_dim_256; num_layers_1; sentence_representation_average ----------\n"
     ]
    },
    {
     "name": "stderr",
     "output_type": "stream",
     "text": [
      "[I 2024-11-04 02:04:44,689] Trial 285 finished with value: 0.7532832622528076 and parameters: {'hidden_dim': 256, 'num_layers': 1, 'optimizer_name': 'Adam', 'batch_size': 2048, 'learning_rate': 0.001, 'sentence_representation_type': 'average'}. Best is trial 50 with value: 0.7804877758026123.\n",
      "Seed set to 42\n"
     ]
    },
    {
     "name": "stdout",
     "output_type": "stream",
     "text": [
      "[Skipping] rnn/test/w2v-3b/batch_size_2048-lr_0.001-optimizer_Adam-hidden_dim_256-num_layers_1-sr_type_average-freeze_False\n",
      "---------- batch_size_64; lr_0.001; optimizer_Adam; hidden_dim_32; num_layers_1; sentence_representation_max ----------\n"
     ]
    },
    {
     "name": "stderr",
     "output_type": "stream",
     "text": [
      "[I 2024-11-04 02:04:45,313] Trial 286 finished with value: 0.4108687937259674 and parameters: {'hidden_dim': 32, 'num_layers': 1, 'optimizer_name': 'Adam', 'batch_size': 64, 'learning_rate': 0.001, 'sentence_representation_type': 'max'}. Best is trial 50 with value: 0.7804877758026123.\n",
      "Seed set to 42\n"
     ]
    },
    {
     "name": "stdout",
     "output_type": "stream",
     "text": [
      "[Skipping] rnn/test/w2v-3b/batch_size_64-lr_0.001-optimizer_Adam-hidden_dim_32-num_layers_1-sr_type_max-freeze_False\n",
      "---------- batch_size_2048; lr_0.001; optimizer_Adam; hidden_dim_32; num_layers_1; sentence_representation_max ----------\n"
     ]
    },
    {
     "name": "stderr",
     "output_type": "stream",
     "text": [
      "[I 2024-11-04 02:04:45,920] Trial 287 finished with value: 0.7804877758026123 and parameters: {'hidden_dim': 32, 'num_layers': 1, 'optimizer_name': 'Adam', 'batch_size': 2048, 'learning_rate': 0.001, 'sentence_representation_type': 'max'}. Best is trial 50 with value: 0.7804877758026123.\n",
      "Seed set to 42\n"
     ]
    },
    {
     "name": "stdout",
     "output_type": "stream",
     "text": [
      "[Skipping] rnn/test/w2v-3b/batch_size_2048-lr_0.001-optimizer_Adam-hidden_dim_32-num_layers_1-sr_type_max-freeze_False\n",
      "---------- batch_size_32; lr_0.001; optimizer_Adam; hidden_dim_32; num_layers_1; sentence_representation_max ----------\n"
     ]
    },
    {
     "name": "stderr",
     "output_type": "stream",
     "text": [
      "[I 2024-11-04 02:04:46,531] Trial 288 finished with value: 0.3944307565689087 and parameters: {'hidden_dim': 32, 'num_layers': 1, 'optimizer_name': 'Adam', 'batch_size': 32, 'learning_rate': 0.001, 'sentence_representation_type': 'max'}. Best is trial 50 with value: 0.7804877758026123.\n",
      "Seed set to 42\n"
     ]
    },
    {
     "name": "stdout",
     "output_type": "stream",
     "text": [
      "[Skipping] rnn/test/w2v-3b/batch_size_32-lr_0.001-optimizer_Adam-hidden_dim_32-num_layers_1-sr_type_max-freeze_False\n",
      "---------- batch_size_2048; lr_0.001; optimizer_Adam; hidden_dim_32; num_layers_1; sentence_representation_max ----------\n"
     ]
    },
    {
     "name": "stderr",
     "output_type": "stream",
     "text": [
      "[I 2024-11-04 02:04:47,140] Trial 289 finished with value: 0.7804877758026123 and parameters: {'hidden_dim': 32, 'num_layers': 1, 'optimizer_name': 'Adam', 'batch_size': 2048, 'learning_rate': 0.001, 'sentence_representation_type': 'max'}. Best is trial 50 with value: 0.7804877758026123.\n",
      "Seed set to 42\n"
     ]
    },
    {
     "name": "stdout",
     "output_type": "stream",
     "text": [
      "[Skipping] rnn/test/w2v-3b/batch_size_2048-lr_0.001-optimizer_Adam-hidden_dim_32-num_layers_1-sr_type_max-freeze_False\n",
      "---------- batch_size_2048; lr_0.001; optimizer_Adam; hidden_dim_32; num_layers_1; sentence_representation_max ----------\n"
     ]
    },
    {
     "name": "stderr",
     "output_type": "stream",
     "text": [
      "[I 2024-11-04 02:04:47,799] Trial 290 finished with value: 0.7804877758026123 and parameters: {'hidden_dim': 32, 'num_layers': 1, 'optimizer_name': 'Adam', 'batch_size': 2048, 'learning_rate': 0.001, 'sentence_representation_type': 'max'}. Best is trial 50 with value: 0.7804877758026123.\n",
      "Seed set to 42\n"
     ]
    },
    {
     "name": "stdout",
     "output_type": "stream",
     "text": [
      "[Skipping] rnn/test/w2v-3b/batch_size_2048-lr_0.001-optimizer_Adam-hidden_dim_32-num_layers_1-sr_type_max-freeze_False\n",
      "---------- batch_size_2048; lr_0.001; optimizer_Adam; hidden_dim_32; num_layers_1; sentence_representation_max ----------\n"
     ]
    },
    {
     "name": "stderr",
     "output_type": "stream",
     "text": [
      "[I 2024-11-04 02:04:48,430] Trial 291 finished with value: 0.7804877758026123 and parameters: {'hidden_dim': 32, 'num_layers': 1, 'optimizer_name': 'Adam', 'batch_size': 2048, 'learning_rate': 0.001, 'sentence_representation_type': 'max'}. Best is trial 50 with value: 0.7804877758026123.\n",
      "Seed set to 42\n"
     ]
    },
    {
     "name": "stdout",
     "output_type": "stream",
     "text": [
      "[Skipping] rnn/test/w2v-3b/batch_size_2048-lr_0.001-optimizer_Adam-hidden_dim_32-num_layers_1-sr_type_max-freeze_False\n",
      "---------- batch_size_128; lr_0.001; optimizer_Adam; hidden_dim_32; num_layers_1; sentence_representation_max ----------\n"
     ]
    },
    {
     "name": "stderr",
     "output_type": "stream",
     "text": [
      "[I 2024-11-04 02:04:49,057] Trial 292 finished with value: 0.4298436939716339 and parameters: {'hidden_dim': 32, 'num_layers': 1, 'optimizer_name': 'Adam', 'batch_size': 128, 'learning_rate': 0.001, 'sentence_representation_type': 'max'}. Best is trial 50 with value: 0.7804877758026123.\n",
      "Seed set to 42\n"
     ]
    },
    {
     "name": "stdout",
     "output_type": "stream",
     "text": [
      "[Skipping] rnn/test/w2v-3b/batch_size_128-lr_0.001-optimizer_Adam-hidden_dim_32-num_layers_1-sr_type_max-freeze_False\n",
      "---------- batch_size_2048; lr_0.001; optimizer_Adam; hidden_dim_32; num_layers_1; sentence_representation_max ----------\n"
     ]
    },
    {
     "name": "stderr",
     "output_type": "stream",
     "text": [
      "[I 2024-11-04 02:04:49,687] Trial 293 finished with value: 0.7804877758026123 and parameters: {'hidden_dim': 32, 'num_layers': 1, 'optimizer_name': 'Adam', 'batch_size': 2048, 'learning_rate': 0.001, 'sentence_representation_type': 'max'}. Best is trial 50 with value: 0.7804877758026123.\n",
      "Seed set to 42\n"
     ]
    },
    {
     "name": "stdout",
     "output_type": "stream",
     "text": [
      "[Skipping] rnn/test/w2v-3b/batch_size_2048-lr_0.001-optimizer_Adam-hidden_dim_32-num_layers_1-sr_type_max-freeze_False\n",
      "---------- batch_size_2048; lr_0.001; optimizer_Adam; hidden_dim_32; num_layers_4; sentence_representation_max ----------\n"
     ]
    },
    {
     "name": "stderr",
     "output_type": "stream",
     "text": [
      "[I 2024-11-04 02:04:50,311] Trial 294 finished with value: 0.7504690289497375 and parameters: {'hidden_dim': 32, 'num_layers': 4, 'optimizer_name': 'Adam', 'batch_size': 2048, 'learning_rate': 0.001, 'sentence_representation_type': 'max'}. Best is trial 50 with value: 0.7804877758026123.\n",
      "Seed set to 42\n"
     ]
    },
    {
     "name": "stdout",
     "output_type": "stream",
     "text": [
      "[Skipping] rnn/test/w2v-3b/batch_size_2048-lr_0.001-optimizer_Adam-hidden_dim_32-num_layers_4-sr_type_max-freeze_False\n",
      "---------- batch_size_2048; lr_0.001; optimizer_Adam; hidden_dim_32; num_layers_1; sentence_representation_max ----------\n"
     ]
    },
    {
     "name": "stderr",
     "output_type": "stream",
     "text": [
      "[I 2024-11-04 02:04:50,949] Trial 295 finished with value: 0.7804877758026123 and parameters: {'hidden_dim': 32, 'num_layers': 1, 'optimizer_name': 'Adam', 'batch_size': 2048, 'learning_rate': 0.001, 'sentence_representation_type': 'max'}. Best is trial 50 with value: 0.7804877758026123.\n",
      "Seed set to 42\n"
     ]
    },
    {
     "name": "stdout",
     "output_type": "stream",
     "text": [
      "[Skipping] rnn/test/w2v-3b/batch_size_2048-lr_0.001-optimizer_Adam-hidden_dim_32-num_layers_1-sr_type_max-freeze_False\n",
      "---------- batch_size_2048; lr_0.001; optimizer_Adam; hidden_dim_32; num_layers_1; sentence_representation_max ----------\n"
     ]
    },
    {
     "name": "stderr",
     "output_type": "stream",
     "text": [
      "[I 2024-11-04 02:04:51,621] Trial 296 finished with value: 0.7804877758026123 and parameters: {'hidden_dim': 32, 'num_layers': 1, 'optimizer_name': 'Adam', 'batch_size': 2048, 'learning_rate': 0.001, 'sentence_representation_type': 'max'}. Best is trial 50 with value: 0.7804877758026123.\n",
      "Seed set to 42\n"
     ]
    },
    {
     "name": "stdout",
     "output_type": "stream",
     "text": [
      "[Skipping] rnn/test/w2v-3b/batch_size_2048-lr_0.001-optimizer_Adam-hidden_dim_32-num_layers_1-sr_type_max-freeze_False\n",
      "---------- batch_size_2048; lr_0.001; optimizer_Adam; hidden_dim_32; num_layers_1; sentence_representation_max ----------\n"
     ]
    },
    {
     "name": "stderr",
     "output_type": "stream",
     "text": [
      "[I 2024-11-04 02:04:52,241] Trial 297 finished with value: 0.7804877758026123 and parameters: {'hidden_dim': 32, 'num_layers': 1, 'optimizer_name': 'Adam', 'batch_size': 2048, 'learning_rate': 0.001, 'sentence_representation_type': 'max'}. Best is trial 50 with value: 0.7804877758026123.\n",
      "Seed set to 42\n"
     ]
    },
    {
     "name": "stdout",
     "output_type": "stream",
     "text": [
      "[Skipping] rnn/test/w2v-3b/batch_size_2048-lr_0.001-optimizer_Adam-hidden_dim_32-num_layers_1-sr_type_max-freeze_False\n",
      "---------- batch_size_2048; lr_0.0001; optimizer_Adam; hidden_dim_32; num_layers_1; sentence_representation_max ----------\n"
     ]
    },
    {
     "name": "stderr",
     "output_type": "stream",
     "text": [
      "[I 2024-11-04 02:04:52,871] Trial 298 finished with value: 0.7682926654815674 and parameters: {'hidden_dim': 32, 'num_layers': 1, 'optimizer_name': 'Adam', 'batch_size': 2048, 'learning_rate': 0.0001, 'sentence_representation_type': 'max'}. Best is trial 50 with value: 0.7804877758026123.\n",
      "Seed set to 42\n"
     ]
    },
    {
     "name": "stdout",
     "output_type": "stream",
     "text": [
      "[Skipping] rnn/test/w2v-3b/batch_size_2048-lr_0.0001-optimizer_Adam-hidden_dim_32-num_layers_1-sr_type_max-freeze_False\n",
      "---------- batch_size_2048; lr_0.001; optimizer_Adam; hidden_dim_32; num_layers_1; sentence_representation_max ----------\n"
     ]
    },
    {
     "name": "stderr",
     "output_type": "stream",
     "text": [
      "[I 2024-11-04 02:04:53,502] Trial 299 finished with value: 0.7804877758026123 and parameters: {'hidden_dim': 32, 'num_layers': 1, 'optimizer_name': 'Adam', 'batch_size': 2048, 'learning_rate': 0.001, 'sentence_representation_type': 'max'}. Best is trial 50 with value: 0.7804877758026123.\n",
      "Seed set to 42\n"
     ]
    },
    {
     "name": "stdout",
     "output_type": "stream",
     "text": [
      "[Skipping] rnn/test/w2v-3b/batch_size_2048-lr_0.001-optimizer_Adam-hidden_dim_32-num_layers_1-sr_type_max-freeze_False\n",
      "---------- batch_size_2048; lr_0.001; optimizer_Adam; hidden_dim_128; num_layers_1; sentence_representation_max ----------\n"
     ]
    },
    {
     "name": "stderr",
     "output_type": "stream",
     "text": [
      "[I 2024-11-04 02:04:54,119] Trial 300 finished with value: 0.7682926654815674 and parameters: {'hidden_dim': 128, 'num_layers': 1, 'optimizer_name': 'Adam', 'batch_size': 2048, 'learning_rate': 0.001, 'sentence_representation_type': 'max'}. Best is trial 50 with value: 0.7804877758026123.\n",
      "Seed set to 42\n"
     ]
    },
    {
     "name": "stdout",
     "output_type": "stream",
     "text": [
      "[Skipping] rnn/test/w2v-3b/batch_size_2048-lr_0.001-optimizer_Adam-hidden_dim_128-num_layers_1-sr_type_max-freeze_False\n",
      "---------- batch_size_256; lr_0.001; optimizer_Adam; hidden_dim_32; num_layers_1; sentence_representation_max ----------\n"
     ]
    },
    {
     "name": "stderr",
     "output_type": "stream",
     "text": [
      "[I 2024-11-04 02:04:54,741] Trial 301 finished with value: 0.47315362095832825 and parameters: {'hidden_dim': 32, 'num_layers': 1, 'optimizer_name': 'Adam', 'batch_size': 256, 'learning_rate': 0.001, 'sentence_representation_type': 'max'}. Best is trial 50 with value: 0.7804877758026123.\n",
      "Seed set to 42\n"
     ]
    },
    {
     "name": "stdout",
     "output_type": "stream",
     "text": [
      "[Skipping] rnn/test/w2v-3b/batch_size_256-lr_0.001-optimizer_Adam-hidden_dim_32-num_layers_1-sr_type_max-freeze_False\n",
      "---------- batch_size_2048; lr_0.01; optimizer_Adam; hidden_dim_32; num_layers_1; sentence_representation_max ----------\n"
     ]
    },
    {
     "name": "stderr",
     "output_type": "stream",
     "text": [
      "[I 2024-11-04 02:04:55,400] Trial 302 finished with value: 0.7682926654815674 and parameters: {'hidden_dim': 32, 'num_layers': 1, 'optimizer_name': 'Adam', 'batch_size': 2048, 'learning_rate': 0.01, 'sentence_representation_type': 'max'}. Best is trial 50 with value: 0.7804877758026123.\n",
      "Seed set to 42\n"
     ]
    },
    {
     "name": "stdout",
     "output_type": "stream",
     "text": [
      "[Skipping] rnn/test/w2v-3b/batch_size_2048-lr_0.01-optimizer_Adam-hidden_dim_32-num_layers_1-sr_type_max-freeze_False\n",
      "---------- batch_size_2048; lr_0.001; optimizer_Adam; hidden_dim_32; num_layers_1; sentence_representation_max ----------\n"
     ]
    },
    {
     "name": "stderr",
     "output_type": "stream",
     "text": [
      "[I 2024-11-04 02:04:56,024] Trial 303 finished with value: 0.7804877758026123 and parameters: {'hidden_dim': 32, 'num_layers': 1, 'optimizer_name': 'Adam', 'batch_size': 2048, 'learning_rate': 0.001, 'sentence_representation_type': 'max'}. Best is trial 50 with value: 0.7804877758026123.\n",
      "Seed set to 42\n"
     ]
    },
    {
     "name": "stdout",
     "output_type": "stream",
     "text": [
      "[Skipping] rnn/test/w2v-3b/batch_size_2048-lr_0.001-optimizer_Adam-hidden_dim_32-num_layers_1-sr_type_max-freeze_False\n",
      "---------- batch_size_2048; lr_0.001; optimizer_Adam; hidden_dim_32; num_layers_1; sentence_representation_max ----------\n"
     ]
    },
    {
     "name": "stderr",
     "output_type": "stream",
     "text": [
      "[I 2024-11-04 02:04:56,639] Trial 304 finished with value: 0.7804877758026123 and parameters: {'hidden_dim': 32, 'num_layers': 1, 'optimizer_name': 'Adam', 'batch_size': 2048, 'learning_rate': 0.001, 'sentence_representation_type': 'max'}. Best is trial 50 with value: 0.7804877758026123.\n",
      "Seed set to 42\n"
     ]
    },
    {
     "name": "stdout",
     "output_type": "stream",
     "text": [
      "[Skipping] rnn/test/w2v-3b/batch_size_2048-lr_0.001-optimizer_Adam-hidden_dim_32-num_layers_1-sr_type_max-freeze_False\n",
      "---------- batch_size_2048; lr_0.001; optimizer_Adam; hidden_dim_64; num_layers_1; sentence_representation_last ----------\n"
     ]
    },
    {
     "name": "stderr",
     "output_type": "stream",
     "text": [
      "GPU available: True (cuda), used: False\n",
      "TPU available: False, using: 0 TPU cores\n",
      "HPU available: False, using: 0 HPUs\n",
      "\n",
      "  | Name   | Type               | Params | Mode \n",
      "------------------------------------------------------\n",
      "0 | model  | RNN                | 4.9 M  | train\n",
      "1 | metric | MulticlassAccuracy | 0      | train\n",
      "------------------------------------------------------\n",
      "4.9 M     Trainable params\n",
      "0         Non-trainable params\n",
      "4.9 M     Total params\n",
      "19.703    Total estimated model params size (MB)\n",
      "7         Modules in train mode\n",
      "0         Modules in eval mode\n"
     ]
    },
    {
     "data": {
      "application/vnd.jupyter.widget-view+json": {
       "model_id": "bb01a8e8579a4231822534f7728d651e",
       "version_major": 2,
       "version_minor": 0
      },
      "text/plain": [
       "Sanity Checking: |          | 0/? [00:00<?, ?it/s]"
      ]
     },
     "metadata": {},
     "output_type": "display_data"
    },
    {
     "data": {
      "application/vnd.jupyter.widget-view+json": {
       "model_id": "59437794a410497ebd11dd92a00dea41",
       "version_major": 2,
       "version_minor": 0
      },
      "text/plain": [
       "Training: |          | 0/? [00:00<?, ?it/s]"
      ]
     },
     "metadata": {},
     "output_type": "display_data"
    },
    {
     "data": {
      "application/vnd.jupyter.widget-view+json": {
       "model_id": "bf9ce3fd79f341d6919f7d95b50bf017",
       "version_major": 2,
       "version_minor": 0
      },
      "text/plain": [
       "Validation: |          | 0/? [00:00<?, ?it/s]"
      ]
     },
     "metadata": {},
     "output_type": "display_data"
    },
    {
     "data": {
      "application/vnd.jupyter.widget-view+json": {
       "model_id": "66e6df1a17f94cd6a04f65c48d5c531f",
       "version_major": 2,
       "version_minor": 0
      },
      "text/plain": [
       "Validation: |          | 0/? [00:00<?, ?it/s]"
      ]
     },
     "metadata": {},
     "output_type": "display_data"
    },
    {
     "data": {
      "application/vnd.jupyter.widget-view+json": {
       "model_id": "e2fef39950fb41489c34994f967ce213",
       "version_major": 2,
       "version_minor": 0
      },
      "text/plain": [
       "Validation: |          | 0/? [00:00<?, ?it/s]"
      ]
     },
     "metadata": {},
     "output_type": "display_data"
    },
    {
     "data": {
      "application/vnd.jupyter.widget-view+json": {
       "model_id": "1e0a7cee5eae4b44b7e61fa585acb877",
       "version_major": 2,
       "version_minor": 0
      },
      "text/plain": [
       "Validation: |          | 0/? [00:00<?, ?it/s]"
      ]
     },
     "metadata": {},
     "output_type": "display_data"
    },
    {
     "data": {
      "application/vnd.jupyter.widget-view+json": {
       "model_id": "79203d0b0730482595890c628ebb6834",
       "version_major": 2,
       "version_minor": 0
      },
      "text/plain": [
       "Validation: |          | 0/? [00:00<?, ?it/s]"
      ]
     },
     "metadata": {},
     "output_type": "display_data"
    },
    {
     "data": {
      "application/vnd.jupyter.widget-view+json": {
       "model_id": "6c4d2e01d8724d669acee78b6661a293",
       "version_major": 2,
       "version_minor": 0
      },
      "text/plain": [
       "Validation: |          | 0/? [00:00<?, ?it/s]"
      ]
     },
     "metadata": {},
     "output_type": "display_data"
    },
    {
     "data": {
      "application/vnd.jupyter.widget-view+json": {
       "model_id": "0aa45f3228f9497cb03585841a023235",
       "version_major": 2,
       "version_minor": 0
      },
      "text/plain": [
       "Validation: |          | 0/? [00:00<?, ?it/s]"
      ]
     },
     "metadata": {},
     "output_type": "display_data"
    },
    {
     "data": {
      "application/vnd.jupyter.widget-view+json": {
       "model_id": "7a3170a48ddc48f2bb1126b84f799879",
       "version_major": 2,
       "version_minor": 0
      },
      "text/plain": [
       "Validation: |          | 0/? [00:00<?, ?it/s]"
      ]
     },
     "metadata": {},
     "output_type": "display_data"
    },
    {
     "data": {
      "application/vnd.jupyter.widget-view+json": {
       "model_id": "2ec50e0336534d56b3df3811d4171922",
       "version_major": 2,
       "version_minor": 0
      },
      "text/plain": [
       "Validation: |          | 0/? [00:00<?, ?it/s]"
      ]
     },
     "metadata": {},
     "output_type": "display_data"
    },
    {
     "name": "stderr",
     "output_type": "stream",
     "text": [
      "[I 2024-11-04 02:05:48,817] Trial 305 finished with value: 0.7532833218574524 and parameters: {'hidden_dim': 64, 'num_layers': 1, 'optimizer_name': 'Adam', 'batch_size': 2048, 'learning_rate': 0.001, 'sentence_representation_type': 'last'}. Best is trial 50 with value: 0.7804877758026123.\n",
      "Seed set to 42\n"
     ]
    },
    {
     "name": "stdout",
     "output_type": "stream",
     "text": [
      "---------- batch_size_2048; lr_0.1; optimizer_Adam; hidden_dim_32; num_layers_1; sentence_representation_max ----------\n"
     ]
    },
    {
     "name": "stderr",
     "output_type": "stream",
     "text": [
      "[I 2024-11-04 02:05:49,498] Trial 306 finished with value: 0.5 and parameters: {'hidden_dim': 32, 'num_layers': 1, 'optimizer_name': 'Adam', 'batch_size': 2048, 'learning_rate': 0.1, 'sentence_representation_type': 'max'}. Best is trial 50 with value: 0.7804877758026123.\n",
      "Seed set to 42\n"
     ]
    },
    {
     "name": "stdout",
     "output_type": "stream",
     "text": [
      "[Skipping] rnn/test/w2v-3b/batch_size_2048-lr_0.1-optimizer_Adam-hidden_dim_32-num_layers_1-sr_type_max-freeze_False\n",
      "---------- batch_size_2048; lr_0.001; optimizer_Adam; hidden_dim_32; num_layers_1; sentence_representation_max ----------\n"
     ]
    },
    {
     "name": "stderr",
     "output_type": "stream",
     "text": [
      "[I 2024-11-04 02:05:50,115] Trial 307 finished with value: 0.7804877758026123 and parameters: {'hidden_dim': 32, 'num_layers': 1, 'optimizer_name': 'Adam', 'batch_size': 2048, 'learning_rate': 0.001, 'sentence_representation_type': 'max'}. Best is trial 50 with value: 0.7804877758026123.\n",
      "Seed set to 42\n"
     ]
    },
    {
     "name": "stdout",
     "output_type": "stream",
     "text": [
      "[Skipping] rnn/test/w2v-3b/batch_size_2048-lr_0.001-optimizer_Adam-hidden_dim_32-num_layers_1-sr_type_max-freeze_False\n",
      "---------- batch_size_1024; lr_0.001; optimizer_Adam; hidden_dim_32; num_layers_1; sentence_representation_average ----------\n"
     ]
    },
    {
     "name": "stderr",
     "output_type": "stream",
     "text": [
      "GPU available: True (cuda), used: False\n",
      "TPU available: False, using: 0 TPU cores\n",
      "HPU available: False, using: 0 HPUs\n",
      "\n",
      "  | Name   | Type               | Params | Mode \n",
      "------------------------------------------------------\n",
      "0 | model  | RNN                | 4.9 M  | train\n",
      "1 | metric | MulticlassAccuracy | 0      | train\n",
      "------------------------------------------------------\n",
      "4.9 M     Trainable params\n",
      "0         Non-trainable params\n",
      "4.9 M     Total params\n",
      "19.646    Total estimated model params size (MB)\n",
      "7         Modules in train mode\n",
      "0         Modules in eval mode\n"
     ]
    },
    {
     "data": {
      "application/vnd.jupyter.widget-view+json": {
       "model_id": "77a1531cd73b4476b12c64a0171305fe",
       "version_major": 2,
       "version_minor": 0
      },
      "text/plain": [
       "Sanity Checking: |          | 0/? [00:00<?, ?it/s]"
      ]
     },
     "metadata": {},
     "output_type": "display_data"
    },
    {
     "data": {
      "application/vnd.jupyter.widget-view+json": {
       "model_id": "4b0d66859267430b8127bd2846231527",
       "version_major": 2,
       "version_minor": 0
      },
      "text/plain": [
       "Training: |          | 0/? [00:00<?, ?it/s]"
      ]
     },
     "metadata": {},
     "output_type": "display_data"
    },
    {
     "data": {
      "application/vnd.jupyter.widget-view+json": {
       "model_id": "935ee85fb39b493592d0581c0111264b",
       "version_major": 2,
       "version_minor": 0
      },
      "text/plain": [
       "Validation: |          | 0/? [00:00<?, ?it/s]"
      ]
     },
     "metadata": {},
     "output_type": "display_data"
    },
    {
     "data": {
      "application/vnd.jupyter.widget-view+json": {
       "model_id": "20010099065a4c36a946d56c2243d84f",
       "version_major": 2,
       "version_minor": 0
      },
      "text/plain": [
       "Validation: |          | 0/? [00:00<?, ?it/s]"
      ]
     },
     "metadata": {},
     "output_type": "display_data"
    },
    {
     "data": {
      "application/vnd.jupyter.widget-view+json": {
       "model_id": "d465ad5b11a24fc4aedeaced8df6ae16",
       "version_major": 2,
       "version_minor": 0
      },
      "text/plain": [
       "Validation: |          | 0/? [00:00<?, ?it/s]"
      ]
     },
     "metadata": {},
     "output_type": "display_data"
    },
    {
     "data": {
      "application/vnd.jupyter.widget-view+json": {
       "model_id": "d7bbaf7e576443e9ae074e6db3911408",
       "version_major": 2,
       "version_minor": 0
      },
      "text/plain": [
       "Validation: |          | 0/? [00:00<?, ?it/s]"
      ]
     },
     "metadata": {},
     "output_type": "display_data"
    },
    {
     "data": {
      "application/vnd.jupyter.widget-view+json": {
       "model_id": "1f71526e3c4b44ca9ab6281e69b5eba6",
       "version_major": 2,
       "version_minor": 0
      },
      "text/plain": [
       "Validation: |          | 0/? [00:00<?, ?it/s]"
      ]
     },
     "metadata": {},
     "output_type": "display_data"
    },
    {
     "data": {
      "application/vnd.jupyter.widget-view+json": {
       "model_id": "445149b778204a60a21b2aa05db7433c",
       "version_major": 2,
       "version_minor": 0
      },
      "text/plain": [
       "Validation: |          | 0/? [00:00<?, ?it/s]"
      ]
     },
     "metadata": {},
     "output_type": "display_data"
    },
    {
     "data": {
      "application/vnd.jupyter.widget-view+json": {
       "model_id": "ab131539fac1433383d71ef17ebc60e3",
       "version_major": 2,
       "version_minor": 0
      },
      "text/plain": [
       "Validation: |          | 0/? [00:00<?, ?it/s]"
      ]
     },
     "metadata": {},
     "output_type": "display_data"
    },
    {
     "data": {
      "application/vnd.jupyter.widget-view+json": {
       "model_id": "39dbcdf62e4e45a2955eb890e7a730a0",
       "version_major": 2,
       "version_minor": 0
      },
      "text/plain": [
       "Validation: |          | 0/? [00:00<?, ?it/s]"
      ]
     },
     "metadata": {},
     "output_type": "display_data"
    },
    {
     "data": {
      "application/vnd.jupyter.widget-view+json": {
       "model_id": "c63b59740330427f9013f2c59ead9aa3",
       "version_major": 2,
       "version_minor": 0
      },
      "text/plain": [
       "Validation: |          | 0/? [00:00<?, ?it/s]"
      ]
     },
     "metadata": {},
     "output_type": "display_data"
    },
    {
     "data": {
      "application/vnd.jupyter.widget-view+json": {
       "model_id": "fb2581b633a344c791d59f850c046dd8",
       "version_major": 2,
       "version_minor": 0
      },
      "text/plain": [
       "Validation: |          | 0/? [00:00<?, ?it/s]"
      ]
     },
     "metadata": {},
     "output_type": "display_data"
    },
    {
     "data": {
      "application/vnd.jupyter.widget-view+json": {
       "model_id": "323f448064524fb8ab7cf7f921c5d9a1",
       "version_major": 2,
       "version_minor": 0
      },
      "text/plain": [
       "Validation: |          | 0/? [00:00<?, ?it/s]"
      ]
     },
     "metadata": {},
     "output_type": "display_data"
    },
    {
     "name": "stderr",
     "output_type": "stream",
     "text": [
      "[I 2024-11-04 02:06:47,024] Trial 308 finished with value: 0.7490962743759155 and parameters: {'hidden_dim': 32, 'num_layers': 1, 'optimizer_name': 'Adam', 'batch_size': 1024, 'learning_rate': 0.001, 'sentence_representation_type': 'average'}. Best is trial 50 with value: 0.7804877758026123.\n",
      "Seed set to 42\n"
     ]
    },
    {
     "name": "stdout",
     "output_type": "stream",
     "text": [
      "---------- batch_size_512; lr_0.001; optimizer_Adam; hidden_dim_32; num_layers_1; sentence_representation_max ----------\n"
     ]
    },
    {
     "name": "stderr",
     "output_type": "stream",
     "text": [
      "[I 2024-11-04 02:06:47,647] Trial 309 finished with value: 0.5451443195343018 and parameters: {'hidden_dim': 32, 'num_layers': 1, 'optimizer_name': 'Adam', 'batch_size': 512, 'learning_rate': 0.001, 'sentence_representation_type': 'max'}. Best is trial 50 with value: 0.7804877758026123.\n",
      "Seed set to 42\n"
     ]
    },
    {
     "name": "stdout",
     "output_type": "stream",
     "text": [
      "[Skipping] rnn/test/w2v-3b/batch_size_512-lr_0.001-optimizer_Adam-hidden_dim_32-num_layers_1-sr_type_max-freeze_False\n",
      "---------- batch_size_2048; lr_0.001; optimizer_Adam; hidden_dim_256; num_layers_1; sentence_representation_max ----------\n"
     ]
    },
    {
     "name": "stderr",
     "output_type": "stream",
     "text": [
      "[I 2024-11-04 02:06:48,276] Trial 310 finished with value: 0.7692307829856873 and parameters: {'hidden_dim': 256, 'num_layers': 1, 'optimizer_name': 'Adam', 'batch_size': 2048, 'learning_rate': 0.001, 'sentence_representation_type': 'max'}. Best is trial 50 with value: 0.7804877758026123.\n",
      "Seed set to 42\n"
     ]
    },
    {
     "name": "stdout",
     "output_type": "stream",
     "text": [
      "[Skipping] rnn/test/w2v-3b/batch_size_2048-lr_0.001-optimizer_Adam-hidden_dim_256-num_layers_1-sr_type_max-freeze_False\n",
      "---------- batch_size_2048; lr_0.001; optimizer_Adam; hidden_dim_32; num_layers_1; sentence_representation_max ----------\n"
     ]
    },
    {
     "name": "stderr",
     "output_type": "stream",
     "text": [
      "[I 2024-11-04 02:06:48,890] Trial 311 finished with value: 0.7804877758026123 and parameters: {'hidden_dim': 32, 'num_layers': 1, 'optimizer_name': 'Adam', 'batch_size': 2048, 'learning_rate': 0.001, 'sentence_representation_type': 'max'}. Best is trial 50 with value: 0.7804877758026123.\n",
      "Seed set to 42\n"
     ]
    },
    {
     "name": "stdout",
     "output_type": "stream",
     "text": [
      "[Skipping] rnn/test/w2v-3b/batch_size_2048-lr_0.001-optimizer_Adam-hidden_dim_32-num_layers_1-sr_type_max-freeze_False\n",
      "---------- batch_size_2048; lr_0.001; optimizer_Adam; hidden_dim_32; num_layers_1; sentence_representation_max ----------\n"
     ]
    },
    {
     "name": "stderr",
     "output_type": "stream",
     "text": [
      "[I 2024-11-04 02:06:49,574] Trial 312 finished with value: 0.7804877758026123 and parameters: {'hidden_dim': 32, 'num_layers': 1, 'optimizer_name': 'Adam', 'batch_size': 2048, 'learning_rate': 0.001, 'sentence_representation_type': 'max'}. Best is trial 50 with value: 0.7804877758026123.\n",
      "Seed set to 42\n"
     ]
    },
    {
     "name": "stdout",
     "output_type": "stream",
     "text": [
      "[Skipping] rnn/test/w2v-3b/batch_size_2048-lr_0.001-optimizer_Adam-hidden_dim_32-num_layers_1-sr_type_max-freeze_False\n",
      "---------- batch_size_2048; lr_0.001; optimizer_Adam; hidden_dim_32; num_layers_1; sentence_representation_max ----------\n"
     ]
    },
    {
     "name": "stderr",
     "output_type": "stream",
     "text": [
      "[I 2024-11-04 02:06:50,195] Trial 313 finished with value: 0.7804877758026123 and parameters: {'hidden_dim': 32, 'num_layers': 1, 'optimizer_name': 'Adam', 'batch_size': 2048, 'learning_rate': 0.001, 'sentence_representation_type': 'max'}. Best is trial 50 with value: 0.7804877758026123.\n",
      "Seed set to 42\n"
     ]
    },
    {
     "name": "stdout",
     "output_type": "stream",
     "text": [
      "[Skipping] rnn/test/w2v-3b/batch_size_2048-lr_0.001-optimizer_Adam-hidden_dim_32-num_layers_1-sr_type_max-freeze_False\n",
      "---------- batch_size_64; lr_0.001; optimizer_Adam; hidden_dim_32; num_layers_1; sentence_representation_max ----------\n"
     ]
    },
    {
     "name": "stderr",
     "output_type": "stream",
     "text": [
      "[I 2024-11-04 02:06:50,837] Trial 314 finished with value: 0.4108687937259674 and parameters: {'hidden_dim': 32, 'num_layers': 1, 'optimizer_name': 'Adam', 'batch_size': 64, 'learning_rate': 0.001, 'sentence_representation_type': 'max'}. Best is trial 50 with value: 0.7804877758026123.\n",
      "Seed set to 42\n"
     ]
    },
    {
     "name": "stdout",
     "output_type": "stream",
     "text": [
      "[Skipping] rnn/test/w2v-3b/batch_size_64-lr_0.001-optimizer_Adam-hidden_dim_32-num_layers_1-sr_type_max-freeze_False\n",
      "---------- batch_size_2048; lr_0.001; optimizer_Adam; hidden_dim_32; num_layers_1; sentence_representation_max ----------\n"
     ]
    },
    {
     "name": "stderr",
     "output_type": "stream",
     "text": [
      "[I 2024-11-04 02:06:51,477] Trial 315 finished with value: 0.7804877758026123 and parameters: {'hidden_dim': 32, 'num_layers': 1, 'optimizer_name': 'Adam', 'batch_size': 2048, 'learning_rate': 0.001, 'sentence_representation_type': 'max'}. Best is trial 50 with value: 0.7804877758026123.\n",
      "Seed set to 42\n"
     ]
    },
    {
     "name": "stdout",
     "output_type": "stream",
     "text": [
      "[Skipping] rnn/test/w2v-3b/batch_size_2048-lr_0.001-optimizer_Adam-hidden_dim_32-num_layers_1-sr_type_max-freeze_False\n",
      "---------- batch_size_2048; lr_0.001; optimizer_Adam; hidden_dim_32; num_layers_1; sentence_representation_max ----------\n"
     ]
    },
    {
     "name": "stderr",
     "output_type": "stream",
     "text": [
      "[I 2024-11-04 02:06:52,100] Trial 316 finished with value: 0.7804877758026123 and parameters: {'hidden_dim': 32, 'num_layers': 1, 'optimizer_name': 'Adam', 'batch_size': 2048, 'learning_rate': 0.001, 'sentence_representation_type': 'max'}. Best is trial 50 with value: 0.7804877758026123.\n",
      "Seed set to 42\n"
     ]
    },
    {
     "name": "stdout",
     "output_type": "stream",
     "text": [
      "[Skipping] rnn/test/w2v-3b/batch_size_2048-lr_0.001-optimizer_Adam-hidden_dim_32-num_layers_1-sr_type_max-freeze_False\n",
      "---------- batch_size_32; lr_0.001; optimizer_Adam; hidden_dim_32; num_layers_1; sentence_representation_max ----------\n"
     ]
    },
    {
     "name": "stderr",
     "output_type": "stream",
     "text": [
      "[I 2024-11-04 02:06:52,734] Trial 317 finished with value: 0.3944307565689087 and parameters: {'hidden_dim': 32, 'num_layers': 1, 'optimizer_name': 'Adam', 'batch_size': 32, 'learning_rate': 0.001, 'sentence_representation_type': 'max'}. Best is trial 50 with value: 0.7804877758026123.\n",
      "Seed set to 42\n"
     ]
    },
    {
     "name": "stdout",
     "output_type": "stream",
     "text": [
      "[Skipping] rnn/test/w2v-3b/batch_size_32-lr_0.001-optimizer_Adam-hidden_dim_32-num_layers_1-sr_type_max-freeze_False\n",
      "---------- batch_size_2048; lr_0.001; optimizer_Adam; hidden_dim_32; num_layers_1; sentence_representation_max ----------\n"
     ]
    },
    {
     "name": "stderr",
     "output_type": "stream",
     "text": [
      "[I 2024-11-04 02:06:53,396] Trial 318 finished with value: 0.7804877758026123 and parameters: {'hidden_dim': 32, 'num_layers': 1, 'optimizer_name': 'Adam', 'batch_size': 2048, 'learning_rate': 0.001, 'sentence_representation_type': 'max'}. Best is trial 50 with value: 0.7804877758026123.\n",
      "Seed set to 42\n"
     ]
    },
    {
     "name": "stdout",
     "output_type": "stream",
     "text": [
      "[Skipping] rnn/test/w2v-3b/batch_size_2048-lr_0.001-optimizer_Adam-hidden_dim_32-num_layers_1-sr_type_max-freeze_False\n",
      "---------- batch_size_2048; lr_0.001; optimizer_Adam; hidden_dim_32; num_layers_1; sentence_representation_max ----------\n"
     ]
    },
    {
     "name": "stderr",
     "output_type": "stream",
     "text": [
      "[I 2024-11-04 02:06:54,031] Trial 319 finished with value: 0.7804877758026123 and parameters: {'hidden_dim': 32, 'num_layers': 1, 'optimizer_name': 'Adam', 'batch_size': 2048, 'learning_rate': 0.001, 'sentence_representation_type': 'max'}. Best is trial 50 with value: 0.7804877758026123.\n",
      "Seed set to 42\n"
     ]
    },
    {
     "name": "stdout",
     "output_type": "stream",
     "text": [
      "[Skipping] rnn/test/w2v-3b/batch_size_2048-lr_0.001-optimizer_Adam-hidden_dim_32-num_layers_1-sr_type_max-freeze_False\n",
      "---------- batch_size_2048; lr_0.001; optimizer_Adam; hidden_dim_32; num_layers_1; sentence_representation_max ----------\n"
     ]
    },
    {
     "name": "stderr",
     "output_type": "stream",
     "text": [
      "[I 2024-11-04 02:06:54,650] Trial 320 finished with value: 0.7804877758026123 and parameters: {'hidden_dim': 32, 'num_layers': 1, 'optimizer_name': 'Adam', 'batch_size': 2048, 'learning_rate': 0.001, 'sentence_representation_type': 'max'}. Best is trial 50 with value: 0.7804877758026123.\n",
      "Seed set to 42\n"
     ]
    },
    {
     "name": "stdout",
     "output_type": "stream",
     "text": [
      "[Skipping] rnn/test/w2v-3b/batch_size_2048-lr_0.001-optimizer_Adam-hidden_dim_32-num_layers_1-sr_type_max-freeze_False\n",
      "---------- batch_size_128; lr_0.001; optimizer_Adam; hidden_dim_32; num_layers_1; sentence_representation_max ----------\n"
     ]
    },
    {
     "name": "stderr",
     "output_type": "stream",
     "text": [
      "[I 2024-11-04 02:06:55,276] Trial 321 finished with value: 0.4298436939716339 and parameters: {'hidden_dim': 32, 'num_layers': 1, 'optimizer_name': 'Adam', 'batch_size': 128, 'learning_rate': 0.001, 'sentence_representation_type': 'max'}. Best is trial 50 with value: 0.7804877758026123.\n",
      "Seed set to 42\n"
     ]
    },
    {
     "name": "stdout",
     "output_type": "stream",
     "text": [
      "[Skipping] rnn/test/w2v-3b/batch_size_128-lr_0.001-optimizer_Adam-hidden_dim_32-num_layers_1-sr_type_max-freeze_False\n",
      "---------- batch_size_2048; lr_0.001; optimizer_Adam; hidden_dim_32; num_layers_1; sentence_representation_max ----------\n"
     ]
    },
    {
     "name": "stderr",
     "output_type": "stream",
     "text": [
      "[I 2024-11-04 02:06:55,894] Trial 322 finished with value: 0.7804877758026123 and parameters: {'hidden_dim': 32, 'num_layers': 1, 'optimizer_name': 'Adam', 'batch_size': 2048, 'learning_rate': 0.001, 'sentence_representation_type': 'max'}. Best is trial 50 with value: 0.7804877758026123.\n",
      "Seed set to 42\n"
     ]
    },
    {
     "name": "stdout",
     "output_type": "stream",
     "text": [
      "[Skipping] rnn/test/w2v-3b/batch_size_2048-lr_0.001-optimizer_Adam-hidden_dim_32-num_layers_1-sr_type_max-freeze_False\n",
      "---------- batch_size_2048; lr_0.0001; optimizer_Adam; hidden_dim_32; num_layers_3; sentence_representation_max ----------\n"
     ]
    },
    {
     "name": "stderr",
     "output_type": "stream",
     "text": [
      "GPU available: True (cuda), used: False\n",
      "TPU available: False, using: 0 TPU cores\n",
      "HPU available: False, using: 0 HPUs\n",
      "\n",
      "  | Name   | Type               | Params | Mode \n",
      "------------------------------------------------------\n",
      "0 | model  | RNN                | 4.9 M  | train\n",
      "1 | metric | MulticlassAccuracy | 0      | train\n",
      "------------------------------------------------------\n",
      "4.9 M     Trainable params\n",
      "0         Non-trainable params\n",
      "4.9 M     Total params\n",
      "19.663    Total estimated model params size (MB)\n",
      "7         Modules in train mode\n",
      "0         Modules in eval mode\n"
     ]
    },
    {
     "data": {
      "application/vnd.jupyter.widget-view+json": {
       "model_id": "37a8dedb91054f52ad23ae12b6174449",
       "version_major": 2,
       "version_minor": 0
      },
      "text/plain": [
       "Sanity Checking: |          | 0/? [00:00<?, ?it/s]"
      ]
     },
     "metadata": {},
     "output_type": "display_data"
    },
    {
     "data": {
      "application/vnd.jupyter.widget-view+json": {
       "model_id": "3c112ac17de346da9b8f9a7fc441356f",
       "version_major": 2,
       "version_minor": 0
      },
      "text/plain": [
       "Training: |          | 0/? [00:00<?, ?it/s]"
      ]
     },
     "metadata": {},
     "output_type": "display_data"
    },
    {
     "data": {
      "application/vnd.jupyter.widget-view+json": {
       "model_id": "bec7def76942421cb18d8016b2a49d15",
       "version_major": 2,
       "version_minor": 0
      },
      "text/plain": [
       "Validation: |          | 0/? [00:00<?, ?it/s]"
      ]
     },
     "metadata": {},
     "output_type": "display_data"
    },
    {
     "data": {
      "application/vnd.jupyter.widget-view+json": {
       "model_id": "82259b98e9d7434c909b7efeecd544a7",
       "version_major": 2,
       "version_minor": 0
      },
      "text/plain": [
       "Validation: |          | 0/? [00:00<?, ?it/s]"
      ]
     },
     "metadata": {},
     "output_type": "display_data"
    },
    {
     "data": {
      "application/vnd.jupyter.widget-view+json": {
       "model_id": "634f6dbe91d5457294e76431e52f26e1",
       "version_major": 2,
       "version_minor": 0
      },
      "text/plain": [
       "Validation: |          | 0/? [00:00<?, ?it/s]"
      ]
     },
     "metadata": {},
     "output_type": "display_data"
    },
    {
     "data": {
      "application/vnd.jupyter.widget-view+json": {
       "model_id": "d7534aa0282d4a1f9bf1b630af4e2c23",
       "version_major": 2,
       "version_minor": 0
      },
      "text/plain": [
       "Validation: |          | 0/? [00:00<?, ?it/s]"
      ]
     },
     "metadata": {},
     "output_type": "display_data"
    },
    {
     "data": {
      "application/vnd.jupyter.widget-view+json": {
       "model_id": "210484ad6b5346e29ab72d896c3abd90",
       "version_major": 2,
       "version_minor": 0
      },
      "text/plain": [
       "Validation: |          | 0/? [00:00<?, ?it/s]"
      ]
     },
     "metadata": {},
     "output_type": "display_data"
    },
    {
     "data": {
      "application/vnd.jupyter.widget-view+json": {
       "model_id": "bb32bb36199e4d23a98e5a56b14d5d65",
       "version_major": 2,
       "version_minor": 0
      },
      "text/plain": [
       "Validation: |          | 0/? [00:00<?, ?it/s]"
      ]
     },
     "metadata": {},
     "output_type": "display_data"
    },
    {
     "data": {
      "application/vnd.jupyter.widget-view+json": {
       "model_id": "cb4e39b0090344c59a7a18eb12512695",
       "version_major": 2,
       "version_minor": 0
      },
      "text/plain": [
       "Validation: |          | 0/? [00:00<?, ?it/s]"
      ]
     },
     "metadata": {},
     "output_type": "display_data"
    },
    {
     "data": {
      "application/vnd.jupyter.widget-view+json": {
       "model_id": "c94ba75704364f069afd65a1a9638ce6",
       "version_major": 2,
       "version_minor": 0
      },
      "text/plain": [
       "Validation: |          | 0/? [00:00<?, ?it/s]"
      ]
     },
     "metadata": {},
     "output_type": "display_data"
    },
    {
     "data": {
      "application/vnd.jupyter.widget-view+json": {
       "model_id": "34f9f6b6857e4ddba793751132ea579a",
       "version_major": 2,
       "version_minor": 0
      },
      "text/plain": [
       "Validation: |          | 0/? [00:00<?, ?it/s]"
      ]
     },
     "metadata": {},
     "output_type": "display_data"
    },
    {
     "data": {
      "application/vnd.jupyter.widget-view+json": {
       "model_id": "6844e170d0fa4fde81ab5943517047e5",
       "version_major": 2,
       "version_minor": 0
      },
      "text/plain": [
       "Validation: |          | 0/? [00:00<?, ?it/s]"
      ]
     },
     "metadata": {},
     "output_type": "display_data"
    },
    {
     "data": {
      "application/vnd.jupyter.widget-view+json": {
       "model_id": "bdf80c6f183c40189fde66925835cffb",
       "version_major": 2,
       "version_minor": 0
      },
      "text/plain": [
       "Validation: |          | 0/? [00:00<?, ?it/s]"
      ]
     },
     "metadata": {},
     "output_type": "display_data"
    },
    {
     "data": {
      "application/vnd.jupyter.widget-view+json": {
       "model_id": "eb86500a31d74c07b4cf555c1c97e96f",
       "version_major": 2,
       "version_minor": 0
      },
      "text/plain": [
       "Validation: |          | 0/? [00:00<?, ?it/s]"
      ]
     },
     "metadata": {},
     "output_type": "display_data"
    },
    {
     "data": {
      "application/vnd.jupyter.widget-view+json": {
       "model_id": "0910a318b6a944b7a7ba7c1f9859c841",
       "version_major": 2,
       "version_minor": 0
      },
      "text/plain": [
       "Validation: |          | 0/? [00:00<?, ?it/s]"
      ]
     },
     "metadata": {},
     "output_type": "display_data"
    },
    {
     "data": {
      "application/vnd.jupyter.widget-view+json": {
       "model_id": "77f881a950b543288fec9c401c3c64f6",
       "version_major": 2,
       "version_minor": 0
      },
      "text/plain": [
       "Validation: |          | 0/? [00:00<?, ?it/s]"
      ]
     },
     "metadata": {},
     "output_type": "display_data"
    },
    {
     "data": {
      "application/vnd.jupyter.widget-view+json": {
       "model_id": "30837949aa6c47fa9e478f06138b84f5",
       "version_major": 2,
       "version_minor": 0
      },
      "text/plain": [
       "Validation: |          | 0/? [00:00<?, ?it/s]"
      ]
     },
     "metadata": {},
     "output_type": "display_data"
    },
    {
     "data": {
      "application/vnd.jupyter.widget-view+json": {
       "model_id": "8a76656c894743679b7602b2b53e4b8a",
       "version_major": 2,
       "version_minor": 0
      },
      "text/plain": [
       "Validation: |          | 0/? [00:00<?, ?it/s]"
      ]
     },
     "metadata": {},
     "output_type": "display_data"
    },
    {
     "data": {
      "application/vnd.jupyter.widget-view+json": {
       "model_id": "4157528ed3774c228d29305e2ccf1652",
       "version_major": 2,
       "version_minor": 0
      },
      "text/plain": [
       "Validation: |          | 0/? [00:00<?, ?it/s]"
      ]
     },
     "metadata": {},
     "output_type": "display_data"
    },
    {
     "data": {
      "application/vnd.jupyter.widget-view+json": {
       "model_id": "ed8012bcdfc84ac6ba808bd8e4ec41f8",
       "version_major": 2,
       "version_minor": 0
      },
      "text/plain": [
       "Validation: |          | 0/? [00:00<?, ?it/s]"
      ]
     },
     "metadata": {},
     "output_type": "display_data"
    },
    {
     "data": {
      "application/vnd.jupyter.widget-view+json": {
       "model_id": "8df3f7486da74beeb065e92cfef7d64f",
       "version_major": 2,
       "version_minor": 0
      },
      "text/plain": [
       "Validation: |          | 0/? [00:00<?, ?it/s]"
      ]
     },
     "metadata": {},
     "output_type": "display_data"
    },
    {
     "data": {
      "application/vnd.jupyter.widget-view+json": {
       "model_id": "5e6b7590c48a421bbe237d934fd0bca9",
       "version_major": 2,
       "version_minor": 0
      },
      "text/plain": [
       "Validation: |          | 0/? [00:00<?, ?it/s]"
      ]
     },
     "metadata": {},
     "output_type": "display_data"
    },
    {
     "data": {
      "application/vnd.jupyter.widget-view+json": {
       "model_id": "cd246fe67c564d13b61a649bff898aeb",
       "version_major": 2,
       "version_minor": 0
      },
      "text/plain": [
       "Validation: |          | 0/? [00:00<?, ?it/s]"
      ]
     },
     "metadata": {},
     "output_type": "display_data"
    },
    {
     "data": {
      "application/vnd.jupyter.widget-view+json": {
       "model_id": "7bd085e71d5141c4a0b9f2bf6cf36c34",
       "version_major": 2,
       "version_minor": 0
      },
      "text/plain": [
       "Validation: |          | 0/? [00:00<?, ?it/s]"
      ]
     },
     "metadata": {},
     "output_type": "display_data"
    },
    {
     "data": {
      "application/vnd.jupyter.widget-view+json": {
       "model_id": "6b7592eb5c4b44f58e02b118ddb233c5",
       "version_major": 2,
       "version_minor": 0
      },
      "text/plain": [
       "Validation: |          | 0/? [00:00<?, ?it/s]"
      ]
     },
     "metadata": {},
     "output_type": "display_data"
    },
    {
     "data": {
      "application/vnd.jupyter.widget-view+json": {
       "model_id": "04883666aaa2429fa652620eac2c1918",
       "version_major": 2,
       "version_minor": 0
      },
      "text/plain": [
       "Validation: |          | 0/? [00:00<?, ?it/s]"
      ]
     },
     "metadata": {},
     "output_type": "display_data"
    },
    {
     "data": {
      "application/vnd.jupyter.widget-view+json": {
       "model_id": "bb54e4d040b244fdb2f11a5aa6bb92f1",
       "version_major": 2,
       "version_minor": 0
      },
      "text/plain": [
       "Validation: |          | 0/? [00:00<?, ?it/s]"
      ]
     },
     "metadata": {},
     "output_type": "display_data"
    },
    {
     "data": {
      "application/vnd.jupyter.widget-view+json": {
       "model_id": "d84c5cf223e445dd86712736f830a45a",
       "version_major": 2,
       "version_minor": 0
      },
      "text/plain": [
       "Validation: |          | 0/? [00:00<?, ?it/s]"
      ]
     },
     "metadata": {},
     "output_type": "display_data"
    },
    {
     "data": {
      "application/vnd.jupyter.widget-view+json": {
       "model_id": "d22e2817d13b42c6a8a3959f5391ab05",
       "version_major": 2,
       "version_minor": 0
      },
      "text/plain": [
       "Validation: |          | 0/? [00:00<?, ?it/s]"
      ]
     },
     "metadata": {},
     "output_type": "display_data"
    },
    {
     "data": {
      "application/vnd.jupyter.widget-view+json": {
       "model_id": "0243515ba829409a9191134717eaaf4d",
       "version_major": 2,
       "version_minor": 0
      },
      "text/plain": [
       "Validation: |          | 0/? [00:00<?, ?it/s]"
      ]
     },
     "metadata": {},
     "output_type": "display_data"
    },
    {
     "data": {
      "application/vnd.jupyter.widget-view+json": {
       "model_id": "b526014a961c43b5a82386ba1ad9cad0",
       "version_major": 2,
       "version_minor": 0
      },
      "text/plain": [
       "Validation: |          | 0/? [00:00<?, ?it/s]"
      ]
     },
     "metadata": {},
     "output_type": "display_data"
    },
    {
     "data": {
      "application/vnd.jupyter.widget-view+json": {
       "model_id": "7633f51550f54f738b897926c69fb519",
       "version_major": 2,
       "version_minor": 0
      },
      "text/plain": [
       "Validation: |          | 0/? [00:00<?, ?it/s]"
      ]
     },
     "metadata": {},
     "output_type": "display_data"
    },
    {
     "data": {
      "application/vnd.jupyter.widget-view+json": {
       "model_id": "203c363a13cb46bb9033e7e0423e5082",
       "version_major": 2,
       "version_minor": 0
      },
      "text/plain": [
       "Validation: |          | 0/? [00:00<?, ?it/s]"
      ]
     },
     "metadata": {},
     "output_type": "display_data"
    },
    {
     "data": {
      "application/vnd.jupyter.widget-view+json": {
       "model_id": "d49ced9134a04e9faf968e14e705133d",
       "version_major": 2,
       "version_minor": 0
      },
      "text/plain": [
       "Validation: |          | 0/? [00:00<?, ?it/s]"
      ]
     },
     "metadata": {},
     "output_type": "display_data"
    },
    {
     "data": {
      "application/vnd.jupyter.widget-view+json": {
       "model_id": "441c2000f80d4604881920703614612b",
       "version_major": 2,
       "version_minor": 0
      },
      "text/plain": [
       "Validation: |          | 0/? [00:00<?, ?it/s]"
      ]
     },
     "metadata": {},
     "output_type": "display_data"
    },
    {
     "data": {
      "application/vnd.jupyter.widget-view+json": {
       "model_id": "ce16aeec0c7d42f5a07a53ca4f8c29aa",
       "version_major": 2,
       "version_minor": 0
      },
      "text/plain": [
       "Validation: |          | 0/? [00:00<?, ?it/s]"
      ]
     },
     "metadata": {},
     "output_type": "display_data"
    },
    {
     "data": {
      "application/vnd.jupyter.widget-view+json": {
       "model_id": "8800c7379c83422c93630089d80e1e67",
       "version_major": 2,
       "version_minor": 0
      },
      "text/plain": [
       "Validation: |          | 0/? [00:00<?, ?it/s]"
      ]
     },
     "metadata": {},
     "output_type": "display_data"
    },
    {
     "data": {
      "application/vnd.jupyter.widget-view+json": {
       "model_id": "d899319360724b86b2bcca420ec4536d",
       "version_major": 2,
       "version_minor": 0
      },
      "text/plain": [
       "Validation: |          | 0/? [00:00<?, ?it/s]"
      ]
     },
     "metadata": {},
     "output_type": "display_data"
    },
    {
     "data": {
      "application/vnd.jupyter.widget-view+json": {
       "model_id": "1bbb5e40a8104bfbb9a55221537f3d39",
       "version_major": 2,
       "version_minor": 0
      },
      "text/plain": [
       "Validation: |          | 0/? [00:00<?, ?it/s]"
      ]
     },
     "metadata": {},
     "output_type": "display_data"
    },
    {
     "data": {
      "application/vnd.jupyter.widget-view+json": {
       "model_id": "30bd5dd5a27e436ca415eb951cfc2ef2",
       "version_major": 2,
       "version_minor": 0
      },
      "text/plain": [
       "Validation: |          | 0/? [00:00<?, ?it/s]"
      ]
     },
     "metadata": {},
     "output_type": "display_data"
    },
    {
     "data": {
      "application/vnd.jupyter.widget-view+json": {
       "model_id": "7e070d00ffa749dfaae0c37793882f3c",
       "version_major": 2,
       "version_minor": 0
      },
      "text/plain": [
       "Validation: |          | 0/? [00:00<?, ?it/s]"
      ]
     },
     "metadata": {},
     "output_type": "display_data"
    },
    {
     "data": {
      "application/vnd.jupyter.widget-view+json": {
       "model_id": "65e855fb072c46c1bfecc9fe414e20fa",
       "version_major": 2,
       "version_minor": 0
      },
      "text/plain": [
       "Validation: |          | 0/? [00:00<?, ?it/s]"
      ]
     },
     "metadata": {},
     "output_type": "display_data"
    },
    {
     "data": {
      "application/vnd.jupyter.widget-view+json": {
       "model_id": "f94dda9bdb4440a3ac2a89f20617e409",
       "version_major": 2,
       "version_minor": 0
      },
      "text/plain": [
       "Validation: |          | 0/? [00:00<?, ?it/s]"
      ]
     },
     "metadata": {},
     "output_type": "display_data"
    },
    {
     "data": {
      "application/vnd.jupyter.widget-view+json": {
       "model_id": "4725e9c88f904ea2ac4c1ab7d888da51",
       "version_major": 2,
       "version_minor": 0
      },
      "text/plain": [
       "Validation: |          | 0/? [00:00<?, ?it/s]"
      ]
     },
     "metadata": {},
     "output_type": "display_data"
    },
    {
     "data": {
      "application/vnd.jupyter.widget-view+json": {
       "model_id": "b325104229614ab6a7b33388b187ec13",
       "version_major": 2,
       "version_minor": 0
      },
      "text/plain": [
       "Validation: |          | 0/? [00:00<?, ?it/s]"
      ]
     },
     "metadata": {},
     "output_type": "display_data"
    },
    {
     "data": {
      "application/vnd.jupyter.widget-view+json": {
       "model_id": "818fb87850b842538dcfedbe6e1ab6fe",
       "version_major": 2,
       "version_minor": 0
      },
      "text/plain": [
       "Validation: |          | 0/? [00:00<?, ?it/s]"
      ]
     },
     "metadata": {},
     "output_type": "display_data"
    },
    {
     "data": {
      "application/vnd.jupyter.widget-view+json": {
       "model_id": "d15cc80538fd4a3b9b21c1e90a17574a",
       "version_major": 2,
       "version_minor": 0
      },
      "text/plain": [
       "Validation: |          | 0/? [00:00<?, ?it/s]"
      ]
     },
     "metadata": {},
     "output_type": "display_data"
    },
    {
     "data": {
      "application/vnd.jupyter.widget-view+json": {
       "model_id": "0e2c87121ed447a9aed95cf824ee7d70",
       "version_major": 2,
       "version_minor": 0
      },
      "text/plain": [
       "Validation: |          | 0/? [00:00<?, ?it/s]"
      ]
     },
     "metadata": {},
     "output_type": "display_data"
    },
    {
     "data": {
      "application/vnd.jupyter.widget-view+json": {
       "model_id": "08bad92be23e4310898168445c4bc0d0",
       "version_major": 2,
       "version_minor": 0
      },
      "text/plain": [
       "Validation: |          | 0/? [00:00<?, ?it/s]"
      ]
     },
     "metadata": {},
     "output_type": "display_data"
    },
    {
     "name": "stderr",
     "output_type": "stream",
     "text": [
      "[I 2024-11-04 02:09:36,870] Trial 323 finished with value: 0.7457786202430725 and parameters: {'hidden_dim': 32, 'num_layers': 3, 'optimizer_name': 'Adam', 'batch_size': 2048, 'learning_rate': 0.0001, 'sentence_representation_type': 'max'}. Best is trial 50 with value: 0.7804877758026123.\n",
      "Seed set to 42\n"
     ]
    },
    {
     "name": "stdout",
     "output_type": "stream",
     "text": [
      "---------- batch_size_2048; lr_0.001; optimizer_Adam; hidden_dim_128; num_layers_1; sentence_representation_max ----------\n"
     ]
    },
    {
     "name": "stderr",
     "output_type": "stream",
     "text": [
      "[I 2024-11-04 02:09:37,521] Trial 324 finished with value: 0.7682926654815674 and parameters: {'hidden_dim': 128, 'num_layers': 1, 'optimizer_name': 'Adam', 'batch_size': 2048, 'learning_rate': 0.001, 'sentence_representation_type': 'max'}. Best is trial 50 with value: 0.7804877758026123.\n",
      "Seed set to 42\n"
     ]
    },
    {
     "name": "stdout",
     "output_type": "stream",
     "text": [
      "[Skipping] rnn/test/w2v-3b/batch_size_2048-lr_0.001-optimizer_Adam-hidden_dim_128-num_layers_1-sr_type_max-freeze_False\n",
      "---------- batch_size_2048; lr_0.001; optimizer_Adam; hidden_dim_32; num_layers_1; sentence_representation_max ----------\n"
     ]
    },
    {
     "name": "stderr",
     "output_type": "stream",
     "text": [
      "[I 2024-11-04 02:09:38,146] Trial 325 finished with value: 0.7804877758026123 and parameters: {'hidden_dim': 32, 'num_layers': 1, 'optimizer_name': 'Adam', 'batch_size': 2048, 'learning_rate': 0.001, 'sentence_representation_type': 'max'}. Best is trial 50 with value: 0.7804877758026123.\n",
      "Seed set to 42\n"
     ]
    },
    {
     "name": "stdout",
     "output_type": "stream",
     "text": [
      "[Skipping] rnn/test/w2v-3b/batch_size_2048-lr_0.001-optimizer_Adam-hidden_dim_32-num_layers_1-sr_type_max-freeze_False\n",
      "---------- batch_size_2048; lr_0.01; optimizer_Adam; hidden_dim_32; num_layers_1; sentence_representation_max ----------\n"
     ]
    },
    {
     "name": "stderr",
     "output_type": "stream",
     "text": [
      "[I 2024-11-04 02:09:38,771] Trial 326 finished with value: 0.7682926654815674 and parameters: {'hidden_dim': 32, 'num_layers': 1, 'optimizer_name': 'Adam', 'batch_size': 2048, 'learning_rate': 0.01, 'sentence_representation_type': 'max'}. Best is trial 50 with value: 0.7804877758026123.\n",
      "Seed set to 42\n"
     ]
    },
    {
     "name": "stdout",
     "output_type": "stream",
     "text": [
      "[Skipping] rnn/test/w2v-3b/batch_size_2048-lr_0.01-optimizer_Adam-hidden_dim_32-num_layers_1-sr_type_max-freeze_False\n",
      "---------- batch_size_2048; lr_0.001; optimizer_Adam; hidden_dim_32; num_layers_1; sentence_representation_last ----------\n"
     ]
    },
    {
     "name": "stderr",
     "output_type": "stream",
     "text": [
      "[I 2024-11-04 02:09:39,386] Trial 327 finished with value: 0.7467166781425476 and parameters: {'hidden_dim': 32, 'num_layers': 1, 'optimizer_name': 'Adam', 'batch_size': 2048, 'learning_rate': 0.001, 'sentence_representation_type': 'last'}. Best is trial 50 with value: 0.7804877758026123.\n",
      "Seed set to 42\n"
     ]
    },
    {
     "name": "stdout",
     "output_type": "stream",
     "text": [
      "[Skipping] rnn/test/w2v-3b/batch_size_2048-lr_0.001-optimizer_Adam-hidden_dim_32-num_layers_1-sr_type_last-freeze_False\n",
      "---------- batch_size_2048; lr_0.001; optimizer_Adam; hidden_dim_32; num_layers_1; sentence_representation_max ----------\n"
     ]
    },
    {
     "name": "stderr",
     "output_type": "stream",
     "text": [
      "[I 2024-11-04 02:09:40,011] Trial 328 finished with value: 0.7804877758026123 and parameters: {'hidden_dim': 32, 'num_layers': 1, 'optimizer_name': 'Adam', 'batch_size': 2048, 'learning_rate': 0.001, 'sentence_representation_type': 'max'}. Best is trial 50 with value: 0.7804877758026123.\n",
      "Seed set to 42\n"
     ]
    },
    {
     "name": "stdout",
     "output_type": "stream",
     "text": [
      "[Skipping] rnn/test/w2v-3b/batch_size_2048-lr_0.001-optimizer_Adam-hidden_dim_32-num_layers_1-sr_type_max-freeze_False\n",
      "---------- batch_size_256; lr_0.001; optimizer_Adam; hidden_dim_32; num_layers_1; sentence_representation_max ----------\n"
     ]
    },
    {
     "name": "stderr",
     "output_type": "stream",
     "text": [
      "[I 2024-11-04 02:09:40,653] Trial 329 finished with value: 0.47315362095832825 and parameters: {'hidden_dim': 32, 'num_layers': 1, 'optimizer_name': 'Adam', 'batch_size': 256, 'learning_rate': 0.001, 'sentence_representation_type': 'max'}. Best is trial 50 with value: 0.7804877758026123.\n",
      "Seed set to 42\n"
     ]
    },
    {
     "name": "stdout",
     "output_type": "stream",
     "text": [
      "[Skipping] rnn/test/w2v-3b/batch_size_256-lr_0.001-optimizer_Adam-hidden_dim_32-num_layers_1-sr_type_max-freeze_False\n",
      "---------- batch_size_2048; lr_0.001; optimizer_Adam; hidden_dim_64; num_layers_1; sentence_representation_average ----------\n"
     ]
    },
    {
     "name": "stderr",
     "output_type": "stream",
     "text": [
      "GPU available: True (cuda), used: False\n",
      "TPU available: False, using: 0 TPU cores\n",
      "HPU available: False, using: 0 HPUs\n",
      "\n",
      "  | Name   | Type               | Params | Mode \n",
      "------------------------------------------------------\n",
      "0 | model  | RNN                | 4.9 M  | train\n",
      "1 | metric | MulticlassAccuracy | 0      | train\n",
      "------------------------------------------------------\n",
      "4.9 M     Trainable params\n",
      "0         Non-trainable params\n",
      "4.9 M     Total params\n",
      "19.703    Total estimated model params size (MB)\n",
      "7         Modules in train mode\n",
      "0         Modules in eval mode\n"
     ]
    },
    {
     "data": {
      "application/vnd.jupyter.widget-view+json": {
       "model_id": "f1cc13c2e36b45c891f3652864450935",
       "version_major": 2,
       "version_minor": 0
      },
      "text/plain": [
       "Sanity Checking: |          | 0/? [00:00<?, ?it/s]"
      ]
     },
     "metadata": {},
     "output_type": "display_data"
    },
    {
     "data": {
      "application/vnd.jupyter.widget-view+json": {
       "model_id": "6bacaa81c9c240f99a0f03a85d2912ae",
       "version_major": 2,
       "version_minor": 0
      },
      "text/plain": [
       "Training: |          | 0/? [00:00<?, ?it/s]"
      ]
     },
     "metadata": {},
     "output_type": "display_data"
    },
    {
     "data": {
      "application/vnd.jupyter.widget-view+json": {
       "model_id": "10b8d89db27f46b694b71e0bcaa74853",
       "version_major": 2,
       "version_minor": 0
      },
      "text/plain": [
       "Validation: |          | 0/? [00:00<?, ?it/s]"
      ]
     },
     "metadata": {},
     "output_type": "display_data"
    },
    {
     "data": {
      "application/vnd.jupyter.widget-view+json": {
       "model_id": "55676e291f52473fb11d0ac098323445",
       "version_major": 2,
       "version_minor": 0
      },
      "text/plain": [
       "Validation: |          | 0/? [00:00<?, ?it/s]"
      ]
     },
     "metadata": {},
     "output_type": "display_data"
    },
    {
     "data": {
      "application/vnd.jupyter.widget-view+json": {
       "model_id": "30af02eba7c1491db8f042c37419cd75",
       "version_major": 2,
       "version_minor": 0
      },
      "text/plain": [
       "Validation: |          | 0/? [00:00<?, ?it/s]"
      ]
     },
     "metadata": {},
     "output_type": "display_data"
    },
    {
     "data": {
      "application/vnd.jupyter.widget-view+json": {
       "model_id": "270c7b27590846de96fc89297749799b",
       "version_major": 2,
       "version_minor": 0
      },
      "text/plain": [
       "Validation: |          | 0/? [00:00<?, ?it/s]"
      ]
     },
     "metadata": {},
     "output_type": "display_data"
    },
    {
     "data": {
      "application/vnd.jupyter.widget-view+json": {
       "model_id": "bfb0f392a85847efa59a150398d7f842",
       "version_major": 2,
       "version_minor": 0
      },
      "text/plain": [
       "Validation: |          | 0/? [00:00<?, ?it/s]"
      ]
     },
     "metadata": {},
     "output_type": "display_data"
    },
    {
     "data": {
      "application/vnd.jupyter.widget-view+json": {
       "model_id": "2ca32e4f67f0492db212c2fb4c6263f4",
       "version_major": 2,
       "version_minor": 0
      },
      "text/plain": [
       "Validation: |          | 0/? [00:00<?, ?it/s]"
      ]
     },
     "metadata": {},
     "output_type": "display_data"
    },
    {
     "data": {
      "application/vnd.jupyter.widget-view+json": {
       "model_id": "8d1d9e0b45574d18aa7e11da7d74ad5b",
       "version_major": 2,
       "version_minor": 0
      },
      "text/plain": [
       "Validation: |          | 0/? [00:00<?, ?it/s]"
      ]
     },
     "metadata": {},
     "output_type": "display_data"
    },
    {
     "data": {
      "application/vnd.jupyter.widget-view+json": {
       "model_id": "acca37172d7948db8f23dd17fcb88673",
       "version_major": 2,
       "version_minor": 0
      },
      "text/plain": [
       "Validation: |          | 0/? [00:00<?, ?it/s]"
      ]
     },
     "metadata": {},
     "output_type": "display_data"
    },
    {
     "data": {
      "application/vnd.jupyter.widget-view+json": {
       "model_id": "633fc605c14642eb8dafd809239ec87a",
       "version_major": 2,
       "version_minor": 0
      },
      "text/plain": [
       "Validation: |          | 0/? [00:00<?, ?it/s]"
      ]
     },
     "metadata": {},
     "output_type": "display_data"
    },
    {
     "data": {
      "application/vnd.jupyter.widget-view+json": {
       "model_id": "0dd49e137f9f47dfa22e6b5d50c2a4bc",
       "version_major": 2,
       "version_minor": 0
      },
      "text/plain": [
       "Validation: |          | 0/? [00:00<?, ?it/s]"
      ]
     },
     "metadata": {},
     "output_type": "display_data"
    },
    {
     "data": {
      "application/vnd.jupyter.widget-view+json": {
       "model_id": "396ac823ea6c4202a35d000709c037bc",
       "version_major": 2,
       "version_minor": 0
      },
      "text/plain": [
       "Validation: |          | 0/? [00:00<?, ?it/s]"
      ]
     },
     "metadata": {},
     "output_type": "display_data"
    },
    {
     "data": {
      "application/vnd.jupyter.widget-view+json": {
       "model_id": "1de19b6aa5d041248ecfebff0aa072aa",
       "version_major": 2,
       "version_minor": 0
      },
      "text/plain": [
       "Validation: |          | 0/? [00:00<?, ?it/s]"
      ]
     },
     "metadata": {},
     "output_type": "display_data"
    },
    {
     "name": "stderr",
     "output_type": "stream",
     "text": [
      "[I 2024-11-04 02:10:54,130] Trial 330 finished with value: 0.7504690885543823 and parameters: {'hidden_dim': 64, 'num_layers': 1, 'optimizer_name': 'Adam', 'batch_size': 2048, 'learning_rate': 0.001, 'sentence_representation_type': 'average'}. Best is trial 50 with value: 0.7804877758026123.\n",
      "Seed set to 42\n"
     ]
    },
    {
     "name": "stdout",
     "output_type": "stream",
     "text": [
      "---------- batch_size_2048; lr_0.1; optimizer_Adam; hidden_dim_32; num_layers_1; sentence_representation_max ----------\n"
     ]
    },
    {
     "name": "stderr",
     "output_type": "stream",
     "text": [
      "[I 2024-11-04 02:10:54,831] Trial 331 finished with value: 0.5 and parameters: {'hidden_dim': 32, 'num_layers': 1, 'optimizer_name': 'Adam', 'batch_size': 2048, 'learning_rate': 0.1, 'sentence_representation_type': 'max'}. Best is trial 50 with value: 0.7804877758026123.\n",
      "Seed set to 42\n"
     ]
    },
    {
     "name": "stdout",
     "output_type": "stream",
     "text": [
      "[Skipping] rnn/test/w2v-3b/batch_size_2048-lr_0.1-optimizer_Adam-hidden_dim_32-num_layers_1-sr_type_max-freeze_False\n",
      "---------- batch_size_2048; lr_0.001; optimizer_Adam; hidden_dim_32; num_layers_1; sentence_representation_max ----------\n"
     ]
    },
    {
     "name": "stderr",
     "output_type": "stream",
     "text": [
      "[I 2024-11-04 02:10:55,438] Trial 332 finished with value: 0.7804877758026123 and parameters: {'hidden_dim': 32, 'num_layers': 1, 'optimizer_name': 'Adam', 'batch_size': 2048, 'learning_rate': 0.001, 'sentence_representation_type': 'max'}. Best is trial 50 with value: 0.7804877758026123.\n",
      "Seed set to 42\n"
     ]
    },
    {
     "name": "stdout",
     "output_type": "stream",
     "text": [
      "[Skipping] rnn/test/w2v-3b/batch_size_2048-lr_0.001-optimizer_Adam-hidden_dim_32-num_layers_1-sr_type_max-freeze_False\n",
      "---------- batch_size_2048; lr_0.001; optimizer_Adam; hidden_dim_32; num_layers_1; sentence_representation_max ----------\n"
     ]
    },
    {
     "name": "stderr",
     "output_type": "stream",
     "text": [
      "[I 2024-11-04 02:10:56,067] Trial 333 finished with value: 0.7804877758026123 and parameters: {'hidden_dim': 32, 'num_layers': 1, 'optimizer_name': 'Adam', 'batch_size': 2048, 'learning_rate': 0.001, 'sentence_representation_type': 'max'}. Best is trial 50 with value: 0.7804877758026123.\n",
      "Seed set to 42\n"
     ]
    },
    {
     "name": "stdout",
     "output_type": "stream",
     "text": [
      "[Skipping] rnn/test/w2v-3b/batch_size_2048-lr_0.001-optimizer_Adam-hidden_dim_32-num_layers_1-sr_type_max-freeze_False\n",
      "---------- batch_size_512; lr_0.001; optimizer_Adam; hidden_dim_256; num_layers_1; sentence_representation_max ----------\n"
     ]
    },
    {
     "name": "stderr",
     "output_type": "stream",
     "text": [
      "[I 2024-11-04 02:10:56,683] Trial 334 finished with value: 0.551480770111084 and parameters: {'hidden_dim': 256, 'num_layers': 1, 'optimizer_name': 'Adam', 'batch_size': 512, 'learning_rate': 0.001, 'sentence_representation_type': 'max'}. Best is trial 50 with value: 0.7804877758026123.\n",
      "Seed set to 42\n"
     ]
    },
    {
     "name": "stdout",
     "output_type": "stream",
     "text": [
      "[Skipping] rnn/test/w2v-3b/batch_size_512-lr_0.001-optimizer_Adam-hidden_dim_256-num_layers_1-sr_type_max-freeze_False\n",
      "---------- batch_size_2048; lr_0.001; optimizer_Adam; hidden_dim_32; num_layers_1; sentence_representation_max ----------\n"
     ]
    },
    {
     "name": "stderr",
     "output_type": "stream",
     "text": [
      "[I 2024-11-04 02:10:57,332] Trial 335 finished with value: 0.7804877758026123 and parameters: {'hidden_dim': 32, 'num_layers': 1, 'optimizer_name': 'Adam', 'batch_size': 2048, 'learning_rate': 0.001, 'sentence_representation_type': 'max'}. Best is trial 50 with value: 0.7804877758026123.\n",
      "Seed set to 42\n"
     ]
    },
    {
     "name": "stdout",
     "output_type": "stream",
     "text": [
      "[Skipping] rnn/test/w2v-3b/batch_size_2048-lr_0.001-optimizer_Adam-hidden_dim_32-num_layers_1-sr_type_max-freeze_False\n",
      "---------- batch_size_2048; lr_0.001; optimizer_Adam; hidden_dim_32; num_layers_1; sentence_representation_max ----------\n"
     ]
    },
    {
     "name": "stderr",
     "output_type": "stream",
     "text": [
      "[I 2024-11-04 02:10:57,972] Trial 336 finished with value: 0.7804877758026123 and parameters: {'hidden_dim': 32, 'num_layers': 1, 'optimizer_name': 'Adam', 'batch_size': 2048, 'learning_rate': 0.001, 'sentence_representation_type': 'max'}. Best is trial 50 with value: 0.7804877758026123.\n",
      "Seed set to 42\n"
     ]
    },
    {
     "name": "stdout",
     "output_type": "stream",
     "text": [
      "[Skipping] rnn/test/w2v-3b/batch_size_2048-lr_0.001-optimizer_Adam-hidden_dim_32-num_layers_1-sr_type_max-freeze_False\n",
      "---------- batch_size_2048; lr_0.001; optimizer_Adam; hidden_dim_32; num_layers_1; sentence_representation_max ----------\n"
     ]
    },
    {
     "name": "stderr",
     "output_type": "stream",
     "text": [
      "[I 2024-11-04 02:10:58,638] Trial 337 finished with value: 0.7804877758026123 and parameters: {'hidden_dim': 32, 'num_layers': 1, 'optimizer_name': 'Adam', 'batch_size': 2048, 'learning_rate': 0.001, 'sentence_representation_type': 'max'}. Best is trial 50 with value: 0.7804877758026123.\n",
      "Seed set to 42\n"
     ]
    },
    {
     "name": "stdout",
     "output_type": "stream",
     "text": [
      "[Skipping] rnn/test/w2v-3b/batch_size_2048-lr_0.001-optimizer_Adam-hidden_dim_32-num_layers_1-sr_type_max-freeze_False\n",
      "---------- batch_size_1024; lr_0.001; optimizer_Adam; hidden_dim_32; num_layers_1; sentence_representation_max ----------\n"
     ]
    },
    {
     "name": "stderr",
     "output_type": "stream",
     "text": [
      "[I 2024-11-04 02:10:59,261] Trial 338 finished with value: 0.7682369947433472 and parameters: {'hidden_dim': 32, 'num_layers': 1, 'optimizer_name': 'Adam', 'batch_size': 1024, 'learning_rate': 0.001, 'sentence_representation_type': 'max'}. Best is trial 50 with value: 0.7804877758026123.\n",
      "Seed set to 42\n"
     ]
    },
    {
     "name": "stdout",
     "output_type": "stream",
     "text": [
      "[Skipping] rnn/test/w2v-3b/batch_size_1024-lr_0.001-optimizer_Adam-hidden_dim_32-num_layers_1-sr_type_max-freeze_False\n",
      "---------- batch_size_2048; lr_0.001; optimizer_Adam; hidden_dim_32; num_layers_1; sentence_representation_max ----------\n"
     ]
    },
    {
     "name": "stderr",
     "output_type": "stream",
     "text": [
      "[I 2024-11-04 02:10:59,910] Trial 339 finished with value: 0.7804877758026123 and parameters: {'hidden_dim': 32, 'num_layers': 1, 'optimizer_name': 'Adam', 'batch_size': 2048, 'learning_rate': 0.001, 'sentence_representation_type': 'max'}. Best is trial 50 with value: 0.7804877758026123.\n",
      "Seed set to 42\n"
     ]
    },
    {
     "name": "stdout",
     "output_type": "stream",
     "text": [
      "[Skipping] rnn/test/w2v-3b/batch_size_2048-lr_0.001-optimizer_Adam-hidden_dim_32-num_layers_1-sr_type_max-freeze_False\n",
      "---------- batch_size_2048; lr_0.001; optimizer_Adam; hidden_dim_32; num_layers_1; sentence_representation_max ----------\n"
     ]
    },
    {
     "name": "stderr",
     "output_type": "stream",
     "text": [
      "[I 2024-11-04 02:11:00,545] Trial 340 finished with value: 0.7804877758026123 and parameters: {'hidden_dim': 32, 'num_layers': 1, 'optimizer_name': 'Adam', 'batch_size': 2048, 'learning_rate': 0.001, 'sentence_representation_type': 'max'}. Best is trial 50 with value: 0.7804877758026123.\n",
      "Seed set to 42\n"
     ]
    },
    {
     "name": "stdout",
     "output_type": "stream",
     "text": [
      "[Skipping] rnn/test/w2v-3b/batch_size_2048-lr_0.001-optimizer_Adam-hidden_dim_32-num_layers_1-sr_type_max-freeze_False\n",
      "---------- batch_size_2048; lr_0.001; optimizer_Adam; hidden_dim_32; num_layers_1; sentence_representation_max ----------\n"
     ]
    },
    {
     "name": "stderr",
     "output_type": "stream",
     "text": [
      "[I 2024-11-04 02:11:01,171] Trial 341 finished with value: 0.7804877758026123 and parameters: {'hidden_dim': 32, 'num_layers': 1, 'optimizer_name': 'Adam', 'batch_size': 2048, 'learning_rate': 0.001, 'sentence_representation_type': 'max'}. Best is trial 50 with value: 0.7804877758026123.\n",
      "Seed set to 42\n"
     ]
    },
    {
     "name": "stdout",
     "output_type": "stream",
     "text": [
      "[Skipping] rnn/test/w2v-3b/batch_size_2048-lr_0.001-optimizer_Adam-hidden_dim_32-num_layers_1-sr_type_max-freeze_False\n",
      "---------- batch_size_2048; lr_0.001; optimizer_Adam; hidden_dim_32; num_layers_1; sentence_representation_max ----------\n"
     ]
    },
    {
     "name": "stderr",
     "output_type": "stream",
     "text": [
      "[I 2024-11-04 02:11:01,896] Trial 342 finished with value: 0.7804877758026123 and parameters: {'hidden_dim': 32, 'num_layers': 1, 'optimizer_name': 'Adam', 'batch_size': 2048, 'learning_rate': 0.001, 'sentence_representation_type': 'max'}. Best is trial 50 with value: 0.7804877758026123.\n",
      "Seed set to 42\n"
     ]
    },
    {
     "name": "stdout",
     "output_type": "stream",
     "text": [
      "[Skipping] rnn/test/w2v-3b/batch_size_2048-lr_0.001-optimizer_Adam-hidden_dim_32-num_layers_1-sr_type_max-freeze_False\n",
      "---------- batch_size_2048; lr_0.001; optimizer_Adam; hidden_dim_32; num_layers_1; sentence_representation_max ----------\n"
     ]
    },
    {
     "name": "stderr",
     "output_type": "stream",
     "text": [
      "[I 2024-11-04 02:11:02,529] Trial 343 finished with value: 0.7804877758026123 and parameters: {'hidden_dim': 32, 'num_layers': 1, 'optimizer_name': 'Adam', 'batch_size': 2048, 'learning_rate': 0.001, 'sentence_representation_type': 'max'}. Best is trial 50 with value: 0.7804877758026123.\n",
      "Seed set to 42\n"
     ]
    },
    {
     "name": "stdout",
     "output_type": "stream",
     "text": [
      "[Skipping] rnn/test/w2v-3b/batch_size_2048-lr_0.001-optimizer_Adam-hidden_dim_32-num_layers_1-sr_type_max-freeze_False\n",
      "---------- batch_size_2048; lr_0.001; optimizer_Adam; hidden_dim_32; num_layers_1; sentence_representation_max ----------\n"
     ]
    },
    {
     "name": "stderr",
     "output_type": "stream",
     "text": [
      "[I 2024-11-04 02:11:03,157] Trial 344 finished with value: 0.7804877758026123 and parameters: {'hidden_dim': 32, 'num_layers': 1, 'optimizer_name': 'Adam', 'batch_size': 2048, 'learning_rate': 0.001, 'sentence_representation_type': 'max'}. Best is trial 50 with value: 0.7804877758026123.\n",
      "Seed set to 42\n"
     ]
    },
    {
     "name": "stdout",
     "output_type": "stream",
     "text": [
      "[Skipping] rnn/test/w2v-3b/batch_size_2048-lr_0.001-optimizer_Adam-hidden_dim_32-num_layers_1-sr_type_max-freeze_False\n",
      "---------- batch_size_64; lr_0.001; optimizer_Adam; hidden_dim_32; num_layers_1; sentence_representation_max ----------\n"
     ]
    },
    {
     "name": "stderr",
     "output_type": "stream",
     "text": [
      "[I 2024-11-04 02:11:03,771] Trial 345 finished with value: 0.4108687937259674 and parameters: {'hidden_dim': 32, 'num_layers': 1, 'optimizer_name': 'Adam', 'batch_size': 64, 'learning_rate': 0.001, 'sentence_representation_type': 'max'}. Best is trial 50 with value: 0.7804877758026123.\n",
      "Seed set to 42\n"
     ]
    },
    {
     "name": "stdout",
     "output_type": "stream",
     "text": [
      "[Skipping] rnn/test/w2v-3b/batch_size_64-lr_0.001-optimizer_Adam-hidden_dim_32-num_layers_1-sr_type_max-freeze_False\n",
      "---------- batch_size_2048; lr_0.0001; optimizer_Adam; hidden_dim_32; num_layers_2; sentence_representation_max ----------\n"
     ]
    },
    {
     "name": "stderr",
     "output_type": "stream",
     "text": [
      "[I 2024-11-04 02:11:04,398] Trial 346 finished with value: 0.5 and parameters: {'hidden_dim': 32, 'num_layers': 2, 'optimizer_name': 'Adam', 'batch_size': 2048, 'learning_rate': 0.0001, 'sentence_representation_type': 'max'}. Best is trial 50 with value: 0.7804877758026123.\n",
      "Seed set to 42\n"
     ]
    },
    {
     "name": "stdout",
     "output_type": "stream",
     "text": [
      "[Skipping] rnn/test/w2v-3b/batch_size_2048-lr_0.0001-optimizer_Adam-hidden_dim_32-num_layers_2-sr_type_max-freeze_False\n",
      "---------- batch_size_32; lr_0.001; optimizer_Adam; hidden_dim_32; num_layers_1; sentence_representation_max ----------\n"
     ]
    },
    {
     "name": "stderr",
     "output_type": "stream",
     "text": [
      "[I 2024-11-04 02:11:05,041] Trial 347 finished with value: 0.3944307565689087 and parameters: {'hidden_dim': 32, 'num_layers': 1, 'optimizer_name': 'Adam', 'batch_size': 32, 'learning_rate': 0.001, 'sentence_representation_type': 'max'}. Best is trial 50 with value: 0.7804877758026123.\n",
      "Seed set to 42\n"
     ]
    },
    {
     "name": "stdout",
     "output_type": "stream",
     "text": [
      "[Skipping] rnn/test/w2v-3b/batch_size_32-lr_0.001-optimizer_Adam-hidden_dim_32-num_layers_1-sr_type_max-freeze_False\n",
      "---------- batch_size_2048; lr_0.001; optimizer_Adam; hidden_dim_128; num_layers_1; sentence_representation_max ----------\n"
     ]
    },
    {
     "name": "stderr",
     "output_type": "stream",
     "text": [
      "[I 2024-11-04 02:11:05,697] Trial 348 finished with value: 0.7682926654815674 and parameters: {'hidden_dim': 128, 'num_layers': 1, 'optimizer_name': 'Adam', 'batch_size': 2048, 'learning_rate': 0.001, 'sentence_representation_type': 'max'}. Best is trial 50 with value: 0.7804877758026123.\n",
      "Seed set to 42\n"
     ]
    },
    {
     "name": "stdout",
     "output_type": "stream",
     "text": [
      "[Skipping] rnn/test/w2v-3b/batch_size_2048-lr_0.001-optimizer_Adam-hidden_dim_128-num_layers_1-sr_type_max-freeze_False\n",
      "---------- batch_size_2048; lr_0.01; optimizer_Adam; hidden_dim_32; num_layers_1; sentence_representation_max ----------\n"
     ]
    },
    {
     "name": "stderr",
     "output_type": "stream",
     "text": [
      "[I 2024-11-04 02:11:06,323] Trial 349 finished with value: 0.7682926654815674 and parameters: {'hidden_dim': 32, 'num_layers': 1, 'optimizer_name': 'Adam', 'batch_size': 2048, 'learning_rate': 0.01, 'sentence_representation_type': 'max'}. Best is trial 50 with value: 0.7804877758026123.\n",
      "Seed set to 42\n"
     ]
    },
    {
     "name": "stdout",
     "output_type": "stream",
     "text": [
      "[Skipping] rnn/test/w2v-3b/batch_size_2048-lr_0.01-optimizer_Adam-hidden_dim_32-num_layers_1-sr_type_max-freeze_False\n",
      "---------- batch_size_128; lr_0.001; optimizer_Adam; hidden_dim_32; num_layers_1; sentence_representation_last ----------\n"
     ]
    },
    {
     "name": "stderr",
     "output_type": "stream",
     "text": [
      "GPU available: True (cuda), used: False\n",
      "TPU available: False, using: 0 TPU cores\n",
      "HPU available: False, using: 0 HPUs\n",
      "\n",
      "  | Name   | Type               | Params | Mode \n",
      "------------------------------------------------------\n",
      "0 | model  | RNN                | 4.9 M  | train\n",
      "1 | metric | MulticlassAccuracy | 0      | train\n",
      "------------------------------------------------------\n",
      "4.9 M     Trainable params\n",
      "0         Non-trainable params\n",
      "4.9 M     Total params\n",
      "19.646    Total estimated model params size (MB)\n",
      "7         Modules in train mode\n",
      "0         Modules in eval mode\n"
     ]
    },
    {
     "data": {
      "application/vnd.jupyter.widget-view+json": {
       "model_id": "e68045869c0547a0a6bc185fe63ce0d3",
       "version_major": 2,
       "version_minor": 0
      },
      "text/plain": [
       "Sanity Checking: |          | 0/? [00:00<?, ?it/s]"
      ]
     },
     "metadata": {},
     "output_type": "display_data"
    },
    {
     "data": {
      "application/vnd.jupyter.widget-view+json": {
       "model_id": "7964587f3e694a578c6a4812368d21cc",
       "version_major": 2,
       "version_minor": 0
      },
      "text/plain": [
       "Training: |          | 0/? [00:00<?, ?it/s]"
      ]
     },
     "metadata": {},
     "output_type": "display_data"
    },
    {
     "data": {
      "application/vnd.jupyter.widget-view+json": {
       "model_id": "f8de385bd14f4e69966104fd7cfc7984",
       "version_major": 2,
       "version_minor": 0
      },
      "text/plain": [
       "Validation: |          | 0/? [00:00<?, ?it/s]"
      ]
     },
     "metadata": {},
     "output_type": "display_data"
    },
    {
     "data": {
      "application/vnd.jupyter.widget-view+json": {
       "model_id": "cbc804cec36742a4970d4279ddd22228",
       "version_major": 2,
       "version_minor": 0
      },
      "text/plain": [
       "Validation: |          | 0/? [00:00<?, ?it/s]"
      ]
     },
     "metadata": {},
     "output_type": "display_data"
    },
    {
     "data": {
      "application/vnd.jupyter.widget-view+json": {
       "model_id": "5395e94eeea34ec9859270888e1486b2",
       "version_major": 2,
       "version_minor": 0
      },
      "text/plain": [
       "Validation: |          | 0/? [00:00<?, ?it/s]"
      ]
     },
     "metadata": {},
     "output_type": "display_data"
    },
    {
     "data": {
      "application/vnd.jupyter.widget-view+json": {
       "model_id": "8f80412a9a5d463ba52e5c99e4d18278",
       "version_major": 2,
       "version_minor": 0
      },
      "text/plain": [
       "Validation: |          | 0/? [00:00<?, ?it/s]"
      ]
     },
     "metadata": {},
     "output_type": "display_data"
    },
    {
     "data": {
      "application/vnd.jupyter.widget-view+json": {
       "model_id": "74367c7d070249009ce89272ab835184",
       "version_major": 2,
       "version_minor": 0
      },
      "text/plain": [
       "Validation: |          | 0/? [00:00<?, ?it/s]"
      ]
     },
     "metadata": {},
     "output_type": "display_data"
    },
    {
     "name": "stderr",
     "output_type": "stream",
     "text": [
      "[I 2024-11-04 02:11:59,831] Trial 350 finished with value: 0.4243045449256897 and parameters: {'hidden_dim': 32, 'num_layers': 1, 'optimizer_name': 'Adam', 'batch_size': 128, 'learning_rate': 0.001, 'sentence_representation_type': 'last'}. Best is trial 50 with value: 0.7804877758026123.\n",
      "Seed set to 42\n"
     ]
    },
    {
     "name": "stdout",
     "output_type": "stream",
     "text": [
      "---------- batch_size_2048; lr_0.001; optimizer_Adam; hidden_dim_32; num_layers_1; sentence_representation_max ----------\n"
     ]
    },
    {
     "name": "stderr",
     "output_type": "stream",
     "text": [
      "[I 2024-11-04 02:12:00,514] Trial 351 finished with value: 0.7804877758026123 and parameters: {'hidden_dim': 32, 'num_layers': 1, 'optimizer_name': 'Adam', 'batch_size': 2048, 'learning_rate': 0.001, 'sentence_representation_type': 'max'}. Best is trial 50 with value: 0.7804877758026123.\n",
      "Seed set to 42\n"
     ]
    },
    {
     "name": "stdout",
     "output_type": "stream",
     "text": [
      "[Skipping] rnn/test/w2v-3b/batch_size_2048-lr_0.001-optimizer_Adam-hidden_dim_32-num_layers_1-sr_type_max-freeze_False\n",
      "---------- batch_size_2048; lr_0.001; optimizer_Adam; hidden_dim_32; num_layers_1; sentence_representation_average ----------\n"
     ]
    },
    {
     "name": "stderr",
     "output_type": "stream",
     "text": [
      "[I 2024-11-04 02:12:01,137] Trial 352 finished with value: 0.7514071464538574 and parameters: {'hidden_dim': 32, 'num_layers': 1, 'optimizer_name': 'Adam', 'batch_size': 2048, 'learning_rate': 0.001, 'sentence_representation_type': 'average'}. Best is trial 50 with value: 0.7804877758026123.\n",
      "Seed set to 42\n"
     ]
    },
    {
     "name": "stdout",
     "output_type": "stream",
     "text": [
      "[Skipping] rnn/test/w2v-3b/batch_size_2048-lr_0.001-optimizer_Adam-hidden_dim_32-num_layers_1-sr_type_average-freeze_False\n",
      "---------- batch_size_2048; lr_0.001; optimizer_Adam; hidden_dim_32; num_layers_1; sentence_representation_max ----------\n"
     ]
    },
    {
     "name": "stderr",
     "output_type": "stream",
     "text": [
      "[I 2024-11-04 02:12:01,829] Trial 353 finished with value: 0.7804877758026123 and parameters: {'hidden_dim': 32, 'num_layers': 1, 'optimizer_name': 'Adam', 'batch_size': 2048, 'learning_rate': 0.001, 'sentence_representation_type': 'max'}. Best is trial 50 with value: 0.7804877758026123.\n",
      "Seed set to 42\n"
     ]
    },
    {
     "name": "stdout",
     "output_type": "stream",
     "text": [
      "[Skipping] rnn/test/w2v-3b/batch_size_2048-lr_0.001-optimizer_Adam-hidden_dim_32-num_layers_1-sr_type_max-freeze_False\n",
      "---------- batch_size_2048; lr_0.1; optimizer_Adam; hidden_dim_32; num_layers_1; sentence_representation_max ----------\n"
     ]
    },
    {
     "name": "stderr",
     "output_type": "stream",
     "text": [
      "[I 2024-11-04 02:12:02,457] Trial 354 finished with value: 0.5 and parameters: {'hidden_dim': 32, 'num_layers': 1, 'optimizer_name': 'Adam', 'batch_size': 2048, 'learning_rate': 0.1, 'sentence_representation_type': 'max'}. Best is trial 50 with value: 0.7804877758026123.\n",
      "Seed set to 42\n"
     ]
    },
    {
     "name": "stdout",
     "output_type": "stream",
     "text": [
      "[Skipping] rnn/test/w2v-3b/batch_size_2048-lr_0.1-optimizer_Adam-hidden_dim_32-num_layers_1-sr_type_max-freeze_False\n",
      "---------- batch_size_2048; lr_0.001; optimizer_Adam; hidden_dim_64; num_layers_1; sentence_representation_max ----------\n"
     ]
    },
    {
     "name": "stderr",
     "output_type": "stream",
     "text": [
      "[I 2024-11-04 02:12:03,081] Trial 355 finished with value: 0.7589118480682373 and parameters: {'hidden_dim': 64, 'num_layers': 1, 'optimizer_name': 'Adam', 'batch_size': 2048, 'learning_rate': 0.001, 'sentence_representation_type': 'max'}. Best is trial 50 with value: 0.7804877758026123.\n",
      "Seed set to 42\n"
     ]
    },
    {
     "name": "stdout",
     "output_type": "stream",
     "text": [
      "[Skipping] rnn/test/w2v-3b/batch_size_2048-lr_0.001-optimizer_Adam-hidden_dim_64-num_layers_1-sr_type_max-freeze_False\n",
      "---------- batch_size_2048; lr_0.001; optimizer_Adam; hidden_dim_32; num_layers_2; sentence_representation_max ----------\n"
     ]
    },
    {
     "name": "stderr",
     "output_type": "stream",
     "text": [
      "[I 2024-11-04 02:12:03,737] Trial 356 finished with value: 0.7636022567749023 and parameters: {'hidden_dim': 32, 'num_layers': 2, 'optimizer_name': 'Adam', 'batch_size': 2048, 'learning_rate': 0.001, 'sentence_representation_type': 'max'}. Best is trial 50 with value: 0.7804877758026123.\n",
      "Seed set to 42\n"
     ]
    },
    {
     "name": "stdout",
     "output_type": "stream",
     "text": [
      "[Skipping] rnn/test/w2v-3b/batch_size_2048-lr_0.001-optimizer_Adam-hidden_dim_32-num_layers_2-sr_type_max-freeze_False\n",
      "---------- batch_size_2048; lr_0.001; optimizer_Adam; hidden_dim_32; num_layers_1; sentence_representation_max ----------\n"
     ]
    },
    {
     "name": "stderr",
     "output_type": "stream",
     "text": [
      "[I 2024-11-04 02:12:04,373] Trial 357 finished with value: 0.7804877758026123 and parameters: {'hidden_dim': 32, 'num_layers': 1, 'optimizer_name': 'Adam', 'batch_size': 2048, 'learning_rate': 0.001, 'sentence_representation_type': 'max'}. Best is trial 50 with value: 0.7804877758026123.\n",
      "Seed set to 42\n"
     ]
    },
    {
     "name": "stdout",
     "output_type": "stream",
     "text": [
      "[Skipping] rnn/test/w2v-3b/batch_size_2048-lr_0.001-optimizer_Adam-hidden_dim_32-num_layers_1-sr_type_max-freeze_False\n",
      "---------- batch_size_256; lr_0.001; optimizer_Adam; hidden_dim_32; num_layers_1; sentence_representation_max ----------\n"
     ]
    },
    {
     "name": "stderr",
     "output_type": "stream",
     "text": [
      "[I 2024-11-04 02:12:05,001] Trial 358 finished with value: 0.47315362095832825 and parameters: {'hidden_dim': 32, 'num_layers': 1, 'optimizer_name': 'Adam', 'batch_size': 256, 'learning_rate': 0.001, 'sentence_representation_type': 'max'}. Best is trial 50 with value: 0.7804877758026123.\n",
      "Seed set to 42\n"
     ]
    },
    {
     "name": "stdout",
     "output_type": "stream",
     "text": [
      "[Skipping] rnn/test/w2v-3b/batch_size_256-lr_0.001-optimizer_Adam-hidden_dim_32-num_layers_1-sr_type_max-freeze_False\n",
      "---------- batch_size_2048; lr_0.001; optimizer_Adam; hidden_dim_32; num_layers_1; sentence_representation_max ----------\n"
     ]
    },
    {
     "name": "stderr",
     "output_type": "stream",
     "text": [
      "[I 2024-11-04 02:12:05,625] Trial 359 finished with value: 0.7804877758026123 and parameters: {'hidden_dim': 32, 'num_layers': 1, 'optimizer_name': 'Adam', 'batch_size': 2048, 'learning_rate': 0.001, 'sentence_representation_type': 'max'}. Best is trial 50 with value: 0.7804877758026123.\n",
      "Seed set to 42\n"
     ]
    },
    {
     "name": "stdout",
     "output_type": "stream",
     "text": [
      "[Skipping] rnn/test/w2v-3b/batch_size_2048-lr_0.001-optimizer_Adam-hidden_dim_32-num_layers_1-sr_type_max-freeze_False\n",
      "---------- batch_size_2048; lr_0.001; optimizer_Adam; hidden_dim_256; num_layers_1; sentence_representation_max ----------\n"
     ]
    },
    {
     "name": "stderr",
     "output_type": "stream",
     "text": [
      "[I 2024-11-04 02:12:06,248] Trial 360 finished with value: 0.7692307829856873 and parameters: {'hidden_dim': 256, 'num_layers': 1, 'optimizer_name': 'Adam', 'batch_size': 2048, 'learning_rate': 0.001, 'sentence_representation_type': 'max'}. Best is trial 50 with value: 0.7804877758026123.\n",
      "Seed set to 42\n"
     ]
    },
    {
     "name": "stdout",
     "output_type": "stream",
     "text": [
      "[Skipping] rnn/test/w2v-3b/batch_size_2048-lr_0.001-optimizer_Adam-hidden_dim_256-num_layers_1-sr_type_max-freeze_False\n",
      "---------- batch_size_2048; lr_0.001; optimizer_Adam; hidden_dim_32; num_layers_1; sentence_representation_max ----------\n"
     ]
    },
    {
     "name": "stderr",
     "output_type": "stream",
     "text": [
      "[I 2024-11-04 02:12:06,899] Trial 361 finished with value: 0.7804877758026123 and parameters: {'hidden_dim': 32, 'num_layers': 1, 'optimizer_name': 'Adam', 'batch_size': 2048, 'learning_rate': 0.001, 'sentence_representation_type': 'max'}. Best is trial 50 with value: 0.7804877758026123.\n",
      "Seed set to 42\n"
     ]
    },
    {
     "name": "stdout",
     "output_type": "stream",
     "text": [
      "[Skipping] rnn/test/w2v-3b/batch_size_2048-lr_0.001-optimizer_Adam-hidden_dim_32-num_layers_1-sr_type_max-freeze_False\n",
      "---------- batch_size_2048; lr_0.001; optimizer_Adam; hidden_dim_32; num_layers_1; sentence_representation_max ----------\n"
     ]
    },
    {
     "name": "stderr",
     "output_type": "stream",
     "text": [
      "[I 2024-11-04 02:12:07,546] Trial 362 finished with value: 0.7804877758026123 and parameters: {'hidden_dim': 32, 'num_layers': 1, 'optimizer_name': 'Adam', 'batch_size': 2048, 'learning_rate': 0.001, 'sentence_representation_type': 'max'}. Best is trial 50 with value: 0.7804877758026123.\n",
      "Seed set to 42\n"
     ]
    },
    {
     "name": "stdout",
     "output_type": "stream",
     "text": [
      "[Skipping] rnn/test/w2v-3b/batch_size_2048-lr_0.001-optimizer_Adam-hidden_dim_32-num_layers_1-sr_type_max-freeze_False\n",
      "---------- batch_size_2048; lr_0.001; optimizer_Adam; hidden_dim_32; num_layers_1; sentence_representation_max ----------\n"
     ]
    },
    {
     "name": "stderr",
     "output_type": "stream",
     "text": [
      "[I 2024-11-04 02:12:08,158] Trial 363 finished with value: 0.7804877758026123 and parameters: {'hidden_dim': 32, 'num_layers': 1, 'optimizer_name': 'Adam', 'batch_size': 2048, 'learning_rate': 0.001, 'sentence_representation_type': 'max'}. Best is trial 50 with value: 0.7804877758026123.\n",
      "Seed set to 42\n"
     ]
    },
    {
     "name": "stdout",
     "output_type": "stream",
     "text": [
      "[Skipping] rnn/test/w2v-3b/batch_size_2048-lr_0.001-optimizer_Adam-hidden_dim_32-num_layers_1-sr_type_max-freeze_False\n",
      "---------- batch_size_2048; lr_0.001; optimizer_Adam; hidden_dim_32; num_layers_1; sentence_representation_max ----------\n"
     ]
    },
    {
     "name": "stderr",
     "output_type": "stream",
     "text": [
      "[I 2024-11-04 02:12:08,775] Trial 364 finished with value: 0.7804877758026123 and parameters: {'hidden_dim': 32, 'num_layers': 1, 'optimizer_name': 'Adam', 'batch_size': 2048, 'learning_rate': 0.001, 'sentence_representation_type': 'max'}. Best is trial 50 with value: 0.7804877758026123.\n",
      "Seed set to 42\n"
     ]
    },
    {
     "name": "stdout",
     "output_type": "stream",
     "text": [
      "[Skipping] rnn/test/w2v-3b/batch_size_2048-lr_0.001-optimizer_Adam-hidden_dim_32-num_layers_1-sr_type_max-freeze_False\n",
      "---------- batch_size_512; lr_0.001; optimizer_Adam; hidden_dim_32; num_layers_1; sentence_representation_max ----------\n"
     ]
    },
    {
     "name": "stderr",
     "output_type": "stream",
     "text": [
      "[I 2024-11-04 02:12:09,430] Trial 365 finished with value: 0.5451443195343018 and parameters: {'hidden_dim': 32, 'num_layers': 1, 'optimizer_name': 'Adam', 'batch_size': 512, 'learning_rate': 0.001, 'sentence_representation_type': 'max'}. Best is trial 50 with value: 0.7804877758026123.\n",
      "Seed set to 42\n"
     ]
    },
    {
     "name": "stdout",
     "output_type": "stream",
     "text": [
      "[Skipping] rnn/test/w2v-3b/batch_size_512-lr_0.001-optimizer_Adam-hidden_dim_32-num_layers_1-sr_type_max-freeze_False\n",
      "---------- batch_size_2048; lr_0.001; optimizer_Adam; hidden_dim_32; num_layers_1; sentence_representation_max ----------\n"
     ]
    },
    {
     "name": "stderr",
     "output_type": "stream",
     "text": [
      "[I 2024-11-04 02:12:10,085] Trial 366 finished with value: 0.7804877758026123 and parameters: {'hidden_dim': 32, 'num_layers': 1, 'optimizer_name': 'Adam', 'batch_size': 2048, 'learning_rate': 0.001, 'sentence_representation_type': 'max'}. Best is trial 50 with value: 0.7804877758026123.\n",
      "Seed set to 42\n"
     ]
    },
    {
     "name": "stdout",
     "output_type": "stream",
     "text": [
      "[Skipping] rnn/test/w2v-3b/batch_size_2048-lr_0.001-optimizer_Adam-hidden_dim_32-num_layers_1-sr_type_max-freeze_False\n",
      "---------- batch_size_1024; lr_0.001; optimizer_Adam; hidden_dim_32; num_layers_1; sentence_representation_max ----------\n"
     ]
    },
    {
     "name": "stderr",
     "output_type": "stream",
     "text": [
      "[I 2024-11-04 02:12:10,749] Trial 367 finished with value: 0.7682369947433472 and parameters: {'hidden_dim': 32, 'num_layers': 1, 'optimizer_name': 'Adam', 'batch_size': 1024, 'learning_rate': 0.001, 'sentence_representation_type': 'max'}. Best is trial 50 with value: 0.7804877758026123.\n",
      "Seed set to 42\n"
     ]
    },
    {
     "name": "stdout",
     "output_type": "stream",
     "text": [
      "[Skipping] rnn/test/w2v-3b/batch_size_1024-lr_0.001-optimizer_Adam-hidden_dim_32-num_layers_1-sr_type_max-freeze_False\n",
      "---------- batch_size_2048; lr_0.001; optimizer_Adam; hidden_dim_32; num_layers_1; sentence_representation_max ----------\n"
     ]
    },
    {
     "name": "stderr",
     "output_type": "stream",
     "text": [
      "[I 2024-11-04 02:12:11,382] Trial 368 finished with value: 0.7804877758026123 and parameters: {'hidden_dim': 32, 'num_layers': 1, 'optimizer_name': 'Adam', 'batch_size': 2048, 'learning_rate': 0.001, 'sentence_representation_type': 'max'}. Best is trial 50 with value: 0.7804877758026123.\n",
      "Seed set to 42\n"
     ]
    },
    {
     "name": "stdout",
     "output_type": "stream",
     "text": [
      "[Skipping] rnn/test/w2v-3b/batch_size_2048-lr_0.001-optimizer_Adam-hidden_dim_32-num_layers_1-sr_type_max-freeze_False\n",
      "---------- batch_size_2048; lr_0.001; optimizer_Adam; hidden_dim_32; num_layers_1; sentence_representation_max ----------\n"
     ]
    },
    {
     "name": "stderr",
     "output_type": "stream",
     "text": [
      "[I 2024-11-04 02:12:12,014] Trial 369 finished with value: 0.7804877758026123 and parameters: {'hidden_dim': 32, 'num_layers': 1, 'optimizer_name': 'Adam', 'batch_size': 2048, 'learning_rate': 0.001, 'sentence_representation_type': 'max'}. Best is trial 50 with value: 0.7804877758026123.\n",
      "Seed set to 42\n"
     ]
    },
    {
     "name": "stdout",
     "output_type": "stream",
     "text": [
      "[Skipping] rnn/test/w2v-3b/batch_size_2048-lr_0.001-optimizer_Adam-hidden_dim_32-num_layers_1-sr_type_max-freeze_False\n",
      "---------- batch_size_2048; lr_0.001; optimizer_Adam; hidden_dim_32; num_layers_1; sentence_representation_max ----------\n"
     ]
    },
    {
     "name": "stderr",
     "output_type": "stream",
     "text": [
      "[I 2024-11-04 02:12:12,678] Trial 370 finished with value: 0.7804877758026123 and parameters: {'hidden_dim': 32, 'num_layers': 1, 'optimizer_name': 'Adam', 'batch_size': 2048, 'learning_rate': 0.001, 'sentence_representation_type': 'max'}. Best is trial 50 with value: 0.7804877758026123.\n",
      "Seed set to 42\n"
     ]
    },
    {
     "name": "stdout",
     "output_type": "stream",
     "text": [
      "[Skipping] rnn/test/w2v-3b/batch_size_2048-lr_0.001-optimizer_Adam-hidden_dim_32-num_layers_1-sr_type_max-freeze_False\n",
      "---------- batch_size_2048; lr_0.0001; optimizer_Adam; hidden_dim_32; num_layers_1; sentence_representation_last ----------\n"
     ]
    },
    {
     "name": "stderr",
     "output_type": "stream",
     "text": [
      "GPU available: True (cuda), used: False\n",
      "TPU available: False, using: 0 TPU cores\n",
      "HPU available: False, using: 0 HPUs\n",
      "\n",
      "  | Name   | Type               | Params | Mode \n",
      "------------------------------------------------------\n",
      "0 | model  | RNN                | 4.9 M  | train\n",
      "1 | metric | MulticlassAccuracy | 0      | train\n",
      "------------------------------------------------------\n",
      "4.9 M     Trainable params\n",
      "0         Non-trainable params\n",
      "4.9 M     Total params\n",
      "19.646    Total estimated model params size (MB)\n",
      "7         Modules in train mode\n",
      "0         Modules in eval mode\n"
     ]
    },
    {
     "data": {
      "application/vnd.jupyter.widget-view+json": {
       "model_id": "2ccfc3df4dbd49a2be4dbaa6430e3272",
       "version_major": 2,
       "version_minor": 0
      },
      "text/plain": [
       "Sanity Checking: |          | 0/? [00:00<?, ?it/s]"
      ]
     },
     "metadata": {},
     "output_type": "display_data"
    },
    {
     "data": {
      "application/vnd.jupyter.widget-view+json": {
       "model_id": "0b90c24d2b9648c2be8d1a5d26cf92fb",
       "version_major": 2,
       "version_minor": 0
      },
      "text/plain": [
       "Training: |          | 0/? [00:00<?, ?it/s]"
      ]
     },
     "metadata": {},
     "output_type": "display_data"
    },
    {
     "data": {
      "application/vnd.jupyter.widget-view+json": {
       "model_id": "6a53086508de4b8490c60854c2815539",
       "version_major": 2,
       "version_minor": 0
      },
      "text/plain": [
       "Validation: |          | 0/? [00:00<?, ?it/s]"
      ]
     },
     "metadata": {},
     "output_type": "display_data"
    },
    {
     "data": {
      "application/vnd.jupyter.widget-view+json": {
       "model_id": "496d82c109cc4b359aea0a224fcc5cf7",
       "version_major": 2,
       "version_minor": 0
      },
      "text/plain": [
       "Validation: |          | 0/? [00:00<?, ?it/s]"
      ]
     },
     "metadata": {},
     "output_type": "display_data"
    },
    {
     "data": {
      "application/vnd.jupyter.widget-view+json": {
       "model_id": "a0059cc5143b4fbf94844682acefd55f",
       "version_major": 2,
       "version_minor": 0
      },
      "text/plain": [
       "Validation: |          | 0/? [00:00<?, ?it/s]"
      ]
     },
     "metadata": {},
     "output_type": "display_data"
    },
    {
     "data": {
      "application/vnd.jupyter.widget-view+json": {
       "model_id": "76aec6da21014173aff0c2786fcf2d7d",
       "version_major": 2,
       "version_minor": 0
      },
      "text/plain": [
       "Validation: |          | 0/? [00:00<?, ?it/s]"
      ]
     },
     "metadata": {},
     "output_type": "display_data"
    },
    {
     "data": {
      "application/vnd.jupyter.widget-view+json": {
       "model_id": "628f02843f93494e8f0feb3538d269ac",
       "version_major": 2,
       "version_minor": 0
      },
      "text/plain": [
       "Validation: |          | 0/? [00:00<?, ?it/s]"
      ]
     },
     "metadata": {},
     "output_type": "display_data"
    },
    {
     "data": {
      "application/vnd.jupyter.widget-view+json": {
       "model_id": "ea97d39c53b6427980f8642c6b6ca9fc",
       "version_major": 2,
       "version_minor": 0
      },
      "text/plain": [
       "Validation: |          | 0/? [00:00<?, ?it/s]"
      ]
     },
     "metadata": {},
     "output_type": "display_data"
    },
    {
     "data": {
      "application/vnd.jupyter.widget-view+json": {
       "model_id": "827bd2e507ab40d4a18a411cb8a8fe27",
       "version_major": 2,
       "version_minor": 0
      },
      "text/plain": [
       "Validation: |          | 0/? [00:00<?, ?it/s]"
      ]
     },
     "metadata": {},
     "output_type": "display_data"
    },
    {
     "data": {
      "application/vnd.jupyter.widget-view+json": {
       "model_id": "8bc8cbdb4fd44dc28aef6a247486307e",
       "version_major": 2,
       "version_minor": 0
      },
      "text/plain": [
       "Validation: |          | 0/? [00:00<?, ?it/s]"
      ]
     },
     "metadata": {},
     "output_type": "display_data"
    },
    {
     "data": {
      "application/vnd.jupyter.widget-view+json": {
       "model_id": "4291cf881ee5457d8c541042271f8575",
       "version_major": 2,
       "version_minor": 0
      },
      "text/plain": [
       "Validation: |          | 0/? [00:00<?, ?it/s]"
      ]
     },
     "metadata": {},
     "output_type": "display_data"
    },
    {
     "data": {
      "application/vnd.jupyter.widget-view+json": {
       "model_id": "5cd22c2c36234ebb80f8652d01fba748",
       "version_major": 2,
       "version_minor": 0
      },
      "text/plain": [
       "Validation: |          | 0/? [00:00<?, ?it/s]"
      ]
     },
     "metadata": {},
     "output_type": "display_data"
    },
    {
     "data": {
      "application/vnd.jupyter.widget-view+json": {
       "model_id": "0536e057963848ad87ac7db1800fc873",
       "version_major": 2,
       "version_minor": 0
      },
      "text/plain": [
       "Validation: |          | 0/? [00:00<?, ?it/s]"
      ]
     },
     "metadata": {},
     "output_type": "display_data"
    },
    {
     "data": {
      "application/vnd.jupyter.widget-view+json": {
       "model_id": "78e01384d7db489c9fcc4b2cd05cc86b",
       "version_major": 2,
       "version_minor": 0
      },
      "text/plain": [
       "Validation: |          | 0/? [00:00<?, ?it/s]"
      ]
     },
     "metadata": {},
     "output_type": "display_data"
    },
    {
     "data": {
      "application/vnd.jupyter.widget-view+json": {
       "model_id": "d5d8b5515ad548b3af806b100a6debd5",
       "version_major": 2,
       "version_minor": 0
      },
      "text/plain": [
       "Validation: |          | 0/? [00:00<?, ?it/s]"
      ]
     },
     "metadata": {},
     "output_type": "display_data"
    },
    {
     "data": {
      "application/vnd.jupyter.widget-view+json": {
       "model_id": "77ebbfbaa1be4c91a0116c2044abd00d",
       "version_major": 2,
       "version_minor": 0
      },
      "text/plain": [
       "Validation: |          | 0/? [00:00<?, ?it/s]"
      ]
     },
     "metadata": {},
     "output_type": "display_data"
    },
    {
     "data": {
      "application/vnd.jupyter.widget-view+json": {
       "model_id": "c0892a1d84544966a737e6bd043cadc1",
       "version_major": 2,
       "version_minor": 0
      },
      "text/plain": [
       "Validation: |          | 0/? [00:00<?, ?it/s]"
      ]
     },
     "metadata": {},
     "output_type": "display_data"
    },
    {
     "data": {
      "application/vnd.jupyter.widget-view+json": {
       "model_id": "aa42b5bdda364b95babeb63f51a493a9",
       "version_major": 2,
       "version_minor": 0
      },
      "text/plain": [
       "Validation: |          | 0/? [00:00<?, ?it/s]"
      ]
     },
     "metadata": {},
     "output_type": "display_data"
    },
    {
     "data": {
      "application/vnd.jupyter.widget-view+json": {
       "model_id": "976fbd9618eb4c19aece53a98953f5aa",
       "version_major": 2,
       "version_minor": 0
      },
      "text/plain": [
       "Validation: |          | 0/? [00:00<?, ?it/s]"
      ]
     },
     "metadata": {},
     "output_type": "display_data"
    },
    {
     "data": {
      "application/vnd.jupyter.widget-view+json": {
       "model_id": "8755421f7f334117ad7a9e6953c449ee",
       "version_major": 2,
       "version_minor": 0
      },
      "text/plain": [
       "Validation: |          | 0/? [00:00<?, ?it/s]"
      ]
     },
     "metadata": {},
     "output_type": "display_data"
    },
    {
     "data": {
      "application/vnd.jupyter.widget-view+json": {
       "model_id": "c2704528ef8a44b7af758d66bc242172",
       "version_major": 2,
       "version_minor": 0
      },
      "text/plain": [
       "Validation: |          | 0/? [00:00<?, ?it/s]"
      ]
     },
     "metadata": {},
     "output_type": "display_data"
    },
    {
     "data": {
      "application/vnd.jupyter.widget-view+json": {
       "model_id": "3e2de446d4414cb09ead237ffe0dd644",
       "version_major": 2,
       "version_minor": 0
      },
      "text/plain": [
       "Validation: |          | 0/? [00:00<?, ?it/s]"
      ]
     },
     "metadata": {},
     "output_type": "display_data"
    },
    {
     "data": {
      "application/vnd.jupyter.widget-view+json": {
       "model_id": "bf7c90d8143f4aee8685ba2073d4af16",
       "version_major": 2,
       "version_minor": 0
      },
      "text/plain": [
       "Validation: |          | 0/? [00:00<?, ?it/s]"
      ]
     },
     "metadata": {},
     "output_type": "display_data"
    },
    {
     "data": {
      "application/vnd.jupyter.widget-view+json": {
       "model_id": "f9c0da93f7eb48f48d3f6e30760f9dbe",
       "version_major": 2,
       "version_minor": 0
      },
      "text/plain": [
       "Validation: |          | 0/? [00:00<?, ?it/s]"
      ]
     },
     "metadata": {},
     "output_type": "display_data"
    },
    {
     "data": {
      "application/vnd.jupyter.widget-view+json": {
       "model_id": "0dac3d181ec64abf8d787ef99e8c9145",
       "version_major": 2,
       "version_minor": 0
      },
      "text/plain": [
       "Validation: |          | 0/? [00:00<?, ?it/s]"
      ]
     },
     "metadata": {},
     "output_type": "display_data"
    },
    {
     "data": {
      "application/vnd.jupyter.widget-view+json": {
       "model_id": "2591361b0bf44a33af991324588a4432",
       "version_major": 2,
       "version_minor": 0
      },
      "text/plain": [
       "Validation: |          | 0/? [00:00<?, ?it/s]"
      ]
     },
     "metadata": {},
     "output_type": "display_data"
    },
    {
     "data": {
      "application/vnd.jupyter.widget-view+json": {
       "model_id": "6ad8b4f2b59c4afdbba9db555bd728db",
       "version_major": 2,
       "version_minor": 0
      },
      "text/plain": [
       "Validation: |          | 0/? [00:00<?, ?it/s]"
      ]
     },
     "metadata": {},
     "output_type": "display_data"
    },
    {
     "data": {
      "application/vnd.jupyter.widget-view+json": {
       "model_id": "5ba566388d5742ce914d368df94ead0d",
       "version_major": 2,
       "version_minor": 0
      },
      "text/plain": [
       "Validation: |          | 0/? [00:00<?, ?it/s]"
      ]
     },
     "metadata": {},
     "output_type": "display_data"
    },
    {
     "data": {
      "application/vnd.jupyter.widget-view+json": {
       "model_id": "cc834abaf95044578eaf3f08b547918e",
       "version_major": 2,
       "version_minor": 0
      },
      "text/plain": [
       "Validation: |          | 0/? [00:00<?, ?it/s]"
      ]
     },
     "metadata": {},
     "output_type": "display_data"
    },
    {
     "data": {
      "application/vnd.jupyter.widget-view+json": {
       "model_id": "85915909e72046ebb1c5546b6742781e",
       "version_major": 2,
       "version_minor": 0
      },
      "text/plain": [
       "Validation: |          | 0/? [00:00<?, ?it/s]"
      ]
     },
     "metadata": {},
     "output_type": "display_data"
    },
    {
     "data": {
      "application/vnd.jupyter.widget-view+json": {
       "model_id": "d3c7dced4c90417f9e279b93b397270e",
       "version_major": 2,
       "version_minor": 0
      },
      "text/plain": [
       "Validation: |          | 0/? [00:00<?, ?it/s]"
      ]
     },
     "metadata": {},
     "output_type": "display_data"
    },
    {
     "data": {
      "application/vnd.jupyter.widget-view+json": {
       "model_id": "fd5024ed17f44eb0bf593414f710b562",
       "version_major": 2,
       "version_minor": 0
      },
      "text/plain": [
       "Validation: |          | 0/? [00:00<?, ?it/s]"
      ]
     },
     "metadata": {},
     "output_type": "display_data"
    },
    {
     "data": {
      "application/vnd.jupyter.widget-view+json": {
       "model_id": "c24f0d785ab44a248474755bc265e6c3",
       "version_major": 2,
       "version_minor": 0
      },
      "text/plain": [
       "Validation: |          | 0/? [00:00<?, ?it/s]"
      ]
     },
     "metadata": {},
     "output_type": "display_data"
    },
    {
     "data": {
      "application/vnd.jupyter.widget-view+json": {
       "model_id": "a1ec2d1a41594c84b4bfc57b44e85b71",
       "version_major": 2,
       "version_minor": 0
      },
      "text/plain": [
       "Validation: |          | 0/? [00:00<?, ?it/s]"
      ]
     },
     "metadata": {},
     "output_type": "display_data"
    },
    {
     "data": {
      "application/vnd.jupyter.widget-view+json": {
       "model_id": "62f400a98b12496b855d6ae617984926",
       "version_major": 2,
       "version_minor": 0
      },
      "text/plain": [
       "Validation: |          | 0/? [00:00<?, ?it/s]"
      ]
     },
     "metadata": {},
     "output_type": "display_data"
    },
    {
     "data": {
      "application/vnd.jupyter.widget-view+json": {
       "model_id": "e19b52f7b68a47eda7a48db60cef60cd",
       "version_major": 2,
       "version_minor": 0
      },
      "text/plain": [
       "Validation: |          | 0/? [00:00<?, ?it/s]"
      ]
     },
     "metadata": {},
     "output_type": "display_data"
    },
    {
     "data": {
      "application/vnd.jupyter.widget-view+json": {
       "model_id": "84788dca91434d239c74e228f41afe9e",
       "version_major": 2,
       "version_minor": 0
      },
      "text/plain": [
       "Validation: |          | 0/? [00:00<?, ?it/s]"
      ]
     },
     "metadata": {},
     "output_type": "display_data"
    },
    {
     "data": {
      "application/vnd.jupyter.widget-view+json": {
       "model_id": "72d96ee9a6524aa6ae3b1b7e0bc7e503",
       "version_major": 2,
       "version_minor": 0
      },
      "text/plain": [
       "Validation: |          | 0/? [00:00<?, ?it/s]"
      ]
     },
     "metadata": {},
     "output_type": "display_data"
    },
    {
     "data": {
      "application/vnd.jupyter.widget-view+json": {
       "model_id": "6ba2e5c0839b4bfbacc104aff64c8563",
       "version_major": 2,
       "version_minor": 0
      },
      "text/plain": [
       "Validation: |          | 0/? [00:00<?, ?it/s]"
      ]
     },
     "metadata": {},
     "output_type": "display_data"
    },
    {
     "data": {
      "application/vnd.jupyter.widget-view+json": {
       "model_id": "fd5cb2b45cf1436b8fc34bbe03339b7c",
       "version_major": 2,
       "version_minor": 0
      },
      "text/plain": [
       "Validation: |          | 0/? [00:00<?, ?it/s]"
      ]
     },
     "metadata": {},
     "output_type": "display_data"
    },
    {
     "data": {
      "application/vnd.jupyter.widget-view+json": {
       "model_id": "ddd851bf2a1b4327a1550c14c77caae4",
       "version_major": 2,
       "version_minor": 0
      },
      "text/plain": [
       "Validation: |          | 0/? [00:00<?, ?it/s]"
      ]
     },
     "metadata": {},
     "output_type": "display_data"
    },
    {
     "data": {
      "application/vnd.jupyter.widget-view+json": {
       "model_id": "a1bc0fa668894f00a5a670bb053489ad",
       "version_major": 2,
       "version_minor": 0
      },
      "text/plain": [
       "Validation: |          | 0/? [00:00<?, ?it/s]"
      ]
     },
     "metadata": {},
     "output_type": "display_data"
    },
    {
     "data": {
      "application/vnd.jupyter.widget-view+json": {
       "model_id": "8adb4e1925c040d093ce7e49de7b14d9",
       "version_major": 2,
       "version_minor": 0
      },
      "text/plain": [
       "Validation: |          | 0/? [00:00<?, ?it/s]"
      ]
     },
     "metadata": {},
     "output_type": "display_data"
    },
    {
     "data": {
      "application/vnd.jupyter.widget-view+json": {
       "model_id": "0786465b93004feda91c8b506b0a124b",
       "version_major": 2,
       "version_minor": 0
      },
      "text/plain": [
       "Validation: |          | 0/? [00:00<?, ?it/s]"
      ]
     },
     "metadata": {},
     "output_type": "display_data"
    },
    {
     "data": {
      "application/vnd.jupyter.widget-view+json": {
       "model_id": "e8f211922667470b8f9c6d6346c5e02b",
       "version_major": 2,
       "version_minor": 0
      },
      "text/plain": [
       "Validation: |          | 0/? [00:00<?, ?it/s]"
      ]
     },
     "metadata": {},
     "output_type": "display_data"
    },
    {
     "data": {
      "application/vnd.jupyter.widget-view+json": {
       "model_id": "95efa0b18caa41828c31b23c848ae98c",
       "version_major": 2,
       "version_minor": 0
      },
      "text/plain": [
       "Validation: |          | 0/? [00:00<?, ?it/s]"
      ]
     },
     "metadata": {},
     "output_type": "display_data"
    },
    {
     "data": {
      "application/vnd.jupyter.widget-view+json": {
       "model_id": "fdb7d63d237040018e041ffdcad18c78",
       "version_major": 2,
       "version_minor": 0
      },
      "text/plain": [
       "Validation: |          | 0/? [00:00<?, ?it/s]"
      ]
     },
     "metadata": {},
     "output_type": "display_data"
    },
    {
     "data": {
      "application/vnd.jupyter.widget-view+json": {
       "model_id": "97ca1f0d42e647b2a77a389acfc6adc3",
       "version_major": 2,
       "version_minor": 0
      },
      "text/plain": [
       "Validation: |          | 0/? [00:00<?, ?it/s]"
      ]
     },
     "metadata": {},
     "output_type": "display_data"
    },
    {
     "data": {
      "application/vnd.jupyter.widget-view+json": {
       "model_id": "f48dc557b0b1465a8ad7ab0788c05c66",
       "version_major": 2,
       "version_minor": 0
      },
      "text/plain": [
       "Validation: |          | 0/? [00:00<?, ?it/s]"
      ]
     },
     "metadata": {},
     "output_type": "display_data"
    },
    {
     "data": {
      "application/vnd.jupyter.widget-view+json": {
       "model_id": "e3244703d38249c5a92bbaedd8f873b9",
       "version_major": 2,
       "version_minor": 0
      },
      "text/plain": [
       "Validation: |          | 0/? [00:00<?, ?it/s]"
      ]
     },
     "metadata": {},
     "output_type": "display_data"
    },
    {
     "data": {
      "application/vnd.jupyter.widget-view+json": {
       "model_id": "e3e52349a94546e88d9860eb88454b5c",
       "version_major": 2,
       "version_minor": 0
      },
      "text/plain": [
       "Validation: |          | 0/? [00:00<?, ?it/s]"
      ]
     },
     "metadata": {},
     "output_type": "display_data"
    },
    {
     "data": {
      "application/vnd.jupyter.widget-view+json": {
       "model_id": "b50b10ca2cc4454984110b700a5c8577",
       "version_major": 2,
       "version_minor": 0
      },
      "text/plain": [
       "Validation: |          | 0/? [00:00<?, ?it/s]"
      ]
     },
     "metadata": {},
     "output_type": "display_data"
    },
    {
     "data": {
      "application/vnd.jupyter.widget-view+json": {
       "model_id": "79a752589c754cfeb66285e8d408a376",
       "version_major": 2,
       "version_minor": 0
      },
      "text/plain": [
       "Validation: |          | 0/? [00:00<?, ?it/s]"
      ]
     },
     "metadata": {},
     "output_type": "display_data"
    },
    {
     "data": {
      "application/vnd.jupyter.widget-view+json": {
       "model_id": "c3529264ad1d4d8f974fcd8de7c2255f",
       "version_major": 2,
       "version_minor": 0
      },
      "text/plain": [
       "Validation: |          | 0/? [00:00<?, ?it/s]"
      ]
     },
     "metadata": {},
     "output_type": "display_data"
    },
    {
     "data": {
      "application/vnd.jupyter.widget-view+json": {
       "model_id": "20fa8c4f998e400bb92a0e70d4b67cd7",
       "version_major": 2,
       "version_minor": 0
      },
      "text/plain": [
       "Validation: |          | 0/? [00:00<?, ?it/s]"
      ]
     },
     "metadata": {},
     "output_type": "display_data"
    },
    {
     "data": {
      "application/vnd.jupyter.widget-view+json": {
       "model_id": "75addb7fe0c04f50919109b47f6536ef",
       "version_major": 2,
       "version_minor": 0
      },
      "text/plain": [
       "Validation: |          | 0/? [00:00<?, ?it/s]"
      ]
     },
     "metadata": {},
     "output_type": "display_data"
    },
    {
     "data": {
      "application/vnd.jupyter.widget-view+json": {
       "model_id": "758dcd296cf14477be568c4872f951e6",
       "version_major": 2,
       "version_minor": 0
      },
      "text/plain": [
       "Validation: |          | 0/? [00:00<?, ?it/s]"
      ]
     },
     "metadata": {},
     "output_type": "display_data"
    },
    {
     "data": {
      "application/vnd.jupyter.widget-view+json": {
       "model_id": "14a2781d861747b29f9748e3ecfb5fce",
       "version_major": 2,
       "version_minor": 0
      },
      "text/plain": [
       "Validation: |          | 0/? [00:00<?, ?it/s]"
      ]
     },
     "metadata": {},
     "output_type": "display_data"
    },
    {
     "data": {
      "application/vnd.jupyter.widget-view+json": {
       "model_id": "a048dca41a3a47339f58ee336586a139",
       "version_major": 2,
       "version_minor": 0
      },
      "text/plain": [
       "Validation: |          | 0/? [00:00<?, ?it/s]"
      ]
     },
     "metadata": {},
     "output_type": "display_data"
    },
    {
     "data": {
      "application/vnd.jupyter.widget-view+json": {
       "model_id": "57d28214c9064341b1f818026698e283",
       "version_major": 2,
       "version_minor": 0
      },
      "text/plain": [
       "Validation: |          | 0/? [00:00<?, ?it/s]"
      ]
     },
     "metadata": {},
     "output_type": "display_data"
    },
    {
     "data": {
      "application/vnd.jupyter.widget-view+json": {
       "model_id": "3c2ddb7e423a40f38cf9db3371370154",
       "version_major": 2,
       "version_minor": 0
      },
      "text/plain": [
       "Validation: |          | 0/? [00:00<?, ?it/s]"
      ]
     },
     "metadata": {},
     "output_type": "display_data"
    },
    {
     "data": {
      "application/vnd.jupyter.widget-view+json": {
       "model_id": "5183bf7ff7bc406ca5e2cc57cca013c9",
       "version_major": 2,
       "version_minor": 0
      },
      "text/plain": [
       "Validation: |          | 0/? [00:00<?, ?it/s]"
      ]
     },
     "metadata": {},
     "output_type": "display_data"
    },
    {
     "data": {
      "application/vnd.jupyter.widget-view+json": {
       "model_id": "6e72e38528394e368da7fe9048e9f1d4",
       "version_major": 2,
       "version_minor": 0
      },
      "text/plain": [
       "Validation: |          | 0/? [00:00<?, ?it/s]"
      ]
     },
     "metadata": {},
     "output_type": "display_data"
    },
    {
     "data": {
      "application/vnd.jupyter.widget-view+json": {
       "model_id": "cb1fd8f50d0148c0a276ed1a255015c3",
       "version_major": 2,
       "version_minor": 0
      },
      "text/plain": [
       "Validation: |          | 0/? [00:00<?, ?it/s]"
      ]
     },
     "metadata": {},
     "output_type": "display_data"
    },
    {
     "data": {
      "application/vnd.jupyter.widget-view+json": {
       "model_id": "8266781aabd644ada264ecce339731a7",
       "version_major": 2,
       "version_minor": 0
      },
      "text/plain": [
       "Validation: |          | 0/? [00:00<?, ?it/s]"
      ]
     },
     "metadata": {},
     "output_type": "display_data"
    },
    {
     "data": {
      "application/vnd.jupyter.widget-view+json": {
       "model_id": "e886764c1c8847e5aeff6f2c11dd8897",
       "version_major": 2,
       "version_minor": 0
      },
      "text/plain": [
       "Validation: |          | 0/? [00:00<?, ?it/s]"
      ]
     },
     "metadata": {},
     "output_type": "display_data"
    },
    {
     "data": {
      "application/vnd.jupyter.widget-view+json": {
       "model_id": "afaba203ff9948cabb42c209d1591daa",
       "version_major": 2,
       "version_minor": 0
      },
      "text/plain": [
       "Validation: |          | 0/? [00:00<?, ?it/s]"
      ]
     },
     "metadata": {},
     "output_type": "display_data"
    },
    {
     "data": {
      "application/vnd.jupyter.widget-view+json": {
       "model_id": "46a356639678450bb840a6dcdb054552",
       "version_major": 2,
       "version_minor": 0
      },
      "text/plain": [
       "Validation: |          | 0/? [00:00<?, ?it/s]"
      ]
     },
     "metadata": {},
     "output_type": "display_data"
    },
    {
     "data": {
      "application/vnd.jupyter.widget-view+json": {
       "model_id": "614332c231c6446786dceb6710162729",
       "version_major": 2,
       "version_minor": 0
      },
      "text/plain": [
       "Validation: |          | 0/? [00:00<?, ?it/s]"
      ]
     },
     "metadata": {},
     "output_type": "display_data"
    },
    {
     "data": {
      "application/vnd.jupyter.widget-view+json": {
       "model_id": "40101abd306a4e9aa32a89ea50e5d36a",
       "version_major": 2,
       "version_minor": 0
      },
      "text/plain": [
       "Validation: |          | 0/? [00:00<?, ?it/s]"
      ]
     },
     "metadata": {},
     "output_type": "display_data"
    },
    {
     "name": "stderr",
     "output_type": "stream",
     "text": [
      "[I 2024-11-04 02:14:58,021] Trial 371 finished with value: 0.7776735424995422 and parameters: {'hidden_dim': 32, 'num_layers': 1, 'optimizer_name': 'Adam', 'batch_size': 2048, 'learning_rate': 0.0001, 'sentence_representation_type': 'last'}. Best is trial 50 with value: 0.7804877758026123.\n",
      "Seed set to 42\n"
     ]
    },
    {
     "name": "stdout",
     "output_type": "stream",
     "text": [
      "---------- batch_size_2048; lr_0.001; optimizer_Adam; hidden_dim_128; num_layers_1; sentence_representation_max ----------\n"
     ]
    },
    {
     "name": "stderr",
     "output_type": "stream",
     "text": [
      "[I 2024-11-04 02:14:58,698] Trial 372 finished with value: 0.7682926654815674 and parameters: {'hidden_dim': 128, 'num_layers': 1, 'optimizer_name': 'Adam', 'batch_size': 2048, 'learning_rate': 0.001, 'sentence_representation_type': 'max'}. Best is trial 50 with value: 0.7804877758026123.\n",
      "Seed set to 42\n"
     ]
    },
    {
     "name": "stdout",
     "output_type": "stream",
     "text": [
      "[Skipping] rnn/test/w2v-3b/batch_size_2048-lr_0.001-optimizer_Adam-hidden_dim_128-num_layers_1-sr_type_max-freeze_False\n",
      "---------- batch_size_64; lr_0.001; optimizer_Adam; hidden_dim_32; num_layers_1; sentence_representation_max ----------\n"
     ]
    },
    {
     "name": "stderr",
     "output_type": "stream",
     "text": [
      "[I 2024-11-04 02:14:59,324] Trial 373 finished with value: 0.4108687937259674 and parameters: {'hidden_dim': 32, 'num_layers': 1, 'optimizer_name': 'Adam', 'batch_size': 64, 'learning_rate': 0.001, 'sentence_representation_type': 'max'}. Best is trial 50 with value: 0.7804877758026123.\n",
      "Seed set to 42\n"
     ]
    },
    {
     "name": "stdout",
     "output_type": "stream",
     "text": [
      "[Skipping] rnn/test/w2v-3b/batch_size_64-lr_0.001-optimizer_Adam-hidden_dim_32-num_layers_1-sr_type_max-freeze_False\n",
      "---------- batch_size_2048; lr_0.01; optimizer_Adam; hidden_dim_32; num_layers_1; sentence_representation_average ----------\n"
     ]
    },
    {
     "name": "stderr",
     "output_type": "stream",
     "text": [
      "GPU available: True (cuda), used: False\n",
      "TPU available: False, using: 0 TPU cores\n",
      "HPU available: False, using: 0 HPUs\n",
      "\n",
      "  | Name   | Type               | Params | Mode \n",
      "------------------------------------------------------\n",
      "0 | model  | RNN                | 4.9 M  | train\n",
      "1 | metric | MulticlassAccuracy | 0      | train\n",
      "------------------------------------------------------\n",
      "4.9 M     Trainable params\n",
      "0         Non-trainable params\n",
      "4.9 M     Total params\n",
      "19.646    Total estimated model params size (MB)\n",
      "7         Modules in train mode\n",
      "0         Modules in eval mode\n"
     ]
    },
    {
     "data": {
      "application/vnd.jupyter.widget-view+json": {
       "model_id": "88f0486408aa4d9a80a87582107de0d6",
       "version_major": 2,
       "version_minor": 0
      },
      "text/plain": [
       "Sanity Checking: |          | 0/? [00:00<?, ?it/s]"
      ]
     },
     "metadata": {},
     "output_type": "display_data"
    },
    {
     "data": {
      "application/vnd.jupyter.widget-view+json": {
       "model_id": "1b173f1975464cb9b6ac9b0fef5332be",
       "version_major": 2,
       "version_minor": 0
      },
      "text/plain": [
       "Training: |          | 0/? [00:00<?, ?it/s]"
      ]
     },
     "metadata": {},
     "output_type": "display_data"
    },
    {
     "data": {
      "application/vnd.jupyter.widget-view+json": {
       "model_id": "262a70afe60744ae94c376adad95c5e0",
       "version_major": 2,
       "version_minor": 0
      },
      "text/plain": [
       "Validation: |          | 0/? [00:00<?, ?it/s]"
      ]
     },
     "metadata": {},
     "output_type": "display_data"
    },
    {
     "data": {
      "application/vnd.jupyter.widget-view+json": {
       "model_id": "0ab33e9f9db94162925ff17c20529405",
       "version_major": 2,
       "version_minor": 0
      },
      "text/plain": [
       "Validation: |          | 0/? [00:00<?, ?it/s]"
      ]
     },
     "metadata": {},
     "output_type": "display_data"
    },
    {
     "data": {
      "application/vnd.jupyter.widget-view+json": {
       "model_id": "2b7a67d54b054e809cb795b629f98774",
       "version_major": 2,
       "version_minor": 0
      },
      "text/plain": [
       "Validation: |          | 0/? [00:00<?, ?it/s]"
      ]
     },
     "metadata": {},
     "output_type": "display_data"
    },
    {
     "data": {
      "application/vnd.jupyter.widget-view+json": {
       "model_id": "b5586cd16a3f44c4a21cd1ca9068577a",
       "version_major": 2,
       "version_minor": 0
      },
      "text/plain": [
       "Validation: |          | 0/? [00:00<?, ?it/s]"
      ]
     },
     "metadata": {},
     "output_type": "display_data"
    },
    {
     "data": {
      "application/vnd.jupyter.widget-view+json": {
       "model_id": "54e5310c8eb240fab41d81be73398032",
       "version_major": 2,
       "version_minor": 0
      },
      "text/plain": [
       "Validation: |          | 0/? [00:00<?, ?it/s]"
      ]
     },
     "metadata": {},
     "output_type": "display_data"
    },
    {
     "data": {
      "application/vnd.jupyter.widget-view+json": {
       "model_id": "26a495e4c0e2453f842b686a4a65d617",
       "version_major": 2,
       "version_minor": 0
      },
      "text/plain": [
       "Validation: |          | 0/? [00:00<?, ?it/s]"
      ]
     },
     "metadata": {},
     "output_type": "display_data"
    },
    {
     "name": "stderr",
     "output_type": "stream",
     "text": [
      "[I 2024-11-04 02:15:46,443] Trial 374 finished with value: 0.7392120361328125 and parameters: {'hidden_dim': 32, 'num_layers': 1, 'optimizer_name': 'Adam', 'batch_size': 2048, 'learning_rate': 0.01, 'sentence_representation_type': 'average'}. Best is trial 50 with value: 0.7804877758026123.\n",
      "Seed set to 42\n"
     ]
    },
    {
     "name": "stdout",
     "output_type": "stream",
     "text": [
      "---------- batch_size_2048; lr_0.001; optimizer_Adam; hidden_dim_32; num_layers_1; sentence_representation_max ----------\n"
     ]
    },
    {
     "name": "stderr",
     "output_type": "stream",
     "text": [
      "[I 2024-11-04 02:15:47,067] Trial 375 finished with value: 0.7804877758026123 and parameters: {'hidden_dim': 32, 'num_layers': 1, 'optimizer_name': 'Adam', 'batch_size': 2048, 'learning_rate': 0.001, 'sentence_representation_type': 'max'}. Best is trial 50 with value: 0.7804877758026123.\n",
      "Seed set to 42\n"
     ]
    },
    {
     "name": "stdout",
     "output_type": "stream",
     "text": [
      "[Skipping] rnn/test/w2v-3b/batch_size_2048-lr_0.001-optimizer_Adam-hidden_dim_32-num_layers_1-sr_type_max-freeze_False\n",
      "---------- batch_size_2048; lr_0.001; optimizer_Adam; hidden_dim_32; num_layers_1; sentence_representation_max ----------\n"
     ]
    },
    {
     "name": "stderr",
     "output_type": "stream",
     "text": [
      "[I 2024-11-04 02:15:47,688] Trial 376 finished with value: 0.7804877758026123 and parameters: {'hidden_dim': 32, 'num_layers': 1, 'optimizer_name': 'Adam', 'batch_size': 2048, 'learning_rate': 0.001, 'sentence_representation_type': 'max'}. Best is trial 50 with value: 0.7804877758026123.\n",
      "Seed set to 42\n"
     ]
    },
    {
     "name": "stdout",
     "output_type": "stream",
     "text": [
      "[Skipping] rnn/test/w2v-3b/batch_size_2048-lr_0.001-optimizer_Adam-hidden_dim_32-num_layers_1-sr_type_max-freeze_False\n",
      "---------- batch_size_2048; lr_0.001; optimizer_Adam; hidden_dim_32; num_layers_3; sentence_representation_max ----------\n"
     ]
    },
    {
     "name": "stderr",
     "output_type": "stream",
     "text": [
      "[I 2024-11-04 02:15:48,372] Trial 377 finished with value: 0.7429643869400024 and parameters: {'hidden_dim': 32, 'num_layers': 3, 'optimizer_name': 'Adam', 'batch_size': 2048, 'learning_rate': 0.001, 'sentence_representation_type': 'max'}. Best is trial 50 with value: 0.7804877758026123.\n",
      "Seed set to 42\n"
     ]
    },
    {
     "name": "stdout",
     "output_type": "stream",
     "text": [
      "[Skipping] rnn/test/w2v-3b/batch_size_2048-lr_0.001-optimizer_Adam-hidden_dim_32-num_layers_3-sr_type_max-freeze_False\n",
      "---------- batch_size_32; lr_0.001; optimizer_Adam; hidden_dim_32; num_layers_1; sentence_representation_max ----------\n"
     ]
    },
    {
     "name": "stderr",
     "output_type": "stream",
     "text": [
      "[I 2024-11-04 02:15:49,002] Trial 378 finished with value: 0.3944307565689087 and parameters: {'hidden_dim': 32, 'num_layers': 1, 'optimizer_name': 'Adam', 'batch_size': 32, 'learning_rate': 0.001, 'sentence_representation_type': 'max'}. Best is trial 50 with value: 0.7804877758026123.\n",
      "Seed set to 42\n"
     ]
    },
    {
     "name": "stdout",
     "output_type": "stream",
     "text": [
      "[Skipping] rnn/test/w2v-3b/batch_size_32-lr_0.001-optimizer_Adam-hidden_dim_32-num_layers_1-sr_type_max-freeze_False\n",
      "---------- batch_size_128; lr_0.1; optimizer_Adam; hidden_dim_64; num_layers_4; sentence_representation_max ----------\n"
     ]
    },
    {
     "name": "stderr",
     "output_type": "stream",
     "text": [
      "GPU available: True (cuda), used: False\n",
      "TPU available: False, using: 0 TPU cores\n",
      "HPU available: False, using: 0 HPUs\n",
      "\n",
      "  | Name   | Type               | Params | Mode \n",
      "------------------------------------------------------\n",
      "0 | model  | RNN                | 5.0 M  | train\n",
      "1 | metric | MulticlassAccuracy | 0      | train\n",
      "------------------------------------------------------\n",
      "5.0 M     Trainable params\n",
      "0         Non-trainable params\n",
      "5.0 M     Total params\n",
      "19.803    Total estimated model params size (MB)\n",
      "7         Modules in train mode\n",
      "0         Modules in eval mode\n"
     ]
    },
    {
     "data": {
      "application/vnd.jupyter.widget-view+json": {
       "model_id": "9a5aed1adc4e46329aaca6fc5a93bc67",
       "version_major": 2,
       "version_minor": 0
      },
      "text/plain": [
       "Sanity Checking: |          | 0/? [00:00<?, ?it/s]"
      ]
     },
     "metadata": {},
     "output_type": "display_data"
    },
    {
     "data": {
      "application/vnd.jupyter.widget-view+json": {
       "model_id": "634c2e96d2aa46978e7b21029191f3e1",
       "version_major": 2,
       "version_minor": 0
      },
      "text/plain": [
       "Training: |          | 0/? [00:00<?, ?it/s]"
      ]
     },
     "metadata": {},
     "output_type": "display_data"
    },
    {
     "data": {
      "application/vnd.jupyter.widget-view+json": {
       "model_id": "cebb86a292954edf9b4d32b686db95c4",
       "version_major": 2,
       "version_minor": 0
      },
      "text/plain": [
       "Validation: |          | 0/? [00:00<?, ?it/s]"
      ]
     },
     "metadata": {},
     "output_type": "display_data"
    },
    {
     "data": {
      "application/vnd.jupyter.widget-view+json": {
       "model_id": "fd7ac119ecbd4d599f086356a6393ed0",
       "version_major": 2,
       "version_minor": 0
      },
      "text/plain": [
       "Validation: |          | 0/? [00:00<?, ?it/s]"
      ]
     },
     "metadata": {},
     "output_type": "display_data"
    },
    {
     "data": {
      "application/vnd.jupyter.widget-view+json": {
       "model_id": "8d2b11b713a1486eaf9ae0562a8192ce",
       "version_major": 2,
       "version_minor": 0
      },
      "text/plain": [
       "Validation: |          | 0/? [00:00<?, ?it/s]"
      ]
     },
     "metadata": {},
     "output_type": "display_data"
    },
    {
     "data": {
      "application/vnd.jupyter.widget-view+json": {
       "model_id": "1b5deec74c0643bc9a6a586e8be4f40e",
       "version_major": 2,
       "version_minor": 0
      },
      "text/plain": [
       "Validation: |          | 0/? [00:00<?, ?it/s]"
      ]
     },
     "metadata": {},
     "output_type": "display_data"
    },
    {
     "data": {
      "application/vnd.jupyter.widget-view+json": {
       "model_id": "45ebc064c21f4c5d977f93717ee92254",
       "version_major": 2,
       "version_minor": 0
      },
      "text/plain": [
       "Validation: |          | 0/? [00:00<?, ?it/s]"
      ]
     },
     "metadata": {},
     "output_type": "display_data"
    },
    {
     "data": {
      "application/vnd.jupyter.widget-view+json": {
       "model_id": "0795d88b48d14ece9c345810f2a4d25e",
       "version_major": 2,
       "version_minor": 0
      },
      "text/plain": [
       "Validation: |          | 0/? [00:00<?, ?it/s]"
      ]
     },
     "metadata": {},
     "output_type": "display_data"
    },
    {
     "name": "stderr",
     "output_type": "stream",
     "text": [
      "[I 2024-11-04 02:17:02,575] Trial 379 finished with value: 0.5403376817703247 and parameters: {'hidden_dim': 64, 'num_layers': 4, 'optimizer_name': 'Adam', 'batch_size': 128, 'learning_rate': 0.1, 'sentence_representation_type': 'max'}. Best is trial 50 with value: 0.7804877758026123.\n",
      "Seed set to 42\n"
     ]
    },
    {
     "name": "stdout",
     "output_type": "stream",
     "text": [
      "---------- batch_size_2048; lr_0.001; optimizer_Adam; hidden_dim_32; num_layers_1; sentence_representation_max ----------\n"
     ]
    },
    {
     "name": "stderr",
     "output_type": "stream",
     "text": [
      "[I 2024-11-04 02:17:03,194] Trial 380 finished with value: 0.7804877758026123 and parameters: {'hidden_dim': 32, 'num_layers': 1, 'optimizer_name': 'Adam', 'batch_size': 2048, 'learning_rate': 0.001, 'sentence_representation_type': 'max'}. Best is trial 50 with value: 0.7804877758026123.\n",
      "Seed set to 42\n"
     ]
    },
    {
     "name": "stdout",
     "output_type": "stream",
     "text": [
      "[Skipping] rnn/test/w2v-3b/batch_size_2048-lr_0.001-optimizer_Adam-hidden_dim_32-num_layers_1-sr_type_max-freeze_False\n",
      "---------- batch_size_2048; lr_0.001; optimizer_Adam; hidden_dim_32; num_layers_1; sentence_representation_max ----------\n"
     ]
    },
    {
     "name": "stderr",
     "output_type": "stream",
     "text": [
      "[I 2024-11-04 02:17:03,819] Trial 381 finished with value: 0.7804877758026123 and parameters: {'hidden_dim': 32, 'num_layers': 1, 'optimizer_name': 'Adam', 'batch_size': 2048, 'learning_rate': 0.001, 'sentence_representation_type': 'max'}. Best is trial 50 with value: 0.7804877758026123.\n",
      "Seed set to 42\n"
     ]
    },
    {
     "name": "stdout",
     "output_type": "stream",
     "text": [
      "[Skipping] rnn/test/w2v-3b/batch_size_2048-lr_0.001-optimizer_Adam-hidden_dim_32-num_layers_1-sr_type_max-freeze_False\n",
      "---------- batch_size_2048; lr_0.001; optimizer_Adam; hidden_dim_32; num_layers_1; sentence_representation_max ----------\n"
     ]
    },
    {
     "name": "stderr",
     "output_type": "stream",
     "text": [
      "[I 2024-11-04 02:17:04,489] Trial 382 finished with value: 0.7804877758026123 and parameters: {'hidden_dim': 32, 'num_layers': 1, 'optimizer_name': 'Adam', 'batch_size': 2048, 'learning_rate': 0.001, 'sentence_representation_type': 'max'}. Best is trial 50 with value: 0.7804877758026123.\n",
      "Seed set to 42\n"
     ]
    },
    {
     "name": "stdout",
     "output_type": "stream",
     "text": [
      "[Skipping] rnn/test/w2v-3b/batch_size_2048-lr_0.001-optimizer_Adam-hidden_dim_32-num_layers_1-sr_type_max-freeze_False\n",
      "---------- batch_size_2048; lr_0.001; optimizer_Adam; hidden_dim_32; num_layers_1; sentence_representation_max ----------\n"
     ]
    },
    {
     "name": "stderr",
     "output_type": "stream",
     "text": [
      "[I 2024-11-04 02:17:05,117] Trial 383 finished with value: 0.7804877758026123 and parameters: {'hidden_dim': 32, 'num_layers': 1, 'optimizer_name': 'Adam', 'batch_size': 2048, 'learning_rate': 0.001, 'sentence_representation_type': 'max'}. Best is trial 50 with value: 0.7804877758026123.\n",
      "Seed set to 42\n"
     ]
    },
    {
     "name": "stdout",
     "output_type": "stream",
     "text": [
      "[Skipping] rnn/test/w2v-3b/batch_size_2048-lr_0.001-optimizer_Adam-hidden_dim_32-num_layers_1-sr_type_max-freeze_False\n",
      "---------- batch_size_2048; lr_0.001; optimizer_Adam; hidden_dim_32; num_layers_1; sentence_representation_max ----------\n"
     ]
    },
    {
     "name": "stderr",
     "output_type": "stream",
     "text": [
      "[I 2024-11-04 02:17:05,737] Trial 384 finished with value: 0.7804877758026123 and parameters: {'hidden_dim': 32, 'num_layers': 1, 'optimizer_name': 'Adam', 'batch_size': 2048, 'learning_rate': 0.001, 'sentence_representation_type': 'max'}. Best is trial 50 with value: 0.7804877758026123.\n",
      "Seed set to 42\n"
     ]
    },
    {
     "name": "stdout",
     "output_type": "stream",
     "text": [
      "[Skipping] rnn/test/w2v-3b/batch_size_2048-lr_0.001-optimizer_Adam-hidden_dim_32-num_layers_1-sr_type_max-freeze_False\n",
      "---------- batch_size_2048; lr_0.001; optimizer_Adam; hidden_dim_256; num_layers_1; sentence_representation_max ----------\n"
     ]
    },
    {
     "name": "stderr",
     "output_type": "stream",
     "text": [
      "[I 2024-11-04 02:17:06,358] Trial 385 finished with value: 0.7692307829856873 and parameters: {'hidden_dim': 256, 'num_layers': 1, 'optimizer_name': 'Adam', 'batch_size': 2048, 'learning_rate': 0.001, 'sentence_representation_type': 'max'}. Best is trial 50 with value: 0.7804877758026123.\n",
      "Seed set to 42\n"
     ]
    },
    {
     "name": "stdout",
     "output_type": "stream",
     "text": [
      "[Skipping] rnn/test/w2v-3b/batch_size_2048-lr_0.001-optimizer_Adam-hidden_dim_256-num_layers_1-sr_type_max-freeze_False\n",
      "---------- batch_size_2048; lr_0.001; optimizer_Adam; hidden_dim_32; num_layers_1; sentence_representation_max ----------\n"
     ]
    },
    {
     "name": "stderr",
     "output_type": "stream",
     "text": [
      "[I 2024-11-04 02:17:06,981] Trial 386 finished with value: 0.7804877758026123 and parameters: {'hidden_dim': 32, 'num_layers': 1, 'optimizer_name': 'Adam', 'batch_size': 2048, 'learning_rate': 0.001, 'sentence_representation_type': 'max'}. Best is trial 50 with value: 0.7804877758026123.\n",
      "Seed set to 42\n"
     ]
    },
    {
     "name": "stdout",
     "output_type": "stream",
     "text": [
      "[Skipping] rnn/test/w2v-3b/batch_size_2048-lr_0.001-optimizer_Adam-hidden_dim_32-num_layers_1-sr_type_max-freeze_False\n",
      "---------- batch_size_256; lr_0.001; optimizer_Adam; hidden_dim_32; num_layers_1; sentence_representation_max ----------\n"
     ]
    },
    {
     "name": "stderr",
     "output_type": "stream",
     "text": [
      "[I 2024-11-04 02:17:07,632] Trial 387 finished with value: 0.47315362095832825 and parameters: {'hidden_dim': 32, 'num_layers': 1, 'optimizer_name': 'Adam', 'batch_size': 256, 'learning_rate': 0.001, 'sentence_representation_type': 'max'}. Best is trial 50 with value: 0.7804877758026123.\n",
      "Seed set to 42\n"
     ]
    },
    {
     "name": "stdout",
     "output_type": "stream",
     "text": [
      "[Skipping] rnn/test/w2v-3b/batch_size_256-lr_0.001-optimizer_Adam-hidden_dim_32-num_layers_1-sr_type_max-freeze_False\n",
      "---------- batch_size_2048; lr_0.001; optimizer_Adam; hidden_dim_32; num_layers_2; sentence_representation_max ----------\n"
     ]
    },
    {
     "name": "stderr",
     "output_type": "stream",
     "text": [
      "[I 2024-11-04 02:17:08,253] Trial 388 finished with value: 0.7636022567749023 and parameters: {'hidden_dim': 32, 'num_layers': 2, 'optimizer_name': 'Adam', 'batch_size': 2048, 'learning_rate': 0.001, 'sentence_representation_type': 'max'}. Best is trial 50 with value: 0.7804877758026123.\n",
      "Seed set to 42\n"
     ]
    },
    {
     "name": "stdout",
     "output_type": "stream",
     "text": [
      "[Skipping] rnn/test/w2v-3b/batch_size_2048-lr_0.001-optimizer_Adam-hidden_dim_32-num_layers_2-sr_type_max-freeze_False\n",
      "---------- batch_size_2048; lr_0.001; optimizer_Adam; hidden_dim_32; num_layers_1; sentence_representation_max ----------\n"
     ]
    },
    {
     "name": "stderr",
     "output_type": "stream",
     "text": [
      "[I 2024-11-04 02:17:08,884] Trial 389 finished with value: 0.7804877758026123 and parameters: {'hidden_dim': 32, 'num_layers': 1, 'optimizer_name': 'Adam', 'batch_size': 2048, 'learning_rate': 0.001, 'sentence_representation_type': 'max'}. Best is trial 50 with value: 0.7804877758026123.\n",
      "Seed set to 42\n"
     ]
    },
    {
     "name": "stdout",
     "output_type": "stream",
     "text": [
      "[Skipping] rnn/test/w2v-3b/batch_size_2048-lr_0.001-optimizer_Adam-hidden_dim_32-num_layers_1-sr_type_max-freeze_False\n",
      "---------- batch_size_2048; lr_0.001; optimizer_Adam; hidden_dim_32; num_layers_1; sentence_representation_max ----------\n"
     ]
    },
    {
     "name": "stderr",
     "output_type": "stream",
     "text": [
      "[I 2024-11-04 02:17:09,511] Trial 390 finished with value: 0.7804877758026123 and parameters: {'hidden_dim': 32, 'num_layers': 1, 'optimizer_name': 'Adam', 'batch_size': 2048, 'learning_rate': 0.001, 'sentence_representation_type': 'max'}. Best is trial 50 with value: 0.7804877758026123.\n",
      "Seed set to 42\n"
     ]
    },
    {
     "name": "stdout",
     "output_type": "stream",
     "text": [
      "[Skipping] rnn/test/w2v-3b/batch_size_2048-lr_0.001-optimizer_Adam-hidden_dim_32-num_layers_1-sr_type_max-freeze_False\n",
      "---------- batch_size_2048; lr_0.001; optimizer_Adam; hidden_dim_32; num_layers_1; sentence_representation_max ----------\n"
     ]
    },
    {
     "name": "stderr",
     "output_type": "stream",
     "text": [
      "[I 2024-11-04 02:17:10,134] Trial 391 finished with value: 0.7804877758026123 and parameters: {'hidden_dim': 32, 'num_layers': 1, 'optimizer_name': 'Adam', 'batch_size': 2048, 'learning_rate': 0.001, 'sentence_representation_type': 'max'}. Best is trial 50 with value: 0.7804877758026123.\n",
      "Seed set to 42\n"
     ]
    },
    {
     "name": "stdout",
     "output_type": "stream",
     "text": [
      "[Skipping] rnn/test/w2v-3b/batch_size_2048-lr_0.001-optimizer_Adam-hidden_dim_32-num_layers_1-sr_type_max-freeze_False\n",
      "---------- batch_size_512; lr_0.001; optimizer_Adam; hidden_dim_32; num_layers_1; sentence_representation_max ----------\n"
     ]
    },
    {
     "name": "stderr",
     "output_type": "stream",
     "text": [
      "[I 2024-11-04 02:17:10,802] Trial 392 finished with value: 0.5451443195343018 and parameters: {'hidden_dim': 32, 'num_layers': 1, 'optimizer_name': 'Adam', 'batch_size': 512, 'learning_rate': 0.001, 'sentence_representation_type': 'max'}. Best is trial 50 with value: 0.7804877758026123.\n",
      "Seed set to 42\n"
     ]
    },
    {
     "name": "stdout",
     "output_type": "stream",
     "text": [
      "[Skipping] rnn/test/w2v-3b/batch_size_512-lr_0.001-optimizer_Adam-hidden_dim_32-num_layers_1-sr_type_max-freeze_False\n",
      "---------- batch_size_2048; lr_0.001; optimizer_Adam; hidden_dim_32; num_layers_1; sentence_representation_max ----------\n"
     ]
    },
    {
     "name": "stderr",
     "output_type": "stream",
     "text": [
      "[I 2024-11-04 02:17:11,436] Trial 393 finished with value: 0.7804877758026123 and parameters: {'hidden_dim': 32, 'num_layers': 1, 'optimizer_name': 'Adam', 'batch_size': 2048, 'learning_rate': 0.001, 'sentence_representation_type': 'max'}. Best is trial 50 with value: 0.7804877758026123.\n",
      "Seed set to 42\n"
     ]
    },
    {
     "name": "stdout",
     "output_type": "stream",
     "text": [
      "[Skipping] rnn/test/w2v-3b/batch_size_2048-lr_0.001-optimizer_Adam-hidden_dim_32-num_layers_1-sr_type_max-freeze_False\n",
      "---------- batch_size_2048; lr_0.001; optimizer_Adam; hidden_dim_32; num_layers_1; sentence_representation_last ----------\n"
     ]
    },
    {
     "name": "stderr",
     "output_type": "stream",
     "text": [
      "[I 2024-11-04 02:17:12,067] Trial 394 finished with value: 0.7467166781425476 and parameters: {'hidden_dim': 32, 'num_layers': 1, 'optimizer_name': 'Adam', 'batch_size': 2048, 'learning_rate': 0.001, 'sentence_representation_type': 'last'}. Best is trial 50 with value: 0.7804877758026123.\n",
      "Seed set to 42\n"
     ]
    },
    {
     "name": "stdout",
     "output_type": "stream",
     "text": [
      "[Skipping] rnn/test/w2v-3b/batch_size_2048-lr_0.001-optimizer_Adam-hidden_dim_32-num_layers_1-sr_type_last-freeze_False\n",
      "---------- batch_size_2048; lr_0.0001; optimizer_Adam; hidden_dim_32; num_layers_1; sentence_representation_max ----------\n"
     ]
    },
    {
     "name": "stderr",
     "output_type": "stream",
     "text": [
      "[I 2024-11-04 02:17:12,715] Trial 395 finished with value: 0.7682926654815674 and parameters: {'hidden_dim': 32, 'num_layers': 1, 'optimizer_name': 'Adam', 'batch_size': 2048, 'learning_rate': 0.0001, 'sentence_representation_type': 'max'}. Best is trial 50 with value: 0.7804877758026123.\n",
      "Seed set to 42\n"
     ]
    },
    {
     "name": "stdout",
     "output_type": "stream",
     "text": [
      "[Skipping] rnn/test/w2v-3b/batch_size_2048-lr_0.0001-optimizer_Adam-hidden_dim_32-num_layers_1-sr_type_max-freeze_False\n",
      "---------- batch_size_2048; lr_0.001; optimizer_Adam; hidden_dim_32; num_layers_1; sentence_representation_max ----------\n"
     ]
    },
    {
     "name": "stderr",
     "output_type": "stream",
     "text": [
      "[I 2024-11-04 02:17:13,346] Trial 396 finished with value: 0.7804877758026123 and parameters: {'hidden_dim': 32, 'num_layers': 1, 'optimizer_name': 'Adam', 'batch_size': 2048, 'learning_rate': 0.001, 'sentence_representation_type': 'max'}. Best is trial 50 with value: 0.7804877758026123.\n",
      "Seed set to 42\n"
     ]
    },
    {
     "name": "stdout",
     "output_type": "stream",
     "text": [
      "[Skipping] rnn/test/w2v-3b/batch_size_2048-lr_0.001-optimizer_Adam-hidden_dim_32-num_layers_1-sr_type_max-freeze_False\n",
      "---------- batch_size_1024; lr_0.001; optimizer_Adam; hidden_dim_128; num_layers_1; sentence_representation_average ----------\n"
     ]
    },
    {
     "name": "stderr",
     "output_type": "stream",
     "text": [
      "GPU available: True (cuda), used: False\n",
      "TPU available: False, using: 0 TPU cores\n",
      "HPU available: False, using: 0 HPUs\n",
      "\n",
      "  | Name   | Type               | Params | Mode \n",
      "------------------------------------------------------\n",
      "0 | model  | RNN                | 5.0 M  | train\n",
      "1 | metric | MulticlassAccuracy | 0      | train\n",
      "------------------------------------------------------\n",
      "5.0 M     Trainable params\n",
      "0         Non-trainable params\n",
      "5.0 M     Total params\n",
      "19.855    Total estimated model params size (MB)\n",
      "7         Modules in train mode\n",
      "0         Modules in eval mode\n"
     ]
    },
    {
     "data": {
      "application/vnd.jupyter.widget-view+json": {
       "model_id": "d3dfba07ae1b4fcf86f5088d43af6193",
       "version_major": 2,
       "version_minor": 0
      },
      "text/plain": [
       "Sanity Checking: |          | 0/? [00:00<?, ?it/s]"
      ]
     },
     "metadata": {},
     "output_type": "display_data"
    },
    {
     "data": {
      "application/vnd.jupyter.widget-view+json": {
       "model_id": "4df615171ccd4f7f96c16e7b0c5e7869",
       "version_major": 2,
       "version_minor": 0
      },
      "text/plain": [
       "Training: |          | 0/? [00:00<?, ?it/s]"
      ]
     },
     "metadata": {},
     "output_type": "display_data"
    },
    {
     "data": {
      "application/vnd.jupyter.widget-view+json": {
       "model_id": "09c1843847d04c0e823eac7d339a7a9d",
       "version_major": 2,
       "version_minor": 0
      },
      "text/plain": [
       "Validation: |          | 0/? [00:00<?, ?it/s]"
      ]
     },
     "metadata": {},
     "output_type": "display_data"
    },
    {
     "data": {
      "application/vnd.jupyter.widget-view+json": {
       "model_id": "0f68912a897d4f7e8ded7561be5c1e9b",
       "version_major": 2,
       "version_minor": 0
      },
      "text/plain": [
       "Validation: |          | 0/? [00:00<?, ?it/s]"
      ]
     },
     "metadata": {},
     "output_type": "display_data"
    },
    {
     "data": {
      "application/vnd.jupyter.widget-view+json": {
       "model_id": "1a4d8f440b874eab851540a0eccd7362",
       "version_major": 2,
       "version_minor": 0
      },
      "text/plain": [
       "Validation: |          | 0/? [00:00<?, ?it/s]"
      ]
     },
     "metadata": {},
     "output_type": "display_data"
    },
    {
     "data": {
      "application/vnd.jupyter.widget-view+json": {
       "model_id": "d7c7eec76fe24cff93ed0e3c200d9115",
       "version_major": 2,
       "version_minor": 0
      },
      "text/plain": [
       "Validation: |          | 0/? [00:00<?, ?it/s]"
      ]
     },
     "metadata": {},
     "output_type": "display_data"
    },
    {
     "data": {
      "application/vnd.jupyter.widget-view+json": {
       "model_id": "60815b4ef521489e8dc3dae8316dda1b",
       "version_major": 2,
       "version_minor": 0
      },
      "text/plain": [
       "Validation: |          | 0/? [00:00<?, ?it/s]"
      ]
     },
     "metadata": {},
     "output_type": "display_data"
    },
    {
     "data": {
      "application/vnd.jupyter.widget-view+json": {
       "model_id": "3c419bcc54a34b3cb404f3ad7670c98c",
       "version_major": 2,
       "version_minor": 0
      },
      "text/plain": [
       "Validation: |          | 0/? [00:00<?, ?it/s]"
      ]
     },
     "metadata": {},
     "output_type": "display_data"
    },
    {
     "data": {
      "application/vnd.jupyter.widget-view+json": {
       "model_id": "fce2ab6467f14d908ca698c040b12e2d",
       "version_major": 2,
       "version_minor": 0
      },
      "text/plain": [
       "Validation: |          | 0/? [00:00<?, ?it/s]"
      ]
     },
     "metadata": {},
     "output_type": "display_data"
    },
    {
     "data": {
      "application/vnd.jupyter.widget-view+json": {
       "model_id": "e253f37ea9024f908a649d087c9a5c88",
       "version_major": 2,
       "version_minor": 0
      },
      "text/plain": [
       "Validation: |          | 0/? [00:00<?, ?it/s]"
      ]
     },
     "metadata": {},
     "output_type": "display_data"
    },
    {
     "name": "stderr",
     "output_type": "stream",
     "text": [
      "[I 2024-11-04 02:18:28,141] Trial 397 finished with value: 0.7327370047569275 and parameters: {'hidden_dim': 128, 'num_layers': 1, 'optimizer_name': 'Adam', 'batch_size': 1024, 'learning_rate': 0.001, 'sentence_representation_type': 'average'}. Best is trial 50 with value: 0.7804877758026123.\n",
      "Seed set to 42\n"
     ]
    },
    {
     "name": "stdout",
     "output_type": "stream",
     "text": [
      "---------- batch_size_2048; lr_0.01; optimizer_Adam; hidden_dim_32; num_layers_1; sentence_representation_max ----------\n"
     ]
    },
    {
     "name": "stderr",
     "output_type": "stream",
     "text": [
      "[I 2024-11-04 02:18:28,792] Trial 398 finished with value: 0.7682926654815674 and parameters: {'hidden_dim': 32, 'num_layers': 1, 'optimizer_name': 'Adam', 'batch_size': 2048, 'learning_rate': 0.01, 'sentence_representation_type': 'max'}. Best is trial 50 with value: 0.7804877758026123.\n",
      "Seed set to 42\n"
     ]
    },
    {
     "name": "stdout",
     "output_type": "stream",
     "text": [
      "[Skipping] rnn/test/w2v-3b/batch_size_2048-lr_0.01-optimizer_Adam-hidden_dim_32-num_layers_1-sr_type_max-freeze_False\n",
      "---------- batch_size_2048; lr_0.001; optimizer_Adam; hidden_dim_32; num_layers_1; sentence_representation_max ----------\n"
     ]
    },
    {
     "name": "stderr",
     "output_type": "stream",
     "text": [
      "[I 2024-11-04 02:18:29,432] Trial 399 finished with value: 0.7804877758026123 and parameters: {'hidden_dim': 32, 'num_layers': 1, 'optimizer_name': 'Adam', 'batch_size': 2048, 'learning_rate': 0.001, 'sentence_representation_type': 'max'}. Best is trial 50 with value: 0.7804877758026123.\n",
      "Seed set to 42\n"
     ]
    },
    {
     "name": "stdout",
     "output_type": "stream",
     "text": [
      "[Skipping] rnn/test/w2v-3b/batch_size_2048-lr_0.001-optimizer_Adam-hidden_dim_32-num_layers_1-sr_type_max-freeze_False\n",
      "---------- batch_size_2048; lr_0.001; optimizer_Adam; hidden_dim_32; num_layers_1; sentence_representation_max ----------\n"
     ]
    },
    {
     "name": "stderr",
     "output_type": "stream",
     "text": [
      "[I 2024-11-04 02:18:30,072] Trial 400 finished with value: 0.7804877758026123 and parameters: {'hidden_dim': 32, 'num_layers': 1, 'optimizer_name': 'Adam', 'batch_size': 2048, 'learning_rate': 0.001, 'sentence_representation_type': 'max'}. Best is trial 50 with value: 0.7804877758026123.\n",
      "Seed set to 42\n"
     ]
    },
    {
     "name": "stdout",
     "output_type": "stream",
     "text": [
      "[Skipping] rnn/test/w2v-3b/batch_size_2048-lr_0.001-optimizer_Adam-hidden_dim_32-num_layers_1-sr_type_max-freeze_False\n",
      "---------- batch_size_2048; lr_0.001; optimizer_Adam; hidden_dim_32; num_layers_1; sentence_representation_max ----------\n"
     ]
    },
    {
     "name": "stderr",
     "output_type": "stream",
     "text": [
      "[I 2024-11-04 02:18:30,708] Trial 401 finished with value: 0.7804877758026123 and parameters: {'hidden_dim': 32, 'num_layers': 1, 'optimizer_name': 'Adam', 'batch_size': 2048, 'learning_rate': 0.001, 'sentence_representation_type': 'max'}. Best is trial 50 with value: 0.7804877758026123.\n",
      "Seed set to 42\n"
     ]
    },
    {
     "name": "stdout",
     "output_type": "stream",
     "text": [
      "[Skipping] rnn/test/w2v-3b/batch_size_2048-lr_0.001-optimizer_Adam-hidden_dim_32-num_layers_1-sr_type_max-freeze_False\n",
      "---------- batch_size_64; lr_0.001; optimizer_Adam; hidden_dim_32; num_layers_1; sentence_representation_max ----------\n"
     ]
    },
    {
     "name": "stderr",
     "output_type": "stream",
     "text": [
      "[I 2024-11-04 02:18:31,331] Trial 402 finished with value: 0.4108687937259674 and parameters: {'hidden_dim': 32, 'num_layers': 1, 'optimizer_name': 'Adam', 'batch_size': 64, 'learning_rate': 0.001, 'sentence_representation_type': 'max'}. Best is trial 50 with value: 0.7804877758026123.\n",
      "Seed set to 42\n"
     ]
    },
    {
     "name": "stdout",
     "output_type": "stream",
     "text": [
      "[Skipping] rnn/test/w2v-3b/batch_size_64-lr_0.001-optimizer_Adam-hidden_dim_32-num_layers_1-sr_type_max-freeze_False\n",
      "---------- batch_size_2048; lr_0.001; optimizer_Adam; hidden_dim_32; num_layers_1; sentence_representation_max ----------\n"
     ]
    },
    {
     "name": "stderr",
     "output_type": "stream",
     "text": [
      "[I 2024-11-04 02:18:31,954] Trial 403 finished with value: 0.7804877758026123 and parameters: {'hidden_dim': 32, 'num_layers': 1, 'optimizer_name': 'Adam', 'batch_size': 2048, 'learning_rate': 0.001, 'sentence_representation_type': 'max'}. Best is trial 50 with value: 0.7804877758026123.\n",
      "Seed set to 42\n"
     ]
    },
    {
     "name": "stdout",
     "output_type": "stream",
     "text": [
      "[Skipping] rnn/test/w2v-3b/batch_size_2048-lr_0.001-optimizer_Adam-hidden_dim_32-num_layers_1-sr_type_max-freeze_False\n",
      "---------- batch_size_2048; lr_0.001; optimizer_Adam; hidden_dim_64; num_layers_1; sentence_representation_max ----------\n"
     ]
    },
    {
     "name": "stderr",
     "output_type": "stream",
     "text": [
      "[I 2024-11-04 02:18:32,572] Trial 404 finished with value: 0.7589118480682373 and parameters: {'hidden_dim': 64, 'num_layers': 1, 'optimizer_name': 'Adam', 'batch_size': 2048, 'learning_rate': 0.001, 'sentence_representation_type': 'max'}. Best is trial 50 with value: 0.7804877758026123.\n",
      "Seed set to 42\n"
     ]
    },
    {
     "name": "stdout",
     "output_type": "stream",
     "text": [
      "[Skipping] rnn/test/w2v-3b/batch_size_2048-lr_0.001-optimizer_Adam-hidden_dim_64-num_layers_1-sr_type_max-freeze_False\n",
      "---------- batch_size_2048; lr_0.1; optimizer_Adam; hidden_dim_32; num_layers_1; sentence_representation_max ----------\n"
     ]
    },
    {
     "name": "stderr",
     "output_type": "stream",
     "text": [
      "[I 2024-11-04 02:18:33,260] Trial 405 finished with value: 0.5 and parameters: {'hidden_dim': 32, 'num_layers': 1, 'optimizer_name': 'Adam', 'batch_size': 2048, 'learning_rate': 0.1, 'sentence_representation_type': 'max'}. Best is trial 50 with value: 0.7804877758026123.\n",
      "Seed set to 42\n"
     ]
    },
    {
     "name": "stdout",
     "output_type": "stream",
     "text": [
      "[Skipping] rnn/test/w2v-3b/batch_size_2048-lr_0.1-optimizer_Adam-hidden_dim_32-num_layers_1-sr_type_max-freeze_False\n",
      "---------- batch_size_2048; lr_0.001; optimizer_Adam; hidden_dim_32; num_layers_1; sentence_representation_max ----------\n"
     ]
    },
    {
     "name": "stderr",
     "output_type": "stream",
     "text": [
      "[I 2024-11-04 02:18:33,898] Trial 406 finished with value: 0.7804877758026123 and parameters: {'hidden_dim': 32, 'num_layers': 1, 'optimizer_name': 'Adam', 'batch_size': 2048, 'learning_rate': 0.001, 'sentence_representation_type': 'max'}. Best is trial 50 with value: 0.7804877758026123.\n",
      "Seed set to 42\n"
     ]
    },
    {
     "name": "stdout",
     "output_type": "stream",
     "text": [
      "[Skipping] rnn/test/w2v-3b/batch_size_2048-lr_0.001-optimizer_Adam-hidden_dim_32-num_layers_1-sr_type_max-freeze_False\n",
      "---------- batch_size_2048; lr_0.001; optimizer_Adam; hidden_dim_256; num_layers_1; sentence_representation_max ----------\n"
     ]
    },
    {
     "name": "stderr",
     "output_type": "stream",
     "text": [
      "[I 2024-11-04 02:18:34,531] Trial 407 finished with value: 0.7692307829856873 and parameters: {'hidden_dim': 256, 'num_layers': 1, 'optimizer_name': 'Adam', 'batch_size': 2048, 'learning_rate': 0.001, 'sentence_representation_type': 'max'}. Best is trial 50 with value: 0.7804877758026123.\n",
      "Seed set to 42\n"
     ]
    },
    {
     "name": "stdout",
     "output_type": "stream",
     "text": [
      "[Skipping] rnn/test/w2v-3b/batch_size_2048-lr_0.001-optimizer_Adam-hidden_dim_256-num_layers_1-sr_type_max-freeze_False\n",
      "---------- batch_size_32; lr_0.001; optimizer_Adam; hidden_dim_32; num_layers_1; sentence_representation_max ----------\n"
     ]
    },
    {
     "name": "stderr",
     "output_type": "stream",
     "text": [
      "[I 2024-11-04 02:18:35,151] Trial 408 finished with value: 0.3944307565689087 and parameters: {'hidden_dim': 32, 'num_layers': 1, 'optimizer_name': 'Adam', 'batch_size': 32, 'learning_rate': 0.001, 'sentence_representation_type': 'max'}. Best is trial 50 with value: 0.7804877758026123.\n",
      "Seed set to 42\n"
     ]
    },
    {
     "name": "stdout",
     "output_type": "stream",
     "text": [
      "[Skipping] rnn/test/w2v-3b/batch_size_32-lr_0.001-optimizer_Adam-hidden_dim_32-num_layers_1-sr_type_max-freeze_False\n",
      "---------- batch_size_128; lr_0.001; optimizer_Adam; hidden_dim_32; num_layers_1; sentence_representation_max ----------\n"
     ]
    },
    {
     "name": "stderr",
     "output_type": "stream",
     "text": [
      "[I 2024-11-04 02:18:35,786] Trial 409 finished with value: 0.4298436939716339 and parameters: {'hidden_dim': 32, 'num_layers': 1, 'optimizer_name': 'Adam', 'batch_size': 128, 'learning_rate': 0.001, 'sentence_representation_type': 'max'}. Best is trial 50 with value: 0.7804877758026123.\n",
      "Seed set to 42\n"
     ]
    },
    {
     "name": "stdout",
     "output_type": "stream",
     "text": [
      "[Skipping] rnn/test/w2v-3b/batch_size_128-lr_0.001-optimizer_Adam-hidden_dim_32-num_layers_1-sr_type_max-freeze_False\n",
      "---------- batch_size_2048; lr_0.001; optimizer_Adam; hidden_dim_32; num_layers_1; sentence_representation_max ----------\n"
     ]
    },
    {
     "name": "stderr",
     "output_type": "stream",
     "text": [
      "[I 2024-11-04 02:18:36,473] Trial 410 finished with value: 0.7804877758026123 and parameters: {'hidden_dim': 32, 'num_layers': 1, 'optimizer_name': 'Adam', 'batch_size': 2048, 'learning_rate': 0.001, 'sentence_representation_type': 'max'}. Best is trial 50 with value: 0.7804877758026123.\n",
      "Seed set to 42\n"
     ]
    },
    {
     "name": "stdout",
     "output_type": "stream",
     "text": [
      "[Skipping] rnn/test/w2v-3b/batch_size_2048-lr_0.001-optimizer_Adam-hidden_dim_32-num_layers_1-sr_type_max-freeze_False\n",
      "---------- batch_size_2048; lr_0.001; optimizer_Adam; hidden_dim_32; num_layers_1; sentence_representation_max ----------\n"
     ]
    },
    {
     "name": "stderr",
     "output_type": "stream",
     "text": [
      "[I 2024-11-04 02:18:37,129] Trial 411 finished with value: 0.7804877758026123 and parameters: {'hidden_dim': 32, 'num_layers': 1, 'optimizer_name': 'Adam', 'batch_size': 2048, 'learning_rate': 0.001, 'sentence_representation_type': 'max'}. Best is trial 50 with value: 0.7804877758026123.\n",
      "Seed set to 42\n"
     ]
    },
    {
     "name": "stdout",
     "output_type": "stream",
     "text": [
      "[Skipping] rnn/test/w2v-3b/batch_size_2048-lr_0.001-optimizer_Adam-hidden_dim_32-num_layers_1-sr_type_max-freeze_False\n",
      "---------- batch_size_2048; lr_0.001; optimizer_Adam; hidden_dim_32; num_layers_1; sentence_representation_max ----------\n"
     ]
    },
    {
     "name": "stderr",
     "output_type": "stream",
     "text": [
      "[I 2024-11-04 02:18:37,776] Trial 412 finished with value: 0.7804877758026123 and parameters: {'hidden_dim': 32, 'num_layers': 1, 'optimizer_name': 'Adam', 'batch_size': 2048, 'learning_rate': 0.001, 'sentence_representation_type': 'max'}. Best is trial 50 with value: 0.7804877758026123.\n",
      "Seed set to 42\n"
     ]
    },
    {
     "name": "stdout",
     "output_type": "stream",
     "text": [
      "[Skipping] rnn/test/w2v-3b/batch_size_2048-lr_0.001-optimizer_Adam-hidden_dim_32-num_layers_1-sr_type_max-freeze_False\n",
      "---------- batch_size_2048; lr_0.001; optimizer_Adam; hidden_dim_32; num_layers_1; sentence_representation_max ----------\n"
     ]
    },
    {
     "name": "stderr",
     "output_type": "stream",
     "text": [
      "[I 2024-11-04 02:18:38,404] Trial 413 finished with value: 0.7804877758026123 and parameters: {'hidden_dim': 32, 'num_layers': 1, 'optimizer_name': 'Adam', 'batch_size': 2048, 'learning_rate': 0.001, 'sentence_representation_type': 'max'}. Best is trial 50 with value: 0.7804877758026123.\n",
      "Seed set to 42\n"
     ]
    },
    {
     "name": "stdout",
     "output_type": "stream",
     "text": [
      "[Skipping] rnn/test/w2v-3b/batch_size_2048-lr_0.001-optimizer_Adam-hidden_dim_32-num_layers_1-sr_type_max-freeze_False\n",
      "---------- batch_size_2048; lr_0.001; optimizer_Adam; hidden_dim_32; num_layers_1; sentence_representation_max ----------\n"
     ]
    },
    {
     "name": "stderr",
     "output_type": "stream",
     "text": [
      "[I 2024-11-04 02:18:39,018] Trial 414 finished with value: 0.7804877758026123 and parameters: {'hidden_dim': 32, 'num_layers': 1, 'optimizer_name': 'Adam', 'batch_size': 2048, 'learning_rate': 0.001, 'sentence_representation_type': 'max'}. Best is trial 50 with value: 0.7804877758026123.\n",
      "Seed set to 42\n"
     ]
    },
    {
     "name": "stdout",
     "output_type": "stream",
     "text": [
      "[Skipping] rnn/test/w2v-3b/batch_size_2048-lr_0.001-optimizer_Adam-hidden_dim_32-num_layers_1-sr_type_max-freeze_False\n",
      "---------- batch_size_2048; lr_0.001; optimizer_Adam; hidden_dim_32; num_layers_1; sentence_representation_max ----------\n"
     ]
    },
    {
     "name": "stderr",
     "output_type": "stream",
     "text": [
      "[I 2024-11-04 02:18:39,688] Trial 415 finished with value: 0.7804877758026123 and parameters: {'hidden_dim': 32, 'num_layers': 1, 'optimizer_name': 'Adam', 'batch_size': 2048, 'learning_rate': 0.001, 'sentence_representation_type': 'max'}. Best is trial 50 with value: 0.7804877758026123.\n",
      "Seed set to 42\n"
     ]
    },
    {
     "name": "stdout",
     "output_type": "stream",
     "text": [
      "[Skipping] rnn/test/w2v-3b/batch_size_2048-lr_0.001-optimizer_Adam-hidden_dim_32-num_layers_1-sr_type_max-freeze_False\n",
      "---------- batch_size_256; lr_0.001; optimizer_Adam; hidden_dim_32; num_layers_1; sentence_representation_max ----------\n"
     ]
    },
    {
     "name": "stderr",
     "output_type": "stream",
     "text": [
      "[I 2024-11-04 02:18:40,329] Trial 416 finished with value: 0.47315362095832825 and parameters: {'hidden_dim': 32, 'num_layers': 1, 'optimizer_name': 'Adam', 'batch_size': 256, 'learning_rate': 0.001, 'sentence_representation_type': 'max'}. Best is trial 50 with value: 0.7804877758026123.\n",
      "Seed set to 42\n"
     ]
    },
    {
     "name": "stdout",
     "output_type": "stream",
     "text": [
      "[Skipping] rnn/test/w2v-3b/batch_size_256-lr_0.001-optimizer_Adam-hidden_dim_32-num_layers_1-sr_type_max-freeze_False\n",
      "---------- batch_size_2048; lr_0.001; optimizer_Adam; hidden_dim_32; num_layers_1; sentence_representation_last ----------\n"
     ]
    },
    {
     "name": "stderr",
     "output_type": "stream",
     "text": [
      "[I 2024-11-04 02:18:40,962] Trial 417 finished with value: 0.7467166781425476 and parameters: {'hidden_dim': 32, 'num_layers': 1, 'optimizer_name': 'Adam', 'batch_size': 2048, 'learning_rate': 0.001, 'sentence_representation_type': 'last'}. Best is trial 50 with value: 0.7804877758026123.\n",
      "Seed set to 42\n"
     ]
    },
    {
     "name": "stdout",
     "output_type": "stream",
     "text": [
      "[Skipping] rnn/test/w2v-3b/batch_size_2048-lr_0.001-optimizer_Adam-hidden_dim_32-num_layers_1-sr_type_last-freeze_False\n",
      "---------- batch_size_2048; lr_0.001; optimizer_Adam; hidden_dim_32; num_layers_1; sentence_representation_max ----------\n"
     ]
    },
    {
     "name": "stderr",
     "output_type": "stream",
     "text": [
      "[I 2024-11-04 02:18:41,598] Trial 418 finished with value: 0.7804877758026123 and parameters: {'hidden_dim': 32, 'num_layers': 1, 'optimizer_name': 'Adam', 'batch_size': 2048, 'learning_rate': 0.001, 'sentence_representation_type': 'max'}. Best is trial 50 with value: 0.7804877758026123.\n",
      "Seed set to 42\n"
     ]
    },
    {
     "name": "stdout",
     "output_type": "stream",
     "text": [
      "[Skipping] rnn/test/w2v-3b/batch_size_2048-lr_0.001-optimizer_Adam-hidden_dim_32-num_layers_1-sr_type_max-freeze_False\n",
      "---------- batch_size_2048; lr_0.0001; optimizer_Adam; hidden_dim_32; num_layers_4; sentence_representation_average ----------\n"
     ]
    },
    {
     "name": "stderr",
     "output_type": "stream",
     "text": [
      "GPU available: True (cuda), used: False\n",
      "TPU available: False, using: 0 TPU cores\n",
      "HPU available: False, using: 0 HPUs\n",
      "\n",
      "  | Name   | Type               | Params | Mode \n",
      "------------------------------------------------------\n",
      "0 | model  | RNN                | 4.9 M  | train\n",
      "1 | metric | MulticlassAccuracy | 0      | train\n",
      "------------------------------------------------------\n",
      "4.9 M     Trainable params\n",
      "0         Non-trainable params\n",
      "4.9 M     Total params\n",
      "19.671    Total estimated model params size (MB)\n",
      "7         Modules in train mode\n",
      "0         Modules in eval mode\n"
     ]
    },
    {
     "data": {
      "application/vnd.jupyter.widget-view+json": {
       "model_id": "2f579284397746db92a7083acf6cc035",
       "version_major": 2,
       "version_minor": 0
      },
      "text/plain": [
       "Sanity Checking: |          | 0/? [00:00<?, ?it/s]"
      ]
     },
     "metadata": {},
     "output_type": "display_data"
    },
    {
     "data": {
      "application/vnd.jupyter.widget-view+json": {
       "model_id": "99a288bd2d8d40d597e651cf2fa8491f",
       "version_major": 2,
       "version_minor": 0
      },
      "text/plain": [
       "Training: |          | 0/? [00:00<?, ?it/s]"
      ]
     },
     "metadata": {},
     "output_type": "display_data"
    },
    {
     "data": {
      "application/vnd.jupyter.widget-view+json": {
       "model_id": "6ad2d69e2de34f34978b1c6a4b95fdd2",
       "version_major": 2,
       "version_minor": 0
      },
      "text/plain": [
       "Validation: |          | 0/? [00:00<?, ?it/s]"
      ]
     },
     "metadata": {},
     "output_type": "display_data"
    },
    {
     "data": {
      "application/vnd.jupyter.widget-view+json": {
       "model_id": "28e04024c0fc4f3bb2721dd04e366047",
       "version_major": 2,
       "version_minor": 0
      },
      "text/plain": [
       "Validation: |          | 0/? [00:00<?, ?it/s]"
      ]
     },
     "metadata": {},
     "output_type": "display_data"
    },
    {
     "data": {
      "application/vnd.jupyter.widget-view+json": {
       "model_id": "3f96c22e13c94ffd809bbae716f4f1a6",
       "version_major": 2,
       "version_minor": 0
      },
      "text/plain": [
       "Validation: |          | 0/? [00:00<?, ?it/s]"
      ]
     },
     "metadata": {},
     "output_type": "display_data"
    },
    {
     "data": {
      "application/vnd.jupyter.widget-view+json": {
       "model_id": "d0b69eb75728499fa4540894b90e83fd",
       "version_major": 2,
       "version_minor": 0
      },
      "text/plain": [
       "Validation: |          | 0/? [00:00<?, ?it/s]"
      ]
     },
     "metadata": {},
     "output_type": "display_data"
    },
    {
     "data": {
      "application/vnd.jupyter.widget-view+json": {
       "model_id": "1ba741c163394b87b0cf21506009ff66",
       "version_major": 2,
       "version_minor": 0
      },
      "text/plain": [
       "Validation: |          | 0/? [00:00<?, ?it/s]"
      ]
     },
     "metadata": {},
     "output_type": "display_data"
    },
    {
     "data": {
      "application/vnd.jupyter.widget-view+json": {
       "model_id": "438a303db8e342a8be6312460ae4eb89",
       "version_major": 2,
       "version_minor": 0
      },
      "text/plain": [
       "Validation: |          | 0/? [00:00<?, ?it/s]"
      ]
     },
     "metadata": {},
     "output_type": "display_data"
    },
    {
     "data": {
      "application/vnd.jupyter.widget-view+json": {
       "model_id": "0a791db4a1ab4e0da3d942f0b17fb363",
       "version_major": 2,
       "version_minor": 0
      },
      "text/plain": [
       "Validation: |          | 0/? [00:00<?, ?it/s]"
      ]
     },
     "metadata": {},
     "output_type": "display_data"
    },
    {
     "data": {
      "application/vnd.jupyter.widget-view+json": {
       "model_id": "5742a601a34544e19754165e301a19d1",
       "version_major": 2,
       "version_minor": 0
      },
      "text/plain": [
       "Validation: |          | 0/? [00:00<?, ?it/s]"
      ]
     },
     "metadata": {},
     "output_type": "display_data"
    },
    {
     "data": {
      "application/vnd.jupyter.widget-view+json": {
       "model_id": "8d534fc1801e4d31a03a6491f74101cd",
       "version_major": 2,
       "version_minor": 0
      },
      "text/plain": [
       "Validation: |          | 0/? [00:00<?, ?it/s]"
      ]
     },
     "metadata": {},
     "output_type": "display_data"
    },
    {
     "data": {
      "application/vnd.jupyter.widget-view+json": {
       "model_id": "8b8fa1355aa2498aab4bb5506c294bf9",
       "version_major": 2,
       "version_minor": 0
      },
      "text/plain": [
       "Validation: |          | 0/? [00:00<?, ?it/s]"
      ]
     },
     "metadata": {},
     "output_type": "display_data"
    },
    {
     "data": {
      "application/vnd.jupyter.widget-view+json": {
       "model_id": "3c9474ac63ce43b6a20dc71876da2ca8",
       "version_major": 2,
       "version_minor": 0
      },
      "text/plain": [
       "Validation: |          | 0/? [00:00<?, ?it/s]"
      ]
     },
     "metadata": {},
     "output_type": "display_data"
    },
    {
     "data": {
      "application/vnd.jupyter.widget-view+json": {
       "model_id": "8f5ce2626365406e9013f165357c68a8",
       "version_major": 2,
       "version_minor": 0
      },
      "text/plain": [
       "Validation: |          | 0/? [00:00<?, ?it/s]"
      ]
     },
     "metadata": {},
     "output_type": "display_data"
    },
    {
     "data": {
      "application/vnd.jupyter.widget-view+json": {
       "model_id": "31fcfed1fb0a4df4bd195533318d6d0d",
       "version_major": 2,
       "version_minor": 0
      },
      "text/plain": [
       "Validation: |          | 0/? [00:00<?, ?it/s]"
      ]
     },
     "metadata": {},
     "output_type": "display_data"
    },
    {
     "data": {
      "application/vnd.jupyter.widget-view+json": {
       "model_id": "1fac6fa8af10403faa834743eed3caaf",
       "version_major": 2,
       "version_minor": 0
      },
      "text/plain": [
       "Validation: |          | 0/? [00:00<?, ?it/s]"
      ]
     },
     "metadata": {},
     "output_type": "display_data"
    },
    {
     "data": {
      "application/vnd.jupyter.widget-view+json": {
       "model_id": "d1814cd7652044d58f4f635156fbcef5",
       "version_major": 2,
       "version_minor": 0
      },
      "text/plain": [
       "Validation: |          | 0/? [00:00<?, ?it/s]"
      ]
     },
     "metadata": {},
     "output_type": "display_data"
    },
    {
     "data": {
      "application/vnd.jupyter.widget-view+json": {
       "model_id": "e232b3855d9e43c58eb553722f81c098",
       "version_major": 2,
       "version_minor": 0
      },
      "text/plain": [
       "Validation: |          | 0/? [00:00<?, ?it/s]"
      ]
     },
     "metadata": {},
     "output_type": "display_data"
    },
    {
     "data": {
      "application/vnd.jupyter.widget-view+json": {
       "model_id": "6d6e5be3c18642f88b9d1c8ec2e3104c",
       "version_major": 2,
       "version_minor": 0
      },
      "text/plain": [
       "Validation: |          | 0/? [00:00<?, ?it/s]"
      ]
     },
     "metadata": {},
     "output_type": "display_data"
    },
    {
     "data": {
      "application/vnd.jupyter.widget-view+json": {
       "model_id": "e9c45b7246384a4cad7f2ab2c7a05d50",
       "version_major": 2,
       "version_minor": 0
      },
      "text/plain": [
       "Validation: |          | 0/? [00:00<?, ?it/s]"
      ]
     },
     "metadata": {},
     "output_type": "display_data"
    },
    {
     "data": {
      "application/vnd.jupyter.widget-view+json": {
       "model_id": "bde671916186436b8463c2e0956adcf5",
       "version_major": 2,
       "version_minor": 0
      },
      "text/plain": [
       "Validation: |          | 0/? [00:00<?, ?it/s]"
      ]
     },
     "metadata": {},
     "output_type": "display_data"
    },
    {
     "data": {
      "application/vnd.jupyter.widget-view+json": {
       "model_id": "86bca0ca3ab04567ae17b46fad933f8d",
       "version_major": 2,
       "version_minor": 0
      },
      "text/plain": [
       "Validation: |          | 0/? [00:00<?, ?it/s]"
      ]
     },
     "metadata": {},
     "output_type": "display_data"
    },
    {
     "data": {
      "application/vnd.jupyter.widget-view+json": {
       "model_id": "9374a950b3f8438495275fe7db2ebbc2",
       "version_major": 2,
       "version_minor": 0
      },
      "text/plain": [
       "Validation: |          | 0/? [00:00<?, ?it/s]"
      ]
     },
     "metadata": {},
     "output_type": "display_data"
    },
    {
     "data": {
      "application/vnd.jupyter.widget-view+json": {
       "model_id": "b3266499691c419f8a26072fce4d31da",
       "version_major": 2,
       "version_minor": 0
      },
      "text/plain": [
       "Validation: |          | 0/? [00:00<?, ?it/s]"
      ]
     },
     "metadata": {},
     "output_type": "display_data"
    },
    {
     "data": {
      "application/vnd.jupyter.widget-view+json": {
       "model_id": "7e66712c72634795870f7a732d777377",
       "version_major": 2,
       "version_minor": 0
      },
      "text/plain": [
       "Validation: |          | 0/? [00:00<?, ?it/s]"
      ]
     },
     "metadata": {},
     "output_type": "display_data"
    },
    {
     "data": {
      "application/vnd.jupyter.widget-view+json": {
       "model_id": "a0544c18cc8d46788395187ccd65866f",
       "version_major": 2,
       "version_minor": 0
      },
      "text/plain": [
       "Validation: |          | 0/? [00:00<?, ?it/s]"
      ]
     },
     "metadata": {},
     "output_type": "display_data"
    },
    {
     "data": {
      "application/vnd.jupyter.widget-view+json": {
       "model_id": "a1dbb628c037468f82b2538b0db26c0a",
       "version_major": 2,
       "version_minor": 0
      },
      "text/plain": [
       "Validation: |          | 0/? [00:00<?, ?it/s]"
      ]
     },
     "metadata": {},
     "output_type": "display_data"
    },
    {
     "data": {
      "application/vnd.jupyter.widget-view+json": {
       "model_id": "4698ab88b01948ef9f3b2ce41a90142a",
       "version_major": 2,
       "version_minor": 0
      },
      "text/plain": [
       "Validation: |          | 0/? [00:00<?, ?it/s]"
      ]
     },
     "metadata": {},
     "output_type": "display_data"
    },
    {
     "data": {
      "application/vnd.jupyter.widget-view+json": {
       "model_id": "699a7f41c4ef440392c0c4a14681bf7c",
       "version_major": 2,
       "version_minor": 0
      },
      "text/plain": [
       "Validation: |          | 0/? [00:00<?, ?it/s]"
      ]
     },
     "metadata": {},
     "output_type": "display_data"
    },
    {
     "data": {
      "application/vnd.jupyter.widget-view+json": {
       "model_id": "4121ee0f73294ff7b9be2fadc523a922",
       "version_major": 2,
       "version_minor": 0
      },
      "text/plain": [
       "Validation: |          | 0/? [00:00<?, ?it/s]"
      ]
     },
     "metadata": {},
     "output_type": "display_data"
    },
    {
     "data": {
      "application/vnd.jupyter.widget-view+json": {
       "model_id": "4167227649c54729b055583402af9807",
       "version_major": 2,
       "version_minor": 0
      },
      "text/plain": [
       "Validation: |          | 0/? [00:00<?, ?it/s]"
      ]
     },
     "metadata": {},
     "output_type": "display_data"
    },
    {
     "data": {
      "application/vnd.jupyter.widget-view+json": {
       "model_id": "4866d0fe693c445ca66b45c979e293d6",
       "version_major": 2,
       "version_minor": 0
      },
      "text/plain": [
       "Validation: |          | 0/? [00:00<?, ?it/s]"
      ]
     },
     "metadata": {},
     "output_type": "display_data"
    },
    {
     "data": {
      "application/vnd.jupyter.widget-view+json": {
       "model_id": "69eeb82323344e65bd5d0d2e38e0fdc6",
       "version_major": 2,
       "version_minor": 0
      },
      "text/plain": [
       "Validation: |          | 0/? [00:00<?, ?it/s]"
      ]
     },
     "metadata": {},
     "output_type": "display_data"
    },
    {
     "data": {
      "application/vnd.jupyter.widget-view+json": {
       "model_id": "7e40287cbf3d42b5973dafffee4923e7",
       "version_major": 2,
       "version_minor": 0
      },
      "text/plain": [
       "Validation: |          | 0/? [00:00<?, ?it/s]"
      ]
     },
     "metadata": {},
     "output_type": "display_data"
    },
    {
     "data": {
      "application/vnd.jupyter.widget-view+json": {
       "model_id": "b72541b7995a4bbdb34d7b9d540c9da2",
       "version_major": 2,
       "version_minor": 0
      },
      "text/plain": [
       "Validation: |          | 0/? [00:00<?, ?it/s]"
      ]
     },
     "metadata": {},
     "output_type": "display_data"
    },
    {
     "data": {
      "application/vnd.jupyter.widget-view+json": {
       "model_id": "85de3f1e28764b02af6d615c92f89c68",
       "version_major": 2,
       "version_minor": 0
      },
      "text/plain": [
       "Validation: |          | 0/? [00:00<?, ?it/s]"
      ]
     },
     "metadata": {},
     "output_type": "display_data"
    },
    {
     "data": {
      "application/vnd.jupyter.widget-view+json": {
       "model_id": "caed5f9f24764724a6400791ddd28146",
       "version_major": 2,
       "version_minor": 0
      },
      "text/plain": [
       "Validation: |          | 0/? [00:00<?, ?it/s]"
      ]
     },
     "metadata": {},
     "output_type": "display_data"
    },
    {
     "data": {
      "application/vnd.jupyter.widget-view+json": {
       "model_id": "72073e413a5748b3bb5131ef13dbb7c5",
       "version_major": 2,
       "version_minor": 0
      },
      "text/plain": [
       "Validation: |          | 0/? [00:00<?, ?it/s]"
      ]
     },
     "metadata": {},
     "output_type": "display_data"
    },
    {
     "data": {
      "application/vnd.jupyter.widget-view+json": {
       "model_id": "57e314efd0864aa3aaa132ee2a415825",
       "version_major": 2,
       "version_minor": 0
      },
      "text/plain": [
       "Validation: |          | 0/? [00:00<?, ?it/s]"
      ]
     },
     "metadata": {},
     "output_type": "display_data"
    },
    {
     "data": {
      "application/vnd.jupyter.widget-view+json": {
       "model_id": "79cafb2f299f483fa785bf396dc7ee6f",
       "version_major": 2,
       "version_minor": 0
      },
      "text/plain": [
       "Validation: |          | 0/? [00:00<?, ?it/s]"
      ]
     },
     "metadata": {},
     "output_type": "display_data"
    },
    {
     "data": {
      "application/vnd.jupyter.widget-view+json": {
       "model_id": "f7c76c4f4e0844ba863005ce6ed7c875",
       "version_major": 2,
       "version_minor": 0
      },
      "text/plain": [
       "Validation: |          | 0/? [00:00<?, ?it/s]"
      ]
     },
     "metadata": {},
     "output_type": "display_data"
    },
    {
     "data": {
      "application/vnd.jupyter.widget-view+json": {
       "model_id": "f2537a2c693346a38bdba97037915321",
       "version_major": 2,
       "version_minor": 0
      },
      "text/plain": [
       "Validation: |          | 0/? [00:00<?, ?it/s]"
      ]
     },
     "metadata": {},
     "output_type": "display_data"
    },
    {
     "data": {
      "application/vnd.jupyter.widget-view+json": {
       "model_id": "e699fd0e3a814c6591110ae0638c63a4",
       "version_major": 2,
       "version_minor": 0
      },
      "text/plain": [
       "Validation: |          | 0/? [00:00<?, ?it/s]"
      ]
     },
     "metadata": {},
     "output_type": "display_data"
    },
    {
     "data": {
      "application/vnd.jupyter.widget-view+json": {
       "model_id": "16228b27122f45afbedc0ca674ae00d4",
       "version_major": 2,
       "version_minor": 0
      },
      "text/plain": [
       "Validation: |          | 0/? [00:00<?, ?it/s]"
      ]
     },
     "metadata": {},
     "output_type": "display_data"
    },
    {
     "data": {
      "application/vnd.jupyter.widget-view+json": {
       "model_id": "c0e4c378c5b94a6298d1d002dcb6d6e8",
       "version_major": 2,
       "version_minor": 0
      },
      "text/plain": [
       "Validation: |          | 0/? [00:00<?, ?it/s]"
      ]
     },
     "metadata": {},
     "output_type": "display_data"
    },
    {
     "data": {
      "application/vnd.jupyter.widget-view+json": {
       "model_id": "5957cac535a54767980598bc1b026096",
       "version_major": 2,
       "version_minor": 0
      },
      "text/plain": [
       "Validation: |          | 0/? [00:00<?, ?it/s]"
      ]
     },
     "metadata": {},
     "output_type": "display_data"
    },
    {
     "data": {
      "application/vnd.jupyter.widget-view+json": {
       "model_id": "cc58bbbc5a5844448f7279f9e5dafbf0",
       "version_major": 2,
       "version_minor": 0
      },
      "text/plain": [
       "Validation: |          | 0/? [00:00<?, ?it/s]"
      ]
     },
     "metadata": {},
     "output_type": "display_data"
    },
    {
     "data": {
      "application/vnd.jupyter.widget-view+json": {
       "model_id": "d597a99253cd42dab940d7f104ef365f",
       "version_major": 2,
       "version_minor": 0
      },
      "text/plain": [
       "Validation: |          | 0/? [00:00<?, ?it/s]"
      ]
     },
     "metadata": {},
     "output_type": "display_data"
    },
    {
     "data": {
      "application/vnd.jupyter.widget-view+json": {
       "model_id": "308d71f597cb42d9b8d7b4760fafb25a",
       "version_major": 2,
       "version_minor": 0
      },
      "text/plain": [
       "Validation: |          | 0/? [00:00<?, ?it/s]"
      ]
     },
     "metadata": {},
     "output_type": "display_data"
    },
    {
     "data": {
      "application/vnd.jupyter.widget-view+json": {
       "model_id": "dbba45f01b7a43aeb860aee468dceb69",
       "version_major": 2,
       "version_minor": 0
      },
      "text/plain": [
       "Validation: |          | 0/? [00:00<?, ?it/s]"
      ]
     },
     "metadata": {},
     "output_type": "display_data"
    },
    {
     "data": {
      "application/vnd.jupyter.widget-view+json": {
       "model_id": "6d360b1f95664d31bf799337e3d3502e",
       "version_major": 2,
       "version_minor": 0
      },
      "text/plain": [
       "Validation: |          | 0/? [00:00<?, ?it/s]"
      ]
     },
     "metadata": {},
     "output_type": "display_data"
    },
    {
     "data": {
      "application/vnd.jupyter.widget-view+json": {
       "model_id": "f71b2d1e8be3416aad7c977c1534b780",
       "version_major": 2,
       "version_minor": 0
      },
      "text/plain": [
       "Validation: |          | 0/? [00:00<?, ?it/s]"
      ]
     },
     "metadata": {},
     "output_type": "display_data"
    },
    {
     "data": {
      "application/vnd.jupyter.widget-view+json": {
       "model_id": "e8d63c204f9f43aca5b1a4003b37261b",
       "version_major": 2,
       "version_minor": 0
      },
      "text/plain": [
       "Validation: |          | 0/? [00:00<?, ?it/s]"
      ]
     },
     "metadata": {},
     "output_type": "display_data"
    },
    {
     "data": {
      "application/vnd.jupyter.widget-view+json": {
       "model_id": "fbfe543e9513477a90ce14cccf39e8aa",
       "version_major": 2,
       "version_minor": 0
      },
      "text/plain": [
       "Validation: |          | 0/? [00:00<?, ?it/s]"
      ]
     },
     "metadata": {},
     "output_type": "display_data"
    },
    {
     "data": {
      "application/vnd.jupyter.widget-view+json": {
       "model_id": "d3906a96fa3e40889e291f7f782a509a",
       "version_major": 2,
       "version_minor": 0
      },
      "text/plain": [
       "Validation: |          | 0/? [00:00<?, ?it/s]"
      ]
     },
     "metadata": {},
     "output_type": "display_data"
    },
    {
     "data": {
      "application/vnd.jupyter.widget-view+json": {
       "model_id": "e0915e90d8bf463aa91d555457434551",
       "version_major": 2,
       "version_minor": 0
      },
      "text/plain": [
       "Validation: |          | 0/? [00:00<?, ?it/s]"
      ]
     },
     "metadata": {},
     "output_type": "display_data"
    },
    {
     "data": {
      "application/vnd.jupyter.widget-view+json": {
       "model_id": "a96b0c3ea8f84068a82b35c299b3aa58",
       "version_major": 2,
       "version_minor": 0
      },
      "text/plain": [
       "Validation: |          | 0/? [00:00<?, ?it/s]"
      ]
     },
     "metadata": {},
     "output_type": "display_data"
    },
    {
     "data": {
      "application/vnd.jupyter.widget-view+json": {
       "model_id": "2c99752ec8d544ddbe9bde5e7399a1e9",
       "version_major": 2,
       "version_minor": 0
      },
      "text/plain": [
       "Validation: |          | 0/? [00:00<?, ?it/s]"
      ]
     },
     "metadata": {},
     "output_type": "display_data"
    },
    {
     "data": {
      "application/vnd.jupyter.widget-view+json": {
       "model_id": "52be4c0e7f1c447fb184085f19e69d3d",
       "version_major": 2,
       "version_minor": 0
      },
      "text/plain": [
       "Validation: |          | 0/? [00:00<?, ?it/s]"
      ]
     },
     "metadata": {},
     "output_type": "display_data"
    },
    {
     "data": {
      "application/vnd.jupyter.widget-view+json": {
       "model_id": "999ff448016142c38bddee8f52f4a399",
       "version_major": 2,
       "version_minor": 0
      },
      "text/plain": [
       "Validation: |          | 0/? [00:00<?, ?it/s]"
      ]
     },
     "metadata": {},
     "output_type": "display_data"
    },
    {
     "data": {
      "application/vnd.jupyter.widget-view+json": {
       "model_id": "faaea22b46ca4d8ca06e334b5ae707dd",
       "version_major": 2,
       "version_minor": 0
      },
      "text/plain": [
       "Validation: |          | 0/? [00:00<?, ?it/s]"
      ]
     },
     "metadata": {},
     "output_type": "display_data"
    },
    {
     "data": {
      "application/vnd.jupyter.widget-view+json": {
       "model_id": "cd894e0e9f324bfc9a64171854833edd",
       "version_major": 2,
       "version_minor": 0
      },
      "text/plain": [
       "Validation: |          | 0/? [00:00<?, ?it/s]"
      ]
     },
     "metadata": {},
     "output_type": "display_data"
    },
    {
     "data": {
      "application/vnd.jupyter.widget-view+json": {
       "model_id": "b21757ce785344b1826a80eaad45debd",
       "version_major": 2,
       "version_minor": 0
      },
      "text/plain": [
       "Validation: |          | 0/? [00:00<?, ?it/s]"
      ]
     },
     "metadata": {},
     "output_type": "display_data"
    },
    {
     "name": "stderr",
     "output_type": "stream",
     "text": [
      "[I 2024-11-04 02:22:08,298] Trial 419 finished with value: 0.7063789963722229 and parameters: {'hidden_dim': 32, 'num_layers': 4, 'optimizer_name': 'Adam', 'batch_size': 2048, 'learning_rate': 0.0001, 'sentence_representation_type': 'average'}. Best is trial 50 with value: 0.7804877758026123.\n",
      "Seed set to 42\n"
     ]
    },
    {
     "name": "stdout",
     "output_type": "stream",
     "text": [
      "---------- batch_size_2048; lr_0.001; optimizer_Adam; hidden_dim_32; num_layers_1; sentence_representation_max ----------\n"
     ]
    },
    {
     "name": "stderr",
     "output_type": "stream",
     "text": [
      "[I 2024-11-04 02:22:08,950] Trial 420 finished with value: 0.7804877758026123 and parameters: {'hidden_dim': 32, 'num_layers': 1, 'optimizer_name': 'Adam', 'batch_size': 2048, 'learning_rate': 0.001, 'sentence_representation_type': 'max'}. Best is trial 50 with value: 0.7804877758026123.\n",
      "Seed set to 42\n"
     ]
    },
    {
     "name": "stdout",
     "output_type": "stream",
     "text": [
      "[Skipping] rnn/test/w2v-3b/batch_size_2048-lr_0.001-optimizer_Adam-hidden_dim_32-num_layers_1-sr_type_max-freeze_False\n",
      "---------- batch_size_2048; lr_0.001; optimizer_Adam; hidden_dim_128; num_layers_1; sentence_representation_max ----------\n"
     ]
    },
    {
     "name": "stderr",
     "output_type": "stream",
     "text": [
      "[I 2024-11-04 02:22:09,601] Trial 421 finished with value: 0.7682926654815674 and parameters: {'hidden_dim': 128, 'num_layers': 1, 'optimizer_name': 'Adam', 'batch_size': 2048, 'learning_rate': 0.001, 'sentence_representation_type': 'max'}. Best is trial 50 with value: 0.7804877758026123.\n",
      "Seed set to 42\n"
     ]
    },
    {
     "name": "stdout",
     "output_type": "stream",
     "text": [
      "[Skipping] rnn/test/w2v-3b/batch_size_2048-lr_0.001-optimizer_Adam-hidden_dim_128-num_layers_1-sr_type_max-freeze_False\n",
      "---------- batch_size_512; lr_0.001; optimizer_Adam; hidden_dim_32; num_layers_1; sentence_representation_max ----------\n"
     ]
    },
    {
     "name": "stderr",
     "output_type": "stream",
     "text": [
      "[I 2024-11-04 02:22:10,253] Trial 422 finished with value: 0.5451443195343018 and parameters: {'hidden_dim': 32, 'num_layers': 1, 'optimizer_name': 'Adam', 'batch_size': 512, 'learning_rate': 0.001, 'sentence_representation_type': 'max'}. Best is trial 50 with value: 0.7804877758026123.\n",
      "Seed set to 42\n"
     ]
    },
    {
     "name": "stdout",
     "output_type": "stream",
     "text": [
      "[Skipping] rnn/test/w2v-3b/batch_size_512-lr_0.001-optimizer_Adam-hidden_dim_32-num_layers_1-sr_type_max-freeze_False\n",
      "---------- batch_size_2048; lr_0.001; optimizer_Adam; hidden_dim_32; num_layers_1; sentence_representation_max ----------\n"
     ]
    },
    {
     "name": "stderr",
     "output_type": "stream",
     "text": [
      "[I 2024-11-04 02:22:10,893] Trial 423 finished with value: 0.7804877758026123 and parameters: {'hidden_dim': 32, 'num_layers': 1, 'optimizer_name': 'Adam', 'batch_size': 2048, 'learning_rate': 0.001, 'sentence_representation_type': 'max'}. Best is trial 50 with value: 0.7804877758026123.\n",
      "Seed set to 42\n"
     ]
    },
    {
     "name": "stdout",
     "output_type": "stream",
     "text": [
      "[Skipping] rnn/test/w2v-3b/batch_size_2048-lr_0.001-optimizer_Adam-hidden_dim_32-num_layers_1-sr_type_max-freeze_False\n",
      "---------- batch_size_2048; lr_0.01; optimizer_Adam; hidden_dim_32; num_layers_1; sentence_representation_max ----------\n"
     ]
    },
    {
     "name": "stderr",
     "output_type": "stream",
     "text": [
      "[I 2024-11-04 02:22:11,592] Trial 424 finished with value: 0.7682926654815674 and parameters: {'hidden_dim': 32, 'num_layers': 1, 'optimizer_name': 'Adam', 'batch_size': 2048, 'learning_rate': 0.01, 'sentence_representation_type': 'max'}. Best is trial 50 with value: 0.7804877758026123.\n",
      "Seed set to 42\n"
     ]
    },
    {
     "name": "stdout",
     "output_type": "stream",
     "text": [
      "[Skipping] rnn/test/w2v-3b/batch_size_2048-lr_0.01-optimizer_Adam-hidden_dim_32-num_layers_1-sr_type_max-freeze_False\n",
      "---------- batch_size_2048; lr_0.001; optimizer_Adam; hidden_dim_32; num_layers_1; sentence_representation_max ----------\n"
     ]
    },
    {
     "name": "stderr",
     "output_type": "stream",
     "text": [
      "[I 2024-11-04 02:22:12,230] Trial 425 finished with value: 0.7804877758026123 and parameters: {'hidden_dim': 32, 'num_layers': 1, 'optimizer_name': 'Adam', 'batch_size': 2048, 'learning_rate': 0.001, 'sentence_representation_type': 'max'}. Best is trial 50 with value: 0.7804877758026123.\n",
      "Seed set to 42\n"
     ]
    },
    {
     "name": "stdout",
     "output_type": "stream",
     "text": [
      "[Skipping] rnn/test/w2v-3b/batch_size_2048-lr_0.001-optimizer_Adam-hidden_dim_32-num_layers_1-sr_type_max-freeze_False\n",
      "---------- batch_size_1024; lr_0.001; optimizer_Adam; hidden_dim_32; num_layers_1; sentence_representation_max ----------\n"
     ]
    },
    {
     "name": "stderr",
     "output_type": "stream",
     "text": [
      "[I 2024-11-04 02:22:12,884] Trial 426 finished with value: 0.7682369947433472 and parameters: {'hidden_dim': 32, 'num_layers': 1, 'optimizer_name': 'Adam', 'batch_size': 1024, 'learning_rate': 0.001, 'sentence_representation_type': 'max'}. Best is trial 50 with value: 0.7804877758026123.\n",
      "Seed set to 42\n"
     ]
    },
    {
     "name": "stdout",
     "output_type": "stream",
     "text": [
      "[Skipping] rnn/test/w2v-3b/batch_size_1024-lr_0.001-optimizer_Adam-hidden_dim_32-num_layers_1-sr_type_max-freeze_False\n",
      "---------- batch_size_2048; lr_0.001; optimizer_Adam; hidden_dim_64; num_layers_1; sentence_representation_max ----------\n"
     ]
    },
    {
     "name": "stderr",
     "output_type": "stream",
     "text": [
      "[I 2024-11-04 02:22:13,526] Trial 427 finished with value: 0.7589118480682373 and parameters: {'hidden_dim': 64, 'num_layers': 1, 'optimizer_name': 'Adam', 'batch_size': 2048, 'learning_rate': 0.001, 'sentence_representation_type': 'max'}. Best is trial 50 with value: 0.7804877758026123.\n",
      "Seed set to 42\n"
     ]
    },
    {
     "name": "stdout",
     "output_type": "stream",
     "text": [
      "[Skipping] rnn/test/w2v-3b/batch_size_2048-lr_0.001-optimizer_Adam-hidden_dim_64-num_layers_1-sr_type_max-freeze_False\n",
      "---------- batch_size_2048; lr_0.1; optimizer_Adam; hidden_dim_32; num_layers_1; sentence_representation_max ----------\n"
     ]
    },
    {
     "name": "stderr",
     "output_type": "stream",
     "text": [
      "[I 2024-11-04 02:22:14,174] Trial 428 finished with value: 0.5 and parameters: {'hidden_dim': 32, 'num_layers': 1, 'optimizer_name': 'Adam', 'batch_size': 2048, 'learning_rate': 0.1, 'sentence_representation_type': 'max'}. Best is trial 50 with value: 0.7804877758026123.\n",
      "Seed set to 42\n"
     ]
    },
    {
     "name": "stdout",
     "output_type": "stream",
     "text": [
      "[Skipping] rnn/test/w2v-3b/batch_size_2048-lr_0.1-optimizer_Adam-hidden_dim_32-num_layers_1-sr_type_max-freeze_False\n",
      "---------- batch_size_2048; lr_0.001; optimizer_Adam; hidden_dim_32; num_layers_1; sentence_representation_max ----------\n"
     ]
    },
    {
     "name": "stderr",
     "output_type": "stream",
     "text": [
      "[I 2024-11-04 02:22:14,869] Trial 429 finished with value: 0.7804877758026123 and parameters: {'hidden_dim': 32, 'num_layers': 1, 'optimizer_name': 'Adam', 'batch_size': 2048, 'learning_rate': 0.001, 'sentence_representation_type': 'max'}. Best is trial 50 with value: 0.7804877758026123.\n",
      "Seed set to 42\n"
     ]
    },
    {
     "name": "stdout",
     "output_type": "stream",
     "text": [
      "[Skipping] rnn/test/w2v-3b/batch_size_2048-lr_0.001-optimizer_Adam-hidden_dim_32-num_layers_1-sr_type_max-freeze_False\n",
      "---------- batch_size_2048; lr_0.001; optimizer_Adam; hidden_dim_32; num_layers_1; sentence_representation_max ----------\n"
     ]
    },
    {
     "name": "stderr",
     "output_type": "stream",
     "text": [
      "[I 2024-11-04 02:22:15,522] Trial 430 finished with value: 0.7804877758026123 and parameters: {'hidden_dim': 32, 'num_layers': 1, 'optimizer_name': 'Adam', 'batch_size': 2048, 'learning_rate': 0.001, 'sentence_representation_type': 'max'}. Best is trial 50 with value: 0.7804877758026123.\n",
      "Seed set to 42\n"
     ]
    },
    {
     "name": "stdout",
     "output_type": "stream",
     "text": [
      "[Skipping] rnn/test/w2v-3b/batch_size_2048-lr_0.001-optimizer_Adam-hidden_dim_32-num_layers_1-sr_type_max-freeze_False\n",
      "---------- batch_size_2048; lr_0.001; optimizer_Adam; hidden_dim_32; num_layers_1; sentence_representation_max ----------\n"
     ]
    },
    {
     "name": "stderr",
     "output_type": "stream",
     "text": [
      "[I 2024-11-04 02:22:16,160] Trial 431 finished with value: 0.7804877758026123 and parameters: {'hidden_dim': 32, 'num_layers': 1, 'optimizer_name': 'Adam', 'batch_size': 2048, 'learning_rate': 0.001, 'sentence_representation_type': 'max'}. Best is trial 50 with value: 0.7804877758026123.\n",
      "Seed set to 42\n"
     ]
    },
    {
     "name": "stdout",
     "output_type": "stream",
     "text": [
      "[Skipping] rnn/test/w2v-3b/batch_size_2048-lr_0.001-optimizer_Adam-hidden_dim_32-num_layers_1-sr_type_max-freeze_False\n",
      "---------- batch_size_64; lr_0.001; optimizer_Adam; hidden_dim_32; num_layers_1; sentence_representation_max ----------\n"
     ]
    },
    {
     "name": "stderr",
     "output_type": "stream",
     "text": [
      "[I 2024-11-04 02:22:16,828] Trial 432 finished with value: 0.4108687937259674 and parameters: {'hidden_dim': 32, 'num_layers': 1, 'optimizer_name': 'Adam', 'batch_size': 64, 'learning_rate': 0.001, 'sentence_representation_type': 'max'}. Best is trial 50 with value: 0.7804877758026123.\n",
      "Seed set to 42\n"
     ]
    },
    {
     "name": "stdout",
     "output_type": "stream",
     "text": [
      "[Skipping] rnn/test/w2v-3b/batch_size_64-lr_0.001-optimizer_Adam-hidden_dim_32-num_layers_1-sr_type_max-freeze_False\n",
      "---------- batch_size_2048; lr_0.001; optimizer_Adam; hidden_dim_32; num_layers_1; sentence_representation_max ----------\n"
     ]
    },
    {
     "name": "stderr",
     "output_type": "stream",
     "text": [
      "[I 2024-11-04 02:22:17,474] Trial 433 finished with value: 0.7804877758026123 and parameters: {'hidden_dim': 32, 'num_layers': 1, 'optimizer_name': 'Adam', 'batch_size': 2048, 'learning_rate': 0.001, 'sentence_representation_type': 'max'}. Best is trial 50 with value: 0.7804877758026123.\n",
      "Seed set to 42\n"
     ]
    },
    {
     "name": "stdout",
     "output_type": "stream",
     "text": [
      "[Skipping] rnn/test/w2v-3b/batch_size_2048-lr_0.001-optimizer_Adam-hidden_dim_32-num_layers_1-sr_type_max-freeze_False\n",
      "---------- batch_size_2048; lr_0.001; optimizer_Adam; hidden_dim_256; num_layers_1; sentence_representation_max ----------\n"
     ]
    },
    {
     "name": "stderr",
     "output_type": "stream",
     "text": [
      "[I 2024-11-04 02:22:18,176] Trial 434 finished with value: 0.7692307829856873 and parameters: {'hidden_dim': 256, 'num_layers': 1, 'optimizer_name': 'Adam', 'batch_size': 2048, 'learning_rate': 0.001, 'sentence_representation_type': 'max'}. Best is trial 50 with value: 0.7804877758026123.\n",
      "Seed set to 42\n"
     ]
    },
    {
     "name": "stdout",
     "output_type": "stream",
     "text": [
      "[Skipping] rnn/test/w2v-3b/batch_size_2048-lr_0.001-optimizer_Adam-hidden_dim_256-num_layers_1-sr_type_max-freeze_False\n",
      "---------- batch_size_2048; lr_0.001; optimizer_Adam; hidden_dim_32; num_layers_1; sentence_representation_max ----------\n"
     ]
    },
    {
     "name": "stderr",
     "output_type": "stream",
     "text": [
      "[I 2024-11-04 02:22:18,822] Trial 435 finished with value: 0.7804877758026123 and parameters: {'hidden_dim': 32, 'num_layers': 1, 'optimizer_name': 'Adam', 'batch_size': 2048, 'learning_rate': 0.001, 'sentence_representation_type': 'max'}. Best is trial 50 with value: 0.7804877758026123.\n",
      "Seed set to 42\n"
     ]
    },
    {
     "name": "stdout",
     "output_type": "stream",
     "text": [
      "[Skipping] rnn/test/w2v-3b/batch_size_2048-lr_0.001-optimizer_Adam-hidden_dim_32-num_layers_1-sr_type_max-freeze_False\n",
      "---------- batch_size_32; lr_0.001; optimizer_Adam; hidden_dim_32; num_layers_1; sentence_representation_max ----------\n"
     ]
    },
    {
     "name": "stderr",
     "output_type": "stream",
     "text": [
      "[I 2024-11-04 02:22:19,466] Trial 436 finished with value: 0.3944307565689087 and parameters: {'hidden_dim': 32, 'num_layers': 1, 'optimizer_name': 'Adam', 'batch_size': 32, 'learning_rate': 0.001, 'sentence_representation_type': 'max'}. Best is trial 50 with value: 0.7804877758026123.\n",
      "Seed set to 42\n"
     ]
    },
    {
     "name": "stdout",
     "output_type": "stream",
     "text": [
      "[Skipping] rnn/test/w2v-3b/batch_size_32-lr_0.001-optimizer_Adam-hidden_dim_32-num_layers_1-sr_type_max-freeze_False\n",
      "---------- batch_size_128; lr_0.001; optimizer_Adam; hidden_dim_32; num_layers_1; sentence_representation_max ----------\n"
     ]
    },
    {
     "name": "stderr",
     "output_type": "stream",
     "text": [
      "[I 2024-11-04 02:22:20,103] Trial 437 finished with value: 0.4298436939716339 and parameters: {'hidden_dim': 32, 'num_layers': 1, 'optimizer_name': 'Adam', 'batch_size': 128, 'learning_rate': 0.001, 'sentence_representation_type': 'max'}. Best is trial 50 with value: 0.7804877758026123.\n",
      "Seed set to 42\n"
     ]
    },
    {
     "name": "stdout",
     "output_type": "stream",
     "text": [
      "[Skipping] rnn/test/w2v-3b/batch_size_128-lr_0.001-optimizer_Adam-hidden_dim_32-num_layers_1-sr_type_max-freeze_False\n",
      "---------- batch_size_2048; lr_0.001; optimizer_Adam; hidden_dim_32; num_layers_1; sentence_representation_last ----------\n"
     ]
    },
    {
     "name": "stderr",
     "output_type": "stream",
     "text": [
      "[I 2024-11-04 02:22:20,743] Trial 438 finished with value: 0.7467166781425476 and parameters: {'hidden_dim': 32, 'num_layers': 1, 'optimizer_name': 'Adam', 'batch_size': 2048, 'learning_rate': 0.001, 'sentence_representation_type': 'last'}. Best is trial 50 with value: 0.7804877758026123.\n",
      "Seed set to 42\n"
     ]
    },
    {
     "name": "stdout",
     "output_type": "stream",
     "text": [
      "[Skipping] rnn/test/w2v-3b/batch_size_2048-lr_0.001-optimizer_Adam-hidden_dim_32-num_layers_1-sr_type_last-freeze_False\n",
      "---------- batch_size_2048; lr_0.001; optimizer_Adam; hidden_dim_32; num_layers_1; sentence_representation_max ----------\n"
     ]
    },
    {
     "name": "stderr",
     "output_type": "stream",
     "text": [
      "[I 2024-11-04 02:22:21,436] Trial 439 finished with value: 0.7804877758026123 and parameters: {'hidden_dim': 32, 'num_layers': 1, 'optimizer_name': 'Adam', 'batch_size': 2048, 'learning_rate': 0.001, 'sentence_representation_type': 'max'}. Best is trial 50 with value: 0.7804877758026123.\n",
      "Seed set to 42\n"
     ]
    },
    {
     "name": "stdout",
     "output_type": "stream",
     "text": [
      "[Skipping] rnn/test/w2v-3b/batch_size_2048-lr_0.001-optimizer_Adam-hidden_dim_32-num_layers_1-sr_type_max-freeze_False\n",
      "---------- batch_size_2048; lr_0.001; optimizer_Adam; hidden_dim_32; num_layers_1; sentence_representation_max ----------\n"
     ]
    },
    {
     "name": "stderr",
     "output_type": "stream",
     "text": [
      "[I 2024-11-04 02:22:22,090] Trial 440 finished with value: 0.7804877758026123 and parameters: {'hidden_dim': 32, 'num_layers': 1, 'optimizer_name': 'Adam', 'batch_size': 2048, 'learning_rate': 0.001, 'sentence_representation_type': 'max'}. Best is trial 50 with value: 0.7804877758026123.\n",
      "Seed set to 42\n"
     ]
    },
    {
     "name": "stdout",
     "output_type": "stream",
     "text": [
      "[Skipping] rnn/test/w2v-3b/batch_size_2048-lr_0.001-optimizer_Adam-hidden_dim_32-num_layers_1-sr_type_max-freeze_False\n",
      "---------- batch_size_2048; lr_0.001; optimizer_Adam; hidden_dim_32; num_layers_1; sentence_representation_average ----------\n"
     ]
    },
    {
     "name": "stderr",
     "output_type": "stream",
     "text": [
      "[I 2024-11-04 02:22:22,742] Trial 441 finished with value: 0.7514071464538574 and parameters: {'hidden_dim': 32, 'num_layers': 1, 'optimizer_name': 'Adam', 'batch_size': 2048, 'learning_rate': 0.001, 'sentence_representation_type': 'average'}. Best is trial 50 with value: 0.7804877758026123.\n",
      "Seed set to 42\n"
     ]
    },
    {
     "name": "stdout",
     "output_type": "stream",
     "text": [
      "[Skipping] rnn/test/w2v-3b/batch_size_2048-lr_0.001-optimizer_Adam-hidden_dim_32-num_layers_1-sr_type_average-freeze_False\n",
      "---------- batch_size_2048; lr_0.001; optimizer_Adam; hidden_dim_32; num_layers_1; sentence_representation_max ----------\n"
     ]
    },
    {
     "name": "stderr",
     "output_type": "stream",
     "text": [
      "[I 2024-11-04 02:22:23,438] Trial 442 finished with value: 0.7804877758026123 and parameters: {'hidden_dim': 32, 'num_layers': 1, 'optimizer_name': 'Adam', 'batch_size': 2048, 'learning_rate': 0.001, 'sentence_representation_type': 'max'}. Best is trial 50 with value: 0.7804877758026123.\n",
      "Seed set to 42\n"
     ]
    },
    {
     "name": "stdout",
     "output_type": "stream",
     "text": [
      "[Skipping] rnn/test/w2v-3b/batch_size_2048-lr_0.001-optimizer_Adam-hidden_dim_32-num_layers_1-sr_type_max-freeze_False\n",
      "---------- batch_size_2048; lr_0.001; optimizer_Adam; hidden_dim_32; num_layers_1; sentence_representation_max ----------\n"
     ]
    },
    {
     "name": "stderr",
     "output_type": "stream",
     "text": [
      "[I 2024-11-04 02:22:24,088] Trial 443 finished with value: 0.7804877758026123 and parameters: {'hidden_dim': 32, 'num_layers': 1, 'optimizer_name': 'Adam', 'batch_size': 2048, 'learning_rate': 0.001, 'sentence_representation_type': 'max'}. Best is trial 50 with value: 0.7804877758026123.\n",
      "Seed set to 42\n"
     ]
    },
    {
     "name": "stdout",
     "output_type": "stream",
     "text": [
      "[Skipping] rnn/test/w2v-3b/batch_size_2048-lr_0.001-optimizer_Adam-hidden_dim_32-num_layers_1-sr_type_max-freeze_False\n",
      "---------- batch_size_2048; lr_0.001; optimizer_Adam; hidden_dim_32; num_layers_1; sentence_representation_max ----------\n"
     ]
    },
    {
     "name": "stderr",
     "output_type": "stream",
     "text": [
      "[I 2024-11-04 02:22:24,791] Trial 444 finished with value: 0.7804877758026123 and parameters: {'hidden_dim': 32, 'num_layers': 1, 'optimizer_name': 'Adam', 'batch_size': 2048, 'learning_rate': 0.001, 'sentence_representation_type': 'max'}. Best is trial 50 with value: 0.7804877758026123.\n",
      "Seed set to 42\n"
     ]
    },
    {
     "name": "stdout",
     "output_type": "stream",
     "text": [
      "[Skipping] rnn/test/w2v-3b/batch_size_2048-lr_0.001-optimizer_Adam-hidden_dim_32-num_layers_1-sr_type_max-freeze_False\n",
      "---------- batch_size_256; lr_0.0001; optimizer_Adam; hidden_dim_32; num_layers_1; sentence_representation_max ----------\n"
     ]
    },
    {
     "name": "stderr",
     "output_type": "stream",
     "text": [
      "[I 2024-11-04 02:22:25,442] Trial 445 finished with value: 0.4558663070201874 and parameters: {'hidden_dim': 32, 'num_layers': 1, 'optimizer_name': 'Adam', 'batch_size': 256, 'learning_rate': 0.0001, 'sentence_representation_type': 'max'}. Best is trial 50 with value: 0.7804877758026123.\n",
      "Seed set to 42\n"
     ]
    },
    {
     "name": "stdout",
     "output_type": "stream",
     "text": [
      "[Skipping] rnn/test/w2v-3b/batch_size_256-lr_0.0001-optimizer_Adam-hidden_dim_32-num_layers_1-sr_type_max-freeze_False\n",
      "---------- batch_size_2048; lr_0.001; optimizer_Adam; hidden_dim_128; num_layers_1; sentence_representation_max ----------\n"
     ]
    },
    {
     "name": "stderr",
     "output_type": "stream",
     "text": [
      "[I 2024-11-04 02:22:26,090] Trial 446 finished with value: 0.7682926654815674 and parameters: {'hidden_dim': 128, 'num_layers': 1, 'optimizer_name': 'Adam', 'batch_size': 2048, 'learning_rate': 0.001, 'sentence_representation_type': 'max'}. Best is trial 50 with value: 0.7804877758026123.\n",
      "Seed set to 42\n"
     ]
    },
    {
     "name": "stdout",
     "output_type": "stream",
     "text": [
      "[Skipping] rnn/test/w2v-3b/batch_size_2048-lr_0.001-optimizer_Adam-hidden_dim_128-num_layers_1-sr_type_max-freeze_False\n",
      "---------- batch_size_2048; lr_0.01; optimizer_Adam; hidden_dim_32; num_layers_1; sentence_representation_max ----------\n"
     ]
    },
    {
     "name": "stderr",
     "output_type": "stream",
     "text": [
      "[I 2024-11-04 02:22:26,728] Trial 447 finished with value: 0.7682926654815674 and parameters: {'hidden_dim': 32, 'num_layers': 1, 'optimizer_name': 'Adam', 'batch_size': 2048, 'learning_rate': 0.01, 'sentence_representation_type': 'max'}. Best is trial 50 with value: 0.7804877758026123.\n",
      "Seed set to 42\n"
     ]
    },
    {
     "name": "stdout",
     "output_type": "stream",
     "text": [
      "[Skipping] rnn/test/w2v-3b/batch_size_2048-lr_0.01-optimizer_Adam-hidden_dim_32-num_layers_1-sr_type_max-freeze_False\n",
      "---------- batch_size_2048; lr_0.001; optimizer_Adam; hidden_dim_32; num_layers_3; sentence_representation_max ----------\n"
     ]
    },
    {
     "name": "stderr",
     "output_type": "stream",
     "text": [
      "[I 2024-11-04 02:22:27,365] Trial 448 finished with value: 0.7429643869400024 and parameters: {'hidden_dim': 32, 'num_layers': 3, 'optimizer_name': 'Adam', 'batch_size': 2048, 'learning_rate': 0.001, 'sentence_representation_type': 'max'}. Best is trial 50 with value: 0.7804877758026123.\n",
      "Seed set to 42\n"
     ]
    },
    {
     "name": "stdout",
     "output_type": "stream",
     "text": [
      "[Skipping] rnn/test/w2v-3b/batch_size_2048-lr_0.001-optimizer_Adam-hidden_dim_32-num_layers_3-sr_type_max-freeze_False\n",
      "---------- batch_size_2048; lr_0.001; optimizer_Adam; hidden_dim_32; num_layers_1; sentence_representation_max ----------\n"
     ]
    },
    {
     "name": "stderr",
     "output_type": "stream",
     "text": [
      "[I 2024-11-04 02:22:28,059] Trial 449 finished with value: 0.7804877758026123 and parameters: {'hidden_dim': 32, 'num_layers': 1, 'optimizer_name': 'Adam', 'batch_size': 2048, 'learning_rate': 0.001, 'sentence_representation_type': 'max'}. Best is trial 50 with value: 0.7804877758026123.\n",
      "Seed set to 42\n"
     ]
    },
    {
     "name": "stdout",
     "output_type": "stream",
     "text": [
      "[Skipping] rnn/test/w2v-3b/batch_size_2048-lr_0.001-optimizer_Adam-hidden_dim_32-num_layers_1-sr_type_max-freeze_False\n",
      "---------- batch_size_2048; lr_0.001; optimizer_Adam; hidden_dim_32; num_layers_1; sentence_representation_max ----------\n"
     ]
    },
    {
     "name": "stderr",
     "output_type": "stream",
     "text": [
      "[I 2024-11-04 02:22:28,706] Trial 450 finished with value: 0.7804877758026123 and parameters: {'hidden_dim': 32, 'num_layers': 1, 'optimizer_name': 'Adam', 'batch_size': 2048, 'learning_rate': 0.001, 'sentence_representation_type': 'max'}. Best is trial 50 with value: 0.7804877758026123.\n",
      "Seed set to 42\n"
     ]
    },
    {
     "name": "stdout",
     "output_type": "stream",
     "text": [
      "[Skipping] rnn/test/w2v-3b/batch_size_2048-lr_0.001-optimizer_Adam-hidden_dim_32-num_layers_1-sr_type_max-freeze_False\n",
      "---------- batch_size_512; lr_0.001; optimizer_Adam; hidden_dim_64; num_layers_1; sentence_representation_max ----------\n"
     ]
    },
    {
     "name": "stderr",
     "output_type": "stream",
     "text": [
      "GPU available: True (cuda), used: False\n",
      "TPU available: False, using: 0 TPU cores\n",
      "HPU available: False, using: 0 HPUs\n",
      "\n",
      "  | Name   | Type               | Params | Mode \n",
      "------------------------------------------------------\n",
      "0 | model  | RNN                | 4.9 M  | train\n",
      "1 | metric | MulticlassAccuracy | 0      | train\n",
      "------------------------------------------------------\n",
      "4.9 M     Trainable params\n",
      "0         Non-trainable params\n",
      "4.9 M     Total params\n",
      "19.703    Total estimated model params size (MB)\n",
      "7         Modules in train mode\n",
      "0         Modules in eval mode\n"
     ]
    },
    {
     "data": {
      "application/vnd.jupyter.widget-view+json": {
       "model_id": "03d86dcb61634a74b4be72cfe9b4ec84",
       "version_major": 2,
       "version_minor": 0
      },
      "text/plain": [
       "Sanity Checking: |          | 0/? [00:00<?, ?it/s]"
      ]
     },
     "metadata": {},
     "output_type": "display_data"
    },
    {
     "data": {
      "application/vnd.jupyter.widget-view+json": {
       "model_id": "0f446eeccd5440f3b48d07972c4fee89",
       "version_major": 2,
       "version_minor": 0
      },
      "text/plain": [
       "Training: |          | 0/? [00:00<?, ?it/s]"
      ]
     },
     "metadata": {},
     "output_type": "display_data"
    },
    {
     "data": {
      "application/vnd.jupyter.widget-view+json": {
       "model_id": "7bf38a8dfdaf4baabe60d30680357ab1",
       "version_major": 2,
       "version_minor": 0
      },
      "text/plain": [
       "Validation: |          | 0/? [00:00<?, ?it/s]"
      ]
     },
     "metadata": {},
     "output_type": "display_data"
    },
    {
     "data": {
      "application/vnd.jupyter.widget-view+json": {
       "model_id": "d19f395be490410494adaab16c3bd179",
       "version_major": 2,
       "version_minor": 0
      },
      "text/plain": [
       "Validation: |          | 0/? [00:00<?, ?it/s]"
      ]
     },
     "metadata": {},
     "output_type": "display_data"
    },
    {
     "data": {
      "application/vnd.jupyter.widget-view+json": {
       "model_id": "1e3153af6b6f4638a4b30d59b76d2f46",
       "version_major": 2,
       "version_minor": 0
      },
      "text/plain": [
       "Validation: |          | 0/? [00:00<?, ?it/s]"
      ]
     },
     "metadata": {},
     "output_type": "display_data"
    },
    {
     "data": {
      "application/vnd.jupyter.widget-view+json": {
       "model_id": "383a240d95bf40618b6c95490b4be619",
       "version_major": 2,
       "version_minor": 0
      },
      "text/plain": [
       "Validation: |          | 0/? [00:00<?, ?it/s]"
      ]
     },
     "metadata": {},
     "output_type": "display_data"
    },
    {
     "data": {
      "application/vnd.jupyter.widget-view+json": {
       "model_id": "b5df21c8882448339831a54846569565",
       "version_major": 2,
       "version_minor": 0
      },
      "text/plain": [
       "Validation: |          | 0/? [00:00<?, ?it/s]"
      ]
     },
     "metadata": {},
     "output_type": "display_data"
    },
    {
     "data": {
      "application/vnd.jupyter.widget-view+json": {
       "model_id": "10ce81252486456dbf86a3d8756d77be",
       "version_major": 2,
       "version_minor": 0
      },
      "text/plain": [
       "Validation: |          | 0/? [00:00<?, ?it/s]"
      ]
     },
     "metadata": {},
     "output_type": "display_data"
    },
    {
     "name": "stderr",
     "output_type": "stream",
     "text": [
      "[I 2024-11-04 02:23:18,210] Trial 451 finished with value: 0.5610059499740601 and parameters: {'hidden_dim': 64, 'num_layers': 1, 'optimizer_name': 'Adam', 'batch_size': 512, 'learning_rate': 0.001, 'sentence_representation_type': 'max'}. Best is trial 50 with value: 0.7804877758026123.\n",
      "Seed set to 42\n"
     ]
    },
    {
     "name": "stdout",
     "output_type": "stream",
     "text": [
      "---------- batch_size_2048; lr_0.1; optimizer_Adam; hidden_dim_32; num_layers_1; sentence_representation_max ----------\n"
     ]
    },
    {
     "name": "stderr",
     "output_type": "stream",
     "text": [
      "[I 2024-11-04 02:23:18,913] Trial 452 finished with value: 0.5 and parameters: {'hidden_dim': 32, 'num_layers': 1, 'optimizer_name': 'Adam', 'batch_size': 2048, 'learning_rate': 0.1, 'sentence_representation_type': 'max'}. Best is trial 50 with value: 0.7804877758026123.\n",
      "Seed set to 42\n"
     ]
    },
    {
     "name": "stdout",
     "output_type": "stream",
     "text": [
      "[Skipping] rnn/test/w2v-3b/batch_size_2048-lr_0.1-optimizer_Adam-hidden_dim_32-num_layers_1-sr_type_max-freeze_False\n",
      "---------- batch_size_2048; lr_0.001; optimizer_Adam; hidden_dim_32; num_layers_1; sentence_representation_max ----------\n"
     ]
    },
    {
     "name": "stderr",
     "output_type": "stream",
     "text": [
      "[I 2024-11-04 02:23:19,572] Trial 453 finished with value: 0.7804877758026123 and parameters: {'hidden_dim': 32, 'num_layers': 1, 'optimizer_name': 'Adam', 'batch_size': 2048, 'learning_rate': 0.001, 'sentence_representation_type': 'max'}. Best is trial 50 with value: 0.7804877758026123.\n",
      "Seed set to 42\n"
     ]
    },
    {
     "name": "stdout",
     "output_type": "stream",
     "text": [
      "[Skipping] rnn/test/w2v-3b/batch_size_2048-lr_0.001-optimizer_Adam-hidden_dim_32-num_layers_1-sr_type_max-freeze_False\n",
      "---------- batch_size_2048; lr_0.001; optimizer_Adam; hidden_dim_32; num_layers_1; sentence_representation_max ----------\n"
     ]
    },
    {
     "name": "stderr",
     "output_type": "stream",
     "text": [
      "[I 2024-11-04 02:23:20,243] Trial 454 finished with value: 0.7804877758026123 and parameters: {'hidden_dim': 32, 'num_layers': 1, 'optimizer_name': 'Adam', 'batch_size': 2048, 'learning_rate': 0.001, 'sentence_representation_type': 'max'}. Best is trial 50 with value: 0.7804877758026123.\n",
      "Seed set to 42\n"
     ]
    },
    {
     "name": "stdout",
     "output_type": "stream",
     "text": [
      "[Skipping] rnn/test/w2v-3b/batch_size_2048-lr_0.001-optimizer_Adam-hidden_dim_32-num_layers_1-sr_type_max-freeze_False\n",
      "---------- batch_size_1024; lr_0.001; optimizer_Adam; hidden_dim_32; num_layers_1; sentence_representation_max ----------\n"
     ]
    },
    {
     "name": "stderr",
     "output_type": "stream",
     "text": [
      "[I 2024-11-04 02:23:20,934] Trial 455 finished with value: 0.7682369947433472 and parameters: {'hidden_dim': 32, 'num_layers': 1, 'optimizer_name': 'Adam', 'batch_size': 1024, 'learning_rate': 0.001, 'sentence_representation_type': 'max'}. Best is trial 50 with value: 0.7804877758026123.\n",
      "Seed set to 42\n"
     ]
    },
    {
     "name": "stdout",
     "output_type": "stream",
     "text": [
      "[Skipping] rnn/test/w2v-3b/batch_size_1024-lr_0.001-optimizer_Adam-hidden_dim_32-num_layers_1-sr_type_max-freeze_False\n",
      "---------- batch_size_2048; lr_0.001; optimizer_Adam; hidden_dim_32; num_layers_1; sentence_representation_max ----------\n"
     ]
    },
    {
     "name": "stderr",
     "output_type": "stream",
     "text": [
      "[I 2024-11-04 02:23:21,575] Trial 456 finished with value: 0.7804877758026123 and parameters: {'hidden_dim': 32, 'num_layers': 1, 'optimizer_name': 'Adam', 'batch_size': 2048, 'learning_rate': 0.001, 'sentence_representation_type': 'max'}. Best is trial 50 with value: 0.7804877758026123.\n",
      "Seed set to 42\n"
     ]
    },
    {
     "name": "stdout",
     "output_type": "stream",
     "text": [
      "[Skipping] rnn/test/w2v-3b/batch_size_2048-lr_0.001-optimizer_Adam-hidden_dim_32-num_layers_1-sr_type_max-freeze_False\n",
      "---------- batch_size_2048; lr_0.001; optimizer_Adam; hidden_dim_256; num_layers_1; sentence_representation_max ----------\n"
     ]
    },
    {
     "name": "stderr",
     "output_type": "stream",
     "text": [
      "[I 2024-11-04 02:23:22,224] Trial 457 finished with value: 0.7692307829856873 and parameters: {'hidden_dim': 256, 'num_layers': 1, 'optimizer_name': 'Adam', 'batch_size': 2048, 'learning_rate': 0.001, 'sentence_representation_type': 'max'}. Best is trial 50 with value: 0.7804877758026123.\n",
      "Seed set to 42\n"
     ]
    },
    {
     "name": "stdout",
     "output_type": "stream",
     "text": [
      "[Skipping] rnn/test/w2v-3b/batch_size_2048-lr_0.001-optimizer_Adam-hidden_dim_256-num_layers_1-sr_type_max-freeze_False\n",
      "---------- batch_size_2048; lr_0.001; optimizer_Adam; hidden_dim_32; num_layers_1; sentence_representation_max ----------\n"
     ]
    },
    {
     "name": "stderr",
     "output_type": "stream",
     "text": [
      "[I 2024-11-04 02:23:22,871] Trial 458 finished with value: 0.7804877758026123 and parameters: {'hidden_dim': 32, 'num_layers': 1, 'optimizer_name': 'Adam', 'batch_size': 2048, 'learning_rate': 0.001, 'sentence_representation_type': 'max'}. Best is trial 50 with value: 0.7804877758026123.\n",
      "Seed set to 42\n"
     ]
    },
    {
     "name": "stdout",
     "output_type": "stream",
     "text": [
      "[Skipping] rnn/test/w2v-3b/batch_size_2048-lr_0.001-optimizer_Adam-hidden_dim_32-num_layers_1-sr_type_max-freeze_False\n",
      "---------- batch_size_2048; lr_0.001; optimizer_Adam; hidden_dim_32; num_layers_1; sentence_representation_max ----------\n"
     ]
    },
    {
     "name": "stderr",
     "output_type": "stream",
     "text": [
      "[I 2024-11-04 02:23:23,556] Trial 459 finished with value: 0.7804877758026123 and parameters: {'hidden_dim': 32, 'num_layers': 1, 'optimizer_name': 'Adam', 'batch_size': 2048, 'learning_rate': 0.001, 'sentence_representation_type': 'max'}. Best is trial 50 with value: 0.7804877758026123.\n",
      "Seed set to 42\n"
     ]
    },
    {
     "name": "stdout",
     "output_type": "stream",
     "text": [
      "[Skipping] rnn/test/w2v-3b/batch_size_2048-lr_0.001-optimizer_Adam-hidden_dim_32-num_layers_1-sr_type_max-freeze_False\n",
      "---------- batch_size_64; lr_0.001; optimizer_Adam; hidden_dim_32; num_layers_1; sentence_representation_max ----------\n"
     ]
    },
    {
     "name": "stderr",
     "output_type": "stream",
     "text": [
      "[I 2024-11-04 02:23:24,200] Trial 460 finished with value: 0.4108687937259674 and parameters: {'hidden_dim': 32, 'num_layers': 1, 'optimizer_name': 'Adam', 'batch_size': 64, 'learning_rate': 0.001, 'sentence_representation_type': 'max'}. Best is trial 50 with value: 0.7804877758026123.\n",
      "Seed set to 42\n"
     ]
    },
    {
     "name": "stdout",
     "output_type": "stream",
     "text": [
      "[Skipping] rnn/test/w2v-3b/batch_size_64-lr_0.001-optimizer_Adam-hidden_dim_32-num_layers_1-sr_type_max-freeze_False\n",
      "---------- batch_size_2048; lr_0.001; optimizer_Adam; hidden_dim_32; num_layers_1; sentence_representation_last ----------\n"
     ]
    },
    {
     "name": "stderr",
     "output_type": "stream",
     "text": [
      "[I 2024-11-04 02:23:24,856] Trial 461 finished with value: 0.7467166781425476 and parameters: {'hidden_dim': 32, 'num_layers': 1, 'optimizer_name': 'Adam', 'batch_size': 2048, 'learning_rate': 0.001, 'sentence_representation_type': 'last'}. Best is trial 50 with value: 0.7804877758026123.\n",
      "Seed set to 42\n"
     ]
    },
    {
     "name": "stdout",
     "output_type": "stream",
     "text": [
      "[Skipping] rnn/test/w2v-3b/batch_size_2048-lr_0.001-optimizer_Adam-hidden_dim_32-num_layers_1-sr_type_last-freeze_False\n",
      "---------- batch_size_2048; lr_0.001; optimizer_Adam; hidden_dim_32; num_layers_1; sentence_representation_max ----------\n"
     ]
    },
    {
     "name": "stderr",
     "output_type": "stream",
     "text": [
      "[I 2024-11-04 02:23:25,507] Trial 462 finished with value: 0.7804877758026123 and parameters: {'hidden_dim': 32, 'num_layers': 1, 'optimizer_name': 'Adam', 'batch_size': 2048, 'learning_rate': 0.001, 'sentence_representation_type': 'max'}. Best is trial 50 with value: 0.7804877758026123.\n",
      "Seed set to 42\n"
     ]
    },
    {
     "name": "stdout",
     "output_type": "stream",
     "text": [
      "[Skipping] rnn/test/w2v-3b/batch_size_2048-lr_0.001-optimizer_Adam-hidden_dim_32-num_layers_1-sr_type_max-freeze_False\n",
      "---------- batch_size_2048; lr_0.001; optimizer_Adam; hidden_dim_32; num_layers_1; sentence_representation_average ----------\n"
     ]
    },
    {
     "name": "stderr",
     "output_type": "stream",
     "text": [
      "[I 2024-11-04 02:23:26,159] Trial 463 finished with value: 0.7514071464538574 and parameters: {'hidden_dim': 32, 'num_layers': 1, 'optimizer_name': 'Adam', 'batch_size': 2048, 'learning_rate': 0.001, 'sentence_representation_type': 'average'}. Best is trial 50 with value: 0.7804877758026123.\n",
      "Seed set to 42\n"
     ]
    },
    {
     "name": "stdout",
     "output_type": "stream",
     "text": [
      "[Skipping] rnn/test/w2v-3b/batch_size_2048-lr_0.001-optimizer_Adam-hidden_dim_32-num_layers_1-sr_type_average-freeze_False\n",
      "---------- batch_size_2048; lr_0.001; optimizer_Adam; hidden_dim_32; num_layers_1; sentence_representation_max ----------\n"
     ]
    },
    {
     "name": "stderr",
     "output_type": "stream",
     "text": [
      "[I 2024-11-04 02:23:26,851] Trial 464 finished with value: 0.7804877758026123 and parameters: {'hidden_dim': 32, 'num_layers': 1, 'optimizer_name': 'Adam', 'batch_size': 2048, 'learning_rate': 0.001, 'sentence_representation_type': 'max'}. Best is trial 50 with value: 0.7804877758026123.\n",
      "Seed set to 42\n"
     ]
    },
    {
     "name": "stdout",
     "output_type": "stream",
     "text": [
      "[Skipping] rnn/test/w2v-3b/batch_size_2048-lr_0.001-optimizer_Adam-hidden_dim_32-num_layers_1-sr_type_max-freeze_False\n",
      "---------- batch_size_128; lr_0.001; optimizer_Adam; hidden_dim_32; num_layers_2; sentence_representation_max ----------\n"
     ]
    },
    {
     "name": "stderr",
     "output_type": "stream",
     "text": [
      "GPU available: True (cuda), used: False\n",
      "TPU available: False, using: 0 TPU cores\n",
      "HPU available: False, using: 0 HPUs\n",
      "\n",
      "  | Name   | Type               | Params | Mode \n",
      "------------------------------------------------------\n",
      "0 | model  | RNN                | 4.9 M  | train\n",
      "1 | metric | MulticlassAccuracy | 0      | train\n",
      "------------------------------------------------------\n",
      "4.9 M     Trainable params\n",
      "0         Non-trainable params\n",
      "4.9 M     Total params\n",
      "19.654    Total estimated model params size (MB)\n",
      "7         Modules in train mode\n",
      "0         Modules in eval mode\n"
     ]
    },
    {
     "data": {
      "application/vnd.jupyter.widget-view+json": {
       "model_id": "39c6b6bd746845348c975876fbeddf54",
       "version_major": 2,
       "version_minor": 0
      },
      "text/plain": [
       "Sanity Checking: |          | 0/? [00:00<?, ?it/s]"
      ]
     },
     "metadata": {},
     "output_type": "display_data"
    },
    {
     "data": {
      "application/vnd.jupyter.widget-view+json": {
       "model_id": "da5fe3663dc84c33ac236bc036f085ea",
       "version_major": 2,
       "version_minor": 0
      },
      "text/plain": [
       "Training: |          | 0/? [00:00<?, ?it/s]"
      ]
     },
     "metadata": {},
     "output_type": "display_data"
    },
    {
     "data": {
      "application/vnd.jupyter.widget-view+json": {
       "model_id": "d29fad8da58f46a08b12537811586be4",
       "version_major": 2,
       "version_minor": 0
      },
      "text/plain": [
       "Validation: |          | 0/? [00:00<?, ?it/s]"
      ]
     },
     "metadata": {},
     "output_type": "display_data"
    },
    {
     "data": {
      "application/vnd.jupyter.widget-view+json": {
       "model_id": "0b362d973dab4c52843a470501f97074",
       "version_major": 2,
       "version_minor": 0
      },
      "text/plain": [
       "Validation: |          | 0/? [00:00<?, ?it/s]"
      ]
     },
     "metadata": {},
     "output_type": "display_data"
    },
    {
     "data": {
      "application/vnd.jupyter.widget-view+json": {
       "model_id": "9d8ac79be4a4429db817c9d67276edd7",
       "version_major": 2,
       "version_minor": 0
      },
      "text/plain": [
       "Validation: |          | 0/? [00:00<?, ?it/s]"
      ]
     },
     "metadata": {},
     "output_type": "display_data"
    },
    {
     "data": {
      "application/vnd.jupyter.widget-view+json": {
       "model_id": "9991494e79e8460b8c1690f7a5cfdb34",
       "version_major": 2,
       "version_minor": 0
      },
      "text/plain": [
       "Validation: |          | 0/? [00:00<?, ?it/s]"
      ]
     },
     "metadata": {},
     "output_type": "display_data"
    },
    {
     "data": {
      "application/vnd.jupyter.widget-view+json": {
       "model_id": "65396ba883c5437dac1138a8db2cb470",
       "version_major": 2,
       "version_minor": 0
      },
      "text/plain": [
       "Validation: |          | 0/? [00:00<?, ?it/s]"
      ]
     },
     "metadata": {},
     "output_type": "display_data"
    },
    {
     "name": "stderr",
     "output_type": "stream",
     "text": [
      "[I 2024-11-04 02:24:24,734] Trial 465 finished with value: 0.43937864899635315 and parameters: {'hidden_dim': 32, 'num_layers': 2, 'optimizer_name': 'Adam', 'batch_size': 128, 'learning_rate': 0.001, 'sentence_representation_type': 'max'}. Best is trial 50 with value: 0.7804877758026123.\n",
      "Seed set to 42\n"
     ]
    },
    {
     "name": "stdout",
     "output_type": "stream",
     "text": [
      "---------- batch_size_32; lr_0.001; optimizer_Adam; hidden_dim_32; num_layers_1; sentence_representation_max ----------\n"
     ]
    },
    {
     "name": "stderr",
     "output_type": "stream",
     "text": [
      "[I 2024-11-04 02:24:25,385] Trial 466 finished with value: 0.3944307565689087 and parameters: {'hidden_dim': 32, 'num_layers': 1, 'optimizer_name': 'Adam', 'batch_size': 32, 'learning_rate': 0.001, 'sentence_representation_type': 'max'}. Best is trial 50 with value: 0.7804877758026123.\n",
      "Seed set to 42\n"
     ]
    },
    {
     "name": "stdout",
     "output_type": "stream",
     "text": [
      "[Skipping] rnn/test/w2v-3b/batch_size_32-lr_0.001-optimizer_Adam-hidden_dim_32-num_layers_1-sr_type_max-freeze_False\n",
      "---------- batch_size_2048; lr_0.001; optimizer_Adam; hidden_dim_32; num_layers_1; sentence_representation_max ----------\n"
     ]
    },
    {
     "name": "stderr",
     "output_type": "stream",
     "text": [
      "[I 2024-11-04 02:24:26,085] Trial 467 finished with value: 0.7804877758026123 and parameters: {'hidden_dim': 32, 'num_layers': 1, 'optimizer_name': 'Adam', 'batch_size': 2048, 'learning_rate': 0.001, 'sentence_representation_type': 'max'}. Best is trial 50 with value: 0.7804877758026123.\n",
      "Seed set to 42\n"
     ]
    },
    {
     "name": "stdout",
     "output_type": "stream",
     "text": [
      "[Skipping] rnn/test/w2v-3b/batch_size_2048-lr_0.001-optimizer_Adam-hidden_dim_32-num_layers_1-sr_type_max-freeze_False\n",
      "---------- batch_size_2048; lr_0.0001; optimizer_Adam; hidden_dim_32; num_layers_1; sentence_representation_max ----------\n"
     ]
    },
    {
     "name": "stderr",
     "output_type": "stream",
     "text": [
      "[I 2024-11-04 02:24:26,790] Trial 468 finished with value: 0.7682926654815674 and parameters: {'hidden_dim': 32, 'num_layers': 1, 'optimizer_name': 'Adam', 'batch_size': 2048, 'learning_rate': 0.0001, 'sentence_representation_type': 'max'}. Best is trial 50 with value: 0.7804877758026123.\n",
      "Seed set to 42\n"
     ]
    },
    {
     "name": "stdout",
     "output_type": "stream",
     "text": [
      "[Skipping] rnn/test/w2v-3b/batch_size_2048-lr_0.0001-optimizer_Adam-hidden_dim_32-num_layers_1-sr_type_max-freeze_False\n",
      "---------- batch_size_2048; lr_0.001; optimizer_Adam; hidden_dim_32; num_layers_1; sentence_representation_max ----------\n"
     ]
    },
    {
     "name": "stderr",
     "output_type": "stream",
     "text": [
      "[I 2024-11-04 02:24:27,417] Trial 469 finished with value: 0.7804877758026123 and parameters: {'hidden_dim': 32, 'num_layers': 1, 'optimizer_name': 'Adam', 'batch_size': 2048, 'learning_rate': 0.001, 'sentence_representation_type': 'max'}. Best is trial 50 with value: 0.7804877758026123.\n",
      "Seed set to 42\n"
     ]
    },
    {
     "name": "stdout",
     "output_type": "stream",
     "text": [
      "[Skipping] rnn/test/w2v-3b/batch_size_2048-lr_0.001-optimizer_Adam-hidden_dim_32-num_layers_1-sr_type_max-freeze_False\n",
      "---------- batch_size_2048; lr_0.001; optimizer_Adam; hidden_dim_128; num_layers_1; sentence_representation_max ----------\n"
     ]
    },
    {
     "name": "stderr",
     "output_type": "stream",
     "text": [
      "[I 2024-11-04 02:24:28,052] Trial 470 finished with value: 0.7682926654815674 and parameters: {'hidden_dim': 128, 'num_layers': 1, 'optimizer_name': 'Adam', 'batch_size': 2048, 'learning_rate': 0.001, 'sentence_representation_type': 'max'}. Best is trial 50 with value: 0.7804877758026123.\n",
      "Seed set to 42\n"
     ]
    },
    {
     "name": "stdout",
     "output_type": "stream",
     "text": [
      "[Skipping] rnn/test/w2v-3b/batch_size_2048-lr_0.001-optimizer_Adam-hidden_dim_128-num_layers_1-sr_type_max-freeze_False\n",
      "---------- batch_size_2048; lr_0.01; optimizer_Adam; hidden_dim_32; num_layers_1; sentence_representation_max ----------\n"
     ]
    },
    {
     "name": "stderr",
     "output_type": "stream",
     "text": [
      "[I 2024-11-04 02:24:28,704] Trial 471 finished with value: 0.7682926654815674 and parameters: {'hidden_dim': 32, 'num_layers': 1, 'optimizer_name': 'Adam', 'batch_size': 2048, 'learning_rate': 0.01, 'sentence_representation_type': 'max'}. Best is trial 50 with value: 0.7804877758026123.\n",
      "Seed set to 42\n"
     ]
    },
    {
     "name": "stdout",
     "output_type": "stream",
     "text": [
      "[Skipping] rnn/test/w2v-3b/batch_size_2048-lr_0.01-optimizer_Adam-hidden_dim_32-num_layers_1-sr_type_max-freeze_False\n",
      "---------- batch_size_2048; lr_0.001; optimizer_Adam; hidden_dim_32; num_layers_1; sentence_representation_max ----------\n"
     ]
    },
    {
     "name": "stderr",
     "output_type": "stream",
     "text": [
      "[I 2024-11-04 02:24:29,401] Trial 472 finished with value: 0.7804877758026123 and parameters: {'hidden_dim': 32, 'num_layers': 1, 'optimizer_name': 'Adam', 'batch_size': 2048, 'learning_rate': 0.001, 'sentence_representation_type': 'max'}. Best is trial 50 with value: 0.7804877758026123.\n",
      "Seed set to 42\n"
     ]
    },
    {
     "name": "stdout",
     "output_type": "stream",
     "text": [
      "[Skipping] rnn/test/w2v-3b/batch_size_2048-lr_0.001-optimizer_Adam-hidden_dim_32-num_layers_1-sr_type_max-freeze_False\n",
      "---------- batch_size_2048; lr_0.001; optimizer_Adam; hidden_dim_32; num_layers_2; sentence_representation_max ----------\n"
     ]
    },
    {
     "name": "stderr",
     "output_type": "stream",
     "text": [
      "[I 2024-11-04 02:24:30,038] Trial 473 finished with value: 0.7636022567749023 and parameters: {'hidden_dim': 32, 'num_layers': 2, 'optimizer_name': 'Adam', 'batch_size': 2048, 'learning_rate': 0.001, 'sentence_representation_type': 'max'}. Best is trial 50 with value: 0.7804877758026123.\n",
      "Seed set to 42\n"
     ]
    },
    {
     "name": "stdout",
     "output_type": "stream",
     "text": [
      "[Skipping] rnn/test/w2v-3b/batch_size_2048-lr_0.001-optimizer_Adam-hidden_dim_32-num_layers_2-sr_type_max-freeze_False\n",
      "---------- batch_size_2048; lr_0.001; optimizer_Adam; hidden_dim_32; num_layers_1; sentence_representation_max ----------\n"
     ]
    },
    {
     "name": "stderr",
     "output_type": "stream",
     "text": [
      "[I 2024-11-04 02:24:30,681] Trial 474 finished with value: 0.7804877758026123 and parameters: {'hidden_dim': 32, 'num_layers': 1, 'optimizer_name': 'Adam', 'batch_size': 2048, 'learning_rate': 0.001, 'sentence_representation_type': 'max'}. Best is trial 50 with value: 0.7804877758026123.\n",
      "Seed set to 42\n"
     ]
    },
    {
     "name": "stdout",
     "output_type": "stream",
     "text": [
      "[Skipping] rnn/test/w2v-3b/batch_size_2048-lr_0.001-optimizer_Adam-hidden_dim_32-num_layers_1-sr_type_max-freeze_False\n",
      "---------- batch_size_2048; lr_0.001; optimizer_Adam; hidden_dim_32; num_layers_1; sentence_representation_max ----------\n"
     ]
    },
    {
     "name": "stderr",
     "output_type": "stream",
     "text": [
      "[I 2024-11-04 02:24:31,357] Trial 475 finished with value: 0.7804877758026123 and parameters: {'hidden_dim': 32, 'num_layers': 1, 'optimizer_name': 'Adam', 'batch_size': 2048, 'learning_rate': 0.001, 'sentence_representation_type': 'max'}. Best is trial 50 with value: 0.7804877758026123.\n",
      "Seed set to 42\n"
     ]
    },
    {
     "name": "stdout",
     "output_type": "stream",
     "text": [
      "[Skipping] rnn/test/w2v-3b/batch_size_2048-lr_0.001-optimizer_Adam-hidden_dim_32-num_layers_1-sr_type_max-freeze_False\n",
      "---------- batch_size_2048; lr_0.1; optimizer_Adam; hidden_dim_64; num_layers_1; sentence_representation_max ----------\n"
     ]
    },
    {
     "name": "stderr",
     "output_type": "stream",
     "text": [
      "[I 2024-11-04 02:24:31,995] Trial 476 finished with value: 0.5506566762924194 and parameters: {'hidden_dim': 64, 'num_layers': 1, 'optimizer_name': 'Adam', 'batch_size': 2048, 'learning_rate': 0.1, 'sentence_representation_type': 'max'}. Best is trial 50 with value: 0.7804877758026123.\n",
      "Seed set to 42\n"
     ]
    },
    {
     "name": "stdout",
     "output_type": "stream",
     "text": [
      "[Skipping] rnn/test/w2v-3b/batch_size_2048-lr_0.1-optimizer_Adam-hidden_dim_64-num_layers_1-sr_type_max-freeze_False\n",
      "---------- batch_size_256; lr_0.001; optimizer_Adam; hidden_dim_32; num_layers_1; sentence_representation_max ----------\n"
     ]
    },
    {
     "name": "stderr",
     "output_type": "stream",
     "text": [
      "[I 2024-11-04 02:24:32,687] Trial 477 finished with value: 0.47315362095832825 and parameters: {'hidden_dim': 32, 'num_layers': 1, 'optimizer_name': 'Adam', 'batch_size': 256, 'learning_rate': 0.001, 'sentence_representation_type': 'max'}. Best is trial 50 with value: 0.7804877758026123.\n",
      "Seed set to 42\n"
     ]
    },
    {
     "name": "stdout",
     "output_type": "stream",
     "text": [
      "[Skipping] rnn/test/w2v-3b/batch_size_256-lr_0.001-optimizer_Adam-hidden_dim_32-num_layers_1-sr_type_max-freeze_False\n",
      "---------- batch_size_2048; lr_0.001; optimizer_Adam; hidden_dim_32; num_layers_1; sentence_representation_max ----------\n"
     ]
    },
    {
     "name": "stderr",
     "output_type": "stream",
     "text": [
      "[I 2024-11-04 02:24:33,321] Trial 478 finished with value: 0.7804877758026123 and parameters: {'hidden_dim': 32, 'num_layers': 1, 'optimizer_name': 'Adam', 'batch_size': 2048, 'learning_rate': 0.001, 'sentence_representation_type': 'max'}. Best is trial 50 with value: 0.7804877758026123.\n",
      "Seed set to 42\n"
     ]
    },
    {
     "name": "stdout",
     "output_type": "stream",
     "text": [
      "[Skipping] rnn/test/w2v-3b/batch_size_2048-lr_0.001-optimizer_Adam-hidden_dim_32-num_layers_1-sr_type_max-freeze_False\n",
      "---------- batch_size_2048; lr_0.001; optimizer_Adam; hidden_dim_32; num_layers_1; sentence_representation_max ----------\n"
     ]
    },
    {
     "name": "stderr",
     "output_type": "stream",
     "text": [
      "[I 2024-11-04 02:24:33,969] Trial 479 finished with value: 0.7804877758026123 and parameters: {'hidden_dim': 32, 'num_layers': 1, 'optimizer_name': 'Adam', 'batch_size': 2048, 'learning_rate': 0.001, 'sentence_representation_type': 'max'}. Best is trial 50 with value: 0.7804877758026123.\n",
      "Seed set to 42\n"
     ]
    },
    {
     "name": "stdout",
     "output_type": "stream",
     "text": [
      "[Skipping] rnn/test/w2v-3b/batch_size_2048-lr_0.001-optimizer_Adam-hidden_dim_32-num_layers_1-sr_type_max-freeze_False\n",
      "---------- batch_size_512; lr_0.001; optimizer_Adam; hidden_dim_256; num_layers_1; sentence_representation_max ----------\n"
     ]
    },
    {
     "name": "stderr",
     "output_type": "stream",
     "text": [
      "[I 2024-11-04 02:24:34,633] Trial 480 finished with value: 0.551480770111084 and parameters: {'hidden_dim': 256, 'num_layers': 1, 'optimizer_name': 'Adam', 'batch_size': 512, 'learning_rate': 0.001, 'sentence_representation_type': 'max'}. Best is trial 50 with value: 0.7804877758026123.\n",
      "Seed set to 42\n"
     ]
    },
    {
     "name": "stdout",
     "output_type": "stream",
     "text": [
      "[Skipping] rnn/test/w2v-3b/batch_size_512-lr_0.001-optimizer_Adam-hidden_dim_256-num_layers_1-sr_type_max-freeze_False\n",
      "---------- batch_size_2048; lr_0.001; optimizer_Adam; hidden_dim_32; num_layers_1; sentence_representation_max ----------\n"
     ]
    },
    {
     "name": "stderr",
     "output_type": "stream",
     "text": [
      "[I 2024-11-04 02:24:35,280] Trial 481 finished with value: 0.7804877758026123 and parameters: {'hidden_dim': 32, 'num_layers': 1, 'optimizer_name': 'Adam', 'batch_size': 2048, 'learning_rate': 0.001, 'sentence_representation_type': 'max'}. Best is trial 50 with value: 0.7804877758026123.\n",
      "Seed set to 42\n"
     ]
    },
    {
     "name": "stdout",
     "output_type": "stream",
     "text": [
      "[Skipping] rnn/test/w2v-3b/batch_size_2048-lr_0.001-optimizer_Adam-hidden_dim_32-num_layers_1-sr_type_max-freeze_False\n",
      "---------- batch_size_2048; lr_0.001; optimizer_Adam; hidden_dim_32; num_layers_1; sentence_representation_last ----------\n"
     ]
    },
    {
     "name": "stderr",
     "output_type": "stream",
     "text": [
      "[I 2024-11-04 02:24:35,999] Trial 482 finished with value: 0.7467166781425476 and parameters: {'hidden_dim': 32, 'num_layers': 1, 'optimizer_name': 'Adam', 'batch_size': 2048, 'learning_rate': 0.001, 'sentence_representation_type': 'last'}. Best is trial 50 with value: 0.7804877758026123.\n",
      "Seed set to 42\n"
     ]
    },
    {
     "name": "stdout",
     "output_type": "stream",
     "text": [
      "[Skipping] rnn/test/w2v-3b/batch_size_2048-lr_0.001-optimizer_Adam-hidden_dim_32-num_layers_1-sr_type_last-freeze_False\n",
      "---------- batch_size_2048; lr_0.001; optimizer_Adam; hidden_dim_32; num_layers_1; sentence_representation_max ----------\n"
     ]
    },
    {
     "name": "stderr",
     "output_type": "stream",
     "text": [
      "[I 2024-11-04 02:24:36,621] Trial 483 finished with value: 0.7804877758026123 and parameters: {'hidden_dim': 32, 'num_layers': 1, 'optimizer_name': 'Adam', 'batch_size': 2048, 'learning_rate': 0.001, 'sentence_representation_type': 'max'}. Best is trial 50 with value: 0.7804877758026123.\n",
      "Seed set to 42\n"
     ]
    },
    {
     "name": "stdout",
     "output_type": "stream",
     "text": [
      "[Skipping] rnn/test/w2v-3b/batch_size_2048-lr_0.001-optimizer_Adam-hidden_dim_32-num_layers_1-sr_type_max-freeze_False\n",
      "---------- batch_size_1024; lr_0.001; optimizer_Adam; hidden_dim_32; num_layers_1; sentence_representation_max ----------\n"
     ]
    },
    {
     "name": "stderr",
     "output_type": "stream",
     "text": [
      "[I 2024-11-04 02:24:37,247] Trial 484 finished with value: 0.7682369947433472 and parameters: {'hidden_dim': 32, 'num_layers': 1, 'optimizer_name': 'Adam', 'batch_size': 1024, 'learning_rate': 0.001, 'sentence_representation_type': 'max'}. Best is trial 50 with value: 0.7804877758026123.\n",
      "Seed set to 42\n"
     ]
    },
    {
     "name": "stdout",
     "output_type": "stream",
     "text": [
      "[Skipping] rnn/test/w2v-3b/batch_size_1024-lr_0.001-optimizer_Adam-hidden_dim_32-num_layers_1-sr_type_max-freeze_False\n",
      "---------- batch_size_2048; lr_0.001; optimizer_Adam; hidden_dim_32; num_layers_1; sentence_representation_max ----------\n"
     ]
    },
    {
     "name": "stderr",
     "output_type": "stream",
     "text": [
      "[I 2024-11-04 02:24:37,872] Trial 485 finished with value: 0.7804877758026123 and parameters: {'hidden_dim': 32, 'num_layers': 1, 'optimizer_name': 'Adam', 'batch_size': 2048, 'learning_rate': 0.001, 'sentence_representation_type': 'max'}. Best is trial 50 with value: 0.7804877758026123.\n",
      "Seed set to 42\n"
     ]
    },
    {
     "name": "stdout",
     "output_type": "stream",
     "text": [
      "[Skipping] rnn/test/w2v-3b/batch_size_2048-lr_0.001-optimizer_Adam-hidden_dim_32-num_layers_1-sr_type_max-freeze_False\n",
      "---------- batch_size_2048; lr_0.001; optimizer_Adam; hidden_dim_32; num_layers_1; sentence_representation_max ----------\n"
     ]
    },
    {
     "name": "stderr",
     "output_type": "stream",
     "text": [
      "[I 2024-11-04 02:24:38,513] Trial 486 finished with value: 0.7804877758026123 and parameters: {'hidden_dim': 32, 'num_layers': 1, 'optimizer_name': 'Adam', 'batch_size': 2048, 'learning_rate': 0.001, 'sentence_representation_type': 'max'}. Best is trial 50 with value: 0.7804877758026123.\n",
      "Seed set to 42\n"
     ]
    },
    {
     "name": "stdout",
     "output_type": "stream",
     "text": [
      "[Skipping] rnn/test/w2v-3b/batch_size_2048-lr_0.001-optimizer_Adam-hidden_dim_32-num_layers_1-sr_type_max-freeze_False\n",
      "---------- batch_size_2048; lr_0.001; optimizer_Adam; hidden_dim_32; num_layers_1; sentence_representation_max ----------\n"
     ]
    },
    {
     "name": "stderr",
     "output_type": "stream",
     "text": [
      "[I 2024-11-04 02:24:39,190] Trial 487 finished with value: 0.7804877758026123 and parameters: {'hidden_dim': 32, 'num_layers': 1, 'optimizer_name': 'Adam', 'batch_size': 2048, 'learning_rate': 0.001, 'sentence_representation_type': 'max'}. Best is trial 50 with value: 0.7804877758026123.\n",
      "Seed set to 42\n"
     ]
    },
    {
     "name": "stdout",
     "output_type": "stream",
     "text": [
      "[Skipping] rnn/test/w2v-3b/batch_size_2048-lr_0.001-optimizer_Adam-hidden_dim_32-num_layers_1-sr_type_max-freeze_False\n",
      "---------- batch_size_2048; lr_0.001; optimizer_Adam; hidden_dim_32; num_layers_1; sentence_representation_average ----------\n"
     ]
    },
    {
     "name": "stderr",
     "output_type": "stream",
     "text": [
      "[I 2024-11-04 02:24:39,826] Trial 488 finished with value: 0.7514071464538574 and parameters: {'hidden_dim': 32, 'num_layers': 1, 'optimizer_name': 'Adam', 'batch_size': 2048, 'learning_rate': 0.001, 'sentence_representation_type': 'average'}. Best is trial 50 with value: 0.7804877758026123.\n",
      "Seed set to 42\n"
     ]
    },
    {
     "name": "stdout",
     "output_type": "stream",
     "text": [
      "[Skipping] rnn/test/w2v-3b/batch_size_2048-lr_0.001-optimizer_Adam-hidden_dim_32-num_layers_1-sr_type_average-freeze_False\n",
      "---------- batch_size_2048; lr_0.001; optimizer_Adam; hidden_dim_32; num_layers_1; sentence_representation_max ----------\n"
     ]
    },
    {
     "name": "stderr",
     "output_type": "stream",
     "text": [
      "[I 2024-11-04 02:24:40,481] Trial 489 finished with value: 0.7804877758026123 and parameters: {'hidden_dim': 32, 'num_layers': 1, 'optimizer_name': 'Adam', 'batch_size': 2048, 'learning_rate': 0.001, 'sentence_representation_type': 'max'}. Best is trial 50 with value: 0.7804877758026123.\n",
      "Seed set to 42\n"
     ]
    },
    {
     "name": "stdout",
     "output_type": "stream",
     "text": [
      "[Skipping] rnn/test/w2v-3b/batch_size_2048-lr_0.001-optimizer_Adam-hidden_dim_32-num_layers_1-sr_type_max-freeze_False\n",
      "---------- batch_size_64; lr_0.001; optimizer_Adam; hidden_dim_32; num_layers_1; sentence_representation_max ----------\n"
     ]
    },
    {
     "name": "stderr",
     "output_type": "stream",
     "text": [
      "[I 2024-11-04 02:24:41,137] Trial 490 finished with value: 0.4108687937259674 and parameters: {'hidden_dim': 32, 'num_layers': 1, 'optimizer_name': 'Adam', 'batch_size': 64, 'learning_rate': 0.001, 'sentence_representation_type': 'max'}. Best is trial 50 with value: 0.7804877758026123.\n",
      "Seed set to 42\n"
     ]
    },
    {
     "name": "stdout",
     "output_type": "stream",
     "text": [
      "[Skipping] rnn/test/w2v-3b/batch_size_64-lr_0.001-optimizer_Adam-hidden_dim_32-num_layers_1-sr_type_max-freeze_False\n",
      "---------- batch_size_2048; lr_0.001; optimizer_Adam; hidden_dim_32; num_layers_1; sentence_representation_max ----------\n"
     ]
    },
    {
     "name": "stderr",
     "output_type": "stream",
     "text": [
      "[I 2024-11-04 02:24:41,815] Trial 491 finished with value: 0.7804877758026123 and parameters: {'hidden_dim': 32, 'num_layers': 1, 'optimizer_name': 'Adam', 'batch_size': 2048, 'learning_rate': 0.001, 'sentence_representation_type': 'max'}. Best is trial 50 with value: 0.7804877758026123.\n",
      "Seed set to 42\n"
     ]
    },
    {
     "name": "stdout",
     "output_type": "stream",
     "text": [
      "[Skipping] rnn/test/w2v-3b/batch_size_2048-lr_0.001-optimizer_Adam-hidden_dim_32-num_layers_1-sr_type_max-freeze_False\n",
      "---------- batch_size_2048; lr_0.0001; optimizer_Adam; hidden_dim_32; num_layers_1; sentence_representation_max ----------\n"
     ]
    },
    {
     "name": "stderr",
     "output_type": "stream",
     "text": [
      "[I 2024-11-04 02:24:42,482] Trial 492 finished with value: 0.7682926654815674 and parameters: {'hidden_dim': 32, 'num_layers': 1, 'optimizer_name': 'Adam', 'batch_size': 2048, 'learning_rate': 0.0001, 'sentence_representation_type': 'max'}. Best is trial 50 with value: 0.7804877758026123.\n",
      "Seed set to 42\n"
     ]
    },
    {
     "name": "stdout",
     "output_type": "stream",
     "text": [
      "[Skipping] rnn/test/w2v-3b/batch_size_2048-lr_0.0001-optimizer_Adam-hidden_dim_32-num_layers_1-sr_type_max-freeze_False\n",
      "---------- batch_size_2048; lr_0.001; optimizer_Adam; hidden_dim_32; num_layers_1; sentence_representation_max ----------\n"
     ]
    },
    {
     "name": "stderr",
     "output_type": "stream",
     "text": [
      "[I 2024-11-04 02:24:43,108] Trial 493 finished with value: 0.7804877758026123 and parameters: {'hidden_dim': 32, 'num_layers': 1, 'optimizer_name': 'Adam', 'batch_size': 2048, 'learning_rate': 0.001, 'sentence_representation_type': 'max'}. Best is trial 50 with value: 0.7804877758026123.\n",
      "Seed set to 42\n"
     ]
    },
    {
     "name": "stdout",
     "output_type": "stream",
     "text": [
      "[Skipping] rnn/test/w2v-3b/batch_size_2048-lr_0.001-optimizer_Adam-hidden_dim_32-num_layers_1-sr_type_max-freeze_False\n",
      "---------- batch_size_32; lr_0.001; optimizer_Adam; hidden_dim_32; num_layers_1; sentence_representation_max ----------\n"
     ]
    },
    {
     "name": "stderr",
     "output_type": "stream",
     "text": [
      "[I 2024-11-04 02:24:43,743] Trial 494 finished with value: 0.3944307565689087 and parameters: {'hidden_dim': 32, 'num_layers': 1, 'optimizer_name': 'Adam', 'batch_size': 32, 'learning_rate': 0.001, 'sentence_representation_type': 'max'}. Best is trial 50 with value: 0.7804877758026123.\n",
      "Seed set to 42\n"
     ]
    },
    {
     "name": "stdout",
     "output_type": "stream",
     "text": [
      "[Skipping] rnn/test/w2v-3b/batch_size_32-lr_0.001-optimizer_Adam-hidden_dim_32-num_layers_1-sr_type_max-freeze_False\n",
      "---------- batch_size_128; lr_0.001; optimizer_Adam; hidden_dim_128; num_layers_1; sentence_representation_max ----------\n"
     ]
    },
    {
     "name": "stderr",
     "output_type": "stream",
     "text": [
      "[I 2024-11-04 02:24:44,408] Trial 495 finished with value: 0.42641761898994446 and parameters: {'hidden_dim': 128, 'num_layers': 1, 'optimizer_name': 'Adam', 'batch_size': 128, 'learning_rate': 0.001, 'sentence_representation_type': 'max'}. Best is trial 50 with value: 0.7804877758026123.\n",
      "Seed set to 42\n"
     ]
    },
    {
     "name": "stdout",
     "output_type": "stream",
     "text": [
      "[Skipping] rnn/test/w2v-3b/batch_size_128-lr_0.001-optimizer_Adam-hidden_dim_128-num_layers_1-sr_type_max-freeze_False\n",
      "---------- batch_size_2048; lr_0.01; optimizer_Adam; hidden_dim_32; num_layers_1; sentence_representation_max ----------\n"
     ]
    },
    {
     "name": "stderr",
     "output_type": "stream",
     "text": [
      "[I 2024-11-04 02:24:45,056] Trial 496 finished with value: 0.7682926654815674 and parameters: {'hidden_dim': 32, 'num_layers': 1, 'optimizer_name': 'Adam', 'batch_size': 2048, 'learning_rate': 0.01, 'sentence_representation_type': 'max'}. Best is trial 50 with value: 0.7804877758026123.\n",
      "Seed set to 42\n"
     ]
    },
    {
     "name": "stdout",
     "output_type": "stream",
     "text": [
      "[Skipping] rnn/test/w2v-3b/batch_size_2048-lr_0.01-optimizer_Adam-hidden_dim_32-num_layers_1-sr_type_max-freeze_False\n",
      "---------- batch_size_2048; lr_0.001; optimizer_Adam; hidden_dim_32; num_layers_1; sentence_representation_max ----------\n"
     ]
    },
    {
     "name": "stderr",
     "output_type": "stream",
     "text": [
      "[I 2024-11-04 02:24:45,732] Trial 497 finished with value: 0.7804877758026123 and parameters: {'hidden_dim': 32, 'num_layers': 1, 'optimizer_name': 'Adam', 'batch_size': 2048, 'learning_rate': 0.001, 'sentence_representation_type': 'max'}. Best is trial 50 with value: 0.7804877758026123.\n",
      "Seed set to 42\n"
     ]
    },
    {
     "name": "stdout",
     "output_type": "stream",
     "text": [
      "[Skipping] rnn/test/w2v-3b/batch_size_2048-lr_0.001-optimizer_Adam-hidden_dim_32-num_layers_1-sr_type_max-freeze_False\n",
      "---------- batch_size_2048; lr_0.001; optimizer_Adam; hidden_dim_32; num_layers_1; sentence_representation_max ----------\n"
     ]
    },
    {
     "name": "stderr",
     "output_type": "stream",
     "text": [
      "[I 2024-11-04 02:24:46,380] Trial 498 finished with value: 0.7804877758026123 and parameters: {'hidden_dim': 32, 'num_layers': 1, 'optimizer_name': 'Adam', 'batch_size': 2048, 'learning_rate': 0.001, 'sentence_representation_type': 'max'}. Best is trial 50 with value: 0.7804877758026123.\n",
      "Seed set to 42\n"
     ]
    },
    {
     "name": "stdout",
     "output_type": "stream",
     "text": [
      "[Skipping] rnn/test/w2v-3b/batch_size_2048-lr_0.001-optimizer_Adam-hidden_dim_32-num_layers_1-sr_type_max-freeze_False\n",
      "---------- batch_size_2048; lr_0.001; optimizer_Adam; hidden_dim_32; num_layers_1; sentence_representation_max ----------\n"
     ]
    },
    {
     "name": "stderr",
     "output_type": "stream",
     "text": [
      "[I 2024-11-04 02:24:47,034] Trial 499 finished with value: 0.7804877758026123 and parameters: {'hidden_dim': 32, 'num_layers': 1, 'optimizer_name': 'Adam', 'batch_size': 2048, 'learning_rate': 0.001, 'sentence_representation_type': 'max'}. Best is trial 50 with value: 0.7804877758026123.\n"
     ]
    },
    {
     "name": "stdout",
     "output_type": "stream",
     "text": [
      "[Skipping] rnn/test/w2v-3b/batch_size_2048-lr_0.001-optimizer_Adam-hidden_dim_32-num_layers_1-sr_type_max-freeze_False\n"
     ]
    }
   ],
   "source": [
    "import optuna\n",
    "from utils.train import train_rnn_model_with_parameters\n",
    "\n",
    "SEARCH_SPACE = {\n",
    "    \"batch_size\": [32, 64, 128, 256, 512, 1024, 2048],\n",
    "    \"learning_rate\": [1e-1, 1e-2, 1e-3, 1e-4],\n",
    "    \"optimizer_name\": [\"Adam\"],\n",
    "    # RNN Model Parameters\n",
    "    \"hidden_dim\": [256, 128, 64, 32],\n",
    "    \"num_layers\": [1, 2, 4],\n",
    "    \"sentence_representation_type\": [\"last\", \"average\", \"max\"],\n",
    "}\n",
    "\n",
    "def objective(trial):\n",
    "    hidden_dim = trial.suggest_categorical(\"hidden_dim\", SEARCH_SPACE[\"hidden_dim\"])\n",
    "    num_layers = trial.suggest_int(\"num_layers\", min(SEARCH_SPACE[\"num_layers\"]), max(SEARCH_SPACE[\"num_layers\"]))\n",
    "    optimizer_name = trial.suggest_categorical(\"optimizer_name\", SEARCH_SPACE[\"optimizer_name\"])\n",
    "    batch_size = trial.suggest_categorical(\"batch_size\", SEARCH_SPACE[\"batch_size\"])\n",
    "    learning_rate = trial.suggest_categorical(\"learning_rate\", SEARCH_SPACE[\"learning_rate\"])\n",
    "    sentence_representation_type = trial.suggest_categorical(\"sentence_representation_type\", SEARCH_SPACE[\"sentence_representation_type\"])\n",
    "    \n",
    "    log_message = f\"---------- batch_size_{batch_size}; lr_{learning_rate}; optimizer_{optimizer_name}; hidden_dim_{hidden_dim}; num_layers_{num_layers}; sentence_representation_{sentence_representation_type} ----------\"\n",
    "    print(log_message)\n",
    "\n",
    "    val_acc = train_rnn_model_with_parameters(\n",
    "        embedding_matrix=embedding_matrix,\n",
    "        train_dataset=train_dataset,\n",
    "        val_dataset=val_dataset,\n",
    "        batch_size=batch_size,\n",
    "        learning_rate=learning_rate,\n",
    "        optimizer_name=optimizer_name,\n",
    "        hidden_dim=hidden_dim,\n",
    "        num_layers=num_layers,\n",
    "        sentence_representation_type=sentence_representation_type,\n",
    "        show_progress=True,\n",
    "        freeze_embedding=False,\n",
    "        log_dir=\"rnn/test/w2v-3b\"\n",
    "    )\n",
    "    \n",
    "    return val_acc\n",
    "\n",
    "# Set up the Optuna study\n",
    "study = optuna.create_study(direction=\"maximize\") \n",
    "study.optimize(objective, n_trials=500) \n",
    "\n",
    "best_params = study.best_params\n"
   ]
  },
  {
   "cell_type": "markdown",
   "metadata": {},
   "source": [
    "## Train Result Analysis"
   ]
  },
  {
   "cell_type": "code",
   "execution_count": 6,
   "metadata": {},
   "outputs": [
    {
     "ename": "NameError",
     "evalue": "name 'best_params' is not defined",
     "output_type": "error",
     "traceback": [
      "\u001b[1;31m---------------------------------------------------------------------------\u001b[0m",
      "\u001b[1;31mNameError\u001b[0m                                 Traceback (most recent call last)",
      "Cell \u001b[1;32mIn[6], line 1\u001b[0m\n\u001b[1;32m----> 1\u001b[0m \u001b[38;5;28mprint\u001b[39m(\u001b[38;5;124m\"\u001b[39m\u001b[38;5;124mBest hyperparameters:\u001b[39m\u001b[38;5;124m\"\u001b[39m, \u001b[43mbest_params\u001b[49m)\n",
      "\u001b[1;31mNameError\u001b[0m: name 'best_params' is not defined"
     ]
    }
   ],
   "source": [
    "print(\"Best hyperparameters:\", best_params)"
   ]
  },
  {
   "cell_type": "markdown",
   "metadata": {},
   "source": [
    "(a) Load result from all trials"
   ]
  },
  {
   "cell_type": "code",
   "execution_count": 17,
   "metadata": {},
   "outputs": [
    {
     "data": {
      "text/html": [
       "<div>\n",
       "<style scoped>\n",
       "    .dataframe tbody tr th:only-of-type {\n",
       "        vertical-align: middle;\n",
       "    }\n",
       "\n",
       "    .dataframe tbody tr th {\n",
       "        vertical-align: top;\n",
       "    }\n",
       "\n",
       "    .dataframe thead th {\n",
       "        text-align: right;\n",
       "    }\n",
       "</style>\n",
       "<table border=\"1\" class=\"dataframe\">\n",
       "  <thead>\n",
       "    <tr style=\"text-align: right;\">\n",
       "      <th></th>\n",
       "      <th>val_acc</th>\n",
       "      <th>train_acc</th>\n",
       "      <th>batch_size</th>\n",
       "      <th>hidden_dim</th>\n",
       "      <th>learning_rate</th>\n",
       "      <th>optimizer_name</th>\n",
       "      <th>num_layers</th>\n",
       "      <th>sentence_representation_type</th>\n",
       "      <th>freeze</th>\n",
       "      <th>epoch</th>\n",
       "      <th>train_loss</th>\n",
       "      <th>val_loss</th>\n",
       "      <th>filename</th>\n",
       "    </tr>\n",
       "  </thead>\n",
       "  <tbody>\n",
       "    <tr>\n",
       "      <th>0</th>\n",
       "      <td>0.777674</td>\n",
       "      <td>0.925366</td>\n",
       "      <td>2048</td>\n",
       "      <td>32</td>\n",
       "      <td>0.0001</td>\n",
       "      <td>Adam</td>\n",
       "      <td>1</td>\n",
       "      <td>last</td>\n",
       "      <td>False</td>\n",
       "      <td>67.0</td>\n",
       "      <td>0.329988</td>\n",
       "      <td>0.512574</td>\n",
       "      <td>events.out.tfevents.1730657533.LEEJUIN-PC.3436...</td>\n",
       "    </tr>\n",
       "    <tr>\n",
       "      <th>1</th>\n",
       "      <td>0.776735</td>\n",
       "      <td>NaN</td>\n",
       "      <td>2048</td>\n",
       "      <td>256</td>\n",
       "      <td>0.0010</td>\n",
       "      <td>Adam</td>\n",
       "      <td>2</td>\n",
       "      <td>last</td>\n",
       "      <td>False</td>\n",
       "      <td>8.0</td>\n",
       "      <td>NaN</td>\n",
       "      <td>0.511208</td>\n",
       "      <td>events.out.tfevents.1730656882.LEEJUIN-PC.3436...</td>\n",
       "    </tr>\n",
       "    <tr>\n",
       "      <th>2</th>\n",
       "      <td>0.770169</td>\n",
       "      <td>NaN</td>\n",
       "      <td>2048</td>\n",
       "      <td>256</td>\n",
       "      <td>0.0010</td>\n",
       "      <td>Adam</td>\n",
       "      <td>3</td>\n",
       "      <td>max</td>\n",
       "      <td>False</td>\n",
       "      <td>8.0</td>\n",
       "      <td>NaN</td>\n",
       "      <td>0.502858</td>\n",
       "      <td>events.out.tfevents.1730655326.LEEJUIN-PC.3436...</td>\n",
       "    </tr>\n",
       "    <tr>\n",
       "      <th>3</th>\n",
       "      <td>0.769231</td>\n",
       "      <td>NaN</td>\n",
       "      <td>2048</td>\n",
       "      <td>256</td>\n",
       "      <td>0.0010</td>\n",
       "      <td>Adam</td>\n",
       "      <td>1</td>\n",
       "      <td>max</td>\n",
       "      <td>False</td>\n",
       "      <td>7.0</td>\n",
       "      <td>NaN</td>\n",
       "      <td>0.477541</td>\n",
       "      <td>events.out.tfevents.1730656014.LEEJUIN-PC.3436...</td>\n",
       "    </tr>\n",
       "    <tr>\n",
       "      <th>4</th>\n",
       "      <td>0.768293</td>\n",
       "      <td>NaN</td>\n",
       "      <td>2048</td>\n",
       "      <td>32</td>\n",
       "      <td>0.0100</td>\n",
       "      <td>Adam</td>\n",
       "      <td>1</td>\n",
       "      <td>max</td>\n",
       "      <td>False</td>\n",
       "      <td>5.0</td>\n",
       "      <td>NaN</td>\n",
       "      <td>0.492991</td>\n",
       "      <td>events.out.tfevents.1730654123.LEEJUIN-PC.3436...</td>\n",
       "    </tr>\n",
       "    <tr>\n",
       "      <th>5</th>\n",
       "      <td>0.768293</td>\n",
       "      <td>NaN</td>\n",
       "      <td>2048</td>\n",
       "      <td>128</td>\n",
       "      <td>0.0010</td>\n",
       "      <td>Adam</td>\n",
       "      <td>1</td>\n",
       "      <td>max</td>\n",
       "      <td>False</td>\n",
       "      <td>8.0</td>\n",
       "      <td>NaN</td>\n",
       "      <td>0.477828</td>\n",
       "      <td>events.out.tfevents.1730651792.LEEJUIN-PC.3436.72</td>\n",
       "    </tr>\n",
       "    <tr>\n",
       "      <th>6</th>\n",
       "      <td>0.768293</td>\n",
       "      <td>0.887246</td>\n",
       "      <td>2048</td>\n",
       "      <td>32</td>\n",
       "      <td>0.0001</td>\n",
       "      <td>Adam</td>\n",
       "      <td>1</td>\n",
       "      <td>max</td>\n",
       "      <td>False</td>\n",
       "      <td>75.0</td>\n",
       "      <td>0.403241</td>\n",
       "      <td>0.529162</td>\n",
       "      <td>events.out.tfevents.1730654282.LEEJUIN-PC.3436...</td>\n",
       "    </tr>\n",
       "    <tr>\n",
       "      <th>7</th>\n",
       "      <td>0.768237</td>\n",
       "      <td>0.846502</td>\n",
       "      <td>1024</td>\n",
       "      <td>32</td>\n",
       "      <td>0.0010</td>\n",
       "      <td>Adam</td>\n",
       "      <td>1</td>\n",
       "      <td>max</td>\n",
       "      <td>False</td>\n",
       "      <td>10.0</td>\n",
       "      <td>0.471649</td>\n",
       "      <td>0.505253</td>\n",
       "      <td>events.out.tfevents.1730655743.LEEJUIN-PC.3436...</td>\n",
       "    </tr>\n",
       "    <tr>\n",
       "      <th>8</th>\n",
       "      <td>0.763602</td>\n",
       "      <td>0.871323</td>\n",
       "      <td>2048</td>\n",
       "      <td>32</td>\n",
       "      <td>0.0010</td>\n",
       "      <td>Adam</td>\n",
       "      <td>2</td>\n",
       "      <td>max</td>\n",
       "      <td>False</td>\n",
       "      <td>13.0</td>\n",
       "      <td>0.415798</td>\n",
       "      <td>0.520513</td>\n",
       "      <td>events.out.tfevents.1730654724.LEEJUIN-PC.3436...</td>\n",
       "    </tr>\n",
       "    <tr>\n",
       "      <th>9</th>\n",
       "      <td>0.763602</td>\n",
       "      <td>0.846154</td>\n",
       "      <td>2048</td>\n",
       "      <td>256</td>\n",
       "      <td>0.0100</td>\n",
       "      <td>Adam</td>\n",
       "      <td>1</td>\n",
       "      <td>average</td>\n",
       "      <td>False</td>\n",
       "      <td>10.0</td>\n",
       "      <td>0.346450</td>\n",
       "      <td>0.576905</td>\n",
       "      <td>events.out.tfevents.1730654936.LEEJUIN-PC.3436...</td>\n",
       "    </tr>\n",
       "    <tr>\n",
       "      <th>10</th>\n",
       "      <td>0.762664</td>\n",
       "      <td>NaN</td>\n",
       "      <td>2048</td>\n",
       "      <td>128</td>\n",
       "      <td>0.0010</td>\n",
       "      <td>Adam</td>\n",
       "      <td>4</td>\n",
       "      <td>max</td>\n",
       "      <td>False</td>\n",
       "      <td>6.0</td>\n",
       "      <td>NaN</td>\n",
       "      <td>0.524410</td>\n",
       "      <td>events.out.tfevents.1730652276.LEEJUIN-PC.3436.79</td>\n",
       "    </tr>\n",
       "    <tr>\n",
       "      <th>11</th>\n",
       "      <td>0.760788</td>\n",
       "      <td>NaN</td>\n",
       "      <td>2048</td>\n",
       "      <td>128</td>\n",
       "      <td>0.0010</td>\n",
       "      <td>Adam</td>\n",
       "      <td>2</td>\n",
       "      <td>max</td>\n",
       "      <td>False</td>\n",
       "      <td>7.0</td>\n",
       "      <td>NaN</td>\n",
       "      <td>0.515312</td>\n",
       "      <td>events.out.tfevents.1730652568.LEEJUIN-PC.3436.83</td>\n",
       "    </tr>\n",
       "    <tr>\n",
       "      <th>12</th>\n",
       "      <td>0.759850</td>\n",
       "      <td>NaN</td>\n",
       "      <td>2048</td>\n",
       "      <td>128</td>\n",
       "      <td>0.0100</td>\n",
       "      <td>Adam</td>\n",
       "      <td>1</td>\n",
       "      <td>average</td>\n",
       "      <td>False</td>\n",
       "      <td>5.0</td>\n",
       "      <td>NaN</td>\n",
       "      <td>0.537165</td>\n",
       "      <td>events.out.tfevents.1730651732.LEEJUIN-PC.3436.71</td>\n",
       "    </tr>\n",
       "    <tr>\n",
       "      <th>13</th>\n",
       "      <td>0.758912</td>\n",
       "      <td>0.946746</td>\n",
       "      <td>2048</td>\n",
       "      <td>64</td>\n",
       "      <td>0.0010</td>\n",
       "      <td>Adam</td>\n",
       "      <td>1</td>\n",
       "      <td>max</td>\n",
       "      <td>False</td>\n",
       "      <td>9.0</td>\n",
       "      <td>0.180115</td>\n",
       "      <td>0.493649</td>\n",
       "      <td>events.out.tfevents.1730652215.LEEJUIN-PC.3436.78</td>\n",
       "    </tr>\n",
       "    <tr>\n",
       "      <th>14</th>\n",
       "      <td>0.756576</td>\n",
       "      <td>0.935481</td>\n",
       "      <td>1024</td>\n",
       "      <td>128</td>\n",
       "      <td>0.0010</td>\n",
       "      <td>Adam</td>\n",
       "      <td>1</td>\n",
       "      <td>max</td>\n",
       "      <td>False</td>\n",
       "      <td>6.0</td>\n",
       "      <td>0.187312</td>\n",
       "      <td>0.498676</td>\n",
       "      <td>events.out.tfevents.1730653582.LEEJUIN-PC.3436.93</td>\n",
       "    </tr>\n",
       "    <tr>\n",
       "      <th>15</th>\n",
       "      <td>0.756098</td>\n",
       "      <td>NaN</td>\n",
       "      <td>2048</td>\n",
       "      <td>128</td>\n",
       "      <td>0.0100</td>\n",
       "      <td>Adam</td>\n",
       "      <td>2</td>\n",
       "      <td>max</td>\n",
       "      <td>False</td>\n",
       "      <td>7.0</td>\n",
       "      <td>NaN</td>\n",
       "      <td>0.562948</td>\n",
       "      <td>events.out.tfevents.1730649817.LEEJUIN-PC.3436.53</td>\n",
       "    </tr>\n",
       "    <tr>\n",
       "      <th>16</th>\n",
       "      <td>0.753283</td>\n",
       "      <td>NaN</td>\n",
       "      <td>2048</td>\n",
       "      <td>64</td>\n",
       "      <td>0.0010</td>\n",
       "      <td>Adam</td>\n",
       "      <td>1</td>\n",
       "      <td>last</td>\n",
       "      <td>False</td>\n",
       "      <td>8.0</td>\n",
       "      <td>NaN</td>\n",
       "      <td>0.529032</td>\n",
       "      <td>events.out.tfevents.1730657097.LEEJUIN-PC.3436...</td>\n",
       "    </tr>\n",
       "    <tr>\n",
       "      <th>17</th>\n",
       "      <td>0.753283</td>\n",
       "      <td>0.937870</td>\n",
       "      <td>2048</td>\n",
       "      <td>256</td>\n",
       "      <td>0.0010</td>\n",
       "      <td>Adam</td>\n",
       "      <td>1</td>\n",
       "      <td>average</td>\n",
       "      <td>False</td>\n",
       "      <td>9.0</td>\n",
       "      <td>0.196171</td>\n",
       "      <td>0.531066</td>\n",
       "      <td>events.out.tfevents.1730652976.LEEJUIN-PC.3436.87</td>\n",
       "    </tr>\n",
       "    <tr>\n",
       "      <th>18</th>\n",
       "      <td>0.752345</td>\n",
       "      <td>NaN</td>\n",
       "      <td>2048</td>\n",
       "      <td>64</td>\n",
       "      <td>0.0100</td>\n",
       "      <td>Adam</td>\n",
       "      <td>2</td>\n",
       "      <td>max</td>\n",
       "      <td>False</td>\n",
       "      <td>5.0</td>\n",
       "      <td>NaN</td>\n",
       "      <td>0.546058</td>\n",
       "      <td>events.out.tfevents.1730650979.LEEJUIN-PC.3436.64</td>\n",
       "    </tr>\n",
       "    <tr>\n",
       "      <th>19</th>\n",
       "      <td>0.751407</td>\n",
       "      <td>0.872781</td>\n",
       "      <td>2048</td>\n",
       "      <td>32</td>\n",
       "      <td>0.0010</td>\n",
       "      <td>Adam</td>\n",
       "      <td>1</td>\n",
       "      <td>average</td>\n",
       "      <td>False</td>\n",
       "      <td>13.0</td>\n",
       "      <td>0.509555</td>\n",
       "      <td>0.596130</td>\n",
       "      <td>events.out.tfevents.1730651525.LEEJUIN-PC.3436.68</td>\n",
       "    </tr>\n",
       "  </tbody>\n",
       "</table>\n",
       "</div>"
      ],
      "text/plain": [
       "     val_acc  train_acc  batch_size  hidden_dim  learning_rate optimizer_name  \\\n",
       "0   0.777674   0.925366        2048          32         0.0001           Adam   \n",
       "1   0.776735        NaN        2048         256         0.0010           Adam   \n",
       "2   0.770169        NaN        2048         256         0.0010           Adam   \n",
       "3   0.769231        NaN        2048         256         0.0010           Adam   \n",
       "4   0.768293        NaN        2048          32         0.0100           Adam   \n",
       "5   0.768293        NaN        2048         128         0.0010           Adam   \n",
       "6   0.768293   0.887246        2048          32         0.0001           Adam   \n",
       "7   0.768237   0.846502        1024          32         0.0010           Adam   \n",
       "8   0.763602   0.871323        2048          32         0.0010           Adam   \n",
       "9   0.763602   0.846154        2048         256         0.0100           Adam   \n",
       "10  0.762664        NaN        2048         128         0.0010           Adam   \n",
       "11  0.760788        NaN        2048         128         0.0010           Adam   \n",
       "12  0.759850        NaN        2048         128         0.0100           Adam   \n",
       "13  0.758912   0.946746        2048          64         0.0010           Adam   \n",
       "14  0.756576   0.935481        1024         128         0.0010           Adam   \n",
       "15  0.756098        NaN        2048         128         0.0100           Adam   \n",
       "16  0.753283        NaN        2048          64         0.0010           Adam   \n",
       "17  0.753283   0.937870        2048         256         0.0010           Adam   \n",
       "18  0.752345        NaN        2048          64         0.0100           Adam   \n",
       "19  0.751407   0.872781        2048          32         0.0010           Adam   \n",
       "\n",
       "    num_layers sentence_representation_type  freeze  epoch  train_loss  \\\n",
       "0            1                         last   False   67.0    0.329988   \n",
       "1            2                         last   False    8.0         NaN   \n",
       "2            3                          max   False    8.0         NaN   \n",
       "3            1                          max   False    7.0         NaN   \n",
       "4            1                          max   False    5.0         NaN   \n",
       "5            1                          max   False    8.0         NaN   \n",
       "6            1                          max   False   75.0    0.403241   \n",
       "7            1                          max   False   10.0    0.471649   \n",
       "8            2                          max   False   13.0    0.415798   \n",
       "9            1                      average   False   10.0    0.346450   \n",
       "10           4                          max   False    6.0         NaN   \n",
       "11           2                          max   False    7.0         NaN   \n",
       "12           1                      average   False    5.0         NaN   \n",
       "13           1                          max   False    9.0    0.180115   \n",
       "14           1                          max   False    6.0    0.187312   \n",
       "15           2                          max   False    7.0         NaN   \n",
       "16           1                         last   False    8.0         NaN   \n",
       "17           1                      average   False    9.0    0.196171   \n",
       "18           2                          max   False    5.0         NaN   \n",
       "19           1                      average   False   13.0    0.509555   \n",
       "\n",
       "    val_loss                                           filename  \n",
       "0   0.512574  events.out.tfevents.1730657533.LEEJUIN-PC.3436...  \n",
       "1   0.511208  events.out.tfevents.1730656882.LEEJUIN-PC.3436...  \n",
       "2   0.502858  events.out.tfevents.1730655326.LEEJUIN-PC.3436...  \n",
       "3   0.477541  events.out.tfevents.1730656014.LEEJUIN-PC.3436...  \n",
       "4   0.492991  events.out.tfevents.1730654123.LEEJUIN-PC.3436...  \n",
       "5   0.477828  events.out.tfevents.1730651792.LEEJUIN-PC.3436.72  \n",
       "6   0.529162  events.out.tfevents.1730654282.LEEJUIN-PC.3436...  \n",
       "7   0.505253  events.out.tfevents.1730655743.LEEJUIN-PC.3436...  \n",
       "8   0.520513  events.out.tfevents.1730654724.LEEJUIN-PC.3436...  \n",
       "9   0.576905  events.out.tfevents.1730654936.LEEJUIN-PC.3436...  \n",
       "10  0.524410  events.out.tfevents.1730652276.LEEJUIN-PC.3436.79  \n",
       "11  0.515312  events.out.tfevents.1730652568.LEEJUIN-PC.3436.83  \n",
       "12  0.537165  events.out.tfevents.1730651732.LEEJUIN-PC.3436.71  \n",
       "13  0.493649  events.out.tfevents.1730652215.LEEJUIN-PC.3436.78  \n",
       "14  0.498676  events.out.tfevents.1730653582.LEEJUIN-PC.3436.93  \n",
       "15  0.562948  events.out.tfevents.1730649817.LEEJUIN-PC.3436.53  \n",
       "16  0.529032  events.out.tfevents.1730657097.LEEJUIN-PC.3436...  \n",
       "17  0.531066  events.out.tfevents.1730652976.LEEJUIN-PC.3436.87  \n",
       "18  0.546058  events.out.tfevents.1730650979.LEEJUIN-PC.3436.64  \n",
       "19  0.596130  events.out.tfevents.1730651525.LEEJUIN-PC.3436.68  "
      ]
     },
     "execution_count": 17,
     "metadata": {},
     "output_type": "execute_result"
    }
   ],
   "source": [
    "from utils.analytics import load_tensorboard_logs\n",
    "\n",
    "train_results_df = load_tensorboard_logs(log_dir=\"tb_logs/rnn/test/w2v-3b\")\n",
    "\n",
    "train_results_df = train_results_df.sort_values(\n",
    "    by=[\"val_acc\"], ascending=False\n",
    ").reset_index(drop=True)\n",
    "train_results_df.head(20)"
   ]
  },
  {
   "cell_type": "markdown",
   "metadata": {},
   "source": [
    "(b) Configuration for best trial result"
   ]
  },
  {
   "cell_type": "code",
   "execution_count": 18,
   "metadata": {},
   "outputs": [
    {
     "data": {
      "text/html": [
       "<div>\n",
       "<style scoped>\n",
       "    .dataframe tbody tr th:only-of-type {\n",
       "        vertical-align: middle;\n",
       "    }\n",
       "\n",
       "    .dataframe tbody tr th {\n",
       "        vertical-align: top;\n",
       "    }\n",
       "\n",
       "    .dataframe thead th {\n",
       "        text-align: right;\n",
       "    }\n",
       "</style>\n",
       "<table border=\"1\" class=\"dataframe\">\n",
       "  <thead>\n",
       "    <tr style=\"text-align: right;\">\n",
       "      <th></th>\n",
       "      <th>val_acc</th>\n",
       "      <th>train_acc</th>\n",
       "      <th>batch_size</th>\n",
       "      <th>hidden_dim</th>\n",
       "      <th>learning_rate</th>\n",
       "      <th>optimizer_name</th>\n",
       "      <th>num_layers</th>\n",
       "      <th>sentence_representation_type</th>\n",
       "      <th>freeze</th>\n",
       "      <th>epoch</th>\n",
       "      <th>train_loss</th>\n",
       "      <th>val_loss</th>\n",
       "      <th>filename</th>\n",
       "    </tr>\n",
       "  </thead>\n",
       "  <tbody>\n",
       "    <tr>\n",
       "      <th>0</th>\n",
       "      <td>0.777674</td>\n",
       "      <td>0.925366</td>\n",
       "      <td>2048</td>\n",
       "      <td>32</td>\n",
       "      <td>0.0001</td>\n",
       "      <td>Adam</td>\n",
       "      <td>1</td>\n",
       "      <td>last</td>\n",
       "      <td>False</td>\n",
       "      <td>67.0</td>\n",
       "      <td>0.329988</td>\n",
       "      <td>0.512574</td>\n",
       "      <td>events.out.tfevents.1730657533.LEEJUIN-PC.3436...</td>\n",
       "    </tr>\n",
       "  </tbody>\n",
       "</table>\n",
       "</div>"
      ],
      "text/plain": [
       "    val_acc  train_acc  batch_size  hidden_dim  learning_rate optimizer_name  \\\n",
       "0  0.777674   0.925366        2048          32         0.0001           Adam   \n",
       "\n",
       "   num_layers sentence_representation_type  freeze  epoch  train_loss  \\\n",
       "0           1                         last   False   67.0    0.329988   \n",
       "\n",
       "   val_loss                                           filename  \n",
       "0  0.512574  events.out.tfevents.1730657533.LEEJUIN-PC.3436...  "
      ]
     },
     "execution_count": 18,
     "metadata": {},
     "output_type": "execute_result"
    }
   ],
   "source": [
    "best_rnn_model_configuration = train_results_df.head(1)\n",
    "best_rnn_model_configuration"
   ]
  },
  {
   "cell_type": "markdown",
   "metadata": {},
   "source": [
    "## Performance on Test Dataset"
   ]
  },
  {
   "cell_type": "code",
   "execution_count": 19,
   "metadata": {},
   "outputs": [
    {
     "name": "stdout",
     "output_type": "stream",
     "text": [
      "RNNClassifier(\n",
      "  (model): RNN(\n",
      "    (embedding): Embedding(16334, 300)\n",
      "    (rnn): RNN(300, 32, batch_first=True)\n",
      "    (fc): Linear(in_features=32, out_features=16, bias=True)\n",
      "    (relu): ReLU()\n",
      "    (fc2): Linear(in_features=16, out_features=2, bias=True)\n",
      "  )\n",
      "  (metric): MulticlassAccuracy()\n",
      ")\n"
     ]
    },
    {
     "name": "stderr",
     "output_type": "stream",
     "text": [
      "c:\\Users\\juinl\\Documents\\GitHub\\sc4002-nlp-sentiment-classification\\venv\\lib\\site-packages\\lightning\\pytorch\\utilities\\parsing.py:208: Attribute 'rnn_model' is an instance of `nn.Module` and is already saved during checkpointing. It is recommended to ignore them using `self.save_hyperparameters(ignore=['rnn_model'])`.\n"
     ]
    }
   ],
   "source": [
    "from pathlib import Path\n",
    "from utils.train import RNNClassifier\n",
    "\n",
    "\n",
    "best_rnn_model_filename = best_rnn_model_configuration[\"filename\"].item()\n",
    "matched_files = list(Path().rglob(best_rnn_model_filename))\n",
    "\n",
    "if not matched_files:\n",
    "    print(\"Model checkpoint not found!\")\n",
    "else:\n",
    "    checkpoint_dir = matched_files[0].parent / \"checkpoints\"\n",
    "    checkpoint_files = (\n",
    "        list(checkpoint_dir.glob(\"*.ckpt\")) if checkpoint_dir.exists() else []\n",
    "    )\n",
    "\n",
    "    if not checkpoint_files:\n",
    "        print(\"No checkpoint files found in the checkpoint directory!\")\n",
    "    else:\n",
    "        best_checkpoint = checkpoint_files[0] \n",
    "        best_rnn_model = RNNClassifier.load_from_checkpoint(\n",
    "            best_checkpoint\n",
    "        )\n",
    "        print(best_rnn_model)"
   ]
  },
  {
   "cell_type": "code",
   "execution_count": 20,
   "metadata": {},
   "outputs": [
    {
     "name": "stderr",
     "output_type": "stream",
     "text": [
      "GPU available: True (cuda), used: False\n",
      "TPU available: False, using: 0 TPU cores\n",
      "HPU available: False, using: 0 HPUs\n",
      "c:\\Users\\juinl\\Documents\\GitHub\\sc4002-nlp-sentiment-classification\\venv\\lib\\site-packages\\lightning\\pytorch\\trainer\\setup.py:177: GPU available but not used. You can set it by doing `Trainer(accelerator='gpu')`.\n",
      "c:\\Users\\juinl\\Documents\\GitHub\\sc4002-nlp-sentiment-classification\\venv\\lib\\site-packages\\lightning\\pytorch\\trainer\\connectors\\data_connector.py:475: Your `test_dataloader`'s sampler has shuffling enabled, it is strongly recommended that you turn shuffling off for val/test dataloaders.\n",
      "c:\\Users\\juinl\\Documents\\GitHub\\sc4002-nlp-sentiment-classification\\venv\\lib\\site-packages\\lightning\\pytorch\\trainer\\connectors\\data_connector.py:424: The 'test_dataloader' does not have many workers which may be a bottleneck. Consider increasing the value of the `num_workers` argument` to `num_workers=11` in the `DataLoader` to improve performance.\n"
     ]
    },
    {
     "data": {
      "application/vnd.jupyter.widget-view+json": {
       "model_id": "9aead1c07fdb45c3b1cdd787e25ceb69",
       "version_major": 2,
       "version_minor": 0
      },
      "text/plain": [
       "Testing: |          | 0/? [00:00<?, ?it/s]"
      ]
     },
     "metadata": {},
     "output_type": "display_data"
    },
    {
     "name": "stdout",
     "output_type": "stream",
     "text": [
      "────────────────────────────────────────────────────────────────────────────────────────────────────────────────────────\n",
      "       Test metric             DataLoader 0\n",
      "────────────────────────────────────────────────────────────────────────────────────────────────────────────────────────\n",
      "        test_acc            0.7861163020133972\n",
      "        test_loss           0.4762701690196991\n",
      "────────────────────────────────────────────────────────────────────────────────────────────────────────────────────────\n"
     ]
    },
    {
     "data": {
      "text/plain": [
       "[{'test_loss': 0.4762701690196991, 'test_acc': 0.7861163020133972}]"
      ]
     },
     "execution_count": 20,
     "metadata": {},
     "output_type": "execute_result"
    }
   ],
   "source": [
    "import lightning as L\n",
    "from torch.utils.data import DataLoader\n",
    "\n",
    "test_dataloader = DataLoader(test_dataset, shuffle=True)\n",
    "\n",
    "trainer = L.Trainer(accelerator=\"cpu\")\n",
    "trainer.test(best_rnn_model, test_dataloader)"
   ]
  }
 ],
 "metadata": {
  "kernelspec": {
   "display_name": "venv",
   "language": "python",
   "name": "python3"
  },
  "language_info": {
   "codemirror_mode": {
    "name": "ipython",
    "version": 3
   },
   "file_extension": ".py",
   "mimetype": "text/x-python",
   "name": "python",
   "nbconvert_exporter": "python",
   "pygments_lexer": "ipython3",
   "version": "3.9.13"
  }
 },
 "nbformat": 4,
 "nbformat_minor": 2
}
