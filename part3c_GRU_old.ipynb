{
 "cells": [
  {
   "cell_type": "markdown",
   "metadata": {},
   "source": [
    "# Part 3(c\n",
    ")\n",
    "\n",
    "This notebook will highlight the process, result and insights obtained from allowing updates to the embedding matrix during training."
   ]
  },
  {
   "cell_type": "markdown",
   "metadata": {},
   "source": [
    "## Import Embedding Matrix"
   ]
  },
  {
   "cell_type": "code",
   "execution_count": 1,
   "metadata": {},
   "outputs": [],
   "source": [
    "import json\n",
    "from pathlib import Path\n",
    "\n",
    "import numpy as np\n",
    "\n",
    "embedding_path = Path(\"models/embedding_matrix_oov.npy\")\n",
    "index_from_word_path = Path(\"models/index_from_word_oov.json\")\n",
    "\n",
    "embedding_matrix = np.load(embedding_path)\n",
    "with index_from_word_path.open() as f:\n",
    "    index_from_word = json.load(f)"
   ]
  },
  {
   "cell_type": "markdown",
   "metadata": {},
   "source": [
    "## Prepare Dataset"
   ]
  },
  {
   "cell_type": "markdown",
   "metadata": {},
   "source": [
    "(a) Import datasets"
   ]
  },
  {
   "cell_type": "code",
   "execution_count": 2,
   "metadata": {},
   "outputs": [
    {
     "name": "stderr",
     "output_type": "stream",
     "text": [
      "[nltk_data] Downloading package punkt to /Users/bohua/nltk_data...\n",
      "[nltk_data]   Package punkt is already up-to-date!\n",
      "[nltk_data] Downloading package treebank to /Users/bohua/nltk_data...\n",
      "[nltk_data]   Package treebank is already up-to-date!\n",
      "[nltk_data] Downloading package punkt_tab to /Users/bohua/nltk_data...\n",
      "[nltk_data]   Package punkt_tab is already up-to-date!\n"
     ]
    }
   ],
   "source": [
    "from utils.text import tokenize\n",
    "from datasets import load_dataset\n",
    "\n",
    "dataset = load_dataset(\"rotten_tomatoes\")\n",
    "train_dataset = tokenize(dataset[\"train\"])\n",
    "val_dataset = tokenize(dataset[\"validation\"])\n",
    "test_dataset = tokenize(dataset[\"test\"])"
   ]
  },
  {
   "cell_type": "markdown",
   "metadata": {},
   "source": [
    "(b) Tokenise dataset"
   ]
  },
  {
   "cell_type": "code",
   "execution_count": 3,
   "metadata": {},
   "outputs": [
    {
     "data": {
      "application/vnd.jupyter.widget-view+json": {
       "model_id": "d28a47ba90334cd9913dd98e9ab5e303",
       "version_major": 2,
       "version_minor": 0
      },
      "text/plain": [
       "Map:   0%|          | 0/8530 [00:00<?, ? examples/s]"
      ]
     },
     "metadata": {},
     "output_type": "display_data"
    },
    {
     "data": {
      "application/vnd.jupyter.widget-view+json": {
       "model_id": "50610bf8fa9c42ceb173b604a2b0a68f",
       "version_major": 2,
       "version_minor": 0
      },
      "text/plain": [
       "Map:   0%|          | 0/1066 [00:00<?, ? examples/s]"
      ]
     },
     "metadata": {},
     "output_type": "display_data"
    },
    {
     "data": {
      "application/vnd.jupyter.widget-view+json": {
       "model_id": "0f3d1436dc5c43108942235f72a2b9c0",
       "version_major": 2,
       "version_minor": 0
      },
      "text/plain": [
       "Map:   0%|          | 0/1066 [00:00<?, ? examples/s]"
      ]
     },
     "metadata": {},
     "output_type": "display_data"
    },
    {
     "data": {
      "text/plain": [
       "Dataset({\n",
       "    features: ['text', 'label', 'tokens', 'original_len', 'indexes'],\n",
       "    num_rows: 8530\n",
       "})"
      ]
     },
     "execution_count": 3,
     "metadata": {},
     "output_type": "execute_result"
    }
   ],
   "source": [
    "from utils.text import token_to_index\n",
    "\n",
    "train_dataset = token_to_index(dataset=train_dataset, index_from_word=index_from_word)\n",
    "val_dataset = token_to_index(dataset=val_dataset, index_from_word=index_from_word)\n",
    "test_dataset = token_to_index(dataset=test_dataset, index_from_word=index_from_word)\n",
    "\n",
    "train_dataset"
   ]
  },
  {
   "cell_type": "code",
   "execution_count": 4,
   "metadata": {},
   "outputs": [],
   "source": [
    "train_dataset = train_dataset.select_columns([\"label\", \"original_len\", \"indexes\"])\n",
    "val_dataset = val_dataset.select_columns([\"label\", \"original_len\", \"indexes\"])\n",
    "test_dataset = test_dataset.select_columns([\"label\", \"original_len\", \"indexes\"])"
   ]
  },
  {
   "cell_type": "code",
   "execution_count": 5,
   "metadata": {},
   "outputs": [],
   "source": [
    "train_dataset.set_format(type=\"torch\")\n",
    "val_dataset.set_format(type=\"torch\")\n",
    "test_dataset.set_format(type=\"torch\")"
   ]
  },
  {
   "cell_type": "markdown",
   "metadata": {},
   "source": [
    "## Train RNN"
   ]
  },
  {
   "cell_type": "markdown",
   "metadata": {},
   "source": [
    "We use Optuna to perform heuristic search on optimal configuration when embeddings are updatable during training."
   ]
  },
  {
   "cell_type": "code",
   "execution_count": 6,
   "metadata": {},
   "outputs": [
    {
     "name": "stderr",
     "output_type": "stream",
     "text": [
      "[I 2024-11-07 20:00:28,352] A new study created in memory with name: no-name-1353d4f3-5e5f-4681-b447-4680c8a4e9c9\n",
      "Seed set to 42\n",
      "/Users/bohua/.pyenv/versions/3.9.6/lib/python3.9/site-packages/lightning/pytorch/utilities/parsing.py:208: Attribute 'rnn_model' is an instance of `nn.Module` and is already saved during checkpointing. It is recommended to ignore them using `self.save_hyperparameters(ignore=['rnn_model'])`.\n"
     ]
    },
    {
     "name": "stdout",
     "output_type": "stream",
     "text": [
      "---------- batch_size_2048; lr_0.01; optimizer_Adam; hidden_dim_32; num_layers_4; sentence_representation_last; bidirectional_False ----------\n",
      "[Skipping] rnn_trainable_embeddings/batch_size_2048-lr_0.01-optimizer_Adam-hidden_dim_32-num_layers_4-sr_type_last-freeze_False-rnn_type_GRU-bidirectional_False\n"
     ]
    },
    {
     "name": "stderr",
     "output_type": "stream",
     "text": [
      "[I 2024-11-07 20:00:30,440] Trial 0 finished with value: 0.6349595785140991 and parameters: {'hidden_dim': 32, 'num_layers': 4, 'optimizer_name': 'Adam', 'batch_size': 2048, 'learning_rate': 0.01, 'sentence_representation_type': 'last', 'bidirectional': False}. Best is trial 0 with value: 0.6349595785140991.\n",
      "Seed set to 42\n",
      "[I 2024-11-07 20:00:30,456] Trial 1 finished with value: 0.66219562292099 and parameters: {'hidden_dim': 32, 'num_layers': 2, 'optimizer_name': 'Adam', 'batch_size': 2048, 'learning_rate': 0.1, 'sentence_representation_type': 'last', 'bidirectional': False}. Best is trial 1 with value: 0.66219562292099.\n",
      "Seed set to 42\n",
      "[I 2024-11-07 20:00:30,471] Trial 2 finished with value: 0.5869143009185791 and parameters: {'hidden_dim': 32, 'num_layers': 4, 'optimizer_name': 'Adam', 'batch_size': 2048, 'learning_rate': 0.01, 'sentence_representation_type': 'average', 'bidirectional': False}. Best is trial 1 with value: 0.66219562292099.\n",
      "Seed set to 42\n",
      "[I 2024-11-07 20:00:30,486] Trial 3 finished with value: 0.66219562292099 and parameters: {'hidden_dim': 32, 'num_layers': 2, 'optimizer_name': 'Adam', 'batch_size': 2048, 'learning_rate': 0.1, 'sentence_representation_type': 'last', 'bidirectional': False}. Best is trial 1 with value: 0.66219562292099.\n",
      "Seed set to 42\n",
      "[I 2024-11-07 20:00:30,501] Trial 4 finished with value: 0.6379793882369995 and parameters: {'hidden_dim': 32, 'num_layers': 2, 'optimizer_name': 'Adam', 'batch_size': 2048, 'learning_rate': 0.01, 'sentence_representation_type': 'last', 'bidirectional': False}. Best is trial 1 with value: 0.66219562292099.\n",
      "Seed set to 42\n",
      "[I 2024-11-07 20:00:30,515] Trial 5 finished with value: 0.5869143009185791 and parameters: {'hidden_dim': 32, 'num_layers': 4, 'optimizer_name': 'Adam', 'batch_size': 2048, 'learning_rate': 0.01, 'sentence_representation_type': 'average', 'bidirectional': False}. Best is trial 1 with value: 0.66219562292099.\n",
      "Seed set to 42\n",
      "[I 2024-11-07 20:00:30,534] Trial 6 finished with value: 0.612888753414154 and parameters: {'hidden_dim': 32, 'num_layers': 4, 'optimizer_name': 'Adam', 'batch_size': 2048, 'learning_rate': 0.1, 'sentence_representation_type': 'average', 'bidirectional': True}. Best is trial 1 with value: 0.66219562292099.\n",
      "Seed set to 42\n",
      "GPU available: True (mps), used: False\n",
      "TPU available: False, using: 0 TPU cores\n",
      "HPU available: False, using: 0 HPUs\n",
      "/Users/bohua/.pyenv/versions/3.9.6/lib/python3.9/site-packages/lightning/pytorch/trainer/setup.py:177: GPU available but not used. You can set it by doing `Trainer(accelerator='gpu')`.\n",
      "\n",
      "  | Name   | Type               | Params | Mode \n",
      "------------------------------------------------------\n",
      "0 | model  | RNN                | 4.9 M  | train\n",
      "1 | metric | MulticlassAccuracy | 0      | train\n",
      "------------------------------------------------------\n",
      "4.9 M     Trainable params\n",
      "0         Non-trainable params\n",
      "4.9 M     Total params\n",
      "19.757    Total estimated model params size (MB)\n",
      "7         Modules in train mode\n",
      "0         Modules in eval mode\n"
     ]
    },
    {
     "name": "stdout",
     "output_type": "stream",
     "text": [
      "---------- batch_size_2048; lr_0.1; optimizer_Adam; hidden_dim_32; num_layers_2; sentence_representation_last; bidirectional_False ----------\n",
      "[Skipping] rnn_trainable_embeddings/batch_size_2048-lr_0.1-optimizer_Adam-hidden_dim_32-num_layers_2-sr_type_last-freeze_False-rnn_type_GRU-bidirectional_False\n",
      "---------- batch_size_2048; lr_0.01; optimizer_Adam; hidden_dim_32; num_layers_4; sentence_representation_average; bidirectional_False ----------\n",
      "[Skipping] rnn_trainable_embeddings/batch_size_2048-lr_0.01-optimizer_Adam-hidden_dim_32-num_layers_4-sr_type_average-freeze_False-rnn_type_GRU-bidirectional_False\n",
      "---------- batch_size_2048; lr_0.1; optimizer_Adam; hidden_dim_32; num_layers_2; sentence_representation_last; bidirectional_False ----------\n",
      "[Skipping] rnn_trainable_embeddings/batch_size_2048-lr_0.1-optimizer_Adam-hidden_dim_32-num_layers_2-sr_type_last-freeze_False-rnn_type_GRU-bidirectional_False\n",
      "---------- batch_size_2048; lr_0.01; optimizer_Adam; hidden_dim_32; num_layers_2; sentence_representation_last; bidirectional_False ----------\n",
      "[Skipping] rnn_trainable_embeddings/batch_size_2048-lr_0.01-optimizer_Adam-hidden_dim_32-num_layers_2-sr_type_last-freeze_False-rnn_type_GRU-bidirectional_False\n",
      "---------- batch_size_2048; lr_0.01; optimizer_Adam; hidden_dim_32; num_layers_4; sentence_representation_average; bidirectional_False ----------\n",
      "[Skipping] rnn_trainable_embeddings/batch_size_2048-lr_0.01-optimizer_Adam-hidden_dim_32-num_layers_4-sr_type_average-freeze_False-rnn_type_GRU-bidirectional_False\n",
      "---------- batch_size_2048; lr_0.1; optimizer_Adam; hidden_dim_32; num_layers_4; sentence_representation_average; bidirectional_True ----------\n",
      "[Skipping] rnn_trainable_embeddings/batch_size_2048-lr_0.1-optimizer_Adam-hidden_dim_32-num_layers_4-sr_type_average-freeze_False-rnn_type_GRU-bidirectional_True\n",
      "---------- batch_size_2048; lr_0.01; optimizer_Adam; hidden_dim_32; num_layers_2; sentence_representation_max; bidirectional_False ----------\n"
     ]
    },
    {
     "data": {
      "application/vnd.jupyter.widget-view+json": {
       "model_id": "d5ac1891c59a4d1c8088cd3cdff00436",
       "version_major": 2,
       "version_minor": 0
      },
      "text/plain": [
       "Sanity Checking: |          | 0/? [00:00<?, ?it/s]"
      ]
     },
     "metadata": {},
     "output_type": "display_data"
    },
    {
     "name": "stderr",
     "output_type": "stream",
     "text": [
      "/Users/bohua/.pyenv/versions/3.9.6/lib/python3.9/site-packages/lightning/pytorch/trainer/connectors/data_connector.py:419: Consider setting `persistent_workers=True` in 'val_dataloader' to speed up the dataloader worker initialization.\n",
      "/Users/bohua/.pyenv/versions/3.9.6/lib/python3.9/site-packages/lightning/pytorch/trainer/connectors/data_connector.py:419: Consider setting `persistent_workers=True` in 'train_dataloader' to speed up the dataloader worker initialization.\n"
     ]
    },
    {
     "data": {
      "application/vnd.jupyter.widget-view+json": {
       "model_id": "b015d4f59dcb4761b7a5037c87149df6",
       "version_major": 2,
       "version_minor": 0
      },
      "text/plain": [
       "Training: |          | 0/? [00:00<?, ?it/s]"
      ]
     },
     "metadata": {},
     "output_type": "display_data"
    },
    {
     "data": {
      "application/vnd.jupyter.widget-view+json": {
       "model_id": "f5db7e86a5d74d5bbb96301dcaa1df04",
       "version_major": 2,
       "version_minor": 0
      },
      "text/plain": [
       "Validation: |          | 0/? [00:00<?, ?it/s]"
      ]
     },
     "metadata": {},
     "output_type": "display_data"
    },
    {
     "data": {
      "application/vnd.jupyter.widget-view+json": {
       "model_id": "dd591cffe1ac496f882cdeee422962b8",
       "version_major": 2,
       "version_minor": 0
      },
      "text/plain": [
       "Validation: |          | 0/? [00:00<?, ?it/s]"
      ]
     },
     "metadata": {},
     "output_type": "display_data"
    },
    {
     "data": {
      "application/vnd.jupyter.widget-view+json": {
       "model_id": "8bedcae6e04f4aafb47d934f3bcdaa11",
       "version_major": 2,
       "version_minor": 0
      },
      "text/plain": [
       "Validation: |          | 0/? [00:00<?, ?it/s]"
      ]
     },
     "metadata": {},
     "output_type": "display_data"
    },
    {
     "data": {
      "application/vnd.jupyter.widget-view+json": {
       "model_id": "b9753f8799ec458fb2b8887957c4c3ac",
       "version_major": 2,
       "version_minor": 0
      },
      "text/plain": [
       "Validation: |          | 0/? [00:00<?, ?it/s]"
      ]
     },
     "metadata": {},
     "output_type": "display_data"
    },
    {
     "data": {
      "application/vnd.jupyter.widget-view+json": {
       "model_id": "e7c4de661fd9436c8f1bf1430a05d10a",
       "version_major": 2,
       "version_minor": 0
      },
      "text/plain": [
       "Validation: |          | 0/? [00:00<?, ?it/s]"
      ]
     },
     "metadata": {},
     "output_type": "display_data"
    },
    {
     "data": {
      "application/vnd.jupyter.widget-view+json": {
       "model_id": "6243b167874949bb95a0fccd1b9b622a",
       "version_major": 2,
       "version_minor": 0
      },
      "text/plain": [
       "Validation: |          | 0/? [00:00<?, ?it/s]"
      ]
     },
     "metadata": {},
     "output_type": "display_data"
    },
    {
     "name": "stderr",
     "output_type": "stream",
     "text": [
      "[I 2024-11-07 20:04:09,302] Trial 7 finished with value: 0.5621190667152405 and parameters: {'hidden_dim': 32, 'num_layers': 2, 'optimizer_name': 'Adam', 'batch_size': 2048, 'learning_rate': 0.01, 'sentence_representation_type': 'max', 'bidirectional': False}. Best is trial 1 with value: 0.66219562292099.\n",
      "Seed set to 42\n",
      "[I 2024-11-07 20:04:09,348] Trial 8 finished with value: 0.6523199677467346 and parameters: {'hidden_dim': 32, 'num_layers': 1, 'optimizer_name': 'Adam', 'batch_size': 2048, 'learning_rate': 0.1, 'sentence_representation_type': 'average', 'bidirectional': True}. Best is trial 1 with value: 0.66219562292099.\n",
      "Seed set to 42\n",
      "[I 2024-11-07 20:04:09,365] Trial 9 finished with value: 0.6445276141166687 and parameters: {'hidden_dim': 32, 'num_layers': 2, 'optimizer_name': 'Adam', 'batch_size': 2048, 'learning_rate': 0.1, 'sentence_representation_type': 'average', 'bidirectional': True}. Best is trial 1 with value: 0.66219562292099.\n",
      "Seed set to 42\n",
      "[I 2024-11-07 20:04:09,384] Trial 10 finished with value: 0.6959971785545349 and parameters: {'hidden_dim': 32, 'num_layers': 1, 'optimizer_name': 'Adam', 'batch_size': 2048, 'learning_rate': 0.1, 'sentence_representation_type': 'max', 'bidirectional': True}. Best is trial 10 with value: 0.6959971785545349.\n",
      "Seed set to 42\n",
      "[I 2024-11-07 20:04:09,402] Trial 11 finished with value: 0.6959971785545349 and parameters: {'hidden_dim': 32, 'num_layers': 1, 'optimizer_name': 'Adam', 'batch_size': 2048, 'learning_rate': 0.1, 'sentence_representation_type': 'max', 'bidirectional': True}. Best is trial 10 with value: 0.6959971785545349.\n",
      "Seed set to 42\n",
      "[I 2024-11-07 20:04:09,421] Trial 12 finished with value: 0.6959971785545349 and parameters: {'hidden_dim': 32, 'num_layers': 1, 'optimizer_name': 'Adam', 'batch_size': 2048, 'learning_rate': 0.1, 'sentence_representation_type': 'max', 'bidirectional': True}. Best is trial 10 with value: 0.6959971785545349.\n",
      "Seed set to 42\n",
      "[I 2024-11-07 20:04:09,439] Trial 13 finished with value: 0.6959971785545349 and parameters: {'hidden_dim': 32, 'num_layers': 1, 'optimizer_name': 'Adam', 'batch_size': 2048, 'learning_rate': 0.1, 'sentence_representation_type': 'max', 'bidirectional': True}. Best is trial 10 with value: 0.6959971785545349.\n",
      "Seed set to 42\n",
      "[I 2024-11-07 20:04:09,459] Trial 14 finished with value: 0.6964419484138489 and parameters: {'hidden_dim': 32, 'num_layers': 3, 'optimizer_name': 'Adam', 'batch_size': 2048, 'learning_rate': 0.1, 'sentence_representation_type': 'max', 'bidirectional': True}. Best is trial 14 with value: 0.6964419484138489.\n"
     ]
    },
    {
     "name": "stdout",
     "output_type": "stream",
     "text": [
      "---------- batch_size_2048; lr_0.1; optimizer_Adam; hidden_dim_32; num_layers_1; sentence_representation_average; bidirectional_True ----------\n",
      "[Skipping] rnn_trainable_embeddings/batch_size_2048-lr_0.1-optimizer_Adam-hidden_dim_32-num_layers_1-sr_type_average-freeze_False-rnn_type_GRU-bidirectional_True\n",
      "---------- batch_size_2048; lr_0.1; optimizer_Adam; hidden_dim_32; num_layers_2; sentence_representation_average; bidirectional_True ----------\n",
      "[Skipping] rnn_trainable_embeddings/batch_size_2048-lr_0.1-optimizer_Adam-hidden_dim_32-num_layers_2-sr_type_average-freeze_False-rnn_type_GRU-bidirectional_True\n",
      "---------- batch_size_2048; lr_0.1; optimizer_Adam; hidden_dim_32; num_layers_1; sentence_representation_max; bidirectional_True ----------\n",
      "[Skipping] rnn_trainable_embeddings/batch_size_2048-lr_0.1-optimizer_Adam-hidden_dim_32-num_layers_1-sr_type_max-freeze_False-rnn_type_GRU-bidirectional_True\n",
      "---------- batch_size_2048; lr_0.1; optimizer_Adam; hidden_dim_32; num_layers_1; sentence_representation_max; bidirectional_True ----------\n",
      "[Skipping] rnn_trainable_embeddings/batch_size_2048-lr_0.1-optimizer_Adam-hidden_dim_32-num_layers_1-sr_type_max-freeze_False-rnn_type_GRU-bidirectional_True\n",
      "---------- batch_size_2048; lr_0.1; optimizer_Adam; hidden_dim_32; num_layers_1; sentence_representation_max; bidirectional_True ----------\n",
      "[Skipping] rnn_trainable_embeddings/batch_size_2048-lr_0.1-optimizer_Adam-hidden_dim_32-num_layers_1-sr_type_max-freeze_False-rnn_type_GRU-bidirectional_True\n",
      "---------- batch_size_2048; lr_0.1; optimizer_Adam; hidden_dim_32; num_layers_1; sentence_representation_max; bidirectional_True ----------\n",
      "[Skipping] rnn_trainable_embeddings/batch_size_2048-lr_0.1-optimizer_Adam-hidden_dim_32-num_layers_1-sr_type_max-freeze_False-rnn_type_GRU-bidirectional_True\n",
      "---------- batch_size_2048; lr_0.1; optimizer_Adam; hidden_dim_32; num_layers_3; sentence_representation_max; bidirectional_True ----------\n",
      "[Skipping] rnn_trainable_embeddings/batch_size_2048-lr_0.1-optimizer_Adam-hidden_dim_32-num_layers_3-sr_type_max-freeze_False-rnn_type_GRU-bidirectional_True\n"
     ]
    }
   ],
   "source": [
    "import optuna\n",
    "from utils.train import train_rnn_model_with_parameters\n",
    "\n",
    "_N_TRIALS = 50\n",
    "SEARCH_SPACE = {\n",
    "    \"batch_size\": [2048],\n",
    "    \"learning_rate\": [ 1e-2, 1e-1],\n",
    "    \"optimizer_name\": [\"Adam\"],\n",
    "    # RNN Model Parameters\n",
    "    \"hidden_dim\": [32],\n",
    "    \"num_layers\": [1, 2, 4],\n",
    "    \"sentence_representation_type\": [\"last\", \"average\", \"max\"],\n",
    "    \"bidirectional\" : [False, True],\n",
    "\n",
    "}\n",
    "\n",
    "def objective(trial):\n",
    "    hidden_dim = trial.suggest_categorical(\"hidden_dim\", SEARCH_SPACE[\"hidden_dim\"])\n",
    "    num_layers = trial.suggest_int(\"num_layers\", min(SEARCH_SPACE[\"num_layers\"]), max(SEARCH_SPACE[\"num_layers\"]))\n",
    "    optimizer_name = trial.suggest_categorical(\"optimizer_name\", SEARCH_SPACE[\"optimizer_name\"])\n",
    "    batch_size = trial.suggest_categorical(\"batch_size\", SEARCH_SPACE[\"batch_size\"])\n",
    "    learning_rate = trial.suggest_categorical(\"learning_rate\", SEARCH_SPACE[\"learning_rate\"])\n",
    "    sentence_representation_type = trial.suggest_categorical(\"sentence_representation_type\", SEARCH_SPACE[\"sentence_representation_type\"])\n",
    "    bidirectional = trial.suggest_categorical(\"bidirectional\", SEARCH_SPACE[\"bidirectional\"])\n",
    "\n",
    "    \n",
    "    log_message = f\"---------- batch_size_{batch_size}; lr_{learning_rate}; optimizer_{optimizer_name}; hidden_dim_{hidden_dim}; num_layers_{num_layers}; sentence_representation_{sentence_representation_type}; bidirectional_{bidirectional} ----------\"\n",
    "    print(log_message)\n",
    "\n",
    "    val_acc = train_rnn_model_with_parameters(\n",
    "        embedding_matrix=embedding_matrix,\n",
    "        train_dataset=train_dataset,\n",
    "        val_dataset=val_dataset,\n",
    "        batch_size=batch_size,\n",
    "        learning_rate=learning_rate,\n",
    "        optimizer_name=optimizer_name,\n",
    "        hidden_dim=hidden_dim,\n",
    "        num_layers=num_layers,\n",
    "        sentence_representation_type=sentence_representation_type,\n",
    "        show_progress=True,\n",
    "        freeze_embedding=False,\n",
    "        log_dir=\"rnn_trainable_embeddings\",\n",
    "        rnn_type=\"GRU\", # biGRU model\n",
    "        bidirectional=bidirectional\n",
    "\n",
    "    )\n",
    "    \n",
    "    return val_acc\n",
    "\n",
    "# Set up the Optuna study\n",
    "study = optuna.create_study(direction=\"maximize\")\n",
    "study.optimize(objective, n_trials=_N_TRIALS)"
   ]
  },
  {
   "cell_type": "code",
   "execution_count": 7,
   "metadata": {},
   "outputs": [],
   "source": [
    "# Set up the Optuna study\n",
    "# study = optuna.create_study(direction=\"maximize\")\n",
    "# study.optimize(objective, n_trials=_N_TRIALS)"
   ]
  },
  {
   "cell_type": "markdown",
   "metadata": {},
   "source": [
    "## Train Result Analysis"
   ]
  },
  {
   "cell_type": "markdown",
   "metadata": {},
   "source": [
    "(a) Load result from all trials"
   ]
  },
  {
   "cell_type": "code",
   "execution_count": 8,
   "metadata": {},
   "outputs": [
    {
     "name": "stdout",
     "output_type": "stream",
     "text": [
      "DATA in match_rnn_log {'val_loss': None, 'val_acc': None, 'epoch': None}\n",
      "DATA in match_rnn_log {'val_loss': None, 'val_acc': None, 'epoch': None}\n",
      "DATA in match_rnn_log {'val_loss': None, 'val_acc': None, 'epoch': None}\n",
      "DATA in match_rnn_log {'val_loss': None, 'val_acc': None, 'epoch': None}\n",
      "DATA in match_rnn_log {'val_loss': None, 'val_acc': None, 'epoch': None}\n",
      "DATA in match_rnn_log {'val_loss': None, 'val_acc': None, 'epoch': None}\n",
      "DATA in match_rnn_log {'val_loss': None, 'val_acc': None, 'epoch': None}\n",
      "DATA in match_rnn_log {'val_loss': None, 'val_acc': None, 'epoch': None}\n",
      "DATA in match_rnn_log {'val_loss': None, 'val_acc': None, 'epoch': None}\n",
      "DATA in match_rnn_log {'val_loss': None, 'val_acc': None, 'epoch': None}\n",
      "DATA in match_rnn_log {'val_loss': None, 'val_acc': None, 'epoch': None}\n",
      "DATA in match_rnn_log {'val_loss': None, 'val_acc': None, 'epoch': None}\n",
      "DATA in match_rnn_log {'val_loss': None, 'val_acc': None, 'epoch': None}\n",
      "DATA in match_rnn_log {'val_loss': None, 'val_acc': None, 'epoch': None}\n",
      "DATA in match_rnn_log {'val_loss': None, 'val_acc': None, 'epoch': None}\n",
      "DATA in match_rnn_log {'val_loss': None, 'val_acc': None, 'epoch': None}\n",
      "DATA in match_rnn_log {'val_loss': None, 'val_acc': None, 'epoch': None}\n",
      "DATA in match_rnn_log {'val_loss': None, 'val_acc': None, 'epoch': None}\n",
      "DATA in match_rnn_log {'val_loss': None, 'val_acc': None, 'epoch': None}\n",
      "DATA in match_rnn_log {'val_loss': None, 'val_acc': None, 'epoch': None}\n",
      "DATA in match_rnn_log {'val_loss': None, 'val_acc': None, 'epoch': None}\n",
      "DATA in match_rnn_log {'val_loss': None, 'val_acc': None, 'epoch': None}\n",
      "DATA in match_rnn_log {'val_loss': None, 'val_acc': None, 'epoch': None}\n",
      "DATA in match_rnn_log {'val_loss': None, 'val_acc': None, 'epoch': None}\n",
      "DATA in match_rnn_log {'val_loss': None, 'val_acc': None, 'epoch': None}\n",
      "DATA in match_rnn_log {'val_loss': None, 'val_acc': None, 'epoch': None}\n",
      "DATA in match_rnn_log {'val_loss': None, 'val_acc': None, 'epoch': None}\n",
      "DATA in match_rnn_log {'val_loss': None, 'val_acc': None, 'epoch': None}\n",
      "DATA in match_rnn_log {'val_loss': None, 'val_acc': None, 'epoch': None}\n",
      "DATA in match_rnn_log {'val_loss': None, 'val_acc': None, 'epoch': None}\n",
      "DATA in match_rnn_log {'val_loss': None, 'val_acc': None, 'epoch': None}\n",
      "DATA in match_rnn_log {'val_loss': None, 'val_acc': None, 'epoch': None}\n",
      "DATA in match_rnn_log {'val_loss': None, 'val_acc': None, 'epoch': None}\n",
      "DATA in match_rnn_log {'val_loss': None, 'val_acc': None, 'epoch': None}\n",
      "DATA in match_rnn_log {'val_loss': None, 'val_acc': None, 'epoch': None}\n"
     ]
    },
    {
     "data": {
      "text/html": [
       "<div>\n",
       "<style scoped>\n",
       "    .dataframe tbody tr th:only-of-type {\n",
       "        vertical-align: middle;\n",
       "    }\n",
       "\n",
       "    .dataframe tbody tr th {\n",
       "        vertical-align: top;\n",
       "    }\n",
       "\n",
       "    .dataframe thead th {\n",
       "        text-align: right;\n",
       "    }\n",
       "</style>\n",
       "<table border=\"1\" class=\"dataframe\">\n",
       "  <thead>\n",
       "    <tr style=\"text-align: right;\">\n",
       "      <th></th>\n",
       "      <th>val_acc</th>\n",
       "      <th>batch_size</th>\n",
       "      <th>hidden_dim</th>\n",
       "      <th>learning_rate</th>\n",
       "      <th>optimizer_name</th>\n",
       "      <th>num_layers</th>\n",
       "      <th>sentence_representation_type</th>\n",
       "      <th>freeze</th>\n",
       "      <th>epoch</th>\n",
       "      <th>val_loss</th>\n",
       "      <th>filename</th>\n",
       "    </tr>\n",
       "  </thead>\n",
       "  <tbody>\n",
       "    <tr>\n",
       "      <th>0</th>\n",
       "      <td>0.779550</td>\n",
       "      <td>2048</td>\n",
       "      <td>32</td>\n",
       "      <td>0.01</td>\n",
       "      <td>Adam</td>\n",
       "      <td>1</td>\n",
       "      <td>max</td>\n",
       "      <td>False</td>\n",
       "      <td>5.0</td>\n",
       "      <td>0.493852</td>\n",
       "      <td>events.out.tfevents.1730965763.Lees-MacBook-Pr...</td>\n",
       "    </tr>\n",
       "    <tr>\n",
       "      <th>1</th>\n",
       "      <td>0.764540</td>\n",
       "      <td>2048</td>\n",
       "      <td>32</td>\n",
       "      <td>0.01</td>\n",
       "      <td>Adam</td>\n",
       "      <td>4</td>\n",
       "      <td>max</td>\n",
       "      <td>False</td>\n",
       "      <td>4.0</td>\n",
       "      <td>0.552021</td>\n",
       "      <td>events.out.tfevents.1730972478.Lees-MacBook-Pr...</td>\n",
       "    </tr>\n",
       "    <tr>\n",
       "      <th>2</th>\n",
       "      <td>0.751407</td>\n",
       "      <td>2048</td>\n",
       "      <td>32</td>\n",
       "      <td>0.01</td>\n",
       "      <td>Adam</td>\n",
       "      <td>1</td>\n",
       "      <td>average</td>\n",
       "      <td>False</td>\n",
       "      <td>5.0</td>\n",
       "      <td>0.559631</td>\n",
       "      <td>events.out.tfevents.1730967507.Lees-MacBook-Pr...</td>\n",
       "    </tr>\n",
       "    <tr>\n",
       "      <th>3</th>\n",
       "      <td>0.748593</td>\n",
       "      <td>2048</td>\n",
       "      <td>32</td>\n",
       "      <td>0.01</td>\n",
       "      <td>Adam</td>\n",
       "      <td>1</td>\n",
       "      <td>last</td>\n",
       "      <td>False</td>\n",
       "      <td>3.0</td>\n",
       "      <td>0.605685</td>\n",
       "      <td>events.out.tfevents.1730966980.Lees-MacBook-Pr...</td>\n",
       "    </tr>\n",
       "    <tr>\n",
       "      <th>4</th>\n",
       "      <td>0.744841</td>\n",
       "      <td>2048</td>\n",
       "      <td>32</td>\n",
       "      <td>0.01</td>\n",
       "      <td>Adam</td>\n",
       "      <td>3</td>\n",
       "      <td>average</td>\n",
       "      <td>False</td>\n",
       "      <td>4.0</td>\n",
       "      <td>0.559884</td>\n",
       "      <td>events.out.tfevents.1730967134.Lees-MacBook-Pr...</td>\n",
       "    </tr>\n",
       "    <tr>\n",
       "      <th>5</th>\n",
       "      <td>0.743902</td>\n",
       "      <td>2048</td>\n",
       "      <td>32</td>\n",
       "      <td>0.01</td>\n",
       "      <td>Adam</td>\n",
       "      <td>3</td>\n",
       "      <td>max</td>\n",
       "      <td>False</td>\n",
       "      <td>4.0</td>\n",
       "      <td>0.529529</td>\n",
       "      <td>events.out.tfevents.1730969095.Lees-MacBook-Pr...</td>\n",
       "    </tr>\n",
       "    <tr>\n",
       "      <th>6</th>\n",
       "      <td>0.742026</td>\n",
       "      <td>2048</td>\n",
       "      <td>32</td>\n",
       "      <td>0.01</td>\n",
       "      <td>Adam</td>\n",
       "      <td>1</td>\n",
       "      <td>average</td>\n",
       "      <td>False</td>\n",
       "      <td>4.0</td>\n",
       "      <td>0.567691</td>\n",
       "      <td>events.out.tfevents.1730967320.Lees-MacBook-Pr...</td>\n",
       "    </tr>\n",
       "    <tr>\n",
       "      <th>7</th>\n",
       "      <td>0.739212</td>\n",
       "      <td>2048</td>\n",
       "      <td>32</td>\n",
       "      <td>0.01</td>\n",
       "      <td>Adam</td>\n",
       "      <td>2</td>\n",
       "      <td>max</td>\n",
       "      <td>False</td>\n",
       "      <td>5.0</td>\n",
       "      <td>0.562119</td>\n",
       "      <td>events.out.tfevents.1730980830.Lees-MacBook-Pr...</td>\n",
       "    </tr>\n",
       "    <tr>\n",
       "      <th>8</th>\n",
       "      <td>0.738274</td>\n",
       "      <td>2048</td>\n",
       "      <td>32</td>\n",
       "      <td>0.10</td>\n",
       "      <td>Adam</td>\n",
       "      <td>1</td>\n",
       "      <td>average</td>\n",
       "      <td>False</td>\n",
       "      <td>5.0</td>\n",
       "      <td>0.688610</td>\n",
       "      <td>events.out.tfevents.1730978502.Lees-MacBook-Pr...</td>\n",
       "    </tr>\n",
       "    <tr>\n",
       "      <th>9</th>\n",
       "      <td>0.738274</td>\n",
       "      <td>2048</td>\n",
       "      <td>32</td>\n",
       "      <td>0.01</td>\n",
       "      <td>Adam</td>\n",
       "      <td>3</td>\n",
       "      <td>average</td>\n",
       "      <td>False</td>\n",
       "      <td>4.0</td>\n",
       "      <td>0.616701</td>\n",
       "      <td>events.out.tfevents.1730970112.Lees-MacBook-Pr...</td>\n",
       "    </tr>\n",
       "    <tr>\n",
       "      <th>10</th>\n",
       "      <td>0.735460</td>\n",
       "      <td>2048</td>\n",
       "      <td>32</td>\n",
       "      <td>0.01</td>\n",
       "      <td>Adam</td>\n",
       "      <td>3</td>\n",
       "      <td>last</td>\n",
       "      <td>False</td>\n",
       "      <td>4.0</td>\n",
       "      <td>0.569679</td>\n",
       "      <td>events.out.tfevents.1730970525.Lees-MacBook-Pr...</td>\n",
       "    </tr>\n",
       "    <tr>\n",
       "      <th>11</th>\n",
       "      <td>0.731707</td>\n",
       "      <td>2048</td>\n",
       "      <td>32</td>\n",
       "      <td>0.01</td>\n",
       "      <td>Adam</td>\n",
       "      <td>4</td>\n",
       "      <td>last</td>\n",
       "      <td>False</td>\n",
       "      <td>3.0</td>\n",
       "      <td>0.634960</td>\n",
       "      <td>events.out.tfevents.1730965608.Lees-MacBook-Pr...</td>\n",
       "    </tr>\n",
       "    <tr>\n",
       "      <th>12</th>\n",
       "      <td>0.730769</td>\n",
       "      <td>2048</td>\n",
       "      <td>32</td>\n",
       "      <td>0.01</td>\n",
       "      <td>Adam</td>\n",
       "      <td>2</td>\n",
       "      <td>last</td>\n",
       "      <td>False</td>\n",
       "      <td>4.0</td>\n",
       "      <td>0.637979</td>\n",
       "      <td>events.out.tfevents.1730969673.Lees-MacBook-Pr...</td>\n",
       "    </tr>\n",
       "    <tr>\n",
       "      <th>13</th>\n",
       "      <td>0.724203</td>\n",
       "      <td>2048</td>\n",
       "      <td>32</td>\n",
       "      <td>0.01</td>\n",
       "      <td>Adam</td>\n",
       "      <td>4</td>\n",
       "      <td>average</td>\n",
       "      <td>False</td>\n",
       "      <td>5.0</td>\n",
       "      <td>0.586914</td>\n",
       "      <td>events.out.tfevents.1730978717.Lees-MacBook-Pr...</td>\n",
       "    </tr>\n",
       "    <tr>\n",
       "      <th>14</th>\n",
       "      <td>0.720450</td>\n",
       "      <td>2048</td>\n",
       "      <td>32</td>\n",
       "      <td>0.01</td>\n",
       "      <td>Adam</td>\n",
       "      <td>3</td>\n",
       "      <td>max</td>\n",
       "      <td>False</td>\n",
       "      <td>3.0</td>\n",
       "      <td>0.626571</td>\n",
       "      <td>events.out.tfevents.1730971354.Lees-MacBook-Pr...</td>\n",
       "    </tr>\n",
       "    <tr>\n",
       "      <th>15</th>\n",
       "      <td>0.719512</td>\n",
       "      <td>2048</td>\n",
       "      <td>32</td>\n",
       "      <td>0.10</td>\n",
       "      <td>Adam</td>\n",
       "      <td>1</td>\n",
       "      <td>average</td>\n",
       "      <td>False</td>\n",
       "      <td>5.0</td>\n",
       "      <td>0.652320</td>\n",
       "      <td>events.out.tfevents.1730966762.Lees-MacBook-Pr...</td>\n",
       "    </tr>\n",
       "    <tr>\n",
       "      <th>16</th>\n",
       "      <td>0.700750</td>\n",
       "      <td>2048</td>\n",
       "      <td>32</td>\n",
       "      <td>0.10</td>\n",
       "      <td>Adam</td>\n",
       "      <td>4</td>\n",
       "      <td>average</td>\n",
       "      <td>False</td>\n",
       "      <td>10.0</td>\n",
       "      <td>0.612889</td>\n",
       "      <td>events.out.tfevents.1730969281.Lees-MacBook-Pr...</td>\n",
       "    </tr>\n",
       "    <tr>\n",
       "      <th>17</th>\n",
       "      <td>0.695122</td>\n",
       "      <td>2048</td>\n",
       "      <td>32</td>\n",
       "      <td>0.10</td>\n",
       "      <td>Adam</td>\n",
       "      <td>2</td>\n",
       "      <td>average</td>\n",
       "      <td>False</td>\n",
       "      <td>5.0</td>\n",
       "      <td>0.644528</td>\n",
       "      <td>events.out.tfevents.1730970304.Lees-MacBook-Pr...</td>\n",
       "    </tr>\n",
       "    <tr>\n",
       "      <th>18</th>\n",
       "      <td>0.690431</td>\n",
       "      <td>2048</td>\n",
       "      <td>32</td>\n",
       "      <td>0.10</td>\n",
       "      <td>Adam</td>\n",
       "      <td>2</td>\n",
       "      <td>max</td>\n",
       "      <td>False</td>\n",
       "      <td>7.0</td>\n",
       "      <td>0.644304</td>\n",
       "      <td>events.out.tfevents.1730968816.Lees-MacBook-Pr...</td>\n",
       "    </tr>\n",
       "    <tr>\n",
       "      <th>19</th>\n",
       "      <td>0.685741</td>\n",
       "      <td>2048</td>\n",
       "      <td>32</td>\n",
       "      <td>0.10</td>\n",
       "      <td>Adam</td>\n",
       "      <td>3</td>\n",
       "      <td>max</td>\n",
       "      <td>False</td>\n",
       "      <td>10.0</td>\n",
       "      <td>0.631001</td>\n",
       "      <td>events.out.tfevents.1730967722.Lees-MacBook-Pr...</td>\n",
       "    </tr>\n",
       "  </tbody>\n",
       "</table>\n",
       "</div>"
      ],
      "text/plain": [
       "     val_acc  batch_size  hidden_dim  learning_rate optimizer_name  \\\n",
       "0   0.779550        2048          32           0.01           Adam   \n",
       "1   0.764540        2048          32           0.01           Adam   \n",
       "2   0.751407        2048          32           0.01           Adam   \n",
       "3   0.748593        2048          32           0.01           Adam   \n",
       "4   0.744841        2048          32           0.01           Adam   \n",
       "5   0.743902        2048          32           0.01           Adam   \n",
       "6   0.742026        2048          32           0.01           Adam   \n",
       "7   0.739212        2048          32           0.01           Adam   \n",
       "8   0.738274        2048          32           0.10           Adam   \n",
       "9   0.738274        2048          32           0.01           Adam   \n",
       "10  0.735460        2048          32           0.01           Adam   \n",
       "11  0.731707        2048          32           0.01           Adam   \n",
       "12  0.730769        2048          32           0.01           Adam   \n",
       "13  0.724203        2048          32           0.01           Adam   \n",
       "14  0.720450        2048          32           0.01           Adam   \n",
       "15  0.719512        2048          32           0.10           Adam   \n",
       "16  0.700750        2048          32           0.10           Adam   \n",
       "17  0.695122        2048          32           0.10           Adam   \n",
       "18  0.690431        2048          32           0.10           Adam   \n",
       "19  0.685741        2048          32           0.10           Adam   \n",
       "\n",
       "    num_layers sentence_representation_type  freeze  epoch  val_loss  \\\n",
       "0            1                          max   False    5.0  0.493852   \n",
       "1            4                          max   False    4.0  0.552021   \n",
       "2            1                      average   False    5.0  0.559631   \n",
       "3            1                         last   False    3.0  0.605685   \n",
       "4            3                      average   False    4.0  0.559884   \n",
       "5            3                          max   False    4.0  0.529529   \n",
       "6            1                      average   False    4.0  0.567691   \n",
       "7            2                          max   False    5.0  0.562119   \n",
       "8            1                      average   False    5.0  0.688610   \n",
       "9            3                      average   False    4.0  0.616701   \n",
       "10           3                         last   False    4.0  0.569679   \n",
       "11           4                         last   False    3.0  0.634960   \n",
       "12           2                         last   False    4.0  0.637979   \n",
       "13           4                      average   False    5.0  0.586914   \n",
       "14           3                          max   False    3.0  0.626571   \n",
       "15           1                      average   False    5.0  0.652320   \n",
       "16           4                      average   False   10.0  0.612889   \n",
       "17           2                      average   False    5.0  0.644528   \n",
       "18           2                          max   False    7.0  0.644304   \n",
       "19           3                          max   False   10.0  0.631001   \n",
       "\n",
       "                                             filename  \n",
       "0   events.out.tfevents.1730965763.Lees-MacBook-Pr...  \n",
       "1   events.out.tfevents.1730972478.Lees-MacBook-Pr...  \n",
       "2   events.out.tfevents.1730967507.Lees-MacBook-Pr...  \n",
       "3   events.out.tfevents.1730966980.Lees-MacBook-Pr...  \n",
       "4   events.out.tfevents.1730967134.Lees-MacBook-Pr...  \n",
       "5   events.out.tfevents.1730969095.Lees-MacBook-Pr...  \n",
       "6   events.out.tfevents.1730967320.Lees-MacBook-Pr...  \n",
       "7   events.out.tfevents.1730980830.Lees-MacBook-Pr...  \n",
       "8   events.out.tfevents.1730978502.Lees-MacBook-Pr...  \n",
       "9   events.out.tfevents.1730970112.Lees-MacBook-Pr...  \n",
       "10  events.out.tfevents.1730970525.Lees-MacBook-Pr...  \n",
       "11  events.out.tfevents.1730965608.Lees-MacBook-Pr...  \n",
       "12  events.out.tfevents.1730969673.Lees-MacBook-Pr...  \n",
       "13  events.out.tfevents.1730978717.Lees-MacBook-Pr...  \n",
       "14  events.out.tfevents.1730971354.Lees-MacBook-Pr...  \n",
       "15  events.out.tfevents.1730966762.Lees-MacBook-Pr...  \n",
       "16  events.out.tfevents.1730969281.Lees-MacBook-Pr...  \n",
       "17  events.out.tfevents.1730970304.Lees-MacBook-Pr...  \n",
       "18  events.out.tfevents.1730968816.Lees-MacBook-Pr...  \n",
       "19  events.out.tfevents.1730967722.Lees-MacBook-Pr...  "
      ]
     },
     "execution_count": 8,
     "metadata": {},
     "output_type": "execute_result"
    }
   ],
   "source": [
    "from utils.analytics import load_tensorboard_logs\n",
    "\n",
    "train_results_df = load_tensorboard_logs(log_dir=\"tb_logs/rnn_trainable_embeddings\")\n",
    "\n",
    "train_results_df = train_results_df.sort_values(\n",
    "    by=[\"val_acc\"], ascending=False\n",
    ").reset_index(drop=True)\n",
    "train_results_df.head(20)"
   ]
  },
  {
   "cell_type": "markdown",
   "metadata": {},
   "source": [
    "(b) Configuration for best trial result"
   ]
  },
  {
   "cell_type": "code",
   "execution_count": 9,
   "metadata": {},
   "outputs": [
    {
     "data": {
      "text/html": [
       "<div>\n",
       "<style scoped>\n",
       "    .dataframe tbody tr th:only-of-type {\n",
       "        vertical-align: middle;\n",
       "    }\n",
       "\n",
       "    .dataframe tbody tr th {\n",
       "        vertical-align: top;\n",
       "    }\n",
       "\n",
       "    .dataframe thead th {\n",
       "        text-align: right;\n",
       "    }\n",
       "</style>\n",
       "<table border=\"1\" class=\"dataframe\">\n",
       "  <thead>\n",
       "    <tr style=\"text-align: right;\">\n",
       "      <th></th>\n",
       "      <th>val_acc</th>\n",
       "      <th>batch_size</th>\n",
       "      <th>hidden_dim</th>\n",
       "      <th>learning_rate</th>\n",
       "      <th>optimizer_name</th>\n",
       "      <th>num_layers</th>\n",
       "      <th>sentence_representation_type</th>\n",
       "      <th>freeze</th>\n",
       "      <th>epoch</th>\n",
       "      <th>val_loss</th>\n",
       "      <th>filename</th>\n",
       "    </tr>\n",
       "  </thead>\n",
       "  <tbody>\n",
       "    <tr>\n",
       "      <th>0</th>\n",
       "      <td>0.77955</td>\n",
       "      <td>2048</td>\n",
       "      <td>32</td>\n",
       "      <td>0.01</td>\n",
       "      <td>Adam</td>\n",
       "      <td>1</td>\n",
       "      <td>max</td>\n",
       "      <td>False</td>\n",
       "      <td>5.0</td>\n",
       "      <td>0.493852</td>\n",
       "      <td>events.out.tfevents.1730965763.Lees-MacBook-Pr...</td>\n",
       "    </tr>\n",
       "  </tbody>\n",
       "</table>\n",
       "</div>"
      ],
      "text/plain": [
       "   val_acc  batch_size  hidden_dim  learning_rate optimizer_name  num_layers  \\\n",
       "0  0.77955        2048          32           0.01           Adam           1   \n",
       "\n",
       "  sentence_representation_type  freeze  epoch  val_loss  \\\n",
       "0                          max   False    5.0  0.493852   \n",
       "\n",
       "                                            filename  \n",
       "0  events.out.tfevents.1730965763.Lees-MacBook-Pr...  "
      ]
     },
     "execution_count": 9,
     "metadata": {},
     "output_type": "execute_result"
    }
   ],
   "source": [
    "best_rnn_model_configuration = train_results_df.head(1)\n",
    "best_rnn_model_configuration"
   ]
  },
  {
   "cell_type": "markdown",
   "metadata": {},
   "source": [
    "## Performance on Test Dataset"
   ]
  },
  {
   "cell_type": "code",
   "execution_count": 10,
   "metadata": {},
   "outputs": [
    {
     "name": "stderr",
     "output_type": "stream",
     "text": [
      "/Users/bohua/.pyenv/versions/3.9.6/lib/python3.9/site-packages/lightning/pytorch/utilities/parsing.py:208: Attribute 'rnn_model' is an instance of `nn.Module` and is already saved during checkpointing. It is recommended to ignore them using `self.save_hyperparameters(ignore=['rnn_model'])`.\n",
      "GPU available: True (mps), used: False\n",
      "TPU available: False, using: 0 TPU cores\n",
      "HPU available: False, using: 0 HPUs\n",
      "/Users/bohua/.pyenv/versions/3.9.6/lib/python3.9/site-packages/lightning/pytorch/trainer/setup.py:177: GPU available but not used. You can set it by doing `Trainer(accelerator='gpu')`.\n",
      "/Users/bohua/.pyenv/versions/3.9.6/lib/python3.9/site-packages/lightning/pytorch/trainer/connectors/data_connector.py:424: The 'test_dataloader' does not have many workers which may be a bottleneck. Consider increasing the value of the `num_workers` argument` to `num_workers=10` in the `DataLoader` to improve performance.\n"
     ]
    },
    {
     "data": {
      "application/vnd.jupyter.widget-view+json": {
       "model_id": "c225a318e69e47b79934452afb633623",
       "version_major": 2,
       "version_minor": 0
      },
      "text/plain": [
       "Testing: |          | 0/? [00:00<?, ?it/s]"
      ]
     },
     "metadata": {},
     "output_type": "display_data"
    },
    {
     "ename": "IndexError",
     "evalue": "index out of range in self",
     "output_type": "error",
     "traceback": [
      "\u001b[0;31m---------------------------------------------------------------------------\u001b[0m",
      "\u001b[0;31mIndexError\u001b[0m                                Traceback (most recent call last)",
      "Cell \u001b[0;32mIn[10], line 4\u001b[0m\n\u001b[1;32m      1\u001b[0m \u001b[38;5;28;01mfrom\u001b[39;00m \u001b[38;5;21;01mutils\u001b[39;00m\u001b[38;5;21;01m.\u001b[39;00m\u001b[38;5;21;01manalytics\u001b[39;00m \u001b[38;5;28;01mimport\u001b[39;00m test_top_n_models\n\u001b[1;32m      2\u001b[0m \u001b[38;5;28;01mfrom\u001b[39;00m \u001b[38;5;21;01mmodels\u001b[39;00m\u001b[38;5;21;01m.\u001b[39;00m\u001b[38;5;21;01mRNN\u001b[39;00m \u001b[38;5;28;01mimport\u001b[39;00m RNNClassifier\n\u001b[0;32m----> 4\u001b[0m test_results_df \u001b[38;5;241m=\u001b[39m \u001b[43mtest_top_n_models\u001b[49m\u001b[43m(\u001b[49m\u001b[43mtrain_results_df\u001b[49m\u001b[43m,\u001b[49m\u001b[43m \u001b[49m\u001b[43mRNNClassifier\u001b[49m\u001b[43m,\u001b[49m\u001b[43m \u001b[49m\u001b[43mtest_dataset\u001b[49m\u001b[43m,\u001b[49m\u001b[43m \u001b[49m\u001b[43mn\u001b[49m\u001b[38;5;241;43m=\u001b[39;49m\u001b[38;5;241;43m5\u001b[39;49m\u001b[43m)\u001b[49m\n",
      "File \u001b[0;32m~/Desktop/sc4002-nlp-sentiment-classification/utils/analytics.py:67\u001b[0m, in \u001b[0;36mtest_top_n_models\u001b[0;34m(df, model_classifier, test_dataset, n)\u001b[0m\n\u001b[1;32m     65\u001b[0m test_dataloader \u001b[38;5;241m=\u001b[39m DataLoader(test_dataset)\n\u001b[1;32m     66\u001b[0m trainer \u001b[38;5;241m=\u001b[39m L\u001b[38;5;241m.\u001b[39mTrainer(accelerator\u001b[38;5;241m=\u001b[39m\u001b[38;5;124m\"\u001b[39m\u001b[38;5;124mcpu\u001b[39m\u001b[38;5;124m\"\u001b[39m)\n\u001b[0;32m---> 67\u001b[0m results \u001b[38;5;241m=\u001b[39m \u001b[43mtrainer\u001b[49m\u001b[38;5;241;43m.\u001b[39;49m\u001b[43mtest\u001b[49m\u001b[43m(\u001b[49m\u001b[43mmodel\u001b[49m\u001b[43m,\u001b[49m\u001b[43m \u001b[49m\u001b[43mtest_dataloader\u001b[49m\u001b[43m)\u001b[49m\n\u001b[1;32m     69\u001b[0m \u001b[38;5;28;01mif\u001b[39;00m results:\n\u001b[1;32m     70\u001b[0m     result_df\u001b[38;5;241m.\u001b[39mat[index, \u001b[38;5;124m\"\u001b[39m\u001b[38;5;124mtest_loss\u001b[39m\u001b[38;5;124m\"\u001b[39m] \u001b[38;5;241m=\u001b[39m results[\u001b[38;5;241m0\u001b[39m]\u001b[38;5;241m.\u001b[39mget(\u001b[38;5;124m\"\u001b[39m\u001b[38;5;124mtest_loss\u001b[39m\u001b[38;5;124m\"\u001b[39m, \u001b[38;5;28;01mNone\u001b[39;00m)\n",
      "File \u001b[0;32m~/.pyenv/versions/3.9.6/lib/python3.9/site-packages/lightning/pytorch/trainer/trainer.py:748\u001b[0m, in \u001b[0;36mTrainer.test\u001b[0;34m(self, model, dataloaders, ckpt_path, verbose, datamodule)\u001b[0m\n\u001b[1;32m    746\u001b[0m \u001b[38;5;28mself\u001b[39m\u001b[38;5;241m.\u001b[39mstate\u001b[38;5;241m.\u001b[39mstatus \u001b[38;5;241m=\u001b[39m TrainerStatus\u001b[38;5;241m.\u001b[39mRUNNING\n\u001b[1;32m    747\u001b[0m \u001b[38;5;28mself\u001b[39m\u001b[38;5;241m.\u001b[39mtesting \u001b[38;5;241m=\u001b[39m \u001b[38;5;28;01mTrue\u001b[39;00m\n\u001b[0;32m--> 748\u001b[0m \u001b[38;5;28;01mreturn\u001b[39;00m \u001b[43mcall\u001b[49m\u001b[38;5;241;43m.\u001b[39;49m\u001b[43m_call_and_handle_interrupt\u001b[49m\u001b[43m(\u001b[49m\n\u001b[1;32m    749\u001b[0m \u001b[43m    \u001b[49m\u001b[38;5;28;43mself\u001b[39;49m\u001b[43m,\u001b[49m\u001b[43m \u001b[49m\u001b[38;5;28;43mself\u001b[39;49m\u001b[38;5;241;43m.\u001b[39;49m\u001b[43m_test_impl\u001b[49m\u001b[43m,\u001b[49m\u001b[43m \u001b[49m\u001b[43mmodel\u001b[49m\u001b[43m,\u001b[49m\u001b[43m \u001b[49m\u001b[43mdataloaders\u001b[49m\u001b[43m,\u001b[49m\u001b[43m \u001b[49m\u001b[43mckpt_path\u001b[49m\u001b[43m,\u001b[49m\u001b[43m \u001b[49m\u001b[43mverbose\u001b[49m\u001b[43m,\u001b[49m\u001b[43m \u001b[49m\u001b[43mdatamodule\u001b[49m\n\u001b[1;32m    750\u001b[0m \u001b[43m\u001b[49m\u001b[43m)\u001b[49m\n",
      "File \u001b[0;32m~/.pyenv/versions/3.9.6/lib/python3.9/site-packages/lightning/pytorch/trainer/call.py:47\u001b[0m, in \u001b[0;36m_call_and_handle_interrupt\u001b[0;34m(trainer, trainer_fn, *args, **kwargs)\u001b[0m\n\u001b[1;32m     45\u001b[0m     \u001b[38;5;28;01mif\u001b[39;00m trainer\u001b[38;5;241m.\u001b[39mstrategy\u001b[38;5;241m.\u001b[39mlauncher \u001b[38;5;129;01mis\u001b[39;00m \u001b[38;5;129;01mnot\u001b[39;00m \u001b[38;5;28;01mNone\u001b[39;00m:\n\u001b[1;32m     46\u001b[0m         \u001b[38;5;28;01mreturn\u001b[39;00m trainer\u001b[38;5;241m.\u001b[39mstrategy\u001b[38;5;241m.\u001b[39mlauncher\u001b[38;5;241m.\u001b[39mlaunch(trainer_fn, \u001b[38;5;241m*\u001b[39margs, trainer\u001b[38;5;241m=\u001b[39mtrainer, \u001b[38;5;241m*\u001b[39m\u001b[38;5;241m*\u001b[39mkwargs)\n\u001b[0;32m---> 47\u001b[0m     \u001b[38;5;28;01mreturn\u001b[39;00m \u001b[43mtrainer_fn\u001b[49m\u001b[43m(\u001b[49m\u001b[38;5;241;43m*\u001b[39;49m\u001b[43margs\u001b[49m\u001b[43m,\u001b[49m\u001b[43m \u001b[49m\u001b[38;5;241;43m*\u001b[39;49m\u001b[38;5;241;43m*\u001b[39;49m\u001b[43mkwargs\u001b[49m\u001b[43m)\u001b[49m\n\u001b[1;32m     49\u001b[0m \u001b[38;5;28;01mexcept\u001b[39;00m _TunerExitException:\n\u001b[1;32m     50\u001b[0m     _call_teardown_hook(trainer)\n",
      "File \u001b[0;32m~/.pyenv/versions/3.9.6/lib/python3.9/site-packages/lightning/pytorch/trainer/trainer.py:788\u001b[0m, in \u001b[0;36mTrainer._test_impl\u001b[0;34m(self, model, dataloaders, ckpt_path, verbose, datamodule)\u001b[0m\n\u001b[1;32m    784\u001b[0m \u001b[38;5;28;01massert\u001b[39;00m \u001b[38;5;28mself\u001b[39m\u001b[38;5;241m.\u001b[39mstate\u001b[38;5;241m.\u001b[39mfn \u001b[38;5;129;01mis\u001b[39;00m \u001b[38;5;129;01mnot\u001b[39;00m \u001b[38;5;28;01mNone\u001b[39;00m\n\u001b[1;32m    785\u001b[0m ckpt_path \u001b[38;5;241m=\u001b[39m \u001b[38;5;28mself\u001b[39m\u001b[38;5;241m.\u001b[39m_checkpoint_connector\u001b[38;5;241m.\u001b[39m_select_ckpt_path(\n\u001b[1;32m    786\u001b[0m     \u001b[38;5;28mself\u001b[39m\u001b[38;5;241m.\u001b[39mstate\u001b[38;5;241m.\u001b[39mfn, ckpt_path, model_provided\u001b[38;5;241m=\u001b[39mmodel_provided, model_connected\u001b[38;5;241m=\u001b[39m\u001b[38;5;28mself\u001b[39m\u001b[38;5;241m.\u001b[39mlightning_module \u001b[38;5;129;01mis\u001b[39;00m \u001b[38;5;129;01mnot\u001b[39;00m \u001b[38;5;28;01mNone\u001b[39;00m\n\u001b[1;32m    787\u001b[0m )\n\u001b[0;32m--> 788\u001b[0m results \u001b[38;5;241m=\u001b[39m \u001b[38;5;28;43mself\u001b[39;49m\u001b[38;5;241;43m.\u001b[39;49m\u001b[43m_run\u001b[49m\u001b[43m(\u001b[49m\u001b[43mmodel\u001b[49m\u001b[43m,\u001b[49m\u001b[43m \u001b[49m\u001b[43mckpt_path\u001b[49m\u001b[38;5;241;43m=\u001b[39;49m\u001b[43mckpt_path\u001b[49m\u001b[43m)\u001b[49m\n\u001b[1;32m    789\u001b[0m \u001b[38;5;66;03m# remove the tensors from the test results\u001b[39;00m\n\u001b[1;32m    790\u001b[0m results \u001b[38;5;241m=\u001b[39m convert_tensors_to_scalars(results)\n",
      "File \u001b[0;32m~/.pyenv/versions/3.9.6/lib/python3.9/site-packages/lightning/pytorch/trainer/trainer.py:981\u001b[0m, in \u001b[0;36mTrainer._run\u001b[0;34m(self, model, ckpt_path)\u001b[0m\n\u001b[1;32m    976\u001b[0m \u001b[38;5;28mself\u001b[39m\u001b[38;5;241m.\u001b[39m_signal_connector\u001b[38;5;241m.\u001b[39mregister_signal_handlers()\n\u001b[1;32m    978\u001b[0m \u001b[38;5;66;03m# ----------------------------\u001b[39;00m\n\u001b[1;32m    979\u001b[0m \u001b[38;5;66;03m# RUN THE TRAINER\u001b[39;00m\n\u001b[1;32m    980\u001b[0m \u001b[38;5;66;03m# ----------------------------\u001b[39;00m\n\u001b[0;32m--> 981\u001b[0m results \u001b[38;5;241m=\u001b[39m \u001b[38;5;28;43mself\u001b[39;49m\u001b[38;5;241;43m.\u001b[39;49m\u001b[43m_run_stage\u001b[49m\u001b[43m(\u001b[49m\u001b[43m)\u001b[49m\n\u001b[1;32m    983\u001b[0m \u001b[38;5;66;03m# ----------------------------\u001b[39;00m\n\u001b[1;32m    984\u001b[0m \u001b[38;5;66;03m# POST-Training CLEAN UP\u001b[39;00m\n\u001b[1;32m    985\u001b[0m \u001b[38;5;66;03m# ----------------------------\u001b[39;00m\n\u001b[1;32m    986\u001b[0m log\u001b[38;5;241m.\u001b[39mdebug(\u001b[38;5;124mf\u001b[39m\u001b[38;5;124m\"\u001b[39m\u001b[38;5;132;01m{\u001b[39;00m\u001b[38;5;28mself\u001b[39m\u001b[38;5;241m.\u001b[39m\u001b[38;5;18m__class__\u001b[39m\u001b[38;5;241m.\u001b[39m\u001b[38;5;18m__name__\u001b[39m\u001b[38;5;132;01m}\u001b[39;00m\u001b[38;5;124m: trainer tearing down\u001b[39m\u001b[38;5;124m\"\u001b[39m)\n",
      "File \u001b[0;32m~/.pyenv/versions/3.9.6/lib/python3.9/site-packages/lightning/pytorch/trainer/trainer.py:1018\u001b[0m, in \u001b[0;36mTrainer._run_stage\u001b[0;34m(self)\u001b[0m\n\u001b[1;32m   1015\u001b[0m \u001b[38;5;28mself\u001b[39m\u001b[38;5;241m.\u001b[39mlightning_module\u001b[38;5;241m.\u001b[39mzero_grad()\n\u001b[1;32m   1017\u001b[0m \u001b[38;5;28;01mif\u001b[39;00m \u001b[38;5;28mself\u001b[39m\u001b[38;5;241m.\u001b[39mevaluating:\n\u001b[0;32m-> 1018\u001b[0m     \u001b[38;5;28;01mreturn\u001b[39;00m \u001b[38;5;28;43mself\u001b[39;49m\u001b[38;5;241;43m.\u001b[39;49m\u001b[43m_evaluation_loop\u001b[49m\u001b[38;5;241;43m.\u001b[39;49m\u001b[43mrun\u001b[49m\u001b[43m(\u001b[49m\u001b[43m)\u001b[49m\n\u001b[1;32m   1019\u001b[0m \u001b[38;5;28;01mif\u001b[39;00m \u001b[38;5;28mself\u001b[39m\u001b[38;5;241m.\u001b[39mpredicting:\n\u001b[1;32m   1020\u001b[0m     \u001b[38;5;28;01mreturn\u001b[39;00m \u001b[38;5;28mself\u001b[39m\u001b[38;5;241m.\u001b[39mpredict_loop\u001b[38;5;241m.\u001b[39mrun()\n",
      "File \u001b[0;32m~/.pyenv/versions/3.9.6/lib/python3.9/site-packages/lightning/pytorch/loops/utilities.py:178\u001b[0m, in \u001b[0;36m_no_grad_context.<locals>._decorator\u001b[0;34m(self, *args, **kwargs)\u001b[0m\n\u001b[1;32m    176\u001b[0m     context_manager \u001b[38;5;241m=\u001b[39m torch\u001b[38;5;241m.\u001b[39mno_grad\n\u001b[1;32m    177\u001b[0m \u001b[38;5;28;01mwith\u001b[39;00m context_manager():\n\u001b[0;32m--> 178\u001b[0m     \u001b[38;5;28;01mreturn\u001b[39;00m \u001b[43mloop_run\u001b[49m\u001b[43m(\u001b[49m\u001b[38;5;28;43mself\u001b[39;49m\u001b[43m,\u001b[49m\u001b[43m \u001b[49m\u001b[38;5;241;43m*\u001b[39;49m\u001b[43margs\u001b[49m\u001b[43m,\u001b[49m\u001b[43m \u001b[49m\u001b[38;5;241;43m*\u001b[39;49m\u001b[38;5;241;43m*\u001b[39;49m\u001b[43mkwargs\u001b[49m\u001b[43m)\u001b[49m\n",
      "File \u001b[0;32m~/.pyenv/versions/3.9.6/lib/python3.9/site-packages/lightning/pytorch/loops/evaluation_loop.py:135\u001b[0m, in \u001b[0;36m_EvaluationLoop.run\u001b[0;34m(self)\u001b[0m\n\u001b[1;32m    133\u001b[0m     \u001b[38;5;28mself\u001b[39m\u001b[38;5;241m.\u001b[39mbatch_progress\u001b[38;5;241m.\u001b[39mis_last_batch \u001b[38;5;241m=\u001b[39m data_fetcher\u001b[38;5;241m.\u001b[39mdone\n\u001b[1;32m    134\u001b[0m     \u001b[38;5;66;03m# run step hooks\u001b[39;00m\n\u001b[0;32m--> 135\u001b[0m     \u001b[38;5;28;43mself\u001b[39;49m\u001b[38;5;241;43m.\u001b[39;49m\u001b[43m_evaluation_step\u001b[49m\u001b[43m(\u001b[49m\u001b[43mbatch\u001b[49m\u001b[43m,\u001b[49m\u001b[43m \u001b[49m\u001b[43mbatch_idx\u001b[49m\u001b[43m,\u001b[49m\u001b[43m \u001b[49m\u001b[43mdataloader_idx\u001b[49m\u001b[43m,\u001b[49m\u001b[43m \u001b[49m\u001b[43mdataloader_iter\u001b[49m\u001b[43m)\u001b[49m\n\u001b[1;32m    136\u001b[0m \u001b[38;5;28;01mexcept\u001b[39;00m \u001b[38;5;167;01mStopIteration\u001b[39;00m:\n\u001b[1;32m    137\u001b[0m     \u001b[38;5;66;03m# this needs to wrap the `*_step` call too (not just `next`) for `dataloader_iter` support\u001b[39;00m\n\u001b[1;32m    138\u001b[0m     \u001b[38;5;28;01mbreak\u001b[39;00m\n",
      "File \u001b[0;32m~/.pyenv/versions/3.9.6/lib/python3.9/site-packages/lightning/pytorch/loops/evaluation_loop.py:396\u001b[0m, in \u001b[0;36m_EvaluationLoop._evaluation_step\u001b[0;34m(self, batch, batch_idx, dataloader_idx, dataloader_iter)\u001b[0m\n\u001b[1;32m    390\u001b[0m hook_name \u001b[38;5;241m=\u001b[39m \u001b[38;5;124m\"\u001b[39m\u001b[38;5;124mtest_step\u001b[39m\u001b[38;5;124m\"\u001b[39m \u001b[38;5;28;01mif\u001b[39;00m trainer\u001b[38;5;241m.\u001b[39mtesting \u001b[38;5;28;01melse\u001b[39;00m \u001b[38;5;124m\"\u001b[39m\u001b[38;5;124mvalidation_step\u001b[39m\u001b[38;5;124m\"\u001b[39m\n\u001b[1;32m    391\u001b[0m step_args \u001b[38;5;241m=\u001b[39m (\n\u001b[1;32m    392\u001b[0m     \u001b[38;5;28mself\u001b[39m\u001b[38;5;241m.\u001b[39m_build_step_args_from_hook_kwargs(hook_kwargs, hook_name)\n\u001b[1;32m    393\u001b[0m     \u001b[38;5;28;01mif\u001b[39;00m \u001b[38;5;129;01mnot\u001b[39;00m using_dataloader_iter\n\u001b[1;32m    394\u001b[0m     \u001b[38;5;28;01melse\u001b[39;00m (dataloader_iter,)\n\u001b[1;32m    395\u001b[0m )\n\u001b[0;32m--> 396\u001b[0m output \u001b[38;5;241m=\u001b[39m \u001b[43mcall\u001b[49m\u001b[38;5;241;43m.\u001b[39;49m\u001b[43m_call_strategy_hook\u001b[49m\u001b[43m(\u001b[49m\u001b[43mtrainer\u001b[49m\u001b[43m,\u001b[49m\u001b[43m \u001b[49m\u001b[43mhook_name\u001b[49m\u001b[43m,\u001b[49m\u001b[43m \u001b[49m\u001b[38;5;241;43m*\u001b[39;49m\u001b[43mstep_args\u001b[49m\u001b[43m)\u001b[49m\n\u001b[1;32m    398\u001b[0m \u001b[38;5;28mself\u001b[39m\u001b[38;5;241m.\u001b[39mbatch_progress\u001b[38;5;241m.\u001b[39mincrement_processed()\n\u001b[1;32m    400\u001b[0m \u001b[38;5;28;01mif\u001b[39;00m using_dataloader_iter:\n\u001b[1;32m    401\u001b[0m     \u001b[38;5;66;03m# update the hook kwargs now that the step method might have consumed the iterator\u001b[39;00m\n",
      "File \u001b[0;32m~/.pyenv/versions/3.9.6/lib/python3.9/site-packages/lightning/pytorch/trainer/call.py:319\u001b[0m, in \u001b[0;36m_call_strategy_hook\u001b[0;34m(trainer, hook_name, *args, **kwargs)\u001b[0m\n\u001b[1;32m    316\u001b[0m     \u001b[38;5;28;01mreturn\u001b[39;00m \u001b[38;5;28;01mNone\u001b[39;00m\n\u001b[1;32m    318\u001b[0m \u001b[38;5;28;01mwith\u001b[39;00m trainer\u001b[38;5;241m.\u001b[39mprofiler\u001b[38;5;241m.\u001b[39mprofile(\u001b[38;5;124mf\u001b[39m\u001b[38;5;124m\"\u001b[39m\u001b[38;5;124m[Strategy]\u001b[39m\u001b[38;5;132;01m{\u001b[39;00mtrainer\u001b[38;5;241m.\u001b[39mstrategy\u001b[38;5;241m.\u001b[39m\u001b[38;5;18m__class__\u001b[39m\u001b[38;5;241m.\u001b[39m\u001b[38;5;18m__name__\u001b[39m\u001b[38;5;132;01m}\u001b[39;00m\u001b[38;5;124m.\u001b[39m\u001b[38;5;132;01m{\u001b[39;00mhook_name\u001b[38;5;132;01m}\u001b[39;00m\u001b[38;5;124m\"\u001b[39m):\n\u001b[0;32m--> 319\u001b[0m     output \u001b[38;5;241m=\u001b[39m \u001b[43mfn\u001b[49m\u001b[43m(\u001b[49m\u001b[38;5;241;43m*\u001b[39;49m\u001b[43margs\u001b[49m\u001b[43m,\u001b[49m\u001b[43m \u001b[49m\u001b[38;5;241;43m*\u001b[39;49m\u001b[38;5;241;43m*\u001b[39;49m\u001b[43mkwargs\u001b[49m\u001b[43m)\u001b[49m\n\u001b[1;32m    321\u001b[0m \u001b[38;5;66;03m# restore current_fx when nested context\u001b[39;00m\n\u001b[1;32m    322\u001b[0m pl_module\u001b[38;5;241m.\u001b[39m_current_fx_name \u001b[38;5;241m=\u001b[39m prev_fx_name\n",
      "File \u001b[0;32m~/.pyenv/versions/3.9.6/lib/python3.9/site-packages/lightning/pytorch/strategies/strategy.py:424\u001b[0m, in \u001b[0;36mStrategy.test_step\u001b[0;34m(self, *args, **kwargs)\u001b[0m\n\u001b[1;32m    422\u001b[0m \u001b[38;5;28;01mif\u001b[39;00m \u001b[38;5;28mself\u001b[39m\u001b[38;5;241m.\u001b[39mmodel \u001b[38;5;241m!=\u001b[39m \u001b[38;5;28mself\u001b[39m\u001b[38;5;241m.\u001b[39mlightning_module:\n\u001b[1;32m    423\u001b[0m     \u001b[38;5;28;01mreturn\u001b[39;00m \u001b[38;5;28mself\u001b[39m\u001b[38;5;241m.\u001b[39m_forward_redirection(\u001b[38;5;28mself\u001b[39m\u001b[38;5;241m.\u001b[39mmodel, \u001b[38;5;28mself\u001b[39m\u001b[38;5;241m.\u001b[39mlightning_module, \u001b[38;5;124m\"\u001b[39m\u001b[38;5;124mtest_step\u001b[39m\u001b[38;5;124m\"\u001b[39m, \u001b[38;5;241m*\u001b[39margs, \u001b[38;5;241m*\u001b[39m\u001b[38;5;241m*\u001b[39mkwargs)\n\u001b[0;32m--> 424\u001b[0m \u001b[38;5;28;01mreturn\u001b[39;00m \u001b[38;5;28;43mself\u001b[39;49m\u001b[38;5;241;43m.\u001b[39;49m\u001b[43mlightning_module\u001b[49m\u001b[38;5;241;43m.\u001b[39;49m\u001b[43mtest_step\u001b[49m\u001b[43m(\u001b[49m\u001b[38;5;241;43m*\u001b[39;49m\u001b[43margs\u001b[49m\u001b[43m,\u001b[49m\u001b[43m \u001b[49m\u001b[38;5;241;43m*\u001b[39;49m\u001b[38;5;241;43m*\u001b[39;49m\u001b[43mkwargs\u001b[49m\u001b[43m)\u001b[49m\n",
      "File \u001b[0;32m~/Desktop/sc4002-nlp-sentiment-classification/models/RNN.py:167\u001b[0m, in \u001b[0;36mRNNClassifier.test_step\u001b[0;34m(self, batch, batch_idx)\u001b[0m\n\u001b[1;32m    164\u001b[0m labels \u001b[38;5;241m=\u001b[39m batch[\u001b[38;5;124m\"\u001b[39m\u001b[38;5;124mlabel\u001b[39m\u001b[38;5;124m\"\u001b[39m]\n\u001b[1;32m    165\u001b[0m original_lens \u001b[38;5;241m=\u001b[39m batch[\u001b[38;5;124m\"\u001b[39m\u001b[38;5;124moriginal_len\u001b[39m\u001b[38;5;124m\"\u001b[39m]\n\u001b[0;32m--> 167\u001b[0m logits \u001b[38;5;241m=\u001b[39m \u001b[38;5;28;43mself\u001b[39;49m\u001b[38;5;241;43m.\u001b[39;49m\u001b[43mmodel\u001b[49m\u001b[43m(\u001b[49m\u001b[43mindexes\u001b[49m\u001b[43m,\u001b[49m\u001b[43m \u001b[49m\u001b[43moriginal_lens\u001b[49m\u001b[43m)\u001b[49m\n\u001b[1;32m    169\u001b[0m loss \u001b[38;5;241m=\u001b[39m F\u001b[38;5;241m.\u001b[39mcross_entropy(logits, labels)\n\u001b[1;32m    170\u001b[0m acc \u001b[38;5;241m=\u001b[39m \u001b[38;5;28mself\u001b[39m\u001b[38;5;241m.\u001b[39mmetric(logits, labels)\n",
      "File \u001b[0;32m~/.pyenv/versions/3.9.6/lib/python3.9/site-packages/torch/nn/modules/module.py:1553\u001b[0m, in \u001b[0;36mModule._wrapped_call_impl\u001b[0;34m(self, *args, **kwargs)\u001b[0m\n\u001b[1;32m   1551\u001b[0m     \u001b[38;5;28;01mreturn\u001b[39;00m \u001b[38;5;28mself\u001b[39m\u001b[38;5;241m.\u001b[39m_compiled_call_impl(\u001b[38;5;241m*\u001b[39margs, \u001b[38;5;241m*\u001b[39m\u001b[38;5;241m*\u001b[39mkwargs)  \u001b[38;5;66;03m# type: ignore[misc]\u001b[39;00m\n\u001b[1;32m   1552\u001b[0m \u001b[38;5;28;01melse\u001b[39;00m:\n\u001b[0;32m-> 1553\u001b[0m     \u001b[38;5;28;01mreturn\u001b[39;00m \u001b[38;5;28;43mself\u001b[39;49m\u001b[38;5;241;43m.\u001b[39;49m\u001b[43m_call_impl\u001b[49m\u001b[43m(\u001b[49m\u001b[38;5;241;43m*\u001b[39;49m\u001b[43margs\u001b[49m\u001b[43m,\u001b[49m\u001b[43m \u001b[49m\u001b[38;5;241;43m*\u001b[39;49m\u001b[38;5;241;43m*\u001b[39;49m\u001b[43mkwargs\u001b[49m\u001b[43m)\u001b[49m\n",
      "File \u001b[0;32m~/.pyenv/versions/3.9.6/lib/python3.9/site-packages/torch/nn/modules/module.py:1562\u001b[0m, in \u001b[0;36mModule._call_impl\u001b[0;34m(self, *args, **kwargs)\u001b[0m\n\u001b[1;32m   1557\u001b[0m \u001b[38;5;66;03m# If we don't have any hooks, we want to skip the rest of the logic in\u001b[39;00m\n\u001b[1;32m   1558\u001b[0m \u001b[38;5;66;03m# this function, and just call forward.\u001b[39;00m\n\u001b[1;32m   1559\u001b[0m \u001b[38;5;28;01mif\u001b[39;00m \u001b[38;5;129;01mnot\u001b[39;00m (\u001b[38;5;28mself\u001b[39m\u001b[38;5;241m.\u001b[39m_backward_hooks \u001b[38;5;129;01mor\u001b[39;00m \u001b[38;5;28mself\u001b[39m\u001b[38;5;241m.\u001b[39m_backward_pre_hooks \u001b[38;5;129;01mor\u001b[39;00m \u001b[38;5;28mself\u001b[39m\u001b[38;5;241m.\u001b[39m_forward_hooks \u001b[38;5;129;01mor\u001b[39;00m \u001b[38;5;28mself\u001b[39m\u001b[38;5;241m.\u001b[39m_forward_pre_hooks\n\u001b[1;32m   1560\u001b[0m         \u001b[38;5;129;01mor\u001b[39;00m _global_backward_pre_hooks \u001b[38;5;129;01mor\u001b[39;00m _global_backward_hooks\n\u001b[1;32m   1561\u001b[0m         \u001b[38;5;129;01mor\u001b[39;00m _global_forward_hooks \u001b[38;5;129;01mor\u001b[39;00m _global_forward_pre_hooks):\n\u001b[0;32m-> 1562\u001b[0m     \u001b[38;5;28;01mreturn\u001b[39;00m \u001b[43mforward_call\u001b[49m\u001b[43m(\u001b[49m\u001b[38;5;241;43m*\u001b[39;49m\u001b[43margs\u001b[49m\u001b[43m,\u001b[49m\u001b[43m \u001b[49m\u001b[38;5;241;43m*\u001b[39;49m\u001b[38;5;241;43m*\u001b[39;49m\u001b[43mkwargs\u001b[49m\u001b[43m)\u001b[49m\n\u001b[1;32m   1564\u001b[0m \u001b[38;5;28;01mtry\u001b[39;00m:\n\u001b[1;32m   1565\u001b[0m     result \u001b[38;5;241m=\u001b[39m \u001b[38;5;28;01mNone\u001b[39;00m\n",
      "File \u001b[0;32m~/Desktop/sc4002-nlp-sentiment-classification/models/RNN.py:79\u001b[0m, in \u001b[0;36mRNN.forward\u001b[0;34m(self, sequences, original_len)\u001b[0m\n\u001b[1;32m     78\u001b[0m \u001b[38;5;28;01mdef\u001b[39;00m \u001b[38;5;21mforward\u001b[39m(\u001b[38;5;28mself\u001b[39m, sequences, original_len):\n\u001b[0;32m---> 79\u001b[0m     embeddings \u001b[38;5;241m=\u001b[39m \u001b[38;5;28;43mself\u001b[39;49m\u001b[38;5;241;43m.\u001b[39;49m\u001b[43membedding\u001b[49m\u001b[43m(\u001b[49m\u001b[43msequences\u001b[49m\u001b[43m)\u001b[49m\n\u001b[1;32m     81\u001b[0m     \u001b[38;5;66;03m# Handle variable length sequences\u001b[39;00m\n\u001b[1;32m     82\u001b[0m     packed_input \u001b[38;5;241m=\u001b[39m pack_padded_sequence(\n\u001b[1;32m     83\u001b[0m         embeddings,\n\u001b[1;32m     84\u001b[0m         lengths\u001b[38;5;241m=\u001b[39moriginal_len,\n\u001b[1;32m     85\u001b[0m         enforce_sorted\u001b[38;5;241m=\u001b[39m\u001b[38;5;28;01mFalse\u001b[39;00m,\n\u001b[1;32m     86\u001b[0m         batch_first\u001b[38;5;241m=\u001b[39m\u001b[38;5;28;01mTrue\u001b[39;00m,\n\u001b[1;32m     87\u001b[0m     )\n",
      "File \u001b[0;32m~/.pyenv/versions/3.9.6/lib/python3.9/site-packages/torch/nn/modules/module.py:1553\u001b[0m, in \u001b[0;36mModule._wrapped_call_impl\u001b[0;34m(self, *args, **kwargs)\u001b[0m\n\u001b[1;32m   1551\u001b[0m     \u001b[38;5;28;01mreturn\u001b[39;00m \u001b[38;5;28mself\u001b[39m\u001b[38;5;241m.\u001b[39m_compiled_call_impl(\u001b[38;5;241m*\u001b[39margs, \u001b[38;5;241m*\u001b[39m\u001b[38;5;241m*\u001b[39mkwargs)  \u001b[38;5;66;03m# type: ignore[misc]\u001b[39;00m\n\u001b[1;32m   1552\u001b[0m \u001b[38;5;28;01melse\u001b[39;00m:\n\u001b[0;32m-> 1553\u001b[0m     \u001b[38;5;28;01mreturn\u001b[39;00m \u001b[38;5;28;43mself\u001b[39;49m\u001b[38;5;241;43m.\u001b[39;49m\u001b[43m_call_impl\u001b[49m\u001b[43m(\u001b[49m\u001b[38;5;241;43m*\u001b[39;49m\u001b[43margs\u001b[49m\u001b[43m,\u001b[49m\u001b[43m \u001b[49m\u001b[38;5;241;43m*\u001b[39;49m\u001b[38;5;241;43m*\u001b[39;49m\u001b[43mkwargs\u001b[49m\u001b[43m)\u001b[49m\n",
      "File \u001b[0;32m~/.pyenv/versions/3.9.6/lib/python3.9/site-packages/torch/nn/modules/module.py:1562\u001b[0m, in \u001b[0;36mModule._call_impl\u001b[0;34m(self, *args, **kwargs)\u001b[0m\n\u001b[1;32m   1557\u001b[0m \u001b[38;5;66;03m# If we don't have any hooks, we want to skip the rest of the logic in\u001b[39;00m\n\u001b[1;32m   1558\u001b[0m \u001b[38;5;66;03m# this function, and just call forward.\u001b[39;00m\n\u001b[1;32m   1559\u001b[0m \u001b[38;5;28;01mif\u001b[39;00m \u001b[38;5;129;01mnot\u001b[39;00m (\u001b[38;5;28mself\u001b[39m\u001b[38;5;241m.\u001b[39m_backward_hooks \u001b[38;5;129;01mor\u001b[39;00m \u001b[38;5;28mself\u001b[39m\u001b[38;5;241m.\u001b[39m_backward_pre_hooks \u001b[38;5;129;01mor\u001b[39;00m \u001b[38;5;28mself\u001b[39m\u001b[38;5;241m.\u001b[39m_forward_hooks \u001b[38;5;129;01mor\u001b[39;00m \u001b[38;5;28mself\u001b[39m\u001b[38;5;241m.\u001b[39m_forward_pre_hooks\n\u001b[1;32m   1560\u001b[0m         \u001b[38;5;129;01mor\u001b[39;00m _global_backward_pre_hooks \u001b[38;5;129;01mor\u001b[39;00m _global_backward_hooks\n\u001b[1;32m   1561\u001b[0m         \u001b[38;5;129;01mor\u001b[39;00m _global_forward_hooks \u001b[38;5;129;01mor\u001b[39;00m _global_forward_pre_hooks):\n\u001b[0;32m-> 1562\u001b[0m     \u001b[38;5;28;01mreturn\u001b[39;00m \u001b[43mforward_call\u001b[49m\u001b[43m(\u001b[49m\u001b[38;5;241;43m*\u001b[39;49m\u001b[43margs\u001b[49m\u001b[43m,\u001b[49m\u001b[43m \u001b[49m\u001b[38;5;241;43m*\u001b[39;49m\u001b[38;5;241;43m*\u001b[39;49m\u001b[43mkwargs\u001b[49m\u001b[43m)\u001b[49m\n\u001b[1;32m   1564\u001b[0m \u001b[38;5;28;01mtry\u001b[39;00m:\n\u001b[1;32m   1565\u001b[0m     result \u001b[38;5;241m=\u001b[39m \u001b[38;5;28;01mNone\u001b[39;00m\n",
      "File \u001b[0;32m~/.pyenv/versions/3.9.6/lib/python3.9/site-packages/torch/nn/modules/sparse.py:164\u001b[0m, in \u001b[0;36mEmbedding.forward\u001b[0;34m(self, input)\u001b[0m\n\u001b[1;32m    163\u001b[0m \u001b[38;5;28;01mdef\u001b[39;00m \u001b[38;5;21mforward\u001b[39m(\u001b[38;5;28mself\u001b[39m, \u001b[38;5;28minput\u001b[39m: Tensor) \u001b[38;5;241m-\u001b[39m\u001b[38;5;241m>\u001b[39m Tensor:\n\u001b[0;32m--> 164\u001b[0m     \u001b[38;5;28;01mreturn\u001b[39;00m \u001b[43mF\u001b[49m\u001b[38;5;241;43m.\u001b[39;49m\u001b[43membedding\u001b[49m\u001b[43m(\u001b[49m\n\u001b[1;32m    165\u001b[0m \u001b[43m        \u001b[49m\u001b[38;5;28;43minput\u001b[39;49m\u001b[43m,\u001b[49m\u001b[43m \u001b[49m\u001b[38;5;28;43mself\u001b[39;49m\u001b[38;5;241;43m.\u001b[39;49m\u001b[43mweight\u001b[49m\u001b[43m,\u001b[49m\u001b[43m \u001b[49m\u001b[38;5;28;43mself\u001b[39;49m\u001b[38;5;241;43m.\u001b[39;49m\u001b[43mpadding_idx\u001b[49m\u001b[43m,\u001b[49m\u001b[43m \u001b[49m\u001b[38;5;28;43mself\u001b[39;49m\u001b[38;5;241;43m.\u001b[39;49m\u001b[43mmax_norm\u001b[49m\u001b[43m,\u001b[49m\n\u001b[1;32m    166\u001b[0m \u001b[43m        \u001b[49m\u001b[38;5;28;43mself\u001b[39;49m\u001b[38;5;241;43m.\u001b[39;49m\u001b[43mnorm_type\u001b[49m\u001b[43m,\u001b[49m\u001b[43m \u001b[49m\u001b[38;5;28;43mself\u001b[39;49m\u001b[38;5;241;43m.\u001b[39;49m\u001b[43mscale_grad_by_freq\u001b[49m\u001b[43m,\u001b[49m\u001b[43m \u001b[49m\u001b[38;5;28;43mself\u001b[39;49m\u001b[38;5;241;43m.\u001b[39;49m\u001b[43msparse\u001b[49m\u001b[43m)\u001b[49m\n",
      "File \u001b[0;32m~/.pyenv/versions/3.9.6/lib/python3.9/site-packages/torch/nn/functional.py:2267\u001b[0m, in \u001b[0;36membedding\u001b[0;34m(input, weight, padding_idx, max_norm, norm_type, scale_grad_by_freq, sparse)\u001b[0m\n\u001b[1;32m   2261\u001b[0m     \u001b[38;5;66;03m# Note [embedding_renorm set_grad_enabled]\u001b[39;00m\n\u001b[1;32m   2262\u001b[0m     \u001b[38;5;66;03m# XXX: equivalent to\u001b[39;00m\n\u001b[1;32m   2263\u001b[0m     \u001b[38;5;66;03m# with torch.no_grad():\u001b[39;00m\n\u001b[1;32m   2264\u001b[0m     \u001b[38;5;66;03m#   torch.embedding_renorm_\u001b[39;00m\n\u001b[1;32m   2265\u001b[0m     \u001b[38;5;66;03m# remove once script supports set_grad_enabled\u001b[39;00m\n\u001b[1;32m   2266\u001b[0m     _no_grad_embedding_renorm_(weight, \u001b[38;5;28minput\u001b[39m, max_norm, norm_type)\n\u001b[0;32m-> 2267\u001b[0m \u001b[38;5;28;01mreturn\u001b[39;00m \u001b[43mtorch\u001b[49m\u001b[38;5;241;43m.\u001b[39;49m\u001b[43membedding\u001b[49m\u001b[43m(\u001b[49m\u001b[43mweight\u001b[49m\u001b[43m,\u001b[49m\u001b[43m \u001b[49m\u001b[38;5;28;43minput\u001b[39;49m\u001b[43m,\u001b[49m\u001b[43m \u001b[49m\u001b[43mpadding_idx\u001b[49m\u001b[43m,\u001b[49m\u001b[43m \u001b[49m\u001b[43mscale_grad_by_freq\u001b[49m\u001b[43m,\u001b[49m\u001b[43m \u001b[49m\u001b[43msparse\u001b[49m\u001b[43m)\u001b[49m\n",
      "\u001b[0;31mIndexError\u001b[0m: index out of range in self"
     ]
    }
   ],
   "source": [
    "from utils.analytics import test_top_n_models\n",
    "from models.RNN import RNNClassifier\n",
    "\n",
    "test_results_df = test_top_n_models(train_results_df, RNNClassifier, test_dataset, n=5)"
   ]
  },
  {
   "cell_type": "code",
   "execution_count": null,
   "metadata": {},
   "outputs": [],
   "source": [
    "test_results_df"
   ]
  }
 ],
 "metadata": {
  "kernelspec": {
   "display_name": "venv",
   "language": "python",
   "name": "python3"
  },
  "language_info": {
   "codemirror_mode": {
    "name": "ipython",
    "version": 3
   },
   "file_extension": ".py",
   "mimetype": "text/x-python",
   "name": "python",
   "nbconvert_exporter": "python",
   "pygments_lexer": "ipython3",
   "version": "3.9.6"
  }
 },
 "nbformat": 4,
 "nbformat_minor": 2
}
