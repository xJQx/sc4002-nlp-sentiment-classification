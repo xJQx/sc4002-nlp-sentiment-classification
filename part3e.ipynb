{
 "cells": [
  {
   "cell_type": "markdown",
   "metadata": {},
   "source": [
    "# Part 3.5 - Improvements"
   ]
  },
  {
   "cell_type": "markdown",
   "metadata": {},
   "source": [
    "> See `part3_5_pipeline.py` for code to run the training.\n",
    "\n",
    "We will try different transformers model architecture and training mode to find the best method for sentiment analysis:\n",
    "\n",
    "\n",
    "| **Model**   | **Architecture**  | **Training Mode**                | **Description**                                                     |\n",
    "|-------------|-------------------|----------------------------------|---------------------------------------------------------------------|\n",
    "| **RoBERTa** | Encoder Only      | Pretrained                       | The original pretrained RoBERTa model, trained on a general corpus. |\n",
    "|             |                   | Fine-Tuned on Sentiment Analysis | RoBERTa fine-tuned on sentiment analysis.                           |\n",
    "| **GPT-2**   | Decoder Only      | Pretrained                       | The original pretrained GPT-2 model, trained on a general corpus.   |\n",
    "|             |                   | Fine-Tuned on Sentiment Analysis | GPT-2 fine-tuned on sentiment analysis.                             |\n",
    "| **T5**      | Encoder + Decoder | Pretrained                       | The original T5 model, trained on a general corpus.                 |\n",
    "\n"
   ]
  },
  {
   "cell_type": "code",
   "execution_count": 2,
   "metadata": {},
   "outputs": [
    {
     "data": {
      "text/html": [
       "<div>\n",
       "<style scoped>\n",
       "    .dataframe tbody tr th:only-of-type {\n",
       "        vertical-align: middle;\n",
       "    }\n",
       "\n",
       "    .dataframe tbody tr th {\n",
       "        vertical-align: top;\n",
       "    }\n",
       "\n",
       "    .dataframe thead th {\n",
       "        text-align: right;\n",
       "    }\n",
       "</style>\n",
       "<table border=\"1\" class=\"dataframe\">\n",
       "  <thead>\n",
       "    <tr style=\"text-align: right;\">\n",
       "      <th></th>\n",
       "      <th>model</th>\n",
       "      <th>val_acc</th>\n",
       "      <th>val_loss</th>\n",
       "      <th>test_acc</th>\n",
       "      <th>filename</th>\n",
       "    </tr>\n",
       "  </thead>\n",
       "  <tbody>\n",
       "    <tr>\n",
       "      <th>0</th>\n",
       "      <td>roberta-finetuned</td>\n",
       "      <td>0.888368</td>\n",
       "      <td>0.356488</td>\n",
       "      <td>0.858417</td>\n",
       "      <td>events.out.tfevents.1730547046.yuriarch.51191.0</td>\n",
       "    </tr>\n",
       "    <tr>\n",
       "      <th>1</th>\n",
       "      <td>gpt2-finetuned</td>\n",
       "      <td>0.881801</td>\n",
       "      <td>0.332477</td>\n",
       "      <td>0.853659</td>\n",
       "      <td>events.out.tfevents.1730720697.yuriarch.3740.0</td>\n",
       "    </tr>\n",
       "    <tr>\n",
       "      <th>2</th>\n",
       "      <td>roberta</td>\n",
       "      <td>0.873358</td>\n",
       "      <td>0.341587</td>\n",
       "      <td>0.858349</td>\n",
       "      <td>events.out.tfevents.1730785167.yuriarch.1754.0</td>\n",
       "    </tr>\n",
       "    <tr>\n",
       "      <th>3</th>\n",
       "      <td>gpt2</td>\n",
       "      <td>0.866792</td>\n",
       "      <td>0.333615</td>\n",
       "      <td>0.850844</td>\n",
       "      <td>events.out.tfevents.1730824378.1e14d39e96a8.15...</td>\n",
       "    </tr>\n",
       "    <tr>\n",
       "      <th>4</th>\n",
       "      <td>t5</td>\n",
       "      <td>0.854597</td>\n",
       "      <td>0.361825</td>\n",
       "      <td>0.842402</td>\n",
       "      <td>events.out.tfevents.1730885598.776fcca9ca6f.65...</td>\n",
       "    </tr>\n",
       "  </tbody>\n",
       "</table>\n",
       "</div>"
      ],
      "text/plain": [
       "               model   val_acc  val_loss  test_acc  \\\n",
       "0  roberta-finetuned  0.888368  0.356488  0.858417   \n",
       "1     gpt2-finetuned  0.881801  0.332477  0.853659   \n",
       "2            roberta  0.873358  0.341587  0.858349   \n",
       "3               gpt2  0.866792  0.333615  0.850844   \n",
       "4                 t5  0.854597  0.361825  0.842402   \n",
       "\n",
       "                                            filename  \n",
       "0    events.out.tfevents.1730547046.yuriarch.51191.0  \n",
       "1     events.out.tfevents.1730720697.yuriarch.3740.0  \n",
       "2     events.out.tfevents.1730785167.yuriarch.1754.0  \n",
       "3  events.out.tfevents.1730824378.1e14d39e96a8.15...  \n",
       "4  events.out.tfevents.1730885598.776fcca9ca6f.65...  "
      ]
     },
     "execution_count": 2,
     "metadata": {},
     "output_type": "execute_result"
    }
   ],
   "source": [
    "from utils.analytics import load_tensorboard_logs_from_huggingface_trainer\n",
    "\n",
    "results_df = load_tensorboard_logs_from_huggingface_trainer(\"part3_5_logs/\")\n",
    "\n",
    "\n",
    "# Test accuracy that was printed to the terminal:\n",
    "test_accuracies = {\n",
    "    \"roberta\": 0.8583489656448364,\n",
    "    \"roberta-finetuned\": 0.8584173729742681,\n",
    "    \"gpt2-finetuned\": 0.8536585569381714,\n",
    "    \"gpt2\": 0.8508442640304565,\n",
    "    \"t5\": 0.8424015045166016,\n",
    "}\n",
    "\n",
    "results_df[\"test_acc\"] = results_df[\"model\"].map(test_accuracies)\n",
    "results_df = results_df[[\"model\", \"val_acc\", \"val_loss\", \"test_acc\", \"filename\"]]\n",
    "results_df = results_df.sort_values(\"val_acc\", ascending=False).reset_index(drop=True)\n",
    "\n",
    "results_df"
   ]
  },
  {
   "cell_type": "code",
   "execution_count": null,
   "metadata": {},
   "outputs": [],
   "source": []
  }
 ],
 "metadata": {
  "kernelspec": {
   "display_name": "Python 3",
   "language": "python",
   "name": "python3"
  },
  "language_info": {
   "codemirror_mode": {
    "name": "ipython",
    "version": 3
   },
   "file_extension": ".py",
   "mimetype": "text/x-python",
   "name": "python",
   "nbconvert_exporter": "python",
   "pygments_lexer": "ipython3",
   "version": "3.12.4"
  },
  "orig_nbformat": 4
 },
 "nbformat": 4,
 "nbformat_minor": 2
}
